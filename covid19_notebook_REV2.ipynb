{
 "cells": [
  {
   "cell_type": "markdown",
   "metadata": {},
   "source": [
    "# Ejercicio Covid-19"
   ]
  },
  {
   "cell_type": "code",
   "execution_count": 1,
   "metadata": {},
   "outputs": [
    {
     "output_type": "execute_result",
     "data": {
      "text/plain": "'2020-05-21'"
     },
     "metadata": {},
     "execution_count": 1
    }
   ],
   "source": [
    "import os\n",
    "import numpy as np\n",
    "import pandas as pd\n",
    "\n",
    "#Fechas de hoy(datos España) y ayer (datos inetrnacionales)\n",
    "from datetime import datetime, timedelta\n",
    "from datetime import date\n",
    "date_today = date.today()\n",
    "date_today_complete = date.today()\n",
    "date_daybefore = date_today - timedelta(days=1)\n",
    "date_today = date_today.strftime('%d/%m')\n",
    "date_daybefore2 = date_daybefore.strftime('%d/%m')\n",
    "date_today = date.today()\n",
    "date_daymorebefore = date_today - timedelta(days=2)\n",
    "\n",
    "date_today_large = date_today_complete.strftime('%Y-%m-%d')\n",
    "date_daybefore_large = date_daybefore.strftime('%Y-%m-%d')\n",
    "date_daymorebefore_large = date_daymorebefore.strftime('%Y-%m-%d')\n",
    "### En Mayo dejaron de darse datos de Recuperados diariamente, se quitó de los gráficos.\n",
    "date_daymorebefore_large"
   ]
  },
  {
   "cell_type": "markdown",
   "metadata": {},
   "source": [
    "## Traer los datos de Datadista"
   ]
  },
  {
   "cell_type": "code",
   "execution_count": 3,
   "metadata": {},
   "outputs": [
    {
     "output_type": "execute_result",
     "data": {
      "text/plain": "    cod_ine                CCAA  2020-02-21  2020-02-22  2020-02-23  \\\n0         1           Andalucía           0           0           0   \n1         2              Aragón           0           0           0   \n2         3            Asturias           0           0           0   \n3         4            Baleares           1           1           1   \n4         5            Canarias           1           1           1   \n5         6           Cantabria           0           0           0   \n6         8  Castilla La Mancha           0           0           0   \n7         7     Castilla y León           0           0           0   \n8         9            Cataluña           0           0           0   \n9        18               Ceuta           0           0           0   \n10       10       C. Valenciana           0           0           0   \n11       11         Extremadura           0           0           0   \n12       12             Galicia           0           0           0   \n13       13              Madrid           1           1           1   \n14       19             Melilla           0           0           0   \n15       14              Murcia           0           0           0   \n16       15             Navarra           0           0           0   \n17       16          País Vasco           0           0           0   \n18       17            La Rioja           0           0           0   \n\n    2020-02-24  2020-02-25  2020-02-26  2020-02-27  2020-02-28  ...  \\\n0            0           0           0           1           6  ...   \n1            0           0           0           0           0  ...   \n2            0           0           0           0           0  ...   \n3            1           1           1           1           1  ...   \n4            1           2           5           6           6  ...   \n5            0           0           0           0           0  ...   \n6            0           0           0           0           0  ...   \n7            0           0           0           0           2  ...   \n8            0           0           1           2           3  ...   \n9            0           0           0           0           0  ...   \n10           0           0           1           2           8  ...   \n11           0           0           0           0           0  ...   \n12           0           0           0           0           0  ...   \n13           1           1           2           6          10  ...   \n14           0           0           0           0           0  ...   \n15           0           0           0           0           0  ...   \n16           0           0           0           0           0  ...   \n17           0           0           0           0           0  ...   \n18           0           0           0           0           0  ...   \n\n    2020-05-12  2020-05-13  2020-05-14  2020-05-15  2020-05-16  2020-05-17  \\\n0        15522       15629       15823       16068       16263       16432   \n1         6797        6856        6943        7015        7125        7177   \n2         3227        3252        3267        3300        3327        3344   \n3         2054        2059        2060        2069        2085        2094   \n4         2268        2271        2275        2280        2284        2289   \n5         2691        2733        2739        2761        2770        2773   \n6        24051       24185       24331       24527       24776       24908   \n7        24170       24262       24379       24498       24595       24696   \n8        56787       56930       56956       57205       57328       57467   \n9          173         173         175         175         175         175   \n10       13990       14101       14202       14438       14571       14701   \n11        3920        3922        3926        3934        3945        3948   \n12       10449       10495       10545       10605       10934       10960   \n13       70764       71064       71273       71616       71932       71956   \n14         132         132         132         132         132         134   \n15        2333        2398        2437        2477        2546        2566   \n16        7637        7752        7891        8082        8235        8293   \n17       17895       18141       18184       18213       18564       18690   \n18        5392        5397        5405        5409        5413        5417   \n\n    2020-05-18  2020-05-19  2020-05-20  2020-05-21  \n0        16457       16488       16501       16546  \n1         7201        7271        7302        7339  \n2         3355        3358        3359        3359  \n3         2096        2109        2122        2131  \n4         2294        2294        2300        2307  \n5         2774        2782        2787        2798  \n6        25014       25074       25285       25423  \n7        24746       24834       24876       24918  \n8        57564       57468       57531       57531  \n9          175         176         178         178  \n10       14736       14737       14759       14797  \n11        3949        4039        4041        4043  \n12       10982       11024       11081       11103  \n13       71995       72121       72260       72342  \n14         134         134         134         134  \n15        2595        2597        2599        2609  \n16        8335        8340        8349        8352  \n17       18729       18744       18770       18779  \n18        5417        5422        5428        5428  \n\n[19 rows x 93 columns]",
      "text/html": "<div>\n<style scoped>\n    .dataframe tbody tr th:only-of-type {\n        vertical-align: middle;\n    }\n\n    .dataframe tbody tr th {\n        vertical-align: top;\n    }\n\n    .dataframe thead th {\n        text-align: right;\n    }\n</style>\n<table border=\"1\" class=\"dataframe\">\n  <thead>\n    <tr style=\"text-align: right;\">\n      <th></th>\n      <th>cod_ine</th>\n      <th>CCAA</th>\n      <th>2020-02-21</th>\n      <th>2020-02-22</th>\n      <th>2020-02-23</th>\n      <th>2020-02-24</th>\n      <th>2020-02-25</th>\n      <th>2020-02-26</th>\n      <th>2020-02-27</th>\n      <th>2020-02-28</th>\n      <th>...</th>\n      <th>2020-05-12</th>\n      <th>2020-05-13</th>\n      <th>2020-05-14</th>\n      <th>2020-05-15</th>\n      <th>2020-05-16</th>\n      <th>2020-05-17</th>\n      <th>2020-05-18</th>\n      <th>2020-05-19</th>\n      <th>2020-05-20</th>\n      <th>2020-05-21</th>\n    </tr>\n  </thead>\n  <tbody>\n    <tr>\n      <th>0</th>\n      <td>1</td>\n      <td>Andalucía</td>\n      <td>0</td>\n      <td>0</td>\n      <td>0</td>\n      <td>0</td>\n      <td>0</td>\n      <td>0</td>\n      <td>1</td>\n      <td>6</td>\n      <td>...</td>\n      <td>15522</td>\n      <td>15629</td>\n      <td>15823</td>\n      <td>16068</td>\n      <td>16263</td>\n      <td>16432</td>\n      <td>16457</td>\n      <td>16488</td>\n      <td>16501</td>\n      <td>16546</td>\n    </tr>\n    <tr>\n      <th>1</th>\n      <td>2</td>\n      <td>Aragón</td>\n      <td>0</td>\n      <td>0</td>\n      <td>0</td>\n      <td>0</td>\n      <td>0</td>\n      <td>0</td>\n      <td>0</td>\n      <td>0</td>\n      <td>...</td>\n      <td>6797</td>\n      <td>6856</td>\n      <td>6943</td>\n      <td>7015</td>\n      <td>7125</td>\n      <td>7177</td>\n      <td>7201</td>\n      <td>7271</td>\n      <td>7302</td>\n      <td>7339</td>\n    </tr>\n    <tr>\n      <th>2</th>\n      <td>3</td>\n      <td>Asturias</td>\n      <td>0</td>\n      <td>0</td>\n      <td>0</td>\n      <td>0</td>\n      <td>0</td>\n      <td>0</td>\n      <td>0</td>\n      <td>0</td>\n      <td>...</td>\n      <td>3227</td>\n      <td>3252</td>\n      <td>3267</td>\n      <td>3300</td>\n      <td>3327</td>\n      <td>3344</td>\n      <td>3355</td>\n      <td>3358</td>\n      <td>3359</td>\n      <td>3359</td>\n    </tr>\n    <tr>\n      <th>3</th>\n      <td>4</td>\n      <td>Baleares</td>\n      <td>1</td>\n      <td>1</td>\n      <td>1</td>\n      <td>1</td>\n      <td>1</td>\n      <td>1</td>\n      <td>1</td>\n      <td>1</td>\n      <td>...</td>\n      <td>2054</td>\n      <td>2059</td>\n      <td>2060</td>\n      <td>2069</td>\n      <td>2085</td>\n      <td>2094</td>\n      <td>2096</td>\n      <td>2109</td>\n      <td>2122</td>\n      <td>2131</td>\n    </tr>\n    <tr>\n      <th>4</th>\n      <td>5</td>\n      <td>Canarias</td>\n      <td>1</td>\n      <td>1</td>\n      <td>1</td>\n      <td>1</td>\n      <td>2</td>\n      <td>5</td>\n      <td>6</td>\n      <td>6</td>\n      <td>...</td>\n      <td>2268</td>\n      <td>2271</td>\n      <td>2275</td>\n      <td>2280</td>\n      <td>2284</td>\n      <td>2289</td>\n      <td>2294</td>\n      <td>2294</td>\n      <td>2300</td>\n      <td>2307</td>\n    </tr>\n    <tr>\n      <th>5</th>\n      <td>6</td>\n      <td>Cantabria</td>\n      <td>0</td>\n      <td>0</td>\n      <td>0</td>\n      <td>0</td>\n      <td>0</td>\n      <td>0</td>\n      <td>0</td>\n      <td>0</td>\n      <td>...</td>\n      <td>2691</td>\n      <td>2733</td>\n      <td>2739</td>\n      <td>2761</td>\n      <td>2770</td>\n      <td>2773</td>\n      <td>2774</td>\n      <td>2782</td>\n      <td>2787</td>\n      <td>2798</td>\n    </tr>\n    <tr>\n      <th>6</th>\n      <td>8</td>\n      <td>Castilla La Mancha</td>\n      <td>0</td>\n      <td>0</td>\n      <td>0</td>\n      <td>0</td>\n      <td>0</td>\n      <td>0</td>\n      <td>0</td>\n      <td>0</td>\n      <td>...</td>\n      <td>24051</td>\n      <td>24185</td>\n      <td>24331</td>\n      <td>24527</td>\n      <td>24776</td>\n      <td>24908</td>\n      <td>25014</td>\n      <td>25074</td>\n      <td>25285</td>\n      <td>25423</td>\n    </tr>\n    <tr>\n      <th>7</th>\n      <td>7</td>\n      <td>Castilla y León</td>\n      <td>0</td>\n      <td>0</td>\n      <td>0</td>\n      <td>0</td>\n      <td>0</td>\n      <td>0</td>\n      <td>0</td>\n      <td>2</td>\n      <td>...</td>\n      <td>24170</td>\n      <td>24262</td>\n      <td>24379</td>\n      <td>24498</td>\n      <td>24595</td>\n      <td>24696</td>\n      <td>24746</td>\n      <td>24834</td>\n      <td>24876</td>\n      <td>24918</td>\n    </tr>\n    <tr>\n      <th>8</th>\n      <td>9</td>\n      <td>Cataluña</td>\n      <td>0</td>\n      <td>0</td>\n      <td>0</td>\n      <td>0</td>\n      <td>0</td>\n      <td>1</td>\n      <td>2</td>\n      <td>3</td>\n      <td>...</td>\n      <td>56787</td>\n      <td>56930</td>\n      <td>56956</td>\n      <td>57205</td>\n      <td>57328</td>\n      <td>57467</td>\n      <td>57564</td>\n      <td>57468</td>\n      <td>57531</td>\n      <td>57531</td>\n    </tr>\n    <tr>\n      <th>9</th>\n      <td>18</td>\n      <td>Ceuta</td>\n      <td>0</td>\n      <td>0</td>\n      <td>0</td>\n      <td>0</td>\n      <td>0</td>\n      <td>0</td>\n      <td>0</td>\n      <td>0</td>\n      <td>...</td>\n      <td>173</td>\n      <td>173</td>\n      <td>175</td>\n      <td>175</td>\n      <td>175</td>\n      <td>175</td>\n      <td>175</td>\n      <td>176</td>\n      <td>178</td>\n      <td>178</td>\n    </tr>\n    <tr>\n      <th>10</th>\n      <td>10</td>\n      <td>C. Valenciana</td>\n      <td>0</td>\n      <td>0</td>\n      <td>0</td>\n      <td>0</td>\n      <td>0</td>\n      <td>1</td>\n      <td>2</td>\n      <td>8</td>\n      <td>...</td>\n      <td>13990</td>\n      <td>14101</td>\n      <td>14202</td>\n      <td>14438</td>\n      <td>14571</td>\n      <td>14701</td>\n      <td>14736</td>\n      <td>14737</td>\n      <td>14759</td>\n      <td>14797</td>\n    </tr>\n    <tr>\n      <th>11</th>\n      <td>11</td>\n      <td>Extremadura</td>\n      <td>0</td>\n      <td>0</td>\n      <td>0</td>\n      <td>0</td>\n      <td>0</td>\n      <td>0</td>\n      <td>0</td>\n      <td>0</td>\n      <td>...</td>\n      <td>3920</td>\n      <td>3922</td>\n      <td>3926</td>\n      <td>3934</td>\n      <td>3945</td>\n      <td>3948</td>\n      <td>3949</td>\n      <td>4039</td>\n      <td>4041</td>\n      <td>4043</td>\n    </tr>\n    <tr>\n      <th>12</th>\n      <td>12</td>\n      <td>Galicia</td>\n      <td>0</td>\n      <td>0</td>\n      <td>0</td>\n      <td>0</td>\n      <td>0</td>\n      <td>0</td>\n      <td>0</td>\n      <td>0</td>\n      <td>...</td>\n      <td>10449</td>\n      <td>10495</td>\n      <td>10545</td>\n      <td>10605</td>\n      <td>10934</td>\n      <td>10960</td>\n      <td>10982</td>\n      <td>11024</td>\n      <td>11081</td>\n      <td>11103</td>\n    </tr>\n    <tr>\n      <th>13</th>\n      <td>13</td>\n      <td>Madrid</td>\n      <td>1</td>\n      <td>1</td>\n      <td>1</td>\n      <td>1</td>\n      <td>1</td>\n      <td>2</td>\n      <td>6</td>\n      <td>10</td>\n      <td>...</td>\n      <td>70764</td>\n      <td>71064</td>\n      <td>71273</td>\n      <td>71616</td>\n      <td>71932</td>\n      <td>71956</td>\n      <td>71995</td>\n      <td>72121</td>\n      <td>72260</td>\n      <td>72342</td>\n    </tr>\n    <tr>\n      <th>14</th>\n      <td>19</td>\n      <td>Melilla</td>\n      <td>0</td>\n      <td>0</td>\n      <td>0</td>\n      <td>0</td>\n      <td>0</td>\n      <td>0</td>\n      <td>0</td>\n      <td>0</td>\n      <td>...</td>\n      <td>132</td>\n      <td>132</td>\n      <td>132</td>\n      <td>132</td>\n      <td>132</td>\n      <td>134</td>\n      <td>134</td>\n      <td>134</td>\n      <td>134</td>\n      <td>134</td>\n    </tr>\n    <tr>\n      <th>15</th>\n      <td>14</td>\n      <td>Murcia</td>\n      <td>0</td>\n      <td>0</td>\n      <td>0</td>\n      <td>0</td>\n      <td>0</td>\n      <td>0</td>\n      <td>0</td>\n      <td>0</td>\n      <td>...</td>\n      <td>2333</td>\n      <td>2398</td>\n      <td>2437</td>\n      <td>2477</td>\n      <td>2546</td>\n      <td>2566</td>\n      <td>2595</td>\n      <td>2597</td>\n      <td>2599</td>\n      <td>2609</td>\n    </tr>\n    <tr>\n      <th>16</th>\n      <td>15</td>\n      <td>Navarra</td>\n      <td>0</td>\n      <td>0</td>\n      <td>0</td>\n      <td>0</td>\n      <td>0</td>\n      <td>0</td>\n      <td>0</td>\n      <td>0</td>\n      <td>...</td>\n      <td>7637</td>\n      <td>7752</td>\n      <td>7891</td>\n      <td>8082</td>\n      <td>8235</td>\n      <td>8293</td>\n      <td>8335</td>\n      <td>8340</td>\n      <td>8349</td>\n      <td>8352</td>\n    </tr>\n    <tr>\n      <th>17</th>\n      <td>16</td>\n      <td>País Vasco</td>\n      <td>0</td>\n      <td>0</td>\n      <td>0</td>\n      <td>0</td>\n      <td>0</td>\n      <td>0</td>\n      <td>0</td>\n      <td>0</td>\n      <td>...</td>\n      <td>17895</td>\n      <td>18141</td>\n      <td>18184</td>\n      <td>18213</td>\n      <td>18564</td>\n      <td>18690</td>\n      <td>18729</td>\n      <td>18744</td>\n      <td>18770</td>\n      <td>18779</td>\n    </tr>\n    <tr>\n      <th>18</th>\n      <td>17</td>\n      <td>La Rioja</td>\n      <td>0</td>\n      <td>0</td>\n      <td>0</td>\n      <td>0</td>\n      <td>0</td>\n      <td>0</td>\n      <td>0</td>\n      <td>0</td>\n      <td>...</td>\n      <td>5392</td>\n      <td>5397</td>\n      <td>5405</td>\n      <td>5409</td>\n      <td>5413</td>\n      <td>5417</td>\n      <td>5417</td>\n      <td>5422</td>\n      <td>5428</td>\n      <td>5428</td>\n    </tr>\n  </tbody>\n</table>\n<p>19 rows × 93 columns</p>\n</div>"
     },
     "metadata": {},
     "execution_count": 3
    }
   ],
   "source": [
    "data_ccaa_confirmed_timeseries = pd.read_csv(\"https://raw.githubusercontent.com/datadista/datasets/master/COVID%2019/ccaa_covid19_casos.csv\", sep = ',', encoding=\"utf-8\")\n",
    "\n",
    "data_ccaa_deaths_timeseries = pd.read_csv(\"https://raw.githubusercontent.com/datadista/datasets/master/COVID%2019/ccaa_covid19_fallecidos.csv\", sep = ',', encoding=\"utf-8\")\n",
    "\n",
    "### data_ccaa_recovered_timeseries = pd.read_csv(\"https://raw.githubusercontent.com/datadista/datasets/master/COVID%2019/ccaa_covid19_altas.csv\", sep = ',', encoding=\"utf-8\")\n",
    "\n",
    "data_spain_datadista = pd.read_csv(\"https://raw.githubusercontent.com/datadista/datasets/master/COVID%2019/nacional_covid19.csv\")\n",
    "\n",
    "\n",
    "#Comprobar si están subidos los últimos datos, si no sale error es que hay datos.\n",
    "#data_ccaa_recovered_timeseries[date_today_large]\n",
    "data_ccaa_confirmed_timeseries"
   ]
  },
  {
   "cell_type": "markdown",
   "metadata": {},
   "source": [
    "## RESUMEN: Resumen datos globales"
   ]
  },
  {
   "cell_type": "code",
   "execution_count": 4,
   "metadata": {},
   "outputs": [
    {
     "output_type": "error",
     "ename": "KeyError",
     "evalue": "'2020-05-22'",
     "traceback": [
      "\u001b[0;31m---------------------------------------------------------------------------\u001b[0m",
      "\u001b[0;31mKeyError\u001b[0m                                  Traceback (most recent call last)",
      "\u001b[0;32m~/anaconda3/lib/python3.7/site-packages/pandas/core/indexes/base.py\u001b[0m in \u001b[0;36mget_loc\u001b[0;34m(self, key, method, tolerance)\u001b[0m\n\u001b[1;32m   2896\u001b[0m             \u001b[0;32mtry\u001b[0m\u001b[0;34m:\u001b[0m\u001b[0;34m\u001b[0m\u001b[0;34m\u001b[0m\u001b[0m\n\u001b[0;32m-> 2897\u001b[0;31m                 \u001b[0;32mreturn\u001b[0m \u001b[0mself\u001b[0m\u001b[0;34m.\u001b[0m\u001b[0m_engine\u001b[0m\u001b[0;34m.\u001b[0m\u001b[0mget_loc\u001b[0m\u001b[0;34m(\u001b[0m\u001b[0mkey\u001b[0m\u001b[0;34m)\u001b[0m\u001b[0;34m\u001b[0m\u001b[0;34m\u001b[0m\u001b[0m\n\u001b[0m\u001b[1;32m   2898\u001b[0m             \u001b[0;32mexcept\u001b[0m \u001b[0mKeyError\u001b[0m\u001b[0;34m:\u001b[0m\u001b[0;34m\u001b[0m\u001b[0;34m\u001b[0m\u001b[0m\n",
      "\u001b[0;32mpandas/_libs/index.pyx\u001b[0m in \u001b[0;36mpandas._libs.index.IndexEngine.get_loc\u001b[0;34m()\u001b[0m\n",
      "\u001b[0;32mpandas/_libs/index.pyx\u001b[0m in \u001b[0;36mpandas._libs.index.IndexEngine.get_loc\u001b[0;34m()\u001b[0m\n",
      "\u001b[0;32mpandas/_libs/hashtable_class_helper.pxi\u001b[0m in \u001b[0;36mpandas._libs.hashtable.PyObjectHashTable.get_item\u001b[0;34m()\u001b[0m\n",
      "\u001b[0;32mpandas/_libs/hashtable_class_helper.pxi\u001b[0m in \u001b[0;36mpandas._libs.hashtable.PyObjectHashTable.get_item\u001b[0;34m()\u001b[0m\n",
      "\u001b[0;31mKeyError\u001b[0m: '2020-05-22'",
      "\nDuring handling of the above exception, another exception occurred:\n",
      "\u001b[0;31mKeyError\u001b[0m                                  Traceback (most recent call last)",
      "\u001b[0;32m<ipython-input-4-980aa649ca33>\u001b[0m in \u001b[0;36m<module>\u001b[0;34m\u001b[0m\n\u001b[1;32m     39\u001b[0m \u001b[0;34m\u001b[0m\u001b[0m\n\u001b[1;32m     40\u001b[0m \u001b[0;31m# Para España actual(dataset de datadista)\u001b[0m\u001b[0;34m\u001b[0m\u001b[0;34m\u001b[0m\u001b[0;34m\u001b[0m\u001b[0m\n\u001b[0;32m---> 41\u001b[0;31m \u001b[0mdata_confirmed_spain_actual\u001b[0m \u001b[0;34m=\u001b[0m \u001b[0mint\u001b[0m\u001b[0;34m(\u001b[0m\u001b[0mdata_ccaa_confirmed_timeseries\u001b[0m\u001b[0;34m[\u001b[0m\u001b[0mdate_daybefore_large\u001b[0m\u001b[0;34m]\u001b[0m\u001b[0;34m.\u001b[0m\u001b[0msum\u001b[0m\u001b[0;34m(\u001b[0m\u001b[0;34m)\u001b[0m\u001b[0;34m)\u001b[0m\u001b[0;34m\u001b[0m\u001b[0;34m\u001b[0m\u001b[0m\n\u001b[0m\u001b[1;32m     42\u001b[0m \u001b[0;31m### data_recovered_spain_actual = int(data_ccaa_recovered_timeseries[date_today_large].sum())\u001b[0m\u001b[0;34m\u001b[0m\u001b[0;34m\u001b[0m\u001b[0;34m\u001b[0m\u001b[0m\n\u001b[1;32m     43\u001b[0m \u001b[0mdata_deaths_spain_actual\u001b[0m \u001b[0;34m=\u001b[0m \u001b[0mint\u001b[0m\u001b[0;34m(\u001b[0m\u001b[0mdata_ccaa_deaths_timeseries\u001b[0m\u001b[0;34m[\u001b[0m\u001b[0mdate_daybefore_large\u001b[0m\u001b[0;34m]\u001b[0m\u001b[0;34m.\u001b[0m\u001b[0msum\u001b[0m\u001b[0;34m(\u001b[0m\u001b[0;34m)\u001b[0m\u001b[0;34m)\u001b[0m\u001b[0;34m\u001b[0m\u001b[0;34m\u001b[0m\u001b[0m\n",
      "\u001b[0;32m~/anaconda3/lib/python3.7/site-packages/pandas/core/frame.py\u001b[0m in \u001b[0;36m__getitem__\u001b[0;34m(self, key)\u001b[0m\n\u001b[1;32m   2993\u001b[0m             \u001b[0;32mif\u001b[0m \u001b[0mself\u001b[0m\u001b[0;34m.\u001b[0m\u001b[0mcolumns\u001b[0m\u001b[0;34m.\u001b[0m\u001b[0mnlevels\u001b[0m \u001b[0;34m>\u001b[0m \u001b[0;36m1\u001b[0m\u001b[0;34m:\u001b[0m\u001b[0;34m\u001b[0m\u001b[0;34m\u001b[0m\u001b[0m\n\u001b[1;32m   2994\u001b[0m                 \u001b[0;32mreturn\u001b[0m \u001b[0mself\u001b[0m\u001b[0;34m.\u001b[0m\u001b[0m_getitem_multilevel\u001b[0m\u001b[0;34m(\u001b[0m\u001b[0mkey\u001b[0m\u001b[0;34m)\u001b[0m\u001b[0;34m\u001b[0m\u001b[0;34m\u001b[0m\u001b[0m\n\u001b[0;32m-> 2995\u001b[0;31m             \u001b[0mindexer\u001b[0m \u001b[0;34m=\u001b[0m \u001b[0mself\u001b[0m\u001b[0;34m.\u001b[0m\u001b[0mcolumns\u001b[0m\u001b[0;34m.\u001b[0m\u001b[0mget_loc\u001b[0m\u001b[0;34m(\u001b[0m\u001b[0mkey\u001b[0m\u001b[0;34m)\u001b[0m\u001b[0;34m\u001b[0m\u001b[0;34m\u001b[0m\u001b[0m\n\u001b[0m\u001b[1;32m   2996\u001b[0m             \u001b[0;32mif\u001b[0m \u001b[0mis_integer\u001b[0m\u001b[0;34m(\u001b[0m\u001b[0mindexer\u001b[0m\u001b[0;34m)\u001b[0m\u001b[0;34m:\u001b[0m\u001b[0;34m\u001b[0m\u001b[0;34m\u001b[0m\u001b[0m\n\u001b[1;32m   2997\u001b[0m                 \u001b[0mindexer\u001b[0m \u001b[0;34m=\u001b[0m \u001b[0;34m[\u001b[0m\u001b[0mindexer\u001b[0m\u001b[0;34m]\u001b[0m\u001b[0;34m\u001b[0m\u001b[0;34m\u001b[0m\u001b[0m\n",
      "\u001b[0;32m~/anaconda3/lib/python3.7/site-packages/pandas/core/indexes/base.py\u001b[0m in \u001b[0;36mget_loc\u001b[0;34m(self, key, method, tolerance)\u001b[0m\n\u001b[1;32m   2897\u001b[0m                 \u001b[0;32mreturn\u001b[0m \u001b[0mself\u001b[0m\u001b[0;34m.\u001b[0m\u001b[0m_engine\u001b[0m\u001b[0;34m.\u001b[0m\u001b[0mget_loc\u001b[0m\u001b[0;34m(\u001b[0m\u001b[0mkey\u001b[0m\u001b[0;34m)\u001b[0m\u001b[0;34m\u001b[0m\u001b[0;34m\u001b[0m\u001b[0m\n\u001b[1;32m   2898\u001b[0m             \u001b[0;32mexcept\u001b[0m \u001b[0mKeyError\u001b[0m\u001b[0;34m:\u001b[0m\u001b[0;34m\u001b[0m\u001b[0;34m\u001b[0m\u001b[0m\n\u001b[0;32m-> 2899\u001b[0;31m                 \u001b[0;32mreturn\u001b[0m \u001b[0mself\u001b[0m\u001b[0;34m.\u001b[0m\u001b[0m_engine\u001b[0m\u001b[0;34m.\u001b[0m\u001b[0mget_loc\u001b[0m\u001b[0;34m(\u001b[0m\u001b[0mself\u001b[0m\u001b[0;34m.\u001b[0m\u001b[0m_maybe_cast_indexer\u001b[0m\u001b[0;34m(\u001b[0m\u001b[0mkey\u001b[0m\u001b[0;34m)\u001b[0m\u001b[0;34m)\u001b[0m\u001b[0;34m\u001b[0m\u001b[0;34m\u001b[0m\u001b[0m\n\u001b[0m\u001b[1;32m   2900\u001b[0m         \u001b[0mindexer\u001b[0m \u001b[0;34m=\u001b[0m \u001b[0mself\u001b[0m\u001b[0;34m.\u001b[0m\u001b[0mget_indexer\u001b[0m\u001b[0;34m(\u001b[0m\u001b[0;34m[\u001b[0m\u001b[0mkey\u001b[0m\u001b[0;34m]\u001b[0m\u001b[0;34m,\u001b[0m \u001b[0mmethod\u001b[0m\u001b[0;34m=\u001b[0m\u001b[0mmethod\u001b[0m\u001b[0;34m,\u001b[0m \u001b[0mtolerance\u001b[0m\u001b[0;34m=\u001b[0m\u001b[0mtolerance\u001b[0m\u001b[0;34m)\u001b[0m\u001b[0;34m\u001b[0m\u001b[0;34m\u001b[0m\u001b[0m\n\u001b[1;32m   2901\u001b[0m         \u001b[0;32mif\u001b[0m \u001b[0mindexer\u001b[0m\u001b[0;34m.\u001b[0m\u001b[0mndim\u001b[0m \u001b[0;34m>\u001b[0m \u001b[0;36m1\u001b[0m \u001b[0;32mor\u001b[0m \u001b[0mindexer\u001b[0m\u001b[0;34m.\u001b[0m\u001b[0msize\u001b[0m \u001b[0;34m>\u001b[0m \u001b[0;36m1\u001b[0m\u001b[0;34m:\u001b[0m\u001b[0;34m\u001b[0m\u001b[0;34m\u001b[0m\u001b[0m\n",
      "\u001b[0;32mpandas/_libs/index.pyx\u001b[0m in \u001b[0;36mpandas._libs.index.IndexEngine.get_loc\u001b[0;34m()\u001b[0m\n",
      "\u001b[0;32mpandas/_libs/index.pyx\u001b[0m in \u001b[0;36mpandas._libs.index.IndexEngine.get_loc\u001b[0;34m()\u001b[0m\n",
      "\u001b[0;32mpandas/_libs/hashtable_class_helper.pxi\u001b[0m in \u001b[0;36mpandas._libs.hashtable.PyObjectHashTable.get_item\u001b[0;34m()\u001b[0m\n",
      "\u001b[0;32mpandas/_libs/hashtable_class_helper.pxi\u001b[0m in \u001b[0;36mpandas._libs.hashtable.PyObjectHashTable.get_item\u001b[0;34m()\u001b[0m\n",
      "\u001b[0;31mKeyError\u001b[0m: '2020-05-22'"
     ]
    }
   ],
   "source": [
    "# Función para obtener datos del mundo    \n",
    "'''\n",
    "def get_data_spain(url):    \n",
    "    data_spain = pd.read_csv(url)\n",
    "    data_spain = data_spain.groupby(\"Country/Region\", as_index=False).sum()\n",
    "    data_spain = data_spain.set_index(\"Country/Region\").transpose()\n",
    "    data_spain = data_spain['Spain']\n",
    "    data_spain_actual = int(data_spain.iloc[-1])\n",
    "    data_spain_before = int(data_spain.iloc[-2])\n",
    "    data_spain_24h = data_spain_actual - data_spain_before\n",
    "    return data_spain_24h, data_spain_actual\n",
    "'''\n",
    "\n",
    "def get_data_world(url):    \n",
    "    data_world = pd.read_csv(url)\n",
    "    data_world = data_world.groupby(\"Country/Region\", as_index=False).sum()\n",
    "    data_world = data_world.set_index(\"Country/Region\").transpose()\n",
    "    data_world_actual = int(data_world.sum(axis=1).iloc[-1])\n",
    "    data_world_before = int(data_world.sum(axis=1).iloc[-2])\n",
    "    data_world_24h = data_world_actual - data_world_before\n",
    "    return data_world_24h, data_world_actual\n",
    "\n",
    "data_confirmed_path = \"COVID-19/csse_covid_19_data/csse_covid_19_time_series/time_series_covid19_confirmed_global.csv\"\n",
    "data_deaths_path = \"COVID-19/csse_covid_19_data/csse_covid_19_time_series/time_series_covid19_deaths_global.csv\"\n",
    "### data_recovered_path = \"COVID-19/csse_covid_19_data/csse_covid_19_time_series/time_series_covid19_recovered_global.csv\"\n",
    "\n",
    "\n",
    "# Para el mundo\n",
    "data_confirmed_world_24h, data_confirmed_world_actual = get_data_world(data_confirmed_path)\n",
    "data_deaths_world_24h, data_deaths_world_actual = get_data_world(data_deaths_path)\n",
    "### data_recovered_world_24h, data_recovered_world_actual = get_data_world(data_recovered_path)\n",
    "\n",
    "''' Cogiendo datos de John Hopkins\n",
    "# Para España\n",
    "data_confirmed_spain_24h, data_confirmed_spain_actual = get_data_spain(data_confirmed_path)\n",
    "data_deaths_spain_24h, data_deaths_spain_actual = get_data_spain(data_deaths_path)\n",
    "data_recovered_spain_24h, data_recovered_spain_actual = get_data_spain(data_recovered_path)\n",
    "'''\n",
    "\n",
    "# Para España actual(dataset de datadista)\n",
    "data_confirmed_spain_actual = int(data_ccaa_confirmed_timeseries[date_daybefore_large].sum())\n",
    "### data_recovered_spain_actual = int(data_ccaa_recovered_timeseries[date_today_large].sum())\n",
    "data_deaths_spain_actual = int(data_ccaa_deaths_timeseries[date_daybefore_large].sum())\n",
    "\n",
    "\n",
    "# Para España nuevos casos 24h(dataset de datadista)\n",
    "data_spain_datadista_trans = data_spain_datadista.set_index('fecha').transpose()\n",
    "data_spain_datadista_confirmed = data_spain_datadista_trans.iloc[1]\n",
    "### data_spain_datadista_recovered = data_spain_datadista_trans.iloc[3]\n",
    "data_spain_datadista_deaths = data_spain_datadista_trans.iloc[4]\n",
    "data_confirmed_spain_24h = int(data_spain_datadista_confirmed[date_daybefore_large]) - int(data_spain_datadista_confirmed[date_daymorebefore_large])\n",
    "### data_recovered_spain_24h = int(data_spain_datadista_recovered[date_today_large]) - int(data_spain_datadista_recovered[date_daybefore_large])\n",
    "data_deaths_spain_24h= int(data_spain_datadista_deaths[date_daybefore_large]) - int(data_spain_datadista_deaths[date_daymorebefore_large])\n",
    "\n",
    "# Creamos dataframes\n",
    "\n",
    "data_spain_resume_actual = pd.DataFrame({'Confirmados': data_confirmed_spain_actual,\n",
    "                                    'Fallecidos': data_deaths_spain_actual}, \n",
    "                                   index=['Casos totales en España'])\n",
    "\n",
    "data_spain_newcases = pd.DataFrame({'Confirmados': data_confirmed_spain_24h,\n",
    "                                    'Fallecidos': data_deaths_spain_24h}, \n",
    "                                   index=['Nuevos casos en España (24h)'])\n",
    "\n",
    "\n",
    "data_world_newcases = pd.DataFrame({'Confirmados': data_confirmed_world_24h,\n",
    "                                    'Fallecidos': data_deaths_world_24h}, \n",
    "                                   index=['Nuevos casos en el mundo (24h)'])\n",
    "\n",
    "data_world_resume_actual = pd.DataFrame({'Confirmados': data_confirmed_world_actual,\n",
    "                                    'Fallecidos': data_deaths_world_actual}, \n",
    "                                   index=['Casos totales en el mundo'])\n",
    "\n",
    "########### Junto los datos anteriores en una tabla\n",
    "data_resume_final = pd.concat([data_world_resume_actual, data_world_newcases, data_spain_resume_actual, data_spain_newcases])\n",
    "\n",
    "data_resume_final.to_csv('data_world_resume.csv', sep = ';')\n",
    "print(data_resume_final)"
   ]
  },
  {
   "cell_type": "markdown",
   "metadata": {},
   "source": [
    "## MUNDO: Preparación general de datos por países"
   ]
  },
  {
   "cell_type": "code",
   "execution_count": 13,
   "metadata": {},
   "outputs": [
    {
     "output_type": "execute_result",
     "data": {
      "text/plain": "Country/Region    China    France   Germany      Iran     Italy  Korea, South  \\\n2020-05-18      84063.0  180051.0  176551.0  122492.0  225886.0       11078.0   \n2020-05-19      84063.0  180933.0  177778.0  124603.0  226699.0       11110.0   \n2020-05-20      84063.0  181700.0  178473.0  126949.0  227364.0       11122.0   \n2020-05-21      84063.0  181951.0  179021.0  129341.0  228006.0       11142.0   \n2020-05-22      84081.0  182015.0  179710.0  131652.0  228658.0       11165.0   \n\nCountry/Region  Norway     Spain         US  United Kingdom  \n2020-05-18      8257.0  231606.0  1508308.0        247709.0  \n2020-05-19      8267.0  232037.0  1528568.0        250138.0  \n2020-05-20      8281.0  232555.0  1551853.0        249619.0  \n2020-05-21      8309.0  233037.0  1577147.0        252246.0  \n2020-05-22      8332.0  234824.0  1600937.0        255544.0  ",
      "text/html": "<div>\n<style scoped>\n    .dataframe tbody tr th:only-of-type {\n        vertical-align: middle;\n    }\n\n    .dataframe tbody tr th {\n        vertical-align: top;\n    }\n\n    .dataframe thead th {\n        text-align: right;\n    }\n</style>\n<table border=\"1\" class=\"dataframe\">\n  <thead>\n    <tr style=\"text-align: right;\">\n      <th>Country/Region</th>\n      <th>China</th>\n      <th>France</th>\n      <th>Germany</th>\n      <th>Iran</th>\n      <th>Italy</th>\n      <th>Korea, South</th>\n      <th>Norway</th>\n      <th>Spain</th>\n      <th>US</th>\n      <th>United Kingdom</th>\n    </tr>\n  </thead>\n  <tbody>\n    <tr>\n      <th>2020-05-18</th>\n      <td>84063.0</td>\n      <td>180051.0</td>\n      <td>176551.0</td>\n      <td>122492.0</td>\n      <td>225886.0</td>\n      <td>11078.0</td>\n      <td>8257.0</td>\n      <td>231606.0</td>\n      <td>1508308.0</td>\n      <td>247709.0</td>\n    </tr>\n    <tr>\n      <th>2020-05-19</th>\n      <td>84063.0</td>\n      <td>180933.0</td>\n      <td>177778.0</td>\n      <td>124603.0</td>\n      <td>226699.0</td>\n      <td>11110.0</td>\n      <td>8267.0</td>\n      <td>232037.0</td>\n      <td>1528568.0</td>\n      <td>250138.0</td>\n    </tr>\n    <tr>\n      <th>2020-05-20</th>\n      <td>84063.0</td>\n      <td>181700.0</td>\n      <td>178473.0</td>\n      <td>126949.0</td>\n      <td>227364.0</td>\n      <td>11122.0</td>\n      <td>8281.0</td>\n      <td>232555.0</td>\n      <td>1551853.0</td>\n      <td>249619.0</td>\n    </tr>\n    <tr>\n      <th>2020-05-21</th>\n      <td>84063.0</td>\n      <td>181951.0</td>\n      <td>179021.0</td>\n      <td>129341.0</td>\n      <td>228006.0</td>\n      <td>11142.0</td>\n      <td>8309.0</td>\n      <td>233037.0</td>\n      <td>1577147.0</td>\n      <td>252246.0</td>\n    </tr>\n    <tr>\n      <th>2020-05-22</th>\n      <td>84081.0</td>\n      <td>182015.0</td>\n      <td>179710.0</td>\n      <td>131652.0</td>\n      <td>228658.0</td>\n      <td>11165.0</td>\n      <td>8332.0</td>\n      <td>234824.0</td>\n      <td>1600937.0</td>\n      <td>255544.0</td>\n    </tr>\n  </tbody>\n</table>\n</div>"
     },
     "metadata": {},
     "execution_count": 13
    }
   ],
   "source": [
    "# Datos https://github.com/CSSEGISandData/COVID-19.git\n",
    "data = pd.read_csv(\"COVID-19/csse_covid_19_data/csse_covid_19_time_series/time_series_covid19_confirmed_global.csv\" )\n",
    "\n",
    "#Saco un dataset con solo los países\n",
    "data_countries = data.groupby(\"Country/Region\", as_index=False).sum()\n",
    "\n",
    "# Hago transposición de los datos para mover las columnas en filas \n",
    "data_trans = data_countries.set_index('Country/Region').transpose()\n",
    "# Y me quedo sólo con los datos temporales y número de casos\n",
    "data_time = data_trans[2:]\n",
    "\n",
    "# Cogemos solo determinados países\n",
    "data_time = data_time[['China', 'France', 'Germany', 'Iran','Italy', 'Korea, South', 'Norway','Spain', 'US', 'United Kingdom']]\n",
    "\n",
    "#Hago listado de Countries\n",
    "list_countries = data_time.columns\n",
    "list_countries\n",
    "\n",
    "#Convierto la columna fecha en datetime\n",
    "from datetime import date\n",
    "data_time.index = pd.to_datetime(data_time.index)\n",
    "data_time.tail()\n"
   ]
  },
  {
   "cell_type": "markdown",
   "metadata": {},
   "source": [
    "## MUNDO: Confirmados, curados y fallecidos"
   ]
  },
  {
   "cell_type": "code",
   "execution_count": 14,
   "metadata": {},
   "outputs": [
    {
     "output_type": "execute_result",
     "data": {
      "text/plain": "                Confirmados   Curados  Fallecidos\nCountry/Region                                   \nChina               84081.0   79332.0      4638.0\nFrance             182015.0   63986.0     28218.0\nGermany            179710.0  159064.0      8228.0\nItaly              228658.0  136720.0     32616.0\nSpain              234824.0  150376.0     28628.0\nUS                1600937.0  350135.0     95979.0\nUnited Kingdom     255544.0    1142.0     36475.0",
      "text/html": "<div>\n<style scoped>\n    .dataframe tbody tr th:only-of-type {\n        vertical-align: middle;\n    }\n\n    .dataframe tbody tr th {\n        vertical-align: top;\n    }\n\n    .dataframe thead th {\n        text-align: right;\n    }\n</style>\n<table border=\"1\" class=\"dataframe\">\n  <thead>\n    <tr style=\"text-align: right;\">\n      <th></th>\n      <th>Confirmados</th>\n      <th>Curados</th>\n      <th>Fallecidos</th>\n    </tr>\n    <tr>\n      <th>Country/Region</th>\n      <th></th>\n      <th></th>\n      <th></th>\n    </tr>\n  </thead>\n  <tbody>\n    <tr>\n      <th>China</th>\n      <td>84081.0</td>\n      <td>79332.0</td>\n      <td>4638.0</td>\n    </tr>\n    <tr>\n      <th>France</th>\n      <td>182015.0</td>\n      <td>63986.0</td>\n      <td>28218.0</td>\n    </tr>\n    <tr>\n      <th>Germany</th>\n      <td>179710.0</td>\n      <td>159064.0</td>\n      <td>8228.0</td>\n    </tr>\n    <tr>\n      <th>Italy</th>\n      <td>228658.0</td>\n      <td>136720.0</td>\n      <td>32616.0</td>\n    </tr>\n    <tr>\n      <th>Spain</th>\n      <td>234824.0</td>\n      <td>150376.0</td>\n      <td>28628.0</td>\n    </tr>\n    <tr>\n      <th>US</th>\n      <td>1600937.0</td>\n      <td>350135.0</td>\n      <td>95979.0</td>\n    </tr>\n    <tr>\n      <th>United Kingdom</th>\n      <td>255544.0</td>\n      <td>1142.0</td>\n      <td>36475.0</td>\n    </tr>\n  </tbody>\n</table>\n</div>"
     },
     "metadata": {},
     "execution_count": 14
    }
   ],
   "source": [
    "######### Confirmados\n",
    "\n",
    "data_confirmed = pd.read_csv(\"COVID-19/csse_covid_19_data/csse_covid_19_time_series/time_series_covid19_confirmed_global.csv\" )\n",
    "#Saco un dataset con solo los países\n",
    "data_confirmed = data_confirmed.groupby(\"Country/Region\", as_index=False).sum()\n",
    "# Hago transposición de los datos para mover las columnas en filas \n",
    "data_confirmed = data_confirmed.set_index('Country/Region').transpose()\n",
    "# Y me quedo sólo con los datos temporales y número de casos\n",
    "data_confirmed = data_confirmed[2:]\n",
    "# Cogemos solo determinados países\n",
    "data_confirmed = data_confirmed[['China', 'France', 'Germany', 'Italy','Spain', 'US', 'United Kingdom']]\n",
    "data_confirmed = data_confirmed[-1:]\n",
    "\n",
    "######### Muertos\n",
    "\n",
    "data_deaths = pd.read_csv(\"COVID-19/csse_covid_19_data/csse_covid_19_time_series/time_series_covid19_deaths_global.csv\")\n",
    "#Saco un dataset con solo los países\n",
    "data_deaths = data_deaths.groupby(\"Country/Region\", as_index=False).sum()\n",
    "#Se ve que están todos y comprobado que suma\n",
    "data_deaths[::]\n",
    "# Hago transposición de los datos para mover las columnas en filas \n",
    "data_deaths = data_deaths.set_index('Country/Region').transpose()\n",
    "\n",
    "# Y me quedo sólo con los datos temporales y número de casos\n",
    "data_deaths = data_deaths[2:]\n",
    "data_deaths.tail()\n",
    "# Cogemos solo determinados países\n",
    "data_deaths = data_deaths[['China', 'France', 'Germany', 'Italy','Spain', 'US', 'United Kingdom']]\n",
    "data_deaths = data_deaths[-1:]\n",
    "\n",
    "######### Recuperados\n",
    "\n",
    "data_recovered = pd.read_csv(\"COVID-19/csse_covid_19_data/csse_covid_19_time_series/time_series_covid19_recovered_global.csv\" )\n",
    "#Saco un dataset con solo los países\n",
    "data_recovered = data_recovered.groupby(\"Country/Region\", as_index=False).sum()\n",
    "# Hago transposición de los datos para mover las columnas en filas \n",
    "data_recovered = data_recovered.set_index('Country/Region').transpose()\n",
    "# Y me quedo sólo con los datos temporales y número de casos\n",
    "data_recovered = data_recovered[2:]\n",
    "# Cogemos solo determinados países\n",
    "data_recovered = data_recovered[['China', 'France', 'Germany', 'Italy','Spain', 'US', 'United Kingdom']]\n",
    "data_recovered = data_recovered[-1:]\n",
    "\n",
    "######### Merge de datos\n",
    "\n",
    "# Saco la fecha:\n",
    "from datetime import datetime, timedelta\n",
    "date_today_intern = date.today()\n",
    "date_today_intern = date_today_intern.today() - timedelta(days=1) #Quito uno porque esta base de datos siempre muestra datos del día anterior\n",
    "date_today_intern = date_today_intern.strftime('%d/%m')\n",
    "\n",
    "#Juntar ahora datos\n",
    "data_columns = ['Confirmados', 'Curados', 'Fallecidos']\n",
    "\n",
    "data_together = pd.merge(data_confirmed, data_recovered, how='outer')\n",
    "data_together = pd.merge(data_together, data_deaths, how='outer')\n",
    "data_together.index = data_columns\n",
    "data_together_final = data_together.transpose()\n",
    "# data_together = data_together.reindex(columns =data_columns) \n",
    "# data_together = data_together.reindex(data_index)\n",
    "\n",
    "# Exporto CSV\n",
    "data_together_final.to_csv('data_world_actual.csv', sep = ';')\n",
    "data_together_final"
   ]
  },
  {
   "cell_type": "markdown",
   "metadata": {},
   "source": [
    "## MUNDO: Confirmados, curados y fallecidos por habitantes de población"
   ]
  },
  {
   "cell_type": "code",
   "execution_count": 15,
   "metadata": {},
   "outputs": [
    {
     "output_type": "execute_result",
     "data": {
      "text/plain": "Country/Region    China    France   Germany     Italy     Spain         US  \\\nConfirmados     84081.0  182015.0  179710.0  228658.0  234824.0  1600937.0   \nCurados         79332.0   63986.0  159064.0  136720.0  150376.0   350135.0   \nFallecidos       4638.0   28218.0    8228.0   32616.0   28628.0    95979.0   \n\nCountry/Region  United Kingdom  \nConfirmados           255544.0  \nCurados                 1142.0  \nFallecidos             36475.0  ",
      "text/html": "<div>\n<style scoped>\n    .dataframe tbody tr th:only-of-type {\n        vertical-align: middle;\n    }\n\n    .dataframe tbody tr th {\n        vertical-align: top;\n    }\n\n    .dataframe thead th {\n        text-align: right;\n    }\n</style>\n<table border=\"1\" class=\"dataframe\">\n  <thead>\n    <tr style=\"text-align: right;\">\n      <th>Country/Region</th>\n      <th>China</th>\n      <th>France</th>\n      <th>Germany</th>\n      <th>Italy</th>\n      <th>Spain</th>\n      <th>US</th>\n      <th>United Kingdom</th>\n    </tr>\n  </thead>\n  <tbody>\n    <tr>\n      <th>Confirmados</th>\n      <td>84081.0</td>\n      <td>182015.0</td>\n      <td>179710.0</td>\n      <td>228658.0</td>\n      <td>234824.0</td>\n      <td>1600937.0</td>\n      <td>255544.0</td>\n    </tr>\n    <tr>\n      <th>Curados</th>\n      <td>79332.0</td>\n      <td>63986.0</td>\n      <td>159064.0</td>\n      <td>136720.0</td>\n      <td>150376.0</td>\n      <td>350135.0</td>\n      <td>1142.0</td>\n    </tr>\n    <tr>\n      <th>Fallecidos</th>\n      <td>4638.0</td>\n      <td>28218.0</td>\n      <td>8228.0</td>\n      <td>32616.0</td>\n      <td>28628.0</td>\n      <td>95979.0</td>\n      <td>36475.0</td>\n    </tr>\n  </tbody>\n</table>\n</div>"
     },
     "metadata": {},
     "execution_count": 15
    }
   ],
   "source": [
    "data_together"
   ]
  },
  {
   "cell_type": "code",
   "execution_count": 16,
   "metadata": {},
   "outputs": [
    {
     "output_type": "execute_result",
     "data": {
      "text/plain": "Country/Region  China  France  Germany   Italy   Spain      US  United Kingdom\nConfirmados      60.0  2716.0   2165.0  3777.0  5003.0  4878.0          3834.0\nCurados          57.0   955.0   1916.0  2258.0  3204.0  1067.0            17.0\nFallecidos        3.0   421.0     99.0   539.0   610.0   292.0           547.0",
      "text/html": "<div>\n<style scoped>\n    .dataframe tbody tr th:only-of-type {\n        vertical-align: middle;\n    }\n\n    .dataframe tbody tr th {\n        vertical-align: top;\n    }\n\n    .dataframe thead th {\n        text-align: right;\n    }\n</style>\n<table border=\"1\" class=\"dataframe\">\n  <thead>\n    <tr style=\"text-align: right;\">\n      <th>Country/Region</th>\n      <th>China</th>\n      <th>France</th>\n      <th>Germany</th>\n      <th>Italy</th>\n      <th>Spain</th>\n      <th>US</th>\n      <th>United Kingdom</th>\n    </tr>\n  </thead>\n  <tbody>\n    <tr>\n      <th>Confirmados</th>\n      <td>60.0</td>\n      <td>2716.0</td>\n      <td>2165.0</td>\n      <td>3777.0</td>\n      <td>5003.0</td>\n      <td>4878.0</td>\n      <td>3834.0</td>\n    </tr>\n    <tr>\n      <th>Curados</th>\n      <td>57.0</td>\n      <td>955.0</td>\n      <td>1916.0</td>\n      <td>2258.0</td>\n      <td>3204.0</td>\n      <td>1067.0</td>\n      <td>17.0</td>\n    </tr>\n    <tr>\n      <th>Fallecidos</th>\n      <td>3.0</td>\n      <td>421.0</td>\n      <td>99.0</td>\n      <td>539.0</td>\n      <td>610.0</td>\n      <td>292.0</td>\n      <td>547.0</td>\n    </tr>\n  </tbody>\n</table>\n</div>"
     },
     "metadata": {},
     "execution_count": 16
    }
   ],
   "source": [
    "pob_wuhan = 11895000\n",
    "pob_china = 1393000000\n",
    "pob_france = 67028048\n",
    "pob_germany = 83019200\n",
    "pob_italy = 60541000\n",
    "pob_spain = 46940000\n",
    "pob_US = 328200000\n",
    "pob_UK = 66650000\n",
    "\n",
    "# Por cada millón de habitantes hay estos casos...\n",
    "data_together_den = data_together.copy()\n",
    "data_together_den['China'] = (data_together_den['China'] / pob_china)*1000000 # Por cada caso infectado hay 142 que no lo están\n",
    "data_together_den['France'] = (data_together_den['France'] / pob_france)*1000000 # Por cada caso infectado hay 455 que no lo están\n",
    "data_together_den['Germany'] = (data_together_den['Germany'] / pob_germany)*1000000  # Por cada caso infectado hay 455 que no lo están\n",
    "data_together_den['Italy'] = (data_together_den['Italy'] / pob_italy)*1000000\n",
    "data_together_den['Spain'] = (data_together_den['Spain'] / pob_spain)*1000000\n",
    "data_together_den['US'] = (data_together_den['US'] / pob_US)*1000000\n",
    "data_together_den['United Kingdom'] = (data_together_den['United Kingdom'] / pob_UK)*1000000\n",
    "data_together_den = data_together_den.round(0)\n",
    "# Exporto CSV\n",
    "data_together_den.to_csv('data_world_actual_den.csv', sep = ';')\n",
    "data_together_den"
   ]
  },
  {
   "cell_type": "markdown",
   "metadata": {},
   "source": [
    "## MUNDO: CSV : covid19_data_drive_from100.csv"
   ]
  },
  {
   "cell_type": "code",
   "execution_count": 17,
   "metadata": {},
   "outputs": [
    {
     "output_type": "execute_result",
     "data": {
      "text/plain": "      France    China  Germany      Iran     Italy  Korea, South  Norway  \\\n80  182015.0  83014.0      NaN  120198.0  223096.0       10936.0     NaN   \n81       NaN  83134.0      NaN  122492.0  223885.0       10962.0     NaN   \n82       NaN  83213.0      NaN  124603.0  224760.0       10991.0     NaN   \n83       NaN  83306.0      NaN  126949.0  225435.0       11018.0     NaN   \n84       NaN  83356.0      NaN  129341.0  225886.0       11037.0     NaN   \n\n    Spain  US  United Kingdom  \n80    NaN NaN             NaN  \n81    NaN NaN             NaN  \n82    NaN NaN             NaN  \n83    NaN NaN             NaN  \n84    NaN NaN             NaN  ",
      "text/html": "<div>\n<style scoped>\n    .dataframe tbody tr th:only-of-type {\n        vertical-align: middle;\n    }\n\n    .dataframe tbody tr th {\n        vertical-align: top;\n    }\n\n    .dataframe thead th {\n        text-align: right;\n    }\n</style>\n<table border=\"1\" class=\"dataframe\">\n  <thead>\n    <tr style=\"text-align: right;\">\n      <th></th>\n      <th>France</th>\n      <th>China</th>\n      <th>Germany</th>\n      <th>Iran</th>\n      <th>Italy</th>\n      <th>Korea, South</th>\n      <th>Norway</th>\n      <th>Spain</th>\n      <th>US</th>\n      <th>United Kingdom</th>\n    </tr>\n  </thead>\n  <tbody>\n    <tr>\n      <th>80</th>\n      <td>182015.0</td>\n      <td>83014.0</td>\n      <td>NaN</td>\n      <td>120198.0</td>\n      <td>223096.0</td>\n      <td>10936.0</td>\n      <td>NaN</td>\n      <td>NaN</td>\n      <td>NaN</td>\n      <td>NaN</td>\n    </tr>\n    <tr>\n      <th>81</th>\n      <td>NaN</td>\n      <td>83134.0</td>\n      <td>NaN</td>\n      <td>122492.0</td>\n      <td>223885.0</td>\n      <td>10962.0</td>\n      <td>NaN</td>\n      <td>NaN</td>\n      <td>NaN</td>\n      <td>NaN</td>\n    </tr>\n    <tr>\n      <th>82</th>\n      <td>NaN</td>\n      <td>83213.0</td>\n      <td>NaN</td>\n      <td>124603.0</td>\n      <td>224760.0</td>\n      <td>10991.0</td>\n      <td>NaN</td>\n      <td>NaN</td>\n      <td>NaN</td>\n      <td>NaN</td>\n    </tr>\n    <tr>\n      <th>83</th>\n      <td>NaN</td>\n      <td>83306.0</td>\n      <td>NaN</td>\n      <td>126949.0</td>\n      <td>225435.0</td>\n      <td>11018.0</td>\n      <td>NaN</td>\n      <td>NaN</td>\n      <td>NaN</td>\n      <td>NaN</td>\n    </tr>\n    <tr>\n      <th>84</th>\n      <td>NaN</td>\n      <td>83356.0</td>\n      <td>NaN</td>\n      <td>129341.0</td>\n      <td>225886.0</td>\n      <td>11037.0</td>\n      <td>NaN</td>\n      <td>NaN</td>\n      <td>NaN</td>\n      <td>NaN</td>\n    </tr>\n  </tbody>\n</table>\n</div>"
     },
     "metadata": {},
     "execution_count": 17
    }
   ],
   "source": [
    "# Coger solo datos del último mes\n",
    "data_time_30days = data_time[-200:]\n",
    "# Si quiero quitar China: data_time_filter = data_time_filter.drop('China', axis=1)\n",
    "\n",
    "#Exporto los datos en diferentes arhcivos con casa país\n",
    "for country in list_countries:\n",
    "    dataX = data_time_30days[country]\n",
    "    dataX = dataX[dataX > 200]\n",
    "    dataX.to_csv('data_' + country + \".csv\", index=False, header= country)\n",
    "\n",
    "# Lista dataframes\n",
    "# dataframes_list = ['dataframe_France', 'dataframe_China', 'dataframe_Germany', 'dataframe_Iran', 'dataframe_Italy', 'dataframe_Korea', 'dataframe_Norway', 'dataframe_Spain', 'dataframe_US', 'dataframe_UnitedKingdom']\n",
    "\n",
    "# Creamos los CSV\n",
    "dataframe_France = pd.read_csv('data_France.csv')\n",
    "dataframe_China = pd.read_csv('data_China.csv')\n",
    "dataframe_Germany = pd.read_csv('data_Germany.csv')\n",
    "dataframe_Iran = pd.read_csv('data_Iran.csv')\n",
    "dataframe_Italy = pd.read_csv('data_Italy.csv')\n",
    "dataframe_Korea = pd.read_csv('data_Korea, South.csv')\n",
    "dataframe_Norway = pd.read_csv('data_Norway.csv')\n",
    "dataframe_Spain = pd.read_csv('data_Spain.csv')\n",
    "dataframe_US = pd.read_csv('data_US.csv')\n",
    "dataframe_UnitedKingdom = pd.read_csv('data_United Kingdom.csv')\n",
    "\n",
    "#Les añadimos NaN al final y reindexamos\n",
    "new_index = np.arange(1,85)\n",
    "dataframe_France = dataframe_France.reindex(new_index)\n",
    "dataframe_China = dataframe_China.reindex(new_index)\n",
    "dataframe_Germany = dataframe_Germany.reindex(new_index)\n",
    "dataframe_Iran = dataframe_Iran.reindex(new_index)\n",
    "dataframe_Italy = dataframe_Italy.reindex(new_index)\n",
    "dataframe_Korea = dataframe_Korea.reindex(new_index)\n",
    "dataframe_Norway = dataframe_Norway.reindex(new_index)\n",
    "dataframe_Spain = dataframe_Spain.reindex(new_index)\n",
    "dataframe_US = dataframe_US.reindex(new_index)\n",
    "dataframe_UnitedKingdom = dataframe_UnitedKingdom.reindex(new_index)\n",
    "\n",
    "#Juntar dataframes y Exportar CSV completo\n",
    "data_drive_from100cases = dataframe_France.join([dataframe_China, dataframe_Germany, \n",
    "                                                 dataframe_Iran, dataframe_Italy, dataframe_Korea, \n",
    "                                                 dataframe_Norway, dataframe_Spain, dataframe_US,\n",
    "                                                 dataframe_UnitedKingdom])\n",
    "\n",
    "data_drive_from100cases.to_csv('data_world_from100.csv', sep = ';')\n",
    "data_drive_from100cases.tail()"
   ]
  },
  {
   "cell_type": "markdown",
   "metadata": {},
   "source": [
    "## MUNDO: CSV covid19_data_drive_days.csv"
   ]
  },
  {
   "cell_type": "code",
   "execution_count": 18,
   "metadata": {},
   "outputs": [
    {
     "output_type": "execute_result",
     "data": {
      "text/plain": "Index(['China', 'France', 'Germany', 'Iran', 'Italy', 'Korea, South', 'Norway',\n       'Spain', 'US', 'United Kingdom'],\n      dtype='object', name='Country/Region')"
     },
     "metadata": {},
     "execution_count": 18
    }
   ],
   "source": [
    "list_countries"
   ]
  },
  {
   "cell_type": "code",
   "execution_count": 19,
   "metadata": {},
   "outputs": [
    {
     "output_type": "execute_result",
     "data": {
      "text/plain": "Country/Region    China    France   Germany      Iran     Italy  Korea, South  \\\n2020-05-18      84063.0  180051.0  176551.0  122492.0  225886.0       11078.0   \n2020-05-19      84063.0  180933.0  177778.0  124603.0  226699.0       11110.0   \n2020-05-20      84063.0  181700.0  178473.0  126949.0  227364.0       11122.0   \n2020-05-21      84063.0  181951.0  179021.0  129341.0  228006.0       11142.0   \n2020-05-22      84081.0  182015.0  179710.0  131652.0  228658.0       11165.0   \n\nCountry/Region  Norway     Spain  United Kingdom  \n2020-05-18      8257.0  231606.0        247709.0  \n2020-05-19      8267.0  232037.0        250138.0  \n2020-05-20      8281.0  232555.0        249619.0  \n2020-05-21      8309.0  233037.0        252246.0  \n2020-05-22      8332.0  234824.0        255544.0  ",
      "text/html": "<div>\n<style scoped>\n    .dataframe tbody tr th:only-of-type {\n        vertical-align: middle;\n    }\n\n    .dataframe tbody tr th {\n        vertical-align: top;\n    }\n\n    .dataframe thead th {\n        text-align: right;\n    }\n</style>\n<table border=\"1\" class=\"dataframe\">\n  <thead>\n    <tr style=\"text-align: right;\">\n      <th>Country/Region</th>\n      <th>China</th>\n      <th>France</th>\n      <th>Germany</th>\n      <th>Iran</th>\n      <th>Italy</th>\n      <th>Korea, South</th>\n      <th>Norway</th>\n      <th>Spain</th>\n      <th>United Kingdom</th>\n    </tr>\n  </thead>\n  <tbody>\n    <tr>\n      <th>2020-05-18</th>\n      <td>84063.0</td>\n      <td>180051.0</td>\n      <td>176551.0</td>\n      <td>122492.0</td>\n      <td>225886.0</td>\n      <td>11078.0</td>\n      <td>8257.0</td>\n      <td>231606.0</td>\n      <td>247709.0</td>\n    </tr>\n    <tr>\n      <th>2020-05-19</th>\n      <td>84063.0</td>\n      <td>180933.0</td>\n      <td>177778.0</td>\n      <td>124603.0</td>\n      <td>226699.0</td>\n      <td>11110.0</td>\n      <td>8267.0</td>\n      <td>232037.0</td>\n      <td>250138.0</td>\n    </tr>\n    <tr>\n      <th>2020-05-20</th>\n      <td>84063.0</td>\n      <td>181700.0</td>\n      <td>178473.0</td>\n      <td>126949.0</td>\n      <td>227364.0</td>\n      <td>11122.0</td>\n      <td>8281.0</td>\n      <td>232555.0</td>\n      <td>249619.0</td>\n    </tr>\n    <tr>\n      <th>2020-05-21</th>\n      <td>84063.0</td>\n      <td>181951.0</td>\n      <td>179021.0</td>\n      <td>129341.0</td>\n      <td>228006.0</td>\n      <td>11142.0</td>\n      <td>8309.0</td>\n      <td>233037.0</td>\n      <td>252246.0</td>\n    </tr>\n    <tr>\n      <th>2020-05-22</th>\n      <td>84081.0</td>\n      <td>182015.0</td>\n      <td>179710.0</td>\n      <td>131652.0</td>\n      <td>228658.0</td>\n      <td>11165.0</td>\n      <td>8332.0</td>\n      <td>234824.0</td>\n      <td>255544.0</td>\n    </tr>\n  </tbody>\n</table>\n</div>"
     },
     "metadata": {},
     "execution_count": 19
    }
   ],
   "source": [
    "# Coger solo datos de últimos 60 días\n",
    "data_time_Xdays = data_time[-60:]\n",
    "\n",
    "# Sin EEUU\n",
    "# Cogemos solo determinados países\n",
    "list_without_EEUU = ['China', 'France', 'Germany', 'Iran','Italy', 'Korea, South', 'Norway','Spain', 'United Kingdom']\n",
    "\n",
    "\n",
    "#Exportar CSV por días progresivos\n",
    "data_drive_lastX = data_time_Xdays.loc[:,list_without_EEUU]\n",
    "data_drive_lastX.to_csv('data_world_timeline.csv', sep = ';', encoding=\"utf-8\")\n",
    "data_drive_lastX.tail()\n"
   ]
  },
  {
   "cell_type": "markdown",
   "metadata": {},
   "source": [
    "## ESPAÑA: Resumen datos España: data_spain_newcases24h.csv"
   ]
  },
  {
   "cell_type": "code",
   "execution_count": 20,
   "metadata": {},
   "outputs": [
    {
     "output_type": "execute_result",
     "data": {
      "text/plain": "         fecha  casos_total  casos_pcr  casos_test_ac  altas  fallecimientos  \\\n0   2020-02-21          3.0          3            NaN    NaN             NaN   \n1   2020-02-22          3.0          3            NaN    NaN             NaN   \n2   2020-02-23          3.0          3            NaN    NaN             NaN   \n3   2020-02-24          3.0          3            NaN    NaN             NaN   \n4   2020-02-25          4.0          4            NaN    NaN             NaN   \n..         ...          ...        ...            ...    ...             ...   \n88  2020-05-19     279012.0     232246        46766.0    NaN         27793.0   \n89  2020-05-20     279662.0     232693        46969.0    NaN         27892.0   \n90  2020-05-21     280117.0     233037        47080.0    NaN         27940.0   \n91  2020-05-22          NaN     234824            NaN    NaN         28628.0   \n92  2020-05-23          NaN     235290            NaN    NaN         28678.0   \n\n    ingresos_uci  hospitalizados  \n0            NaN             NaN  \n1            NaN             NaN  \n2            NaN             NaN  \n3            NaN             NaN  \n4            NaN             NaN  \n..           ...             ...  \n88       11403.0        124421.0  \n89       11434.0        124381.0  \n90       11454.0        124521.0  \n91       11462.0        124642.0  \n92       11474.0        124757.0  \n\n[93 rows x 8 columns]",
      "text/html": "<div>\n<style scoped>\n    .dataframe tbody tr th:only-of-type {\n        vertical-align: middle;\n    }\n\n    .dataframe tbody tr th {\n        vertical-align: top;\n    }\n\n    .dataframe thead th {\n        text-align: right;\n    }\n</style>\n<table border=\"1\" class=\"dataframe\">\n  <thead>\n    <tr style=\"text-align: right;\">\n      <th></th>\n      <th>fecha</th>\n      <th>casos_total</th>\n      <th>casos_pcr</th>\n      <th>casos_test_ac</th>\n      <th>altas</th>\n      <th>fallecimientos</th>\n      <th>ingresos_uci</th>\n      <th>hospitalizados</th>\n    </tr>\n  </thead>\n  <tbody>\n    <tr>\n      <th>0</th>\n      <td>2020-02-21</td>\n      <td>3.0</td>\n      <td>3</td>\n      <td>NaN</td>\n      <td>NaN</td>\n      <td>NaN</td>\n      <td>NaN</td>\n      <td>NaN</td>\n    </tr>\n    <tr>\n      <th>1</th>\n      <td>2020-02-22</td>\n      <td>3.0</td>\n      <td>3</td>\n      <td>NaN</td>\n      <td>NaN</td>\n      <td>NaN</td>\n      <td>NaN</td>\n      <td>NaN</td>\n    </tr>\n    <tr>\n      <th>2</th>\n      <td>2020-02-23</td>\n      <td>3.0</td>\n      <td>3</td>\n      <td>NaN</td>\n      <td>NaN</td>\n      <td>NaN</td>\n      <td>NaN</td>\n      <td>NaN</td>\n    </tr>\n    <tr>\n      <th>3</th>\n      <td>2020-02-24</td>\n      <td>3.0</td>\n      <td>3</td>\n      <td>NaN</td>\n      <td>NaN</td>\n      <td>NaN</td>\n      <td>NaN</td>\n      <td>NaN</td>\n    </tr>\n    <tr>\n      <th>4</th>\n      <td>2020-02-25</td>\n      <td>4.0</td>\n      <td>4</td>\n      <td>NaN</td>\n      <td>NaN</td>\n      <td>NaN</td>\n      <td>NaN</td>\n      <td>NaN</td>\n    </tr>\n    <tr>\n      <th>...</th>\n      <td>...</td>\n      <td>...</td>\n      <td>...</td>\n      <td>...</td>\n      <td>...</td>\n      <td>...</td>\n      <td>...</td>\n      <td>...</td>\n    </tr>\n    <tr>\n      <th>88</th>\n      <td>2020-05-19</td>\n      <td>279012.0</td>\n      <td>232246</td>\n      <td>46766.0</td>\n      <td>NaN</td>\n      <td>27793.0</td>\n      <td>11403.0</td>\n      <td>124421.0</td>\n    </tr>\n    <tr>\n      <th>89</th>\n      <td>2020-05-20</td>\n      <td>279662.0</td>\n      <td>232693</td>\n      <td>46969.0</td>\n      <td>NaN</td>\n      <td>27892.0</td>\n      <td>11434.0</td>\n      <td>124381.0</td>\n    </tr>\n    <tr>\n      <th>90</th>\n      <td>2020-05-21</td>\n      <td>280117.0</td>\n      <td>233037</td>\n      <td>47080.0</td>\n      <td>NaN</td>\n      <td>27940.0</td>\n      <td>11454.0</td>\n      <td>124521.0</td>\n    </tr>\n    <tr>\n      <th>91</th>\n      <td>2020-05-22</td>\n      <td>NaN</td>\n      <td>234824</td>\n      <td>NaN</td>\n      <td>NaN</td>\n      <td>28628.0</td>\n      <td>11462.0</td>\n      <td>124642.0</td>\n    </tr>\n    <tr>\n      <th>92</th>\n      <td>2020-05-23</td>\n      <td>NaN</td>\n      <td>235290</td>\n      <td>NaN</td>\n      <td>NaN</td>\n      <td>28678.0</td>\n      <td>11474.0</td>\n      <td>124757.0</td>\n    </tr>\n  </tbody>\n</table>\n<p>93 rows × 8 columns</p>\n</div>"
     },
     "metadata": {},
     "execution_count": 20
    }
   ],
   "source": [
    "data_spain_datadista"
   ]
  },
  {
   "cell_type": "code",
   "execution_count": 120,
   "metadata": {},
   "outputs": [
    {
     "output_type": "execute_result",
     "data": {
      "text/plain": "                            2020-04-11  2020-04-12  2020-04-13  2020-04-14  \\\nFallecidos (24h) en España         498         610         549         536   \n\n                            2020-04-15  2020-04-16  2020-04-17  2020-04-18  \\\nFallecidos (24h) en España         682         619         589         556   \n\n                            2020-04-19  2020-04-20  ...  2020-05-11  \\\nFallecidos (24h) en España         408         397  ...         124   \n\n                            2020-05-12  2020-05-13  2020-05-14  2020-05-15  \\\nFallecidos (24h) en España         172         182         217         141   \n\n                            2020-05-16  2020-05-17  2020-05-18  2020-05-19  \\\nFallecidos (24h) en España         100          85          59         100   \n\n                            2020-05-20  \nFallecidos (24h) en España          95  \n\n[1 rows x 40 columns]",
      "text/html": "<div>\n<style scoped>\n    .dataframe tbody tr th:only-of-type {\n        vertical-align: middle;\n    }\n\n    .dataframe tbody tr th {\n        vertical-align: top;\n    }\n\n    .dataframe thead th {\n        text-align: right;\n    }\n</style>\n<table border=\"1\" class=\"dataframe\">\n  <thead>\n    <tr style=\"text-align: right;\">\n      <th></th>\n      <th>2020-04-11</th>\n      <th>2020-04-12</th>\n      <th>2020-04-13</th>\n      <th>2020-04-14</th>\n      <th>2020-04-15</th>\n      <th>2020-04-16</th>\n      <th>2020-04-17</th>\n      <th>2020-04-18</th>\n      <th>2020-04-19</th>\n      <th>2020-04-20</th>\n      <th>...</th>\n      <th>2020-05-11</th>\n      <th>2020-05-12</th>\n      <th>2020-05-13</th>\n      <th>2020-05-14</th>\n      <th>2020-05-15</th>\n      <th>2020-05-16</th>\n      <th>2020-05-17</th>\n      <th>2020-05-18</th>\n      <th>2020-05-19</th>\n      <th>2020-05-20</th>\n    </tr>\n  </thead>\n  <tbody>\n    <tr>\n      <th>Fallecidos (24h) en España</th>\n      <td>498</td>\n      <td>610</td>\n      <td>549</td>\n      <td>536</td>\n      <td>682</td>\n      <td>619</td>\n      <td>589</td>\n      <td>556</td>\n      <td>408</td>\n      <td>397</td>\n      <td>...</td>\n      <td>124</td>\n      <td>172</td>\n      <td>182</td>\n      <td>217</td>\n      <td>141</td>\n      <td>100</td>\n      <td>85</td>\n      <td>59</td>\n      <td>100</td>\n      <td>95</td>\n    </tr>\n  </tbody>\n</table>\n<p>1 rows × 40 columns</p>\n</div>"
     },
     "metadata": {},
     "execution_count": 120
    }
   ],
   "source": [
    "data_spain_datadista_withoutlastday = data_spain_datadista.drop(data_spain_datadista.tail(1).index)\n",
    "\n",
    "# Con datos de datadista, SOLO PARA DATOS DE PAÍS\n",
    "data_path_confirmed = 'casos_total'\n",
    "### data_path_recovered = 'altas'\n",
    "data_path_deaths = 'fallecimientos'\n",
    "\n",
    "# Evolución últimos 40 días de nuevos casos\n",
    "\n",
    "def day_consecutive(day):\n",
    "    date_cons = date.today()\n",
    "    date_cons = date_cons - timedelta(days=day)\n",
    "    date_cons = date_cons.strftime('%Y-%m-%d')\n",
    "    return date_cons\n",
    "\n",
    "def data_day(data_path, number_to_rest):\n",
    "    data = data_spain_datadista_withoutlastday.set_index('fecha')\n",
    "    data = data[data_path]\n",
    "    data = int(data.iloc[number_to_rest]) - int(data.iloc[number_to_rest-1])\n",
    "    return data\n",
    "\n",
    "data_day(data_path_confirmed, -3)\n",
    "\n",
    "def create_dataframe(data_day_name, data_path, index_title):\n",
    "    dataframe = pd.DataFrame({day_consecutive(65): data_day_name(data_path, -65),\n",
    "                              day_consecutive(64): data_day_name(data_path, -64),\n",
    "                              day_consecutive(63): data_day_name(data_path, -63),\n",
    "                              day_consecutive(62): data_day_name(data_path, -62),\n",
    "                              day_consecutive(61): data_day_name(data_path, -61),\n",
    "                              day_consecutive(60): data_day_name(data_path, -60),\n",
    "                              day_consecutive(59): data_day_name(data_path, -59),\n",
    "                              day_consecutive(58): data_day_name(data_path, -58),\n",
    "                              day_consecutive(57): data_day_name(data_path, -57),\n",
    "                              day_consecutive(56): data_day_name(data_path, -56),\n",
    "                              day_consecutive(55): data_day_name(data_path, -55),\n",
    "                              day_consecutive(54): data_day_name(data_path, -54),\n",
    "                              day_consecutive(53): data_day_name(data_path, -53),\n",
    "                              day_consecutive(52): data_day_name(data_path, -52),\n",
    "                              day_consecutive(51): data_day_name(data_path, -51),\n",
    "                              day_consecutive(50): data_day_name(data_path, -50),\n",
    "                              day_consecutive(49): data_day_name(data_path, -49),\n",
    "                              day_consecutive(48): data_day_name(data_path, -48),\n",
    "                              day_consecutive(47): data_day_name(data_path, -47),\n",
    "                              day_consecutive(46): data_day_name(data_path, -46),\n",
    "                              day_consecutive(45): data_day_name(data_path, -45),\n",
    "                              day_consecutive(44): data_day_name(data_path, -44),\n",
    "                              day_consecutive(43): data_day_name(data_path, -43),\n",
    "                              day_consecutive(42): data_day_name(data_path, -42),\n",
    "                              day_consecutive(41): data_day_name(data_path, -41),\n",
    "                              day_consecutive(40): data_day_name(data_path, -40),\n",
    "                              day_consecutive(39): data_day_name(data_path, -39),\n",
    "                              day_consecutive(38): data_day_name(data_path, -38),\n",
    "                              day_consecutive(37): data_day_name(data_path, -37),\n",
    "                              day_consecutive(36): data_day_name(data_path, -36),\n",
    "                              day_consecutive(35): data_day_name(data_path, -35),\n",
    "                              day_consecutive(34): data_day_name(data_path, -34),\n",
    "                              day_consecutive(33): data_day_name(data_path, -33),\n",
    "                              day_consecutive(32): data_day_name(data_path, -32),\n",
    "                              day_consecutive(31): data_day_name(data_path, -31),\n",
    "                              day_consecutive(30): data_day_name(data_path, -30),\n",
    "                              day_consecutive(29): data_day_name(data_path, -29),\n",
    "                              day_consecutive(28): data_day_name(data_path, -28),\n",
    "                              day_consecutive(27): data_day_name(data_path, -27),\n",
    "                              day_consecutive(26): data_day_name(data_path, -26),\n",
    "                              day_consecutive(25): data_day_name(data_path, -25),\n",
    "                              day_consecutive(24): data_day_name(data_path, -24),\n",
    "                              day_consecutive(23): data_day_name(data_path, -23),\n",
    "                              day_consecutive(22): data_day_name(data_path, -22),\n",
    "                              day_consecutive(21): data_day_name(data_path, -21),\n",
    "                              day_consecutive(20): data_day_name(data_path, -20),\n",
    "                              day_consecutive(19): data_day_name(data_path, -19), \n",
    "                              day_consecutive(18): data_day_name(data_path, -18),\n",
    "                              day_consecutive(17): data_day_name(data_path, -17),\n",
    "                              day_consecutive(16): data_day_name(data_path, -16),\n",
    "                              day_consecutive(15): data_day_name(data_path, -15),\n",
    "                              day_consecutive(14): data_day_name(data_path, -14),\n",
    "                              day_consecutive(13): data_day_name(data_path, -13),\n",
    "                              day_consecutive(12): data_day_name(data_path, -12),\n",
    "                              day_consecutive(11): data_day_name(data_path, -11),\n",
    "                              day_consecutive(10): data_day_name(data_path, -10),\n",
    "                              day_consecutive(9): data_day_name(data_path, -9),\n",
    "                              day_consecutive(8): data_day_name(data_path, -8),\n",
    "                              day_consecutive(7): data_day_name(data_path, -7),\n",
    "                              day_consecutive(6): data_day_name(data_path, -6),\n",
    "                              day_consecutive(5): data_day_name(data_path, -5),\n",
    "                              day_consecutive(4): data_day_name(data_path, -4),\n",
    "                              day_consecutive(3): data_day_name(data_path, -3),\n",
    "                              day_consecutive(2): data_day_name(data_path, -2),\n",
    "                              day_consecutive(1): data_day_name(data_path, -1),\n",
    "                             }, index=index_title)\n",
    "                                    \n",
    "    return dataframe\n",
    "\n",
    "data_spain_confirmed24h_datadista = create_dataframe(data_day, data_path_confirmed, ['Confirmados (24h) en España'])\n",
    "### data_spain_recovered24h_datadista = create_dataframe(data_day, data_path_recovered, ['Recuperados (24h) en España'])\n",
    "data_spain_deaths24h_datadista = create_dataframe(data_day, data_path_deaths, ['Fallecidos (24h) en España'])\n",
    "data_spain_newcases24h_datadista = pd.concat([data_spain_confirmed24h_datadista,data_spain_deaths24h_datadista], axis=0)\n",
    "### data_spain_newcases24h_datadista = pd.concat([data_spain_confirmed24h_datadista,data_spain_recovered24h_datadista,data_spain_deaths24h_datadista], axis=0)\n",
    "\n",
    "\n",
    "# Exportar\n",
    "data_spain_newcases24h_datadista.to_csv('data_spain_newcases24h.csv', sep = ';')\n",
    "data_spain_deaths24h_datadista.to_csv('data_spain_newcases24h_deaths.csv', sep = ';')\n",
    "data_spain_newcases24h_datadista\n",
    "\n",
    "\n",
    "data_spain_deaths24h_datadista_30 = data_spain_deaths24h_datadista.iloc[:, -40:]\n",
    "data_spain_deaths24h_datadista_30.to_csv('data_spain_newcases24h_deaths_30days.csv', sep = ';')\n",
    "data_spain_deaths24h_datadista_30"
   ]
  },
  {
   "cell_type": "code",
   "execution_count": 122,
   "metadata": {},
   "outputs": [
    {
     "output_type": "execute_result",
     "data": {
      "text/plain": "                              2020-04-11  2020-04-12  2020-04-13  2020-04-14  \\\nFallecidos (24h) en España           498         610         549         536   \nFallecidos (24h) en Italia           619         431         566         602   \nFallecidos (24h) en Francia          636         561         574         745   \nFallecidos (24h) en Alemania         -31         286         172         100   \n\n                              2020-04-15  2020-04-16  2020-04-17  2020-04-18  \\\nFallecidos (24h) en España           682         619         589         556   \nFallecidos (24h) en Italia           578         525         575         482   \nFallecidos (24h) en Francia         1438         753         761         642   \nFallecidos (24h) en Alemania         510         248         300         107   \n\n                              2020-04-19  2020-04-20  ...  2020-05-11  \\\nFallecidos (24h) en España           408         397  ...         124   \nFallecidos (24h) en Italia           433         454  ...         179   \nFallecidos (24h) en Francia          395         547  ...         263   \nFallecidos (24h) en Alemania         127         276  ...          92   \n\n                              2020-05-12  2020-05-13  2020-05-14  2020-05-15  \\\nFallecidos (24h) en España           172         182         217         141   \nFallecidos (24h) en Italia           172         195         262         242   \nFallecidos (24h) en Francia          348          83         351         104   \nFallecidos (24h) en Alemania          77         123          23          13   \n\n                              2020-05-16  2020-05-17  2020-05-18  2020-05-19  \\\nFallecidos (24h) en España           100          85          59         100   \nFallecidos (24h) en Italia           153         145          99         162   \nFallecidos (24h) en Francia            0         579         131        -217   \nFallecidos (24h) en Alemania          41          24          41          78   \n\n                              2020-05-20  \nFallecidos (24h) en España            95  \nFallecidos (24h) en Italia           161  \nFallecidos (24h) en Francia          110  \nFallecidos (24h) en Alemania          63  \n\n[4 rows x 40 columns]",
      "text/html": "<div>\n<style scoped>\n    .dataframe tbody tr th:only-of-type {\n        vertical-align: middle;\n    }\n\n    .dataframe tbody tr th {\n        vertical-align: top;\n    }\n\n    .dataframe thead th {\n        text-align: right;\n    }\n</style>\n<table border=\"1\" class=\"dataframe\">\n  <thead>\n    <tr style=\"text-align: right;\">\n      <th></th>\n      <th>2020-04-11</th>\n      <th>2020-04-12</th>\n      <th>2020-04-13</th>\n      <th>2020-04-14</th>\n      <th>2020-04-15</th>\n      <th>2020-04-16</th>\n      <th>2020-04-17</th>\n      <th>2020-04-18</th>\n      <th>2020-04-19</th>\n      <th>2020-04-20</th>\n      <th>...</th>\n      <th>2020-05-11</th>\n      <th>2020-05-12</th>\n      <th>2020-05-13</th>\n      <th>2020-05-14</th>\n      <th>2020-05-15</th>\n      <th>2020-05-16</th>\n      <th>2020-05-17</th>\n      <th>2020-05-18</th>\n      <th>2020-05-19</th>\n      <th>2020-05-20</th>\n    </tr>\n  </thead>\n  <tbody>\n    <tr>\n      <th>Fallecidos (24h) en España</th>\n      <td>498</td>\n      <td>610</td>\n      <td>549</td>\n      <td>536</td>\n      <td>682</td>\n      <td>619</td>\n      <td>589</td>\n      <td>556</td>\n      <td>408</td>\n      <td>397</td>\n      <td>...</td>\n      <td>124</td>\n      <td>172</td>\n      <td>182</td>\n      <td>217</td>\n      <td>141</td>\n      <td>100</td>\n      <td>85</td>\n      <td>59</td>\n      <td>100</td>\n      <td>95</td>\n    </tr>\n    <tr>\n      <th>Fallecidos (24h) en Italia</th>\n      <td>619</td>\n      <td>431</td>\n      <td>566</td>\n      <td>602</td>\n      <td>578</td>\n      <td>525</td>\n      <td>575</td>\n      <td>482</td>\n      <td>433</td>\n      <td>454</td>\n      <td>...</td>\n      <td>179</td>\n      <td>172</td>\n      <td>195</td>\n      <td>262</td>\n      <td>242</td>\n      <td>153</td>\n      <td>145</td>\n      <td>99</td>\n      <td>162</td>\n      <td>161</td>\n    </tr>\n    <tr>\n      <th>Fallecidos (24h) en Francia</th>\n      <td>636</td>\n      <td>561</td>\n      <td>574</td>\n      <td>745</td>\n      <td>1438</td>\n      <td>753</td>\n      <td>761</td>\n      <td>642</td>\n      <td>395</td>\n      <td>547</td>\n      <td>...</td>\n      <td>263</td>\n      <td>348</td>\n      <td>83</td>\n      <td>351</td>\n      <td>104</td>\n      <td>0</td>\n      <td>579</td>\n      <td>131</td>\n      <td>-217</td>\n      <td>110</td>\n    </tr>\n    <tr>\n      <th>Fallecidos (24h) en Alemania</th>\n      <td>-31</td>\n      <td>286</td>\n      <td>172</td>\n      <td>100</td>\n      <td>510</td>\n      <td>248</td>\n      <td>300</td>\n      <td>107</td>\n      <td>127</td>\n      <td>276</td>\n      <td>...</td>\n      <td>92</td>\n      <td>77</td>\n      <td>123</td>\n      <td>23</td>\n      <td>13</td>\n      <td>41</td>\n      <td>24</td>\n      <td>41</td>\n      <td>78</td>\n      <td>63</td>\n    </tr>\n  </tbody>\n</table>\n<p>4 rows × 40 columns</p>\n</div>"
     },
     "metadata": {},
     "execution_count": 122
    }
   ],
   "source": [
    "#Con datos de John Hopkins, SOLO PARA COMPARAR CON INTERNACIONALES\n",
    "\n",
    "path_c = \"COVID-19/csse_covid_19_data/csse_covid_19_time_series/time_series_covid19_confirmed_global.csv\"\n",
    "path_d = \"COVID-19/csse_covid_19_data/csse_covid_19_time_series/time_series_covid19_deaths_global.csv\"\n",
    "path_r = \"COVID-19/csse_covid_19_data/csse_covid_19_time_series/time_series_covid19_recovered_global.csv\"\n",
    "\n",
    "# Evolución últimos 40 días de nuevos casos\n",
    "def day_consecutive(day):\n",
    "    date_cons = date.today()\n",
    "    date_cons = date_cons - timedelta(days=day)\n",
    "    date_cons = date_cons.strftime('%Y-%m-%d')\n",
    "    return date_cons\n",
    "\n",
    "def data_day(data_path, number_to_rest):\n",
    "    data = pd.read_csv(data_path)\n",
    "    data = data.groupby(\"Country/Region\", as_index=False).sum()\n",
    "    data = data.set_index(\"Country/Region\").transpose()\n",
    "    data = data['Spain']\n",
    "    data = int(data.iloc[number_to_rest]) - int(data.iloc[number_to_rest-1])\n",
    "    return data\n",
    "\n",
    "def data_day_italy(data_path, number_to_rest):\n",
    "    data = pd.read_csv(data_path)\n",
    "    data = data.groupby(\"Country/Region\", as_index=False).sum()\n",
    "    data = data.set_index(\"Country/Region\").transpose()\n",
    "    data = data['Italy']\n",
    "    data = int(data.iloc[number_to_rest]) - int(data.iloc[number_to_rest-1])\n",
    "    return data\n",
    "\n",
    "def data_day_france(data_path, number_to_rest):\n",
    "    data = pd.read_csv(data_path)\n",
    "    data = data.groupby(\"Country/Region\", as_index=False).sum()\n",
    "    data = data.set_index(\"Country/Region\").transpose()\n",
    "    data = data['France']\n",
    "    data = int(data.iloc[number_to_rest]) - int(data.iloc[number_to_rest-1])\n",
    "    return data\n",
    "\n",
    "def data_day_germany(data_path, number_to_rest):\n",
    "    data = pd.read_csv(data_path)\n",
    "    data = data.groupby(\"Country/Region\", as_index=False).sum()\n",
    "    data = data.set_index(\"Country/Region\").transpose()\n",
    "    data = data['Germany']\n",
    "    data = int(data.iloc[number_to_rest]) - int(data.iloc[number_to_rest-1])\n",
    "    return data\n",
    "\n",
    "def create_dataframe(data_day_name, data_path, index_title):\n",
    "    dataframe = pd.DataFrame({day_consecutive(40): data_day_name(data_path, -40),\n",
    "                              day_consecutive(39): data_day_name(data_path, -39),\n",
    "                              day_consecutive(38): data_day_name(data_path, -38),\n",
    "                              day_consecutive(37): data_day_name(data_path, -37),\n",
    "                              day_consecutive(36): data_day_name(data_path, -36),\n",
    "                              day_consecutive(35): data_day_name(data_path, -35),\n",
    "                              day_consecutive(34): data_day_name(data_path, -34),\n",
    "                              day_consecutive(33): data_day_name(data_path, -33),\n",
    "                              day_consecutive(32): data_day_name(data_path, -32),\n",
    "                              day_consecutive(31): data_day_name(data_path, -31),\n",
    "                              day_consecutive(30): data_day_name(data_path, -30),\n",
    "                              day_consecutive(29): data_day_name(data_path, -29),\n",
    "                              day_consecutive(28): data_day_name(data_path, -28),\n",
    "                              day_consecutive(27): data_day_name(data_path, -27),\n",
    "                              day_consecutive(26): data_day_name(data_path, -26),\n",
    "                              day_consecutive(25): data_day_name(data_path, -25),\n",
    "                              day_consecutive(24): data_day_name(data_path, -24),\n",
    "                              day_consecutive(23): data_day_name(data_path, -23),\n",
    "                              day_consecutive(22): data_day_name(data_path, -22),\n",
    "                              day_consecutive(21): data_day_name(data_path, -21),\n",
    "                              day_consecutive(20): data_day_name(data_path, -20),\n",
    "                              day_consecutive(19): data_day_name(data_path, -19), \n",
    "                              day_consecutive(18): data_day_name(data_path, -18),\n",
    "                              day_consecutive(17): data_day_name(data_path, -17),\n",
    "                              day_consecutive(16): data_day_name(data_path, -16),\n",
    "                              day_consecutive(15): data_day_name(data_path, -15),\n",
    "                              day_consecutive(14): data_day_name(data_path, -14),\n",
    "                              day_consecutive(13): data_day_name(data_path, -13),\n",
    "                              day_consecutive(12): data_day_name(data_path, -12),\n",
    "                              day_consecutive(11): data_day_name(data_path, -11),\n",
    "                              day_consecutive(10): data_day_name(data_path, -10),\n",
    "                              day_consecutive(9): data_day_name(data_path, -9),\n",
    "                              day_consecutive(8): data_day_name(data_path, -8),\n",
    "                              day_consecutive(7): data_day_name(data_path, -7),\n",
    "                              day_consecutive(6): data_day_name(data_path, -6),\n",
    "                              day_consecutive(5): data_day_name(data_path, -5),\n",
    "                              day_consecutive(4): data_day_name(data_path, -4),\n",
    "                              day_consecutive(3): data_day_name(data_path, -3),\n",
    "                              day_consecutive(2): data_day_name(data_path, -2),\n",
    "                              day_consecutive(1): data_day_name(data_path, -1),\n",
    "                             }, index=index_title)\n",
    "                                    \n",
    "    return dataframe\n",
    "\n",
    "'''# Si se cogen los datos de España de John Hopkins !!!!\n",
    "data_spain_confirmed24h = create_dataframe(data_day, path_c, ['Confirmados (24h) en España'])\n",
    "data_spain_deaths24h = create_dataframe(data_day, path_d, ['Fallecidos (24h) en España'])\n",
    "data_spain_recovered24h = create_dataframe(data_day, path_r, ['Recuperados (24h) en España'])\n",
    "#### Juntar dataframes\n",
    "# data_spain_newcases24h = pd.concat([data_spain_confirmed24h,data_spain_recovered24h,data_spain_deaths24h], axis=0)\n",
    "# data_spain_newcases24h.to_csv('data_spain_newcases24h.csv', sep = ';')\n",
    "# data_spain_deaths24h.to_csv('data_spain_newcases24h_deaths.csv', sep = ';')\n",
    "'''\n",
    "\n",
    "######## Lo mismo en italia\n",
    "data_italy_confirmed24h = create_dataframe(data_day_italy, path_c, ['Confirmados (24h) en Italia'])\n",
    "data_italy_deaths24h = create_dataframe(data_day_italy, path_d, ['Fallecidos (24h) en Italia'])\n",
    "data_italy_recovered24h = create_dataframe(data_day_italy, path_r, ['Recuperados (24h) en Italia'])\n",
    "data_italy_newcases24h = pd.concat([data_italy_confirmed24h,data_italy_recovered24h,data_italy_deaths24h], axis=0)\n",
    "\n",
    "######## Lo mismo en Francia\n",
    "data_france_confirmed24h = create_dataframe(data_day_france, path_c, ['Confirmados (24h) en Francia'])\n",
    "data_france_deaths24h = create_dataframe(data_day_france, path_d, ['Fallecidos (24h) en Francia'])\n",
    "data_france_recovered24h = create_dataframe(data_day_france, path_r, ['Recuperados (24h) en Francia'])\n",
    "data_france_newcases24h = pd.concat([data_france_confirmed24h,data_france_recovered24h,data_france_deaths24h], axis=0)\n",
    "\n",
    "######## Lo mismo en Alemania\n",
    "data_germany_confirmed24h = create_dataframe(data_day_germany, path_c, ['Confirmados (24h) en Alemania'])\n",
    "data_germany_deaths24h = create_dataframe(data_day_germany, path_d, ['Fallecidos (24h) en Alemania'])\n",
    "data_germany_recovered24h = create_dataframe(data_day_germany, path_r, ['Recuperados (24h) en Alemania'])\n",
    "data_germany_newcases24h = pd.concat([data_germany_confirmed24h,data_germany_recovered24h,data_germany_deaths24h], axis=0)\n",
    "\n",
    "\n",
    "###### Juntar dataframes Spain + Italy sólo de fallecidos, OJO LOS DATOS DE SPAIN SE COGEN DEL CÁLCULO ANTERIOR DE DATADISTA\n",
    "data_somecountries_newcases24h_deaths = pd.concat([data_spain_deaths24h_datadista_30, data_italy_deaths24h,\n",
    "                                                   data_france_deaths24h, data_germany_deaths24h], axis=0)\n",
    "data_somecountries_newcases24h_deaths.to_csv('data_somecountries_newcases24h.csv', sep = ';')\n",
    "data_somecountries_newcases24h_deaths\n"
   ]
  },
  {
   "cell_type": "markdown",
   "metadata": {},
   "source": [
    "## ESPAÑA: Evolución temporal casos confirmados"
   ]
  },
  {
   "cell_type": "code",
   "execution_count": 114,
   "metadata": {},
   "outputs": [
    {
     "output_type": "execute_result",
     "data": {
      "text/plain": "                       2020-02-21  2020-02-22  2020-02-23  2020-02-24  \\\nComunidades Autónomas                                                   \nAndalucía                       0           0           0           0   \nAragón                          0           0           0           0   \nAsturias                        0           0           0           0   \nBaleares                        1           1           1           1   \nCanarias                        1           1           1           1   \nCantabria                       0           0           0           0   \nCastilla La Mancha              0           0           0           0   \nCastilla y León                 0           0           0           0   \nCataluña                        0           0           0           0   \nCeuta                           0           0           0           0   \nC. Valenciana                   0           0           0           0   \nExtremadura                     0           0           0           0   \nGalicia                         0           0           0           0   \nMadrid                          1           1           1           1   \nMelilla                         0           0           0           0   \nMurcia                          0           0           0           0   \nNavarra                         0           0           0           0   \nPaís Vasco                      0           0           0           0   \nLa Rioja                        0           0           0           0   \n\n                       2020-02-25  2020-02-26  2020-02-27  2020-02-28  \\\nComunidades Autónomas                                                   \nAndalucía                       0           0           1           6   \nAragón                          0           0           0           0   \nAsturias                        0           0           0           0   \nBaleares                        1           1           1           1   \nCanarias                        2           5           6           6   \nCantabria                       0           0           0           0   \nCastilla La Mancha              0           0           0           0   \nCastilla y León                 0           0           0           2   \nCataluña                        0           1           2           3   \nCeuta                           0           0           0           0   \nC. Valenciana                   0           1           2           8   \nExtremadura                     0           0           0           0   \nGalicia                         0           0           0           0   \nMadrid                          1           2           6          10   \nMelilla                         0           0           0           0   \nMurcia                          0           0           0           0   \nNavarra                         0           0           0           0   \nPaís Vasco                      0           0           0           0   \nLa Rioja                        0           0           0           0   \n\n                       2020-02-29  2020-03-01  ...  2020-05-11  2020-05-12  \\\nComunidades Autónomas                          ...                           \nAndalucía                       8          12  ...       15422       15522   \nAragón                          0           0  ...        6731        6797   \nAsturias                        0           1  ...        3216        3227   \nBaleares                        2           2  ...        2056        2056   \nCanarias                        6           7  ...        2260        2268   \nCantabria                       0           1  ...        2685        2691   \nCastilla La Mancha              0           1  ...       23869       24051   \nCastilla y León                 2           3  ...       23991       24170   \nCataluña                        5           6  ...       56450       56787   \nCeuta                           0           0  ...         169         173   \nC. Valenciana                  10          15  ...       13881       13937   \nExtremadura                     0           4  ...        3919        3920   \nGalicia                         0           0  ...       10388       10449   \nMadrid                         20          27  ...       70527       70716   \nMelilla                         0           0  ...         132         132   \nMurcia                          0           0  ...        2332        2333   \nNavarra                         0           1  ...        7486        7637   \nPaís Vasco                      2           3  ...       17709       17840   \nLa Rioja                        0           0  ...        5382        5392   \n\n                       2020-05-13  2020-05-14  2020-05-15  2020-05-16  \\\nComunidades Autónomas                                                   \nAndalucía                   15629       15823       16068       16263   \nAragón                       6856        6943        7015        7125   \nAsturias                     3252        3267        3300        3327   \nBaleares                     2061        2062        2071        2087   \nCanarias                     2271        2275        2280        2284   \nCantabria                    2733        2739        2761        2770   \nCastilla La Mancha          24185       24331       24527       24776   \nCastilla y León             24262       24379       24498       24595   \nCataluña                    56930       56956       57205       57328   \nCeuta                         173         175         175         175   \nC. Valenciana               14045       14154       14392       14536   \nExtremadura                  3920        3924        3934        3945   \nGalicia                     10495       10545       10605       10934   \nMadrid                      71016       71220       71562       71866   \nMelilla                       132         132         132         132   \nMurcia                       2398        2437        2477        2546   \nNavarra                      7752        7891        8082        8235   \nPaís Vasco                  18095       18100       18138       18507   \nLa Rioja                     5397        5405        5409        5413   \n\n                       2020-05-17  2020-05-18  2020-05-19  2020-05-20  \nComunidades Autónomas                                                  \nAndalucía                   16432       16457       16488       16501  \nAragón                       7177        7201        7271        7302  \nAsturias                     3344        3355        3358        3359  \nBaleares                     2096        2098        2111        2124  \nCanarias                     2289        2294        2294        2300  \nCantabria                    2773        2774        2782        2787  \nCastilla La Mancha          24908       25014       25074       25285  \nCastilla y León             24696       24746       24834       24876  \nCataluña                    57467       57564       57468       57531  \nCeuta                         175         175         176         178  \nC. Valenciana               14680       14724       14737       14759  \nExtremadura                  3948        3949        4039        4041  \nGalicia                     10960       10982       11024       11081  \nMadrid                      71890       71918       72041       72153  \nMelilla                       134         134         134         134  \nMurcia                       2566        2595        2597        2599  \nNavarra                      8293        8335        8288        8293  \nPaís Vasco                  18733       18780       18767       18793  \nLa Rioja                     5417        5417        5422        5428  \n\n[19 rows x 90 columns]",
      "text/html": "<div>\n<style scoped>\n    .dataframe tbody tr th:only-of-type {\n        vertical-align: middle;\n    }\n\n    .dataframe tbody tr th {\n        vertical-align: top;\n    }\n\n    .dataframe thead th {\n        text-align: right;\n    }\n</style>\n<table border=\"1\" class=\"dataframe\">\n  <thead>\n    <tr style=\"text-align: right;\">\n      <th></th>\n      <th>2020-02-21</th>\n      <th>2020-02-22</th>\n      <th>2020-02-23</th>\n      <th>2020-02-24</th>\n      <th>2020-02-25</th>\n      <th>2020-02-26</th>\n      <th>2020-02-27</th>\n      <th>2020-02-28</th>\n      <th>2020-02-29</th>\n      <th>2020-03-01</th>\n      <th>...</th>\n      <th>2020-05-11</th>\n      <th>2020-05-12</th>\n      <th>2020-05-13</th>\n      <th>2020-05-14</th>\n      <th>2020-05-15</th>\n      <th>2020-05-16</th>\n      <th>2020-05-17</th>\n      <th>2020-05-18</th>\n      <th>2020-05-19</th>\n      <th>2020-05-20</th>\n    </tr>\n    <tr>\n      <th>Comunidades Autónomas</th>\n      <th></th>\n      <th></th>\n      <th></th>\n      <th></th>\n      <th></th>\n      <th></th>\n      <th></th>\n      <th></th>\n      <th></th>\n      <th></th>\n      <th></th>\n      <th></th>\n      <th></th>\n      <th></th>\n      <th></th>\n      <th></th>\n      <th></th>\n      <th></th>\n      <th></th>\n      <th></th>\n      <th></th>\n    </tr>\n  </thead>\n  <tbody>\n    <tr>\n      <th>Andalucía</th>\n      <td>0</td>\n      <td>0</td>\n      <td>0</td>\n      <td>0</td>\n      <td>0</td>\n      <td>0</td>\n      <td>1</td>\n      <td>6</td>\n      <td>8</td>\n      <td>12</td>\n      <td>...</td>\n      <td>15422</td>\n      <td>15522</td>\n      <td>15629</td>\n      <td>15823</td>\n      <td>16068</td>\n      <td>16263</td>\n      <td>16432</td>\n      <td>16457</td>\n      <td>16488</td>\n      <td>16501</td>\n    </tr>\n    <tr>\n      <th>Aragón</th>\n      <td>0</td>\n      <td>0</td>\n      <td>0</td>\n      <td>0</td>\n      <td>0</td>\n      <td>0</td>\n      <td>0</td>\n      <td>0</td>\n      <td>0</td>\n      <td>0</td>\n      <td>...</td>\n      <td>6731</td>\n      <td>6797</td>\n      <td>6856</td>\n      <td>6943</td>\n      <td>7015</td>\n      <td>7125</td>\n      <td>7177</td>\n      <td>7201</td>\n      <td>7271</td>\n      <td>7302</td>\n    </tr>\n    <tr>\n      <th>Asturias</th>\n      <td>0</td>\n      <td>0</td>\n      <td>0</td>\n      <td>0</td>\n      <td>0</td>\n      <td>0</td>\n      <td>0</td>\n      <td>0</td>\n      <td>0</td>\n      <td>1</td>\n      <td>...</td>\n      <td>3216</td>\n      <td>3227</td>\n      <td>3252</td>\n      <td>3267</td>\n      <td>3300</td>\n      <td>3327</td>\n      <td>3344</td>\n      <td>3355</td>\n      <td>3358</td>\n      <td>3359</td>\n    </tr>\n    <tr>\n      <th>Baleares</th>\n      <td>1</td>\n      <td>1</td>\n      <td>1</td>\n      <td>1</td>\n      <td>1</td>\n      <td>1</td>\n      <td>1</td>\n      <td>1</td>\n      <td>2</td>\n      <td>2</td>\n      <td>...</td>\n      <td>2056</td>\n      <td>2056</td>\n      <td>2061</td>\n      <td>2062</td>\n      <td>2071</td>\n      <td>2087</td>\n      <td>2096</td>\n      <td>2098</td>\n      <td>2111</td>\n      <td>2124</td>\n    </tr>\n    <tr>\n      <th>Canarias</th>\n      <td>1</td>\n      <td>1</td>\n      <td>1</td>\n      <td>1</td>\n      <td>2</td>\n      <td>5</td>\n      <td>6</td>\n      <td>6</td>\n      <td>6</td>\n      <td>7</td>\n      <td>...</td>\n      <td>2260</td>\n      <td>2268</td>\n      <td>2271</td>\n      <td>2275</td>\n      <td>2280</td>\n      <td>2284</td>\n      <td>2289</td>\n      <td>2294</td>\n      <td>2294</td>\n      <td>2300</td>\n    </tr>\n    <tr>\n      <th>Cantabria</th>\n      <td>0</td>\n      <td>0</td>\n      <td>0</td>\n      <td>0</td>\n      <td>0</td>\n      <td>0</td>\n      <td>0</td>\n      <td>0</td>\n      <td>0</td>\n      <td>1</td>\n      <td>...</td>\n      <td>2685</td>\n      <td>2691</td>\n      <td>2733</td>\n      <td>2739</td>\n      <td>2761</td>\n      <td>2770</td>\n      <td>2773</td>\n      <td>2774</td>\n      <td>2782</td>\n      <td>2787</td>\n    </tr>\n    <tr>\n      <th>Castilla La Mancha</th>\n      <td>0</td>\n      <td>0</td>\n      <td>0</td>\n      <td>0</td>\n      <td>0</td>\n      <td>0</td>\n      <td>0</td>\n      <td>0</td>\n      <td>0</td>\n      <td>1</td>\n      <td>...</td>\n      <td>23869</td>\n      <td>24051</td>\n      <td>24185</td>\n      <td>24331</td>\n      <td>24527</td>\n      <td>24776</td>\n      <td>24908</td>\n      <td>25014</td>\n      <td>25074</td>\n      <td>25285</td>\n    </tr>\n    <tr>\n      <th>Castilla y León</th>\n      <td>0</td>\n      <td>0</td>\n      <td>0</td>\n      <td>0</td>\n      <td>0</td>\n      <td>0</td>\n      <td>0</td>\n      <td>2</td>\n      <td>2</td>\n      <td>3</td>\n      <td>...</td>\n      <td>23991</td>\n      <td>24170</td>\n      <td>24262</td>\n      <td>24379</td>\n      <td>24498</td>\n      <td>24595</td>\n      <td>24696</td>\n      <td>24746</td>\n      <td>24834</td>\n      <td>24876</td>\n    </tr>\n    <tr>\n      <th>Cataluña</th>\n      <td>0</td>\n      <td>0</td>\n      <td>0</td>\n      <td>0</td>\n      <td>0</td>\n      <td>1</td>\n      <td>2</td>\n      <td>3</td>\n      <td>5</td>\n      <td>6</td>\n      <td>...</td>\n      <td>56450</td>\n      <td>56787</td>\n      <td>56930</td>\n      <td>56956</td>\n      <td>57205</td>\n      <td>57328</td>\n      <td>57467</td>\n      <td>57564</td>\n      <td>57468</td>\n      <td>57531</td>\n    </tr>\n    <tr>\n      <th>Ceuta</th>\n      <td>0</td>\n      <td>0</td>\n      <td>0</td>\n      <td>0</td>\n      <td>0</td>\n      <td>0</td>\n      <td>0</td>\n      <td>0</td>\n      <td>0</td>\n      <td>0</td>\n      <td>...</td>\n      <td>169</td>\n      <td>173</td>\n      <td>173</td>\n      <td>175</td>\n      <td>175</td>\n      <td>175</td>\n      <td>175</td>\n      <td>175</td>\n      <td>176</td>\n      <td>178</td>\n    </tr>\n    <tr>\n      <th>C. Valenciana</th>\n      <td>0</td>\n      <td>0</td>\n      <td>0</td>\n      <td>0</td>\n      <td>0</td>\n      <td>1</td>\n      <td>2</td>\n      <td>8</td>\n      <td>10</td>\n      <td>15</td>\n      <td>...</td>\n      <td>13881</td>\n      <td>13937</td>\n      <td>14045</td>\n      <td>14154</td>\n      <td>14392</td>\n      <td>14536</td>\n      <td>14680</td>\n      <td>14724</td>\n      <td>14737</td>\n      <td>14759</td>\n    </tr>\n    <tr>\n      <th>Extremadura</th>\n      <td>0</td>\n      <td>0</td>\n      <td>0</td>\n      <td>0</td>\n      <td>0</td>\n      <td>0</td>\n      <td>0</td>\n      <td>0</td>\n      <td>0</td>\n      <td>4</td>\n      <td>...</td>\n      <td>3919</td>\n      <td>3920</td>\n      <td>3920</td>\n      <td>3924</td>\n      <td>3934</td>\n      <td>3945</td>\n      <td>3948</td>\n      <td>3949</td>\n      <td>4039</td>\n      <td>4041</td>\n    </tr>\n    <tr>\n      <th>Galicia</th>\n      <td>0</td>\n      <td>0</td>\n      <td>0</td>\n      <td>0</td>\n      <td>0</td>\n      <td>0</td>\n      <td>0</td>\n      <td>0</td>\n      <td>0</td>\n      <td>0</td>\n      <td>...</td>\n      <td>10388</td>\n      <td>10449</td>\n      <td>10495</td>\n      <td>10545</td>\n      <td>10605</td>\n      <td>10934</td>\n      <td>10960</td>\n      <td>10982</td>\n      <td>11024</td>\n      <td>11081</td>\n    </tr>\n    <tr>\n      <th>Madrid</th>\n      <td>1</td>\n      <td>1</td>\n      <td>1</td>\n      <td>1</td>\n      <td>1</td>\n      <td>2</td>\n      <td>6</td>\n      <td>10</td>\n      <td>20</td>\n      <td>27</td>\n      <td>...</td>\n      <td>70527</td>\n      <td>70716</td>\n      <td>71016</td>\n      <td>71220</td>\n      <td>71562</td>\n      <td>71866</td>\n      <td>71890</td>\n      <td>71918</td>\n      <td>72041</td>\n      <td>72153</td>\n    </tr>\n    <tr>\n      <th>Melilla</th>\n      <td>0</td>\n      <td>0</td>\n      <td>0</td>\n      <td>0</td>\n      <td>0</td>\n      <td>0</td>\n      <td>0</td>\n      <td>0</td>\n      <td>0</td>\n      <td>0</td>\n      <td>...</td>\n      <td>132</td>\n      <td>132</td>\n      <td>132</td>\n      <td>132</td>\n      <td>132</td>\n      <td>132</td>\n      <td>134</td>\n      <td>134</td>\n      <td>134</td>\n      <td>134</td>\n    </tr>\n    <tr>\n      <th>Murcia</th>\n      <td>0</td>\n      <td>0</td>\n      <td>0</td>\n      <td>0</td>\n      <td>0</td>\n      <td>0</td>\n      <td>0</td>\n      <td>0</td>\n      <td>0</td>\n      <td>0</td>\n      <td>...</td>\n      <td>2332</td>\n      <td>2333</td>\n      <td>2398</td>\n      <td>2437</td>\n      <td>2477</td>\n      <td>2546</td>\n      <td>2566</td>\n      <td>2595</td>\n      <td>2597</td>\n      <td>2599</td>\n    </tr>\n    <tr>\n      <th>Navarra</th>\n      <td>0</td>\n      <td>0</td>\n      <td>0</td>\n      <td>0</td>\n      <td>0</td>\n      <td>0</td>\n      <td>0</td>\n      <td>0</td>\n      <td>0</td>\n      <td>1</td>\n      <td>...</td>\n      <td>7486</td>\n      <td>7637</td>\n      <td>7752</td>\n      <td>7891</td>\n      <td>8082</td>\n      <td>8235</td>\n      <td>8293</td>\n      <td>8335</td>\n      <td>8288</td>\n      <td>8293</td>\n    </tr>\n    <tr>\n      <th>País Vasco</th>\n      <td>0</td>\n      <td>0</td>\n      <td>0</td>\n      <td>0</td>\n      <td>0</td>\n      <td>0</td>\n      <td>0</td>\n      <td>0</td>\n      <td>2</td>\n      <td>3</td>\n      <td>...</td>\n      <td>17709</td>\n      <td>17840</td>\n      <td>18095</td>\n      <td>18100</td>\n      <td>18138</td>\n      <td>18507</td>\n      <td>18733</td>\n      <td>18780</td>\n      <td>18767</td>\n      <td>18793</td>\n    </tr>\n    <tr>\n      <th>La Rioja</th>\n      <td>0</td>\n      <td>0</td>\n      <td>0</td>\n      <td>0</td>\n      <td>0</td>\n      <td>0</td>\n      <td>0</td>\n      <td>0</td>\n      <td>0</td>\n      <td>0</td>\n      <td>...</td>\n      <td>5382</td>\n      <td>5392</td>\n      <td>5397</td>\n      <td>5405</td>\n      <td>5409</td>\n      <td>5413</td>\n      <td>5417</td>\n      <td>5417</td>\n      <td>5422</td>\n      <td>5428</td>\n    </tr>\n  </tbody>\n</table>\n<p>19 rows × 90 columns</p>\n</div>"
     },
     "metadata": {},
     "execution_count": 114
    }
   ],
   "source": [
    "# Preparar Evolucion temporal confirmed\n",
    "data_ccaa_confirmed_timeseries_final = data_ccaa_confirmed_timeseries.drop(columns=['cod_ine'])\n",
    "data_ccaa_confirmed_timeseries_final.rename(columns = {'CCAA': 'Comunidades Autónomas'}, inplace = True)\n",
    "data_ccaa_confirmed_timeseries_final = data_ccaa_confirmed_timeseries_final.set_index('Comunidades Autónomas')\n",
    "data_ccaa_confirmed_timeseries_final = data_ccaa_confirmed_timeseries_final.iloc[0:19]\n",
    "\n",
    "# Exportar Evolucion temporal confirmed\n",
    "data_ccaa_confirmed_timeseries_final.to_csv('data_ccaa_evolution_confirmed.csv', sep = ';', encoding=\"utf-8\", index=True, index_label='Comunidades Autónomas')\n",
    "data_ccaa_confirmed_timeseries_final"
   ]
  },
  {
   "cell_type": "markdown",
   "metadata": {},
   "source": [
    "## ESPAÑA: Resúmenes por comunidades autónomas"
   ]
  },
  {
   "cell_type": "code",
   "execution_count": 118,
   "metadata": {},
   "outputs": [
    {
     "output_type": "execute_result",
     "data": {
      "text/plain": "    cod_ine                CCAA  2020-02-21  2020-02-22  2020-02-23  \\\n0         1           Andalucía         NaN         NaN         NaN   \n1         2              Aragón         NaN         NaN         NaN   \n2         3            Asturias         NaN         NaN         NaN   \n3         4            Baleares         NaN         NaN         NaN   \n4         5            Canarias         NaN         NaN         NaN   \n5         6           Cantabria         NaN         NaN         NaN   \n6         8  Castilla La Mancha         NaN         NaN         NaN   \n7         7     Castilla y León         NaN         NaN         NaN   \n8         9            Cataluña         NaN         NaN         NaN   \n9        18               Ceuta         NaN         NaN         NaN   \n10       10       C. Valenciana         NaN         NaN         NaN   \n11       11         Extremadura         NaN         NaN         NaN   \n12       12             Galicia         NaN         NaN         NaN   \n13       13              Madrid         NaN         NaN         NaN   \n14       19             Melilla         NaN         NaN         NaN   \n15       14              Murcia         NaN         NaN         NaN   \n16       15             Navarra         NaN         NaN         NaN   \n17       16          País Vasco         NaN         NaN         NaN   \n18       17            La Rioja         NaN         NaN         NaN   \n\n    2020-02-24  2020-02-25  2020-02-26  2020-02-27  2020-02-28  ...  \\\n0          NaN         NaN         NaN         NaN         NaN  ...   \n1          NaN         NaN         NaN         NaN         NaN  ...   \n2          NaN         NaN         NaN         NaN         NaN  ...   \n3          NaN         NaN         NaN         NaN         NaN  ...   \n4          NaN         NaN         NaN         NaN         NaN  ...   \n5          NaN         NaN         NaN         NaN         NaN  ...   \n6          NaN         NaN         NaN         NaN         NaN  ...   \n7          NaN         NaN         NaN         NaN         NaN  ...   \n8          NaN         NaN         NaN         NaN         NaN  ...   \n9          NaN         NaN         NaN         NaN         NaN  ...   \n10         NaN         NaN         NaN         NaN         NaN  ...   \n11         NaN         NaN         NaN         NaN         NaN  ...   \n12         NaN         NaN         NaN         NaN         NaN  ...   \n13         NaN         NaN         NaN         NaN         NaN  ...   \n14         NaN         NaN         NaN         NaN         NaN  ...   \n15         NaN         NaN         NaN         NaN         NaN  ...   \n16         NaN         NaN         NaN         NaN         NaN  ...   \n17         NaN         NaN         NaN         NaN         NaN  ...   \n18         NaN         NaN         NaN         NaN         NaN  ...   \n\n    2020-05-11  2020-05-12  2020-05-13  2020-05-14  2020-05-15  2020-05-16  \\\n0         1322        1326        1332        1336        1344        1355   \n1          825         828         829         836         837         838   \n2          288         290         292         293         298         299   \n3          209         210         215         216         216         216   \n4          149         151         151         151         151         151   \n5          201         203         205         205         206         206   \n6         2786        2811        2835        2852        2870        2883   \n7         1905        1914        1919        1925        1930        1940   \n8         5555        5621        5692        5823        5882        5915   \n9            4           4           4           4           4           4   \n10        1330        1336        1341        1349        1358        1365   \n11         483         487         489         492         494         497   \n12         597         598         599         603         603         604   \n13        8683        8720        8760        8779        8809        8826   \n14           2           2           2           2           2           2   \n15         139         139         142         142         143         144   \n16         490         493         494         498         500         501   \n17        1423        1429        1442        1454        1454        1455   \n18         346         347         348         348         348         348   \n\n    2020-05-17  2020-05-18  2020-05-19  2020-05-20  \n0         1358        1358        1367        1371  \n1          838         838         843         843  \n2          299         301         303         304  \n3          218         218         219         221  \n4          151         153         155         155  \n5          207         207         208         209  \n6         2893        2898        2900        2913  \n7         1946        1953        1960        1960  \n8         5944        5956        5981        6021  \n9            4           4           4           4  \n10        1366        1370        1376        1378  \n11         500         500         504         504  \n12         606         607         607         607  \n13        8847        8863        8894        8912  \n14           2           2           2           2  \n15         144         145         145         148  \n16         503         503         503         503  \n17        1459        1466        1470        1480  \n18         349         351         352         353  \n\n[19 rows x 92 columns]",
      "text/html": "<div>\n<style scoped>\n    .dataframe tbody tr th:only-of-type {\n        vertical-align: middle;\n    }\n\n    .dataframe tbody tr th {\n        vertical-align: top;\n    }\n\n    .dataframe thead th {\n        text-align: right;\n    }\n</style>\n<table border=\"1\" class=\"dataframe\">\n  <thead>\n    <tr style=\"text-align: right;\">\n      <th></th>\n      <th>cod_ine</th>\n      <th>CCAA</th>\n      <th>2020-02-21</th>\n      <th>2020-02-22</th>\n      <th>2020-02-23</th>\n      <th>2020-02-24</th>\n      <th>2020-02-25</th>\n      <th>2020-02-26</th>\n      <th>2020-02-27</th>\n      <th>2020-02-28</th>\n      <th>...</th>\n      <th>2020-05-11</th>\n      <th>2020-05-12</th>\n      <th>2020-05-13</th>\n      <th>2020-05-14</th>\n      <th>2020-05-15</th>\n      <th>2020-05-16</th>\n      <th>2020-05-17</th>\n      <th>2020-05-18</th>\n      <th>2020-05-19</th>\n      <th>2020-05-20</th>\n    </tr>\n  </thead>\n  <tbody>\n    <tr>\n      <th>0</th>\n      <td>1</td>\n      <td>Andalucía</td>\n      <td>NaN</td>\n      <td>NaN</td>\n      <td>NaN</td>\n      <td>NaN</td>\n      <td>NaN</td>\n      <td>NaN</td>\n      <td>NaN</td>\n      <td>NaN</td>\n      <td>...</td>\n      <td>1322</td>\n      <td>1326</td>\n      <td>1332</td>\n      <td>1336</td>\n      <td>1344</td>\n      <td>1355</td>\n      <td>1358</td>\n      <td>1358</td>\n      <td>1367</td>\n      <td>1371</td>\n    </tr>\n    <tr>\n      <th>1</th>\n      <td>2</td>\n      <td>Aragón</td>\n      <td>NaN</td>\n      <td>NaN</td>\n      <td>NaN</td>\n      <td>NaN</td>\n      <td>NaN</td>\n      <td>NaN</td>\n      <td>NaN</td>\n      <td>NaN</td>\n      <td>...</td>\n      <td>825</td>\n      <td>828</td>\n      <td>829</td>\n      <td>836</td>\n      <td>837</td>\n      <td>838</td>\n      <td>838</td>\n      <td>838</td>\n      <td>843</td>\n      <td>843</td>\n    </tr>\n    <tr>\n      <th>2</th>\n      <td>3</td>\n      <td>Asturias</td>\n      <td>NaN</td>\n      <td>NaN</td>\n      <td>NaN</td>\n      <td>NaN</td>\n      <td>NaN</td>\n      <td>NaN</td>\n      <td>NaN</td>\n      <td>NaN</td>\n      <td>...</td>\n      <td>288</td>\n      <td>290</td>\n      <td>292</td>\n      <td>293</td>\n      <td>298</td>\n      <td>299</td>\n      <td>299</td>\n      <td>301</td>\n      <td>303</td>\n      <td>304</td>\n    </tr>\n    <tr>\n      <th>3</th>\n      <td>4</td>\n      <td>Baleares</td>\n      <td>NaN</td>\n      <td>NaN</td>\n      <td>NaN</td>\n      <td>NaN</td>\n      <td>NaN</td>\n      <td>NaN</td>\n      <td>NaN</td>\n      <td>NaN</td>\n      <td>...</td>\n      <td>209</td>\n      <td>210</td>\n      <td>215</td>\n      <td>216</td>\n      <td>216</td>\n      <td>216</td>\n      <td>218</td>\n      <td>218</td>\n      <td>219</td>\n      <td>221</td>\n    </tr>\n    <tr>\n      <th>4</th>\n      <td>5</td>\n      <td>Canarias</td>\n      <td>NaN</td>\n      <td>NaN</td>\n      <td>NaN</td>\n      <td>NaN</td>\n      <td>NaN</td>\n      <td>NaN</td>\n      <td>NaN</td>\n      <td>NaN</td>\n      <td>...</td>\n      <td>149</td>\n      <td>151</td>\n      <td>151</td>\n      <td>151</td>\n      <td>151</td>\n      <td>151</td>\n      <td>151</td>\n      <td>153</td>\n      <td>155</td>\n      <td>155</td>\n    </tr>\n    <tr>\n      <th>5</th>\n      <td>6</td>\n      <td>Cantabria</td>\n      <td>NaN</td>\n      <td>NaN</td>\n      <td>NaN</td>\n      <td>NaN</td>\n      <td>NaN</td>\n      <td>NaN</td>\n      <td>NaN</td>\n      <td>NaN</td>\n      <td>...</td>\n      <td>201</td>\n      <td>203</td>\n      <td>205</td>\n      <td>205</td>\n      <td>206</td>\n      <td>206</td>\n      <td>207</td>\n      <td>207</td>\n      <td>208</td>\n      <td>209</td>\n    </tr>\n    <tr>\n      <th>6</th>\n      <td>8</td>\n      <td>Castilla La Mancha</td>\n      <td>NaN</td>\n      <td>NaN</td>\n      <td>NaN</td>\n      <td>NaN</td>\n      <td>NaN</td>\n      <td>NaN</td>\n      <td>NaN</td>\n      <td>NaN</td>\n      <td>...</td>\n      <td>2786</td>\n      <td>2811</td>\n      <td>2835</td>\n      <td>2852</td>\n      <td>2870</td>\n      <td>2883</td>\n      <td>2893</td>\n      <td>2898</td>\n      <td>2900</td>\n      <td>2913</td>\n    </tr>\n    <tr>\n      <th>7</th>\n      <td>7</td>\n      <td>Castilla y León</td>\n      <td>NaN</td>\n      <td>NaN</td>\n      <td>NaN</td>\n      <td>NaN</td>\n      <td>NaN</td>\n      <td>NaN</td>\n      <td>NaN</td>\n      <td>NaN</td>\n      <td>...</td>\n      <td>1905</td>\n      <td>1914</td>\n      <td>1919</td>\n      <td>1925</td>\n      <td>1930</td>\n      <td>1940</td>\n      <td>1946</td>\n      <td>1953</td>\n      <td>1960</td>\n      <td>1960</td>\n    </tr>\n    <tr>\n      <th>8</th>\n      <td>9</td>\n      <td>Cataluña</td>\n      <td>NaN</td>\n      <td>NaN</td>\n      <td>NaN</td>\n      <td>NaN</td>\n      <td>NaN</td>\n      <td>NaN</td>\n      <td>NaN</td>\n      <td>NaN</td>\n      <td>...</td>\n      <td>5555</td>\n      <td>5621</td>\n      <td>5692</td>\n      <td>5823</td>\n      <td>5882</td>\n      <td>5915</td>\n      <td>5944</td>\n      <td>5956</td>\n      <td>5981</td>\n      <td>6021</td>\n    </tr>\n    <tr>\n      <th>9</th>\n      <td>18</td>\n      <td>Ceuta</td>\n      <td>NaN</td>\n      <td>NaN</td>\n      <td>NaN</td>\n      <td>NaN</td>\n      <td>NaN</td>\n      <td>NaN</td>\n      <td>NaN</td>\n      <td>NaN</td>\n      <td>...</td>\n      <td>4</td>\n      <td>4</td>\n      <td>4</td>\n      <td>4</td>\n      <td>4</td>\n      <td>4</td>\n      <td>4</td>\n      <td>4</td>\n      <td>4</td>\n      <td>4</td>\n    </tr>\n    <tr>\n      <th>10</th>\n      <td>10</td>\n      <td>C. Valenciana</td>\n      <td>NaN</td>\n      <td>NaN</td>\n      <td>NaN</td>\n      <td>NaN</td>\n      <td>NaN</td>\n      <td>NaN</td>\n      <td>NaN</td>\n      <td>NaN</td>\n      <td>...</td>\n      <td>1330</td>\n      <td>1336</td>\n      <td>1341</td>\n      <td>1349</td>\n      <td>1358</td>\n      <td>1365</td>\n      <td>1366</td>\n      <td>1370</td>\n      <td>1376</td>\n      <td>1378</td>\n    </tr>\n    <tr>\n      <th>11</th>\n      <td>11</td>\n      <td>Extremadura</td>\n      <td>NaN</td>\n      <td>NaN</td>\n      <td>NaN</td>\n      <td>NaN</td>\n      <td>NaN</td>\n      <td>NaN</td>\n      <td>NaN</td>\n      <td>NaN</td>\n      <td>...</td>\n      <td>483</td>\n      <td>487</td>\n      <td>489</td>\n      <td>492</td>\n      <td>494</td>\n      <td>497</td>\n      <td>500</td>\n      <td>500</td>\n      <td>504</td>\n      <td>504</td>\n    </tr>\n    <tr>\n      <th>12</th>\n      <td>12</td>\n      <td>Galicia</td>\n      <td>NaN</td>\n      <td>NaN</td>\n      <td>NaN</td>\n      <td>NaN</td>\n      <td>NaN</td>\n      <td>NaN</td>\n      <td>NaN</td>\n      <td>NaN</td>\n      <td>...</td>\n      <td>597</td>\n      <td>598</td>\n      <td>599</td>\n      <td>603</td>\n      <td>603</td>\n      <td>604</td>\n      <td>606</td>\n      <td>607</td>\n      <td>607</td>\n      <td>607</td>\n    </tr>\n    <tr>\n      <th>13</th>\n      <td>13</td>\n      <td>Madrid</td>\n      <td>NaN</td>\n      <td>NaN</td>\n      <td>NaN</td>\n      <td>NaN</td>\n      <td>NaN</td>\n      <td>NaN</td>\n      <td>NaN</td>\n      <td>NaN</td>\n      <td>...</td>\n      <td>8683</td>\n      <td>8720</td>\n      <td>8760</td>\n      <td>8779</td>\n      <td>8809</td>\n      <td>8826</td>\n      <td>8847</td>\n      <td>8863</td>\n      <td>8894</td>\n      <td>8912</td>\n    </tr>\n    <tr>\n      <th>14</th>\n      <td>19</td>\n      <td>Melilla</td>\n      <td>NaN</td>\n      <td>NaN</td>\n      <td>NaN</td>\n      <td>NaN</td>\n      <td>NaN</td>\n      <td>NaN</td>\n      <td>NaN</td>\n      <td>NaN</td>\n      <td>...</td>\n      <td>2</td>\n      <td>2</td>\n      <td>2</td>\n      <td>2</td>\n      <td>2</td>\n      <td>2</td>\n      <td>2</td>\n      <td>2</td>\n      <td>2</td>\n      <td>2</td>\n    </tr>\n    <tr>\n      <th>15</th>\n      <td>14</td>\n      <td>Murcia</td>\n      <td>NaN</td>\n      <td>NaN</td>\n      <td>NaN</td>\n      <td>NaN</td>\n      <td>NaN</td>\n      <td>NaN</td>\n      <td>NaN</td>\n      <td>NaN</td>\n      <td>...</td>\n      <td>139</td>\n      <td>139</td>\n      <td>142</td>\n      <td>142</td>\n      <td>143</td>\n      <td>144</td>\n      <td>144</td>\n      <td>145</td>\n      <td>145</td>\n      <td>148</td>\n    </tr>\n    <tr>\n      <th>16</th>\n      <td>15</td>\n      <td>Navarra</td>\n      <td>NaN</td>\n      <td>NaN</td>\n      <td>NaN</td>\n      <td>NaN</td>\n      <td>NaN</td>\n      <td>NaN</td>\n      <td>NaN</td>\n      <td>NaN</td>\n      <td>...</td>\n      <td>490</td>\n      <td>493</td>\n      <td>494</td>\n      <td>498</td>\n      <td>500</td>\n      <td>501</td>\n      <td>503</td>\n      <td>503</td>\n      <td>503</td>\n      <td>503</td>\n    </tr>\n    <tr>\n      <th>17</th>\n      <td>16</td>\n      <td>País Vasco</td>\n      <td>NaN</td>\n      <td>NaN</td>\n      <td>NaN</td>\n      <td>NaN</td>\n      <td>NaN</td>\n      <td>NaN</td>\n      <td>NaN</td>\n      <td>NaN</td>\n      <td>...</td>\n      <td>1423</td>\n      <td>1429</td>\n      <td>1442</td>\n      <td>1454</td>\n      <td>1454</td>\n      <td>1455</td>\n      <td>1459</td>\n      <td>1466</td>\n      <td>1470</td>\n      <td>1480</td>\n    </tr>\n    <tr>\n      <th>18</th>\n      <td>17</td>\n      <td>La Rioja</td>\n      <td>NaN</td>\n      <td>NaN</td>\n      <td>NaN</td>\n      <td>NaN</td>\n      <td>NaN</td>\n      <td>NaN</td>\n      <td>NaN</td>\n      <td>NaN</td>\n      <td>...</td>\n      <td>346</td>\n      <td>347</td>\n      <td>348</td>\n      <td>348</td>\n      <td>348</td>\n      <td>348</td>\n      <td>349</td>\n      <td>351</td>\n      <td>352</td>\n      <td>353</td>\n    </tr>\n  </tbody>\n</table>\n<p>19 rows × 92 columns</p>\n</div>"
     },
     "metadata": {},
     "execution_count": 118
    }
   ],
   "source": [
    "# SOLO HACER CUANDO LOS DATOS EN DATADISTA ESTÉN ACTUALIZADOS, SI NO, NO FUNCIONA\n",
    "\n",
    "# Confirmados por CCAA\n",
    "data_ccaa_confirmed_today = data_ccaa_confirmed_timeseries[['CCAA', date_daybefore_large]]\n",
    "data_ccaa_confirmed_today.rename(columns = {date_daybefore_large : 'Confirmados', 'CCAA' : 'Comunidades Autónomas'}, inplace = True)\n",
    "data_ccaa_confirmed_today = data_ccaa_confirmed_today.set_index('Comunidades Autónomas')\n",
    "data_ccaa_confirmed_today = data_ccaa_confirmed_today.copy().iloc[0:19]\n",
    "\n",
    "# New cases\n",
    "data_ccaa_confirmed_daybefore = data_ccaa_confirmed_timeseries[['CCAA', date_daymorebefore_large]]\n",
    "data_ccaa_confirmed_daybefore.rename(columns = {date_daymorebefore_large : 'Confirmados', 'CCAA' : 'Comunidades Autónomas'}, inplace = True)\n",
    "data_ccaa_confirmed_daybefore = data_ccaa_confirmed_daybefore.set_index('Comunidades Autónomas')\n",
    "data_ccaa_confirmed_newcases = data_ccaa_confirmed_today - data_ccaa_confirmed_daybefore\n",
    "data_ccaa_confirmed_newcases = data_ccaa_confirmed_newcases.copy().iloc[0:19]\n",
    "data_ccaa_confirmed_newcases.rename(columns = {'Confirmados': 'Confirmados (24h)'}, inplace = True)\n",
    "\n",
    "\n",
    "# Fallecidos por CCAA\n",
    "data_ccaa_deaths_today = data_ccaa_deaths_timeseries[['CCAA', date_daybefore_large]]\n",
    "data_ccaa_deaths_today.rename(columns = {date_daybefore_large : 'Fallecidos', 'CCAA' : 'Comunidades Autónomas'}, inplace = True)\n",
    "data_ccaa_deaths_today = data_ccaa_deaths_today.set_index('Comunidades Autónomas')\n",
    "data_ccaa_deaths_today = data_ccaa_deaths_today.copy().iloc[0:19]\n",
    "\n",
    "# New cases\n",
    "data_ccaa_deaths_daybefore = data_ccaa_deaths_timeseries[['CCAA', date_daymorebefore_large]]\n",
    "data_ccaa_deaths_daybefore.rename(columns = {date_daymorebefore_large : 'Fallecidos', 'CCAA' : 'Comunidades Autónomas'}, inplace = True)\n",
    "data_ccaa_deaths_daybefore = data_ccaa_deaths_daybefore.set_index('Comunidades Autónomas')\n",
    "data_ccaa_deaths_newcases = data_ccaa_deaths_today - data_ccaa_deaths_daybefore\n",
    "data_ccaa_deaths_newcases = data_ccaa_deaths_newcases.copy().iloc[0:19]\n",
    "data_ccaa_deaths_newcases.rename(columns = {'Fallecidos': 'Fallecidos (24h)'}, inplace = True)\n",
    "\n",
    "'''\n",
    "# Recuperados por CCAA\n",
    "data_ccaa_recovered_today = data_ccaa_recovered_timeseries[['CCAA', date_today_large]]\n",
    "data_ccaa_recovered_today.rename(columns = {date_today_large : 'Curados', 'CCAA' : 'Comunidades Autónomas'}, inplace = True)\n",
    "data_ccaa_recovered_today = data_ccaa_recovered_today.set_index('Comunidades Autónomas')\n",
    "data_ccaa_recovered_today = data_ccaa_recovered_today.copy().iloc[0:19]\n",
    "# New cases\n",
    "data_ccaa_recovered_daybefore = data_ccaa_recovered_timeseries[['CCAA', date_daybefore_large]]\n",
    "data_ccaa_recovered_daybefore.rename(columns = {date_daybefore_large : 'Curados', 'CCAA' : 'Comunidades Autónomas'}, inplace = True)\n",
    "data_ccaa_recovered_daybefore = data_ccaa_recovered_daybefore.set_index('Comunidades Autónomas')\n",
    "data_ccaa_recovered_newcases = data_ccaa_recovered_today - data_ccaa_recovered_daybefore\n",
    "data_ccaa_recovered_newcases = data_ccaa_recovered_newcases.copy().iloc[0:19]\n",
    "data_ccaa_recovered_newcases.rename(columns = {'Curados': 'Curados (24h)'}, inplace = True)\n",
    "'''\n",
    "\n",
    "#Juntar los tres dataframes confirmados + curados + fallecidos\n",
    "data_ccaa_confirmed_recovered_deaths = pd.concat([data_ccaa_confirmed_today, data_ccaa_deaths_today,], axis=1)\n",
    "\n",
    "# Juntar los tres dataframes nuevos casos\n",
    "data_ccaa_newcases_confirmed_recovered_deaths = pd.concat([data_ccaa_confirmed_newcases, data_ccaa_deaths_newcases], axis=1)\n",
    "\n",
    "# Exportar por grupos\n",
    "data_ccaa_confirmed_recovered_deaths.to_csv('data_ccaa_confirmed_recovered_deaths.csv', sep = ';', encoding=\"utf-8\", index=True, index_label='Comunidades Autónomas')\n",
    "data_ccaa_newcases_confirmed_recovered_deaths.to_csv('data_ccaa_newcases_confirmed_recovered_deaths.csv', sep = ';', encoding=\"utf-8\", index=True, index_label='Comunidades Autónomas')\n",
    "\n",
    "data_ccaa_deaths_timeseries"
   ]
  },
  {
   "cell_type": "markdown",
   "metadata": {},
   "source": [
    "## ESPAÑA: Análisis por rangos de edad"
   ]
  },
  {
   "cell_type": "code",
   "execution_count": 10,
   "metadata": {},
   "outputs": [
    {
     "output_type": "execute_result",
     "data": {
      "text/plain": "fecha                33\nrango_edad           33\nsexo                 33\ncasos_confirmados    33\nhospitalizados       33\ningresos_uci         33\nfallecidos           33\ndtype: int64"
     },
     "metadata": {},
     "execution_count": 10
    }
   ],
   "source": [
    "#Comprobar si están subidos los últimos datos, si sale 0 es que no hay datos\n",
    "data_spain_ccaa_age = pd.read_csv(\"https://raw.githubusercontent.com/datadista/datasets/master/COVID%2019/nacional_covid19_rango_edad.csv\", sep = ',')\n",
    "data_spain_ccaa_age[data_spain_ccaa_age[\"fecha\"] == date_daybefore_large].count()"
   ]
  },
  {
   "cell_type": "code",
   "execution_count": 11,
   "metadata": {},
   "outputs": [
    {
     "output_type": "stream",
     "name": "stdout",
     "text": "Confirmados  Hospitalizados  Fallecidos\nTotal mujeres           141983           40655        8928\nTotal hombres           106970           51430       11608\nTotal ambos sexos       252283           92572       20552\n               Confirmados  Hospitalizados  Fallecidos\nRango de edad                                         \n0-9                    501             148           1\n10-19                  802             141           3\n20-29                 4683             690          15\n30-39                 8754            1944          42\n40-49                14817            5104         140\n50-59                18885            8369         465\n60-69                18369           10557        1282\n70-79                18414           12377        3321\n80-89                16372            9653        4656\n90 y +                5373            2447        1683\n"
    }
   ],
   "source": [
    "data_spain_ccaa_age = pd.read_csv(\"https://raw.githubusercontent.com/datadista/datasets/master/COVID%2019/nacional_covid19_rango_edad.csv\", sep = ',', encoding = 'utf8', thousands = '.')\n",
    "data_spain_ccaa_age = data_spain_ccaa_age[data_spain_ccaa_age[\"fecha\"] == date_daybefore_large]\n",
    "\n",
    "def take_edad(sexo):\n",
    "    data_spain_ccaa_age_all = data_spain_ccaa_age[data_spain_ccaa_age[\"sexo\"] == sexo]\n",
    "    #Para sacar datos total\n",
    "    data_spain_ccaa_age_total = data_spain_ccaa_age_all.tail(1)\n",
    "    data_spain_ccaa_age_total = data_spain_ccaa_age_total.iloc[:, [3,4,6]]\n",
    "    data_spain_ccaa_age_total.columns = ['Confirmados','Hospitalizados', 'Fallecidos']\n",
    "    #Para sacar datos concretos (de ambos, hombres y mujeres)\n",
    "    data_spain_ccaa_age_concrete = data_spain_ccaa_age_all[:-1]\n",
    "    data_spain_ccaa_age_concrete = data_spain_ccaa_age_concrete.iloc[:, [1,3,4,6]]\n",
    "    data_spain_ccaa_age_concrete.columns = ['Rango de edad','Confirmados','Hospitalizados', 'Fallecidos']\n",
    "    data_spain_ccaa_age_concrete.set_index('Rango de edad', inplace=True)\n",
    "    return data_spain_ccaa_age_concrete, data_spain_ccaa_age_total\n",
    "\n",
    "\n",
    "data_spain_ccaa_age_ambos_concrete, data_spain_ccaa_age_ambos_total = take_edad('ambos')\n",
    "data_spain_ccaa_age_hombres_concrete, data_spain_ccaa_age_hombres_total = take_edad('hombres')\n",
    "data_spain_ccaa_age_mujeres_concrete, data_spain_ccaa_age_mujeres_total = take_edad('mujeres')\n",
    "\n",
    "\n",
    "data_spain_ccaa_age_ambos_total.index = ['Total ambos sexos']\n",
    "data_spain_ccaa_age_hombres_total.index = ['Total hombres']\n",
    "data_spain_ccaa_age_mujeres_total.index = ['Total mujeres']\n",
    "data_spain_ccaa_age_ambos_concat = pd.concat([data_spain_ccaa_age_mujeres_total, data_spain_ccaa_age_hombres_total, \n",
    "                                             data_spain_ccaa_age_ambos_total], axis=0)\n",
    "\n",
    "data_spain_ccaa_age_mujeres_concrete.to_csv('data_spain_ages_mujeres.csv', sep = ';', encoding=\"utf-8\")\n",
    "data_spain_ccaa_age_hombres_concrete.to_csv('data_spain_ages_hombres.csv', sep = ';', encoding=\"utf-8\")\n",
    "data_spain_ccaa_age_ambos_concat.to_csv('data_spain_ages_ambos.csv', sep = ';', encoding=\"utf-8\")\n",
    "\n",
    "print(data_spain_ccaa_age_ambos_concat)\n",
    "print(data_spain_ccaa_age_hombres_concrete)"
   ]
  },
  {
   "cell_type": "markdown",
   "metadata": {},
   "source": [
    "# Subir archivos a SERVIDOR desde FTP"
   ]
  },
  {
   "cell_type": "code",
   "execution_count": 21,
   "metadata": {},
   "outputs": [
    {
     "output_type": "stream",
     "name": "stdout",
     "text": "230-OK. Current restricted directory is /\n230 414 Kbytes used (0%) - authorized: 51200 Kb\ndrwxr-xr-x    2 akakicre   akakicre         4096 May 22 10:24 .\ndrwxr-xr-x    2 akakicre   akakicre         4096 May 22 10:24 ..\n-rw-r--r--    1 akakicre   akakicre           10 May 23 20:11 .ftpquota\n-rw-r--r--    1 akakicre   akakicre       154076 Apr  3 13:34 Imagen_github.jpg\n-rw-r--r--    1 akakicre   akakicre          419 May 23 20:11 data_ccaa_confirmed_recovered_deaths.csv\n-rw-r--r--    1 akakicre   akakicre         8614 May 23 20:11 data_ccaa_evolution_confirmed.csv\n-rw-r--r--    1 akakicre   akakicre         3603 May 23 20:11 data_ccaa_evolution_deaths.csv\n-rw-r--r--    1 akakicre   akakicre         3064 May 23 20:11 data_ccaa_evolution_recovered.csv\n-rw-r--r--    1 akakicre   akakicre          343 May 23 20:11 data_ccaa_newcases_confirmed_recovered_deaths.csv\n-rw-r--r--    1 akakicre   akakicre         1170 May 23 20:11 data_somecountries_newcases.csv\n-rw-r--r--    1 akakicre   akakicre          141 May 23 20:11 data_spain_ages_ambos.csv\n-rw-r--r--    1 akakicre   akakicre          251 May 23 20:11 data_spain_ages_hombres.csv\n-rw-r--r--    1 akakicre   akakicre          248 May 23 20:11 data_spain_ages_mujeres.csv\n-rw-r--r--    1 akakicre   akakicre         1350 May 23 20:11 data_spain_newcases24h.csv\n-rw-r--r--    1 akakicre   akakicre         1000 May 23 20:11 data_spain_newcases24h_deaths.csv\n-rw-r--r--    1 akakicre   akakicre          626 May 23 20:11 data_spain_newcases24h_deaths_30days.csv\n-rw-r--r--    1 akakicre   akakicre          848 Apr 29 08:38 data_spotify_duo_positions.csv\n-rw-r--r--    1 akakicre   akakicre          997 Apr 29 08:38 data_spotify_duo_streams.csv\n-rw-r--r--    1 akakicre   akakicre         3519 Apr 29 08:39 data_spotify_top10_position.csv\n-rw-r--r--    1 akakicre   akakicre         2061 Apr 29 08:39 data_spotify_up_position.csv\n-rw-r--r--    1 akakicre   akakicre         3068 Apr 29 08:39 data_spotify_up_streams.csv\n-rw-r--r--    1 akakicre   akakicre         1185 Apr 29 08:39 data_spotify_variasesp_streams.csv\n-rw-r--r--    1 akakicre   akakicre         1570 Apr 29 08:38 data_spotify_varios_positions.csv\n-rw-r--r--    1 akakicre   akakicre         2660 Apr 29 08:39 data_spotify_varios_streams.csv\n-rw-r--r--    1 akakicre   akakicre          273 May 23 20:11 data_world_actual.csv\n-rw-r--r--    1 akakicre   akakicre          212 May 23 20:11 data_world_actual_den.csv\n-rw-r--r--    1 akakicre   akakicre         6737 May 23 20:11 data_world_from100.csv\n-rw-r--r--    1 akakicre   akakicre          182 May 23 20:11 data_world_resume.csv\n-rw-r--r--    1 akakicre   akakicre         5215 May 23 20:11 data_world_timeline.csv\n-rw-r--r--    1 akakicre   akakicre        60006 Apr  6 09:09 diseno4_covid19.jpg\nNone\n"
    }
   ],
   "source": [
    "# Ayuda: https://www.pythoncircle.com/post/668/uploading-a-file-to-ftp-server-using-python/\n",
    "import csv\n",
    "from ftplib import FTP\n",
    "from io import StringIO\n",
    "\n",
    "passw = pd.read_csv(\"pass.txt\", sep = ',', encoding=\"utf-8\")\n",
    "host = \"akakicreations.com\"\n",
    "username = passw.columns[0]\n",
    "password = passw.columns[1]\n",
    "ftp = FTP(host=host)\n",
    "login_status = ftp.login(user=username, passwd=password)\n",
    "print(login_status)\n",
    "\n",
    "print(ftp.dir())\n",
    "\n",
    "fp = open(\"data_world_resume.csv\", 'rb')\n",
    "ftp.storbinary('STOR %s' % os.path.basename(\"data_world_resume.csv\"), fp, 1024)\n",
    "\n",
    "fp = open(\"data_world_actual.csv\", 'rb')\n",
    "ftp.storbinary('STOR %s' % os.path.basename(\"data_world_actual.csv\"), fp, 1024)\n",
    "\n",
    "\n",
    "fp = open(\"data_world_actual_den.csv\", 'rb')\n",
    "ftp.storbinary('STOR %s' % os.path.basename(\"data_world_actual_den.csv\"), fp, 1024)\n",
    "\n",
    "fp = open(\"data_world_from100.csv\", 'rb')\n",
    "ftp.storbinary('STOR %s' % os.path.basename(\"data_world_from100.csv\"), fp, 1024)\n",
    "\n",
    "fp = open(\"data_world_timeline.csv\", 'rb')\n",
    "ftp.storbinary('STOR %s' % os.path.basename(\"data_world_timeline.csv\"), fp, 1024)\n",
    "\n",
    "fp = open(\"data_somecountries_newcases24h.csv\", 'rb')\n",
    "ftp.storbinary('STOR %s' % os.path.basename(\"data_somecountries_newcases.csv\"), fp, 1024)\n",
    "\n",
    "fp = open(\"data_spain_newcases24h.csv\", 'rb')\n",
    "ftp.storbinary('STOR %s' % os.path.basename(\"data_spain_newcases24h.csv\"), fp, 1024)\n",
    "\n",
    "fp = open(\"data_spain_newcases24h_deaths.csv\", 'rb')\n",
    "ftp.storbinary('STOR %s' % os.path.basename(\"data_spain_newcases24h_deaths.csv\"), fp, 1024)\n",
    "\n",
    "fp = open(\"data_spain_newcases24h_deaths_30days.csv\", 'rb')\n",
    "ftp.storbinary('STOR %s' % os.path.basename(\"data_spain_newcases24h_deaths_30days.csv\"), fp, 1024)\n",
    "\n",
    "# Datos por CCAA\n",
    "fp = open(\"data_ccaa_evolution_confirmed.csv\", 'rb')\n",
    "ftp.storbinary('STOR %s' % os.path.basename(\"data_ccaa_evolution_confirmed.csv\"), fp, 1024)\n",
    "\n",
    "fp = open(\"data_ccaa_evolution_deaths.csv\", 'rb')\n",
    "ftp.storbinary('STOR %s' % os.path.basename(\"data_ccaa_evolution_deaths.csv\"), fp, 1024)\n",
    "\n",
    "fp = open(\"data_ccaa_evolution_recovered.csv\", 'rb')\n",
    "ftp.storbinary('STOR %s' % os.path.basename(\"data_ccaa_evolution_recovered.csv\"), fp, 1024)\n",
    "\n",
    "fp = open(\"data_ccaa_confirmed_recovered_deaths.csv\", 'rb')\n",
    "ftp.storbinary('STOR %s' % os.path.basename(\"data_ccaa_confirmed_recovered_deaths.csv\"), fp, 1024)\n",
    "\n",
    "fp = open(\"data_ccaa_newcases_confirmed_recovered_deaths.csv\", 'rb')\n",
    "ftp.storbinary('STOR %s' % os.path.basename(\"data_ccaa_newcases_confirmed_recovered_deaths.csv\"), fp, 1024)\n",
    "\n",
    "# Datos por grupos de edad\n",
    "fp = open(\"data_spain_ages_mujeres.csv\", 'rb')\n",
    "ftp.storbinary('STOR %s' % os.path.basename(\"data_spain_ages_mujeres.csv\"), fp, 1024)\n",
    "\n",
    "fp = open(\"data_spain_ages_hombres.csv\", 'rb')\n",
    "ftp.storbinary('STOR %s' % os.path.basename(\"data_spain_ages_hombres.csv\"), fp, 1024)\n",
    "\n",
    "fp = open(\"data_spain_ages_ambos.csv\", 'rb')\n",
    "ftp.storbinary('STOR %s' % os.path.basename(\"data_spain_ages_ambos.csv\"), fp, 1024)\n",
    "\n",
    "fp.close()\n",
    "\n"
   ]
  },
  {
   "cell_type": "code",
   "execution_count": null,
   "metadata": {},
   "outputs": [],
   "source": []
  }
 ],
 "metadata": {
  "file_extension": ".py",
  "kernelspec": {
   "display_name": "Python 3",
   "language": "python",
   "name": "python3"
  },
  "language_info": {
   "codemirror_mode": {
    "name": "ipython",
    "version": 3
   },
   "file_extension": ".py",
   "mimetype": "text/x-python",
   "name": "python",
   "nbconvert_exporter": "python",
   "pygments_lexer": "ipython3",
   "version": "3.7.3-final"
  },
  "mimetype": "text/x-python",
  "name": "python",
  "npconvert_exporter": "python",
  "pygments_lexer": "ipython3",
  "version": 3
 },
 "nbformat": 4,
 "nbformat_minor": 4
}