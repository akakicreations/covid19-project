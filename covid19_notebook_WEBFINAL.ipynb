{
 "cells": [
  {
   "cell_type": "markdown",
   "metadata": {},
   "source": [
    "# Ejercicio Covid-19"
   ]
  },
  {
   "cell_type": "code",
   "execution_count": 68,
   "metadata": {},
   "outputs": [],
   "source": [
    "import os\n",
    "import numpy as np\n",
    "import pandas as pd\n",
    "import matplotlib.pyplot as plt"
   ]
  },
  {
   "cell_type": "code",
   "execution_count": 69,
   "metadata": {},
   "outputs": [],
   "source": [
    "#Fechas de hoy(datos España) y ayer (datos inetrnacionales)\n",
    "from datetime import datetime, timedelta\n",
    "from datetime import date\n",
    "date_today = date.today()\n",
    "date_today_complete = date.today()\n",
    "date_daybefore = date_today - timedelta(days=1)\n",
    "date_today = date_today.strftime('%d/%m')\n",
    "date_daybefore = date_daybefore.strftime('%d/%m')"
   ]
  },
  {
   "cell_type": "code",
   "execution_count": 70,
   "metadata": {},
   "outputs": [],
   "source": [
    "path_spain = 'pdf_files/Actualizacion_69_COVID-19.pdf'\n",
    "new_inform = 69"
   ]
  },
  {
   "cell_type": "markdown",
   "metadata": {},
   "source": [
    "# Preparación inicial"
   ]
  },
  {
   "cell_type": "markdown",
   "metadata": {},
   "source": [
    "## Descargar PDFs del Ministerio de Sanidad"
   ]
  },
  {
   "cell_type": "code",
   "execution_count": 71,
   "metadata": {},
   "outputs": [
    {
     "output_type": "stream",
     "name": "stdout",
     "text": "Actualizacion_69_COVID-19.pdf\n"
    }
   ],
   "source": [
    "#Importar PDFs\n",
    "import os\n",
    "import requests\n",
    "from bs4 import BeautifulSoup\n",
    "import re\n",
    "\n",
    "#Función para descargar PDFs\n",
    "def download_file(url):\n",
    "    local_filename = url.split('/')[-1]\n",
    "    # NOTE the stream=True parameter below\n",
    "    with requests.get(url, stream=True) as r:\n",
    "        r.raise_for_status()\n",
    "        with open(local_filename, 'wb') as f:\n",
    "            for chunk in r.iter_content(chunk_size=8192): \n",
    "                if chunk: # filter out keep-alive new chunks\n",
    "                    f.write(chunk)\n",
    "                    # f.flush()\n",
    "    print(local_filename)\n",
    "    return local_filename\n",
    "\n",
    "#\n",
    "DAILY_FOLDER = \"./pdf_files/\"\n",
    "ES_REPORT_URL = \"https://www.mscbs.gob.es/profesionales/saludPublica/ccayes/alertasActual/nCov-China/situacionActual.htm\"\n",
    "PDF_BASE_URL = \"https://www.mscbs.gob.es/profesionales/saludPublica/ccayes/alertasActual/nCov-China/\"\n",
    "\n",
    "#Función para revisar los nombres de archivos\n",
    "def get_file_names(url):\n",
    "    try:\n",
    "        req_page = requests.get(url, verify=True)\n",
    "    except Exception as e:\n",
    "        raise Exception(f\"Could not get web page content: {e}\")\n",
    "    \n",
    "    re_pdf = re.compile(r\"(documentos/.+?\\.pdf)\")\n",
    "\n",
    "    pdf_paths = list(set(re_pdf.findall(req_page.text)))\n",
    "    return pdf_paths\n",
    "\n",
    "#Reviso los nomnbres de archivos\n",
    "pdf_paths = get_file_names(ES_REPORT_URL)\n",
    "\n",
    "pdf_paths = [PDF_BASE_URL+i for i in pdf_paths if \"Informacion_inicial_alerta\" not in i]\n",
    "\n",
    "\n",
    "for pdf_path in pdf_paths:\n",
    "        pdf_name = pdf_path.split(\"/\")[-1]\n",
    "        pdf_path_get = requests.get(pdf_path)\n",
    "        with open(\n",
    "            os.path.join(DAILY_FOLDER, pdf_name),\n",
    "            'wb'\n",
    "        ) as f:\n",
    "            f.write(pdf_path_get.content)\n",
    "            \n",
    "# Descargo PDFs a raíz\n",
    "for i in range(68,new_inform):\n",
    "    path = 'https://www.mscbs.gob.es/profesionales/saludPublica/ccayes/alertasActual/nCov-China/documentos/Actualizacion_{}_COVID-19.pdf'.format(i+1)\n",
    "    download_file(path)\n",
    "\n",
    "# Muevo los archivos a otra carpeta\n",
    "lst_files = [file for file in os.listdir() if 'Act' in file]\n",
    "if os.path.isdir(\"./pdf_files/\"):\n",
    "    for f in lst_files:\n",
    "        os.rename(\"./{}\".format(f), \"./pdf_files/{}\".format(f))\n",
    "else:\n",
    "    os.mkdir(\"./pdf_data/\")\n",
    "    for f in lst_files:\n",
    "        os.rename(\"./{}\".format(f), \"./pdf_files/{}\".format(f))"
   ]
  },
  {
   "cell_type": "markdown",
   "metadata": {},
   "source": [
    "## Parsear PDF descargado"
   ]
  },
  {
   "cell_type": "code",
   "execution_count": 72,
   "metadata": {},
   "outputs": [
    {
     "output_type": "stream",
     "name": "stdout",
     "text": "(COVID-19).  \n\n08.04\n08.04.2020\n"
    },
    {
     "output_type": "execute_result",
     "data": {
      "text/plain": "                      Confirmados Curados Fallecidos Nuevos casos (24h)\nComunidades Autónomas                                                  \nAndalucía                    8997    1041        605                230\nAragón                       3549     659        349                100\nAsturias                     1705     294        102                 26\nBaleares                     1412     616         89                 43\nCanarias                     1762     249         91                 37\nCantabria                    1572     175         92                 71\nCastilla La Mancha          11788    1557       1255                711\nCastilla y León             10058    2988       1028                477\nCataluña                    29647   12250       3041               1324\nCeuta                          84       7          4                  1\nC. Valenciana                7655    1344        724                212\nExtremadura                  2184     328        271                 68\nGalicia                      6538     800        213                207\nMadrid                      42450   19836       5586               1981\nMelilla                        93      12          2                  1\nMurcia                       1326     203         85                 43\nNavarra                      3467     450        206                112\nPaís Vasco                   9452    4151        635                431\nLa Rioja                     2951    1061        177                105",
      "text/html": "<div>\n<style scoped>\n    .dataframe tbody tr th:only-of-type {\n        vertical-align: middle;\n    }\n\n    .dataframe tbody tr th {\n        vertical-align: top;\n    }\n\n    .dataframe thead th {\n        text-align: right;\n    }\n</style>\n<table border=\"1\" class=\"dataframe\">\n  <thead>\n    <tr style=\"text-align: right;\">\n      <th></th>\n      <th>Confirmados</th>\n      <th>Curados</th>\n      <th>Fallecidos</th>\n      <th>Nuevos casos (24h)</th>\n    </tr>\n    <tr>\n      <th>Comunidades Autónomas</th>\n      <th></th>\n      <th></th>\n      <th></th>\n      <th></th>\n    </tr>\n  </thead>\n  <tbody>\n    <tr>\n      <th>Andalucía</th>\n      <td>8997</td>\n      <td>1041</td>\n      <td>605</td>\n      <td>230</td>\n    </tr>\n    <tr>\n      <th>Aragón</th>\n      <td>3549</td>\n      <td>659</td>\n      <td>349</td>\n      <td>100</td>\n    </tr>\n    <tr>\n      <th>Asturias</th>\n      <td>1705</td>\n      <td>294</td>\n      <td>102</td>\n      <td>26</td>\n    </tr>\n    <tr>\n      <th>Baleares</th>\n      <td>1412</td>\n      <td>616</td>\n      <td>89</td>\n      <td>43</td>\n    </tr>\n    <tr>\n      <th>Canarias</th>\n      <td>1762</td>\n      <td>249</td>\n      <td>91</td>\n      <td>37</td>\n    </tr>\n    <tr>\n      <th>Cantabria</th>\n      <td>1572</td>\n      <td>175</td>\n      <td>92</td>\n      <td>71</td>\n    </tr>\n    <tr>\n      <th>Castilla La Mancha</th>\n      <td>11788</td>\n      <td>1557</td>\n      <td>1255</td>\n      <td>711</td>\n    </tr>\n    <tr>\n      <th>Castilla y León</th>\n      <td>10058</td>\n      <td>2988</td>\n      <td>1028</td>\n      <td>477</td>\n    </tr>\n    <tr>\n      <th>Cataluña</th>\n      <td>29647</td>\n      <td>12250</td>\n      <td>3041</td>\n      <td>1324</td>\n    </tr>\n    <tr>\n      <th>Ceuta</th>\n      <td>84</td>\n      <td>7</td>\n      <td>4</td>\n      <td>1</td>\n    </tr>\n    <tr>\n      <th>C. Valenciana</th>\n      <td>7655</td>\n      <td>1344</td>\n      <td>724</td>\n      <td>212</td>\n    </tr>\n    <tr>\n      <th>Extremadura</th>\n      <td>2184</td>\n      <td>328</td>\n      <td>271</td>\n      <td>68</td>\n    </tr>\n    <tr>\n      <th>Galicia</th>\n      <td>6538</td>\n      <td>800</td>\n      <td>213</td>\n      <td>207</td>\n    </tr>\n    <tr>\n      <th>Madrid</th>\n      <td>42450</td>\n      <td>19836</td>\n      <td>5586</td>\n      <td>1981</td>\n    </tr>\n    <tr>\n      <th>Melilla</th>\n      <td>93</td>\n      <td>12</td>\n      <td>2</td>\n      <td>1</td>\n    </tr>\n    <tr>\n      <th>Murcia</th>\n      <td>1326</td>\n      <td>203</td>\n      <td>85</td>\n      <td>43</td>\n    </tr>\n    <tr>\n      <th>Navarra</th>\n      <td>3467</td>\n      <td>450</td>\n      <td>206</td>\n      <td>112</td>\n    </tr>\n    <tr>\n      <th>País Vasco</th>\n      <td>9452</td>\n      <td>4151</td>\n      <td>635</td>\n      <td>431</td>\n    </tr>\n    <tr>\n      <th>La Rioja</th>\n      <td>2951</td>\n      <td>1061</td>\n      <td>177</td>\n      <td>105</td>\n    </tr>\n  </tbody>\n</table>\n</div>"
     },
     "metadata": {},
     "execution_count": 72
    }
   ],
   "source": [
    "# Parsear PDF\n",
    "\n",
    "from tika import parser\n",
    "import pandas as pd\n",
    "from io import StringIO\n",
    "import re\n",
    "import tabula\n",
    "\n",
    "raw = parser.from_file(path_spain)\n",
    "\n",
    "#Cojo partes del PDF\n",
    "ind_ini = raw['content'].find('en España:')\n",
    "ind_fin = raw['content'].find('mundo:')\n",
    "\n",
    "\n",
    "#Coger fecha del PDF\n",
    "def get_fecha(string):\n",
    "    ind_ini = string.find('(COVID-19)')\n",
    "    ind_fin = string.find('.20')\n",
    "    print(string[ind_ini:ind_fin])\n",
    "    return string[ind_ini:ind_fin].split('\\n')[-1]+'.2020'\n",
    "\n",
    "fecha_data_spain = get_fecha(raw['content'])\n",
    "print(fecha_data_spain)\n",
    "\n",
    "# Coger tablar primera página\n",
    "import tabula\n",
    "from tabula import read_pdf\n",
    "data_spain_ccaa = tabula.read_pdf(path_spain, stream=True, pages=1)[0]\n",
    "data_spain_ccaa.columns = ['Comunidades Autónomas','Confirmados', 'IA', 'Hospitalizados', 'UCI', 'Fallecidos', 'Curados', 'Nuevos casos (24h)']\n",
    "data_spain_ccaa.rename(index={23: \"Casos totales en España\" + \" (act.\" + date_today + \")\" }, inplace=True)\n",
    "data_spain_ccaa = data_spain_ccaa.iloc[3:22]\n",
    "data_spain_ccaa = data_spain_ccaa[['Comunidades Autónomas', 'Confirmados', 'Curados', 'Fallecidos', 'Nuevos casos (24h)']]\n",
    "\n",
    "#Quitar símbolos raros qye nos sobran\n",
    "data_spain_ccaa['Confirmados'] = data_spain_ccaa['Confirmados'].str.replace('.','')\n",
    "data_spain_ccaa['Fallecidos'] = data_spain_ccaa['Fallecidos'].str.replace('.','')\n",
    "data_spain_ccaa['Curados'] = data_spain_ccaa['Curados'].str.replace('.','')\n",
    "data_spain_ccaa['Nuevos casos (24h)'] = data_spain_ccaa['Nuevos casos (24h)'].str.replace('.','')\n",
    "\n",
    "# Seleccionar índice Comunidades Autónomas\n",
    "data_spain_ccaa = data_spain_ccaa.set_index('Comunidades Autónomas')\n",
    "data_spain_ccaa"
   ]
  },
  {
   "cell_type": "markdown",
   "metadata": {},
   "source": [
    "# Resumen de datos INICIAL"
   ]
  },
  {
   "cell_type": "markdown",
   "metadata": {},
   "source": [
    "## Resumen datos globales CSV: covid19_data_drive_resume.csv"
   ]
  },
  {
   "cell_type": "code",
   "execution_count": 100,
   "metadata": {},
   "outputs": [
    {
     "output_type": "execute_result",
     "data": {
      "text/plain": "                               Confirmados Curados Fallecidos\nCasos totales en el mundo          1426096  300054      81865\nNuevos casos en el mundo (24h)       80995   23539       7300\nCasos totales en España             146690   48021      14555",
      "text/html": "<div>\n<style scoped>\n    .dataframe tbody tr th:only-of-type {\n        vertical-align: middle;\n    }\n\n    .dataframe tbody tr th {\n        vertical-align: top;\n    }\n\n    .dataframe thead th {\n        text-align: right;\n    }\n</style>\n<table border=\"1\" class=\"dataframe\">\n  <thead>\n    <tr style=\"text-align: right;\">\n      <th></th>\n      <th>Confirmados</th>\n      <th>Curados</th>\n      <th>Fallecidos</th>\n    </tr>\n  </thead>\n  <tbody>\n    <tr>\n      <th>Casos totales en el mundo</th>\n      <td>1426096</td>\n      <td>300054</td>\n      <td>81865</td>\n    </tr>\n    <tr>\n      <th>Nuevos casos en el mundo (24h)</th>\n      <td>80995</td>\n      <td>23539</td>\n      <td>7300</td>\n    </tr>\n    <tr>\n      <th>Casos totales en España</th>\n      <td>146690</td>\n      <td>48021</td>\n      <td>14555</td>\n    </tr>\n  </tbody>\n</table>\n</div>"
     },
     "metadata": {},
     "execution_count": 100
    }
   ],
   "source": [
    "##### EN EL MUNDO\n",
    "\n",
    "## Datos totales mundiales\n",
    "data_confirmed_world = pd.read_csv(\"COVID-19/csse_covid_19_data/csse_covid_19_time_series/time_series_covid19_confirmed_global.csv\" )\n",
    "data_deaths_world = pd.read_csv(\"COVID-19/csse_covid_19_data/csse_covid_19_time_series/time_series_covid19_deaths_global.csv\")\n",
    "data_recovered_world = pd.read_csv(\"COVID-19/csse_covid_19_data/csse_covid_19_time_series/time_series_covid19_recovered_global.csv\" )\n",
    "\n",
    "#Saco un dataset con solo los países\n",
    "data_confirmed_world = data_confirmed_world.groupby(\"Country/Region\", as_index=False).sum()\n",
    "data_deaths_world = data_deaths_world.groupby(\"Country/Region\", as_index=False).sum()\n",
    "data_recovered_world = data_recovered_world.groupby(\"Country/Region\", as_index=False).sum()\n",
    "\n",
    "# Hago transposición de los datos para mover las columnas en filas \n",
    "data_confirmed_world = data_confirmed_world.set_index('Country/Region').transpose()\n",
    "data_deaths_world = data_deaths_world.set_index('Country/Region').transpose()\n",
    "data_recovered_world = data_recovered_world.set_index('Country/Region').transpose()\n",
    "\n",
    "#Selecciono los últimos datos\n",
    "data_confirmed_world_actual = int(data_confirmed_world.sum(axis=1).iloc[-1])\n",
    "data_deaths_world_actual = int(data_deaths_world.sum(axis=1).tail(1).iloc[-1])\n",
    "data_recovered_world_actual = int(data_recovered_world.sum(axis=1).tail(1).iloc[-1])\n",
    "\n",
    "#Selecciono los datos del día anterior\n",
    "data_confirmed_world_daybefore = int(data_confirmed_world.sum(axis=1).iloc[-2])\n",
    "data_deaths_world_daybefore = int(data_deaths_world.sum(axis=1).tail(2).iloc[-2])\n",
    "data_recovered_world_daybefore = int(data_recovered_world.sum(axis=1).tail(2).iloc[-2])\n",
    "\n",
    "\n",
    "########### NUEVOS CASOS EN EL MUNDO (24H)\n",
    "data_confirmed_world_newcases = data_confirmed_world_actual - data_confirmed_world_daybefore\n",
    "data_deaths_world_newcases = data_deaths_world_actual - data_deaths_world_daybefore\n",
    "data_recovered_world_newcases = data_recovered_world_actual -data_recovered_world_daybefore\n",
    "#Creo un dataframe con datos anteriores\n",
    "data_world_newcases = pd.DataFrame({'Confirmados': data_confirmed_world_newcases,'Curados': data_recovered_world_newcases, 'Fallecidos': data_deaths_world_newcases}, index=['Nuevos casos en el mundo (24h)'])\n",
    "\n",
    "\n",
    "#Modificar para últimos datos\n",
    "data_world_resume = pd.DataFrame({'Confirmados':[data_confirmed_world_actual], 'Curados':[data_recovered_world_actual],'Fallecidos':[data_deaths_world_actual]})\n",
    "data_columns = ['Confirmados', 'Curados','Fallecidos']\n",
    "data_world_resume.columns = data_columns\n",
    "data_world_resume.rename(index={0: \"Casos totales en el mundo\"}, inplace=True)\n",
    "\n",
    "##### EN ESPAÑA \n",
    "\n",
    "#Importado de PDF\n",
    "import tabula\n",
    "from tabula import read_pdf\n",
    "data_spain_resume = tabula.read_pdf(path_spain, stream=True, pages=1)[0]\n",
    "data_spain_resume.columns = ['Comunidades Autónomas','Confirmados', 'IA', 'Hospitalizados', 'UCI', 'Fallecidos', 'Curados', 'Nuevos casos (24h)']\n",
    "data_spain_resume.rename(index={22: \"Casos totales en España\"}, inplace=True)\n",
    "\n",
    "\n",
    "########### NUEVOS CASOS EN ESPAÑA (24H)\n",
    "data_spain_resume_newcases = data_spain_resume['Nuevos casos (24h)'].tail(1)\n",
    "# REVISAR, NO FUNCIONAAAAAA\n",
    "# data_spain_resume_newcases = data_spain_resume.iloc[[0],[7]]\n",
    "# Modificar para últimos datos\n",
    "# data_spain_newcases = pd.DataFrame({'Confirmados': data_spain_resume_newcases,'Curados': 'NaN', 'Fallecidos': 'NaN'}, index=['Nuevos casos en España (24h)'])\n",
    "\n",
    "\n",
    "#Selecciono los últimos casos\n",
    "data_spain_resume_last = data_spain_resume.tail(1)\n",
    "data_spain_resume_last = data_spain_resume_last[['Confirmados', 'Curados', 'Fallecidos']]\n",
    "data_spain_resume_last['Confirmados'] = data_spain_resume_last['Confirmados'].str.replace('.','')\n",
    "data_spain_resume_last['Fallecidos'] = data_spain_resume_last['Fallecidos'].str.replace('.','')\n",
    "data_spain_resume_last['Curados'] = data_spain_resume_last['Curados'].str.replace('.','')\n",
    "\n",
    "##### JUNTAR\n",
    "data_resume_final = pd.concat([data_world_resume, data_world_newcases, data_spain_resume_last])\n",
    "\n",
    "data_resume_final.to_csv('covid19_data_drive_resume.csv', sep = ';')\n",
    "data_resume_final.head()\n",
    "#df.merge(pd.DataFrame(data = [s.values] * len(s), columns = s.index), left_index=True, right_index=True)\n",
    "data_resume_final"
   ]
  },
  {
   "cell_type": "code",
   "execution_count": 99,
   "metadata": {},
   "outputs": [
    {
     "output_type": "execute_result",
     "data": {
      "text/plain": "             2020-04-06  2020-04-07 2020-04-08\nConfirmados      135032      140510     146690\nCurados           40437       43208      48021\nFallecidos        13055       13798      14555",
      "text/html": "<div>\n<style scoped>\n    .dataframe tbody tr th:only-of-type {\n        vertical-align: middle;\n    }\n\n    .dataframe tbody tr th {\n        vertical-align: top;\n    }\n\n    .dataframe thead th {\n        text-align: right;\n    }\n</style>\n<table border=\"1\" class=\"dataframe\">\n  <thead>\n    <tr style=\"text-align: right;\">\n      <th></th>\n      <th>2020-04-06</th>\n      <th>2020-04-07</th>\n      <th>2020-04-08</th>\n    </tr>\n  </thead>\n  <tbody>\n    <tr>\n      <th>Confirmados</th>\n      <td>135032</td>\n      <td>140510</td>\n      <td>146690</td>\n    </tr>\n    <tr>\n      <th>Curados</th>\n      <td>40437</td>\n      <td>43208</td>\n      <td>48021</td>\n    </tr>\n    <tr>\n      <th>Fallecidos</th>\n      <td>13055</td>\n      <td>13798</td>\n      <td>14555</td>\n    </tr>\n  </tbody>\n</table>\n</div>"
     },
     "metadata": {},
     "execution_count": 99
    }
   ],
   "source": [
    "'''############### EN PRUEBAS\n",
    "# FALTA METER EL CONDICIONAL\n",
    "#FALTA COMO SACAR LA DIFERENCIA ENTRE COLUMNAS PARA SACAR LOS ÚLTIMO CASOS EN 24H EN ESPAÑA\n",
    "\n",
    "# Dataframe con nuevos datos del día\n",
    "date_today_resume_spain = date.today()\n",
    "date_today_resume_spain = date_today_resume_spain.strftime('%Y-%m-%d')\n",
    "data_spain_resume_evolution_last = data_spain_resume_last.transpose()\n",
    "data_spain_resume_evolution_last.columns = [date_today_resume_spain]\n",
    "# data_spain_resume_evolution_last.to_csv('covid19_data_spain_resume_evolution2.csv', sep = ';')\n",
    "\n",
    "# Cargar lo que hay y añadir nueva columna\n",
    "data_spain_resume_evolution_process = pd.read_csv(\"covid19_data_spain_resume_evolution2.csv\", sep = ';', encoding=\"utf-8\")\n",
    "data_spain_resume_evolution_process = data_spain_resume_evolution_process.set_index('Unnamed: 0')\n",
    "data_spain_resume_evolution_process.index.name = None\n",
    "data_spain_resume_evolution_final = pd.merge(data_spain_resume_evolution_process,data_spain_resume_evolution_last, left_index=True, right_index=True)\n",
    "\n",
    "# Guardar encima del anterior\n",
    "#data_spain_resume_evolution_final.to_csv('covid19_data_spain_resume_evolution2.csv', sep = ';')\n",
    "data_spain_resume_evolution_final\n",
    "'''"
   ]
  },
  {
   "cell_type": "markdown",
   "metadata": {},
   "source": [
    "# Gráficos a nivel mundial"
   ]
  },
  {
   "cell_type": "markdown",
   "metadata": {},
   "source": [
    "## Preparación general de datos por países"
   ]
  },
  {
   "cell_type": "code",
   "execution_count": 74,
   "metadata": {},
   "outputs": [
    {
     "output_type": "execute_result",
     "data": {
      "text/plain": "Country/Region    China    France   Germany     Iran     Italy  Korea, South  \\\n2020-04-03      82511.0   65202.0   91159.0  53183.0  119827.0       10062.0   \n2020-04-04      82543.0   90848.0   96092.0  55743.0  124632.0       10156.0   \n2020-04-05      82602.0   93773.0  100123.0  58226.0  128948.0       10237.0   \n2020-04-06      82665.0   98963.0  103374.0  60500.0  132547.0       10284.0   \n2020-04-07      82718.0  110065.0  107663.0  62589.0  135586.0       10331.0   \n\nCountry/Region  Norway     Spain        US  United Kingdom  \n2020-04-03      5370.0  119199.0  275586.0         38689.0  \n2020-04-04      5550.0  126168.0  308850.0         42477.0  \n2020-04-05      5687.0  131646.0  337072.0         48436.0  \n2020-04-06      5865.0  136675.0  366667.0         52279.0  \n2020-04-07      6086.0  141942.0  396223.0         55949.0  ",
      "text/html": "<div>\n<style scoped>\n    .dataframe tbody tr th:only-of-type {\n        vertical-align: middle;\n    }\n\n    .dataframe tbody tr th {\n        vertical-align: top;\n    }\n\n    .dataframe thead th {\n        text-align: right;\n    }\n</style>\n<table border=\"1\" class=\"dataframe\">\n  <thead>\n    <tr style=\"text-align: right;\">\n      <th>Country/Region</th>\n      <th>China</th>\n      <th>France</th>\n      <th>Germany</th>\n      <th>Iran</th>\n      <th>Italy</th>\n      <th>Korea, South</th>\n      <th>Norway</th>\n      <th>Spain</th>\n      <th>US</th>\n      <th>United Kingdom</th>\n    </tr>\n  </thead>\n  <tbody>\n    <tr>\n      <th>2020-04-03</th>\n      <td>82511.0</td>\n      <td>65202.0</td>\n      <td>91159.0</td>\n      <td>53183.0</td>\n      <td>119827.0</td>\n      <td>10062.0</td>\n      <td>5370.0</td>\n      <td>119199.0</td>\n      <td>275586.0</td>\n      <td>38689.0</td>\n    </tr>\n    <tr>\n      <th>2020-04-04</th>\n      <td>82543.0</td>\n      <td>90848.0</td>\n      <td>96092.0</td>\n      <td>55743.0</td>\n      <td>124632.0</td>\n      <td>10156.0</td>\n      <td>5550.0</td>\n      <td>126168.0</td>\n      <td>308850.0</td>\n      <td>42477.0</td>\n    </tr>\n    <tr>\n      <th>2020-04-05</th>\n      <td>82602.0</td>\n      <td>93773.0</td>\n      <td>100123.0</td>\n      <td>58226.0</td>\n      <td>128948.0</td>\n      <td>10237.0</td>\n      <td>5687.0</td>\n      <td>131646.0</td>\n      <td>337072.0</td>\n      <td>48436.0</td>\n    </tr>\n    <tr>\n      <th>2020-04-06</th>\n      <td>82665.0</td>\n      <td>98963.0</td>\n      <td>103374.0</td>\n      <td>60500.0</td>\n      <td>132547.0</td>\n      <td>10284.0</td>\n      <td>5865.0</td>\n      <td>136675.0</td>\n      <td>366667.0</td>\n      <td>52279.0</td>\n    </tr>\n    <tr>\n      <th>2020-04-07</th>\n      <td>82718.0</td>\n      <td>110065.0</td>\n      <td>107663.0</td>\n      <td>62589.0</td>\n      <td>135586.0</td>\n      <td>10331.0</td>\n      <td>6086.0</td>\n      <td>141942.0</td>\n      <td>396223.0</td>\n      <td>55949.0</td>\n    </tr>\n  </tbody>\n</table>\n</div>"
     },
     "metadata": {},
     "execution_count": 74
    }
   ],
   "source": [
    "# Datos https://github.com/CSSEGISandData/COVID-19.git\n",
    "data = pd.read_csv(\"COVID-19/csse_covid_19_data/csse_covid_19_time_series/time_series_covid19_confirmed_global.csv\" )\n",
    "\n",
    "#Saco un dataset con solo los países\n",
    "data_countries = data.groupby(\"Country/Region\", as_index=False).sum()\n",
    "\n",
    "# Hago transposición de los datos para mover las columnas en filas \n",
    "data_trans = data_countries.set_index('Country/Region').transpose()\n",
    "# Y me quedo sólo con los datos temporales y número de casos\n",
    "data_time = data_trans[2:]\n",
    "\n",
    "# Cogemos solo determinados países\n",
    "data_time = data_time[['China', 'France', 'Germany', 'Iran','Italy', 'Korea, South', 'Norway','Spain', 'US', 'United Kingdom']]\n",
    "\n",
    "#Hago listado de Countries\n",
    "list_countries = data_time.columns\n",
    "list_countries\n",
    "\n",
    "# Para coger los países que en día 20 tienen más de 1000 casos: data_countries = data_countries[data_countries[\"3/17/20\"] >= 1000 ]\n",
    "data_time.tail(2)\n",
    "\n",
    "#Convierto la columna fecha en datetime\n",
    "from datetime import date\n",
    "data_time.index = pd.to_datetime(data_time.index)\n",
    "data_time.tail()\n",
    "\n"
   ]
  },
  {
   "cell_type": "markdown",
   "metadata": {},
   "source": [
    "## MUNDO: CSV : covid19_data_drive_actual.csv"
   ]
  },
  {
   "cell_type": "code",
   "execution_count": 92,
   "metadata": {},
   "outputs": [
    {
     "output_type": "execute_result",
     "data": {
      "text/plain": "                Confirmados  Curados  Fallecidos\nCountry/Region                                  \nChina               82718.0  77410.0      3335.0\nFrance             110065.0  19523.0     10343.0\nGermany            107663.0  36081.0      2016.0\nItaly              135586.0  24392.0     17127.0\nSpain              141942.0  43208.0     14045.0\nUS                 396223.0  21763.0     12722.0\nUnited Kingdom      55949.0    325.0      6171.0",
      "text/html": "<div>\n<style scoped>\n    .dataframe tbody tr th:only-of-type {\n        vertical-align: middle;\n    }\n\n    .dataframe tbody tr th {\n        vertical-align: top;\n    }\n\n    .dataframe thead th {\n        text-align: right;\n    }\n</style>\n<table border=\"1\" class=\"dataframe\">\n  <thead>\n    <tr style=\"text-align: right;\">\n      <th></th>\n      <th>Confirmados</th>\n      <th>Curados</th>\n      <th>Fallecidos</th>\n    </tr>\n    <tr>\n      <th>Country/Region</th>\n      <th></th>\n      <th></th>\n      <th></th>\n    </tr>\n  </thead>\n  <tbody>\n    <tr>\n      <th>China</th>\n      <td>82718.0</td>\n      <td>77410.0</td>\n      <td>3335.0</td>\n    </tr>\n    <tr>\n      <th>France</th>\n      <td>110065.0</td>\n      <td>19523.0</td>\n      <td>10343.0</td>\n    </tr>\n    <tr>\n      <th>Germany</th>\n      <td>107663.0</td>\n      <td>36081.0</td>\n      <td>2016.0</td>\n    </tr>\n    <tr>\n      <th>Italy</th>\n      <td>135586.0</td>\n      <td>24392.0</td>\n      <td>17127.0</td>\n    </tr>\n    <tr>\n      <th>Spain</th>\n      <td>141942.0</td>\n      <td>43208.0</td>\n      <td>14045.0</td>\n    </tr>\n    <tr>\n      <th>US</th>\n      <td>396223.0</td>\n      <td>21763.0</td>\n      <td>12722.0</td>\n    </tr>\n    <tr>\n      <th>United Kingdom</th>\n      <td>55949.0</td>\n      <td>325.0</td>\n      <td>6171.0</td>\n    </tr>\n  </tbody>\n</table>\n</div>"
     },
     "metadata": {},
     "execution_count": 92
    }
   ],
   "source": [
    "######### Confirmados\n",
    "\n",
    "data_confirmed = pd.read_csv(\"COVID-19/csse_covid_19_data/csse_covid_19_time_series/time_series_covid19_confirmed_global.csv\" )\n",
    "#Saco un dataset con solo los países\n",
    "data_confirmed = data_confirmed.groupby(\"Country/Region\", as_index=False).sum()\n",
    "# Hago transposición de los datos para mover las columnas en filas \n",
    "data_confirmed = data_confirmed.set_index('Country/Region').transpose()\n",
    "# Y me quedo sólo con los datos temporales y número de casos\n",
    "data_confirmed = data_confirmed[2:]\n",
    "# Cogemos solo determinados países\n",
    "data_confirmed = data_confirmed[['China', 'France', 'Germany', 'Italy','Spain', 'US', 'United Kingdom']]\n",
    "data_confirmed = data_confirmed[-1:]\n",
    "\n",
    "######### Muertos\n",
    "\n",
    "data_deaths = pd.read_csv(\"COVID-19/csse_covid_19_data/csse_covid_19_time_series/time_series_covid19_deaths_global.csv\")\n",
    "#Saco un dataset con solo los países\n",
    "data_deaths = data_deaths.groupby(\"Country/Region\", as_index=False).sum()\n",
    "#Se ve que están todos y comprobado que suma\n",
    "data_deaths[::]\n",
    "# Hago transposición de los datos para mover las columnas en filas \n",
    "data_deaths = data_deaths.set_index('Country/Region').transpose()\n",
    "\n",
    "# Y me quedo sólo con los datos temporales y número de casos\n",
    "data_deaths = data_deaths[2:]\n",
    "data_deaths.tail()\n",
    "# Cogemos solo determinados países\n",
    "data_deaths = data_deaths[['China', 'France', 'Germany', 'Italy','Spain', 'US', 'United Kingdom']]\n",
    "data_deaths = data_deaths[-1:]\n",
    "\n",
    "######### Recuperados\n",
    "\n",
    "data_recovered = pd.read_csv(\"COVID-19/csse_covid_19_data/csse_covid_19_time_series/time_series_covid19_recovered_global.csv\" )\n",
    "#Saco un dataset con solo los países\n",
    "data_recovered = data_recovered.groupby(\"Country/Region\", as_index=False).sum()\n",
    "# Hago transposición de los datos para mover las columnas en filas \n",
    "data_recovered = data_recovered.set_index('Country/Region').transpose()\n",
    "# Y me quedo sólo con los datos temporales y número de casos\n",
    "data_recovered = data_recovered[2:]\n",
    "# Cogemos solo determinados países\n",
    "data_recovered = data_recovered[['China', 'France', 'Germany', 'Italy','Spain', 'US', 'United Kingdom']]\n",
    "data_recovered = data_recovered[-1:]\n",
    "\n",
    "######### Merge de datos\n",
    "\n",
    "# Saco la fecha:\n",
    "from datetime import datetime, timedelta\n",
    "date_today_intern = date.today()\n",
    "date_today_intern = date_today_intern.today() - timedelta(days=1) #Quito uno porque esta base de datos siempre muestra datos del día anterior\n",
    "date_today_intern = date_today_intern.strftime('%d/%m')\n",
    "\n",
    "#Juntar ahora datos\n",
    "data_columns = ['Confirmados', 'Curados', 'Fallecidos']\n",
    "\n",
    "data_together = pd.merge(data_confirmed, data_recovered, how='outer')\n",
    "data_together = pd.merge(data_together, data_deaths, how='outer')\n",
    "data_together.index = data_columns\n",
    "data_together = data_together.transpose()\n",
    "# data_together = data_together.reindex(columns =data_columns) \n",
    "# data_together = data_together.reindex(data_index)\n",
    "\n",
    "# Exporto CSV\n",
    "data_together.to_csv('covid19_data_drive_actual.csv', sep = ';')\n",
    "data_together"
   ]
  },
  {
   "cell_type": "markdown",
   "metadata": {},
   "source": [
    "## MUNDO: CSV : covid19_data_drive_from100.csv"
   ]
  },
  {
   "cell_type": "code",
   "execution_count": 89,
   "metadata": {},
   "outputs": [
    {
     "output_type": "execute_result",
     "data": {
      "text/plain": "    France    China  Germany     Iran     Italy  Korea, South  Norway  Spain  \\\n36     NaN  78600.0      NaN  53183.0  105792.0        9478.0     NaN    NaN   \n37     NaN  78928.0      NaN  55743.0  110574.0        9583.0     NaN    NaN   \n38     NaN  79356.0      NaN  58226.0  115242.0        9661.0     NaN    NaN   \n39     NaN  79932.0      NaN  60500.0  119827.0        9786.0     NaN    NaN   \n40     NaN  80136.0      NaN  62589.0  124632.0        9887.0     NaN    NaN   \n\n    US  United Kingdom  \n36 NaN             NaN  \n37 NaN             NaN  \n38 NaN             NaN  \n39 NaN             NaN  \n40 NaN             NaN  ",
      "text/html": "<div>\n<style scoped>\n    .dataframe tbody tr th:only-of-type {\n        vertical-align: middle;\n    }\n\n    .dataframe tbody tr th {\n        vertical-align: top;\n    }\n\n    .dataframe thead th {\n        text-align: right;\n    }\n</style>\n<table border=\"1\" class=\"dataframe\">\n  <thead>\n    <tr style=\"text-align: right;\">\n      <th></th>\n      <th>France</th>\n      <th>China</th>\n      <th>Germany</th>\n      <th>Iran</th>\n      <th>Italy</th>\n      <th>Korea, South</th>\n      <th>Norway</th>\n      <th>Spain</th>\n      <th>US</th>\n      <th>United Kingdom</th>\n    </tr>\n  </thead>\n  <tbody>\n    <tr>\n      <th>36</th>\n      <td>NaN</td>\n      <td>78600.0</td>\n      <td>NaN</td>\n      <td>53183.0</td>\n      <td>105792.0</td>\n      <td>9478.0</td>\n      <td>NaN</td>\n      <td>NaN</td>\n      <td>NaN</td>\n      <td>NaN</td>\n    </tr>\n    <tr>\n      <th>37</th>\n      <td>NaN</td>\n      <td>78928.0</td>\n      <td>NaN</td>\n      <td>55743.0</td>\n      <td>110574.0</td>\n      <td>9583.0</td>\n      <td>NaN</td>\n      <td>NaN</td>\n      <td>NaN</td>\n      <td>NaN</td>\n    </tr>\n    <tr>\n      <th>38</th>\n      <td>NaN</td>\n      <td>79356.0</td>\n      <td>NaN</td>\n      <td>58226.0</td>\n      <td>115242.0</td>\n      <td>9661.0</td>\n      <td>NaN</td>\n      <td>NaN</td>\n      <td>NaN</td>\n      <td>NaN</td>\n    </tr>\n    <tr>\n      <th>39</th>\n      <td>NaN</td>\n      <td>79932.0</td>\n      <td>NaN</td>\n      <td>60500.0</td>\n      <td>119827.0</td>\n      <td>9786.0</td>\n      <td>NaN</td>\n      <td>NaN</td>\n      <td>NaN</td>\n      <td>NaN</td>\n    </tr>\n    <tr>\n      <th>40</th>\n      <td>NaN</td>\n      <td>80136.0</td>\n      <td>NaN</td>\n      <td>62589.0</td>\n      <td>124632.0</td>\n      <td>9887.0</td>\n      <td>NaN</td>\n      <td>NaN</td>\n      <td>NaN</td>\n      <td>NaN</td>\n    </tr>\n  </tbody>\n</table>\n</div>"
     },
     "metadata": {},
     "execution_count": 89
    }
   ],
   "source": [
    "'''Vamos a hacer un gráfico para ver los casos confirmados (desde caso 100)'''\n",
    "\n",
    "# Coger solo datos del último mes\n",
    "data_time_30days = data_time[-200:]\n",
    "# Si quiero quitar China: data_time_filter = data_time_filter.drop('China', axis=1)\n",
    "\n",
    "#Exporto los datos en diferentes arhcivos con casa país\n",
    "for country in list_countries:\n",
    "    dataX = data_time_30days[country]\n",
    "    dataX = dataX[dataX > 200]\n",
    "    dataX.to_csv('data_' + country + \".csv\", index=False, header= country)\n",
    "\n",
    "#Lista dataframes\n",
    "dataframes_list = ['dataframe_France', 'dataframe_China', 'dataframe_Germany', 'dataframe_Iran', 'dataframe_Italy', 'dataframe_Korea', 'dataframe_Norway', 'dataframe_Spain', 'dataframe_US', 'dataframe_UnitedKingdom']\n",
    "dataframes_list[1]\n",
    "\n",
    "# Creamos los CSV\n",
    "dataframe_France = pd.read_csv('data_France.csv')\n",
    "dataframe_China = pd.read_csv('data_China.csv')\n",
    "dataframe_Germany = pd.read_csv('data_Germany.csv')\n",
    "dataframe_Iran = pd.read_csv('data_Iran.csv')\n",
    "dataframe_Italy = pd.read_csv('data_Italy.csv')\n",
    "dataframe_Korea = pd.read_csv('data_Korea, South.csv')\n",
    "dataframe_Norway = pd.read_csv('data_Norway.csv')\n",
    "dataframe_Spain = pd.read_csv('data_Spain.csv')\n",
    "dataframe_US = pd.read_csv('data_US.csv')\n",
    "dataframe_UnitedKingdom = pd.read_csv('data_United Kingdom.csv')\n",
    "\n",
    "#Les añadimos NaN al final y reindexamos\n",
    "new_index = np.arange(1,41)\n",
    "dataframe_France = dataframe_France.reindex(new_index)\n",
    "dataframe_China = dataframe_China.reindex(new_index)\n",
    "dataframe_Germany = dataframe_Germany.reindex(new_index)\n",
    "dataframe_Iran = dataframe_Iran.reindex(new_index)\n",
    "dataframe_Italy = dataframe_Italy.reindex(new_index)\n",
    "dataframe_Korea = dataframe_Korea.reindex(new_index)\n",
    "dataframe_Norway = dataframe_Norway.reindex(new_index)\n",
    "dataframe_Spain = dataframe_Spain.reindex(new_index)\n",
    "dataframe_US = dataframe_US.reindex(new_index)\n",
    "dataframe_UnitedKingdom = dataframe_UnitedKingdom.reindex(new_index)\n",
    "\n",
    "#Juntar dataframes y Exportar CSV completo\n",
    "data_drive_from100cases = dataframe_France.join([dataframe_China, dataframe_Germany, dataframe_Iran, dataframe_Italy, dataframe_Korea, dataframe_Norway, dataframe_Spain, dataframe_US,dataframe_UnitedKingdom])\n",
    "\n",
    "# Declare a list that is to be converted into a column\n",
    "\n",
    "'''doubleday = [100, 200, 400, 800, 1600, 3200, 6400, 12800, 25600, 51200, 102400, 204800, 409600, 819200, \n",
    "         'NaN', 'NaN', 'NaN', 'NaN', 'NaN', 'NaN', 'NaN', 'NaN', 'NaN', 'NaN', 'NaN', 'NaN', \n",
    "         'NaN', 'NaN', 'NaN', 'NaN', 'NaN', 'NaN', 'NaN', 'NaN', 'NaN', 'NaN', 'NaN', \n",
    "         'NaN', 'NaN', 'NaN']\n",
    "\n",
    "# doubletwodays = [100, (100*2)-(100/2), 200, (200*2)-(200/2), 800, (800*2)-(800/2), 1600,(1600*2)-(1600/2), 3200,\n",
    "                 (3200*2)-(3200/2), 6400, (6400*2)-(6400/2), 12800, (12800*2)-(12800/2), 25600, (25600*2)-(25600/2),\n",
    "                 51200, (51200*2)-(51200/2), 102400, (102400*2)-(102400/2), 204800, (204800*2)-(204800/2), 409600, (409600*2)-(409600/2), \n",
    "        819200, (819200*2)-(819200/2), 'NaN', 'NaN', 'NaN', 'NaN', 'NaN', 'NaN', 'NaN', 'NaN', 'NaN', 'NaN', 'NaN', 'NaN', 'NaN', 'NaN']\n",
    "\n",
    "# Using 'Address' as the column name \n",
    "# and equating it to the list \n",
    "# data_drive_from100cases['Doble cada día'] = doubleday\n",
    "# data_drive_from100cases['Doble cada dos días'] = doubletwodays\n",
    "'''\n",
    "\n",
    "data_drive_from100cases.to_csv('covid19_data_drive_from100.csv', sep = ';')\n",
    "data_drive_from100cases.tail()"
   ]
  },
  {
   "cell_type": "markdown",
   "metadata": {},
   "source": [
    "## MUNDO: CSV covid19_data_drive_days.csv"
   ]
  },
  {
   "cell_type": "code",
   "execution_count": 78,
   "metadata": {},
   "outputs": [
    {
     "output_type": "execute_result",
     "data": {
      "text/plain": "Country/Region    China    France   Germany     Iran     Italy  Korea, South  \\\n2020-04-03      82511.0   65202.0   91159.0  53183.0  119827.0       10062.0   \n2020-04-04      82543.0   90848.0   96092.0  55743.0  124632.0       10156.0   \n2020-04-05      82602.0   93773.0  100123.0  58226.0  128948.0       10237.0   \n2020-04-06      82665.0   98963.0  103374.0  60500.0  132547.0       10284.0   \n2020-04-07      82718.0  110065.0  107663.0  62589.0  135586.0       10331.0   \n\nCountry/Region  Norway     Spain        US  United Kingdom  \n2020-04-03      5370.0  119199.0  275586.0         38689.0  \n2020-04-04      5550.0  126168.0  308850.0         42477.0  \n2020-04-05      5687.0  131646.0  337072.0         48436.0  \n2020-04-06      5865.0  136675.0  366667.0         52279.0  \n2020-04-07      6086.0  141942.0  396223.0         55949.0  ",
      "text/html": "<div>\n<style scoped>\n    .dataframe tbody tr th:only-of-type {\n        vertical-align: middle;\n    }\n\n    .dataframe tbody tr th {\n        vertical-align: top;\n    }\n\n    .dataframe thead th {\n        text-align: right;\n    }\n</style>\n<table border=\"1\" class=\"dataframe\">\n  <thead>\n    <tr style=\"text-align: right;\">\n      <th>Country/Region</th>\n      <th>China</th>\n      <th>France</th>\n      <th>Germany</th>\n      <th>Iran</th>\n      <th>Italy</th>\n      <th>Korea, South</th>\n      <th>Norway</th>\n      <th>Spain</th>\n      <th>US</th>\n      <th>United Kingdom</th>\n    </tr>\n  </thead>\n  <tbody>\n    <tr>\n      <th>2020-04-03</th>\n      <td>82511.0</td>\n      <td>65202.0</td>\n      <td>91159.0</td>\n      <td>53183.0</td>\n      <td>119827.0</td>\n      <td>10062.0</td>\n      <td>5370.0</td>\n      <td>119199.0</td>\n      <td>275586.0</td>\n      <td>38689.0</td>\n    </tr>\n    <tr>\n      <th>2020-04-04</th>\n      <td>82543.0</td>\n      <td>90848.0</td>\n      <td>96092.0</td>\n      <td>55743.0</td>\n      <td>124632.0</td>\n      <td>10156.0</td>\n      <td>5550.0</td>\n      <td>126168.0</td>\n      <td>308850.0</td>\n      <td>42477.0</td>\n    </tr>\n    <tr>\n      <th>2020-04-05</th>\n      <td>82602.0</td>\n      <td>93773.0</td>\n      <td>100123.0</td>\n      <td>58226.0</td>\n      <td>128948.0</td>\n      <td>10237.0</td>\n      <td>5687.0</td>\n      <td>131646.0</td>\n      <td>337072.0</td>\n      <td>48436.0</td>\n    </tr>\n    <tr>\n      <th>2020-04-06</th>\n      <td>82665.0</td>\n      <td>98963.0</td>\n      <td>103374.0</td>\n      <td>60500.0</td>\n      <td>132547.0</td>\n      <td>10284.0</td>\n      <td>5865.0</td>\n      <td>136675.0</td>\n      <td>366667.0</td>\n      <td>52279.0</td>\n    </tr>\n    <tr>\n      <th>2020-04-07</th>\n      <td>82718.0</td>\n      <td>110065.0</td>\n      <td>107663.0</td>\n      <td>62589.0</td>\n      <td>135586.0</td>\n      <td>10331.0</td>\n      <td>6086.0</td>\n      <td>141942.0</td>\n      <td>396223.0</td>\n      <td>55949.0</td>\n    </tr>\n  </tbody>\n</table>\n</div>"
     },
     "metadata": {},
     "execution_count": 78
    }
   ],
   "source": [
    "# Coger solo datos de últimos 60 días\n",
    "data_time_Xdays = data_time[-30:]\n",
    "\n",
    "#Exportar CSV por días progresivos\n",
    "data_drive_lastX = data_time_Xdays.loc[:,list_countries]\n",
    "data_drive_lastX.to_csv('covid19_data_drive_days.csv', sep = ';', encoding=\"utf-8\")\n",
    "data_drive_lastX.tail()\n",
    ""
   ]
  },
  {
   "cell_type": "markdown",
   "metadata": {},
   "source": [
    "# Gráficos a nivel España"
   ]
  },
  {
   "cell_type": "markdown",
   "metadata": {},
   "source": [
    "## ESPAÑA: CSV: covid19_spain_ccaa.csv datos principales"
   ]
  },
  {
   "cell_type": "code",
   "execution_count": 56,
   "metadata": {},
   "outputs": [
    {
     "output_type": "execute_result",
     "data": {
      "text/plain": "                      Confirmados Curados Fallecidos Nuevos casos (24h)\nComunidades Autónomas                                                  \nAndalucía                    8997    1041        605                230\nAragón                       3549     659        349                100\nAsturias                     1705     294        102                 26\nBaleares                     1412     616         89                 43\nCanarias                     1762     249         91                 37\nCantabria                    1572     175         92                 71\nCastilla La Mancha          11788    1557       1255                711\nCastilla y León             10058    2988       1028                477\nCataluña                    29647   12250       3041               1324\nCeuta                          84       7          4                  1\nC. Valenciana                7655    1344        724                212\nExtremadura                  2184     328        271                 68\nGalicia                      6538     800        213                207\nMadrid                      42450   19836       5586               1981\nMelilla                        93      12          2                  1\nMurcia                       1326     203         85                 43\nNavarra                      3467     450        206                112\nPaís Vasco                   9452    4151        635                431\nLa Rioja                     2951    1061        177                105",
      "text/html": "<div>\n<style scoped>\n    .dataframe tbody tr th:only-of-type {\n        vertical-align: middle;\n    }\n\n    .dataframe tbody tr th {\n        vertical-align: top;\n    }\n\n    .dataframe thead th {\n        text-align: right;\n    }\n</style>\n<table border=\"1\" class=\"dataframe\">\n  <thead>\n    <tr style=\"text-align: right;\">\n      <th></th>\n      <th>Confirmados</th>\n      <th>Curados</th>\n      <th>Fallecidos</th>\n      <th>Nuevos casos (24h)</th>\n    </tr>\n    <tr>\n      <th>Comunidades Autónomas</th>\n      <th></th>\n      <th></th>\n      <th></th>\n      <th></th>\n    </tr>\n  </thead>\n  <tbody>\n    <tr>\n      <th>Andalucía</th>\n      <td>8997</td>\n      <td>1041</td>\n      <td>605</td>\n      <td>230</td>\n    </tr>\n    <tr>\n      <th>Aragón</th>\n      <td>3549</td>\n      <td>659</td>\n      <td>349</td>\n      <td>100</td>\n    </tr>\n    <tr>\n      <th>Asturias</th>\n      <td>1705</td>\n      <td>294</td>\n      <td>102</td>\n      <td>26</td>\n    </tr>\n    <tr>\n      <th>Baleares</th>\n      <td>1412</td>\n      <td>616</td>\n      <td>89</td>\n      <td>43</td>\n    </tr>\n    <tr>\n      <th>Canarias</th>\n      <td>1762</td>\n      <td>249</td>\n      <td>91</td>\n      <td>37</td>\n    </tr>\n    <tr>\n      <th>Cantabria</th>\n      <td>1572</td>\n      <td>175</td>\n      <td>92</td>\n      <td>71</td>\n    </tr>\n    <tr>\n      <th>Castilla La Mancha</th>\n      <td>11788</td>\n      <td>1557</td>\n      <td>1255</td>\n      <td>711</td>\n    </tr>\n    <tr>\n      <th>Castilla y León</th>\n      <td>10058</td>\n      <td>2988</td>\n      <td>1028</td>\n      <td>477</td>\n    </tr>\n    <tr>\n      <th>Cataluña</th>\n      <td>29647</td>\n      <td>12250</td>\n      <td>3041</td>\n      <td>1324</td>\n    </tr>\n    <tr>\n      <th>Ceuta</th>\n      <td>84</td>\n      <td>7</td>\n      <td>4</td>\n      <td>1</td>\n    </tr>\n    <tr>\n      <th>C. Valenciana</th>\n      <td>7655</td>\n      <td>1344</td>\n      <td>724</td>\n      <td>212</td>\n    </tr>\n    <tr>\n      <th>Extremadura</th>\n      <td>2184</td>\n      <td>328</td>\n      <td>271</td>\n      <td>68</td>\n    </tr>\n    <tr>\n      <th>Galicia</th>\n      <td>6538</td>\n      <td>800</td>\n      <td>213</td>\n      <td>207</td>\n    </tr>\n    <tr>\n      <th>Madrid</th>\n      <td>42450</td>\n      <td>19836</td>\n      <td>5586</td>\n      <td>1981</td>\n    </tr>\n    <tr>\n      <th>Melilla</th>\n      <td>93</td>\n      <td>12</td>\n      <td>2</td>\n      <td>1</td>\n    </tr>\n    <tr>\n      <th>Murcia</th>\n      <td>1326</td>\n      <td>203</td>\n      <td>85</td>\n      <td>43</td>\n    </tr>\n    <tr>\n      <th>Navarra</th>\n      <td>3467</td>\n      <td>450</td>\n      <td>206</td>\n      <td>112</td>\n    </tr>\n    <tr>\n      <th>País Vasco</th>\n      <td>9452</td>\n      <td>4151</td>\n      <td>635</td>\n      <td>431</td>\n    </tr>\n    <tr>\n      <th>La Rioja</th>\n      <td>2951</td>\n      <td>1061</td>\n      <td>177</td>\n      <td>105</td>\n    </tr>\n  </tbody>\n</table>\n</div>"
     },
     "metadata": {},
     "execution_count": 56
    }
   ],
   "source": [
    "#Exportar CSV\n",
    "data_spain_ccaa.to_csv('covid19_spain_ccaa.csv', sep = ';', encoding=\"utf-8\")\n",
    "data_spain_ccaa.head(19)"
   ]
  },
  {
   "cell_type": "markdown",
   "metadata": {},
   "source": [
    "## ESPAÑA: CSV: covid19_spain_ccaa_lineal.csv"
   ]
  },
  {
   "cell_type": "code",
   "execution_count": 79,
   "metadata": {},
   "outputs": [
    {
     "output_type": "stream",
     "name": "stdout",
     "text": "Si sale FALSE, no es igual y tiene que actualizarse >>>>>>>> True\n"
    }
   ],
   "source": [
    "# Comprobaciones\n",
    "\n",
    "data_process = pd.read_csv(\"covid19_spain_ccaa_evolution2.csv\", sep = ';', encoding=\"utf-8\") #cambiar el data evolution\n",
    "print('Si sale FALSE, no es igual y tiene que actualizarse >>>>>>>>' , data_process.columns[-1] == data_spain_ccaa_last.name)"
   ]
  },
  {
   "cell_type": "code",
   "execution_count": 80,
   "metadata": {},
   "outputs": [
    {
     "output_type": "stream",
     "name": "stdout",
     "text": "(COVID-19).  \n\n08.04\n2020-04-08\nLa columna ya está: NO hacer merge y no se exporta tabla\n"
    },
    {
     "output_type": "execute_result",
     "data": {
      "text/plain": "                       2020-03-01  2020-03-02  2020-03-03  2020-03-04  \\\nComunidades Autónomas                                                   \nAndalucía                       6          12          13          13   \nAragón                          2           2           2           2   \nAsturias                        0           1           1           2   \nBaleares                        2           2           2           5   \nCanarias                        6           7           7           7   \nCantabria                       0          10          10          10   \nCastilla La Mancha              0           3           7          12   \nCastilla y León                 2           3           5          11   \nCataluña                        3          15          15          15   \nCeuta                           0           0           0           0   \nC. Valenciana                   8          15          15          19   \nExtremadura                     0           6           6           6   \nGalicia                         0           0           0           1   \nMadrid                          6          29          49          70   \nMelilla                         0           0           0           0   \nMurcia                          0           0           0           0   \nNavarra                         0           1           1           3   \nPaís Vasco                      0           9          13          17   \nLa Rioja                        0           1           3           7   \n\n                       2020-03-05  2020-03-06  2020-03-07  2020-03-08  \\\nComunidades Autónomas                                                   \nAndalucía                      13          21          21          21   \nAragón                          2           6           6           6   \nAsturias                        5           5           5           5   \nBaleares                        6           6           6           6   \nCanarias                        8          11          11          11   \nCantabria                      10          10          10          10   \nCastilla La Mancha             13          15          15          15   \nCastilla y León                11          14          14          14   \nCataluña                       24          24          24          24   \nCeuta                           0           0           0           0   \nC. Valenciana                  19          30          30          30   \nExtremadura                     6           6           6           6   \nGalicia                         1           3           3           3   \nMadrid                         90         137         137         137   \nMelilla                         0           0           0           0   \nMurcia                          0           0           0           0   \nNavarra                         3           3           3           3   \nPaís Vasco                     17          45          45          45   \nLa Rioja                       11          29          29          29   \n\n                       2020-03-09  2020-03-10  ...  2020-03-30  2020-03-31  \\\nComunidades Autónomas                          ...                           \nAndalucía                      54          71  ...        5405        5818   \nAragón                         13          38  ...        2078        2272   \nAsturias                        7          22  ...        1158        1236   \nBaleares                       11          13  ...        1000        1069   \nCanarias                       22          25  ...        1204        1262   \nCantabria                      12          12  ...        1100        1171   \nCastilla La Mancha             26          39  ...        5858        6424   \nCastilla y León                23          56  ...        5801        6211   \nCataluña                       75         124  ...       16157       18773   \nCeuta                           0           0  ...          25          34   \nC. Valenciana                  37          50  ...        5110        5508   \nExtremadura                     7           8  ...        1560        1628   \nGalicia                         6          22  ...        3723        4039   \nMadrid                        469         782  ...       24090       27509   \nMelilla                         0           0  ...          51          54   \nMurcia                          4           9  ...         939         974   \nNavarra                         3          12  ...        2146        2305   \nPaís Vasco                    149         195  ...        6057        6320   \nLa Rioja                       81         144  ...        1733        1810   \n\n                       2020-04-01  2020-04-02  2020-04-03  2020-04-04  \\\nComunidades Autónomas                                                   \nAndalucía                    6392        6972        7374        7869   \nAragón                       2491        2700        2889        3078   \nAsturias                     1322        1384        1433        1522   \nBaleares                     1131        1204        1257        1271   \nCanarias                     1380        1444        1490        1564   \nCantabria                    1213        1268        1321        1384   \nCastilla La Mancha           7047        7682        8523        9324   \nCastilla y León              6847        7355        7875        8332   \nCataluña                    19991       21804       23460       24734   \nCeuta                          51          55          62          73   \nC. Valenciana                5922        6308        6624        6901   \nExtremadura                  1679        1837        1893        1979   \nGalicia                      4432        4842        5219        5625   \nMadrid                      29840       32155       34188       36249   \nMelilla                        62          62          70          79   \nMurcia                       1041        1084        1145        1188   \nNavarra                      2497        2682        2836        2972   \nPaís Vasco                   6838        7317        7827        8187   \nLa Rioja                     1960        2083        2224        2405   \n\n                       2020-04-05  2020-04-06  2020-04-07  2020-04-08  \nComunidades Autónomas                                                  \nAndalucía                    8301        8581        8767        8997  \nAragón                       3232        3347        3449        3549  \nAsturias                     1605        1646        1679        1705  \nBaleares                     1293        1320        1369        1412  \nCanarias                     1622        1649        1725        1762  \nCantabria                    1441        1483        1501        1572  \nCastilla La Mancha          10031       10602       11077       11788  \nCastilla y León              8749        9116        9581       10058  \nCataluña                    26032       26824       28323       29647  \nCeuta                          83          83          83          84  \nC. Valenciana                7184        7334        7443        7655  \nExtremadura                  2047        2068        2116        2184  \nGalicia                      5944        6151        6331        6538  \nMadrid                      37584       38723       40469       42450  \nMelilla                        83          86          92          93  \nMurcia                       1235        1259        1283        1326  \nNavarra                      3073        3231        3355        3467  \nPaís Vasco                   8628        8810        9021        9452  \nLa Rioja                     2592        2719        2846        2951  \n\n[19 rows x 39 columns]",
      "text/html": "<div>\n<style scoped>\n    .dataframe tbody tr th:only-of-type {\n        vertical-align: middle;\n    }\n\n    .dataframe tbody tr th {\n        vertical-align: top;\n    }\n\n    .dataframe thead th {\n        text-align: right;\n    }\n</style>\n<table border=\"1\" class=\"dataframe\">\n  <thead>\n    <tr style=\"text-align: right;\">\n      <th></th>\n      <th>2020-03-01</th>\n      <th>2020-03-02</th>\n      <th>2020-03-03</th>\n      <th>2020-03-04</th>\n      <th>2020-03-05</th>\n      <th>2020-03-06</th>\n      <th>2020-03-07</th>\n      <th>2020-03-08</th>\n      <th>2020-03-09</th>\n      <th>2020-03-10</th>\n      <th>...</th>\n      <th>2020-03-30</th>\n      <th>2020-03-31</th>\n      <th>2020-04-01</th>\n      <th>2020-04-02</th>\n      <th>2020-04-03</th>\n      <th>2020-04-04</th>\n      <th>2020-04-05</th>\n      <th>2020-04-06</th>\n      <th>2020-04-07</th>\n      <th>2020-04-08</th>\n    </tr>\n    <tr>\n      <th>Comunidades Autónomas</th>\n      <th></th>\n      <th></th>\n      <th></th>\n      <th></th>\n      <th></th>\n      <th></th>\n      <th></th>\n      <th></th>\n      <th></th>\n      <th></th>\n      <th></th>\n      <th></th>\n      <th></th>\n      <th></th>\n      <th></th>\n      <th></th>\n      <th></th>\n      <th></th>\n      <th></th>\n      <th></th>\n      <th></th>\n    </tr>\n  </thead>\n  <tbody>\n    <tr>\n      <th>Andalucía</th>\n      <td>6</td>\n      <td>12</td>\n      <td>13</td>\n      <td>13</td>\n      <td>13</td>\n      <td>21</td>\n      <td>21</td>\n      <td>21</td>\n      <td>54</td>\n      <td>71</td>\n      <td>...</td>\n      <td>5405</td>\n      <td>5818</td>\n      <td>6392</td>\n      <td>6972</td>\n      <td>7374</td>\n      <td>7869</td>\n      <td>8301</td>\n      <td>8581</td>\n      <td>8767</td>\n      <td>8997</td>\n    </tr>\n    <tr>\n      <th>Aragón</th>\n      <td>2</td>\n      <td>2</td>\n      <td>2</td>\n      <td>2</td>\n      <td>2</td>\n      <td>6</td>\n      <td>6</td>\n      <td>6</td>\n      <td>13</td>\n      <td>38</td>\n      <td>...</td>\n      <td>2078</td>\n      <td>2272</td>\n      <td>2491</td>\n      <td>2700</td>\n      <td>2889</td>\n      <td>3078</td>\n      <td>3232</td>\n      <td>3347</td>\n      <td>3449</td>\n      <td>3549</td>\n    </tr>\n    <tr>\n      <th>Asturias</th>\n      <td>0</td>\n      <td>1</td>\n      <td>1</td>\n      <td>2</td>\n      <td>5</td>\n      <td>5</td>\n      <td>5</td>\n      <td>5</td>\n      <td>7</td>\n      <td>22</td>\n      <td>...</td>\n      <td>1158</td>\n      <td>1236</td>\n      <td>1322</td>\n      <td>1384</td>\n      <td>1433</td>\n      <td>1522</td>\n      <td>1605</td>\n      <td>1646</td>\n      <td>1679</td>\n      <td>1705</td>\n    </tr>\n    <tr>\n      <th>Baleares</th>\n      <td>2</td>\n      <td>2</td>\n      <td>2</td>\n      <td>5</td>\n      <td>6</td>\n      <td>6</td>\n      <td>6</td>\n      <td>6</td>\n      <td>11</td>\n      <td>13</td>\n      <td>...</td>\n      <td>1000</td>\n      <td>1069</td>\n      <td>1131</td>\n      <td>1204</td>\n      <td>1257</td>\n      <td>1271</td>\n      <td>1293</td>\n      <td>1320</td>\n      <td>1369</td>\n      <td>1412</td>\n    </tr>\n    <tr>\n      <th>Canarias</th>\n      <td>6</td>\n      <td>7</td>\n      <td>7</td>\n      <td>7</td>\n      <td>8</td>\n      <td>11</td>\n      <td>11</td>\n      <td>11</td>\n      <td>22</td>\n      <td>25</td>\n      <td>...</td>\n      <td>1204</td>\n      <td>1262</td>\n      <td>1380</td>\n      <td>1444</td>\n      <td>1490</td>\n      <td>1564</td>\n      <td>1622</td>\n      <td>1649</td>\n      <td>1725</td>\n      <td>1762</td>\n    </tr>\n    <tr>\n      <th>Cantabria</th>\n      <td>0</td>\n      <td>10</td>\n      <td>10</td>\n      <td>10</td>\n      <td>10</td>\n      <td>10</td>\n      <td>10</td>\n      <td>10</td>\n      <td>12</td>\n      <td>12</td>\n      <td>...</td>\n      <td>1100</td>\n      <td>1171</td>\n      <td>1213</td>\n      <td>1268</td>\n      <td>1321</td>\n      <td>1384</td>\n      <td>1441</td>\n      <td>1483</td>\n      <td>1501</td>\n      <td>1572</td>\n    </tr>\n    <tr>\n      <th>Castilla La Mancha</th>\n      <td>0</td>\n      <td>3</td>\n      <td>7</td>\n      <td>12</td>\n      <td>13</td>\n      <td>15</td>\n      <td>15</td>\n      <td>15</td>\n      <td>26</td>\n      <td>39</td>\n      <td>...</td>\n      <td>5858</td>\n      <td>6424</td>\n      <td>7047</td>\n      <td>7682</td>\n      <td>8523</td>\n      <td>9324</td>\n      <td>10031</td>\n      <td>10602</td>\n      <td>11077</td>\n      <td>11788</td>\n    </tr>\n    <tr>\n      <th>Castilla y León</th>\n      <td>2</td>\n      <td>3</td>\n      <td>5</td>\n      <td>11</td>\n      <td>11</td>\n      <td>14</td>\n      <td>14</td>\n      <td>14</td>\n      <td>23</td>\n      <td>56</td>\n      <td>...</td>\n      <td>5801</td>\n      <td>6211</td>\n      <td>6847</td>\n      <td>7355</td>\n      <td>7875</td>\n      <td>8332</td>\n      <td>8749</td>\n      <td>9116</td>\n      <td>9581</td>\n      <td>10058</td>\n    </tr>\n    <tr>\n      <th>Cataluña</th>\n      <td>3</td>\n      <td>15</td>\n      <td>15</td>\n      <td>15</td>\n      <td>24</td>\n      <td>24</td>\n      <td>24</td>\n      <td>24</td>\n      <td>75</td>\n      <td>124</td>\n      <td>...</td>\n      <td>16157</td>\n      <td>18773</td>\n      <td>19991</td>\n      <td>21804</td>\n      <td>23460</td>\n      <td>24734</td>\n      <td>26032</td>\n      <td>26824</td>\n      <td>28323</td>\n      <td>29647</td>\n    </tr>\n    <tr>\n      <th>Ceuta</th>\n      <td>0</td>\n      <td>0</td>\n      <td>0</td>\n      <td>0</td>\n      <td>0</td>\n      <td>0</td>\n      <td>0</td>\n      <td>0</td>\n      <td>0</td>\n      <td>0</td>\n      <td>...</td>\n      <td>25</td>\n      <td>34</td>\n      <td>51</td>\n      <td>55</td>\n      <td>62</td>\n      <td>73</td>\n      <td>83</td>\n      <td>83</td>\n      <td>83</td>\n      <td>84</td>\n    </tr>\n    <tr>\n      <th>C. Valenciana</th>\n      <td>8</td>\n      <td>15</td>\n      <td>15</td>\n      <td>19</td>\n      <td>19</td>\n      <td>30</td>\n      <td>30</td>\n      <td>30</td>\n      <td>37</td>\n      <td>50</td>\n      <td>...</td>\n      <td>5110</td>\n      <td>5508</td>\n      <td>5922</td>\n      <td>6308</td>\n      <td>6624</td>\n      <td>6901</td>\n      <td>7184</td>\n      <td>7334</td>\n      <td>7443</td>\n      <td>7655</td>\n    </tr>\n    <tr>\n      <th>Extremadura</th>\n      <td>0</td>\n      <td>6</td>\n      <td>6</td>\n      <td>6</td>\n      <td>6</td>\n      <td>6</td>\n      <td>6</td>\n      <td>6</td>\n      <td>7</td>\n      <td>8</td>\n      <td>...</td>\n      <td>1560</td>\n      <td>1628</td>\n      <td>1679</td>\n      <td>1837</td>\n      <td>1893</td>\n      <td>1979</td>\n      <td>2047</td>\n      <td>2068</td>\n      <td>2116</td>\n      <td>2184</td>\n    </tr>\n    <tr>\n      <th>Galicia</th>\n      <td>0</td>\n      <td>0</td>\n      <td>0</td>\n      <td>1</td>\n      <td>1</td>\n      <td>3</td>\n      <td>3</td>\n      <td>3</td>\n      <td>6</td>\n      <td>22</td>\n      <td>...</td>\n      <td>3723</td>\n      <td>4039</td>\n      <td>4432</td>\n      <td>4842</td>\n      <td>5219</td>\n      <td>5625</td>\n      <td>5944</td>\n      <td>6151</td>\n      <td>6331</td>\n      <td>6538</td>\n    </tr>\n    <tr>\n      <th>Madrid</th>\n      <td>6</td>\n      <td>29</td>\n      <td>49</td>\n      <td>70</td>\n      <td>90</td>\n      <td>137</td>\n      <td>137</td>\n      <td>137</td>\n      <td>469</td>\n      <td>782</td>\n      <td>...</td>\n      <td>24090</td>\n      <td>27509</td>\n      <td>29840</td>\n      <td>32155</td>\n      <td>34188</td>\n      <td>36249</td>\n      <td>37584</td>\n      <td>38723</td>\n      <td>40469</td>\n      <td>42450</td>\n    </tr>\n    <tr>\n      <th>Melilla</th>\n      <td>0</td>\n      <td>0</td>\n      <td>0</td>\n      <td>0</td>\n      <td>0</td>\n      <td>0</td>\n      <td>0</td>\n      <td>0</td>\n      <td>0</td>\n      <td>0</td>\n      <td>...</td>\n      <td>51</td>\n      <td>54</td>\n      <td>62</td>\n      <td>62</td>\n      <td>70</td>\n      <td>79</td>\n      <td>83</td>\n      <td>86</td>\n      <td>92</td>\n      <td>93</td>\n    </tr>\n    <tr>\n      <th>Murcia</th>\n      <td>0</td>\n      <td>0</td>\n      <td>0</td>\n      <td>0</td>\n      <td>0</td>\n      <td>0</td>\n      <td>0</td>\n      <td>0</td>\n      <td>4</td>\n      <td>9</td>\n      <td>...</td>\n      <td>939</td>\n      <td>974</td>\n      <td>1041</td>\n      <td>1084</td>\n      <td>1145</td>\n      <td>1188</td>\n      <td>1235</td>\n      <td>1259</td>\n      <td>1283</td>\n      <td>1326</td>\n    </tr>\n    <tr>\n      <th>Navarra</th>\n      <td>0</td>\n      <td>1</td>\n      <td>1</td>\n      <td>3</td>\n      <td>3</td>\n      <td>3</td>\n      <td>3</td>\n      <td>3</td>\n      <td>3</td>\n      <td>12</td>\n      <td>...</td>\n      <td>2146</td>\n      <td>2305</td>\n      <td>2497</td>\n      <td>2682</td>\n      <td>2836</td>\n      <td>2972</td>\n      <td>3073</td>\n      <td>3231</td>\n      <td>3355</td>\n      <td>3467</td>\n    </tr>\n    <tr>\n      <th>País Vasco</th>\n      <td>0</td>\n      <td>9</td>\n      <td>13</td>\n      <td>17</td>\n      <td>17</td>\n      <td>45</td>\n      <td>45</td>\n      <td>45</td>\n      <td>149</td>\n      <td>195</td>\n      <td>...</td>\n      <td>6057</td>\n      <td>6320</td>\n      <td>6838</td>\n      <td>7317</td>\n      <td>7827</td>\n      <td>8187</td>\n      <td>8628</td>\n      <td>8810</td>\n      <td>9021</td>\n      <td>9452</td>\n    </tr>\n    <tr>\n      <th>La Rioja</th>\n      <td>0</td>\n      <td>1</td>\n      <td>3</td>\n      <td>7</td>\n      <td>11</td>\n      <td>29</td>\n      <td>29</td>\n      <td>29</td>\n      <td>81</td>\n      <td>144</td>\n      <td>...</td>\n      <td>1733</td>\n      <td>1810</td>\n      <td>1960</td>\n      <td>2083</td>\n      <td>2224</td>\n      <td>2405</td>\n      <td>2592</td>\n      <td>2719</td>\n      <td>2846</td>\n      <td>2951</td>\n    </tr>\n  </tbody>\n</table>\n<p>19 rows × 39 columns</p>\n</div>"
     },
     "metadata": {},
     "execution_count": 80
    }
   ],
   "source": [
    "# Casos confirmados por ccaa temporal\n",
    "\n",
    "# Sacar fecha en formato correcto\n",
    "fecha_data_spain = get_fecha(raw['content'])\n",
    "fecha_data_spain = pd.Timestamp(year=int(fecha_data_spain[6:10]), month=int(fecha_data_spain[3:5]), day=int(fecha_data_spain[1:2]), hour=12)\n",
    "fecha_data_spain = fecha_data_spain.strftime('%Y-%m-%d')\n",
    "print(fecha_data_spain)\n",
    "\n",
    "# Cojo la fila de confirmados que me interesa\n",
    "data_spain_ccaa_last = data_spain_ccaa.copy()\n",
    "data_spain_ccaa_last.rename(columns = {'Confirmados': fecha_data_spain}, index={'ccaa': 'Comunidades Autónomas'}, inplace = True)\n",
    "data_spain_ccaa_last = data_spain_ccaa_last[fecha_data_spain]\n",
    "data_spain_ccaa_last = pd.to_numeric(data_spain_ccaa_last).astype(np.int64)\n",
    "data_spain_ccaa_last.head()\n",
    "\n",
    "#HACER MERGE SI NO ESTÁN ESOS DATOS\n",
    "\n",
    "# Importo los últimos datos recogidos acumulados anteriormente\n",
    "data_process = pd.read_csv(\"covid19_spain_ccaa_evolution2.csv\", sep = ';', encoding=\"utf-8\")\n",
    "data_process = data_process.set_index('Comunidades Autónomas')\n",
    "\n",
    "# Hacer merge de ambos dataframes, con un condicional comprobando si es necesario\n",
    "if data_process.columns[-1] == data_spain_ccaa_last.name:\n",
    "    print('La columna ya está: NO hacer merge y no se exporta tabla')\n",
    "else:\n",
    "    print('La última columna es diferente y no está: SE HACE MERGE')\n",
    "    data_process = pd.merge(data_process,data_spain_ccaa_last, left_index=True, right_index=True)\n",
    "    #Exportar a CSV\n",
    "    data_process.to_csv('covid19_spain_ccaa_evolution2.csv', sep = ';', encoding=\"utf-8\", index=True, index_label='Comunidades Autónomas')\n",
    "\n",
    "data_process"
   ]
  },
  {
   "cell_type": "markdown",
   "metadata": {},
   "source": [
    "## ESPAÑA: Análisis por edades : CSV : covid19_spain_ccaa_ages.csv"
   ]
  },
  {
   "cell_type": "code",
   "execution_count": 81,
   "metadata": {},
   "outputs": [
    {
     "output_type": "error",
     "ename": "IndexError",
     "evalue": "positional indexers are out-of-bounds",
     "traceback": [
      "\u001b[0;31m---------------------------------------------------------------------------\u001b[0m",
      "\u001b[0;31mIndexError\u001b[0m                                Traceback (most recent call last)",
      "\u001b[0;32m<ipython-input-81-84ca90584968>\u001b[0m in \u001b[0;36m<module>\u001b[0;34m\u001b[0m\n\u001b[1;32m      3\u001b[0m \u001b[0;31m#Traigo la segunda tabla\u001b[0m\u001b[0;34m\u001b[0m\u001b[0;34m\u001b[0m\u001b[0;34m\u001b[0m\u001b[0m\n\u001b[1;32m      4\u001b[0m \u001b[0mdata_spain_ccaa_age\u001b[0m \u001b[0;34m=\u001b[0m \u001b[0mtabula\u001b[0m\u001b[0;34m.\u001b[0m\u001b[0mread_pdf\u001b[0m\u001b[0;34m(\u001b[0m\u001b[0mpath_spain\u001b[0m\u001b[0;34m,\u001b[0m \u001b[0mstream\u001b[0m\u001b[0;34m=\u001b[0m\u001b[0;32mTrue\u001b[0m\u001b[0;34m,\u001b[0m \u001b[0mpages\u001b[0m\u001b[0;34m=\u001b[0m\u001b[0;36m2\u001b[0m\u001b[0;34m)\u001b[0m\u001b[0;34m[\u001b[0m\u001b[0;36m0\u001b[0m\u001b[0;34m]\u001b[0m\u001b[0;34m\u001b[0m\u001b[0;34m\u001b[0m\u001b[0m\n\u001b[0;32m----> 5\u001b[0;31m \u001b[0mdata_spain_ccaa_age\u001b[0m \u001b[0;34m=\u001b[0m \u001b[0mdata_spain_ccaa_age\u001b[0m\u001b[0;34m.\u001b[0m\u001b[0miloc\u001b[0m \u001b[0;34m[\u001b[0m\u001b[0;34m:\u001b[0m\u001b[0;34m,\u001b[0m \u001b[0;34m[\u001b[0m\u001b[0;36m0\u001b[0m\u001b[0;34m,\u001b[0m\u001b[0;36m1\u001b[0m\u001b[0;34m,\u001b[0m\u001b[0;36m3\u001b[0m\u001b[0;34m,\u001b[0m\u001b[0;36m7\u001b[0m\u001b[0;34m]\u001b[0m\u001b[0;34m]\u001b[0m\u001b[0;34m\u001b[0m\u001b[0;34m\u001b[0m\u001b[0m\n\u001b[0m\u001b[1;32m      6\u001b[0m \u001b[0mdata_spain_ccaa_age\u001b[0m\u001b[0;34m.\u001b[0m\u001b[0mcolumns\u001b[0m \u001b[0;34m=\u001b[0m \u001b[0;34m[\u001b[0m\u001b[0;34m'Grupos de edad'\u001b[0m\u001b[0;34m,\u001b[0m\u001b[0;34m'Confirmados'\u001b[0m\u001b[0;34m,\u001b[0m \u001b[0;34m'Hospitalizados'\u001b[0m\u001b[0;34m,\u001b[0m \u001b[0;34m'Fallecidos'\u001b[0m\u001b[0;34m]\u001b[0m\u001b[0;34m\u001b[0m\u001b[0;34m\u001b[0m\u001b[0m\n\u001b[1;32m      7\u001b[0m \u001b[0mdata_spain_ccaa_age\u001b[0m\u001b[0;34m[\u001b[0m\u001b[0;34m'Confirmados'\u001b[0m\u001b[0;34m]\u001b[0m \u001b[0;34m=\u001b[0m \u001b[0mdata_spain_ccaa_age\u001b[0m\u001b[0;34m[\u001b[0m\u001b[0;34m'Confirmados'\u001b[0m\u001b[0;34m]\u001b[0m\u001b[0;34m.\u001b[0m\u001b[0mstr\u001b[0m\u001b[0;34m.\u001b[0m\u001b[0mreplace\u001b[0m\u001b[0;34m(\u001b[0m\u001b[0;34m'.'\u001b[0m\u001b[0;34m,\u001b[0m\u001b[0;34m''\u001b[0m\u001b[0;34m)\u001b[0m\u001b[0;34m\u001b[0m\u001b[0;34m\u001b[0m\u001b[0m\n",
      "\u001b[0;32m~/anaconda3/lib/python3.7/site-packages/pandas/core/indexing.py\u001b[0m in \u001b[0;36m__getitem__\u001b[0;34m(self, key)\u001b[0m\n\u001b[1;32m   1416\u001b[0m                 \u001b[0;32mexcept\u001b[0m \u001b[0;34m(\u001b[0m\u001b[0mKeyError\u001b[0m\u001b[0;34m,\u001b[0m \u001b[0mIndexError\u001b[0m\u001b[0;34m,\u001b[0m \u001b[0mAttributeError\u001b[0m\u001b[0;34m)\u001b[0m\u001b[0;34m:\u001b[0m\u001b[0;34m\u001b[0m\u001b[0;34m\u001b[0m\u001b[0m\n\u001b[1;32m   1417\u001b[0m                     \u001b[0;32mpass\u001b[0m\u001b[0;34m\u001b[0m\u001b[0;34m\u001b[0m\u001b[0m\n\u001b[0;32m-> 1418\u001b[0;31m             \u001b[0;32mreturn\u001b[0m \u001b[0mself\u001b[0m\u001b[0;34m.\u001b[0m\u001b[0m_getitem_tuple\u001b[0m\u001b[0;34m(\u001b[0m\u001b[0mkey\u001b[0m\u001b[0;34m)\u001b[0m\u001b[0;34m\u001b[0m\u001b[0;34m\u001b[0m\u001b[0m\n\u001b[0m\u001b[1;32m   1419\u001b[0m         \u001b[0;32melse\u001b[0m\u001b[0;34m:\u001b[0m\u001b[0;34m\u001b[0m\u001b[0;34m\u001b[0m\u001b[0m\n\u001b[1;32m   1420\u001b[0m             \u001b[0;31m# we by definition only have the 0th axis\u001b[0m\u001b[0;34m\u001b[0m\u001b[0;34m\u001b[0m\u001b[0;34m\u001b[0m\u001b[0m\n",
      "\u001b[0;32m~/anaconda3/lib/python3.7/site-packages/pandas/core/indexing.py\u001b[0m in \u001b[0;36m_getitem_tuple\u001b[0;34m(self, tup)\u001b[0m\n\u001b[1;32m   2090\u001b[0m     \u001b[0;32mdef\u001b[0m \u001b[0m_getitem_tuple\u001b[0m\u001b[0;34m(\u001b[0m\u001b[0mself\u001b[0m\u001b[0;34m,\u001b[0m \u001b[0mtup\u001b[0m\u001b[0;34m)\u001b[0m\u001b[0;34m:\u001b[0m\u001b[0;34m\u001b[0m\u001b[0;34m\u001b[0m\u001b[0m\n\u001b[1;32m   2091\u001b[0m \u001b[0;34m\u001b[0m\u001b[0m\n\u001b[0;32m-> 2092\u001b[0;31m         \u001b[0mself\u001b[0m\u001b[0;34m.\u001b[0m\u001b[0m_has_valid_tuple\u001b[0m\u001b[0;34m(\u001b[0m\u001b[0mtup\u001b[0m\u001b[0;34m)\u001b[0m\u001b[0;34m\u001b[0m\u001b[0;34m\u001b[0m\u001b[0m\n\u001b[0m\u001b[1;32m   2093\u001b[0m         \u001b[0;32mtry\u001b[0m\u001b[0;34m:\u001b[0m\u001b[0;34m\u001b[0m\u001b[0;34m\u001b[0m\u001b[0m\n\u001b[1;32m   2094\u001b[0m             \u001b[0;32mreturn\u001b[0m \u001b[0mself\u001b[0m\u001b[0;34m.\u001b[0m\u001b[0m_getitem_lowerdim\u001b[0m\u001b[0;34m(\u001b[0m\u001b[0mtup\u001b[0m\u001b[0;34m)\u001b[0m\u001b[0;34m\u001b[0m\u001b[0;34m\u001b[0m\u001b[0m\n",
      "\u001b[0;32m~/anaconda3/lib/python3.7/site-packages/pandas/core/indexing.py\u001b[0m in \u001b[0;36m_has_valid_tuple\u001b[0;34m(self, key)\u001b[0m\n\u001b[1;32m    233\u001b[0m                 \u001b[0;32mraise\u001b[0m \u001b[0mIndexingError\u001b[0m\u001b[0;34m(\u001b[0m\u001b[0;34m\"Too many indexers\"\u001b[0m\u001b[0;34m)\u001b[0m\u001b[0;34m\u001b[0m\u001b[0;34m\u001b[0m\u001b[0m\n\u001b[1;32m    234\u001b[0m             \u001b[0;32mtry\u001b[0m\u001b[0;34m:\u001b[0m\u001b[0;34m\u001b[0m\u001b[0;34m\u001b[0m\u001b[0m\n\u001b[0;32m--> 235\u001b[0;31m                 \u001b[0mself\u001b[0m\u001b[0;34m.\u001b[0m\u001b[0m_validate_key\u001b[0m\u001b[0;34m(\u001b[0m\u001b[0mk\u001b[0m\u001b[0;34m,\u001b[0m \u001b[0mi\u001b[0m\u001b[0;34m)\u001b[0m\u001b[0;34m\u001b[0m\u001b[0;34m\u001b[0m\u001b[0m\n\u001b[0m\u001b[1;32m    236\u001b[0m             \u001b[0;32mexcept\u001b[0m \u001b[0mValueError\u001b[0m\u001b[0;34m:\u001b[0m\u001b[0;34m\u001b[0m\u001b[0;34m\u001b[0m\u001b[0m\n\u001b[1;32m    237\u001b[0m                 raise ValueError(\n",
      "\u001b[0;32m~/anaconda3/lib/python3.7/site-packages/pandas/core/indexing.py\u001b[0m in \u001b[0;36m_validate_key\u001b[0;34m(self, key, axis)\u001b[0m\n\u001b[1;32m   2029\u001b[0m             \u001b[0;31m# check that the key does not exceed the maximum size of the index\u001b[0m\u001b[0;34m\u001b[0m\u001b[0;34m\u001b[0m\u001b[0;34m\u001b[0m\u001b[0m\n\u001b[1;32m   2030\u001b[0m             \u001b[0;32mif\u001b[0m \u001b[0mlen\u001b[0m\u001b[0;34m(\u001b[0m\u001b[0marr\u001b[0m\u001b[0;34m)\u001b[0m \u001b[0;32mand\u001b[0m \u001b[0;34m(\u001b[0m\u001b[0marr\u001b[0m\u001b[0;34m.\u001b[0m\u001b[0mmax\u001b[0m\u001b[0;34m(\u001b[0m\u001b[0;34m)\u001b[0m \u001b[0;34m>=\u001b[0m \u001b[0mlen_axis\u001b[0m \u001b[0;32mor\u001b[0m \u001b[0marr\u001b[0m\u001b[0;34m.\u001b[0m\u001b[0mmin\u001b[0m\u001b[0;34m(\u001b[0m\u001b[0;34m)\u001b[0m \u001b[0;34m<\u001b[0m \u001b[0;34m-\u001b[0m\u001b[0mlen_axis\u001b[0m\u001b[0;34m)\u001b[0m\u001b[0;34m:\u001b[0m\u001b[0;34m\u001b[0m\u001b[0;34m\u001b[0m\u001b[0m\n\u001b[0;32m-> 2031\u001b[0;31m                 \u001b[0;32mraise\u001b[0m \u001b[0mIndexError\u001b[0m\u001b[0;34m(\u001b[0m\u001b[0;34m\"positional indexers are out-of-bounds\"\u001b[0m\u001b[0;34m)\u001b[0m\u001b[0;34m\u001b[0m\u001b[0;34m\u001b[0m\u001b[0m\n\u001b[0m\u001b[1;32m   2032\u001b[0m         \u001b[0;32melse\u001b[0m\u001b[0;34m:\u001b[0m\u001b[0;34m\u001b[0m\u001b[0;34m\u001b[0m\u001b[0m\n\u001b[1;32m   2033\u001b[0m             raise ValueError(\n",
      "\u001b[0;31mIndexError\u001b[0m: positional indexers are out-of-bounds"
     ]
    }
   ],
   "source": [
    "'''\n",
    "# OJO! CAMBIA FORMATO DEL PDF Y A VECES NO COGE BIEN LA TABLA, COMO EN LA 69, ESPERAR A MAÑANA\n",
    "#Traigo la segunda tabla\n",
    "data_spain_ccaa_age = tabula.read_pdf(path_spain, stream=True, pages=2)[0]\n",
    "data_spain_ccaa_age = data_spain_ccaa_age.iloc [:, [0,1,3,7]]\n",
    "\n",
    "data_spain_ccaa_age.columns = ['Grupos de edad','Confirmados', 'Hospitalizados', 'Fallecidos']\n",
    "data_spain_ccaa_age['Confirmados'] = data_spain_ccaa_age['Confirmados'].str.replace('.','')\n",
    "data_spain_ccaa_age['Fallecidos'] = data_spain_ccaa_age['Fallecidos'].str.replace('.','')\n",
    "data_spain_ccaa_age['Hospitalizados'] = data_spain_ccaa_age['Hospitalizados'].str.replace('.','')\n",
    "data_spain_ccaa_age.set_index('Grupos de edad', inplace=True)\n",
    "\n",
    "# Saco por edades general\n",
    "data_spain_ccaa_age_general = data_spain_ccaa_age.iloc [4:15, :]\n",
    "data_spain_ccaa_age_general.to_csv('covid19_spain_ccaa_ages.csv', sep = ';', encoding=\"utf-8\")\n",
    "\n",
    "#Saco por mujeres\n",
    "data_spain_ccaa_age_mujeres = data_spain_ccaa_age.iloc [22:31, :]\n",
    "data_spain_ccaa_age_mujeres.to_csv('covid19_spain_ccaa_ages_mujeres.csv', sep = ';', encoding=\"utf-8\")\n",
    "\n",
    "#Saco por hombres\n",
    "data_spain_ccaa_age_hombres = data_spain_ccaa_age.iloc [39:49, :]\n",
    "data_spain_ccaa_age_hombres.to_csv('covid19_spain_ccaa_ages_hombres.csv', sep = ';', encoding=\"utf-8\")\n",
    "'''"
   ]
  },
  {
   "cell_type": "markdown",
   "metadata": {},
   "source": [
    "# Subir archivos a SERVIDOR desde FTP"
   ]
  },
  {
   "cell_type": "code",
   "execution_count": 66,
   "metadata": {},
   "outputs": [],
   "source": [
    "import csv\n",
    "from ftplib import FTP\n",
    "from io import StringIO"
   ]
  },
  {
   "cell_type": "code",
   "execution_count": 67,
   "metadata": {},
   "outputs": [
    {
     "output_type": "stream",
     "name": "stdout",
     "text": "230-OK. Current restricted directory is /\n230 313 Kbytes used (0%) - authorized: 51200 Kb\ndrwxr-xr-x    2 akakicre   akakicre         4096 Apr  6 08:43 .\ndrwxr-xr-x    2 akakicre   akakicre         4096 Apr  6 08:43 ..\n-rw-------    1 akakicre   akakicre           10 Apr  8 13:08 .ftpquota\n-rw-r--r--    1 akakicre   akakicre       260069 Apr  3 12:34 Imagen_github.jpg\n-rw-r--r--    1 akakicre   akakicre          265 Apr  8 13:08 covid19_data_drive_actual.csv\n-rw-r--r--    1 akakicre   akakicre         2714 Apr  8 13:08 covid19_data_drive_days.csv\n-rw-r--r--    1 akakicre   akakicre         2894 Apr  8 13:08 covid19_data_drive_from100.csv\n-rw-r--r--    1 akakicre   akakicre          171 Apr  8 13:08 covid19_data_drive_resume.csv\n-rw-r--r--    1 akakicre   akakicre          587 Apr  8 13:08 covid19_spain_ccaa.csv\n-rw-r--r--    1 akakicre   akakicre          257 Apr  8 13:08 covid19_spain_ccaa_ages.csv\n-rw-r--r--    1 akakicre   akakicre          224 Apr  8 13:08 covid19_spain_ccaa_ages_hombres.csv\n-rw-r--r--    1 akakicre   akakicre          202 Apr  8 13:08 covid19_spain_ccaa_ages_mujeres.csv\n-rw-r--r--    1 akakicre   akakicre         3331 Apr  8 13:08 covid19_spain_ccaa_evolution2.csv\n-rw-r--r--    1 akakicre   akakicre          226 Apr  6 08:42 covid19_spain_ccaa_hombres.csv\n-rw-r--r--    1 akakicre   akakicre        60965 Apr  6 08:09 diseno4_covid19.jpg\nNone\n"
    }
   ],
   "source": [
    "# Ayuda: https://www.pythoncircle.com/post/668/uploading-a-file-to-ftp-server-using-python/\n",
    "\n",
    "passw = pd.read_csv(\"pass.txt\", sep = ',', encoding=\"utf-8\")\n",
    "host = \"akakicreations.com\"\n",
    "username = passw.columns[0]\n",
    "password = passw.columns[1]\n",
    "\n",
    "ftp = FTP(host=host)\n",
    "\n",
    "login_status = ftp.login(user=username, passwd=password)\n",
    "print(login_status)\n",
    "\n",
    "print(ftp.dir())\n",
    "fp = open(\"covid19_data_drive_days.csv\", 'rb')\n",
    "ftp.storbinary('STOR %s' % os.path.basename(\"covid19_data_drive_days.csv\"), fp, 1024)\n",
    "fp = open(\"covid19_data_drive_from100.csv\", 'rb')\n",
    "ftp.storbinary('STOR %s' % os.path.basename(\"covid19_data_drive_from100.csv\"), fp, 1024)\n",
    "fp = open(\"covid19_spain_ccaa.csv\", 'rb')\n",
    "ftp.storbinary('STOR %s' % os.path.basename(\"covid19_spain_ccaa.csv\"), fp, 1024)\n",
    "fp = open(\"covid19_spain_ccaa_evolution2.csv\", 'rb')\n",
    "ftp.storbinary('STOR %s' % os.path.basename(\"covid19_spain_ccaa_evolution2.csv\"), fp, 1024)\n",
    "fp = open(\"covid19_data_drive_actual.csv\", 'rb')\n",
    "ftp.storbinary('STOR %s' % os.path.basename(\"covid19_data_drive_actual.csv\"), fp, 1024)\n",
    "fp = open(\"covid19_data_drive_resume.csv\", 'rb')\n",
    "ftp.storbinary('STOR %s' % os.path.basename(\"covid19_data_drive_resume.csv\"), fp, 1024)\n",
    "# fp = open(\"covid19_spain_ccaa_ages.csv\", 'rb')\n",
    "# ftp.storbinary('STOR %s' % os.path.basename(\"covid19_spain_ccaa_ages.csv\"), fp, 1024)\n",
    "# fp = open(\"covid19_spain_ccaa_ages_mujeres.csv\", 'rb')\n",
    "# ftp.storbinary('STOR %s' % os.path.basename(\"covid19_spain_ccaa_ages_mujeres.csv\"), fp, 1024)\n",
    "# fp = open(\"covid19_spain_ccaa_ages_hombres.csv\", 'rb')\n",
    "# ftp.storbinary('STOR %s' % os.path.basename(\"covid19_spain_ccaa_ages_hombres.csv\"), fp, 1024)\n",
    "fp.close()"
   ]
  },
  {
   "cell_type": "code",
   "execution_count": null,
   "metadata": {},
   "outputs": [],
   "source": []
  }
 ],
 "metadata": {
  "file_extension": ".py",
  "kernelspec": {
   "display_name": "Python 3",
   "language": "python",
   "name": "python3"
  },
  "language_info": {
   "codemirror_mode": {
    "name": "ipython",
    "version": 3
   },
   "file_extension": ".py",
   "mimetype": "text/x-python",
   "name": "python",
   "nbconvert_exporter": "python",
   "pygments_lexer": "ipython3",
   "version": "3.7.3-final"
  },
  "mimetype": "text/x-python",
  "name": "python",
  "npconvert_exporter": "python",
  "pygments_lexer": "ipython3",
  "version": 3
 },
 "nbformat": 4,
 "nbformat_minor": 4
}