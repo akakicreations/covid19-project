{
 "cells": [
  {
   "cell_type": "markdown",
   "metadata": {},
   "source": [
    "# Ejercicio Covid-19"
   ]
  },
  {
   "cell_type": "code",
   "execution_count": 1,
   "metadata": {},
   "outputs": [
    {
     "output_type": "execute_result",
     "data": {
      "text/plain": "'2020-05-17'"
     },
     "metadata": {},
     "execution_count": 1
    }
   ],
   "source": [
    "import os\n",
    "import numpy as np\n",
    "import pandas as pd\n",
    "\n",
    "#Fechas de hoy(datos España) y ayer (datos inetrnacionales)\n",
    "from datetime import datetime, timedelta\n",
    "from datetime import date\n",
    "date_today = date.today()\n",
    "date_today_complete = date.today()\n",
    "date_daybefore = date_today - timedelta(days=1)\n",
    "date_today = date_today.strftime('%d/%m')\n",
    "date_daybefore2 = date_daybefore.strftime('%d/%m')\n",
    "\n",
    "date_today_large = date_today_complete.strftime('%Y-%m-%d')\n",
    "date_daybefore_large = date_daybefore.strftime('%Y-%m-%d')\n",
    "date_today_large"
   ]
  },
  {
   "cell_type": "markdown",
   "metadata": {},
   "source": [
    "## Traer los datos de Datadista"
   ]
  },
  {
   "cell_type": "code",
   "execution_count": 2,
   "metadata": {},
   "outputs": [
    {
     "output_type": "execute_result",
     "data": {
      "text/plain": "0     10611\n1      3727\n2      1061\n3      1523\n4      1524\n5      2270\n6      6378\n7      8716\n8     26172\n9       163\n10     9907\n11     2636\n12     9155\n13    40698\n14      124\n15     2084\n16     3751\n17    16028\n18     3048\nName: 2020-05-17, dtype: int64"
     },
     "metadata": {},
     "execution_count": 2
    }
   ],
   "source": [
    "data_ccaa_confirmed_timeseries = pd.read_csv(\"https://raw.githubusercontent.com/datadista/datasets/master/COVID%2019/ccaa_covid19_casos.csv\", sep = ',', encoding=\"utf-8\")\n",
    "\n",
    "data_ccaa_deaths_timeseries = pd.read_csv(\"https://raw.githubusercontent.com/datadista/datasets/master/COVID%2019/ccaa_covid19_fallecidos.csv\", sep = ',', encoding=\"utf-8\")\n",
    "\n",
    "data_ccaa_recovered_timeseries = pd.read_csv(\"https://raw.githubusercontent.com/datadista/datasets/master/COVID%2019/ccaa_covid19_altas.csv\", sep = ',', encoding=\"utf-8\")\n",
    "\n",
    "data_spain_datadista = pd.read_csv(\"https://raw.githubusercontent.com/datadista/datasets/master/COVID%2019/nacional_covid19.csv\")\n",
    "\n",
    "\n",
    "#Comprobar si están subidos los últimos datos, si no sale error es que hay datos.\n",
    "data_ccaa_recovered_timeseries[date_today_large]"
   ]
  },
  {
   "cell_type": "markdown",
   "metadata": {},
   "source": [
    "## RESUMEN: Resumen datos globales"
   ]
  },
  {
   "cell_type": "code",
   "execution_count": 3,
   "metadata": {},
   "outputs": [
    {
     "output_type": "stream",
     "name": "stdout",
     "text": "Confirmados  Curados  Fallecidos\nCasos totales en el mundo           4634068  1693197      311781\nNuevos casos en el mundo (24h)        91721    56130        4115\nCasos totales en España              277719   149576       27650\nNuevos casos en España (24h)            421     2719          87\n"
    }
   ],
   "source": [
    "# Función para obtener datos del mundo    \n",
    "'''\n",
    "def get_data_spain(url):    \n",
    "    data_spain = pd.read_csv(url)\n",
    "    data_spain = data_spain.groupby(\"Country/Region\", as_index=False).sum()\n",
    "    data_spain = data_spain.set_index(\"Country/Region\").transpose()\n",
    "    data_spain = data_spain['Spain']\n",
    "    data_spain_actual = int(data_spain.iloc[-1])\n",
    "    data_spain_before = int(data_spain.iloc[-2])\n",
    "    data_spain_24h = data_spain_actual - data_spain_before\n",
    "    return data_spain_24h, data_spain_actual\n",
    "'''\n",
    "\n",
    "def get_data_world(url):    \n",
    "    data_world = pd.read_csv(url)\n",
    "    data_world = data_world.groupby(\"Country/Region\", as_index=False).sum()\n",
    "    data_world = data_world.set_index(\"Country/Region\").transpose()\n",
    "    data_world_actual = int(data_world.sum(axis=1).iloc[-1])\n",
    "    data_world_before = int(data_world.sum(axis=1).iloc[-2])\n",
    "    data_world_24h = data_world_actual - data_world_before\n",
    "    return data_world_24h, data_world_actual\n",
    "\n",
    "data_confirmed_path = \"COVID-19/csse_covid_19_data/csse_covid_19_time_series/time_series_covid19_confirmed_global.csv\"\n",
    "data_deaths_path = \"COVID-19/csse_covid_19_data/csse_covid_19_time_series/time_series_covid19_deaths_global.csv\"\n",
    "data_recovered_path = \"COVID-19/csse_covid_19_data/csse_covid_19_time_series/time_series_covid19_recovered_global.csv\"\n",
    "\n",
    "\n",
    "# Para el mundo\n",
    "data_confirmed_world_24h, data_confirmed_world_actual = get_data_world(data_confirmed_path)\n",
    "data_deaths_world_24h, data_deaths_world_actual = get_data_world(data_deaths_path)\n",
    "data_recovered_world_24h, data_recovered_world_actual = get_data_world(data_recovered_path)\n",
    "\n",
    "''' Cogiendo datos de John Hopkins\n",
    "# Para España\n",
    "data_confirmed_spain_24h, data_confirmed_spain_actual = get_data_spain(data_confirmed_path)\n",
    "data_deaths_spain_24h, data_deaths_spain_actual = get_data_spain(data_deaths_path)\n",
    "data_recovered_spain_24h, data_recovered_spain_actual = get_data_spain(data_recovered_path)\n",
    "'''\n",
    "\n",
    "# Para España actual(dataset de datadista)\n",
    "data_confirmed_spain_actual = int(data_ccaa_confirmed_timeseries[date_today_large].sum())\n",
    "data_recovered_spain_actual = int(data_ccaa_recovered_timeseries[date_today_large].sum())\n",
    "data_deaths_spain_actual = int(data_ccaa_deaths_timeseries[date_today_large].sum())\n",
    "\n",
    "\n",
    "# Para España nuevos casos 24h(dataset de datadista)\n",
    "data_spain_datadista_trans = data_spain_datadista.set_index('fecha').transpose()\n",
    "data_spain_datadista_confirmed = data_spain_datadista_trans.iloc[1]\n",
    "data_spain_datadista_recovered = data_spain_datadista_trans.iloc[3]\n",
    "data_spain_datadista_deaths = data_spain_datadista_trans.iloc[4]\n",
    "data_confirmed_spain_24h = int(data_spain_datadista_confirmed[date_today_large]) - int(data_spain_datadista_confirmed[date_daybefore_large])\n",
    "data_recovered_spain_24h = int(data_spain_datadista_recovered[date_today_large]) - int(data_spain_datadista_recovered[date_daybefore_large])\n",
    "data_deaths_spain_24h= int(data_spain_datadista_deaths[date_today_large]) - int(data_spain_datadista_deaths[date_daybefore_large])\n",
    "\n",
    "# Creamos dataframes\n",
    "\n",
    "data_spain_resume_actual = pd.DataFrame({'Confirmados': data_confirmed_spain_actual,\n",
    "                                    'Curados': data_recovered_spain_actual, \n",
    "                                    'Fallecidos': data_deaths_spain_actual}, \n",
    "                                   index=['Casos totales en España'])\n",
    "\n",
    "data_spain_newcases = pd.DataFrame({'Confirmados': data_confirmed_spain_24h,\n",
    "                                    'Curados': data_recovered_spain_24h, \n",
    "                                    'Fallecidos': data_deaths_spain_24h}, \n",
    "                                   index=['Nuevos casos en España (24h)'])\n",
    "\n",
    "\n",
    "data_world_newcases = pd.DataFrame({'Confirmados': data_confirmed_world_24h,\n",
    "                                    'Curados': data_recovered_world_24h, \n",
    "                                    'Fallecidos': data_deaths_world_24h}, \n",
    "                                   index=['Nuevos casos en el mundo (24h)'])\n",
    "\n",
    "data_world_resume_actual = pd.DataFrame({'Confirmados': data_confirmed_world_actual,\n",
    "                                    'Curados': data_recovered_world_actual, \n",
    "                                    'Fallecidos': data_deaths_world_actual}, \n",
    "                                   index=['Casos totales en el mundo'])\n",
    "\n",
    "########### Junto los datos anteriores en una tabla\n",
    "data_resume_final = pd.concat([data_world_resume_actual, data_world_newcases, data_spain_resume_actual, data_spain_newcases])\n",
    "\n",
    "data_resume_final.to_csv('data_world_resume.csv', sep = ';')\n",
    "print(data_resume_final)"
   ]
  },
  {
   "cell_type": "markdown",
   "metadata": {},
   "source": [
    "## MUNDO: Preparación general de datos por países"
   ]
  },
  {
   "cell_type": "code",
   "execution_count": 4,
   "metadata": {},
   "outputs": [
    {
     "output_type": "execute_result",
     "data": {
      "text/plain": "Country/Region    China    France   Germany      Iran     Italy  Korea, South  \\\n2020-05-12      84018.0  178349.0  173171.0  110767.0  221216.0       10962.0   \n2020-05-13      84024.0  178184.0  174098.0  112725.0  222104.0       10991.0   \n2020-05-14      84029.0  178994.0  174478.0  114533.0  223096.0       11018.0   \n2020-05-15      84038.0  179630.0  175233.0  116635.0  223885.0       11037.0   \n2020-05-16      84044.0  179630.0  175752.0  118392.0  224760.0       11050.0   \n\nCountry/Region  Norway     Spain         US  United Kingdom  \n2020-05-12      8157.0  228030.0  1369376.0        227741.0  \n2020-05-13      8175.0  228691.0  1390406.0        230985.0  \n2020-05-14      8196.0  229540.0  1417774.0        234440.0  \n2020-05-15      8219.0  230183.0  1442824.0        238004.0  \n2020-05-16      8237.0  230698.0  1467820.0        241461.0  ",
      "text/html": "<div>\n<style scoped>\n    .dataframe tbody tr th:only-of-type {\n        vertical-align: middle;\n    }\n\n    .dataframe tbody tr th {\n        vertical-align: top;\n    }\n\n    .dataframe thead th {\n        text-align: right;\n    }\n</style>\n<table border=\"1\" class=\"dataframe\">\n  <thead>\n    <tr style=\"text-align: right;\">\n      <th>Country/Region</th>\n      <th>China</th>\n      <th>France</th>\n      <th>Germany</th>\n      <th>Iran</th>\n      <th>Italy</th>\n      <th>Korea, South</th>\n      <th>Norway</th>\n      <th>Spain</th>\n      <th>US</th>\n      <th>United Kingdom</th>\n    </tr>\n  </thead>\n  <tbody>\n    <tr>\n      <th>2020-05-12</th>\n      <td>84018.0</td>\n      <td>178349.0</td>\n      <td>173171.0</td>\n      <td>110767.0</td>\n      <td>221216.0</td>\n      <td>10962.0</td>\n      <td>8157.0</td>\n      <td>228030.0</td>\n      <td>1369376.0</td>\n      <td>227741.0</td>\n    </tr>\n    <tr>\n      <th>2020-05-13</th>\n      <td>84024.0</td>\n      <td>178184.0</td>\n      <td>174098.0</td>\n      <td>112725.0</td>\n      <td>222104.0</td>\n      <td>10991.0</td>\n      <td>8175.0</td>\n      <td>228691.0</td>\n      <td>1390406.0</td>\n      <td>230985.0</td>\n    </tr>\n    <tr>\n      <th>2020-05-14</th>\n      <td>84029.0</td>\n      <td>178994.0</td>\n      <td>174478.0</td>\n      <td>114533.0</td>\n      <td>223096.0</td>\n      <td>11018.0</td>\n      <td>8196.0</td>\n      <td>229540.0</td>\n      <td>1417774.0</td>\n      <td>234440.0</td>\n    </tr>\n    <tr>\n      <th>2020-05-15</th>\n      <td>84038.0</td>\n      <td>179630.0</td>\n      <td>175233.0</td>\n      <td>116635.0</td>\n      <td>223885.0</td>\n      <td>11037.0</td>\n      <td>8219.0</td>\n      <td>230183.0</td>\n      <td>1442824.0</td>\n      <td>238004.0</td>\n    </tr>\n    <tr>\n      <th>2020-05-16</th>\n      <td>84044.0</td>\n      <td>179630.0</td>\n      <td>175752.0</td>\n      <td>118392.0</td>\n      <td>224760.0</td>\n      <td>11050.0</td>\n      <td>8237.0</td>\n      <td>230698.0</td>\n      <td>1467820.0</td>\n      <td>241461.0</td>\n    </tr>\n  </tbody>\n</table>\n</div>"
     },
     "metadata": {},
     "execution_count": 4
    }
   ],
   "source": [
    "# Datos https://github.com/CSSEGISandData/COVID-19.git\n",
    "data = pd.read_csv(\"COVID-19/csse_covid_19_data/csse_covid_19_time_series/time_series_covid19_confirmed_global.csv\" )\n",
    "\n",
    "#Saco un dataset con solo los países\n",
    "data_countries = data.groupby(\"Country/Region\", as_index=False).sum()\n",
    "\n",
    "# Hago transposición de los datos para mover las columnas en filas \n",
    "data_trans = data_countries.set_index('Country/Region').transpose()\n",
    "# Y me quedo sólo con los datos temporales y número de casos\n",
    "data_time = data_trans[2:]\n",
    "\n",
    "# Cogemos solo determinados países\n",
    "data_time = data_time[['China', 'France', 'Germany', 'Iran','Italy', 'Korea, South', 'Norway','Spain', 'US', 'United Kingdom']]\n",
    "\n",
    "#Hago listado de Countries\n",
    "list_countries = data_time.columns\n",
    "list_countries\n",
    "\n",
    "#Convierto la columna fecha en datetime\n",
    "from datetime import date\n",
    "data_time.index = pd.to_datetime(data_time.index)\n",
    "data_time.tail()\n"
   ]
  },
  {
   "cell_type": "markdown",
   "metadata": {},
   "source": [
    "## MUNDO: Confirmados, curados y fallecidos"
   ]
  },
  {
   "cell_type": "code",
   "execution_count": 5,
   "metadata": {},
   "outputs": [
    {
     "output_type": "execute_result",
     "data": {
      "text/plain": "                Confirmados   Curados  Fallecidos\nCountry/Region                                   \nChina               84044.0   79293.0      4638.0\nFrance             179630.0   60562.0     27532.0\nGermany            175752.0  152600.0      7938.0\nItaly              224760.0  122810.0     31763.0\nSpain              230698.0  146446.0     27563.0\nUS                1467820.0  268376.0     88754.0\nUnited Kingdom     241461.0    1058.0     34546.0",
      "text/html": "<div>\n<style scoped>\n    .dataframe tbody tr th:only-of-type {\n        vertical-align: middle;\n    }\n\n    .dataframe tbody tr th {\n        vertical-align: top;\n    }\n\n    .dataframe thead th {\n        text-align: right;\n    }\n</style>\n<table border=\"1\" class=\"dataframe\">\n  <thead>\n    <tr style=\"text-align: right;\">\n      <th></th>\n      <th>Confirmados</th>\n      <th>Curados</th>\n      <th>Fallecidos</th>\n    </tr>\n    <tr>\n      <th>Country/Region</th>\n      <th></th>\n      <th></th>\n      <th></th>\n    </tr>\n  </thead>\n  <tbody>\n    <tr>\n      <th>China</th>\n      <td>84044.0</td>\n      <td>79293.0</td>\n      <td>4638.0</td>\n    </tr>\n    <tr>\n      <th>France</th>\n      <td>179630.0</td>\n      <td>60562.0</td>\n      <td>27532.0</td>\n    </tr>\n    <tr>\n      <th>Germany</th>\n      <td>175752.0</td>\n      <td>152600.0</td>\n      <td>7938.0</td>\n    </tr>\n    <tr>\n      <th>Italy</th>\n      <td>224760.0</td>\n      <td>122810.0</td>\n      <td>31763.0</td>\n    </tr>\n    <tr>\n      <th>Spain</th>\n      <td>230698.0</td>\n      <td>146446.0</td>\n      <td>27563.0</td>\n    </tr>\n    <tr>\n      <th>US</th>\n      <td>1467820.0</td>\n      <td>268376.0</td>\n      <td>88754.0</td>\n    </tr>\n    <tr>\n      <th>United Kingdom</th>\n      <td>241461.0</td>\n      <td>1058.0</td>\n      <td>34546.0</td>\n    </tr>\n  </tbody>\n</table>\n</div>"
     },
     "metadata": {},
     "execution_count": 5
    }
   ],
   "source": [
    "######### Confirmados\n",
    "\n",
    "data_confirmed = pd.read_csv(\"COVID-19/csse_covid_19_data/csse_covid_19_time_series/time_series_covid19_confirmed_global.csv\" )\n",
    "#Saco un dataset con solo los países\n",
    "data_confirmed = data_confirmed.groupby(\"Country/Region\", as_index=False).sum()\n",
    "# Hago transposición de los datos para mover las columnas en filas \n",
    "data_confirmed = data_confirmed.set_index('Country/Region').transpose()\n",
    "# Y me quedo sólo con los datos temporales y número de casos\n",
    "data_confirmed = data_confirmed[2:]\n",
    "# Cogemos solo determinados países\n",
    "data_confirmed = data_confirmed[['China', 'France', 'Germany', 'Italy','Spain', 'US', 'United Kingdom']]\n",
    "data_confirmed = data_confirmed[-1:]\n",
    "\n",
    "######### Muertos\n",
    "\n",
    "data_deaths = pd.read_csv(\"COVID-19/csse_covid_19_data/csse_covid_19_time_series/time_series_covid19_deaths_global.csv\")\n",
    "#Saco un dataset con solo los países\n",
    "data_deaths = data_deaths.groupby(\"Country/Region\", as_index=False).sum()\n",
    "#Se ve que están todos y comprobado que suma\n",
    "data_deaths[::]\n",
    "# Hago transposición de los datos para mover las columnas en filas \n",
    "data_deaths = data_deaths.set_index('Country/Region').transpose()\n",
    "\n",
    "# Y me quedo sólo con los datos temporales y número de casos\n",
    "data_deaths = data_deaths[2:]\n",
    "data_deaths.tail()\n",
    "# Cogemos solo determinados países\n",
    "data_deaths = data_deaths[['China', 'France', 'Germany', 'Italy','Spain', 'US', 'United Kingdom']]\n",
    "data_deaths = data_deaths[-1:]\n",
    "\n",
    "######### Recuperados\n",
    "\n",
    "data_recovered = pd.read_csv(\"COVID-19/csse_covid_19_data/csse_covid_19_time_series/time_series_covid19_recovered_global.csv\" )\n",
    "#Saco un dataset con solo los países\n",
    "data_recovered = data_recovered.groupby(\"Country/Region\", as_index=False).sum()\n",
    "# Hago transposición de los datos para mover las columnas en filas \n",
    "data_recovered = data_recovered.set_index('Country/Region').transpose()\n",
    "# Y me quedo sólo con los datos temporales y número de casos\n",
    "data_recovered = data_recovered[2:]\n",
    "# Cogemos solo determinados países\n",
    "data_recovered = data_recovered[['China', 'France', 'Germany', 'Italy','Spain', 'US', 'United Kingdom']]\n",
    "data_recovered = data_recovered[-1:]\n",
    "\n",
    "######### Merge de datos\n",
    "\n",
    "# Saco la fecha:\n",
    "from datetime import datetime, timedelta\n",
    "date_today_intern = date.today()\n",
    "date_today_intern = date_today_intern.today() - timedelta(days=1) #Quito uno porque esta base de datos siempre muestra datos del día anterior\n",
    "date_today_intern = date_today_intern.strftime('%d/%m')\n",
    "\n",
    "#Juntar ahora datos\n",
    "data_columns = ['Confirmados', 'Curados', 'Fallecidos']\n",
    "\n",
    "data_together = pd.merge(data_confirmed, data_recovered, how='outer')\n",
    "data_together = pd.merge(data_together, data_deaths, how='outer')\n",
    "data_together.index = data_columns\n",
    "data_together_final = data_together.transpose()\n",
    "# data_together = data_together.reindex(columns =data_columns) \n",
    "# data_together = data_together.reindex(data_index)\n",
    "\n",
    "# Exporto CSV\n",
    "data_together_final.to_csv('data_world_actual.csv', sep = ';')\n",
    "data_together_final"
   ]
  },
  {
   "cell_type": "markdown",
   "metadata": {},
   "source": [
    "## MUNDO: Confirmados, curados y fallecidos por habitantes de población"
   ]
  },
  {
   "cell_type": "code",
   "execution_count": 6,
   "metadata": {},
   "outputs": [
    {
     "output_type": "execute_result",
     "data": {
      "text/plain": "Country/Region    China    France   Germany     Italy     Spain         US  \\\nConfirmados     84044.0  179630.0  175752.0  224760.0  230698.0  1467820.0   \nCurados         79293.0   60562.0  152600.0  122810.0  146446.0   268376.0   \nFallecidos       4638.0   27532.0    7938.0   31763.0   27563.0    88754.0   \n\nCountry/Region  United Kingdom  \nConfirmados           241461.0  \nCurados                 1058.0  \nFallecidos             34546.0  ",
      "text/html": "<div>\n<style scoped>\n    .dataframe tbody tr th:only-of-type {\n        vertical-align: middle;\n    }\n\n    .dataframe tbody tr th {\n        vertical-align: top;\n    }\n\n    .dataframe thead th {\n        text-align: right;\n    }\n</style>\n<table border=\"1\" class=\"dataframe\">\n  <thead>\n    <tr style=\"text-align: right;\">\n      <th>Country/Region</th>\n      <th>China</th>\n      <th>France</th>\n      <th>Germany</th>\n      <th>Italy</th>\n      <th>Spain</th>\n      <th>US</th>\n      <th>United Kingdom</th>\n    </tr>\n  </thead>\n  <tbody>\n    <tr>\n      <th>Confirmados</th>\n      <td>84044.0</td>\n      <td>179630.0</td>\n      <td>175752.0</td>\n      <td>224760.0</td>\n      <td>230698.0</td>\n      <td>1467820.0</td>\n      <td>241461.0</td>\n    </tr>\n    <tr>\n      <th>Curados</th>\n      <td>79293.0</td>\n      <td>60562.0</td>\n      <td>152600.0</td>\n      <td>122810.0</td>\n      <td>146446.0</td>\n      <td>268376.0</td>\n      <td>1058.0</td>\n    </tr>\n    <tr>\n      <th>Fallecidos</th>\n      <td>4638.0</td>\n      <td>27532.0</td>\n      <td>7938.0</td>\n      <td>31763.0</td>\n      <td>27563.0</td>\n      <td>88754.0</td>\n      <td>34546.0</td>\n    </tr>\n  </tbody>\n</table>\n</div>"
     },
     "metadata": {},
     "execution_count": 6
    }
   ],
   "source": [
    "data_together"
   ]
  },
  {
   "cell_type": "code",
   "execution_count": 7,
   "metadata": {},
   "outputs": [
    {
     "output_type": "execute_result",
     "data": {
      "text/plain": "Country/Region  China  France  Germany   Italy   Spain      US  United Kingdom\nConfirmados      60.0  2680.0   2117.0  3713.0  4915.0  4472.0          3623.0\nCurados          57.0   904.0   1838.0  2029.0  3120.0   818.0            16.0\nFallecidos        3.0   411.0     96.0   525.0   587.0   270.0           518.0",
      "text/html": "<div>\n<style scoped>\n    .dataframe tbody tr th:only-of-type {\n        vertical-align: middle;\n    }\n\n    .dataframe tbody tr th {\n        vertical-align: top;\n    }\n\n    .dataframe thead th {\n        text-align: right;\n    }\n</style>\n<table border=\"1\" class=\"dataframe\">\n  <thead>\n    <tr style=\"text-align: right;\">\n      <th>Country/Region</th>\n      <th>China</th>\n      <th>France</th>\n      <th>Germany</th>\n      <th>Italy</th>\n      <th>Spain</th>\n      <th>US</th>\n      <th>United Kingdom</th>\n    </tr>\n  </thead>\n  <tbody>\n    <tr>\n      <th>Confirmados</th>\n      <td>60.0</td>\n      <td>2680.0</td>\n      <td>2117.0</td>\n      <td>3713.0</td>\n      <td>4915.0</td>\n      <td>4472.0</td>\n      <td>3623.0</td>\n    </tr>\n    <tr>\n      <th>Curados</th>\n      <td>57.0</td>\n      <td>904.0</td>\n      <td>1838.0</td>\n      <td>2029.0</td>\n      <td>3120.0</td>\n      <td>818.0</td>\n      <td>16.0</td>\n    </tr>\n    <tr>\n      <th>Fallecidos</th>\n      <td>3.0</td>\n      <td>411.0</td>\n      <td>96.0</td>\n      <td>525.0</td>\n      <td>587.0</td>\n      <td>270.0</td>\n      <td>518.0</td>\n    </tr>\n  </tbody>\n</table>\n</div>"
     },
     "metadata": {},
     "execution_count": 7
    }
   ],
   "source": [
    "pob_wuhan = 11895000\n",
    "pob_china = 1393000000\n",
    "pob_france = 67028048\n",
    "pob_germany = 83019200\n",
    "pob_italy = 60541000\n",
    "pob_spain = 46940000\n",
    "pob_US = 328200000\n",
    "pob_UK = 66650000\n",
    "\n",
    "# Por cada millón de habitantes hay estos casos...\n",
    "data_together_den = data_together.copy()\n",
    "data_together_den['China'] = (data_together_den['China'] / pob_china)*1000000 # Por cada caso infectado hay 142 que no lo están\n",
    "data_together_den['France'] = (data_together_den['France'] / pob_france)*1000000 # Por cada caso infectado hay 455 que no lo están\n",
    "data_together_den['Germany'] = (data_together_den['Germany'] / pob_germany)*1000000  # Por cada caso infectado hay 455 que no lo están\n",
    "data_together_den['Italy'] = (data_together_den['Italy'] / pob_italy)*1000000\n",
    "data_together_den['Spain'] = (data_together_den['Spain'] / pob_spain)*1000000\n",
    "data_together_den['US'] = (data_together_den['US'] / pob_US)*1000000\n",
    "data_together_den['United Kingdom'] = (data_together_den['United Kingdom'] / pob_UK)*1000000\n",
    "data_together_den = data_together_den.round(0)\n",
    "# Exporto CSV\n",
    "data_together_den.to_csv('data_world_actual_den.csv', sep = ';')\n",
    "data_together_den"
   ]
  },
  {
   "cell_type": "markdown",
   "metadata": {},
   "source": [
    "## MUNDO: CSV : covid19_data_drive_from100.csv"
   ]
  },
  {
   "cell_type": "code",
   "execution_count": 8,
   "metadata": {},
   "outputs": [
    {
     "output_type": "execute_result",
     "data": {
      "text/plain": "    France    China  Germany  Iran     Italy  Korea, South  Norway  Spain  US  \\\n80     NaN  83014.0      NaN   NaN  223096.0       10936.0     NaN    NaN NaN   \n81     NaN  83134.0      NaN   NaN  223885.0       10962.0     NaN    NaN NaN   \n82     NaN  83213.0      NaN   NaN  224760.0       10991.0     NaN    NaN NaN   \n83     NaN  83306.0      NaN   NaN       NaN       11018.0     NaN    NaN NaN   \n84     NaN  83356.0      NaN   NaN       NaN       11037.0     NaN    NaN NaN   \n\n    United Kingdom  \n80             NaN  \n81             NaN  \n82             NaN  \n83             NaN  \n84             NaN  ",
      "text/html": "<div>\n<style scoped>\n    .dataframe tbody tr th:only-of-type {\n        vertical-align: middle;\n    }\n\n    .dataframe tbody tr th {\n        vertical-align: top;\n    }\n\n    .dataframe thead th {\n        text-align: right;\n    }\n</style>\n<table border=\"1\" class=\"dataframe\">\n  <thead>\n    <tr style=\"text-align: right;\">\n      <th></th>\n      <th>France</th>\n      <th>China</th>\n      <th>Germany</th>\n      <th>Iran</th>\n      <th>Italy</th>\n      <th>Korea, South</th>\n      <th>Norway</th>\n      <th>Spain</th>\n      <th>US</th>\n      <th>United Kingdom</th>\n    </tr>\n  </thead>\n  <tbody>\n    <tr>\n      <th>80</th>\n      <td>NaN</td>\n      <td>83014.0</td>\n      <td>NaN</td>\n      <td>NaN</td>\n      <td>223096.0</td>\n      <td>10936.0</td>\n      <td>NaN</td>\n      <td>NaN</td>\n      <td>NaN</td>\n      <td>NaN</td>\n    </tr>\n    <tr>\n      <th>81</th>\n      <td>NaN</td>\n      <td>83134.0</td>\n      <td>NaN</td>\n      <td>NaN</td>\n      <td>223885.0</td>\n      <td>10962.0</td>\n      <td>NaN</td>\n      <td>NaN</td>\n      <td>NaN</td>\n      <td>NaN</td>\n    </tr>\n    <tr>\n      <th>82</th>\n      <td>NaN</td>\n      <td>83213.0</td>\n      <td>NaN</td>\n      <td>NaN</td>\n      <td>224760.0</td>\n      <td>10991.0</td>\n      <td>NaN</td>\n      <td>NaN</td>\n      <td>NaN</td>\n      <td>NaN</td>\n    </tr>\n    <tr>\n      <th>83</th>\n      <td>NaN</td>\n      <td>83306.0</td>\n      <td>NaN</td>\n      <td>NaN</td>\n      <td>NaN</td>\n      <td>11018.0</td>\n      <td>NaN</td>\n      <td>NaN</td>\n      <td>NaN</td>\n      <td>NaN</td>\n    </tr>\n    <tr>\n      <th>84</th>\n      <td>NaN</td>\n      <td>83356.0</td>\n      <td>NaN</td>\n      <td>NaN</td>\n      <td>NaN</td>\n      <td>11037.0</td>\n      <td>NaN</td>\n      <td>NaN</td>\n      <td>NaN</td>\n      <td>NaN</td>\n    </tr>\n  </tbody>\n</table>\n</div>"
     },
     "metadata": {},
     "execution_count": 8
    }
   ],
   "source": [
    "# Coger solo datos del último mes\n",
    "data_time_30days = data_time[-200:]\n",
    "# Si quiero quitar China: data_time_filter = data_time_filter.drop('China', axis=1)\n",
    "\n",
    "#Exporto los datos en diferentes arhcivos con casa país\n",
    "for country in list_countries:\n",
    "    dataX = data_time_30days[country]\n",
    "    dataX = dataX[dataX > 200]\n",
    "    dataX.to_csv('data_' + country + \".csv\", index=False, header= country)\n",
    "\n",
    "# Lista dataframes\n",
    "# dataframes_list = ['dataframe_France', 'dataframe_China', 'dataframe_Germany', 'dataframe_Iran', 'dataframe_Italy', 'dataframe_Korea', 'dataframe_Norway', 'dataframe_Spain', 'dataframe_US', 'dataframe_UnitedKingdom']\n",
    "\n",
    "# Creamos los CSV\n",
    "dataframe_France = pd.read_csv('data_France.csv')\n",
    "dataframe_China = pd.read_csv('data_China.csv')\n",
    "dataframe_Germany = pd.read_csv('data_Germany.csv')\n",
    "dataframe_Iran = pd.read_csv('data_Iran.csv')\n",
    "dataframe_Italy = pd.read_csv('data_Italy.csv')\n",
    "dataframe_Korea = pd.read_csv('data_Korea, South.csv')\n",
    "dataframe_Norway = pd.read_csv('data_Norway.csv')\n",
    "dataframe_Spain = pd.read_csv('data_Spain.csv')\n",
    "dataframe_US = pd.read_csv('data_US.csv')\n",
    "dataframe_UnitedKingdom = pd.read_csv('data_United Kingdom.csv')\n",
    "\n",
    "#Les añadimos NaN al final y reindexamos\n",
    "new_index = np.arange(1,85)\n",
    "dataframe_France = dataframe_France.reindex(new_index)\n",
    "dataframe_China = dataframe_China.reindex(new_index)\n",
    "dataframe_Germany = dataframe_Germany.reindex(new_index)\n",
    "dataframe_Iran = dataframe_Iran.reindex(new_index)\n",
    "dataframe_Italy = dataframe_Italy.reindex(new_index)\n",
    "dataframe_Korea = dataframe_Korea.reindex(new_index)\n",
    "dataframe_Norway = dataframe_Norway.reindex(new_index)\n",
    "dataframe_Spain = dataframe_Spain.reindex(new_index)\n",
    "dataframe_US = dataframe_US.reindex(new_index)\n",
    "dataframe_UnitedKingdom = dataframe_UnitedKingdom.reindex(new_index)\n",
    "\n",
    "#Juntar dataframes y Exportar CSV completo\n",
    "data_drive_from100cases = dataframe_France.join([dataframe_China, dataframe_Germany, \n",
    "                                                 dataframe_Iran, dataframe_Italy, dataframe_Korea, \n",
    "                                                 dataframe_Norway, dataframe_Spain, dataframe_US,\n",
    "                                                 dataframe_UnitedKingdom])\n",
    "\n",
    "data_drive_from100cases.to_csv('data_world_from100.csv', sep = ';')\n",
    "data_drive_from100cases.tail()"
   ]
  },
  {
   "cell_type": "markdown",
   "metadata": {},
   "source": [
    "## MUNDO: CSV covid19_data_drive_days.csv"
   ]
  },
  {
   "cell_type": "code",
   "execution_count": 9,
   "metadata": {},
   "outputs": [
    {
     "output_type": "execute_result",
     "data": {
      "text/plain": "Index(['China', 'France', 'Germany', 'Iran', 'Italy', 'Korea, South', 'Norway',\n       'Spain', 'US', 'United Kingdom'],\n      dtype='object', name='Country/Region')"
     },
     "metadata": {},
     "execution_count": 9
    }
   ],
   "source": [
    "list_countries"
   ]
  },
  {
   "cell_type": "code",
   "execution_count": 10,
   "metadata": {},
   "outputs": [
    {
     "output_type": "execute_result",
     "data": {
      "text/plain": "Country/Region    China    France   Germany      Iran     Italy  Korea, South  \\\n2020-05-12      84018.0  178349.0  173171.0  110767.0  221216.0       10962.0   \n2020-05-13      84024.0  178184.0  174098.0  112725.0  222104.0       10991.0   \n2020-05-14      84029.0  178994.0  174478.0  114533.0  223096.0       11018.0   \n2020-05-15      84038.0  179630.0  175233.0  116635.0  223885.0       11037.0   \n2020-05-16      84044.0  179630.0  175752.0  118392.0  224760.0       11050.0   \n\nCountry/Region  Norway     Spain  United Kingdom  \n2020-05-12      8157.0  228030.0        227741.0  \n2020-05-13      8175.0  228691.0        230985.0  \n2020-05-14      8196.0  229540.0        234440.0  \n2020-05-15      8219.0  230183.0        238004.0  \n2020-05-16      8237.0  230698.0        241461.0  ",
      "text/html": "<div>\n<style scoped>\n    .dataframe tbody tr th:only-of-type {\n        vertical-align: middle;\n    }\n\n    .dataframe tbody tr th {\n        vertical-align: top;\n    }\n\n    .dataframe thead th {\n        text-align: right;\n    }\n</style>\n<table border=\"1\" class=\"dataframe\">\n  <thead>\n    <tr style=\"text-align: right;\">\n      <th>Country/Region</th>\n      <th>China</th>\n      <th>France</th>\n      <th>Germany</th>\n      <th>Iran</th>\n      <th>Italy</th>\n      <th>Korea, South</th>\n      <th>Norway</th>\n      <th>Spain</th>\n      <th>United Kingdom</th>\n    </tr>\n  </thead>\n  <tbody>\n    <tr>\n      <th>2020-05-12</th>\n      <td>84018.0</td>\n      <td>178349.0</td>\n      <td>173171.0</td>\n      <td>110767.0</td>\n      <td>221216.0</td>\n      <td>10962.0</td>\n      <td>8157.0</td>\n      <td>228030.0</td>\n      <td>227741.0</td>\n    </tr>\n    <tr>\n      <th>2020-05-13</th>\n      <td>84024.0</td>\n      <td>178184.0</td>\n      <td>174098.0</td>\n      <td>112725.0</td>\n      <td>222104.0</td>\n      <td>10991.0</td>\n      <td>8175.0</td>\n      <td>228691.0</td>\n      <td>230985.0</td>\n    </tr>\n    <tr>\n      <th>2020-05-14</th>\n      <td>84029.0</td>\n      <td>178994.0</td>\n      <td>174478.0</td>\n      <td>114533.0</td>\n      <td>223096.0</td>\n      <td>11018.0</td>\n      <td>8196.0</td>\n      <td>229540.0</td>\n      <td>234440.0</td>\n    </tr>\n    <tr>\n      <th>2020-05-15</th>\n      <td>84038.0</td>\n      <td>179630.0</td>\n      <td>175233.0</td>\n      <td>116635.0</td>\n      <td>223885.0</td>\n      <td>11037.0</td>\n      <td>8219.0</td>\n      <td>230183.0</td>\n      <td>238004.0</td>\n    </tr>\n    <tr>\n      <th>2020-05-16</th>\n      <td>84044.0</td>\n      <td>179630.0</td>\n      <td>175752.0</td>\n      <td>118392.0</td>\n      <td>224760.0</td>\n      <td>11050.0</td>\n      <td>8237.0</td>\n      <td>230698.0</td>\n      <td>241461.0</td>\n    </tr>\n  </tbody>\n</table>\n</div>"
     },
     "metadata": {},
     "execution_count": 10
    }
   ],
   "source": [
    "# Coger solo datos de últimos 60 días\n",
    "data_time_Xdays = data_time[-60:]\n",
    "\n",
    "# Sin EEUU\n",
    "# Cogemos solo determinados países\n",
    "list_without_EEUU = ['China', 'France', 'Germany', 'Iran','Italy', 'Korea, South', 'Norway','Spain', 'United Kingdom']\n",
    "\n",
    "\n",
    "#Exportar CSV por días progresivos\n",
    "data_drive_lastX = data_time_Xdays.loc[:,list_without_EEUU]\n",
    "data_drive_lastX.to_csv('data_world_timeline.csv', sep = ';', encoding=\"utf-8\")\n",
    "data_drive_lastX.tail()\n"
   ]
  },
  {
   "cell_type": "markdown",
   "metadata": {},
   "source": [
    "## ESPAÑA: Resumen datos España: data_spain_newcases24h.csv"
   ]
  },
  {
   "cell_type": "code",
   "execution_count": 11,
   "metadata": {},
   "outputs": [
    {
     "output_type": "execute_result",
     "data": {
      "text/plain": "         fecha  casos_total  casos_pcr  casos_test_ac     altas  \\\n0   2020-02-21            3          3            NaN       NaN   \n1   2020-02-22            3          3            NaN       NaN   \n2   2020-02-23            3          3            NaN       NaN   \n3   2020-02-24            3          3            NaN       NaN   \n4   2020-02-25            4          4            NaN       NaN   \n..         ...          ...        ...            ...       ...   \n82  2020-05-13       271382     228978        42404.0  140823.0   \n83  2020-05-14       272577     229471        43106.0  143374.0   \n84  2020-05-15       274398     230228        44170.0  144783.0   \n85  2020-05-16       276726     230929        45797.0  146857.0   \n86  2020-05-17       277719     231350        46369.0  149576.0   \n\n    fallecimientos  ingresos_uci  hospitalizados  \n0              NaN           NaN             NaN  \n1              NaN           NaN             NaN  \n2              NaN           NaN             NaN  \n3              NaN           NaN             NaN  \n4              NaN           NaN             NaN  \n..             ...           ...             ...  \n82         27106.0       11435.0        123899.0  \n83         27323.0       11464.0        124225.0  \n84         27461.0       11490.0        124526.0  \n85         27563.0       11500.0        124783.0  \n86         27650.0       11528.0        125110.0  \n\n[87 rows x 8 columns]",
      "text/html": "<div>\n<style scoped>\n    .dataframe tbody tr th:only-of-type {\n        vertical-align: middle;\n    }\n\n    .dataframe tbody tr th {\n        vertical-align: top;\n    }\n\n    .dataframe thead th {\n        text-align: right;\n    }\n</style>\n<table border=\"1\" class=\"dataframe\">\n  <thead>\n    <tr style=\"text-align: right;\">\n      <th></th>\n      <th>fecha</th>\n      <th>casos_total</th>\n      <th>casos_pcr</th>\n      <th>casos_test_ac</th>\n      <th>altas</th>\n      <th>fallecimientos</th>\n      <th>ingresos_uci</th>\n      <th>hospitalizados</th>\n    </tr>\n  </thead>\n  <tbody>\n    <tr>\n      <th>0</th>\n      <td>2020-02-21</td>\n      <td>3</td>\n      <td>3</td>\n      <td>NaN</td>\n      <td>NaN</td>\n      <td>NaN</td>\n      <td>NaN</td>\n      <td>NaN</td>\n    </tr>\n    <tr>\n      <th>1</th>\n      <td>2020-02-22</td>\n      <td>3</td>\n      <td>3</td>\n      <td>NaN</td>\n      <td>NaN</td>\n      <td>NaN</td>\n      <td>NaN</td>\n      <td>NaN</td>\n    </tr>\n    <tr>\n      <th>2</th>\n      <td>2020-02-23</td>\n      <td>3</td>\n      <td>3</td>\n      <td>NaN</td>\n      <td>NaN</td>\n      <td>NaN</td>\n      <td>NaN</td>\n      <td>NaN</td>\n    </tr>\n    <tr>\n      <th>3</th>\n      <td>2020-02-24</td>\n      <td>3</td>\n      <td>3</td>\n      <td>NaN</td>\n      <td>NaN</td>\n      <td>NaN</td>\n      <td>NaN</td>\n      <td>NaN</td>\n    </tr>\n    <tr>\n      <th>4</th>\n      <td>2020-02-25</td>\n      <td>4</td>\n      <td>4</td>\n      <td>NaN</td>\n      <td>NaN</td>\n      <td>NaN</td>\n      <td>NaN</td>\n      <td>NaN</td>\n    </tr>\n    <tr>\n      <th>...</th>\n      <td>...</td>\n      <td>...</td>\n      <td>...</td>\n      <td>...</td>\n      <td>...</td>\n      <td>...</td>\n      <td>...</td>\n      <td>...</td>\n    </tr>\n    <tr>\n      <th>82</th>\n      <td>2020-05-13</td>\n      <td>271382</td>\n      <td>228978</td>\n      <td>42404.0</td>\n      <td>140823.0</td>\n      <td>27106.0</td>\n      <td>11435.0</td>\n      <td>123899.0</td>\n    </tr>\n    <tr>\n      <th>83</th>\n      <td>2020-05-14</td>\n      <td>272577</td>\n      <td>229471</td>\n      <td>43106.0</td>\n      <td>143374.0</td>\n      <td>27323.0</td>\n      <td>11464.0</td>\n      <td>124225.0</td>\n    </tr>\n    <tr>\n      <th>84</th>\n      <td>2020-05-15</td>\n      <td>274398</td>\n      <td>230228</td>\n      <td>44170.0</td>\n      <td>144783.0</td>\n      <td>27461.0</td>\n      <td>11490.0</td>\n      <td>124526.0</td>\n    </tr>\n    <tr>\n      <th>85</th>\n      <td>2020-05-16</td>\n      <td>276726</td>\n      <td>230929</td>\n      <td>45797.0</td>\n      <td>146857.0</td>\n      <td>27563.0</td>\n      <td>11500.0</td>\n      <td>124783.0</td>\n    </tr>\n    <tr>\n      <th>86</th>\n      <td>2020-05-17</td>\n      <td>277719</td>\n      <td>231350</td>\n      <td>46369.0</td>\n      <td>149576.0</td>\n      <td>27650.0</td>\n      <td>11528.0</td>\n      <td>125110.0</td>\n    </tr>\n  </tbody>\n</table>\n<p>87 rows × 8 columns</p>\n</div>"
     },
     "metadata": {},
     "execution_count": 11
    }
   ],
   "source": [
    "data_spain_datadista"
   ]
  },
  {
   "cell_type": "code",
   "execution_count": 12,
   "metadata": {},
   "outputs": [],
   "source": [
    "# Con datos de datadista, SOLO PARA DATOS DE PAÍS\n",
    "data_path_confirmed = 'casos_total'\n",
    "data_path_recovered = 'altas'\n",
    "data_path_deaths = 'fallecimientos'\n",
    "\n",
    "# Evolución últimos 40 días de nuevos casos\n",
    "\n",
    "def day_consecutive(day):\n",
    "    date_cons = date.today()\n",
    "    date_cons = date_cons - timedelta(days=day)\n",
    "    date_cons = date_cons.strftime('%Y-%m-%d')\n",
    "    return date_cons\n",
    "\n",
    "def data_day(data_path, number_to_rest):\n",
    "    data = data_spain_datadista.set_index('fecha')\n",
    "    data = data[data_path]\n",
    "    data = int(data.iloc[number_to_rest]) - int(data.iloc[number_to_rest-1])\n",
    "    return data\n",
    "\n",
    "data_day(data_path_confirmed, -3)\n",
    "\n",
    "def create_dataframe(data_day_name, data_path, index_title):\n",
    "    dataframe = pd.DataFrame({day_consecutive(65): data_day_name(data_path, -65),\n",
    "                              day_consecutive(64): data_day_name(data_path, -64),\n",
    "                              day_consecutive(63): data_day_name(data_path, -63),\n",
    "                              day_consecutive(62): data_day_name(data_path, -62),\n",
    "                              day_consecutive(61): data_day_name(data_path, -61),\n",
    "                              day_consecutive(60): data_day_name(data_path, -60),\n",
    "                              day_consecutive(59): data_day_name(data_path, -59),\n",
    "                              day_consecutive(58): data_day_name(data_path, -58),\n",
    "                              day_consecutive(57): data_day_name(data_path, -57),\n",
    "                              day_consecutive(56): data_day_name(data_path, -56),\n",
    "                              day_consecutive(55): data_day_name(data_path, -55),\n",
    "                              day_consecutive(54): data_day_name(data_path, -54),\n",
    "                              day_consecutive(53): data_day_name(data_path, -53),\n",
    "                              day_consecutive(52): data_day_name(data_path, -52),\n",
    "                              day_consecutive(51): data_day_name(data_path, -51),\n",
    "                              day_consecutive(50): data_day_name(data_path, -50),\n",
    "                              day_consecutive(49): data_day_name(data_path, -49),\n",
    "                              day_consecutive(48): data_day_name(data_path, -48),\n",
    "                              day_consecutive(47): data_day_name(data_path, -47),\n",
    "                              day_consecutive(46): data_day_name(data_path, -46),\n",
    "                              day_consecutive(45): data_day_name(data_path, -45),\n",
    "                              day_consecutive(44): data_day_name(data_path, -44),\n",
    "                              day_consecutive(43): data_day_name(data_path, -43),\n",
    "                              day_consecutive(42): data_day_name(data_path, -42),\n",
    "                              day_consecutive(41): data_day_name(data_path, -41),\n",
    "                              day_consecutive(40): data_day_name(data_path, -40),\n",
    "                              day_consecutive(39): data_day_name(data_path, -39),\n",
    "                              day_consecutive(38): data_day_name(data_path, -38),\n",
    "                              day_consecutive(37): data_day_name(data_path, -37),\n",
    "                              day_consecutive(36): data_day_name(data_path, -36),\n",
    "                              day_consecutive(35): data_day_name(data_path, -35),\n",
    "                              day_consecutive(34): data_day_name(data_path, -34),\n",
    "                              day_consecutive(33): data_day_name(data_path, -33),\n",
    "                              day_consecutive(32): data_day_name(data_path, -32),\n",
    "                              day_consecutive(31): data_day_name(data_path, -31),\n",
    "                              day_consecutive(30): data_day_name(data_path, -30),\n",
    "                              day_consecutive(29): data_day_name(data_path, -29),\n",
    "                              day_consecutive(28): data_day_name(data_path, -28),\n",
    "                              day_consecutive(27): data_day_name(data_path, -27),\n",
    "                              day_consecutive(26): data_day_name(data_path, -26),\n",
    "                              day_consecutive(25): data_day_name(data_path, -25),\n",
    "                              day_consecutive(24): data_day_name(data_path, -24),\n",
    "                              day_consecutive(23): data_day_name(data_path, -23),\n",
    "                              day_consecutive(22): data_day_name(data_path, -22),\n",
    "                              day_consecutive(21): data_day_name(data_path, -21),\n",
    "                              day_consecutive(20): data_day_name(data_path, -20),\n",
    "                              day_consecutive(19): data_day_name(data_path, -19), \n",
    "                              day_consecutive(18): data_day_name(data_path, -18),\n",
    "                              day_consecutive(17): data_day_name(data_path, -17),\n",
    "                              day_consecutive(16): data_day_name(data_path, -16),\n",
    "                              day_consecutive(15): data_day_name(data_path, -15),\n",
    "                              day_consecutive(14): data_day_name(data_path, -14),\n",
    "                              day_consecutive(13): data_day_name(data_path, -13),\n",
    "                              day_consecutive(12): data_day_name(data_path, -12),\n",
    "                              day_consecutive(11): data_day_name(data_path, -11),\n",
    "                              day_consecutive(10): data_day_name(data_path, -10),\n",
    "                              day_consecutive(9): data_day_name(data_path, -9),\n",
    "                              day_consecutive(8): data_day_name(data_path, -8),\n",
    "                              day_consecutive(7): data_day_name(data_path, -7),\n",
    "                              day_consecutive(6): data_day_name(data_path, -6),\n",
    "                              day_consecutive(5): data_day_name(data_path, -5),\n",
    "                              day_consecutive(4): data_day_name(data_path, -4),\n",
    "                              day_consecutive(3): data_day_name(data_path, -3),\n",
    "                              day_consecutive(2): data_day_name(data_path, -2),\n",
    "                              day_consecutive(1): data_day_name(data_path, -1),\n",
    "                             }, index=index_title)\n",
    "                                    \n",
    "    return dataframe\n",
    "\n",
    "data_spain_confirmed24h_datadista = create_dataframe(data_day, data_path_confirmed, ['Confirmados (24h) en España'])\n",
    "data_spain_recovered24h_datadista = create_dataframe(data_day, data_path_recovered, ['Recuperados (24h) en España'])\n",
    "data_spain_deaths24h_datadista = create_dataframe(data_day, data_path_deaths, ['Fallecidos (24h) en España'])\n",
    "data_spain_newcases24h_datadista = pd.concat([data_spain_confirmed24h_datadista,data_spain_recovered24h_datadista,data_spain_deaths24h_datadista], axis=0)\n",
    "\n",
    "\n",
    "# Exportar\n",
    "data_spain_newcases24h_datadista.to_csv('data_spain_newcases24h.csv', sep = ';')\n",
    "data_spain_deaths24h_datadista.to_csv('data_spain_newcases24h_deaths.csv', sep = ';')\n",
    "data_spain_newcases24h_datadista\n",
    "\n",
    "\n",
    "data_spain_deaths24h_datadista_30 = data_spain_deaths24h_datadista.iloc[:, -30:]\n",
    "data_spain_deaths24h_datadista_30.to_csv('data_spain_newcases24h_deaths_30days.csv', sep = ';')\n"
   ]
  },
  {
   "cell_type": "code",
   "execution_count": 13,
   "metadata": {},
   "outputs": [
    {
     "output_type": "execute_result",
     "data": {
      "text/plain": "                              2020-03-13  2020-03-14  2020-03-15  2020-03-16  \\\nFallecidos (24h) en España          18.0       151.0        22.0       182.0   \nFallecidos (24h) en Italia           NaN         NaN         NaN         NaN   \nFallecidos (24h) en Francia          NaN         NaN         NaN         NaN   \nFallecidos (24h) en Alemania         NaN         NaN         NaN         NaN   \n\n                              2020-03-17  2020-03-18  2020-03-19  2020-03-20  \\\nFallecidos (24h) en España          94.0       175.0       228.0       333.0   \nFallecidos (24h) en Italia           NaN         NaN         NaN         NaN   \nFallecidos (24h) en Francia          NaN         NaN         NaN         NaN   \nFallecidos (24h) en Alemania         NaN         NaN         NaN         NaN   \n\n                              2020-03-21  2020-03-22  ...  2020-05-07  \\\nFallecidos (24h) en España         346.0       464.0  ...         228   \nFallecidos (24h) en Italia           NaN         NaN  ...         274   \nFallecidos (24h) en Francia          NaN         NaN  ...         178   \nFallecidos (24h) en Alemania         NaN         NaN  ...         117   \n\n                              2020-05-08  2020-05-09  2020-05-10  2020-05-11  \\\nFallecidos (24h) en España           179         143         123         175   \nFallecidos (24h) en Italia           243         194         165         179   \nFallecidos (24h) en Francia          243          80          70         263   \nFallecidos (24h) en Alemania         118          39          20          92   \n\n                              2020-05-12  2020-05-13  2020-05-14  2020-05-15  \\\nFallecidos (24h) en España           183         217         138         102   \nFallecidos (24h) en Italia           172         195         262         242   \nFallecidos (24h) en Francia          348          83         351         104   \nFallecidos (24h) en Alemania          77         123          23          13   \n\n                              2020-05-16  \nFallecidos (24h) en España            87  \nFallecidos (24h) en Italia           153  \nFallecidos (24h) en Francia            0  \nFallecidos (24h) en Alemania          41  \n\n[4 rows x 65 columns]",
      "text/html": "<div>\n<style scoped>\n    .dataframe tbody tr th:only-of-type {\n        vertical-align: middle;\n    }\n\n    .dataframe tbody tr th {\n        vertical-align: top;\n    }\n\n    .dataframe thead th {\n        text-align: right;\n    }\n</style>\n<table border=\"1\" class=\"dataframe\">\n  <thead>\n    <tr style=\"text-align: right;\">\n      <th></th>\n      <th>2020-03-13</th>\n      <th>2020-03-14</th>\n      <th>2020-03-15</th>\n      <th>2020-03-16</th>\n      <th>2020-03-17</th>\n      <th>2020-03-18</th>\n      <th>2020-03-19</th>\n      <th>2020-03-20</th>\n      <th>2020-03-21</th>\n      <th>2020-03-22</th>\n      <th>...</th>\n      <th>2020-05-07</th>\n      <th>2020-05-08</th>\n      <th>2020-05-09</th>\n      <th>2020-05-10</th>\n      <th>2020-05-11</th>\n      <th>2020-05-12</th>\n      <th>2020-05-13</th>\n      <th>2020-05-14</th>\n      <th>2020-05-15</th>\n      <th>2020-05-16</th>\n    </tr>\n  </thead>\n  <tbody>\n    <tr>\n      <th>Fallecidos (24h) en España</th>\n      <td>18.0</td>\n      <td>151.0</td>\n      <td>22.0</td>\n      <td>182.0</td>\n      <td>94.0</td>\n      <td>175.0</td>\n      <td>228.0</td>\n      <td>333.0</td>\n      <td>346.0</td>\n      <td>464.0</td>\n      <td>...</td>\n      <td>228</td>\n      <td>179</td>\n      <td>143</td>\n      <td>123</td>\n      <td>175</td>\n      <td>183</td>\n      <td>217</td>\n      <td>138</td>\n      <td>102</td>\n      <td>87</td>\n    </tr>\n    <tr>\n      <th>Fallecidos (24h) en Italia</th>\n      <td>NaN</td>\n      <td>NaN</td>\n      <td>NaN</td>\n      <td>NaN</td>\n      <td>NaN</td>\n      <td>NaN</td>\n      <td>NaN</td>\n      <td>NaN</td>\n      <td>NaN</td>\n      <td>NaN</td>\n      <td>...</td>\n      <td>274</td>\n      <td>243</td>\n      <td>194</td>\n      <td>165</td>\n      <td>179</td>\n      <td>172</td>\n      <td>195</td>\n      <td>262</td>\n      <td>242</td>\n      <td>153</td>\n    </tr>\n    <tr>\n      <th>Fallecidos (24h) en Francia</th>\n      <td>NaN</td>\n      <td>NaN</td>\n      <td>NaN</td>\n      <td>NaN</td>\n      <td>NaN</td>\n      <td>NaN</td>\n      <td>NaN</td>\n      <td>NaN</td>\n      <td>NaN</td>\n      <td>NaN</td>\n      <td>...</td>\n      <td>178</td>\n      <td>243</td>\n      <td>80</td>\n      <td>70</td>\n      <td>263</td>\n      <td>348</td>\n      <td>83</td>\n      <td>351</td>\n      <td>104</td>\n      <td>0</td>\n    </tr>\n    <tr>\n      <th>Fallecidos (24h) en Alemania</th>\n      <td>NaN</td>\n      <td>NaN</td>\n      <td>NaN</td>\n      <td>NaN</td>\n      <td>NaN</td>\n      <td>NaN</td>\n      <td>NaN</td>\n      <td>NaN</td>\n      <td>NaN</td>\n      <td>NaN</td>\n      <td>...</td>\n      <td>117</td>\n      <td>118</td>\n      <td>39</td>\n      <td>20</td>\n      <td>92</td>\n      <td>77</td>\n      <td>123</td>\n      <td>23</td>\n      <td>13</td>\n      <td>41</td>\n    </tr>\n  </tbody>\n</table>\n<p>4 rows × 65 columns</p>\n</div>"
     },
     "metadata": {},
     "execution_count": 13
    }
   ],
   "source": [
    "#Con datos de John Hopkins, SOLO PARA COMPARAR CON INTERNACIONALES\n",
    "\n",
    "path_c = \"COVID-19/csse_covid_19_data/csse_covid_19_time_series/time_series_covid19_confirmed_global.csv\"\n",
    "path_d = \"COVID-19/csse_covid_19_data/csse_covid_19_time_series/time_series_covid19_deaths_global.csv\"\n",
    "path_r = \"COVID-19/csse_covid_19_data/csse_covid_19_time_series/time_series_covid19_recovered_global.csv\"\n",
    "\n",
    "# Evolución últimos 40 días de nuevos casos\n",
    "def day_consecutive(day):\n",
    "    date_cons = date.today()\n",
    "    date_cons = date_cons - timedelta(days=day)\n",
    "    date_cons = date_cons.strftime('%Y-%m-%d')\n",
    "    return date_cons\n",
    "\n",
    "def data_day(data_path, number_to_rest):\n",
    "    data = pd.read_csv(data_path)\n",
    "    data = data.groupby(\"Country/Region\", as_index=False).sum()\n",
    "    data = data.set_index(\"Country/Region\").transpose()\n",
    "    data = data['Spain']\n",
    "    data = int(data.iloc[number_to_rest]) - int(data.iloc[number_to_rest-1])\n",
    "    return data\n",
    "\n",
    "def data_day_italy(data_path, number_to_rest):\n",
    "    data = pd.read_csv(data_path)\n",
    "    data = data.groupby(\"Country/Region\", as_index=False).sum()\n",
    "    data = data.set_index(\"Country/Region\").transpose()\n",
    "    data = data['Italy']\n",
    "    data = int(data.iloc[number_to_rest]) - int(data.iloc[number_to_rest-1])\n",
    "    return data\n",
    "\n",
    "def data_day_france(data_path, number_to_rest):\n",
    "    data = pd.read_csv(data_path)\n",
    "    data = data.groupby(\"Country/Region\", as_index=False).sum()\n",
    "    data = data.set_index(\"Country/Region\").transpose()\n",
    "    data = data['France']\n",
    "    data = int(data.iloc[number_to_rest]) - int(data.iloc[number_to_rest-1])\n",
    "    return data\n",
    "\n",
    "def data_day_germany(data_path, number_to_rest):\n",
    "    data = pd.read_csv(data_path)\n",
    "    data = data.groupby(\"Country/Region\", as_index=False).sum()\n",
    "    data = data.set_index(\"Country/Region\").transpose()\n",
    "    data = data['Germany']\n",
    "    data = int(data.iloc[number_to_rest]) - int(data.iloc[number_to_rest-1])\n",
    "    return data\n",
    "\n",
    "def create_dataframe(data_day_name, data_path, index_title):\n",
    "    dataframe = pd.DataFrame({day_consecutive(40): data_day_name(data_path, -40),\n",
    "                              day_consecutive(39): data_day_name(data_path, -39),\n",
    "                              day_consecutive(38): data_day_name(data_path, -38),\n",
    "                              day_consecutive(37): data_day_name(data_path, -37),\n",
    "                              day_consecutive(36): data_day_name(data_path, -36),\n",
    "                              day_consecutive(35): data_day_name(data_path, -35),\n",
    "                              day_consecutive(34): data_day_name(data_path, -34),\n",
    "                              day_consecutive(33): data_day_name(data_path, -33),\n",
    "                              day_consecutive(32): data_day_name(data_path, -32),\n",
    "                              day_consecutive(31): data_day_name(data_path, -31),\n",
    "                              day_consecutive(30): data_day_name(data_path, -30),\n",
    "                              day_consecutive(29): data_day_name(data_path, -29),\n",
    "                              day_consecutive(28): data_day_name(data_path, -28),\n",
    "                              day_consecutive(27): data_day_name(data_path, -27),\n",
    "                              day_consecutive(26): data_day_name(data_path, -26),\n",
    "                              day_consecutive(25): data_day_name(data_path, -25),\n",
    "                              day_consecutive(24): data_day_name(data_path, -24),\n",
    "                              day_consecutive(23): data_day_name(data_path, -23),\n",
    "                              day_consecutive(22): data_day_name(data_path, -22),\n",
    "                              day_consecutive(21): data_day_name(data_path, -21),\n",
    "                              day_consecutive(20): data_day_name(data_path, -20),\n",
    "                              day_consecutive(19): data_day_name(data_path, -19), \n",
    "                              day_consecutive(18): data_day_name(data_path, -18),\n",
    "                              day_consecutive(17): data_day_name(data_path, -17),\n",
    "                              day_consecutive(16): data_day_name(data_path, -16),\n",
    "                              day_consecutive(15): data_day_name(data_path, -15),\n",
    "                              day_consecutive(14): data_day_name(data_path, -14),\n",
    "                              day_consecutive(13): data_day_name(data_path, -13),\n",
    "                              day_consecutive(12): data_day_name(data_path, -12),\n",
    "                              day_consecutive(11): data_day_name(data_path, -11),\n",
    "                              day_consecutive(10): data_day_name(data_path, -10),\n",
    "                              day_consecutive(9): data_day_name(data_path, -9),\n",
    "                              day_consecutive(8): data_day_name(data_path, -8),\n",
    "                              day_consecutive(7): data_day_name(data_path, -7),\n",
    "                              day_consecutive(6): data_day_name(data_path, -6),\n",
    "                              day_consecutive(5): data_day_name(data_path, -5),\n",
    "                              day_consecutive(4): data_day_name(data_path, -4),\n",
    "                              day_consecutive(3): data_day_name(data_path, -3),\n",
    "                              day_consecutive(2): data_day_name(data_path, -2),\n",
    "                              day_consecutive(1): data_day_name(data_path, -1),\n",
    "                             }, index=index_title)\n",
    "                                    \n",
    "    return dataframe\n",
    "\n",
    "'''Si se cogen los datos de España de John Hopkins\n",
    "# data_spain_confirmed24h = create_dataframe(data_day, path_c, ['Confirmados (24h) en España'])\n",
    "# data_spain_deaths24h = create_dataframe(data_day, path_d, ['Fallecidos (24h) en España'])\n",
    "# data_spain_recovered24h = create_dataframe(data_day, path_r, ['Recuperados (24h) en España'])\n",
    "#### Juntar dataframes\n",
    "# data_spain_newcases24h = pd.concat([data_spain_confirmed24h,data_spain_recovered24h,data_spain_deaths24h], axis=0)\n",
    "# data_spain_newcases24h.to_csv('data_spain_newcases24h.csv', sep = ';')\n",
    "# data_spain_deaths24h.to_csv('data_spain_newcases24h_deaths.csv', sep = ';')\n",
    "'''\n",
    "\n",
    "######## Lo mismo en italia\n",
    "data_italy_confirmed24h = create_dataframe(data_day_italy, path_c, ['Confirmados (24h) en Italia'])\n",
    "data_italy_deaths24h = create_dataframe(data_day_italy, path_d, ['Fallecidos (24h) en Italia'])\n",
    "data_italy_recovered24h = create_dataframe(data_day_italy, path_r, ['Recuperados (24h) en Italia'])\n",
    "data_italy_newcases24h = pd.concat([data_italy_confirmed24h,data_italy_recovered24h,data_italy_deaths24h], axis=0)\n",
    "\n",
    "######## Lo mismo en Francia\n",
    "data_france_confirmed24h = create_dataframe(data_day_france, path_c, ['Confirmados (24h) en Francia'])\n",
    "data_france_deaths24h = create_dataframe(data_day_france, path_d, ['Fallecidos (24h) en Francia'])\n",
    "data_france_recovered24h = create_dataframe(data_day_france, path_r, ['Recuperados (24h) en Francia'])\n",
    "data_france_newcases24h = pd.concat([data_france_confirmed24h,data_france_recovered24h,data_france_deaths24h], axis=0)\n",
    "\n",
    "######## Lo mismo en Alemania\n",
    "data_germany_confirmed24h = create_dataframe(data_day_germany, path_c, ['Confirmados (24h) en Alemania'])\n",
    "data_germany_deaths24h = create_dataframe(data_day_germany, path_d, ['Fallecidos (24h) en Alemania'])\n",
    "data_germany_recovered24h = create_dataframe(data_day_germany, path_r, ['Recuperados (24h) en Alemania'])\n",
    "data_germany_newcases24h = pd.concat([data_germany_confirmed24h,data_germany_recovered24h,data_germany_deaths24h], axis=0)\n",
    "\n",
    "\n",
    "###### Juntar dataframes Spain + Italy sólo de fallecidos, OJO LOS DATOS DE SPAIN SE COGEN DEL CÁLCULO ANTERIOR DE DATADISTA\n",
    "data_somecountries_newcases24h_deaths = pd.concat([data_spain_deaths24h_datadista, data_italy_deaths24h,\n",
    "                                                   data_france_deaths24h, data_germany_deaths24h], axis=0)\n",
    "data_somecountries_newcases24h_deaths.to_csv('data_somecountries_newcases24h.csv', sep = ';')\n",
    "data_somecountries_newcases24h_deaths\n"
   ]
  },
  {
   "cell_type": "markdown",
   "metadata": {},
   "source": [
    "## ESPAÑA: Evolución temporal casos confirmados"
   ]
  },
  {
   "cell_type": "code",
   "execution_count": 14,
   "metadata": {},
   "outputs": [
    {
     "output_type": "execute_result",
     "data": {
      "text/plain": "                       2020-02-21  2020-02-22  2020-02-23  2020-02-24  \\\nComunidades Autónomas                                                   \nAndalucía                       0           0           0           0   \nAragón                          0           0           0           0   \nAsturias                        0           0           0           0   \nBaleares                        1           1           1           1   \nCanarias                        1           1           1           1   \nCantabria                       0           0           0           0   \nCastilla La Mancha              0           0           0           0   \nCastilla y León                 0           0           0           0   \nCataluña                        0           0           0           0   \nCeuta                           0           0           0           0   \nC. Valenciana                   0           0           0           0   \nExtremadura                     0           0           0           0   \nGalicia                         0           0           0           0   \nMadrid                          1           1           1           1   \nMelilla                         0           0           0           0   \nMurcia                          0           0           0           0   \nNavarra                         0           0           0           0   \nPaís Vasco                      0           0           0           0   \nLa Rioja                        0           0           0           0   \n\n                       2020-02-25  2020-02-26  2020-02-27  2020-02-28  \\\nComunidades Autónomas                                                   \nAndalucía                       0           0           1           6   \nAragón                          0           0           0           0   \nAsturias                        0           0           0           0   \nBaleares                        1           1           1           1   \nCanarias                        2           5           6           6   \nCantabria                       0           0           0           0   \nCastilla La Mancha              0           0           0           0   \nCastilla y León                 0           0           0           2   \nCataluña                        0           1           2           3   \nCeuta                           0           0           0           0   \nC. Valenciana                   0           1           2           8   \nExtremadura                     0           0           0           0   \nGalicia                         0           0           0           0   \nMadrid                          1           2           6          10   \nMelilla                         0           0           0           0   \nMurcia                          0           0           0           0   \nNavarra                         0           0           0           0   \nPaís Vasco                      0           0           0           0   \nLa Rioja                        0           0           0           0   \n\n                       2020-02-29  2020-03-01  ...  2020-05-08  2020-05-09  \\\nComunidades Autónomas                          ...                           \nAndalucía                       8          12  ...       15002       15180   \nAragón                          0           0  ...        6575        6656   \nAsturias                        0           1  ...        3157        3183   \nBaleares                        2           2  ...        2027        2040   \nCanarias                        6           7  ...        2240        2250   \nCantabria                       0           1  ...        2665        2681   \nCastilla La Mancha              0           1  ...       22908       23293   \nCastilla y León                 2           3  ...       22926       23452   \nCataluña                        5           6  ...       53209       53578   \nCeuta                           0           0  ...         168         169   \nC. Valenciana                  10          15  ...       13507       13676   \nExtremadura                     0           4  ...        3853        3886   \nGalicia                         0           0  ...       10221       10322   \nMadrid                         20          27  ...       69855       70132   \nMelilla                         0           0  ...         132         132   \nMurcia                          0           0  ...        2252        2263   \nNavarra                         0           1  ...        7227        7442   \nPaís Vasco                      2           3  ...       17286       17553   \nLa Rioja                        0           0  ...        5355        5365   \n\n                       2020-05-10  2020-05-11  2020-05-12  2020-05-13  \\\nComunidades Autónomas                                                   \nAndalucía                   15355       15422       15522       15629   \nAragón                       6702        6731        6797        6856   \nAsturias                     3197        3212        3226        3252   \nBaleares                     2053        2056        2056        2061   \nCanarias                     2258        2260        2268        2271   \nCantabria                    2684        2685        2691        2733   \nCastilla La Mancha          23662       23869       24051       24185   \nCastilla y León             23821       23991       24170       24262   \nCataluña                    53805       56450       56787       56930   \nCeuta                         169         169         173         173   \nC. Valenciana               13840       13881       13937       14045   \nExtremadura                  3903        3919        3920        3920   \nGalicia                     10370       10388       10449       10495   \nMadrid                      70238       70292       70482       70796   \nMelilla                       132         132         132         132   \nMurcia                       2329        2332        2333        2398   \nNavarra                      7455        7486        7637        7752   \nPaís Vasco                  17677       17709       17840       18095   \nLa Rioja                     5378        5382        5392        5397   \n\n                       2020-05-14  2020-05-15  2020-05-16  2020-05-17  \nComunidades Autónomas                                                  \nAndalucía                   15823       16068       16263       16432  \nAragón                       6943        7015        7125        7177  \nAsturias                     3266        3295        3327        3344  \nBaleares                     2062        2071        2087        2096  \nCanarias                     2275        2280        2284        2289  \nCantabria                    2739        2761        2770        2773  \nCastilla La Mancha          24331       24527       24776       24908  \nCastilla y León             24379       24498       24595       24696  \nCataluña                    56956       57205       57351       57467  \nCeuta                         175         175         175         175  \nC. Valenciana               14154       14392       14536       14680  \nExtremadura                  3924        3934        3945        3948  \nGalicia                     10545       10605       10934       10960  \nMadrid                      71040       71334       71625       71631  \nMelilla                       132         132         132         134  \nMurcia                       2437        2477        2546        2566  \nNavarra                      7891        8082        8235        8293  \nPaís Vasco                  18100       18138       18607       18733  \nLa Rioja                     5405        5409        5413        5417  \n\n[19 rows x 87 columns]",
      "text/html": "<div>\n<style scoped>\n    .dataframe tbody tr th:only-of-type {\n        vertical-align: middle;\n    }\n\n    .dataframe tbody tr th {\n        vertical-align: top;\n    }\n\n    .dataframe thead th {\n        text-align: right;\n    }\n</style>\n<table border=\"1\" class=\"dataframe\">\n  <thead>\n    <tr style=\"text-align: right;\">\n      <th></th>\n      <th>2020-02-21</th>\n      <th>2020-02-22</th>\n      <th>2020-02-23</th>\n      <th>2020-02-24</th>\n      <th>2020-02-25</th>\n      <th>2020-02-26</th>\n      <th>2020-02-27</th>\n      <th>2020-02-28</th>\n      <th>2020-02-29</th>\n      <th>2020-03-01</th>\n      <th>...</th>\n      <th>2020-05-08</th>\n      <th>2020-05-09</th>\n      <th>2020-05-10</th>\n      <th>2020-05-11</th>\n      <th>2020-05-12</th>\n      <th>2020-05-13</th>\n      <th>2020-05-14</th>\n      <th>2020-05-15</th>\n      <th>2020-05-16</th>\n      <th>2020-05-17</th>\n    </tr>\n    <tr>\n      <th>Comunidades Autónomas</th>\n      <th></th>\n      <th></th>\n      <th></th>\n      <th></th>\n      <th></th>\n      <th></th>\n      <th></th>\n      <th></th>\n      <th></th>\n      <th></th>\n      <th></th>\n      <th></th>\n      <th></th>\n      <th></th>\n      <th></th>\n      <th></th>\n      <th></th>\n      <th></th>\n      <th></th>\n      <th></th>\n      <th></th>\n    </tr>\n  </thead>\n  <tbody>\n    <tr>\n      <th>Andalucía</th>\n      <td>0</td>\n      <td>0</td>\n      <td>0</td>\n      <td>0</td>\n      <td>0</td>\n      <td>0</td>\n      <td>1</td>\n      <td>6</td>\n      <td>8</td>\n      <td>12</td>\n      <td>...</td>\n      <td>15002</td>\n      <td>15180</td>\n      <td>15355</td>\n      <td>15422</td>\n      <td>15522</td>\n      <td>15629</td>\n      <td>15823</td>\n      <td>16068</td>\n      <td>16263</td>\n      <td>16432</td>\n    </tr>\n    <tr>\n      <th>Aragón</th>\n      <td>0</td>\n      <td>0</td>\n      <td>0</td>\n      <td>0</td>\n      <td>0</td>\n      <td>0</td>\n      <td>0</td>\n      <td>0</td>\n      <td>0</td>\n      <td>0</td>\n      <td>...</td>\n      <td>6575</td>\n      <td>6656</td>\n      <td>6702</td>\n      <td>6731</td>\n      <td>6797</td>\n      <td>6856</td>\n      <td>6943</td>\n      <td>7015</td>\n      <td>7125</td>\n      <td>7177</td>\n    </tr>\n    <tr>\n      <th>Asturias</th>\n      <td>0</td>\n      <td>0</td>\n      <td>0</td>\n      <td>0</td>\n      <td>0</td>\n      <td>0</td>\n      <td>0</td>\n      <td>0</td>\n      <td>0</td>\n      <td>1</td>\n      <td>...</td>\n      <td>3157</td>\n      <td>3183</td>\n      <td>3197</td>\n      <td>3212</td>\n      <td>3226</td>\n      <td>3252</td>\n      <td>3266</td>\n      <td>3295</td>\n      <td>3327</td>\n      <td>3344</td>\n    </tr>\n    <tr>\n      <th>Baleares</th>\n      <td>1</td>\n      <td>1</td>\n      <td>1</td>\n      <td>1</td>\n      <td>1</td>\n      <td>1</td>\n      <td>1</td>\n      <td>1</td>\n      <td>2</td>\n      <td>2</td>\n      <td>...</td>\n      <td>2027</td>\n      <td>2040</td>\n      <td>2053</td>\n      <td>2056</td>\n      <td>2056</td>\n      <td>2061</td>\n      <td>2062</td>\n      <td>2071</td>\n      <td>2087</td>\n      <td>2096</td>\n    </tr>\n    <tr>\n      <th>Canarias</th>\n      <td>1</td>\n      <td>1</td>\n      <td>1</td>\n      <td>1</td>\n      <td>2</td>\n      <td>5</td>\n      <td>6</td>\n      <td>6</td>\n      <td>6</td>\n      <td>7</td>\n      <td>...</td>\n      <td>2240</td>\n      <td>2250</td>\n      <td>2258</td>\n      <td>2260</td>\n      <td>2268</td>\n      <td>2271</td>\n      <td>2275</td>\n      <td>2280</td>\n      <td>2284</td>\n      <td>2289</td>\n    </tr>\n    <tr>\n      <th>Cantabria</th>\n      <td>0</td>\n      <td>0</td>\n      <td>0</td>\n      <td>0</td>\n      <td>0</td>\n      <td>0</td>\n      <td>0</td>\n      <td>0</td>\n      <td>0</td>\n      <td>1</td>\n      <td>...</td>\n      <td>2665</td>\n      <td>2681</td>\n      <td>2684</td>\n      <td>2685</td>\n      <td>2691</td>\n      <td>2733</td>\n      <td>2739</td>\n      <td>2761</td>\n      <td>2770</td>\n      <td>2773</td>\n    </tr>\n    <tr>\n      <th>Castilla La Mancha</th>\n      <td>0</td>\n      <td>0</td>\n      <td>0</td>\n      <td>0</td>\n      <td>0</td>\n      <td>0</td>\n      <td>0</td>\n      <td>0</td>\n      <td>0</td>\n      <td>1</td>\n      <td>...</td>\n      <td>22908</td>\n      <td>23293</td>\n      <td>23662</td>\n      <td>23869</td>\n      <td>24051</td>\n      <td>24185</td>\n      <td>24331</td>\n      <td>24527</td>\n      <td>24776</td>\n      <td>24908</td>\n    </tr>\n    <tr>\n      <th>Castilla y León</th>\n      <td>0</td>\n      <td>0</td>\n      <td>0</td>\n      <td>0</td>\n      <td>0</td>\n      <td>0</td>\n      <td>0</td>\n      <td>2</td>\n      <td>2</td>\n      <td>3</td>\n      <td>...</td>\n      <td>22926</td>\n      <td>23452</td>\n      <td>23821</td>\n      <td>23991</td>\n      <td>24170</td>\n      <td>24262</td>\n      <td>24379</td>\n      <td>24498</td>\n      <td>24595</td>\n      <td>24696</td>\n    </tr>\n    <tr>\n      <th>Cataluña</th>\n      <td>0</td>\n      <td>0</td>\n      <td>0</td>\n      <td>0</td>\n      <td>0</td>\n      <td>1</td>\n      <td>2</td>\n      <td>3</td>\n      <td>5</td>\n      <td>6</td>\n      <td>...</td>\n      <td>53209</td>\n      <td>53578</td>\n      <td>53805</td>\n      <td>56450</td>\n      <td>56787</td>\n      <td>56930</td>\n      <td>56956</td>\n      <td>57205</td>\n      <td>57351</td>\n      <td>57467</td>\n    </tr>\n    <tr>\n      <th>Ceuta</th>\n      <td>0</td>\n      <td>0</td>\n      <td>0</td>\n      <td>0</td>\n      <td>0</td>\n      <td>0</td>\n      <td>0</td>\n      <td>0</td>\n      <td>0</td>\n      <td>0</td>\n      <td>...</td>\n      <td>168</td>\n      <td>169</td>\n      <td>169</td>\n      <td>169</td>\n      <td>173</td>\n      <td>173</td>\n      <td>175</td>\n      <td>175</td>\n      <td>175</td>\n      <td>175</td>\n    </tr>\n    <tr>\n      <th>C. Valenciana</th>\n      <td>0</td>\n      <td>0</td>\n      <td>0</td>\n      <td>0</td>\n      <td>0</td>\n      <td>1</td>\n      <td>2</td>\n      <td>8</td>\n      <td>10</td>\n      <td>15</td>\n      <td>...</td>\n      <td>13507</td>\n      <td>13676</td>\n      <td>13840</td>\n      <td>13881</td>\n      <td>13937</td>\n      <td>14045</td>\n      <td>14154</td>\n      <td>14392</td>\n      <td>14536</td>\n      <td>14680</td>\n    </tr>\n    <tr>\n      <th>Extremadura</th>\n      <td>0</td>\n      <td>0</td>\n      <td>0</td>\n      <td>0</td>\n      <td>0</td>\n      <td>0</td>\n      <td>0</td>\n      <td>0</td>\n      <td>0</td>\n      <td>4</td>\n      <td>...</td>\n      <td>3853</td>\n      <td>3886</td>\n      <td>3903</td>\n      <td>3919</td>\n      <td>3920</td>\n      <td>3920</td>\n      <td>3924</td>\n      <td>3934</td>\n      <td>3945</td>\n      <td>3948</td>\n    </tr>\n    <tr>\n      <th>Galicia</th>\n      <td>0</td>\n      <td>0</td>\n      <td>0</td>\n      <td>0</td>\n      <td>0</td>\n      <td>0</td>\n      <td>0</td>\n      <td>0</td>\n      <td>0</td>\n      <td>0</td>\n      <td>...</td>\n      <td>10221</td>\n      <td>10322</td>\n      <td>10370</td>\n      <td>10388</td>\n      <td>10449</td>\n      <td>10495</td>\n      <td>10545</td>\n      <td>10605</td>\n      <td>10934</td>\n      <td>10960</td>\n    </tr>\n    <tr>\n      <th>Madrid</th>\n      <td>1</td>\n      <td>1</td>\n      <td>1</td>\n      <td>1</td>\n      <td>1</td>\n      <td>2</td>\n      <td>6</td>\n      <td>10</td>\n      <td>20</td>\n      <td>27</td>\n      <td>...</td>\n      <td>69855</td>\n      <td>70132</td>\n      <td>70238</td>\n      <td>70292</td>\n      <td>70482</td>\n      <td>70796</td>\n      <td>71040</td>\n      <td>71334</td>\n      <td>71625</td>\n      <td>71631</td>\n    </tr>\n    <tr>\n      <th>Melilla</th>\n      <td>0</td>\n      <td>0</td>\n      <td>0</td>\n      <td>0</td>\n      <td>0</td>\n      <td>0</td>\n      <td>0</td>\n      <td>0</td>\n      <td>0</td>\n      <td>0</td>\n      <td>...</td>\n      <td>132</td>\n      <td>132</td>\n      <td>132</td>\n      <td>132</td>\n      <td>132</td>\n      <td>132</td>\n      <td>132</td>\n      <td>132</td>\n      <td>132</td>\n      <td>134</td>\n    </tr>\n    <tr>\n      <th>Murcia</th>\n      <td>0</td>\n      <td>0</td>\n      <td>0</td>\n      <td>0</td>\n      <td>0</td>\n      <td>0</td>\n      <td>0</td>\n      <td>0</td>\n      <td>0</td>\n      <td>0</td>\n      <td>...</td>\n      <td>2252</td>\n      <td>2263</td>\n      <td>2329</td>\n      <td>2332</td>\n      <td>2333</td>\n      <td>2398</td>\n      <td>2437</td>\n      <td>2477</td>\n      <td>2546</td>\n      <td>2566</td>\n    </tr>\n    <tr>\n      <th>Navarra</th>\n      <td>0</td>\n      <td>0</td>\n      <td>0</td>\n      <td>0</td>\n      <td>0</td>\n      <td>0</td>\n      <td>0</td>\n      <td>0</td>\n      <td>0</td>\n      <td>1</td>\n      <td>...</td>\n      <td>7227</td>\n      <td>7442</td>\n      <td>7455</td>\n      <td>7486</td>\n      <td>7637</td>\n      <td>7752</td>\n      <td>7891</td>\n      <td>8082</td>\n      <td>8235</td>\n      <td>8293</td>\n    </tr>\n    <tr>\n      <th>País Vasco</th>\n      <td>0</td>\n      <td>0</td>\n      <td>0</td>\n      <td>0</td>\n      <td>0</td>\n      <td>0</td>\n      <td>0</td>\n      <td>0</td>\n      <td>2</td>\n      <td>3</td>\n      <td>...</td>\n      <td>17286</td>\n      <td>17553</td>\n      <td>17677</td>\n      <td>17709</td>\n      <td>17840</td>\n      <td>18095</td>\n      <td>18100</td>\n      <td>18138</td>\n      <td>18607</td>\n      <td>18733</td>\n    </tr>\n    <tr>\n      <th>La Rioja</th>\n      <td>0</td>\n      <td>0</td>\n      <td>0</td>\n      <td>0</td>\n      <td>0</td>\n      <td>0</td>\n      <td>0</td>\n      <td>0</td>\n      <td>0</td>\n      <td>0</td>\n      <td>...</td>\n      <td>5355</td>\n      <td>5365</td>\n      <td>5378</td>\n      <td>5382</td>\n      <td>5392</td>\n      <td>5397</td>\n      <td>5405</td>\n      <td>5409</td>\n      <td>5413</td>\n      <td>5417</td>\n    </tr>\n  </tbody>\n</table>\n<p>19 rows × 87 columns</p>\n</div>"
     },
     "metadata": {},
     "execution_count": 14
    }
   ],
   "source": [
    "# Preparar Evolucion temporal confirmed\n",
    "data_ccaa_confirmed_timeseries_final = data_ccaa_confirmed_timeseries.drop(columns=['cod_ine'])\n",
    "data_ccaa_confirmed_timeseries_final.rename(columns = {'CCAA': 'Comunidades Autónomas'}, inplace = True)\n",
    "data_ccaa_confirmed_timeseries_final = data_ccaa_confirmed_timeseries_final.set_index('Comunidades Autónomas')\n",
    "data_ccaa_confirmed_timeseries_final = data_ccaa_confirmed_timeseries_final.iloc[0:19]\n",
    "\n",
    "# Exportar Evolucion temporal confirmed\n",
    "data_ccaa_confirmed_timeseries_final.to_csv('data_ccaa_evolution_confirmed.csv', sep = ';', encoding=\"utf-8\", index=True, index_label='Comunidades Autónomas')\n",
    "data_ccaa_confirmed_timeseries_final"
   ]
  },
  {
   "cell_type": "markdown",
   "metadata": {},
   "source": [
    "## ESPAÑA: Resúmenes por comunidades autónomas"
   ]
  },
  {
   "cell_type": "code",
   "execution_count": 15,
   "metadata": {},
   "outputs": [
    {
     "output_type": "execute_result",
     "data": {
      "text/plain": "                       Confirmados (24h)  Curados (24h)  Fallecidos (24h)\nComunidades Autónomas                                                    \nAndalucía                            169            292                 3\nAragón                                52             72                 0\nAsturias                              17              6                 2\nBaleares                               9              4                 2\nCanarias                               5              0                 0\nCantabria                              3             75                 1\nCastilla La Mancha                   132             50                10\nCastilla y León                      101            981                 6\nCataluña                             116            105                29\nCeuta                                  0              0                 0\nC. Valenciana                        144            146                 1\nExtremadura                            3             27                 3\nGalicia                               26            335                 2\nMadrid                                 6            112                21\nMelilla                                2              2                 0\nMurcia                                20             11                 0\nNavarra                               58             93                 2\nPaís Vasco                           126            350                 4\nLa Rioja                               4             58                 1",
      "text/html": "<div>\n<style scoped>\n    .dataframe tbody tr th:only-of-type {\n        vertical-align: middle;\n    }\n\n    .dataframe tbody tr th {\n        vertical-align: top;\n    }\n\n    .dataframe thead th {\n        text-align: right;\n    }\n</style>\n<table border=\"1\" class=\"dataframe\">\n  <thead>\n    <tr style=\"text-align: right;\">\n      <th></th>\n      <th>Confirmados (24h)</th>\n      <th>Curados (24h)</th>\n      <th>Fallecidos (24h)</th>\n    </tr>\n    <tr>\n      <th>Comunidades Autónomas</th>\n      <th></th>\n      <th></th>\n      <th></th>\n    </tr>\n  </thead>\n  <tbody>\n    <tr>\n      <th>Andalucía</th>\n      <td>169</td>\n      <td>292</td>\n      <td>3</td>\n    </tr>\n    <tr>\n      <th>Aragón</th>\n      <td>52</td>\n      <td>72</td>\n      <td>0</td>\n    </tr>\n    <tr>\n      <th>Asturias</th>\n      <td>17</td>\n      <td>6</td>\n      <td>2</td>\n    </tr>\n    <tr>\n      <th>Baleares</th>\n      <td>9</td>\n      <td>4</td>\n      <td>2</td>\n    </tr>\n    <tr>\n      <th>Canarias</th>\n      <td>5</td>\n      <td>0</td>\n      <td>0</td>\n    </tr>\n    <tr>\n      <th>Cantabria</th>\n      <td>3</td>\n      <td>75</td>\n      <td>1</td>\n    </tr>\n    <tr>\n      <th>Castilla La Mancha</th>\n      <td>132</td>\n      <td>50</td>\n      <td>10</td>\n    </tr>\n    <tr>\n      <th>Castilla y León</th>\n      <td>101</td>\n      <td>981</td>\n      <td>6</td>\n    </tr>\n    <tr>\n      <th>Cataluña</th>\n      <td>116</td>\n      <td>105</td>\n      <td>29</td>\n    </tr>\n    <tr>\n      <th>Ceuta</th>\n      <td>0</td>\n      <td>0</td>\n      <td>0</td>\n    </tr>\n    <tr>\n      <th>C. Valenciana</th>\n      <td>144</td>\n      <td>146</td>\n      <td>1</td>\n    </tr>\n    <tr>\n      <th>Extremadura</th>\n      <td>3</td>\n      <td>27</td>\n      <td>3</td>\n    </tr>\n    <tr>\n      <th>Galicia</th>\n      <td>26</td>\n      <td>335</td>\n      <td>2</td>\n    </tr>\n    <tr>\n      <th>Madrid</th>\n      <td>6</td>\n      <td>112</td>\n      <td>21</td>\n    </tr>\n    <tr>\n      <th>Melilla</th>\n      <td>2</td>\n      <td>2</td>\n      <td>0</td>\n    </tr>\n    <tr>\n      <th>Murcia</th>\n      <td>20</td>\n      <td>11</td>\n      <td>0</td>\n    </tr>\n    <tr>\n      <th>Navarra</th>\n      <td>58</td>\n      <td>93</td>\n      <td>2</td>\n    </tr>\n    <tr>\n      <th>País Vasco</th>\n      <td>126</td>\n      <td>350</td>\n      <td>4</td>\n    </tr>\n    <tr>\n      <th>La Rioja</th>\n      <td>4</td>\n      <td>58</td>\n      <td>1</td>\n    </tr>\n  </tbody>\n</table>\n</div>"
     },
     "metadata": {},
     "execution_count": 15
    }
   ],
   "source": [
    "# SOLO HACER CUANDO LOS DATOS EN DATADISTA ESTÉN ACTUALIZADOS, SI NO, NO FUNCIONA\n",
    "\n",
    "# Confirmados por CCAA\n",
    "data_ccaa_confirmed_today = data_ccaa_confirmed_timeseries[['CCAA', date_today_large]]\n",
    "data_ccaa_confirmed_today.rename(columns = {date_today_large : 'Confirmados', 'CCAA' : 'Comunidades Autónomas'}, inplace = True)\n",
    "data_ccaa_confirmed_today = data_ccaa_confirmed_today.set_index('Comunidades Autónomas')\n",
    "data_ccaa_confirmed_today = data_ccaa_confirmed_today.copy().iloc[0:19]\n",
    "\n",
    "# New cases\n",
    "data_ccaa_confirmed_daybefore = data_ccaa_confirmed_timeseries[['CCAA', date_daybefore_large]]\n",
    "data_ccaa_confirmed_daybefore.rename(columns = {date_daybefore_large : 'Confirmados', 'CCAA' : 'Comunidades Autónomas'}, inplace = True)\n",
    "data_ccaa_confirmed_daybefore = data_ccaa_confirmed_daybefore.set_index('Comunidades Autónomas')\n",
    "data_ccaa_confirmed_newcases = data_ccaa_confirmed_today - data_ccaa_confirmed_daybefore\n",
    "data_ccaa_confirmed_newcases = data_ccaa_confirmed_newcases.copy().iloc[0:19]\n",
    "data_ccaa_confirmed_newcases.rename(columns = {'Confirmados': 'Confirmados (24h)'}, inplace = True)\n",
    "\n",
    "\n",
    "# Fallecidos por CCAA\n",
    "data_ccaa_deaths_today = data_ccaa_deaths_timeseries[['CCAA', date_today_large]]\n",
    "data_ccaa_deaths_today.rename(columns = {date_today_large : 'Fallecidos', 'CCAA' : 'Comunidades Autónomas'}, inplace = True)\n",
    "data_ccaa_deaths_today = data_ccaa_deaths_today.set_index('Comunidades Autónomas')\n",
    "data_ccaa_deaths_today = data_ccaa_deaths_today.copy().iloc[0:19]\n",
    "\n",
    "# New cases\n",
    "data_ccaa_deaths_daybefore = data_ccaa_deaths_timeseries[['CCAA', date_daybefore_large]]\n",
    "data_ccaa_deaths_daybefore.rename(columns = {date_daybefore_large : 'Fallecidos', 'CCAA' : 'Comunidades Autónomas'}, inplace = True)\n",
    "data_ccaa_deaths_daybefore = data_ccaa_deaths_daybefore.set_index('Comunidades Autónomas')\n",
    "data_ccaa_deaths_newcases = data_ccaa_deaths_today - data_ccaa_deaths_daybefore\n",
    "data_ccaa_deaths_newcases = data_ccaa_deaths_newcases.copy().iloc[0:19]\n",
    "data_ccaa_deaths_newcases.rename(columns = {'Fallecidos': 'Fallecidos (24h)'}, inplace = True)\n",
    "\n",
    "\n",
    "# Recuperados por CCAA\n",
    "data_ccaa_recovered_today = data_ccaa_recovered_timeseries[['CCAA', date_today_large]]\n",
    "data_ccaa_recovered_today.rename(columns = {date_today_large : 'Curados', 'CCAA' : 'Comunidades Autónomas'}, inplace = True)\n",
    "data_ccaa_recovered_today = data_ccaa_recovered_today.set_index('Comunidades Autónomas')\n",
    "data_ccaa_recovered_today = data_ccaa_recovered_today.copy().iloc[0:19]\n",
    "# New cases\n",
    "data_ccaa_recovered_daybefore = data_ccaa_recovered_timeseries[['CCAA', date_daybefore_large]]\n",
    "data_ccaa_recovered_daybefore.rename(columns = {date_daybefore_large : 'Curados', 'CCAA' : 'Comunidades Autónomas'}, inplace = True)\n",
    "data_ccaa_recovered_daybefore = data_ccaa_recovered_daybefore.set_index('Comunidades Autónomas')\n",
    "data_ccaa_recovered_newcases = data_ccaa_recovered_today - data_ccaa_recovered_daybefore\n",
    "data_ccaa_recovered_newcases = data_ccaa_recovered_newcases.copy().iloc[0:19]\n",
    "data_ccaa_recovered_newcases.rename(columns = {'Curados': 'Curados (24h)'}, inplace = True)\n",
    "\n",
    "\n",
    "#Juntar los tres dataframes confirmados + curados + fallecidos\n",
    "data_ccaa_confirmed_recovered_deaths = pd.concat([data_ccaa_confirmed_today, data_ccaa_recovered_today, data_ccaa_deaths_today,], axis=1)\n",
    "\n",
    "# Juntar los tres dataframes nuevos casos\n",
    "data_ccaa_newcases_confirmed_recovered_deaths = pd.concat([data_ccaa_confirmed_newcases, data_ccaa_recovered_newcases, data_ccaa_deaths_newcases], axis=1)\n",
    "\n",
    "# Exportar por grupos\n",
    "data_ccaa_confirmed_recovered_deaths.to_csv('data_ccaa_confirmed_recovered_deaths.csv', sep = ';', encoding=\"utf-8\", index=True, index_label='Comunidades Autónomas')\n",
    "data_ccaa_newcases_confirmed_recovered_deaths.to_csv('data_ccaa_newcases_confirmed_recovered_deaths.csv', sep = ';', encoding=\"utf-8\", index=True, index_label='Comunidades Autónomas')\n",
    "\n",
    "data_ccaa_newcases_confirmed_recovered_deaths"
   ]
  },
  {
   "cell_type": "markdown",
   "metadata": {},
   "source": [
    "## ESPAÑA: Análisis por rangos de edad"
   ]
  },
  {
   "cell_type": "code",
   "execution_count": 16,
   "metadata": {},
   "outputs": [
    {
     "output_type": "execute_result",
     "data": {
      "text/plain": "fecha                0\nrango_edad           0\nsexo                 0\ncasos_confirmados    0\nhospitalizados       0\ningresos_uci         0\nfallecidos           0\ndtype: int64"
     },
     "metadata": {},
     "execution_count": 16
    }
   ],
   "source": [
    "#Comprobar si están subidos los últimos datos, si sale 0 es que no hay datos\n",
    "data_spain_ccaa_age = pd.read_csv(\"https://raw.githubusercontent.com/datadista/datasets/master/COVID%2019/nacional_covid19_rango_edad.csv\", sep = ',')\n",
    "data_spain_ccaa_age[data_spain_ccaa_age[\"fecha\"] == date_today_large].count()"
   ]
  },
  {
   "cell_type": "code",
   "execution_count": 17,
   "metadata": {},
   "outputs": [
    {
     "output_type": "error",
     "ename": "ValueError",
     "evalue": "Length mismatch: Expected axis has 0 elements, new values have 1 elements",
     "traceback": [
      "\u001b[0;31m---------------------------------------------------------------------------\u001b[0m",
      "\u001b[0;31mValueError\u001b[0m                                Traceback (most recent call last)",
      "\u001b[0;32m<ipython-input-17-9a0f1b5e9524>\u001b[0m in \u001b[0;36m<module>\u001b[0;34m\u001b[0m\n\u001b[1;32m     21\u001b[0m \u001b[0;34m\u001b[0m\u001b[0m\n\u001b[1;32m     22\u001b[0m \u001b[0;34m\u001b[0m\u001b[0m\n\u001b[0;32m---> 23\u001b[0;31m \u001b[0mdata_spain_ccaa_age_ambos_total\u001b[0m\u001b[0;34m.\u001b[0m\u001b[0mindex\u001b[0m \u001b[0;34m=\u001b[0m \u001b[0;34m[\u001b[0m\u001b[0;34m'Total ambos sexos'\u001b[0m\u001b[0;34m]\u001b[0m\u001b[0;34m\u001b[0m\u001b[0;34m\u001b[0m\u001b[0m\n\u001b[0m\u001b[1;32m     24\u001b[0m \u001b[0mdata_spain_ccaa_age_hombres_total\u001b[0m\u001b[0;34m.\u001b[0m\u001b[0mindex\u001b[0m \u001b[0;34m=\u001b[0m \u001b[0;34m[\u001b[0m\u001b[0;34m'Total hombres'\u001b[0m\u001b[0;34m]\u001b[0m\u001b[0;34m\u001b[0m\u001b[0;34m\u001b[0m\u001b[0m\n\u001b[1;32m     25\u001b[0m \u001b[0mdata_spain_ccaa_age_mujeres_total\u001b[0m\u001b[0;34m.\u001b[0m\u001b[0mindex\u001b[0m \u001b[0;34m=\u001b[0m \u001b[0;34m[\u001b[0m\u001b[0;34m'Total mujeres'\u001b[0m\u001b[0;34m]\u001b[0m\u001b[0;34m\u001b[0m\u001b[0;34m\u001b[0m\u001b[0m\n",
      "\u001b[0;32m~/anaconda3/lib/python3.7/site-packages/pandas/core/generic.py\u001b[0m in \u001b[0;36m__setattr__\u001b[0;34m(self, name, value)\u001b[0m\n\u001b[1;32m   5190\u001b[0m         \u001b[0;32mtry\u001b[0m\u001b[0;34m:\u001b[0m\u001b[0;34m\u001b[0m\u001b[0;34m\u001b[0m\u001b[0m\n\u001b[1;32m   5191\u001b[0m             \u001b[0mobject\u001b[0m\u001b[0;34m.\u001b[0m\u001b[0m__getattribute__\u001b[0m\u001b[0;34m(\u001b[0m\u001b[0mself\u001b[0m\u001b[0;34m,\u001b[0m \u001b[0mname\u001b[0m\u001b[0;34m)\u001b[0m\u001b[0;34m\u001b[0m\u001b[0;34m\u001b[0m\u001b[0m\n\u001b[0;32m-> 5192\u001b[0;31m             \u001b[0;32mreturn\u001b[0m \u001b[0mobject\u001b[0m\u001b[0;34m.\u001b[0m\u001b[0m__setattr__\u001b[0m\u001b[0;34m(\u001b[0m\u001b[0mself\u001b[0m\u001b[0;34m,\u001b[0m \u001b[0mname\u001b[0m\u001b[0;34m,\u001b[0m \u001b[0mvalue\u001b[0m\u001b[0;34m)\u001b[0m\u001b[0;34m\u001b[0m\u001b[0;34m\u001b[0m\u001b[0m\n\u001b[0m\u001b[1;32m   5193\u001b[0m         \u001b[0;32mexcept\u001b[0m \u001b[0mAttributeError\u001b[0m\u001b[0;34m:\u001b[0m\u001b[0;34m\u001b[0m\u001b[0;34m\u001b[0m\u001b[0m\n\u001b[1;32m   5194\u001b[0m             \u001b[0;32mpass\u001b[0m\u001b[0;34m\u001b[0m\u001b[0;34m\u001b[0m\u001b[0m\n",
      "\u001b[0;32mpandas/_libs/properties.pyx\u001b[0m in \u001b[0;36mpandas._libs.properties.AxisProperty.__set__\u001b[0;34m()\u001b[0m\n",
      "\u001b[0;32m~/anaconda3/lib/python3.7/site-packages/pandas/core/generic.py\u001b[0m in \u001b[0;36m_set_axis\u001b[0;34m(self, axis, labels)\u001b[0m\n\u001b[1;32m    688\u001b[0m \u001b[0;34m\u001b[0m\u001b[0m\n\u001b[1;32m    689\u001b[0m     \u001b[0;32mdef\u001b[0m \u001b[0m_set_axis\u001b[0m\u001b[0;34m(\u001b[0m\u001b[0mself\u001b[0m\u001b[0;34m,\u001b[0m \u001b[0maxis\u001b[0m\u001b[0;34m,\u001b[0m \u001b[0mlabels\u001b[0m\u001b[0;34m)\u001b[0m\u001b[0;34m:\u001b[0m\u001b[0;34m\u001b[0m\u001b[0;34m\u001b[0m\u001b[0m\n\u001b[0;32m--> 690\u001b[0;31m         \u001b[0mself\u001b[0m\u001b[0;34m.\u001b[0m\u001b[0m_data\u001b[0m\u001b[0;34m.\u001b[0m\u001b[0mset_axis\u001b[0m\u001b[0;34m(\u001b[0m\u001b[0maxis\u001b[0m\u001b[0;34m,\u001b[0m \u001b[0mlabels\u001b[0m\u001b[0;34m)\u001b[0m\u001b[0;34m\u001b[0m\u001b[0;34m\u001b[0m\u001b[0m\n\u001b[0m\u001b[1;32m    691\u001b[0m         \u001b[0mself\u001b[0m\u001b[0;34m.\u001b[0m\u001b[0m_clear_item_cache\u001b[0m\u001b[0;34m(\u001b[0m\u001b[0;34m)\u001b[0m\u001b[0;34m\u001b[0m\u001b[0;34m\u001b[0m\u001b[0m\n\u001b[1;32m    692\u001b[0m \u001b[0;34m\u001b[0m\u001b[0m\n",
      "\u001b[0;32m~/anaconda3/lib/python3.7/site-packages/pandas/core/internals/managers.py\u001b[0m in \u001b[0;36mset_axis\u001b[0;34m(self, axis, new_labels)\u001b[0m\n\u001b[1;32m    181\u001b[0m             raise ValueError(\n\u001b[1;32m    182\u001b[0m                 \u001b[0;34m\"Length mismatch: Expected axis has {old} elements, new \"\u001b[0m\u001b[0;34m\u001b[0m\u001b[0;34m\u001b[0m\u001b[0m\n\u001b[0;32m--> 183\u001b[0;31m                 \u001b[0;34m\"values have {new} elements\"\u001b[0m\u001b[0;34m.\u001b[0m\u001b[0mformat\u001b[0m\u001b[0;34m(\u001b[0m\u001b[0mold\u001b[0m\u001b[0;34m=\u001b[0m\u001b[0mold_len\u001b[0m\u001b[0;34m,\u001b[0m \u001b[0mnew\u001b[0m\u001b[0;34m=\u001b[0m\u001b[0mnew_len\u001b[0m\u001b[0;34m)\u001b[0m\u001b[0;34m\u001b[0m\u001b[0;34m\u001b[0m\u001b[0m\n\u001b[0m\u001b[1;32m    184\u001b[0m             )\n\u001b[1;32m    185\u001b[0m \u001b[0;34m\u001b[0m\u001b[0m\n",
      "\u001b[0;31mValueError\u001b[0m: Length mismatch: Expected axis has 0 elements, new values have 1 elements"
     ]
    }
   ],
   "source": [
    "data_spain_ccaa_age = pd.read_csv(\"https://raw.githubusercontent.com/datadista/datasets/master/COVID%2019/nacional_covid19_rango_edad.csv\", sep = ',', encoding = 'utf8', thousands = '.')\n",
    "data_spain_ccaa_age = data_spain_ccaa_age[data_spain_ccaa_age[\"fecha\"] == date_today_large]\n",
    "\n",
    "def take_edad(sexo):\n",
    "    data_spain_ccaa_age_all = data_spain_ccaa_age[data_spain_ccaa_age[\"sexo\"] == sexo]\n",
    "    #Para sacar datos total\n",
    "    data_spain_ccaa_age_total = data_spain_ccaa_age_all.tail(1)\n",
    "    data_spain_ccaa_age_total = data_spain_ccaa_age_total.iloc[:, [3,4,6]]\n",
    "    data_spain_ccaa_age_total.columns = ['Confirmados','Hospitalizados', 'Fallecidos']\n",
    "    #Para sacar datos concretos (de ambos, hombres y mujeres)\n",
    "    data_spain_ccaa_age_concrete = data_spain_ccaa_age_all[:-1]\n",
    "    data_spain_ccaa_age_concrete = data_spain_ccaa_age_concrete.iloc[:, [1,3,4,6]]\n",
    "    data_spain_ccaa_age_concrete.columns = ['Rango de edad','Confirmados','Hospitalizados', 'Fallecidos']\n",
    "    data_spain_ccaa_age_concrete.set_index('Rango de edad', inplace=True)\n",
    "    return data_spain_ccaa_age_concrete, data_spain_ccaa_age_total\n",
    "\n",
    "\n",
    "data_spain_ccaa_age_ambos_concrete, data_spain_ccaa_age_ambos_total = take_edad('ambos')\n",
    "data_spain_ccaa_age_hombres_concrete, data_spain_ccaa_age_hombres_total = take_edad('hombres')\n",
    "data_spain_ccaa_age_mujeres_concrete, data_spain_ccaa_age_mujeres_total = take_edad('mujeres')\n",
    "\n",
    "\n",
    "data_spain_ccaa_age_ambos_total.index = ['Total ambos sexos']\n",
    "data_spain_ccaa_age_hombres_total.index = ['Total hombres']\n",
    "data_spain_ccaa_age_mujeres_total.index = ['Total mujeres']\n",
    "data_spain_ccaa_age_ambos_concat = pd.concat([data_spain_ccaa_age_mujeres_total, data_spain_ccaa_age_hombres_total, \n",
    "                                             data_spain_ccaa_age_ambos_total], axis=0)\n",
    "\n",
    "data_spain_ccaa_age_mujeres_concrete.to_csv('data_spain_ages_mujeres.csv', sep = ';', encoding=\"utf-8\")\n",
    "data_spain_ccaa_age_hombres_concrete.to_csv('data_spain_ages_hombres.csv', sep = ';', encoding=\"utf-8\")\n",
    "data_spain_ccaa_age_ambos_concat.to_csv('data_spain_ages_ambos.csv', sep = ';', encoding=\"utf-8\")\n",
    "\n",
    "print(data_spain_ccaa_age_ambos_concat)\n",
    "print(data_spain_ccaa_age_hombres_concrete)"
   ]
  },
  {
   "cell_type": "markdown",
   "metadata": {},
   "source": [
    "# Subir archivos a SERVIDOR desde FTP"
   ]
  },
  {
   "cell_type": "code",
   "execution_count": 18,
   "metadata": {},
   "outputs": [
    {
     "output_type": "stream",
     "name": "stdout",
     "text": "230-OK. Current restricted directory is /\n230 414 Kbytes used (0%) - authorized: 51200 Kb\ndrwxr-xr-x    2 akakicre   akakicre         4096 May 15 14:01 .\ndrwxr-xr-x    2 akakicre   akakicre         4096 May 15 14:01 ..\n-rw-r--r--    1 akakicre   akakicre           10 May 15 14:01 .ftpquota\n-rw-r--r--    1 akakicre   akakicre       154291 Apr  3 13:34 Imagen_github.jpg\n-rw-r--r--    1 akakicre   akakicre          524 May 15 14:01 data_ccaa_confirmed_recovered_deaths.csv\n-rw-r--r--    1 akakicre   akakicre         8054 May 15 14:01 data_ccaa_evolution_confirmed.csv\n-rw-r--r--    1 akakicre   akakicre         3603 May 15 14:01 data_ccaa_evolution_deaths.csv\n-rw-r--r--    1 akakicre   akakicre         3064 May 15 14:01 data_ccaa_evolution_recovered.csv\n-rw-r--r--    1 akakicre   akakicre          424 May 15 14:01 data_ccaa_newcases_confirmed_recovered_deaths.csv\n-rw-r--r--    1 akakicre   akakicre         1183 May 15 14:01 data_somecountries_newcases.csv\n-rw-r--r--    1 akakicre   akakicre          141 May 15 14:01 data_spain_ages_ambos.csv\n-rw-r--r--    1 akakicre   akakicre          251 May 15 14:01 data_spain_ages_hombres.csv\n-rw-r--r--    1 akakicre   akakicre          248 May 15 14:01 data_spain_ages_mujeres.csv\n-rw-r--r--    1 akakicre   akakicre         1685 May 15 14:01 data_spain_newcases24h.csv\n-rw-r--r--    1 akakicre   akakicre          999 May 15 14:01 data_spain_newcases24h_deaths.csv\n-rw-r--r--    1 akakicre   akakicre          479 May 15 14:01 data_spain_newcases24h_deaths_30days.csv\n-rw-r--r--    1 akakicre   akakicre          848 Apr 29 08:38 data_spotify_duo_positions.csv\n-rw-r--r--    1 akakicre   akakicre          997 Apr 29 08:38 data_spotify_duo_streams.csv\n-rw-r--r--    1 akakicre   akakicre         3519 Apr 29 08:39 data_spotify_top10_position.csv\n-rw-r--r--    1 akakicre   akakicre         2061 Apr 29 08:39 data_spotify_up_position.csv\n-rw-r--r--    1 akakicre   akakicre         3068 Apr 29 08:39 data_spotify_up_streams.csv\n-rw-r--r--    1 akakicre   akakicre         1185 Apr 29 08:39 data_spotify_variasesp_streams.csv\n-rw-r--r--    1 akakicre   akakicre         1570 Apr 29 08:38 data_spotify_varios_positions.csv\n-rw-r--r--    1 akakicre   akakicre         2660 Apr 29 08:39 data_spotify_varios_streams.csv\n-rw-r--r--    1 akakicre   akakicre          273 May 15 14:01 data_world_actual.csv\n-rw-r--r--    1 akakicre   akakicre          212 May 15 14:01 data_world_actual_den.csv\n-rw-r--r--    1 akakicre   akakicre         6368 May 15 14:01 data_world_from100.csv\n-rw-r--r--    1 akakicre   akakicre          217 May 15 14:01 data_world_resume.csv\n-rw-r--r--    1 akakicre   akakicre         5161 May 15 14:01 data_world_timeline.csv\n-rw-r--r--    1 akakicre   akakicre        60006 Apr  6 09:09 diseno4_covid19.jpg\nNone\n"
    }
   ],
   "source": [
    "# Ayuda: https://www.pythoncircle.com/post/668/uploading-a-file-to-ftp-server-using-python/\n",
    "import csv\n",
    "from ftplib import FTP\n",
    "from io import StringIO\n",
    "\n",
    "passw = pd.read_csv(\"pass.txt\", sep = ',', encoding=\"utf-8\")\n",
    "host = \"akakicreations.com\"\n",
    "username = passw.columns[0]\n",
    "password = passw.columns[1]\n",
    "ftp = FTP(host=host)\n",
    "login_status = ftp.login(user=username, passwd=password)\n",
    "print(login_status)\n",
    "\n",
    "print(ftp.dir())\n",
    "\n",
    "fp = open(\"data_world_resume.csv\", 'rb')\n",
    "ftp.storbinary('STOR %s' % os.path.basename(\"data_world_resume.csv\"), fp, 1024)\n",
    "\n",
    "fp = open(\"data_world_actual.csv\", 'rb')\n",
    "ftp.storbinary('STOR %s' % os.path.basename(\"data_world_actual.csv\"), fp, 1024)\n",
    "\n",
    "\n",
    "fp = open(\"data_world_actual_den.csv\", 'rb')\n",
    "ftp.storbinary('STOR %s' % os.path.basename(\"data_world_actual_den.csv\"), fp, 1024)\n",
    "\n",
    "fp = open(\"data_world_from100.csv\", 'rb')\n",
    "ftp.storbinary('STOR %s' % os.path.basename(\"data_world_from100.csv\"), fp, 1024)\n",
    "\n",
    "fp = open(\"data_world_timeline.csv\", 'rb')\n",
    "ftp.storbinary('STOR %s' % os.path.basename(\"data_world_timeline.csv\"), fp, 1024)\n",
    "\n",
    "fp = open(\"data_somecountries_newcases24h.csv\", 'rb')\n",
    "ftp.storbinary('STOR %s' % os.path.basename(\"data_somecountries_newcases.csv\"), fp, 1024)\n",
    "\n",
    "fp = open(\"data_spain_newcases24h.csv\", 'rb')\n",
    "ftp.storbinary('STOR %s' % os.path.basename(\"data_spain_newcases24h.csv\"), fp, 1024)\n",
    "\n",
    "fp = open(\"data_spain_newcases24h_deaths.csv\", 'rb')\n",
    "ftp.storbinary('STOR %s' % os.path.basename(\"data_spain_newcases24h_deaths.csv\"), fp, 1024)\n",
    "\n",
    "fp = open(\"data_spain_newcases24h_deaths_30days.csv\", 'rb')\n",
    "ftp.storbinary('STOR %s' % os.path.basename(\"data_spain_newcases24h_deaths_30days.csv\"), fp, 1024)\n",
    "\n",
    "# Datos por CCAA\n",
    "fp = open(\"data_ccaa_evolution_confirmed.csv\", 'rb')\n",
    "ftp.storbinary('STOR %s' % os.path.basename(\"data_ccaa_evolution_confirmed.csv\"), fp, 1024)\n",
    "\n",
    "fp = open(\"data_ccaa_evolution_deaths.csv\", 'rb')\n",
    "ftp.storbinary('STOR %s' % os.path.basename(\"data_ccaa_evolution_deaths.csv\"), fp, 1024)\n",
    "\n",
    "fp = open(\"data_ccaa_evolution_recovered.csv\", 'rb')\n",
    "ftp.storbinary('STOR %s' % os.path.basename(\"data_ccaa_evolution_recovered.csv\"), fp, 1024)\n",
    "\n",
    "fp = open(\"data_ccaa_confirmed_recovered_deaths.csv\", 'rb')\n",
    "ftp.storbinary('STOR %s' % os.path.basename(\"data_ccaa_confirmed_recovered_deaths.csv\"), fp, 1024)\n",
    "\n",
    "fp = open(\"data_ccaa_newcases_confirmed_recovered_deaths.csv\", 'rb')\n",
    "ftp.storbinary('STOR %s' % os.path.basename(\"data_ccaa_newcases_confirmed_recovered_deaths.csv\"), fp, 1024)\n",
    "\n",
    "# Datos por grupos de edad\n",
    "fp = open(\"data_spain_ages_mujeres.csv\", 'rb')\n",
    "ftp.storbinary('STOR %s' % os.path.basename(\"data_spain_ages_mujeres.csv\"), fp, 1024)\n",
    "\n",
    "fp = open(\"data_spain_ages_hombres.csv\", 'rb')\n",
    "ftp.storbinary('STOR %s' % os.path.basename(\"data_spain_ages_hombres.csv\"), fp, 1024)\n",
    "\n",
    "fp = open(\"data_spain_ages_ambos.csv\", 'rb')\n",
    "ftp.storbinary('STOR %s' % os.path.basename(\"data_spain_ages_ambos.csv\"), fp, 1024)\n",
    "\n",
    "fp.close()\n",
    "\n"
   ]
  },
  {
   "cell_type": "code",
   "execution_count": null,
   "metadata": {},
   "outputs": [],
   "source": []
  }
 ],
 "metadata": {
  "file_extension": ".py",
  "kernelspec": {
   "display_name": "Python 3",
   "language": "python",
   "name": "python3"
  },
  "language_info": {
   "codemirror_mode": {
    "name": "ipython",
    "version": 3
   },
   "file_extension": ".py",
   "mimetype": "text/x-python",
   "name": "python",
   "nbconvert_exporter": "python",
   "pygments_lexer": "ipython3",
   "version": "3.7.3-final"
  },
  "mimetype": "text/x-python",
  "name": "python",
  "npconvert_exporter": "python",
  "pygments_lexer": "ipython3",
  "version": 3
 },
 "nbformat": 4,
 "nbformat_minor": 4
}