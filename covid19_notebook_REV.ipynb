{
 "cells": [
  {
   "cell_type": "markdown",
   "metadata": {},
   "source": [
    "# Ejercicio Covid-19"
   ]
  },
  {
   "cell_type": "code",
   "execution_count": 1,
   "metadata": {},
   "outputs": [
    {
     "output_type": "execute_result",
     "data": {
      "text/plain": "'2020-04-21'"
     },
     "metadata": {},
     "execution_count": 1
    }
   ],
   "source": [
    "import os\n",
    "import numpy as np\n",
    "import pandas as pd\n",
    "\n",
    "#Fechas de hoy(datos España) y ayer (datos inetrnacionales)\n",
    "from datetime import datetime, timedelta\n",
    "from datetime import date\n",
    "date_today = date.today()\n",
    "date_today_complete = date.today()\n",
    "date_daybefore = date_today - timedelta(days=1)\n",
    "date_today = date_today.strftime('%d/%m')\n",
    "date_daybefore2 = date_daybefore.strftime('%d/%m')\n",
    "\n",
    "date_today_large = date_today_complete.strftime('%Y-%m-%d')\n",
    "date_daybefore_large = date_daybefore.strftime('%Y-%m-%d')\n",
    "date_today_large"
   ]
  },
  {
   "cell_type": "markdown",
   "metadata": {},
   "source": [
    "## Traer los datos de Datadista"
   ]
  },
  {
   "cell_type": "code",
   "execution_count": 2,
   "metadata": {},
   "outputs": [
    {
     "output_type": "execute_result",
     "data": {
      "text/plain": "0      3411\n1      1182\n2       616\n3      1005\n4       878\n5       646\n6      4242\n7      5429\n8     14446\n9        73\n10     4719\n11      921\n12     1588\n13    32277\n14       46\n15      702\n16     1190\n17     7277\n18     1866\n19    82514\nName: 2020-04-21, dtype: int64"
     },
     "metadata": {},
     "execution_count": 2
    }
   ],
   "source": [
    "data_ccaa_confirmed_timeseries = pd.read_csv(\"https://raw.githubusercontent.com/datadista/datasets/master/COVID%2019/ccaa_covid19_casos.csv\", \n",
    "                                             sep = ',', encoding=\"utf-8\")\n",
    "\n",
    "data_ccaa_deaths_timeseries = pd.read_csv(\"https://raw.githubusercontent.com/datadista/datasets/master/COVID%2019/ccaa_covid19_fallecidos.csv\", \n",
    "                                          sep = ',', encoding=\"utf-8\")\n",
    "\n",
    "data_ccaa_recovered_timeseries = pd.read_csv(\"https://raw.githubusercontent.com/datadista/datasets/master/COVID%2019/ccaa_covid19_altas.csv\", \n",
    "                                             sep = ',', encoding=\"utf-8\")\n",
    "\n",
    "#Comprobar si están subidos los últimos datos, si no sale error es que hay datos.\n",
    "data_ccaa_recovered_timeseries[date_today_large]"
   ]
  },
  {
   "cell_type": "markdown",
   "metadata": {},
   "source": [
    "## RESUMEN: Resumen datos globales"
   ]
  },
  {
   "cell_type": "code",
   "execution_count": 3,
   "metadata": {},
   "outputs": [
    {
     "output_type": "stream",
     "name": "stdout",
     "text": "Confirmados  Curados  Fallecidos\nCasos totales en el mundo           2472258   645738      169985\nNuevos casos en el mundo (24h)        70880    21835        4942\nCasos totales en España              200210    80587       20852\nNuevos casos en España (24h)           1536     3230         399\n"
    }
   ],
   "source": [
    "# Función para obtener datos del mundo    \n",
    "def get_data_spain(url):    \n",
    "    data_spain = pd.read_csv(url)\n",
    "    data_spain = data_spain.groupby(\"Country/Region\", as_index=False).sum()\n",
    "    data_spain = data_spain.set_index(\"Country/Region\").transpose()\n",
    "    data_spain = data_spain['Spain']\n",
    "    data_spain_actual = int(data_spain.iloc[-1])\n",
    "    data_spain_before = int(data_spain.iloc[-2])\n",
    "    data_spain_24h = data_spain_actual - data_spain_before\n",
    "    return data_spain_24h, data_spain_actual\n",
    "\n",
    "def get_data_world(url):    \n",
    "    data_world = pd.read_csv(url)\n",
    "    data_world = data_world.groupby(\"Country/Region\", as_index=False).sum()\n",
    "    data_world = data_world.set_index(\"Country/Region\").transpose()\n",
    "    data_world_actual = int(data_world.sum(axis=1).iloc[-1])\n",
    "    data_world_before = int(data_world.sum(axis=1).iloc[-2])\n",
    "    data_world_24h = data_world_actual - data_world_before\n",
    "    return data_world_24h, data_world_actual\n",
    "\n",
    "data_confirmed_path = \"COVID-19/csse_covid_19_data/csse_covid_19_time_series/time_series_covid19_confirmed_global.csv\"\n",
    "data_deaths_path = \"COVID-19/csse_covid_19_data/csse_covid_19_time_series/time_series_covid19_deaths_global.csv\"\n",
    "data_recovered_path = \"COVID-19/csse_covid_19_data/csse_covid_19_time_series/time_series_covid19_recovered_global.csv\"\n",
    "\n",
    "\n",
    "# Para el mundo\n",
    "data_confirmed_world_24h, data_confirmed_world_actual = get_data_world(data_confirmed_path)\n",
    "data_deaths_world_24h, data_deaths_world_actual = get_data_world(data_deaths_path)\n",
    "data_recovered_world_24h, data_recovered_world_actual = get_data_world(data_recovered_path)\n",
    "\n",
    "\n",
    "# Para España\n",
    "data_confirmed_spain_24h, data_confirmed_spain_actual = get_data_spain(data_confirmed_path)\n",
    "data_deaths_spain_24h, data_deaths_spain_actual = get_data_spain(data_deaths_path)\n",
    "data_recovered_spain_24h, data_recovered_spain_actual = get_data_spain(data_recovered_path)\n",
    "\n",
    "'''\n",
    "# Para España actual(dataset de datadista)\n",
    "data_confirmed_spain_actual = int(data_ccaa_confirmed_timeseries[date_today_large].tail(1))\n",
    "data_recovered_spain_actual = int(data_ccaa_recovered_timeseries[date_today_large].tail(1))\n",
    "data_deaths_spain_actual = int(data_ccaa_deaths_timeseries[date_today_large].tail(1))\n",
    "'''\n",
    "\n",
    "'''\n",
    "# Para España nuevos casos 24h(dataset de datadista)\n",
    "data_confirmed_spain_newcases = int(data_ccaa_confirmed_timeseries[date_today_large].tail(1)) - int(data_ccaa_confirmed_timeseries[date_daybefore_large].tail(1))\n",
    "data_recovered_spain_newcases = int(data_ccaa_recovered_timeseries[date_today_large].tail(1)) - int(data_ccaa_recovered_timeseries[date_daybefore_large].tail(1))\n",
    "data_deaths_spain_newcases = int(data_ccaa_deaths_timeseries[date_today_large].tail(1)) - int(data_ccaa_deaths_timeseries[date_daybefore_large].tail(1))\n",
    "'''\n",
    "\n",
    "\n",
    "# Creamos dataframes\n",
    "\n",
    "data_spain_resume_actual = pd.DataFrame({'Confirmados': data_confirmed_spain_actual,\n",
    "                                    'Curados': data_recovered_spain_actual, \n",
    "                                    'Fallecidos': data_deaths_spain_actual}, \n",
    "                                   index=['Casos totales en España'])\n",
    "\n",
    "data_spain_newcases = pd.DataFrame({'Confirmados': data_confirmed_spain_24h,\n",
    "                                    'Curados': data_recovered_spain_24h, \n",
    "                                    'Fallecidos': data_deaths_spain_24h}, \n",
    "                                   index=['Nuevos casos en España (24h)'])\n",
    "\n",
    "\n",
    "data_world_newcases = pd.DataFrame({'Confirmados': data_confirmed_world_24h,\n",
    "                                    'Curados': data_recovered_world_24h, \n",
    "                                    'Fallecidos': data_deaths_world_24h}, \n",
    "                                   index=['Nuevos casos en el mundo (24h)'])\n",
    "\n",
    "data_world_resume_actual = pd.DataFrame({'Confirmados': data_confirmed_world_actual,\n",
    "                                    'Curados': data_recovered_world_actual, \n",
    "                                    'Fallecidos': data_deaths_world_actual}, \n",
    "                                   index=['Casos totales en el mundo'])\n",
    "\n",
    "########### Junto los datos anteriores en una tabla\n",
    "data_resume_final = pd.concat([data_world_resume_actual, data_world_newcases, data_spain_resume_actual, data_spain_newcases])\n",
    "\n",
    "data_resume_final.to_csv('data_world_resume.csv', sep = ';')\n",
    "print(data_resume_final)"
   ]
  },
  {
   "cell_type": "markdown",
   "metadata": {},
   "source": [
    "## MUNDO: Preparación general de datos por países"
   ]
  },
  {
   "cell_type": "code",
   "execution_count": 4,
   "metadata": {},
   "outputs": [
    {
     "output_type": "execute_result",
     "data": {
      "text/plain": "Country/Region    China    France   Germany     Iran     Italy  Korea, South  \\\n2020-04-16      83403.0  147091.0  137698.0  77995.0  168941.0       10613.0   \n2020-04-17      83760.0  149130.0  141397.0  79494.0  172434.0       10635.0   \n2020-04-18      83787.0  149149.0  143342.0  80868.0  175925.0       10653.0   \n2020-04-19      83805.0  154097.0  145184.0  82211.0  178972.0       10661.0   \n2020-04-20      83817.0  156480.0  147065.0  83505.0  181228.0       10674.0   \n\nCountry/Region  Norway     Spain        US  United Kingdom  \n2020-04-16      6896.0  184948.0  667592.0        104145.0  \n2020-04-17      6937.0  190839.0  699706.0        109769.0  \n2020-04-18      7036.0  191726.0  732197.0        115314.0  \n2020-04-19      7078.0  198674.0  759086.0        121172.0  \n2020-04-20      7156.0  200210.0  784326.0        125856.0  ",
      "text/html": "<div>\n<style scoped>\n    .dataframe tbody tr th:only-of-type {\n        vertical-align: middle;\n    }\n\n    .dataframe tbody tr th {\n        vertical-align: top;\n    }\n\n    .dataframe thead th {\n        text-align: right;\n    }\n</style>\n<table border=\"1\" class=\"dataframe\">\n  <thead>\n    <tr style=\"text-align: right;\">\n      <th>Country/Region</th>\n      <th>China</th>\n      <th>France</th>\n      <th>Germany</th>\n      <th>Iran</th>\n      <th>Italy</th>\n      <th>Korea, South</th>\n      <th>Norway</th>\n      <th>Spain</th>\n      <th>US</th>\n      <th>United Kingdom</th>\n    </tr>\n  </thead>\n  <tbody>\n    <tr>\n      <th>2020-04-16</th>\n      <td>83403.0</td>\n      <td>147091.0</td>\n      <td>137698.0</td>\n      <td>77995.0</td>\n      <td>168941.0</td>\n      <td>10613.0</td>\n      <td>6896.0</td>\n      <td>184948.0</td>\n      <td>667592.0</td>\n      <td>104145.0</td>\n    </tr>\n    <tr>\n      <th>2020-04-17</th>\n      <td>83760.0</td>\n      <td>149130.0</td>\n      <td>141397.0</td>\n      <td>79494.0</td>\n      <td>172434.0</td>\n      <td>10635.0</td>\n      <td>6937.0</td>\n      <td>190839.0</td>\n      <td>699706.0</td>\n      <td>109769.0</td>\n    </tr>\n    <tr>\n      <th>2020-04-18</th>\n      <td>83787.0</td>\n      <td>149149.0</td>\n      <td>143342.0</td>\n      <td>80868.0</td>\n      <td>175925.0</td>\n      <td>10653.0</td>\n      <td>7036.0</td>\n      <td>191726.0</td>\n      <td>732197.0</td>\n      <td>115314.0</td>\n    </tr>\n    <tr>\n      <th>2020-04-19</th>\n      <td>83805.0</td>\n      <td>154097.0</td>\n      <td>145184.0</td>\n      <td>82211.0</td>\n      <td>178972.0</td>\n      <td>10661.0</td>\n      <td>7078.0</td>\n      <td>198674.0</td>\n      <td>759086.0</td>\n      <td>121172.0</td>\n    </tr>\n    <tr>\n      <th>2020-04-20</th>\n      <td>83817.0</td>\n      <td>156480.0</td>\n      <td>147065.0</td>\n      <td>83505.0</td>\n      <td>181228.0</td>\n      <td>10674.0</td>\n      <td>7156.0</td>\n      <td>200210.0</td>\n      <td>784326.0</td>\n      <td>125856.0</td>\n    </tr>\n  </tbody>\n</table>\n</div>"
     },
     "metadata": {},
     "execution_count": 4
    }
   ],
   "source": [
    "# Datos https://github.com/CSSEGISandData/COVID-19.git\n",
    "data = pd.read_csv(\"COVID-19/csse_covid_19_data/csse_covid_19_time_series/time_series_covid19_confirmed_global.csv\" )\n",
    "\n",
    "#Saco un dataset con solo los países\n",
    "data_countries = data.groupby(\"Country/Region\", as_index=False).sum()\n",
    "\n",
    "# Hago transposición de los datos para mover las columnas en filas \n",
    "data_trans = data_countries.set_index('Country/Region').transpose()\n",
    "# Y me quedo sólo con los datos temporales y número de casos\n",
    "data_time = data_trans[2:]\n",
    "\n",
    "# Cogemos solo determinados países\n",
    "data_time = data_time[['China', 'France', 'Germany', 'Iran','Italy', 'Korea, South', 'Norway','Spain', 'US', 'United Kingdom']]\n",
    "\n",
    "#Hago listado de Countries\n",
    "list_countries = data_time.columns\n",
    "list_countries\n",
    "\n",
    "#Convierto la columna fecha en datetime\n",
    "from datetime import date\n",
    "data_time.index = pd.to_datetime(data_time.index)\n",
    "data_time.tail()\n",
    ""
   ]
  },
  {
   "cell_type": "markdown",
   "metadata": {},
   "source": [
    "## MUNDO: Confirmados, curados y fallecidos"
   ]
  },
  {
   "cell_type": "code",
   "execution_count": 5,
   "metadata": {},
   "outputs": [
    {
     "output_type": "execute_result",
     "data": {
      "text/plain": "                Confirmados  Curados  Fallecidos\nCountry/Region                                  \nChina               83817.0  77745.0      4636.0\nFrance             156480.0  38036.0     20292.0\nGermany            147065.0  91500.0      4862.0\nItaly              181228.0  48877.0     24114.0\nSpain              200210.0  80587.0     20852.0\nUS                 784326.0  72329.0     42094.0\nUnited Kingdom     125856.0    446.0     16550.0",
      "text/html": "<div>\n<style scoped>\n    .dataframe tbody tr th:only-of-type {\n        vertical-align: middle;\n    }\n\n    .dataframe tbody tr th {\n        vertical-align: top;\n    }\n\n    .dataframe thead th {\n        text-align: right;\n    }\n</style>\n<table border=\"1\" class=\"dataframe\">\n  <thead>\n    <tr style=\"text-align: right;\">\n      <th></th>\n      <th>Confirmados</th>\n      <th>Curados</th>\n      <th>Fallecidos</th>\n    </tr>\n    <tr>\n      <th>Country/Region</th>\n      <th></th>\n      <th></th>\n      <th></th>\n    </tr>\n  </thead>\n  <tbody>\n    <tr>\n      <th>China</th>\n      <td>83817.0</td>\n      <td>77745.0</td>\n      <td>4636.0</td>\n    </tr>\n    <tr>\n      <th>France</th>\n      <td>156480.0</td>\n      <td>38036.0</td>\n      <td>20292.0</td>\n    </tr>\n    <tr>\n      <th>Germany</th>\n      <td>147065.0</td>\n      <td>91500.0</td>\n      <td>4862.0</td>\n    </tr>\n    <tr>\n      <th>Italy</th>\n      <td>181228.0</td>\n      <td>48877.0</td>\n      <td>24114.0</td>\n    </tr>\n    <tr>\n      <th>Spain</th>\n      <td>200210.0</td>\n      <td>80587.0</td>\n      <td>20852.0</td>\n    </tr>\n    <tr>\n      <th>US</th>\n      <td>784326.0</td>\n      <td>72329.0</td>\n      <td>42094.0</td>\n    </tr>\n    <tr>\n      <th>United Kingdom</th>\n      <td>125856.0</td>\n      <td>446.0</td>\n      <td>16550.0</td>\n    </tr>\n  </tbody>\n</table>\n</div>"
     },
     "metadata": {},
     "execution_count": 5
    }
   ],
   "source": [
    "######### Confirmados\n",
    "\n",
    "data_confirmed = pd.read_csv(\"COVID-19/csse_covid_19_data/csse_covid_19_time_series/time_series_covid19_confirmed_global.csv\" )\n",
    "#Saco un dataset con solo los países\n",
    "data_confirmed = data_confirmed.groupby(\"Country/Region\", as_index=False).sum()\n",
    "# Hago transposición de los datos para mover las columnas en filas \n",
    "data_confirmed = data_confirmed.set_index('Country/Region').transpose()\n",
    "# Y me quedo sólo con los datos temporales y número de casos\n",
    "data_confirmed = data_confirmed[2:]\n",
    "# Cogemos solo determinados países\n",
    "data_confirmed = data_confirmed[['China', 'France', 'Germany', 'Italy','Spain', 'US', 'United Kingdom']]\n",
    "data_confirmed = data_confirmed[-1:]\n",
    "\n",
    "######### Muertos\n",
    "\n",
    "data_deaths = pd.read_csv(\"COVID-19/csse_covid_19_data/csse_covid_19_time_series/time_series_covid19_deaths_global.csv\")\n",
    "#Saco un dataset con solo los países\n",
    "data_deaths = data_deaths.groupby(\"Country/Region\", as_index=False).sum()\n",
    "#Se ve que están todos y comprobado que suma\n",
    "data_deaths[::]\n",
    "# Hago transposición de los datos para mover las columnas en filas \n",
    "data_deaths = data_deaths.set_index('Country/Region').transpose()\n",
    "\n",
    "# Y me quedo sólo con los datos temporales y número de casos\n",
    "data_deaths = data_deaths[2:]\n",
    "data_deaths.tail()\n",
    "# Cogemos solo determinados países\n",
    "data_deaths = data_deaths[['China', 'France', 'Germany', 'Italy','Spain', 'US', 'United Kingdom']]\n",
    "data_deaths = data_deaths[-1:]\n",
    "\n",
    "######### Recuperados\n",
    "\n",
    "data_recovered = pd.read_csv(\"COVID-19/csse_covid_19_data/csse_covid_19_time_series/time_series_covid19_recovered_global.csv\" )\n",
    "#Saco un dataset con solo los países\n",
    "data_recovered = data_recovered.groupby(\"Country/Region\", as_index=False).sum()\n",
    "# Hago transposición de los datos para mover las columnas en filas \n",
    "data_recovered = data_recovered.set_index('Country/Region').transpose()\n",
    "# Y me quedo sólo con los datos temporales y número de casos\n",
    "data_recovered = data_recovered[2:]\n",
    "# Cogemos solo determinados países\n",
    "data_recovered = data_recovered[['China', 'France', 'Germany', 'Italy','Spain', 'US', 'United Kingdom']]\n",
    "data_recovered = data_recovered[-1:]\n",
    "\n",
    "######### Merge de datos\n",
    "\n",
    "# Saco la fecha:\n",
    "from datetime import datetime, timedelta\n",
    "date_today_intern = date.today()\n",
    "date_today_intern = date_today_intern.today() - timedelta(days=1) #Quito uno porque esta base de datos siempre muestra datos del día anterior\n",
    "date_today_intern = date_today_intern.strftime('%d/%m')\n",
    "\n",
    "#Juntar ahora datos\n",
    "data_columns = ['Confirmados', 'Curados', 'Fallecidos']\n",
    "\n",
    "data_together = pd.merge(data_confirmed, data_recovered, how='outer')\n",
    "data_together = pd.merge(data_together, data_deaths, how='outer')\n",
    "data_together.index = data_columns\n",
    "data_together_final = data_together.transpose()\n",
    "# data_together = data_together.reindex(columns =data_columns) \n",
    "# data_together = data_together.reindex(data_index)\n",
    "\n",
    "# Exporto CSV\n",
    "data_together_final.to_csv('data_world_actual.csv', sep = ';')\n",
    "data_together_final"
   ]
  },
  {
   "cell_type": "markdown",
   "metadata": {},
   "source": [
    "## MUNDO: Confirmados, curados y fallecidos por habitantes de población"
   ]
  },
  {
   "cell_type": "code",
   "execution_count": 6,
   "metadata": {},
   "outputs": [
    {
     "output_type": "execute_result",
     "data": {
      "text/plain": "Country/Region    China    France   Germany     Italy     Spain        US  \\\nConfirmados     83817.0  156480.0  147065.0  181228.0  200210.0  784326.0   \nCurados         77745.0   38036.0   91500.0   48877.0   80587.0   72329.0   \nFallecidos       4636.0   20292.0    4862.0   24114.0   20852.0   42094.0   \n\nCountry/Region  United Kingdom  \nConfirmados           125856.0  \nCurados                  446.0  \nFallecidos             16550.0  ",
      "text/html": "<div>\n<style scoped>\n    .dataframe tbody tr th:only-of-type {\n        vertical-align: middle;\n    }\n\n    .dataframe tbody tr th {\n        vertical-align: top;\n    }\n\n    .dataframe thead th {\n        text-align: right;\n    }\n</style>\n<table border=\"1\" class=\"dataframe\">\n  <thead>\n    <tr style=\"text-align: right;\">\n      <th>Country/Region</th>\n      <th>China</th>\n      <th>France</th>\n      <th>Germany</th>\n      <th>Italy</th>\n      <th>Spain</th>\n      <th>US</th>\n      <th>United Kingdom</th>\n    </tr>\n  </thead>\n  <tbody>\n    <tr>\n      <th>Confirmados</th>\n      <td>83817.0</td>\n      <td>156480.0</td>\n      <td>147065.0</td>\n      <td>181228.0</td>\n      <td>200210.0</td>\n      <td>784326.0</td>\n      <td>125856.0</td>\n    </tr>\n    <tr>\n      <th>Curados</th>\n      <td>77745.0</td>\n      <td>38036.0</td>\n      <td>91500.0</td>\n      <td>48877.0</td>\n      <td>80587.0</td>\n      <td>72329.0</td>\n      <td>446.0</td>\n    </tr>\n    <tr>\n      <th>Fallecidos</th>\n      <td>4636.0</td>\n      <td>20292.0</td>\n      <td>4862.0</td>\n      <td>24114.0</td>\n      <td>20852.0</td>\n      <td>42094.0</td>\n      <td>16550.0</td>\n    </tr>\n  </tbody>\n</table>\n</div>"
     },
     "metadata": {},
     "execution_count": 6
    }
   ],
   "source": [
    "data_together"
   ]
  },
  {
   "cell_type": "code",
   "execution_count": 7,
   "metadata": {},
   "outputs": [
    {
     "output_type": "execute_result",
     "data": {
      "text/plain": "Country/Region  China  France  Germany   Italy   Spain      US  United Kingdom\nConfirmados      60.0  2335.0   1771.0  2993.0  4265.0  2390.0          1888.0\nCurados          56.0   567.0   1102.0   807.0  1717.0   220.0             7.0\nFallecidos        3.0   303.0     59.0   398.0   444.0   128.0           248.0",
      "text/html": "<div>\n<style scoped>\n    .dataframe tbody tr th:only-of-type {\n        vertical-align: middle;\n    }\n\n    .dataframe tbody tr th {\n        vertical-align: top;\n    }\n\n    .dataframe thead th {\n        text-align: right;\n    }\n</style>\n<table border=\"1\" class=\"dataframe\">\n  <thead>\n    <tr style=\"text-align: right;\">\n      <th>Country/Region</th>\n      <th>China</th>\n      <th>France</th>\n      <th>Germany</th>\n      <th>Italy</th>\n      <th>Spain</th>\n      <th>US</th>\n      <th>United Kingdom</th>\n    </tr>\n  </thead>\n  <tbody>\n    <tr>\n      <th>Confirmados</th>\n      <td>60.0</td>\n      <td>2335.0</td>\n      <td>1771.0</td>\n      <td>2993.0</td>\n      <td>4265.0</td>\n      <td>2390.0</td>\n      <td>1888.0</td>\n    </tr>\n    <tr>\n      <th>Curados</th>\n      <td>56.0</td>\n      <td>567.0</td>\n      <td>1102.0</td>\n      <td>807.0</td>\n      <td>1717.0</td>\n      <td>220.0</td>\n      <td>7.0</td>\n    </tr>\n    <tr>\n      <th>Fallecidos</th>\n      <td>3.0</td>\n      <td>303.0</td>\n      <td>59.0</td>\n      <td>398.0</td>\n      <td>444.0</td>\n      <td>128.0</td>\n      <td>248.0</td>\n    </tr>\n  </tbody>\n</table>\n</div>"
     },
     "metadata": {},
     "execution_count": 7
    }
   ],
   "source": [
    "pob_wuhan = 11895000\n",
    "pob_china = 1393000000\n",
    "pob_france = 67028048\n",
    "pob_germany = 83019200\n",
    "pob_italy = 60541000\n",
    "pob_spain = 46940000\n",
    "pob_US = 328200000\n",
    "pob_UK = 66650000\n",
    "\n",
    "# Por cada millón de habitantes hay estos casos...\n",
    "data_together_den = data_together.copy()\n",
    "data_together_den['China'] = (data_together_den['China'] / pob_china)*1000000 # Por cada caso infectado hay 142 que no lo están\n",
    "data_together_den['France'] = (data_together_den['France'] / pob_france)*1000000 # Por cada caso infectado hay 455 que no lo están\n",
    "data_together_den['Germany'] = (data_together_den['Germany'] / pob_germany)*1000000  # Por cada caso infectado hay 455 que no lo están\n",
    "data_together_den['Italy'] = (data_together_den['Italy'] / pob_italy)*1000000\n",
    "data_together_den['Spain'] = (data_together_den['Spain'] / pob_spain)*1000000\n",
    "data_together_den['US'] = (data_together_den['US'] / pob_US)*1000000\n",
    "data_together_den['United Kingdom'] = (data_together_den['United Kingdom'] / pob_UK)*1000000\n",
    "data_together_den = data_together_den.round(0)\n",
    "# Exporto CSV\n",
    "data_together_den.to_csv('data_world_actual_den.csv', sep = ';')\n",
    "data_together_den"
   ]
  },
  {
   "cell_type": "markdown",
   "metadata": {},
   "source": [
    "## MUNDO: CSV : covid19_data_drive_from100.csv"
   ]
  },
  {
   "cell_type": "code",
   "execution_count": 8,
   "metadata": {},
   "outputs": [
    {
     "output_type": "execute_result",
     "data": {
      "text/plain": "    France    China  Germany  Iran     Italy  Korea, South  Norway  Spain  US  \\\n56     NaN  81102.0      NaN   NaN  181228.0       10635.0     NaN    NaN NaN   \n57     NaN  81156.0      NaN   NaN       NaN       10653.0     NaN    NaN NaN   \n58     NaN  81250.0      NaN   NaN       NaN       10661.0     NaN    NaN NaN   \n59     NaN  81305.0      NaN   NaN       NaN       10674.0     NaN    NaN NaN   \n60     NaN  81435.0      NaN   NaN       NaN           NaN     NaN    NaN NaN   \n\n    United Kingdom  \n56             NaN  \n57             NaN  \n58             NaN  \n59             NaN  \n60             NaN  ",
      "text/html": "<div>\n<style scoped>\n    .dataframe tbody tr th:only-of-type {\n        vertical-align: middle;\n    }\n\n    .dataframe tbody tr th {\n        vertical-align: top;\n    }\n\n    .dataframe thead th {\n        text-align: right;\n    }\n</style>\n<table border=\"1\" class=\"dataframe\">\n  <thead>\n    <tr style=\"text-align: right;\">\n      <th></th>\n      <th>France</th>\n      <th>China</th>\n      <th>Germany</th>\n      <th>Iran</th>\n      <th>Italy</th>\n      <th>Korea, South</th>\n      <th>Norway</th>\n      <th>Spain</th>\n      <th>US</th>\n      <th>United Kingdom</th>\n    </tr>\n  </thead>\n  <tbody>\n    <tr>\n      <th>56</th>\n      <td>NaN</td>\n      <td>81102.0</td>\n      <td>NaN</td>\n      <td>NaN</td>\n      <td>181228.0</td>\n      <td>10635.0</td>\n      <td>NaN</td>\n      <td>NaN</td>\n      <td>NaN</td>\n      <td>NaN</td>\n    </tr>\n    <tr>\n      <th>57</th>\n      <td>NaN</td>\n      <td>81156.0</td>\n      <td>NaN</td>\n      <td>NaN</td>\n      <td>NaN</td>\n      <td>10653.0</td>\n      <td>NaN</td>\n      <td>NaN</td>\n      <td>NaN</td>\n      <td>NaN</td>\n    </tr>\n    <tr>\n      <th>58</th>\n      <td>NaN</td>\n      <td>81250.0</td>\n      <td>NaN</td>\n      <td>NaN</td>\n      <td>NaN</td>\n      <td>10661.0</td>\n      <td>NaN</td>\n      <td>NaN</td>\n      <td>NaN</td>\n      <td>NaN</td>\n    </tr>\n    <tr>\n      <th>59</th>\n      <td>NaN</td>\n      <td>81305.0</td>\n      <td>NaN</td>\n      <td>NaN</td>\n      <td>NaN</td>\n      <td>10674.0</td>\n      <td>NaN</td>\n      <td>NaN</td>\n      <td>NaN</td>\n      <td>NaN</td>\n    </tr>\n    <tr>\n      <th>60</th>\n      <td>NaN</td>\n      <td>81435.0</td>\n      <td>NaN</td>\n      <td>NaN</td>\n      <td>NaN</td>\n      <td>NaN</td>\n      <td>NaN</td>\n      <td>NaN</td>\n      <td>NaN</td>\n      <td>NaN</td>\n    </tr>\n  </tbody>\n</table>\n</div>"
     },
     "metadata": {},
     "execution_count": 8
    }
   ],
   "source": [
    "# Coger solo datos del último mes\n",
    "data_time_30days = data_time[-200:]\n",
    "# Si quiero quitar China: data_time_filter = data_time_filter.drop('China', axis=1)\n",
    "\n",
    "#Exporto los datos en diferentes arhcivos con casa país\n",
    "for country in list_countries:\n",
    "    dataX = data_time_30days[country]\n",
    "    dataX = dataX[dataX > 200]\n",
    "    dataX.to_csv('data_' + country + \".csv\", index=False, header= country)\n",
    "\n",
    "# Lista dataframes\n",
    "# dataframes_list = ['dataframe_France', 'dataframe_China', 'dataframe_Germany', 'dataframe_Iran', 'dataframe_Italy', 'dataframe_Korea', 'dataframe_Norway', 'dataframe_Spain', 'dataframe_US', 'dataframe_UnitedKingdom']\n",
    "\n",
    "# Creamos los CSV\n",
    "dataframe_France = pd.read_csv('data_France.csv')\n",
    "dataframe_China = pd.read_csv('data_China.csv')\n",
    "dataframe_Germany = pd.read_csv('data_Germany.csv')\n",
    "dataframe_Iran = pd.read_csv('data_Iran.csv')\n",
    "dataframe_Italy = pd.read_csv('data_Italy.csv')\n",
    "dataframe_Korea = pd.read_csv('data_Korea, South.csv')\n",
    "dataframe_Norway = pd.read_csv('data_Norway.csv')\n",
    "dataframe_Spain = pd.read_csv('data_Spain.csv')\n",
    "dataframe_US = pd.read_csv('data_US.csv')\n",
    "dataframe_UnitedKingdom = pd.read_csv('data_United Kingdom.csv')\n",
    "\n",
    "#Les añadimos NaN al final y reindexamos\n",
    "new_index = np.arange(1,61)\n",
    "dataframe_France = dataframe_France.reindex(new_index)\n",
    "dataframe_China = dataframe_China.reindex(new_index)\n",
    "dataframe_Germany = dataframe_Germany.reindex(new_index)\n",
    "dataframe_Iran = dataframe_Iran.reindex(new_index)\n",
    "dataframe_Italy = dataframe_Italy.reindex(new_index)\n",
    "dataframe_Korea = dataframe_Korea.reindex(new_index)\n",
    "dataframe_Norway = dataframe_Norway.reindex(new_index)\n",
    "dataframe_Spain = dataframe_Spain.reindex(new_index)\n",
    "dataframe_US = dataframe_US.reindex(new_index)\n",
    "dataframe_UnitedKingdom = dataframe_UnitedKingdom.reindex(new_index)\n",
    "\n",
    "#Juntar dataframes y Exportar CSV completo\n",
    "data_drive_from100cases = dataframe_France.join([dataframe_China, dataframe_Germany, \n",
    "                                                 dataframe_Iran, dataframe_Italy, dataframe_Korea, \n",
    "                                                 dataframe_Norway, dataframe_Spain, dataframe_US,\n",
    "                                                 dataframe_UnitedKingdom])\n",
    "\n",
    "data_drive_from100cases.to_csv('data_world_from100.csv', sep = ';')\n",
    "data_drive_from100cases.tail()"
   ]
  },
  {
   "cell_type": "markdown",
   "metadata": {},
   "source": [
    "## MUNDO: CSV covid19_data_drive_days.csv"
   ]
  },
  {
   "cell_type": "code",
   "execution_count": 9,
   "metadata": {},
   "outputs": [
    {
     "output_type": "execute_result",
     "data": {
      "text/plain": "Country/Region    China    France   Germany     Iran     Italy  Korea, South  \\\n2020-04-16      83403.0  147091.0  137698.0  77995.0  168941.0       10613.0   \n2020-04-17      83760.0  149130.0  141397.0  79494.0  172434.0       10635.0   \n2020-04-18      83787.0  149149.0  143342.0  80868.0  175925.0       10653.0   \n2020-04-19      83805.0  154097.0  145184.0  82211.0  178972.0       10661.0   \n2020-04-20      83817.0  156480.0  147065.0  83505.0  181228.0       10674.0   \n\nCountry/Region  Norway     Spain        US  United Kingdom  \n2020-04-16      6896.0  184948.0  667592.0        104145.0  \n2020-04-17      6937.0  190839.0  699706.0        109769.0  \n2020-04-18      7036.0  191726.0  732197.0        115314.0  \n2020-04-19      7078.0  198674.0  759086.0        121172.0  \n2020-04-20      7156.0  200210.0  784326.0        125856.0  ",
      "text/html": "<div>\n<style scoped>\n    .dataframe tbody tr th:only-of-type {\n        vertical-align: middle;\n    }\n\n    .dataframe tbody tr th {\n        vertical-align: top;\n    }\n\n    .dataframe thead th {\n        text-align: right;\n    }\n</style>\n<table border=\"1\" class=\"dataframe\">\n  <thead>\n    <tr style=\"text-align: right;\">\n      <th>Country/Region</th>\n      <th>China</th>\n      <th>France</th>\n      <th>Germany</th>\n      <th>Iran</th>\n      <th>Italy</th>\n      <th>Korea, South</th>\n      <th>Norway</th>\n      <th>Spain</th>\n      <th>US</th>\n      <th>United Kingdom</th>\n    </tr>\n  </thead>\n  <tbody>\n    <tr>\n      <th>2020-04-16</th>\n      <td>83403.0</td>\n      <td>147091.0</td>\n      <td>137698.0</td>\n      <td>77995.0</td>\n      <td>168941.0</td>\n      <td>10613.0</td>\n      <td>6896.0</td>\n      <td>184948.0</td>\n      <td>667592.0</td>\n      <td>104145.0</td>\n    </tr>\n    <tr>\n      <th>2020-04-17</th>\n      <td>83760.0</td>\n      <td>149130.0</td>\n      <td>141397.0</td>\n      <td>79494.0</td>\n      <td>172434.0</td>\n      <td>10635.0</td>\n      <td>6937.0</td>\n      <td>190839.0</td>\n      <td>699706.0</td>\n      <td>109769.0</td>\n    </tr>\n    <tr>\n      <th>2020-04-18</th>\n      <td>83787.0</td>\n      <td>149149.0</td>\n      <td>143342.0</td>\n      <td>80868.0</td>\n      <td>175925.0</td>\n      <td>10653.0</td>\n      <td>7036.0</td>\n      <td>191726.0</td>\n      <td>732197.0</td>\n      <td>115314.0</td>\n    </tr>\n    <tr>\n      <th>2020-04-19</th>\n      <td>83805.0</td>\n      <td>154097.0</td>\n      <td>145184.0</td>\n      <td>82211.0</td>\n      <td>178972.0</td>\n      <td>10661.0</td>\n      <td>7078.0</td>\n      <td>198674.0</td>\n      <td>759086.0</td>\n      <td>121172.0</td>\n    </tr>\n    <tr>\n      <th>2020-04-20</th>\n      <td>83817.0</td>\n      <td>156480.0</td>\n      <td>147065.0</td>\n      <td>83505.0</td>\n      <td>181228.0</td>\n      <td>10674.0</td>\n      <td>7156.0</td>\n      <td>200210.0</td>\n      <td>784326.0</td>\n      <td>125856.0</td>\n    </tr>\n  </tbody>\n</table>\n</div>"
     },
     "metadata": {},
     "execution_count": 9
    }
   ],
   "source": [
    "# Coger solo datos de últimos 60 días\n",
    "data_time_Xdays = data_time[-30:]\n",
    "\n",
    "#Exportar CSV por días progresivos\n",
    "data_drive_lastX = data_time_Xdays.loc[:,list_countries]\n",
    "data_drive_lastX.to_csv('data_world_timeline.csv', sep = ';', encoding=\"utf-8\")\n",
    "data_drive_lastX.tail()\n",
    ""
   ]
  },
  {
   "cell_type": "markdown",
   "metadata": {},
   "source": [
    "## ESPAÑA: Resumen datos España: data_spain_newcases24h.csv"
   ]
  },
  {
   "cell_type": "code",
   "execution_count": 10,
   "metadata": {},
   "outputs": [
    {
     "output_type": "execute_result",
     "data": {
      "text/plain": "                              2020-03-12  2020-03-13  2020-03-14  2020-03-15  \\\nFallecidos (24h) en España             1          78          62          94   \nFallecidos (24h) en Italia             0         439         175         368   \nFallecidos (24h) en Francia            0          31          12           0   \nFallecidos (24h) en Alemania           0           4           2           2   \n\n                              2020-03-16  2020-03-17  2020-03-18  2020-03-19  \\\nFallecidos (24h) en España            53         191          90         207   \nFallecidos (24h) en Italia           349         345         475         427   \nFallecidos (24h) en Francia           58           0           0          95   \nFallecidos (24h) en Alemania           6           7           4          16   \n\n                              2020-03-20  2020-03-21  ...  2020-04-11  \\\nFallecidos (24h) en España           213         332  ...         525   \nFallecidos (24h) en Italia           627         793  ...         619   \nFallecidos (24h) en Francia          207         112  ...         636   \nFallecidos (24h) en Alemania          23          17  ...         -31   \n\n                              2020-04-12  2020-04-13  2020-04-14  2020-04-15  \\\nFallecidos (24h) en España           603         547         300         652   \nFallecidos (24h) en Italia           431         566         602         578   \nFallecidos (24h) en Francia          561         574         762        1440   \nFallecidos (24h) en Alemania         286         172         100         510   \n\n                              2020-04-16  2020-04-17  2020-04-18  2020-04-19  \\\nFallecidos (24h) en España           607         687          41         410   \nFallecidos (24h) en Italia           525         575         482         433   \nFallecidos (24h) en Francia          753         762         642         399   \nFallecidos (24h) en Alemania         248         300         107         127   \n\n                              2020-04-20  \nFallecidos (24h) en España           399  \nFallecidos (24h) en Italia           454  \nFallecidos (24h) en Francia          548  \nFallecidos (24h) en Alemania         276  \n\n[4 rows x 40 columns]",
      "text/html": "<div>\n<style scoped>\n    .dataframe tbody tr th:only-of-type {\n        vertical-align: middle;\n    }\n\n    .dataframe tbody tr th {\n        vertical-align: top;\n    }\n\n    .dataframe thead th {\n        text-align: right;\n    }\n</style>\n<table border=\"1\" class=\"dataframe\">\n  <thead>\n    <tr style=\"text-align: right;\">\n      <th></th>\n      <th>2020-03-12</th>\n      <th>2020-03-13</th>\n      <th>2020-03-14</th>\n      <th>2020-03-15</th>\n      <th>2020-03-16</th>\n      <th>2020-03-17</th>\n      <th>2020-03-18</th>\n      <th>2020-03-19</th>\n      <th>2020-03-20</th>\n      <th>2020-03-21</th>\n      <th>...</th>\n      <th>2020-04-11</th>\n      <th>2020-04-12</th>\n      <th>2020-04-13</th>\n      <th>2020-04-14</th>\n      <th>2020-04-15</th>\n      <th>2020-04-16</th>\n      <th>2020-04-17</th>\n      <th>2020-04-18</th>\n      <th>2020-04-19</th>\n      <th>2020-04-20</th>\n    </tr>\n  </thead>\n  <tbody>\n    <tr>\n      <th>Fallecidos (24h) en España</th>\n      <td>1</td>\n      <td>78</td>\n      <td>62</td>\n      <td>94</td>\n      <td>53</td>\n      <td>191</td>\n      <td>90</td>\n      <td>207</td>\n      <td>213</td>\n      <td>332</td>\n      <td>...</td>\n      <td>525</td>\n      <td>603</td>\n      <td>547</td>\n      <td>300</td>\n      <td>652</td>\n      <td>607</td>\n      <td>687</td>\n      <td>41</td>\n      <td>410</td>\n      <td>399</td>\n    </tr>\n    <tr>\n      <th>Fallecidos (24h) en Italia</th>\n      <td>0</td>\n      <td>439</td>\n      <td>175</td>\n      <td>368</td>\n      <td>349</td>\n      <td>345</td>\n      <td>475</td>\n      <td>427</td>\n      <td>627</td>\n      <td>793</td>\n      <td>...</td>\n      <td>619</td>\n      <td>431</td>\n      <td>566</td>\n      <td>602</td>\n      <td>578</td>\n      <td>525</td>\n      <td>575</td>\n      <td>482</td>\n      <td>433</td>\n      <td>454</td>\n    </tr>\n    <tr>\n      <th>Fallecidos (24h) en Francia</th>\n      <td>0</td>\n      <td>31</td>\n      <td>12</td>\n      <td>0</td>\n      <td>58</td>\n      <td>0</td>\n      <td>0</td>\n      <td>95</td>\n      <td>207</td>\n      <td>112</td>\n      <td>...</td>\n      <td>636</td>\n      <td>561</td>\n      <td>574</td>\n      <td>762</td>\n      <td>1440</td>\n      <td>753</td>\n      <td>762</td>\n      <td>642</td>\n      <td>399</td>\n      <td>548</td>\n    </tr>\n    <tr>\n      <th>Fallecidos (24h) en Alemania</th>\n      <td>0</td>\n      <td>4</td>\n      <td>2</td>\n      <td>2</td>\n      <td>6</td>\n      <td>7</td>\n      <td>4</td>\n      <td>16</td>\n      <td>23</td>\n      <td>17</td>\n      <td>...</td>\n      <td>-31</td>\n      <td>286</td>\n      <td>172</td>\n      <td>100</td>\n      <td>510</td>\n      <td>248</td>\n      <td>300</td>\n      <td>107</td>\n      <td>127</td>\n      <td>276</td>\n    </tr>\n  </tbody>\n</table>\n<p>4 rows × 40 columns</p>\n</div>"
     },
     "metadata": {},
     "execution_count": 10
    }
   ],
   "source": [
    "path_c = \"COVID-19/csse_covid_19_data/csse_covid_19_time_series/time_series_covid19_confirmed_global.csv\"\n",
    "path_d = \"COVID-19/csse_covid_19_data/csse_covid_19_time_series/time_series_covid19_deaths_global.csv\"\n",
    "path_r = \"COVID-19/csse_covid_19_data/csse_covid_19_time_series/time_series_covid19_recovered_global.csv\"\n",
    "# Evolución últimos 20 días de neuvos casos\n",
    "\n",
    "\n",
    "def day_consecutive(day):\n",
    "    date_cons = date.today()\n",
    "    date_cons = date_cons - timedelta(days=day)\n",
    "    date_cons = date_cons.strftime('%Y-%m-%d')\n",
    "    return date_cons\n",
    "\n",
    "def data_day(data_path, number_to_rest):\n",
    "    data = pd.read_csv(data_path)\n",
    "    data = data.groupby(\"Country/Region\", as_index=False).sum()\n",
    "    data = data.set_index(\"Country/Region\").transpose()\n",
    "    data = data['Spain']\n",
    "    data = int(data.iloc[number_to_rest]) - int(data.iloc[number_to_rest-1])\n",
    "    return data\n",
    "\n",
    "def data_day_italy(data_path, number_to_rest):\n",
    "    data = pd.read_csv(data_path)\n",
    "    data = data.groupby(\"Country/Region\", as_index=False).sum()\n",
    "    data = data.set_index(\"Country/Region\").transpose()\n",
    "    data = data['Italy']\n",
    "    data = int(data.iloc[number_to_rest]) - int(data.iloc[number_to_rest-1])\n",
    "    return data\n",
    "\n",
    "def data_day_france(data_path, number_to_rest):\n",
    "    data = pd.read_csv(data_path)\n",
    "    data = data.groupby(\"Country/Region\", as_index=False).sum()\n",
    "    data = data.set_index(\"Country/Region\").transpose()\n",
    "    data = data['France']\n",
    "    data = int(data.iloc[number_to_rest]) - int(data.iloc[number_to_rest-1])\n",
    "    return data\n",
    "\n",
    "def data_day_germany(data_path, number_to_rest):\n",
    "    data = pd.read_csv(data_path)\n",
    "    data = data.groupby(\"Country/Region\", as_index=False).sum()\n",
    "    data = data.set_index(\"Country/Region\").transpose()\n",
    "    data = data['Germany']\n",
    "    data = int(data.iloc[number_to_rest]) - int(data.iloc[number_to_rest-1])\n",
    "    return data\n",
    "\n",
    "def create_dataframe(data_day_name, data_path, index_title):\n",
    "    dataframe = pd.DataFrame({day_consecutive(40): data_day_name(data_path, -40),\n",
    "                              day_consecutive(39): data_day_name(data_path, -39),\n",
    "                              day_consecutive(38): data_day_name(data_path, -38),\n",
    "                              day_consecutive(37): data_day_name(data_path, -37),\n",
    "                              day_consecutive(36): data_day_name(data_path, -36),\n",
    "                              day_consecutive(35): data_day_name(data_path, -35),\n",
    "                              day_consecutive(34): data_day_name(data_path, -34),\n",
    "                              day_consecutive(33): data_day_name(data_path, -33),\n",
    "                              day_consecutive(32): data_day_name(data_path, -32),\n",
    "                              day_consecutive(31): data_day_name(data_path, -31),\n",
    "                              day_consecutive(30): data_day_name(data_path, -30),\n",
    "                              day_consecutive(29): data_day_name(data_path, -29),\n",
    "                              day_consecutive(28): data_day_name(data_path, -28),\n",
    "                              day_consecutive(27): data_day_name(data_path, -27),\n",
    "                              day_consecutive(26): data_day_name(data_path, -26),\n",
    "                              day_consecutive(25): data_day_name(data_path, -25),\n",
    "                              day_consecutive(24): data_day_name(data_path, -24),\n",
    "                              day_consecutive(23): data_day_name(data_path, -23),\n",
    "                              day_consecutive(22): data_day_name(data_path, -22),\n",
    "                              day_consecutive(21): data_day_name(data_path, -21),\n",
    "                              day_consecutive(20): data_day_name(data_path, -20),\n",
    "                              day_consecutive(19): data_day_name(data_path, -19), \n",
    "                              day_consecutive(18): data_day_name(data_path, -18),\n",
    "                              day_consecutive(17): data_day_name(data_path, -17),\n",
    "                              day_consecutive(16): data_day_name(data_path, -16),\n",
    "                              day_consecutive(15): data_day_name(data_path, -15),\n",
    "                              day_consecutive(14): data_day_name(data_path, -14),\n",
    "                              day_consecutive(13): data_day_name(data_path, -13),\n",
    "                              day_consecutive(12): data_day_name(data_path, -12),\n",
    "                              day_consecutive(11): data_day_name(data_path, -11),\n",
    "                              day_consecutive(10): data_day_name(data_path, -10),\n",
    "                              day_consecutive(9): data_day_name(data_path, -9),\n",
    "                              day_consecutive(8): data_day_name(data_path, -8),\n",
    "                              day_consecutive(7): data_day_name(data_path, -7),\n",
    "                              day_consecutive(6): data_day_name(data_path, -6),\n",
    "                              day_consecutive(5): data_day_name(data_path, -5),\n",
    "                              day_consecutive(4): data_day_name(data_path, -4),\n",
    "                              day_consecutive(3): data_day_name(data_path, -3),\n",
    "                              day_consecutive(2): data_day_name(data_path, -2),\n",
    "                              day_consecutive(1): data_day_name(data_path, -1),\n",
    "                             }, index=index_title)\n",
    "                                    \n",
    "    return dataframe\n",
    "\n",
    "data_spain_confirmed24h = create_dataframe(data_day, path_c, ['Confirmados (24h) en España'])\n",
    "data_spain_deaths24h = create_dataframe(data_day, path_d, ['Fallecidos (24h) en España'])\n",
    "data_spain_recovered24h = create_dataframe(data_day, path_r, ['Recuperados (24h) en España'])\n",
    "\n",
    "#Juntar dataframes\n",
    "data_spain_newcases24h = pd.concat([data_spain_confirmed24h,data_spain_recovered24h,data_spain_deaths24h], axis=0)\n",
    "data_spain_newcases24h.to_csv('data_spain_newcases24h.csv', sep = ';')\n",
    "data_spain_deaths24h.to_csv('data_spain_newcases24h_deaths.csv', sep = ';')\n",
    "\n",
    "######## Lo mismo en italia\n",
    "data_italy_confirmed24h = create_dataframe(data_day_italy, path_c, ['Confirmados (24h) en Italia'])\n",
    "data_italy_deaths24h = create_dataframe(data_day_italy, path_d, ['Fallecidos (24h) en Italia'])\n",
    "data_italy_recovered24h = create_dataframe(data_day_italy, path_r, ['Recuperados (24h) en Italia'])\n",
    "data_italy_newcases24h = pd.concat([data_italy_confirmed24h,data_italy_recovered24h,data_italy_deaths24h], axis=0)\n",
    "\n",
    "######## Lo mismo en Francia\n",
    "data_france_confirmed24h = create_dataframe(data_day_france, path_c, ['Confirmados (24h) en Francia'])\n",
    "data_france_deaths24h = create_dataframe(data_day_france, path_d, ['Fallecidos (24h) en Francia'])\n",
    "data_france_recovered24h = create_dataframe(data_day_france, path_r, ['Recuperados (24h) en Francia'])\n",
    "data_france_newcases24h = pd.concat([data_france_confirmed24h,data_france_recovered24h,data_france_deaths24h], axis=0)\n",
    "\n",
    "######## Lo mismo en Alemania\n",
    "data_germany_confirmed24h = create_dataframe(data_day_germany, path_c, ['Confirmados (24h) en Alemania'])\n",
    "data_germany_deaths24h = create_dataframe(data_day_germany, path_d, ['Fallecidos (24h) en Alemania'])\n",
    "data_germany_recovered24h = create_dataframe(data_day_germany, path_r, ['Recuperados (24h) en Alemania'])\n",
    "data_germany_newcases24h = pd.concat([data_germany_confirmed24h,data_germany_recovered24h,data_germany_deaths24h], axis=0)\n",
    "\n",
    "\n",
    "###### Juntar dataframes Spain + Italy sólo de fallecidos\n",
    "data_somecountries_newcases24h_deaths = pd.concat([data_spain_deaths24h, data_italy_deaths24h,\n",
    "                                                   data_france_deaths24h, data_germany_deaths24h], axis=0)\n",
    "data_somecountries_newcases24h_deaths.to_csv('data_somecountries_newcases24h.csv', sep = ';')\n",
    "data_somecountries_newcases24h_deaths\n",
    ""
   ]
  },
  {
   "cell_type": "markdown",
   "metadata": {},
   "source": [
    "## ESPAÑA: Evolución temporal casos confirmados"
   ]
  },
  {
   "cell_type": "code",
   "execution_count": 11,
   "metadata": {},
   "outputs": [
    {
     "output_type": "execute_result",
     "data": {
      "text/plain": "                       2020-02-27  2020-02-28  2020-02-29  2020-03-01  \\\nComunidades Autónomas                                                   \nAndalucía                       1           6           8          12   \nAragón                          0           1           1           0   \nAsturias                        0           0           0           1   \nBaleares                        1           1           2           2   \nCanarias                        6           6           6           7   \nCantabria                       0           0           0           1   \nCastilla-La Mancha              0           0           0           1   \nCastilla y León                 0           2           2           3   \nCataluña                        2           3           5           6   \nCeuta                           0           0           0           0   \nC. Valenciana                   2           8          10          15   \nExtremadura                     0           0           0           4   \nGalicia                         0           0           0           0   \nMadrid                          4           5           8          10   \nMelilla                         0           0           0           0   \nMurcia                          0           0           0           0   \nNavarra                         0           0           0           1   \nPaís Vasco                      0           0           2           3   \nLa Rioja                        0           0           0           0   \n\n                       2020-03-02  2020-03-03  2020-03-04  2020-03-05  \\\nComunidades Autónomas                                                   \nAndalucía                      12          13          13          12   \nAragón                          0           0           0           1   \nAsturias                        1           1           2           5   \nBaleares                        2           2           5           6   \nCanarias                        7           7           7           8   \nCantabria                      10          10          10          10   \nCastilla-La Mancha              3           7          12          13   \nCastilla y León                 3           8          11          11   \nCataluña                       15          15          15          24   \nCeuta                           0           0           0           0   \nC. Valenciana                  15          15          19          19   \nExtremadura                     6           6           6           6   \nGalicia                         0           0           1           1   \nMadrid                         29          49          70          90   \nMelilla                         0           0           0           0   \nMurcia                          0           0           0           0   \nNavarra                         1           1           3           3   \nPaís Vasco                      9          13          17          17   \nLa Rioja                        1           3           7          11   \n\n                       2020-03-06  2020-03-07  ...  2020-04-12  2020-04-13  \\\nComunidades Autónomas                          ...                           \nAndalucía                      21          27  ...       10006       10187   \nAragón                          6          11  ...        4070        4187   \nAsturias                        5           5  ...        1892        1958   \nBaleares                        6           6  ...        1534        1550   \nCanarias                       11          18  ...        1918        1944   \nCantabria                      10          10  ...        1752        1777   \nCastilla-La Mancha             15          15  ...       13698       14054   \nCastilla y León                14          14  ...       12118       12628   \nCataluña                       24          24  ...       34027       34726   \nCeuta                           0           0  ...          93          95   \nC. Valenciana                  30          30  ...        8841        9060   \nExtremadura                     6           6  ...        2580        2658   \nGalicia                         3           3  ...        7336        7494   \nMadrid                        137         174  ...       46587       47146   \nMelilla                         0           0  ...          98         101   \nMurcia                          0           0  ...        1449        1463   \nNavarra                         3           3  ...        3969        4092   \nPaís Vasco                     45          45  ...       10772       11018   \nLa Rioja                       29          39  ...        3279        3358   \n\n                       2020-04-14  2020-04-15  2020-04-16  2020-04-17  \\\nComunidades Autónomas                                                   \nAndalucía                   10192       10595       10807       11053   \nAragón                       4245        4338        4566        4664   \nAsturias                     2051        2096        2170        2230   \nBaleares                     1571        1606        1637        1668   \nCanarias                     1958        1975        1988        2009   \nCantabria                    1796        1823        1845        1884   \nCastilla-La Mancha          14329       14680       15151       15997   \nCastilla y León             13180       13697       14380       14903   \nCataluña                    35197       36505       37354       38316   \nCeuta                          96          98         100         101   \nC. Valenciana                9213        9424        9615        9869   \nExtremadura                  2684        2762        2881        3019   \nGalicia                      7597        7708        7873        8013   \nMadrid                      48048       49526       50694       51993   \nMelilla                       101         102         103         104   \nMurcia                       1487        1520        1598        1625   \nNavarra                      4150        4246        4348        4433   \nPaís Vasco                  11226       11475       11790       12089   \nLa Rioja                     3420        3457        3916        4098   \n\n                       2020-04-18  2020-04-19  2020-04-20  2020-04-21  \nComunidades Autónomas                                                  \nAndalucía                   11020       11205       11323       11447  \nAragón                       4761        4831        4886        4938  \nAsturias                     2272        2298        2348        2365  \nBaleares                     1748        1773        1788        1808  \nCanarias                     2035        2047        2067        2085  \nCantabria                    1990        2050        2083        2123  \nCastilla-La Mancha          16349       16625       16796       17045  \nCastilla y León             15293       15621       15857       16259  \nCataluña                    39943       40600       41676       43112  \nCeuta                         108         109         111         111  \nC. Valenciana                9795        9937       10018       10084  \nExtremadura                  3081        3136        3186        3196  \nGalicia                      8084        8185        8299        8468  \nMadrid                      52946       54884       56963       57997  \nMelilla                       104         104         104         105  \nMurcia                       1638        1644        1646        1681  \nNavarra                      4556        4621        4697        4781  \nPaís Vasco                  12355       12569       12628       12810  \nLa Rioja                     3648        3705        3734        3763  \n\n[19 rows x 55 columns]",
      "text/html": "<div>\n<style scoped>\n    .dataframe tbody tr th:only-of-type {\n        vertical-align: middle;\n    }\n\n    .dataframe tbody tr th {\n        vertical-align: top;\n    }\n\n    .dataframe thead th {\n        text-align: right;\n    }\n</style>\n<table border=\"1\" class=\"dataframe\">\n  <thead>\n    <tr style=\"text-align: right;\">\n      <th></th>\n      <th>2020-02-27</th>\n      <th>2020-02-28</th>\n      <th>2020-02-29</th>\n      <th>2020-03-01</th>\n      <th>2020-03-02</th>\n      <th>2020-03-03</th>\n      <th>2020-03-04</th>\n      <th>2020-03-05</th>\n      <th>2020-03-06</th>\n      <th>2020-03-07</th>\n      <th>...</th>\n      <th>2020-04-12</th>\n      <th>2020-04-13</th>\n      <th>2020-04-14</th>\n      <th>2020-04-15</th>\n      <th>2020-04-16</th>\n      <th>2020-04-17</th>\n      <th>2020-04-18</th>\n      <th>2020-04-19</th>\n      <th>2020-04-20</th>\n      <th>2020-04-21</th>\n    </tr>\n    <tr>\n      <th>Comunidades Autónomas</th>\n      <th></th>\n      <th></th>\n      <th></th>\n      <th></th>\n      <th></th>\n      <th></th>\n      <th></th>\n      <th></th>\n      <th></th>\n      <th></th>\n      <th></th>\n      <th></th>\n      <th></th>\n      <th></th>\n      <th></th>\n      <th></th>\n      <th></th>\n      <th></th>\n      <th></th>\n      <th></th>\n      <th></th>\n    </tr>\n  </thead>\n  <tbody>\n    <tr>\n      <th>Andalucía</th>\n      <td>1</td>\n      <td>6</td>\n      <td>8</td>\n      <td>12</td>\n      <td>12</td>\n      <td>13</td>\n      <td>13</td>\n      <td>12</td>\n      <td>21</td>\n      <td>27</td>\n      <td>...</td>\n      <td>10006</td>\n      <td>10187</td>\n      <td>10192</td>\n      <td>10595</td>\n      <td>10807</td>\n      <td>11053</td>\n      <td>11020</td>\n      <td>11205</td>\n      <td>11323</td>\n      <td>11447</td>\n    </tr>\n    <tr>\n      <th>Aragón</th>\n      <td>0</td>\n      <td>1</td>\n      <td>1</td>\n      <td>0</td>\n      <td>0</td>\n      <td>0</td>\n      <td>0</td>\n      <td>1</td>\n      <td>6</td>\n      <td>11</td>\n      <td>...</td>\n      <td>4070</td>\n      <td>4187</td>\n      <td>4245</td>\n      <td>4338</td>\n      <td>4566</td>\n      <td>4664</td>\n      <td>4761</td>\n      <td>4831</td>\n      <td>4886</td>\n      <td>4938</td>\n    </tr>\n    <tr>\n      <th>Asturias</th>\n      <td>0</td>\n      <td>0</td>\n      <td>0</td>\n      <td>1</td>\n      <td>1</td>\n      <td>1</td>\n      <td>2</td>\n      <td>5</td>\n      <td>5</td>\n      <td>5</td>\n      <td>...</td>\n      <td>1892</td>\n      <td>1958</td>\n      <td>2051</td>\n      <td>2096</td>\n      <td>2170</td>\n      <td>2230</td>\n      <td>2272</td>\n      <td>2298</td>\n      <td>2348</td>\n      <td>2365</td>\n    </tr>\n    <tr>\n      <th>Baleares</th>\n      <td>1</td>\n      <td>1</td>\n      <td>2</td>\n      <td>2</td>\n      <td>2</td>\n      <td>2</td>\n      <td>5</td>\n      <td>6</td>\n      <td>6</td>\n      <td>6</td>\n      <td>...</td>\n      <td>1534</td>\n      <td>1550</td>\n      <td>1571</td>\n      <td>1606</td>\n      <td>1637</td>\n      <td>1668</td>\n      <td>1748</td>\n      <td>1773</td>\n      <td>1788</td>\n      <td>1808</td>\n    </tr>\n    <tr>\n      <th>Canarias</th>\n      <td>6</td>\n      <td>6</td>\n      <td>6</td>\n      <td>7</td>\n      <td>7</td>\n      <td>7</td>\n      <td>7</td>\n      <td>8</td>\n      <td>11</td>\n      <td>18</td>\n      <td>...</td>\n      <td>1918</td>\n      <td>1944</td>\n      <td>1958</td>\n      <td>1975</td>\n      <td>1988</td>\n      <td>2009</td>\n      <td>2035</td>\n      <td>2047</td>\n      <td>2067</td>\n      <td>2085</td>\n    </tr>\n    <tr>\n      <th>Cantabria</th>\n      <td>0</td>\n      <td>0</td>\n      <td>0</td>\n      <td>1</td>\n      <td>10</td>\n      <td>10</td>\n      <td>10</td>\n      <td>10</td>\n      <td>10</td>\n      <td>10</td>\n      <td>...</td>\n      <td>1752</td>\n      <td>1777</td>\n      <td>1796</td>\n      <td>1823</td>\n      <td>1845</td>\n      <td>1884</td>\n      <td>1990</td>\n      <td>2050</td>\n      <td>2083</td>\n      <td>2123</td>\n    </tr>\n    <tr>\n      <th>Castilla-La Mancha</th>\n      <td>0</td>\n      <td>0</td>\n      <td>0</td>\n      <td>1</td>\n      <td>3</td>\n      <td>7</td>\n      <td>12</td>\n      <td>13</td>\n      <td>15</td>\n      <td>15</td>\n      <td>...</td>\n      <td>13698</td>\n      <td>14054</td>\n      <td>14329</td>\n      <td>14680</td>\n      <td>15151</td>\n      <td>15997</td>\n      <td>16349</td>\n      <td>16625</td>\n      <td>16796</td>\n      <td>17045</td>\n    </tr>\n    <tr>\n      <th>Castilla y León</th>\n      <td>0</td>\n      <td>2</td>\n      <td>2</td>\n      <td>3</td>\n      <td>3</td>\n      <td>8</td>\n      <td>11</td>\n      <td>11</td>\n      <td>14</td>\n      <td>14</td>\n      <td>...</td>\n      <td>12118</td>\n      <td>12628</td>\n      <td>13180</td>\n      <td>13697</td>\n      <td>14380</td>\n      <td>14903</td>\n      <td>15293</td>\n      <td>15621</td>\n      <td>15857</td>\n      <td>16259</td>\n    </tr>\n    <tr>\n      <th>Cataluña</th>\n      <td>2</td>\n      <td>3</td>\n      <td>5</td>\n      <td>6</td>\n      <td>15</td>\n      <td>15</td>\n      <td>15</td>\n      <td>24</td>\n      <td>24</td>\n      <td>24</td>\n      <td>...</td>\n      <td>34027</td>\n      <td>34726</td>\n      <td>35197</td>\n      <td>36505</td>\n      <td>37354</td>\n      <td>38316</td>\n      <td>39943</td>\n      <td>40600</td>\n      <td>41676</td>\n      <td>43112</td>\n    </tr>\n    <tr>\n      <th>Ceuta</th>\n      <td>0</td>\n      <td>0</td>\n      <td>0</td>\n      <td>0</td>\n      <td>0</td>\n      <td>0</td>\n      <td>0</td>\n      <td>0</td>\n      <td>0</td>\n      <td>0</td>\n      <td>...</td>\n      <td>93</td>\n      <td>95</td>\n      <td>96</td>\n      <td>98</td>\n      <td>100</td>\n      <td>101</td>\n      <td>108</td>\n      <td>109</td>\n      <td>111</td>\n      <td>111</td>\n    </tr>\n    <tr>\n      <th>C. Valenciana</th>\n      <td>2</td>\n      <td>8</td>\n      <td>10</td>\n      <td>15</td>\n      <td>15</td>\n      <td>15</td>\n      <td>19</td>\n      <td>19</td>\n      <td>30</td>\n      <td>30</td>\n      <td>...</td>\n      <td>8841</td>\n      <td>9060</td>\n      <td>9213</td>\n      <td>9424</td>\n      <td>9615</td>\n      <td>9869</td>\n      <td>9795</td>\n      <td>9937</td>\n      <td>10018</td>\n      <td>10084</td>\n    </tr>\n    <tr>\n      <th>Extremadura</th>\n      <td>0</td>\n      <td>0</td>\n      <td>0</td>\n      <td>4</td>\n      <td>6</td>\n      <td>6</td>\n      <td>6</td>\n      <td>6</td>\n      <td>6</td>\n      <td>6</td>\n      <td>...</td>\n      <td>2580</td>\n      <td>2658</td>\n      <td>2684</td>\n      <td>2762</td>\n      <td>2881</td>\n      <td>3019</td>\n      <td>3081</td>\n      <td>3136</td>\n      <td>3186</td>\n      <td>3196</td>\n    </tr>\n    <tr>\n      <th>Galicia</th>\n      <td>0</td>\n      <td>0</td>\n      <td>0</td>\n      <td>0</td>\n      <td>0</td>\n      <td>0</td>\n      <td>1</td>\n      <td>1</td>\n      <td>3</td>\n      <td>3</td>\n      <td>...</td>\n      <td>7336</td>\n      <td>7494</td>\n      <td>7597</td>\n      <td>7708</td>\n      <td>7873</td>\n      <td>8013</td>\n      <td>8084</td>\n      <td>8185</td>\n      <td>8299</td>\n      <td>8468</td>\n    </tr>\n    <tr>\n      <th>Madrid</th>\n      <td>4</td>\n      <td>5</td>\n      <td>8</td>\n      <td>10</td>\n      <td>29</td>\n      <td>49</td>\n      <td>70</td>\n      <td>90</td>\n      <td>137</td>\n      <td>174</td>\n      <td>...</td>\n      <td>46587</td>\n      <td>47146</td>\n      <td>48048</td>\n      <td>49526</td>\n      <td>50694</td>\n      <td>51993</td>\n      <td>52946</td>\n      <td>54884</td>\n      <td>56963</td>\n      <td>57997</td>\n    </tr>\n    <tr>\n      <th>Melilla</th>\n      <td>0</td>\n      <td>0</td>\n      <td>0</td>\n      <td>0</td>\n      <td>0</td>\n      <td>0</td>\n      <td>0</td>\n      <td>0</td>\n      <td>0</td>\n      <td>0</td>\n      <td>...</td>\n      <td>98</td>\n      <td>101</td>\n      <td>101</td>\n      <td>102</td>\n      <td>103</td>\n      <td>104</td>\n      <td>104</td>\n      <td>104</td>\n      <td>104</td>\n      <td>105</td>\n    </tr>\n    <tr>\n      <th>Murcia</th>\n      <td>0</td>\n      <td>0</td>\n      <td>0</td>\n      <td>0</td>\n      <td>0</td>\n      <td>0</td>\n      <td>0</td>\n      <td>0</td>\n      <td>0</td>\n      <td>0</td>\n      <td>...</td>\n      <td>1449</td>\n      <td>1463</td>\n      <td>1487</td>\n      <td>1520</td>\n      <td>1598</td>\n      <td>1625</td>\n      <td>1638</td>\n      <td>1644</td>\n      <td>1646</td>\n      <td>1681</td>\n    </tr>\n    <tr>\n      <th>Navarra</th>\n      <td>0</td>\n      <td>0</td>\n      <td>0</td>\n      <td>1</td>\n      <td>1</td>\n      <td>1</td>\n      <td>3</td>\n      <td>3</td>\n      <td>3</td>\n      <td>3</td>\n      <td>...</td>\n      <td>3969</td>\n      <td>4092</td>\n      <td>4150</td>\n      <td>4246</td>\n      <td>4348</td>\n      <td>4433</td>\n      <td>4556</td>\n      <td>4621</td>\n      <td>4697</td>\n      <td>4781</td>\n    </tr>\n    <tr>\n      <th>País Vasco</th>\n      <td>0</td>\n      <td>0</td>\n      <td>2</td>\n      <td>3</td>\n      <td>9</td>\n      <td>13</td>\n      <td>17</td>\n      <td>17</td>\n      <td>45</td>\n      <td>45</td>\n      <td>...</td>\n      <td>10772</td>\n      <td>11018</td>\n      <td>11226</td>\n      <td>11475</td>\n      <td>11790</td>\n      <td>12089</td>\n      <td>12355</td>\n      <td>12569</td>\n      <td>12628</td>\n      <td>12810</td>\n    </tr>\n    <tr>\n      <th>La Rioja</th>\n      <td>0</td>\n      <td>0</td>\n      <td>0</td>\n      <td>0</td>\n      <td>1</td>\n      <td>3</td>\n      <td>7</td>\n      <td>11</td>\n      <td>29</td>\n      <td>39</td>\n      <td>...</td>\n      <td>3279</td>\n      <td>3358</td>\n      <td>3420</td>\n      <td>3457</td>\n      <td>3916</td>\n      <td>4098</td>\n      <td>3648</td>\n      <td>3705</td>\n      <td>3734</td>\n      <td>3763</td>\n    </tr>\n  </tbody>\n</table>\n<p>19 rows × 55 columns</p>\n</div>"
     },
     "metadata": {},
     "execution_count": 11
    }
   ],
   "source": [
    "# Preparar Evolucion temporal confirmed\n",
    "data_ccaa_confirmed_timeseries_final = data_ccaa_confirmed_timeseries.drop(columns=['cod_ine'])\n",
    "data_ccaa_confirmed_timeseries_final.rename(columns = {'CCAA': 'Comunidades Autónomas'}, inplace = True)\n",
    "data_ccaa_confirmed_timeseries_final = data_ccaa_confirmed_timeseries_final.set_index('Comunidades Autónomas')\n",
    "data_ccaa_confirmed_timeseries_final = data_ccaa_confirmed_timeseries_final.iloc[0:19]\n",
    "\n",
    "# Exportar Evolucion temporal confirmed\n",
    "data_ccaa_confirmed_timeseries_final.to_csv('data_ccaa_evolution_confirmed.csv', sep = ';', encoding=\"utf-8\", index=True, index_label='Comunidades Autónomas')\n",
    "data_ccaa_confirmed_timeseries_final"
   ]
  },
  {
   "cell_type": "markdown",
   "metadata": {},
   "source": [
    "## ESPAÑA: Resúmenes por comunidades autónomas"
   ]
  },
  {
   "cell_type": "code",
   "execution_count": 12,
   "metadata": {},
   "outputs": [
    {
     "output_type": "execute_result",
     "data": {
      "text/plain": "                       Confirmados (24h)  Curados (24h)  Fallecidos (24h)\nComunidades Autónomas                                                    \nAndalucía                          124.0          182.0               4.0\nAragón                              52.0            4.0               6.0\nAsturias                            17.0           17.0               2.0\nBaleares                            20.0            0.0               4.0\nC. Valenciana                       66.0           90.0              10.0\nCanarias                            18.0           65.0               1.0\nCantabria                           40.0           20.0               7.0\nCastilla y León                    402.0           63.0              28.0\nCastilla-La Mancha                 249.0           64.0              54.0\nCataluña                          1436.0          512.0             143.0\nCeuta                                0.0           -1.0               0.0\nExtremadura                         10.0           63.0               8.0\nGalicia                            169.0           40.0               8.0\nLa Rioja                            29.0           33.0               9.0\nMadrid                            1034.0          515.0             109.0\nMelilla                              1.0            0.0               0.0\nMurcia                              35.0           40.0               3.0\nNavarra                             84.0           67.0              12.0\nPaís Vasco                         182.0          153.0              22.0",
      "text/html": "<div>\n<style scoped>\n    .dataframe tbody tr th:only-of-type {\n        vertical-align: middle;\n    }\n\n    .dataframe tbody tr th {\n        vertical-align: top;\n    }\n\n    .dataframe thead th {\n        text-align: right;\n    }\n</style>\n<table border=\"1\" class=\"dataframe\">\n  <thead>\n    <tr style=\"text-align: right;\">\n      <th></th>\n      <th>Confirmados (24h)</th>\n      <th>Curados (24h)</th>\n      <th>Fallecidos (24h)</th>\n    </tr>\n    <tr>\n      <th>Comunidades Autónomas</th>\n      <th></th>\n      <th></th>\n      <th></th>\n    </tr>\n  </thead>\n  <tbody>\n    <tr>\n      <th>Andalucía</th>\n      <td>124.0</td>\n      <td>182.0</td>\n      <td>4.0</td>\n    </tr>\n    <tr>\n      <th>Aragón</th>\n      <td>52.0</td>\n      <td>4.0</td>\n      <td>6.0</td>\n    </tr>\n    <tr>\n      <th>Asturias</th>\n      <td>17.0</td>\n      <td>17.0</td>\n      <td>2.0</td>\n    </tr>\n    <tr>\n      <th>Baleares</th>\n      <td>20.0</td>\n      <td>0.0</td>\n      <td>4.0</td>\n    </tr>\n    <tr>\n      <th>C. Valenciana</th>\n      <td>66.0</td>\n      <td>90.0</td>\n      <td>10.0</td>\n    </tr>\n    <tr>\n      <th>Canarias</th>\n      <td>18.0</td>\n      <td>65.0</td>\n      <td>1.0</td>\n    </tr>\n    <tr>\n      <th>Cantabria</th>\n      <td>40.0</td>\n      <td>20.0</td>\n      <td>7.0</td>\n    </tr>\n    <tr>\n      <th>Castilla y León</th>\n      <td>402.0</td>\n      <td>63.0</td>\n      <td>28.0</td>\n    </tr>\n    <tr>\n      <th>Castilla-La Mancha</th>\n      <td>249.0</td>\n      <td>64.0</td>\n      <td>54.0</td>\n    </tr>\n    <tr>\n      <th>Cataluña</th>\n      <td>1436.0</td>\n      <td>512.0</td>\n      <td>143.0</td>\n    </tr>\n    <tr>\n      <th>Ceuta</th>\n      <td>0.0</td>\n      <td>-1.0</td>\n      <td>0.0</td>\n    </tr>\n    <tr>\n      <th>Extremadura</th>\n      <td>10.0</td>\n      <td>63.0</td>\n      <td>8.0</td>\n    </tr>\n    <tr>\n      <th>Galicia</th>\n      <td>169.0</td>\n      <td>40.0</td>\n      <td>8.0</td>\n    </tr>\n    <tr>\n      <th>La Rioja</th>\n      <td>29.0</td>\n      <td>33.0</td>\n      <td>9.0</td>\n    </tr>\n    <tr>\n      <th>Madrid</th>\n      <td>1034.0</td>\n      <td>515.0</td>\n      <td>109.0</td>\n    </tr>\n    <tr>\n      <th>Melilla</th>\n      <td>1.0</td>\n      <td>0.0</td>\n      <td>0.0</td>\n    </tr>\n    <tr>\n      <th>Murcia</th>\n      <td>35.0</td>\n      <td>40.0</td>\n      <td>3.0</td>\n    </tr>\n    <tr>\n      <th>Navarra</th>\n      <td>84.0</td>\n      <td>67.0</td>\n      <td>12.0</td>\n    </tr>\n    <tr>\n      <th>País Vasco</th>\n      <td>182.0</td>\n      <td>153.0</td>\n      <td>22.0</td>\n    </tr>\n  </tbody>\n</table>\n</div>"
     },
     "metadata": {},
     "execution_count": 12
    }
   ],
   "source": [
    "# SOLO HACER CUANDO LOS DATOS EN DATADISTA ESTÉN ACTUALIZADOS, SI NO, NO FUNCIONA\n",
    "\n",
    "# Confirmados por CCAA\n",
    "data_ccaa_confirmed_today = data_ccaa_confirmed_timeseries[['CCAA', date_today_large]]\n",
    "data_ccaa_confirmed_today.rename(columns = {date_today_large : 'Confirmados', 'CCAA' : 'Comunidades Autónomas'}, inplace = True)\n",
    "data_ccaa_confirmed_today = data_ccaa_confirmed_today.set_index('Comunidades Autónomas')\n",
    "data_ccaa_confirmed_today = data_ccaa_confirmed_today.copy().iloc[0:19]\n",
    "\n",
    "# New cases\n",
    "data_ccaa_confirmed_daybefore = data_ccaa_confirmed_timeseries[['CCAA', date_daybefore_large]]\n",
    "data_ccaa_confirmed_daybefore.rename(columns = {date_daybefore_large : 'Confirmados', 'CCAA' : 'Comunidades Autónomas'}, inplace = True)\n",
    "data_ccaa_confirmed_daybefore = data_ccaa_confirmed_daybefore.set_index('Comunidades Autónomas')\n",
    "data_ccaa_confirmed_newcases = data_ccaa_confirmed_today - data_ccaa_confirmed_daybefore\n",
    "data_ccaa_confirmed_newcases = data_ccaa_confirmed_newcases.copy().iloc[0:19]\n",
    "data_ccaa_confirmed_newcases.rename(columns = {'Confirmados': 'Confirmados (24h)'}, inplace = True)\n",
    "\n",
    "\n",
    "# Fallecidos por CCAA\n",
    "data_ccaa_deaths_today = data_ccaa_deaths_timeseries[['CCAA', date_today_large]]\n",
    "data_ccaa_deaths_today.rename(columns = {date_today_large : 'Fallecidos', 'CCAA' : 'Comunidades Autónomas'}, inplace = True)\n",
    "data_ccaa_deaths_today = data_ccaa_deaths_today.set_index('Comunidades Autónomas')\n",
    "data_ccaa_deaths_today = data_ccaa_deaths_today.copy().iloc[0:19]\n",
    "\n",
    "# New cases\n",
    "data_ccaa_deaths_daybefore = data_ccaa_deaths_timeseries[['CCAA', date_daybefore_large]]\n",
    "data_ccaa_deaths_daybefore.rename(columns = {date_daybefore_large : 'Fallecidos', 'CCAA' : 'Comunidades Autónomas'}, inplace = True)\n",
    "data_ccaa_deaths_daybefore = data_ccaa_deaths_daybefore.set_index('Comunidades Autónomas')\n",
    "data_ccaa_deaths_newcases = data_ccaa_deaths_today - data_ccaa_deaths_daybefore\n",
    "data_ccaa_deaths_newcases = data_ccaa_deaths_newcases.copy().iloc[0:19]\n",
    "data_ccaa_deaths_newcases.rename(columns = {'Fallecidos': 'Fallecidos (24h)'}, inplace = True)\n",
    "\n",
    "\n",
    "# Recuperados por CCAA\n",
    "data_ccaa_recovered_today = data_ccaa_recovered_timeseries[['CCAA', date_today_large]]\n",
    "data_ccaa_recovered_today.rename(columns = {date_today_large : 'Curados', 'CCAA' : 'Comunidades Autónomas'}, inplace = True)\n",
    "data_ccaa_recovered_today = data_ccaa_recovered_today.set_index('Comunidades Autónomas')\n",
    "data_ccaa_recovered_today = data_ccaa_recovered_today.copy().iloc[0:19]\n",
    "# New cases\n",
    "data_ccaa_recovered_daybefore = data_ccaa_recovered_timeseries[['CCAA', date_daybefore_large]]\n",
    "data_ccaa_recovered_daybefore.rename(columns = {date_daybefore_large : 'Curados', 'CCAA' : 'Comunidades Autónomas'}, inplace = True)\n",
    "data_ccaa_recovered_daybefore = data_ccaa_recovered_daybefore.set_index('Comunidades Autónomas')\n",
    "data_ccaa_recovered_newcases = data_ccaa_recovered_today - data_ccaa_recovered_daybefore\n",
    "data_ccaa_recovered_newcases = data_ccaa_recovered_newcases.copy().iloc[0:19]\n",
    "data_ccaa_recovered_newcases.rename(columns = {'Curados': 'Curados (24h)'}, inplace = True)\n",
    "\n",
    "\n",
    "#Juntar los tres dataframes confirmados + curados + fallecidos\n",
    "data_ccaa_confirmed_recovered_deaths = pd.concat([data_ccaa_confirmed_today, data_ccaa_recovered_today, data_ccaa_deaths_today,], axis=1)\n",
    "\n",
    "# Juntar los tres dataframes nuevos casos\n",
    "data_ccaa_newcases_confirmed_recovered_deaths = pd.concat([data_ccaa_confirmed_newcases, data_ccaa_recovered_newcases, data_ccaa_deaths_newcases], axis=1)\n",
    "\n",
    "# Exportar por grupos\n",
    "data_ccaa_confirmed_recovered_deaths.to_csv('data_ccaa_confirmed_recovered_deaths.csv', sep = ';', encoding=\"utf-8\", index=True, index_label='Comunidades Autónomas')\n",
    "data_ccaa_newcases_confirmed_recovered_deaths.to_csv('data_ccaa_newcases_confirmed_recovered_deaths.csv', sep = ';', encoding=\"utf-8\", index=True, index_label='Comunidades Autónomas')\n",
    "\n",
    "data_ccaa_newcases_confirmed_recovered_deaths"
   ]
  },
  {
   "cell_type": "markdown",
   "metadata": {},
   "source": [
    "## ESPAÑA: Análisis por rangos de edad"
   ]
  },
  {
   "cell_type": "code",
   "execution_count": 13,
   "metadata": {},
   "outputs": [
    {
     "output_type": "execute_result",
     "data": {
      "text/plain": "fecha                33\nrango_edad           33\nsexo                 33\ncasos_confirmados    33\nhospitalizados       33\ningresos_uci         33\nfallecidos           33\ndtype: int64"
     },
     "metadata": {},
     "execution_count": 13
    }
   ],
   "source": [
    "#Comprobar si están subidos los últimos datos, si sale 0 es que no hay datos\n",
    "data_spain_ccaa_age = pd.read_csv(\"https://raw.githubusercontent.com/datadista/datasets/master/COVID%2019/nacional_covid19_rango_edad.csv\", sep = ',')\n",
    "data_spain_ccaa_age[data_spain_ccaa_age[\"fecha\"] == date_today_large].count()"
   ]
  },
  {
   "cell_type": "code",
   "execution_count": 16,
   "metadata": {},
   "outputs": [
    {
     "output_type": "stream",
     "name": "stdout",
     "text": "Confirmados  Hospitalizados  Fallecidos\nTotal mujeres            78747           28918        4988\nTotal hombres            67031           38672        7376\nTotal ambos sexos       145783           67595       12365\n               Confirmados  Hospitalizados  Fallecidos\nRango de edad                                         \n0-9                    270             110           2\n10-19                  383              90           1\n20-29                 2577             524          18\n30-39                 5256            1471          29\n40-49                 9207            3819          90\n50-59                11904            6316         264\n60-69                12161            8072         774\n70-79                12428            9569        2254\n80-89                 9926            7072        2998\n90 y +                2919            1629         946\n"
    }
   ],
   "source": [
    "data_spain_ccaa_age = pd.read_csv(\"https://raw.githubusercontent.com/datadista/datasets/master/COVID%2019/nacional_covid19_rango_edad.csv\", sep = ',')\n",
    "data_spain_ccaa_age = data_spain_ccaa_age[data_spain_ccaa_age[\"fecha\"] == date_today_large]\n",
    "\n",
    "def take_edad(sexo):\n",
    "    data_spain_ccaa_age_all = data_spain_ccaa_age[data_spain_ccaa_age[\"sexo\"] == sexo]\n",
    "    #Para sacar datos total\n",
    "    data_spain_ccaa_age_total = data_spain_ccaa_age_all.tail(1)\n",
    "    data_spain_ccaa_age_total = data_spain_ccaa_age_total.iloc[:, [3,4,6]]\n",
    "    data_spain_ccaa_age_total.columns = ['Confirmados','Hospitalizados', 'Fallecidos']\n",
    "    #Para sacar datos concretos (de ambos, hombres y mujeres)\n",
    "    data_spain_ccaa_age_concrete = data_spain_ccaa_age_all[:-1]\n",
    "    data_spain_ccaa_age_concrete = data_spain_ccaa_age_concrete.iloc[:, [1,3,4,6]]\n",
    "    data_spain_ccaa_age_concrete.columns = ['Rango de edad','Confirmados','Hospitalizados', 'Fallecidos']\n",
    "    data_spain_ccaa_age_concrete.set_index('Rango de edad', inplace=True)\n",
    "    return data_spain_ccaa_age_concrete, data_spain_ccaa_age_total\n",
    "\n",
    "\n",
    "data_spain_ccaa_age_ambos_concrete, data_spain_ccaa_age_ambos_total = take_edad('ambos')\n",
    "data_spain_ccaa_age_hombres_concrete, data_spain_ccaa_age_hombres_total = take_edad('hombres')\n",
    "data_spain_ccaa_age_mujeres_concrete, data_spain_ccaa_age_mujeres_total = take_edad('mujeres')\n",
    "\n",
    "\n",
    "data_spain_ccaa_age_ambos_total.index = ['Total ambos sexos']\n",
    "data_spain_ccaa_age_hombres_total.index = ['Total hombres']\n",
    "data_spain_ccaa_age_mujeres_total.index = ['Total mujeres']\n",
    "data_spain_ccaa_age_ambos_concat = pd.concat([data_spain_ccaa_age_mujeres_total, data_spain_ccaa_age_hombres_total, \n",
    "                                             data_spain_ccaa_age_ambos_total], axis=0)\n",
    "\n",
    "data_spain_ccaa_age_mujeres_concrete.to_csv('data_spain_ages_mujeres.csv', sep = ';', encoding=\"utf-8\")\n",
    "data_spain_ccaa_age_hombres_concrete.to_csv('data_spain_ages_hombres.csv', sep = ';', encoding=\"utf-8\")\n",
    "data_spain_ccaa_age_ambos_concat.to_csv('data_spain_ages_ambos.csv', sep = ';', encoding=\"utf-8\")\n",
    "\n",
    "print(data_spain_ccaa_age_ambos_concat)\n",
    "print(data_spain_ccaa_age_hombres_concrete)"
   ]
  },
  {
   "cell_type": "markdown",
   "metadata": {},
   "source": [
    "# Subir archivos a SERVIDOR desde FTP"
   ]
  },
  {
   "cell_type": "code",
   "execution_count": 18,
   "metadata": {},
   "outputs": [
    {
     "output_type": "stream",
     "name": "stdout",
     "text": "230-OK. Current restricted directory is /\n230 397 Kbytes used (0%) - authorized: 51200 Kb\ndrwxr-xr-x    2 akakicre   akakicre         4096 Apr 20 12:18 .\ndrwxr-xr-x    2 akakicre   akakicre         4096 Apr 20 12:18 ..\n-rw-------    1 akakicre   akakicre           10 Apr 21 14:31 .ftpquota\n-rw-r--r--    1 akakicre   akakicre       260069 Apr  3 13:34 Imagen_github.jpg\n-rw-r--r--    1 akakicre   akakicre          514 Apr 21 14:31 data_ccaa_confirmed_recovered_deaths.csv\n-rw-r--r--    1 akakicre   akakicre         5078 Apr 21 14:31 data_ccaa_evolution_confirmed.csv\n-rw-r--r--    1 akakicre   akakicre         3603 Apr 21 14:31 data_ccaa_evolution_deaths.csv\n-rw-r--r--    1 akakicre   akakicre         3064 Apr 21 14:31 data_ccaa_evolution_recovered.csv\n-rw-r--r--    1 akakicre   akakicre          548 Apr 21 14:31 data_ccaa_newcases_confirmed_recovered_deaths.csv\n-rw-r--r--    1 akakicre   akakicre         1152 Apr 21 14:31 data_somecountries_newcases.csv\n-rw-r--r--    1 akakicre   akakicre          138 Apr 21 14:31 data_spain_ages_ambos.csv\n-rw-r--r--    1 akakicre   akakicre          243 Apr 21 14:31 data_spain_ages_hombres.csv\n-rw-r--r--    1 akakicre   akakicre          243 Apr 21 14:31 data_spain_ages_mujeres.csv\n-rw-r--r--    1 akakicre   akakicre         1047 Apr 21 14:31 data_spain_newcases24h.csv\n-rw-r--r--    1 akakicre   akakicre          621 Apr 21 14:31 data_spain_newcases24h_deaths.csv\n-rw-r--r--    1 akakicre   akakicre          695 Apr 20 12:18 data_spotify_duo_positions.csv\n-rw-r--r--    1 akakicre   akakicre          817 Apr 20 12:18 data_spotify_duo_streams.csv\n-rw-r--r--    1 akakicre   akakicre         1411 Apr 20 12:18 data_spotify_up_position.csv\n-rw-r--r--    1 akakicre   akakicre         2051 Apr 20 12:18 data_spotify_up_streams.csv\n-rw-r--r--    1 akakicre   akakicre         1198 Apr 20 12:18 data_spotify_varios_positions.csv\n-rw-r--r--    1 akakicre   akakicre         1909 Apr 20 12:18 data_spotify_varios_streams.csv\n-rw-r--r--    1 akakicre   akakicre          267 Apr 21 14:31 data_world_actual.csv\n-rw-r--r--    1 akakicre   akakicre          210 Apr 21 14:31 data_world_actual_den.csv\n-rw-r--r--    1 akakicre   akakicre         4230 Apr 21 14:31 data_world_from100.csv\n-rw-r--r--    1 akakicre   akakicre          216 Apr 21 14:31 data_world_resume.csv\n-rw-r--r--    1 akakicre   akakicre         2858 Apr 21 14:31 data_world_timeline.csv\n-rw-r--r--    1 akakicre   akakicre        60965 Apr  6 09:09 diseno4_covid19.jpg\nNone\n"
    }
   ],
   "source": [
    "# Ayuda: https://www.pythoncircle.com/post/668/uploading-a-file-to-ftp-server-using-python/\n",
    "import csv\n",
    "from ftplib import FTP\n",
    "from io import StringIO\n",
    "\n",
    "passw = pd.read_csv(\"pass.txt\", sep = ',', encoding=\"utf-8\")\n",
    "host = \"akakicreations.com\"\n",
    "username = passw.columns[0]\n",
    "password = passw.columns[1]\n",
    "ftp = FTP(host=host)\n",
    "login_status = ftp.login(user=username, passwd=password)\n",
    "print(login_status)\n",
    "\n",
    "print(ftp.dir())\n",
    "\n",
    "fp = open(\"data_world_resume.csv\", 'rb')\n",
    "ftp.storbinary('STOR %s' % os.path.basename(\"data_world_resume.csv\"), fp, 1024)\n",
    "\n",
    "fp = open(\"data_world_actual.csv\", 'rb')\n",
    "ftp.storbinary('STOR %s' % os.path.basename(\"data_world_actual.csv\"), fp, 1024)\n",
    "\n",
    "\n",
    "fp = open(\"data_world_actual_den.csv\", 'rb')\n",
    "ftp.storbinary('STOR %s' % os.path.basename(\"data_world_actual_den.csv\"), fp, 1024)\n",
    "\n",
    "fp = open(\"data_world_from100.csv\", 'rb')\n",
    "ftp.storbinary('STOR %s' % os.path.basename(\"data_world_from100.csv\"), fp, 1024)\n",
    "\n",
    "fp = open(\"data_world_timeline.csv\", 'rb')\n",
    "ftp.storbinary('STOR %s' % os.path.basename(\"data_world_timeline.csv\"), fp, 1024)\n",
    "\n",
    "fp = open(\"data_somecountries_newcases24h.csv\", 'rb')\n",
    "ftp.storbinary('STOR %s' % os.path.basename(\"data_somecountries_newcases.csv\"), fp, 1024)\n",
    "\n",
    "fp = open(\"data_spain_newcases24h.csv\", 'rb')\n",
    "ftp.storbinary('STOR %s' % os.path.basename(\"data_spain_newcases24h.csv\"), fp, 1024)\n",
    "\n",
    "fp = open(\"data_spain_newcases24h_deaths.csv\", 'rb')\n",
    "ftp.storbinary('STOR %s' % os.path.basename(\"data_spain_newcases24h_deaths.csv\"), fp, 1024)\n",
    "\n",
    "\n",
    "# Datos por CCAA\n",
    "fp = open(\"data_ccaa_evolution_confirmed.csv\", 'rb')\n",
    "ftp.storbinary('STOR %s' % os.path.basename(\"data_ccaa_evolution_confirmed.csv\"), fp, 1024)\n",
    "\n",
    "fp = open(\"data_ccaa_evolution_deaths.csv\", 'rb')\n",
    "ftp.storbinary('STOR %s' % os.path.basename(\"data_ccaa_evolution_deaths.csv\"), fp, 1024)\n",
    "\n",
    "fp = open(\"data_ccaa_evolution_recovered.csv\", 'rb')\n",
    "ftp.storbinary('STOR %s' % os.path.basename(\"data_ccaa_evolution_recovered.csv\"), fp, 1024)\n",
    "\n",
    "fp = open(\"data_ccaa_confirmed_recovered_deaths.csv\", 'rb')\n",
    "ftp.storbinary('STOR %s' % os.path.basename(\"data_ccaa_confirmed_recovered_deaths.csv\"), fp, 1024)\n",
    "\n",
    "fp = open(\"data_ccaa_newcases_confirmed_recovered_deaths.csv\", 'rb')\n",
    "ftp.storbinary('STOR %s' % os.path.basename(\"data_ccaa_newcases_confirmed_recovered_deaths.csv\"), fp, 1024)\n",
    "\n",
    "# Datos por grupos de edad\n",
    "fp = open(\"data_spain_ages_mujeres.csv\", 'rb')\n",
    "ftp.storbinary('STOR %s' % os.path.basename(\"data_spain_ages_mujeres.csv\"), fp, 1024)\n",
    "\n",
    "fp = open(\"data_spain_ages_hombres.csv\", 'rb')\n",
    "ftp.storbinary('STOR %s' % os.path.basename(\"data_spain_ages_hombres.csv\"), fp, 1024)\n",
    "\n",
    "fp = open(\"data_spain_ages_ambos.csv\", 'rb')\n",
    "ftp.storbinary('STOR %s' % os.path.basename(\"data_spain_ages_ambos.csv\"), fp, 1024)\n",
    "\n",
    "fp.close()\n",
    "\n",
    ""
   ]
  },
  {
   "cell_type": "code",
   "execution_count": null,
   "metadata": {},
   "outputs": [],
   "source": []
  }
 ],
 "metadata": {
  "file_extension": ".py",
  "kernelspec": {
   "display_name": "Python 3",
   "language": "python",
   "name": "python3"
  },
  "language_info": {
   "codemirror_mode": {
    "name": "ipython",
    "version": 3
   },
   "file_extension": ".py",
   "mimetype": "text/x-python",
   "name": "python",
   "nbconvert_exporter": "python",
   "pygments_lexer": "ipython3",
   "version": "3.7.3-final"
  },
  "mimetype": "text/x-python",
  "name": "python",
  "npconvert_exporter": "python",
  "pygments_lexer": "ipython3",
  "version": 3
 },
 "nbformat": 4,
 "nbformat_minor": 4
}