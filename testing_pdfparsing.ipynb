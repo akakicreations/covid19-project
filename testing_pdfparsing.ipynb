{
 "nbformat": 4,
 "nbformat_minor": 2,
 "metadata": {
  "language_info": {
   "name": "python",
   "codemirror_mode": {
    "name": "ipython",
    "version": 3
   },
   "version": "3.7.3-final"
  },
  "orig_nbformat": 2,
  "file_extension": ".py",
  "mimetype": "text/x-python",
  "name": "python",
  "npconvert_exporter": "python",
  "pygments_lexer": "ipython3",
  "version": 3,
  "kernelspec": {
   "name": "python3",
   "display_name": "Python 3"
  }
 },
 "cells": [
  {
   "cell_type": "markdown",
   "metadata": {},
   "source": [
    "## Para descargar los PDFs"
   ]
  },
  {
   "cell_type": "code",
   "execution_count": 1,
   "metadata": {},
   "outputs": [],
   "source": [
    "import os\n",
    "import requests\n",
    "from bs4 import BeautifulSoup\n",
    "import re"
   ]
  },
  {
   "cell_type": "code",
   "execution_count": 10,
   "metadata": {},
   "outputs": [],
   "source": [
    "def download_file(url):\n",
    "    local_filename = url.split('/')[-1]\n",
    "    # NOTE the stream=True parameter below\n",
    "    with requests.get(url, stream=True) as r:\n",
    "        r.raise_for_status()\n",
    "        with open(local_filename, 'wb') as f:\n",
    "            for chunk in r.iter_content(chunk_size=8192): \n",
    "                if chunk: # filter out keep-alive new chunks\n",
    "                    f.write(chunk)\n",
    "                    # f.flush()\n",
    "    print(local_filename)\n",
    "    return local_filename"
   ]
  },
  {
   "cell_type": "code",
   "execution_count": 11,
   "metadata": {},
   "outputs": [],
   "source": [
    "DAILY_FOLDER = \"./pdf_files/\"\n",
    "ES_REPORT_URL = \"https://www.mscbs.gob.es/profesionales/saludPublica/ccayes/alertasActual/nCov-China/situacionActual.htm\"\n",
    "PDF_BASE_URL = \"https://www.mscbs.gob.es/profesionales/saludPublica/ccayes/alertasActual/nCov-China/\""
   ]
  },
  {
   "cell_type": "code",
   "execution_count": 12,
   "metadata": {},
   "outputs": [],
   "source": [
    "pdf_paths = get_file_names(ES_REPORT_URL)"
   ]
  },
  {
   "cell_type": "code",
   "execution_count": 13,
   "metadata": {},
   "outputs": [],
   "source": [
    "def get_file_names(url):\n",
    "    try:\n",
    "        req_page = requests.get(url, verify=True)\n",
    "    except Exception as e:\n",
    "        raise Exception(f\"Could not get web page content: {e}\")\n",
    "    \n",
    "    re_pdf = re.compile(r\"(documentos/.+?\\.pdf)\")\n",
    "\n",
    "    pdf_paths = list(set(re_pdf.findall(req_page.text)))\n",
    "    return pdf_paths"
   ]
  },
  {
   "cell_type": "code",
   "execution_count": 14,
   "metadata": {},
   "outputs": [],
   "source": [
    "pdf_paths = get_file_names(ES_REPORT_URL)\n",
    "pdf_paths = [PDF_BASE_URL+i for i in pdf_paths if \"Informacion_inicial_alerta\" not in i]"
   ]
  },
  {
   "cell_type": "code",
   "execution_count": 15,
   "metadata": {},
   "outputs": [],
   "source": [
    "for pdf_path in pdf_paths:\n",
    "        pdf_name = pdf_path.split(\"/\")[-1]\n",
    "        pdf_path_get = requests.get(pdf_path)\n",
    "        with open(\n",
    "            os.path.join(DAILY_FOLDER, pdf_name),\n",
    "            'wb'\n",
    "        ) as f:\n",
    "            f.write(pdf_path_get.content)"
   ]
  },
  {
   "cell_type": "code",
   "execution_count": 19,
   "metadata": {},
   "outputs": [
    {
     "output_type": "stream",
     "name": "stdout",
     "text": "Actualizacion_65_COVID-19.pdf\n"
    },
    {
     "output_type": "error",
     "ename": "HTTPError",
     "evalue": "404 Client Error: Not found for url: https://www.mscbs.gob.es/profesionales/saludPublica/ccayes/alertasActual/nCov-China/documentos/Actualizacion_66_COVID-19.pdf",
     "traceback": [
      "\u001b[0;31m---------------------------------------------------------------------------\u001b[0m",
      "\u001b[0;31mHTTPError\u001b[0m                                 Traceback (most recent call last)",
      "\u001b[0;32m<ipython-input-19-0564c1893d88>\u001b[0m in \u001b[0;36m<module>\u001b[0;34m\u001b[0m\n\u001b[1;32m      1\u001b[0m \u001b[0;32mfor\u001b[0m \u001b[0mi\u001b[0m \u001b[0;32min\u001b[0m \u001b[0mrange\u001b[0m\u001b[0;34m(\u001b[0m\u001b[0;36m64\u001b[0m\u001b[0;34m,\u001b[0m\u001b[0;36m80\u001b[0m\u001b[0;34m)\u001b[0m\u001b[0;34m:\u001b[0m\u001b[0;34m\u001b[0m\u001b[0;34m\u001b[0m\u001b[0m\n\u001b[1;32m      2\u001b[0m     \u001b[0mpath\u001b[0m \u001b[0;34m=\u001b[0m \u001b[0;34m'https://www.mscbs.gob.es/profesionales/saludPublica/ccayes/alertasActual/nCov-China/documentos/Actualizacion_{}_COVID-19.pdf'\u001b[0m\u001b[0;34m.\u001b[0m\u001b[0mformat\u001b[0m\u001b[0;34m(\u001b[0m\u001b[0mi\u001b[0m\u001b[0;34m+\u001b[0m\u001b[0;36m1\u001b[0m\u001b[0;34m)\u001b[0m\u001b[0;34m\u001b[0m\u001b[0;34m\u001b[0m\u001b[0m\n\u001b[0;32m----> 3\u001b[0;31m     \u001b[0mdownload_file\u001b[0m\u001b[0;34m(\u001b[0m\u001b[0mpath\u001b[0m\u001b[0;34m)\u001b[0m\u001b[0;34m\u001b[0m\u001b[0;34m\u001b[0m\u001b[0m\n\u001b[0m",
      "\u001b[0;32m<ipython-input-10-ce2b3f6a3e98>\u001b[0m in \u001b[0;36mdownload_file\u001b[0;34m(url)\u001b[0m\n\u001b[1;32m      3\u001b[0m     \u001b[0;31m# NOTE the stream=True parameter below\u001b[0m\u001b[0;34m\u001b[0m\u001b[0;34m\u001b[0m\u001b[0;34m\u001b[0m\u001b[0m\n\u001b[1;32m      4\u001b[0m     \u001b[0;32mwith\u001b[0m \u001b[0mrequests\u001b[0m\u001b[0;34m.\u001b[0m\u001b[0mget\u001b[0m\u001b[0;34m(\u001b[0m\u001b[0murl\u001b[0m\u001b[0;34m,\u001b[0m \u001b[0mstream\u001b[0m\u001b[0;34m=\u001b[0m\u001b[0;32mTrue\u001b[0m\u001b[0;34m)\u001b[0m \u001b[0;32mas\u001b[0m \u001b[0mr\u001b[0m\u001b[0;34m:\u001b[0m\u001b[0;34m\u001b[0m\u001b[0;34m\u001b[0m\u001b[0m\n\u001b[0;32m----> 5\u001b[0;31m         \u001b[0mr\u001b[0m\u001b[0;34m.\u001b[0m\u001b[0mraise_for_status\u001b[0m\u001b[0;34m(\u001b[0m\u001b[0;34m)\u001b[0m\u001b[0;34m\u001b[0m\u001b[0;34m\u001b[0m\u001b[0m\n\u001b[0m\u001b[1;32m      6\u001b[0m         \u001b[0;32mwith\u001b[0m \u001b[0mopen\u001b[0m\u001b[0;34m(\u001b[0m\u001b[0mlocal_filename\u001b[0m\u001b[0;34m,\u001b[0m \u001b[0;34m'wb'\u001b[0m\u001b[0;34m)\u001b[0m \u001b[0;32mas\u001b[0m \u001b[0mf\u001b[0m\u001b[0;34m:\u001b[0m\u001b[0;34m\u001b[0m\u001b[0;34m\u001b[0m\u001b[0m\n\u001b[1;32m      7\u001b[0m             \u001b[0;32mfor\u001b[0m \u001b[0mchunk\u001b[0m \u001b[0;32min\u001b[0m \u001b[0mr\u001b[0m\u001b[0;34m.\u001b[0m\u001b[0miter_content\u001b[0m\u001b[0;34m(\u001b[0m\u001b[0mchunk_size\u001b[0m\u001b[0;34m=\u001b[0m\u001b[0;36m8192\u001b[0m\u001b[0;34m)\u001b[0m\u001b[0;34m:\u001b[0m\u001b[0;34m\u001b[0m\u001b[0;34m\u001b[0m\u001b[0m\n",
      "\u001b[0;32m~/anaconda3/lib/python3.7/site-packages/requests/models.py\u001b[0m in \u001b[0;36mraise_for_status\u001b[0;34m(self)\u001b[0m\n\u001b[1;32m    939\u001b[0m \u001b[0;34m\u001b[0m\u001b[0m\n\u001b[1;32m    940\u001b[0m         \u001b[0;32mif\u001b[0m \u001b[0mhttp_error_msg\u001b[0m\u001b[0;34m:\u001b[0m\u001b[0;34m\u001b[0m\u001b[0;34m\u001b[0m\u001b[0m\n\u001b[0;32m--> 941\u001b[0;31m             \u001b[0;32mraise\u001b[0m \u001b[0mHTTPError\u001b[0m\u001b[0;34m(\u001b[0m\u001b[0mhttp_error_msg\u001b[0m\u001b[0;34m,\u001b[0m \u001b[0mresponse\u001b[0m\u001b[0;34m=\u001b[0m\u001b[0mself\u001b[0m\u001b[0;34m)\u001b[0m\u001b[0;34m\u001b[0m\u001b[0;34m\u001b[0m\u001b[0m\n\u001b[0m\u001b[1;32m    942\u001b[0m \u001b[0;34m\u001b[0m\u001b[0m\n\u001b[1;32m    943\u001b[0m     \u001b[0;32mdef\u001b[0m \u001b[0mclose\u001b[0m\u001b[0;34m(\u001b[0m\u001b[0mself\u001b[0m\u001b[0;34m)\u001b[0m\u001b[0;34m:\u001b[0m\u001b[0;34m\u001b[0m\u001b[0;34m\u001b[0m\u001b[0m\n",
      "\u001b[0;31mHTTPError\u001b[0m: 404 Client Error: Not found for url: https://www.mscbs.gob.es/profesionales/saludPublica/ccayes/alertasActual/nCov-China/documentos/Actualizacion_66_COVID-19.pdf"
     ]
    }
   ],
   "source": [
    "for i in range(64,80):\n",
    "    path = 'https://www.mscbs.gob.es/profesionales/saludPublica/ccayes/alertasActual/nCov-China/documentos/Actualizacion_{}_COVID-19.pdf'.format(i+1)\n",
    "    download_file(path)"
   ]
  },
  {
   "cell_type": "code",
   "execution_count": 21,
   "metadata": {},
   "outputs": [],
   "source": [
    "lst_files = [file for file in os.listdir() if 'Act' in file]\n",
    "if os.path.isdir(\"./pdf_data/\"):\n",
    "    for f in lst_files:\n",
    "        os.rename(\"./{}\".format(f), \"./pdf_files/{}\".format(f))\n",
    "else:\n",
    "    os.mkdir(\"./pdf_data/\")\n",
    "    for f in lst_files:\n",
    "        os.rename(\"./{}\".format(f), \"./pdf_files/{}\".format(f))"
   ]
  },
  {
   "cell_type": "code",
   "execution_count": 18,
   "metadata": {},
   "outputs": [],
   "source": [
    "import tabula\n",
    "from tabula import read_pdf\n",
    "df = tabula.read_pdf(\"pdf_files/Actualizacion_65_COVID-19.pdf\", stream=True, pages=1)[0] \n",
    "df.columns = ['Comunidades Autónomas', 'Casos totales', 'IA','Hospitalizados', 'UCI', 'Fallecidos', 'Curados', 'Nuevos casos (24h)']"
   ]
  },
  {
   "cell_type": "code",
   "execution_count": 23,
   "metadata": {},
   "outputs": [
    {
     "output_type": "execute_result",
     "data": {
      "text/plain": "'04/04'"
     },
     "metadata": {},
     "execution_count": 23
    }
   ],
   "source": [
    "from datetime import datetime, timedelta\n",
    "from datetime import date\n",
    "date_today= date.today().strftime('%d/%m')\n",
    "date_today"
   ]
  },
  {
   "cell_type": "code",
   "execution_count": 19,
   "metadata": {},
   "outputs": [
    {
     "output_type": "execute_result",
     "data": {
      "text/plain": "                      Casos totales Fallecidos Hospitalizados Curados  \\\nComunidades Autónomas                                                   \nAndalucía                     7.869        426          3.896     463   \nAragón                        3.078        251          1.505     440   \nAsturias                      1.522         76            766     190   \nBaleares                      1.271         71            634     422   \nCanarias                      1.564         78            632     123   \nCantabria                     1.384         68            619      99   \nCastilla La Mancha            9.324        989          3.133     657   \nCastilla y León               8.332        786          2.664   2.021   \nCataluña                     24.734      2.508         17.678   8.635   \nCeuta                            73          1              8       2   \nC. Valenciana                 6.901        571          1.977     695   \nExtremadura                   1.979        208            453     205   \nGalicia                       5.625        159          1.767     531   \nMadrid                       36.249      4.723         14.741  15.362   \nMelilla                          79          2             37       9   \nMurcia                        1.188         51            434     113   \nNavarra                       2.972        171          1.341     311   \nPaís Vasco                    8.187        477          4.522   3.098   \nLa Rioja                      2.405        128            805     843   \n\n                      Nuevos casos (24h)  \nComunidades Autónomas                     \nAndalucía                            495  \nAragón                               189  \nAsturias                              89  \nBaleares                              14  \nCanarias                              74  \nCantabria                             63  \nCastilla La Mancha                   801  \nCastilla y León                      457  \nCataluña                           1.274  \nCeuta                                 11  \nC. Valenciana                        277  \nExtremadura                           86  \nGalicia                              406  \nMadrid                             2.061  \nMelilla                                9  \nMurcia                                43  \nNavarra                              136  \nPaís Vasco                           360  \nLa Rioja                             181  ",
      "text/html": "<div>\n<style scoped>\n    .dataframe tbody tr th:only-of-type {\n        vertical-align: middle;\n    }\n\n    .dataframe tbody tr th {\n        vertical-align: top;\n    }\n\n    .dataframe thead th {\n        text-align: right;\n    }\n</style>\n<table border=\"1\" class=\"dataframe\">\n  <thead>\n    <tr style=\"text-align: right;\">\n      <th></th>\n      <th>Casos totales</th>\n      <th>Fallecidos</th>\n      <th>Hospitalizados</th>\n      <th>Curados</th>\n      <th>Nuevos casos (24h)</th>\n    </tr>\n    <tr>\n      <th>Comunidades Autónomas</th>\n      <th></th>\n      <th></th>\n      <th></th>\n      <th></th>\n      <th></th>\n    </tr>\n  </thead>\n  <tbody>\n    <tr>\n      <th>Andalucía</th>\n      <td>7.869</td>\n      <td>426</td>\n      <td>3.896</td>\n      <td>463</td>\n      <td>495</td>\n    </tr>\n    <tr>\n      <th>Aragón</th>\n      <td>3.078</td>\n      <td>251</td>\n      <td>1.505</td>\n      <td>440</td>\n      <td>189</td>\n    </tr>\n    <tr>\n      <th>Asturias</th>\n      <td>1.522</td>\n      <td>76</td>\n      <td>766</td>\n      <td>190</td>\n      <td>89</td>\n    </tr>\n    <tr>\n      <th>Baleares</th>\n      <td>1.271</td>\n      <td>71</td>\n      <td>634</td>\n      <td>422</td>\n      <td>14</td>\n    </tr>\n    <tr>\n      <th>Canarias</th>\n      <td>1.564</td>\n      <td>78</td>\n      <td>632</td>\n      <td>123</td>\n      <td>74</td>\n    </tr>\n    <tr>\n      <th>Cantabria</th>\n      <td>1.384</td>\n      <td>68</td>\n      <td>619</td>\n      <td>99</td>\n      <td>63</td>\n    </tr>\n    <tr>\n      <th>Castilla La Mancha</th>\n      <td>9.324</td>\n      <td>989</td>\n      <td>3.133</td>\n      <td>657</td>\n      <td>801</td>\n    </tr>\n    <tr>\n      <th>Castilla y León</th>\n      <td>8.332</td>\n      <td>786</td>\n      <td>2.664</td>\n      <td>2.021</td>\n      <td>457</td>\n    </tr>\n    <tr>\n      <th>Cataluña</th>\n      <td>24.734</td>\n      <td>2.508</td>\n      <td>17.678</td>\n      <td>8.635</td>\n      <td>1.274</td>\n    </tr>\n    <tr>\n      <th>Ceuta</th>\n      <td>73</td>\n      <td>1</td>\n      <td>8</td>\n      <td>2</td>\n      <td>11</td>\n    </tr>\n    <tr>\n      <th>C. Valenciana</th>\n      <td>6.901</td>\n      <td>571</td>\n      <td>1.977</td>\n      <td>695</td>\n      <td>277</td>\n    </tr>\n    <tr>\n      <th>Extremadura</th>\n      <td>1.979</td>\n      <td>208</td>\n      <td>453</td>\n      <td>205</td>\n      <td>86</td>\n    </tr>\n    <tr>\n      <th>Galicia</th>\n      <td>5.625</td>\n      <td>159</td>\n      <td>1.767</td>\n      <td>531</td>\n      <td>406</td>\n    </tr>\n    <tr>\n      <th>Madrid</th>\n      <td>36.249</td>\n      <td>4.723</td>\n      <td>14.741</td>\n      <td>15.362</td>\n      <td>2.061</td>\n    </tr>\n    <tr>\n      <th>Melilla</th>\n      <td>79</td>\n      <td>2</td>\n      <td>37</td>\n      <td>9</td>\n      <td>9</td>\n    </tr>\n    <tr>\n      <th>Murcia</th>\n      <td>1.188</td>\n      <td>51</td>\n      <td>434</td>\n      <td>113</td>\n      <td>43</td>\n    </tr>\n    <tr>\n      <th>Navarra</th>\n      <td>2.972</td>\n      <td>171</td>\n      <td>1.341</td>\n      <td>311</td>\n      <td>136</td>\n    </tr>\n    <tr>\n      <th>País Vasco</th>\n      <td>8.187</td>\n      <td>477</td>\n      <td>4.522</td>\n      <td>3.098</td>\n      <td>360</td>\n    </tr>\n    <tr>\n      <th>La Rioja</th>\n      <td>2.405</td>\n      <td>128</td>\n      <td>805</td>\n      <td>843</td>\n      <td>181</td>\n    </tr>\n  </tbody>\n</table>\n</div>"
     },
     "metadata": {},
     "execution_count": 19
    }
   ],
   "source": [
    "df = df[['Comunidades Autónomas', 'Casos totales', 'Fallecidos', 'Hospitalizados', 'Curados', 'Nuevos casos (24h)']]\n",
    "df = df.iloc[4:23]\n",
    "\n",
    "#Quitar símbolos raros qye nos sobran\n",
    "df['Comunidades Autónomas'] = df['Comunidades Autónomas'].str.replace('¥', '')\n",
    "df['Casos totales'] = df['Casos totales'].str.replace('¥', '')\n",
    "df['Hospitalizados'] = df['Hospitalizados'].str.replace('¥', '')\n",
    "df['Fallecidos'] = df['Fallecidos'].str.replace('¥', '')\n",
    "df['Curados'] = df['Curados'].str.replace('¥', '')\n",
    "df['Nuevos casos (24h)'] = df['Nuevos casos (24h)'].str.replace('¥', '')\n",
    "df = df.set_index('Comunidades Autónomas')\n",
    "df\n",
    ""
   ]
  },
  {
   "cell_type": "code",
   "execution_count": null,
   "metadata": {},
   "outputs": [],
   "source": [
    "\n",
    "# df['Comunidades Autónomas'] = df['Comunidades Autónomas'].str.replace(',', '')\n",
    "\n",
    "# pass them to df.replace(), specifying each char and it's replacement:\n",
    "#\n",
    "# df[cols] = df[cols].replace({'\\$': '', ',': ''}, regex=True)\n",
    "df"
   ]
  }
 ]
}