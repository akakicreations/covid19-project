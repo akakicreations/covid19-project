{
 "cells": [
  {
   "cell_type": "markdown",
   "metadata": {},
   "source": [
    "# Ejercicio Covid-19"
   ]
  },
  {
   "cell_type": "code",
   "execution_count": 1,
   "metadata": {},
   "outputs": [
    {
     "output_type": "execute_result",
     "data": {
      "text/plain": "'2020-05-09'"
     },
     "metadata": {},
     "execution_count": 1
    }
   ],
   "source": [
    "import os\n",
    "import numpy as np\n",
    "import pandas as pd\n",
    "\n",
    "#Fechas de hoy(datos España) y ayer (datos inetrnacionales)\n",
    "from datetime import datetime, timedelta\n",
    "from datetime import date\n",
    "date_today = date.today()\n",
    "date_today_complete = date.today()\n",
    "date_daybefore = date_today - timedelta(days=1)\n",
    "date_today = date_today.strftime('%d/%m')\n",
    "date_daybefore2 = date_daybefore.strftime('%d/%m')\n",
    "\n",
    "date_today_large = date_today_complete.strftime('%Y-%m-%d')\n",
    "date_daybefore_large = date_daybefore.strftime('%Y-%m-%d')\n",
    "date_today_large"
   ]
  },
  {
   "cell_type": "markdown",
   "metadata": {},
   "source": [
    "## Traer los datos de Datadista"
   ]
  },
  {
   "cell_type": "code",
   "execution_count": 2,
   "metadata": {},
   "outputs": [
    {
     "output_type": "execute_result",
     "data": {
      "text/plain": "0      8779\n1      3006\n2      1012\n3      1395\n4      1342\n5      1862\n6      6062\n7      7317\n8     24063\n9       154\n10     8796\n11     2354\n12     7225\n13    39227\n14      108\n15     1767\n16     2917\n17    13985\n18     2581\nName: 2020-05-09, dtype: int64"
     },
     "metadata": {},
     "execution_count": 2
    }
   ],
   "source": [
    "data_ccaa_confirmed_timeseries = pd.read_csv(\"https://raw.githubusercontent.com/datadista/datasets/master/COVID%2019/ccaa_covid19_casos.csv\", sep = ',', encoding=\"utf-8\")\n",
    "\n",
    "data_ccaa_deaths_timeseries = pd.read_csv(\"https://raw.githubusercontent.com/datadista/datasets/master/COVID%2019/ccaa_covid19_fallecidos.csv\", sep = ',', encoding=\"utf-8\")\n",
    "\n",
    "data_ccaa_recovered_timeseries = pd.read_csv(\"https://raw.githubusercontent.com/datadista/datasets/master/COVID%2019/ccaa_covid19_altas.csv\", sep = ',', encoding=\"utf-8\")\n",
    "\n",
    "data_spain_datadista = pd.read_csv(\"https://raw.githubusercontent.com/datadista/datasets/master/COVID%2019/nacional_covid19.csv\")\n",
    "\n",
    "\n",
    "#Comprobar si están subidos los últimos datos, si no sale error es que hay datos.\n",
    "data_ccaa_recovered_timeseries[date_today_large]"
   ]
  },
  {
   "cell_type": "markdown",
   "metadata": {},
   "source": [
    "## RESUMEN: Resumen datos globales"
   ]
  },
  {
   "cell_type": "code",
   "execution_count": 3,
   "metadata": {},
   "outputs": [
    {
     "output_type": "stream",
     "name": "stdout",
     "text": "Confirmados  Curados  Fallecidos\nCasos totales en el mundo           3938064  1322050      274898\nNuevos casos en el mundo (24h)        92346    37309        5331\nCasos totales en España              262783   133952       26478\nNuevos casos en España (24h)            604     2804         179\n"
    }
   ],
   "source": [
    "# Función para obtener datos del mundo    \n",
    "'''\n",
    "def get_data_spain(url):    \n",
    "    data_spain = pd.read_csv(url)\n",
    "    data_spain = data_spain.groupby(\"Country/Region\", as_index=False).sum()\n",
    "    data_spain = data_spain.set_index(\"Country/Region\").transpose()\n",
    "    data_spain = data_spain['Spain']\n",
    "    data_spain_actual = int(data_spain.iloc[-1])\n",
    "    data_spain_before = int(data_spain.iloc[-2])\n",
    "    data_spain_24h = data_spain_actual - data_spain_before\n",
    "    return data_spain_24h, data_spain_actual\n",
    "'''\n",
    "\n",
    "def get_data_world(url):    \n",
    "    data_world = pd.read_csv(url)\n",
    "    data_world = data_world.groupby(\"Country/Region\", as_index=False).sum()\n",
    "    data_world = data_world.set_index(\"Country/Region\").transpose()\n",
    "    data_world_actual = int(data_world.sum(axis=1).iloc[-1])\n",
    "    data_world_before = int(data_world.sum(axis=1).iloc[-2])\n",
    "    data_world_24h = data_world_actual - data_world_before\n",
    "    return data_world_24h, data_world_actual\n",
    "\n",
    "data_confirmed_path = \"COVID-19/csse_covid_19_data/csse_covid_19_time_series/time_series_covid19_confirmed_global.csv\"\n",
    "data_deaths_path = \"COVID-19/csse_covid_19_data/csse_covid_19_time_series/time_series_covid19_deaths_global.csv\"\n",
    "data_recovered_path = \"COVID-19/csse_covid_19_data/csse_covid_19_time_series/time_series_covid19_recovered_global.csv\"\n",
    "\n",
    "\n",
    "# Para el mundo\n",
    "data_confirmed_world_24h, data_confirmed_world_actual = get_data_world(data_confirmed_path)\n",
    "data_deaths_world_24h, data_deaths_world_actual = get_data_world(data_deaths_path)\n",
    "data_recovered_world_24h, data_recovered_world_actual = get_data_world(data_recovered_path)\n",
    "\n",
    "''' Cogiendo datos de John Hopkins\n",
    "# Para España\n",
    "data_confirmed_spain_24h, data_confirmed_spain_actual = get_data_spain(data_confirmed_path)\n",
    "data_deaths_spain_24h, data_deaths_spain_actual = get_data_spain(data_deaths_path)\n",
    "data_recovered_spain_24h, data_recovered_spain_actual = get_data_spain(data_recovered_path)\n",
    "'''\n",
    "\n",
    "# Para España actual(dataset de datadista)\n",
    "data_confirmed_spain_actual = int(data_ccaa_confirmed_timeseries[date_today_large].sum())\n",
    "data_recovered_spain_actual = int(data_ccaa_recovered_timeseries[date_today_large].sum())\n",
    "data_deaths_spain_actual = int(data_ccaa_deaths_timeseries[date_today_large].sum())\n",
    "\n",
    "\n",
    "# Para España nuevos casos 24h(dataset de datadista)\n",
    "data_spain_datadista_trans = data_spain_datadista.set_index('fecha').transpose()\n",
    "data_spain_datadista_confirmed = data_spain_datadista_trans.iloc[1]\n",
    "data_spain_datadista_recovered = data_spain_datadista_trans.iloc[3]\n",
    "data_spain_datadista_deaths = data_spain_datadista_trans.iloc[4]\n",
    "data_confirmed_spain_24h = int(data_spain_datadista_confirmed[date_today_large]) - int(data_spain_datadista_confirmed[date_daybefore_large])\n",
    "data_recovered_spain_24h = int(data_spain_datadista_recovered[date_today_large]) - int(data_spain_datadista_recovered[date_daybefore_large])\n",
    "data_deaths_spain_24h= int(data_spain_datadista_deaths[date_today_large]) - int(data_spain_datadista_deaths[date_daybefore_large])\n",
    "\n",
    "# Creamos dataframes\n",
    "\n",
    "data_spain_resume_actual = pd.DataFrame({'Confirmados': data_confirmed_spain_actual,\n",
    "                                    'Curados': data_recovered_spain_actual, \n",
    "                                    'Fallecidos': data_deaths_spain_actual}, \n",
    "                                   index=['Casos totales en España'])\n",
    "\n",
    "data_spain_newcases = pd.DataFrame({'Confirmados': data_confirmed_spain_24h,\n",
    "                                    'Curados': data_recovered_spain_24h, \n",
    "                                    'Fallecidos': data_deaths_spain_24h}, \n",
    "                                   index=['Nuevos casos en España (24h)'])\n",
    "\n",
    "\n",
    "data_world_newcases = pd.DataFrame({'Confirmados': data_confirmed_world_24h,\n",
    "                                    'Curados': data_recovered_world_24h, \n",
    "                                    'Fallecidos': data_deaths_world_24h}, \n",
    "                                   index=['Nuevos casos en el mundo (24h)'])\n",
    "\n",
    "data_world_resume_actual = pd.DataFrame({'Confirmados': data_confirmed_world_actual,\n",
    "                                    'Curados': data_recovered_world_actual, \n",
    "                                    'Fallecidos': data_deaths_world_actual}, \n",
    "                                   index=['Casos totales en el mundo'])\n",
    "\n",
    "########### Junto los datos anteriores en una tabla\n",
    "data_resume_final = pd.concat([data_world_resume_actual, data_world_newcases, data_spain_resume_actual, data_spain_newcases])\n",
    "\n",
    "data_resume_final.to_csv('data_world_resume.csv', sep = ';')\n",
    "print(data_resume_final)"
   ]
  },
  {
   "cell_type": "markdown",
   "metadata": {},
   "source": [
    "## MUNDO: Preparación general de datos por países"
   ]
  },
  {
   "cell_type": "code",
   "execution_count": 4,
   "metadata": {},
   "outputs": [
    {
     "output_type": "execute_result",
     "data": {
      "text/plain": "Country/Region    China    France   Germany      Iran     Italy  Korea, South  \\\n2020-05-04      83966.0  169583.0  166152.0   98647.0  211938.0       10804.0   \n2020-05-05      83968.0  170687.0  167007.0   99970.0  213013.0       10806.0   \n2020-05-06      83970.0  174224.0  168162.0  101650.0  214457.0       10810.0   \n2020-05-07      83975.0  174918.0  169430.0  103135.0  215858.0       10822.0   \n2020-05-08      83976.0  176202.0  170588.0  104691.0  217185.0       10840.0   \n\nCountry/Region  Norway     Spain         US  United Kingdom  \n2020-05-04      7904.0  218011.0  1180375.0        191832.0  \n2020-05-05      7955.0  219329.0  1204351.0        196243.0  \n2020-05-06      7996.0  220325.0  1228603.0        202359.0  \n2020-05-07      8034.0  221447.0  1257023.0        207977.0  \n2020-05-08      8070.0  222857.0  1283929.0        212629.0  ",
      "text/html": "<div>\n<style scoped>\n    .dataframe tbody tr th:only-of-type {\n        vertical-align: middle;\n    }\n\n    .dataframe tbody tr th {\n        vertical-align: top;\n    }\n\n    .dataframe thead th {\n        text-align: right;\n    }\n</style>\n<table border=\"1\" class=\"dataframe\">\n  <thead>\n    <tr style=\"text-align: right;\">\n      <th>Country/Region</th>\n      <th>China</th>\n      <th>France</th>\n      <th>Germany</th>\n      <th>Iran</th>\n      <th>Italy</th>\n      <th>Korea, South</th>\n      <th>Norway</th>\n      <th>Spain</th>\n      <th>US</th>\n      <th>United Kingdom</th>\n    </tr>\n  </thead>\n  <tbody>\n    <tr>\n      <th>2020-05-04</th>\n      <td>83966.0</td>\n      <td>169583.0</td>\n      <td>166152.0</td>\n      <td>98647.0</td>\n      <td>211938.0</td>\n      <td>10804.0</td>\n      <td>7904.0</td>\n      <td>218011.0</td>\n      <td>1180375.0</td>\n      <td>191832.0</td>\n    </tr>\n    <tr>\n      <th>2020-05-05</th>\n      <td>83968.0</td>\n      <td>170687.0</td>\n      <td>167007.0</td>\n      <td>99970.0</td>\n      <td>213013.0</td>\n      <td>10806.0</td>\n      <td>7955.0</td>\n      <td>219329.0</td>\n      <td>1204351.0</td>\n      <td>196243.0</td>\n    </tr>\n    <tr>\n      <th>2020-05-06</th>\n      <td>83970.0</td>\n      <td>174224.0</td>\n      <td>168162.0</td>\n      <td>101650.0</td>\n      <td>214457.0</td>\n      <td>10810.0</td>\n      <td>7996.0</td>\n      <td>220325.0</td>\n      <td>1228603.0</td>\n      <td>202359.0</td>\n    </tr>\n    <tr>\n      <th>2020-05-07</th>\n      <td>83975.0</td>\n      <td>174918.0</td>\n      <td>169430.0</td>\n      <td>103135.0</td>\n      <td>215858.0</td>\n      <td>10822.0</td>\n      <td>8034.0</td>\n      <td>221447.0</td>\n      <td>1257023.0</td>\n      <td>207977.0</td>\n    </tr>\n    <tr>\n      <th>2020-05-08</th>\n      <td>83976.0</td>\n      <td>176202.0</td>\n      <td>170588.0</td>\n      <td>104691.0</td>\n      <td>217185.0</td>\n      <td>10840.0</td>\n      <td>8070.0</td>\n      <td>222857.0</td>\n      <td>1283929.0</td>\n      <td>212629.0</td>\n    </tr>\n  </tbody>\n</table>\n</div>"
     },
     "metadata": {},
     "execution_count": 4
    }
   ],
   "source": [
    "# Datos https://github.com/CSSEGISandData/COVID-19.git\n",
    "data = pd.read_csv(\"COVID-19/csse_covid_19_data/csse_covid_19_time_series/time_series_covid19_confirmed_global.csv\" )\n",
    "\n",
    "#Saco un dataset con solo los países\n",
    "data_countries = data.groupby(\"Country/Region\", as_index=False).sum()\n",
    "\n",
    "# Hago transposición de los datos para mover las columnas en filas \n",
    "data_trans = data_countries.set_index('Country/Region').transpose()\n",
    "# Y me quedo sólo con los datos temporales y número de casos\n",
    "data_time = data_trans[2:]\n",
    "\n",
    "# Cogemos solo determinados países\n",
    "data_time = data_time[['China', 'France', 'Germany', 'Iran','Italy', 'Korea, South', 'Norway','Spain', 'US', 'United Kingdom']]\n",
    "\n",
    "#Hago listado de Countries\n",
    "list_countries = data_time.columns\n",
    "list_countries\n",
    "\n",
    "#Convierto la columna fecha en datetime\n",
    "from datetime import date\n",
    "data_time.index = pd.to_datetime(data_time.index)\n",
    "data_time.tail()\n"
   ]
  },
  {
   "cell_type": "markdown",
   "metadata": {},
   "source": [
    "## MUNDO: Confirmados, curados y fallecidos"
   ]
  },
  {
   "cell_type": "code",
   "execution_count": 5,
   "metadata": {},
   "outputs": [
    {
     "output_type": "execute_result",
     "data": {
      "text/plain": "                Confirmados   Curados  Fallecidos\nCountry/Region                                   \nChina               83976.0   78993.0      4637.0\nFrance             176202.0   55892.0     26233.0\nGermany            170588.0  141700.0      7510.0\nItaly              217185.0   99023.0     30201.0\nSpain              222857.0  131148.0     26299.0\nUS                1283929.0  198993.0     77180.0\nUnited Kingdom     212629.0     997.0     31316.0",
      "text/html": "<div>\n<style scoped>\n    .dataframe tbody tr th:only-of-type {\n        vertical-align: middle;\n    }\n\n    .dataframe tbody tr th {\n        vertical-align: top;\n    }\n\n    .dataframe thead th {\n        text-align: right;\n    }\n</style>\n<table border=\"1\" class=\"dataframe\">\n  <thead>\n    <tr style=\"text-align: right;\">\n      <th></th>\n      <th>Confirmados</th>\n      <th>Curados</th>\n      <th>Fallecidos</th>\n    </tr>\n    <tr>\n      <th>Country/Region</th>\n      <th></th>\n      <th></th>\n      <th></th>\n    </tr>\n  </thead>\n  <tbody>\n    <tr>\n      <th>China</th>\n      <td>83976.0</td>\n      <td>78993.0</td>\n      <td>4637.0</td>\n    </tr>\n    <tr>\n      <th>France</th>\n      <td>176202.0</td>\n      <td>55892.0</td>\n      <td>26233.0</td>\n    </tr>\n    <tr>\n      <th>Germany</th>\n      <td>170588.0</td>\n      <td>141700.0</td>\n      <td>7510.0</td>\n    </tr>\n    <tr>\n      <th>Italy</th>\n      <td>217185.0</td>\n      <td>99023.0</td>\n      <td>30201.0</td>\n    </tr>\n    <tr>\n      <th>Spain</th>\n      <td>222857.0</td>\n      <td>131148.0</td>\n      <td>26299.0</td>\n    </tr>\n    <tr>\n      <th>US</th>\n      <td>1283929.0</td>\n      <td>198993.0</td>\n      <td>77180.0</td>\n    </tr>\n    <tr>\n      <th>United Kingdom</th>\n      <td>212629.0</td>\n      <td>997.0</td>\n      <td>31316.0</td>\n    </tr>\n  </tbody>\n</table>\n</div>"
     },
     "metadata": {},
     "execution_count": 5
    }
   ],
   "source": [
    "######### Confirmados\n",
    "\n",
    "data_confirmed = pd.read_csv(\"COVID-19/csse_covid_19_data/csse_covid_19_time_series/time_series_covid19_confirmed_global.csv\" )\n",
    "#Saco un dataset con solo los países\n",
    "data_confirmed = data_confirmed.groupby(\"Country/Region\", as_index=False).sum()\n",
    "# Hago transposición de los datos para mover las columnas en filas \n",
    "data_confirmed = data_confirmed.set_index('Country/Region').transpose()\n",
    "# Y me quedo sólo con los datos temporales y número de casos\n",
    "data_confirmed = data_confirmed[2:]\n",
    "# Cogemos solo determinados países\n",
    "data_confirmed = data_confirmed[['China', 'France', 'Germany', 'Italy','Spain', 'US', 'United Kingdom']]\n",
    "data_confirmed = data_confirmed[-1:]\n",
    "\n",
    "######### Muertos\n",
    "\n",
    "data_deaths = pd.read_csv(\"COVID-19/csse_covid_19_data/csse_covid_19_time_series/time_series_covid19_deaths_global.csv\")\n",
    "#Saco un dataset con solo los países\n",
    "data_deaths = data_deaths.groupby(\"Country/Region\", as_index=False).sum()\n",
    "#Se ve que están todos y comprobado que suma\n",
    "data_deaths[::]\n",
    "# Hago transposición de los datos para mover las columnas en filas \n",
    "data_deaths = data_deaths.set_index('Country/Region').transpose()\n",
    "\n",
    "# Y me quedo sólo con los datos temporales y número de casos\n",
    "data_deaths = data_deaths[2:]\n",
    "data_deaths.tail()\n",
    "# Cogemos solo determinados países\n",
    "data_deaths = data_deaths[['China', 'France', 'Germany', 'Italy','Spain', 'US', 'United Kingdom']]\n",
    "data_deaths = data_deaths[-1:]\n",
    "\n",
    "######### Recuperados\n",
    "\n",
    "data_recovered = pd.read_csv(\"COVID-19/csse_covid_19_data/csse_covid_19_time_series/time_series_covid19_recovered_global.csv\" )\n",
    "#Saco un dataset con solo los países\n",
    "data_recovered = data_recovered.groupby(\"Country/Region\", as_index=False).sum()\n",
    "# Hago transposición de los datos para mover las columnas en filas \n",
    "data_recovered = data_recovered.set_index('Country/Region').transpose()\n",
    "# Y me quedo sólo con los datos temporales y número de casos\n",
    "data_recovered = data_recovered[2:]\n",
    "# Cogemos solo determinados países\n",
    "data_recovered = data_recovered[['China', 'France', 'Germany', 'Italy','Spain', 'US', 'United Kingdom']]\n",
    "data_recovered = data_recovered[-1:]\n",
    "\n",
    "######### Merge de datos\n",
    "\n",
    "# Saco la fecha:\n",
    "from datetime import datetime, timedelta\n",
    "date_today_intern = date.today()\n",
    "date_today_intern = date_today_intern.today() - timedelta(days=1) #Quito uno porque esta base de datos siempre muestra datos del día anterior\n",
    "date_today_intern = date_today_intern.strftime('%d/%m')\n",
    "\n",
    "#Juntar ahora datos\n",
    "data_columns = ['Confirmados', 'Curados', 'Fallecidos']\n",
    "\n",
    "data_together = pd.merge(data_confirmed, data_recovered, how='outer')\n",
    "data_together = pd.merge(data_together, data_deaths, how='outer')\n",
    "data_together.index = data_columns\n",
    "data_together_final = data_together.transpose()\n",
    "# data_together = data_together.reindex(columns =data_columns) \n",
    "# data_together = data_together.reindex(data_index)\n",
    "\n",
    "# Exporto CSV\n",
    "data_together_final.to_csv('data_world_actual.csv', sep = ';')\n",
    "data_together_final"
   ]
  },
  {
   "cell_type": "markdown",
   "metadata": {},
   "source": [
    "## MUNDO: Confirmados, curados y fallecidos por habitantes de población"
   ]
  },
  {
   "cell_type": "code",
   "execution_count": 6,
   "metadata": {},
   "outputs": [
    {
     "output_type": "execute_result",
     "data": {
      "text/plain": "Country/Region    China    France   Germany     Italy     Spain         US  \\\nConfirmados     83976.0  176202.0  170588.0  217185.0  222857.0  1283929.0   \nCurados         78993.0   55892.0  141700.0   99023.0  131148.0   198993.0   \nFallecidos       4637.0   26233.0    7510.0   30201.0   26299.0    77180.0   \n\nCountry/Region  United Kingdom  \nConfirmados           212629.0  \nCurados                  997.0  \nFallecidos             31316.0  ",
      "text/html": "<div>\n<style scoped>\n    .dataframe tbody tr th:only-of-type {\n        vertical-align: middle;\n    }\n\n    .dataframe tbody tr th {\n        vertical-align: top;\n    }\n\n    .dataframe thead th {\n        text-align: right;\n    }\n</style>\n<table border=\"1\" class=\"dataframe\">\n  <thead>\n    <tr style=\"text-align: right;\">\n      <th>Country/Region</th>\n      <th>China</th>\n      <th>France</th>\n      <th>Germany</th>\n      <th>Italy</th>\n      <th>Spain</th>\n      <th>US</th>\n      <th>United Kingdom</th>\n    </tr>\n  </thead>\n  <tbody>\n    <tr>\n      <th>Confirmados</th>\n      <td>83976.0</td>\n      <td>176202.0</td>\n      <td>170588.0</td>\n      <td>217185.0</td>\n      <td>222857.0</td>\n      <td>1283929.0</td>\n      <td>212629.0</td>\n    </tr>\n    <tr>\n      <th>Curados</th>\n      <td>78993.0</td>\n      <td>55892.0</td>\n      <td>141700.0</td>\n      <td>99023.0</td>\n      <td>131148.0</td>\n      <td>198993.0</td>\n      <td>997.0</td>\n    </tr>\n    <tr>\n      <th>Fallecidos</th>\n      <td>4637.0</td>\n      <td>26233.0</td>\n      <td>7510.0</td>\n      <td>30201.0</td>\n      <td>26299.0</td>\n      <td>77180.0</td>\n      <td>31316.0</td>\n    </tr>\n  </tbody>\n</table>\n</div>"
     },
     "metadata": {},
     "execution_count": 6
    }
   ],
   "source": [
    "data_together"
   ]
  },
  {
   "cell_type": "code",
   "execution_count": 7,
   "metadata": {},
   "outputs": [
    {
     "output_type": "execute_result",
     "data": {
      "text/plain": "Country/Region  China  France  Germany   Italy   Spain      US  United Kingdom\nConfirmados      60.0  2629.0   2055.0  3587.0  4748.0  3912.0          3190.0\nCurados          57.0   834.0   1707.0  1636.0  2794.0   606.0            15.0\nFallecidos        3.0   391.0     90.0   499.0   560.0   235.0           470.0",
      "text/html": "<div>\n<style scoped>\n    .dataframe tbody tr th:only-of-type {\n        vertical-align: middle;\n    }\n\n    .dataframe tbody tr th {\n        vertical-align: top;\n    }\n\n    .dataframe thead th {\n        text-align: right;\n    }\n</style>\n<table border=\"1\" class=\"dataframe\">\n  <thead>\n    <tr style=\"text-align: right;\">\n      <th>Country/Region</th>\n      <th>China</th>\n      <th>France</th>\n      <th>Germany</th>\n      <th>Italy</th>\n      <th>Spain</th>\n      <th>US</th>\n      <th>United Kingdom</th>\n    </tr>\n  </thead>\n  <tbody>\n    <tr>\n      <th>Confirmados</th>\n      <td>60.0</td>\n      <td>2629.0</td>\n      <td>2055.0</td>\n      <td>3587.0</td>\n      <td>4748.0</td>\n      <td>3912.0</td>\n      <td>3190.0</td>\n    </tr>\n    <tr>\n      <th>Curados</th>\n      <td>57.0</td>\n      <td>834.0</td>\n      <td>1707.0</td>\n      <td>1636.0</td>\n      <td>2794.0</td>\n      <td>606.0</td>\n      <td>15.0</td>\n    </tr>\n    <tr>\n      <th>Fallecidos</th>\n      <td>3.0</td>\n      <td>391.0</td>\n      <td>90.0</td>\n      <td>499.0</td>\n      <td>560.0</td>\n      <td>235.0</td>\n      <td>470.0</td>\n    </tr>\n  </tbody>\n</table>\n</div>"
     },
     "metadata": {},
     "execution_count": 7
    }
   ],
   "source": [
    "pob_wuhan = 11895000\n",
    "pob_china = 1393000000\n",
    "pob_france = 67028048\n",
    "pob_germany = 83019200\n",
    "pob_italy = 60541000\n",
    "pob_spain = 46940000\n",
    "pob_US = 328200000\n",
    "pob_UK = 66650000\n",
    "\n",
    "# Por cada millón de habitantes hay estos casos...\n",
    "data_together_den = data_together.copy()\n",
    "data_together_den['China'] = (data_together_den['China'] / pob_china)*1000000 # Por cada caso infectado hay 142 que no lo están\n",
    "data_together_den['France'] = (data_together_den['France'] / pob_france)*1000000 # Por cada caso infectado hay 455 que no lo están\n",
    "data_together_den['Germany'] = (data_together_den['Germany'] / pob_germany)*1000000  # Por cada caso infectado hay 455 que no lo están\n",
    "data_together_den['Italy'] = (data_together_den['Italy'] / pob_italy)*1000000\n",
    "data_together_den['Spain'] = (data_together_den['Spain'] / pob_spain)*1000000\n",
    "data_together_den['US'] = (data_together_den['US'] / pob_US)*1000000\n",
    "data_together_den['United Kingdom'] = (data_together_den['United Kingdom'] / pob_UK)*1000000\n",
    "data_together_den = data_together_den.round(0)\n",
    "# Exporto CSV\n",
    "data_together_den.to_csv('data_world_actual_den.csv', sep = ';')\n",
    "data_together_den"
   ]
  },
  {
   "cell_type": "markdown",
   "metadata": {},
   "source": [
    "## MUNDO: CSV : covid19_data_drive_from100.csv"
   ]
  },
  {
   "cell_type": "code",
   "execution_count": 8,
   "metadata": {},
   "outputs": [
    {
     "output_type": "execute_result",
     "data": {
      "text/plain": "    France    China  Germany  Iran  Italy  Korea, South  Norway  Spain  US  \\\n76     NaN  82718.0      NaN   NaN    NaN       10822.0     NaN    NaN NaN   \n77     NaN  82809.0      NaN   NaN    NaN       10840.0     NaN    NaN NaN   \n78     NaN  82883.0      NaN   NaN    NaN           NaN     NaN    NaN NaN   \n79     NaN  82941.0      NaN   NaN    NaN           NaN     NaN    NaN NaN   \n80     NaN  83014.0      NaN   NaN    NaN           NaN     NaN    NaN NaN   \n\n    United Kingdom  \n76             NaN  \n77             NaN  \n78             NaN  \n79             NaN  \n80             NaN  ",
      "text/html": "<div>\n<style scoped>\n    .dataframe tbody tr th:only-of-type {\n        vertical-align: middle;\n    }\n\n    .dataframe tbody tr th {\n        vertical-align: top;\n    }\n\n    .dataframe thead th {\n        text-align: right;\n    }\n</style>\n<table border=\"1\" class=\"dataframe\">\n  <thead>\n    <tr style=\"text-align: right;\">\n      <th></th>\n      <th>France</th>\n      <th>China</th>\n      <th>Germany</th>\n      <th>Iran</th>\n      <th>Italy</th>\n      <th>Korea, South</th>\n      <th>Norway</th>\n      <th>Spain</th>\n      <th>US</th>\n      <th>United Kingdom</th>\n    </tr>\n  </thead>\n  <tbody>\n    <tr>\n      <th>76</th>\n      <td>NaN</td>\n      <td>82718.0</td>\n      <td>NaN</td>\n      <td>NaN</td>\n      <td>NaN</td>\n      <td>10822.0</td>\n      <td>NaN</td>\n      <td>NaN</td>\n      <td>NaN</td>\n      <td>NaN</td>\n    </tr>\n    <tr>\n      <th>77</th>\n      <td>NaN</td>\n      <td>82809.0</td>\n      <td>NaN</td>\n      <td>NaN</td>\n      <td>NaN</td>\n      <td>10840.0</td>\n      <td>NaN</td>\n      <td>NaN</td>\n      <td>NaN</td>\n      <td>NaN</td>\n    </tr>\n    <tr>\n      <th>78</th>\n      <td>NaN</td>\n      <td>82883.0</td>\n      <td>NaN</td>\n      <td>NaN</td>\n      <td>NaN</td>\n      <td>NaN</td>\n      <td>NaN</td>\n      <td>NaN</td>\n      <td>NaN</td>\n      <td>NaN</td>\n    </tr>\n    <tr>\n      <th>79</th>\n      <td>NaN</td>\n      <td>82941.0</td>\n      <td>NaN</td>\n      <td>NaN</td>\n      <td>NaN</td>\n      <td>NaN</td>\n      <td>NaN</td>\n      <td>NaN</td>\n      <td>NaN</td>\n      <td>NaN</td>\n    </tr>\n    <tr>\n      <th>80</th>\n      <td>NaN</td>\n      <td>83014.0</td>\n      <td>NaN</td>\n      <td>NaN</td>\n      <td>NaN</td>\n      <td>NaN</td>\n      <td>NaN</td>\n      <td>NaN</td>\n      <td>NaN</td>\n      <td>NaN</td>\n    </tr>\n  </tbody>\n</table>\n</div>"
     },
     "metadata": {},
     "execution_count": 8
    }
   ],
   "source": [
    "# Coger solo datos del último mes\n",
    "data_time_30days = data_time[-200:]\n",
    "# Si quiero quitar China: data_time_filter = data_time_filter.drop('China', axis=1)\n",
    "\n",
    "#Exporto los datos en diferentes arhcivos con casa país\n",
    "for country in list_countries:\n",
    "    dataX = data_time_30days[country]\n",
    "    dataX = dataX[dataX > 200]\n",
    "    dataX.to_csv('data_' + country + \".csv\", index=False, header= country)\n",
    "\n",
    "# Lista dataframes\n",
    "# dataframes_list = ['dataframe_France', 'dataframe_China', 'dataframe_Germany', 'dataframe_Iran', 'dataframe_Italy', 'dataframe_Korea', 'dataframe_Norway', 'dataframe_Spain', 'dataframe_US', 'dataframe_UnitedKingdom']\n",
    "\n",
    "# Creamos los CSV\n",
    "dataframe_France = pd.read_csv('data_France.csv')\n",
    "dataframe_China = pd.read_csv('data_China.csv')\n",
    "dataframe_Germany = pd.read_csv('data_Germany.csv')\n",
    "dataframe_Iran = pd.read_csv('data_Iran.csv')\n",
    "dataframe_Italy = pd.read_csv('data_Italy.csv')\n",
    "dataframe_Korea = pd.read_csv('data_Korea, South.csv')\n",
    "dataframe_Norway = pd.read_csv('data_Norway.csv')\n",
    "dataframe_Spain = pd.read_csv('data_Spain.csv')\n",
    "dataframe_US = pd.read_csv('data_US.csv')\n",
    "dataframe_UnitedKingdom = pd.read_csv('data_United Kingdom.csv')\n",
    "\n",
    "#Les añadimos NaN al final y reindexamos\n",
    "new_index = np.arange(1,81)\n",
    "dataframe_France = dataframe_France.reindex(new_index)\n",
    "dataframe_China = dataframe_China.reindex(new_index)\n",
    "dataframe_Germany = dataframe_Germany.reindex(new_index)\n",
    "dataframe_Iran = dataframe_Iran.reindex(new_index)\n",
    "dataframe_Italy = dataframe_Italy.reindex(new_index)\n",
    "dataframe_Korea = dataframe_Korea.reindex(new_index)\n",
    "dataframe_Norway = dataframe_Norway.reindex(new_index)\n",
    "dataframe_Spain = dataframe_Spain.reindex(new_index)\n",
    "dataframe_US = dataframe_US.reindex(new_index)\n",
    "dataframe_UnitedKingdom = dataframe_UnitedKingdom.reindex(new_index)\n",
    "\n",
    "#Juntar dataframes y Exportar CSV completo\n",
    "data_drive_from100cases = dataframe_France.join([dataframe_China, dataframe_Germany, \n",
    "                                                 dataframe_Iran, dataframe_Italy, dataframe_Korea, \n",
    "                                                 dataframe_Norway, dataframe_Spain, dataframe_US,\n",
    "                                                 dataframe_UnitedKingdom])\n",
    "\n",
    "data_drive_from100cases.to_csv('data_world_from100.csv', sep = ';')\n",
    "data_drive_from100cases.tail()"
   ]
  },
  {
   "cell_type": "markdown",
   "metadata": {},
   "source": [
    "## MUNDO: CSV covid19_data_drive_days.csv"
   ]
  },
  {
   "cell_type": "code",
   "execution_count": 9,
   "metadata": {},
   "outputs": [
    {
     "output_type": "execute_result",
     "data": {
      "text/plain": "Country/Region    China    France   Germany      Iran     Italy  Korea, South  \\\n2020-05-04      83966.0  169583.0  166152.0   98647.0  211938.0       10804.0   \n2020-05-05      83968.0  170687.0  167007.0   99970.0  213013.0       10806.0   \n2020-05-06      83970.0  174224.0  168162.0  101650.0  214457.0       10810.0   \n2020-05-07      83975.0  174918.0  169430.0  103135.0  215858.0       10822.0   \n2020-05-08      83976.0  176202.0  170588.0  104691.0  217185.0       10840.0   \n\nCountry/Region  Norway     Spain         US  United Kingdom  \n2020-05-04      7904.0  218011.0  1180375.0        191832.0  \n2020-05-05      7955.0  219329.0  1204351.0        196243.0  \n2020-05-06      7996.0  220325.0  1228603.0        202359.0  \n2020-05-07      8034.0  221447.0  1257023.0        207977.0  \n2020-05-08      8070.0  222857.0  1283929.0        212629.0  ",
      "text/html": "<div>\n<style scoped>\n    .dataframe tbody tr th:only-of-type {\n        vertical-align: middle;\n    }\n\n    .dataframe tbody tr th {\n        vertical-align: top;\n    }\n\n    .dataframe thead th {\n        text-align: right;\n    }\n</style>\n<table border=\"1\" class=\"dataframe\">\n  <thead>\n    <tr style=\"text-align: right;\">\n      <th>Country/Region</th>\n      <th>China</th>\n      <th>France</th>\n      <th>Germany</th>\n      <th>Iran</th>\n      <th>Italy</th>\n      <th>Korea, South</th>\n      <th>Norway</th>\n      <th>Spain</th>\n      <th>US</th>\n      <th>United Kingdom</th>\n    </tr>\n  </thead>\n  <tbody>\n    <tr>\n      <th>2020-05-04</th>\n      <td>83966.0</td>\n      <td>169583.0</td>\n      <td>166152.0</td>\n      <td>98647.0</td>\n      <td>211938.0</td>\n      <td>10804.0</td>\n      <td>7904.0</td>\n      <td>218011.0</td>\n      <td>1180375.0</td>\n      <td>191832.0</td>\n    </tr>\n    <tr>\n      <th>2020-05-05</th>\n      <td>83968.0</td>\n      <td>170687.0</td>\n      <td>167007.0</td>\n      <td>99970.0</td>\n      <td>213013.0</td>\n      <td>10806.0</td>\n      <td>7955.0</td>\n      <td>219329.0</td>\n      <td>1204351.0</td>\n      <td>196243.0</td>\n    </tr>\n    <tr>\n      <th>2020-05-06</th>\n      <td>83970.0</td>\n      <td>174224.0</td>\n      <td>168162.0</td>\n      <td>101650.0</td>\n      <td>214457.0</td>\n      <td>10810.0</td>\n      <td>7996.0</td>\n      <td>220325.0</td>\n      <td>1228603.0</td>\n      <td>202359.0</td>\n    </tr>\n    <tr>\n      <th>2020-05-07</th>\n      <td>83975.0</td>\n      <td>174918.0</td>\n      <td>169430.0</td>\n      <td>103135.0</td>\n      <td>215858.0</td>\n      <td>10822.0</td>\n      <td>8034.0</td>\n      <td>221447.0</td>\n      <td>1257023.0</td>\n      <td>207977.0</td>\n    </tr>\n    <tr>\n      <th>2020-05-08</th>\n      <td>83976.0</td>\n      <td>176202.0</td>\n      <td>170588.0</td>\n      <td>104691.0</td>\n      <td>217185.0</td>\n      <td>10840.0</td>\n      <td>8070.0</td>\n      <td>222857.0</td>\n      <td>1283929.0</td>\n      <td>212629.0</td>\n    </tr>\n  </tbody>\n</table>\n</div>"
     },
     "metadata": {},
     "execution_count": 9
    }
   ],
   "source": [
    "# Coger solo datos de últimos 60 días\n",
    "data_time_Xdays = data_time[-30:]\n",
    "\n",
    "#Exportar CSV por días progresivos\n",
    "data_drive_lastX = data_time_Xdays.loc[:,list_countries]\n",
    "data_drive_lastX.to_csv('data_world_timeline.csv', sep = ';', encoding=\"utf-8\")\n",
    "data_drive_lastX.tail()\n"
   ]
  },
  {
   "cell_type": "markdown",
   "metadata": {},
   "source": [
    "## ESPAÑA: Resumen datos España: data_spain_newcases24h.csv"
   ]
  },
  {
   "cell_type": "code",
   "execution_count": 10,
   "metadata": {},
   "outputs": [
    {
     "output_type": "execute_result",
     "data": {
      "text/plain": "         fecha  casos_total  casos_pcr  casos_test_ac     altas  \\\n0   2020-02-21            2          2            NaN       NaN   \n1   2020-02-22            2          2            NaN       NaN   \n2   2020-02-23            2          2            NaN       NaN   \n3   2020-02-24            2          2            NaN       NaN   \n4   2020-02-25            3          3            NaN       NaN   \n..         ...          ...        ...            ...       ...   \n74  2020-05-05       251320     220078        31242.0  123486.0   \n75  2020-05-06       254313     220951        33362.0  126002.0   \n76  2020-05-07       257255     221847        35408.0  128511.0   \n77  2020-05-08       260234     222974        37260.0  131148.0   \n78  2020-05-09       262783     223578        39205.0  133952.0   \n\n    fallecimientos  ingresos_uci  hospitalizados  \n0              NaN           NaN             NaN  \n1              NaN           NaN             NaN  \n2              NaN           NaN             NaN  \n3              NaN           NaN             NaN  \n4              NaN           NaN             NaN  \n..             ...           ...             ...  \n74         25613.0       11031.0        119609.0  \n75         25857.0       11082.0        120466.0  \n76         26070.0       11137.0        121014.0  \n77         26299.0       11222.0        121776.0  \n78         26478.0       11292.0        122265.0  \n\n[79 rows x 8 columns]",
      "text/html": "<div>\n<style scoped>\n    .dataframe tbody tr th:only-of-type {\n        vertical-align: middle;\n    }\n\n    .dataframe tbody tr th {\n        vertical-align: top;\n    }\n\n    .dataframe thead th {\n        text-align: right;\n    }\n</style>\n<table border=\"1\" class=\"dataframe\">\n  <thead>\n    <tr style=\"text-align: right;\">\n      <th></th>\n      <th>fecha</th>\n      <th>casos_total</th>\n      <th>casos_pcr</th>\n      <th>casos_test_ac</th>\n      <th>altas</th>\n      <th>fallecimientos</th>\n      <th>ingresos_uci</th>\n      <th>hospitalizados</th>\n    </tr>\n  </thead>\n  <tbody>\n    <tr>\n      <th>0</th>\n      <td>2020-02-21</td>\n      <td>2</td>\n      <td>2</td>\n      <td>NaN</td>\n      <td>NaN</td>\n      <td>NaN</td>\n      <td>NaN</td>\n      <td>NaN</td>\n    </tr>\n    <tr>\n      <th>1</th>\n      <td>2020-02-22</td>\n      <td>2</td>\n      <td>2</td>\n      <td>NaN</td>\n      <td>NaN</td>\n      <td>NaN</td>\n      <td>NaN</td>\n      <td>NaN</td>\n    </tr>\n    <tr>\n      <th>2</th>\n      <td>2020-02-23</td>\n      <td>2</td>\n      <td>2</td>\n      <td>NaN</td>\n      <td>NaN</td>\n      <td>NaN</td>\n      <td>NaN</td>\n      <td>NaN</td>\n    </tr>\n    <tr>\n      <th>3</th>\n      <td>2020-02-24</td>\n      <td>2</td>\n      <td>2</td>\n      <td>NaN</td>\n      <td>NaN</td>\n      <td>NaN</td>\n      <td>NaN</td>\n      <td>NaN</td>\n    </tr>\n    <tr>\n      <th>4</th>\n      <td>2020-02-25</td>\n      <td>3</td>\n      <td>3</td>\n      <td>NaN</td>\n      <td>NaN</td>\n      <td>NaN</td>\n      <td>NaN</td>\n      <td>NaN</td>\n    </tr>\n    <tr>\n      <th>...</th>\n      <td>...</td>\n      <td>...</td>\n      <td>...</td>\n      <td>...</td>\n      <td>...</td>\n      <td>...</td>\n      <td>...</td>\n      <td>...</td>\n    </tr>\n    <tr>\n      <th>74</th>\n      <td>2020-05-05</td>\n      <td>251320</td>\n      <td>220078</td>\n      <td>31242.0</td>\n      <td>123486.0</td>\n      <td>25613.0</td>\n      <td>11031.0</td>\n      <td>119609.0</td>\n    </tr>\n    <tr>\n      <th>75</th>\n      <td>2020-05-06</td>\n      <td>254313</td>\n      <td>220951</td>\n      <td>33362.0</td>\n      <td>126002.0</td>\n      <td>25857.0</td>\n      <td>11082.0</td>\n      <td>120466.0</td>\n    </tr>\n    <tr>\n      <th>76</th>\n      <td>2020-05-07</td>\n      <td>257255</td>\n      <td>221847</td>\n      <td>35408.0</td>\n      <td>128511.0</td>\n      <td>26070.0</td>\n      <td>11137.0</td>\n      <td>121014.0</td>\n    </tr>\n    <tr>\n      <th>77</th>\n      <td>2020-05-08</td>\n      <td>260234</td>\n      <td>222974</td>\n      <td>37260.0</td>\n      <td>131148.0</td>\n      <td>26299.0</td>\n      <td>11222.0</td>\n      <td>121776.0</td>\n    </tr>\n    <tr>\n      <th>78</th>\n      <td>2020-05-09</td>\n      <td>262783</td>\n      <td>223578</td>\n      <td>39205.0</td>\n      <td>133952.0</td>\n      <td>26478.0</td>\n      <td>11292.0</td>\n      <td>122265.0</td>\n    </tr>\n  </tbody>\n</table>\n<p>79 rows × 8 columns</p>\n</div>"
     },
     "metadata": {},
     "execution_count": 10
    }
   ],
   "source": [
    "data_spain_datadista"
   ]
  },
  {
   "cell_type": "code",
   "execution_count": 11,
   "metadata": {},
   "outputs": [
    {
     "output_type": "execute_result",
     "data": {
      "text/plain": "                             2020-03-30  2020-03-31  2020-04-01  2020-04-02  \\\nConfirmados (24h) en España        8146        7412        7576        7259   \nRecuperados (24h) en España        2103        3097        3486        3031   \nFallecidos (24h) en España          820         929         877         845   \n\n                             2020-04-03  2020-04-04  2020-04-05  2020-04-06  \\\nConfirmados (24h) en España        6667        5531        3667        5254   \nRecuperados (24h) en España        3633        3528        2022        2897   \nFallecidos (24h) en España          780         670         628         757   \n\n                             2020-04-07  2020-04-08  ...  2020-04-29  \\\nConfirmados (24h) en España        5596        5794  ...        3159   \nRecuperados (24h) en España        4471        4025  ...        3103   \nFallecidos (24h) en España          757         781  ...         268   \n\n                             2020-04-30  2020-05-01  2020-05-02  2020-05-03  \\\nConfirmados (24h) en España        3266        2470        1586         998   \nRecuperados (24h) en España        2628        2570        1654        2441   \nFallecidos (24h) en España          281         276         164         164   \n\n                             2020-05-04  2020-05-05  2020-05-06  2020-05-07  \\\nConfirmados (24h) en España        1969        2993        2942        2979   \nRecuperados (24h) en España        2143        2516        2509        2637   \nFallecidos (24h) en España          185         244         213         229   \n\n                             2020-05-08  \nConfirmados (24h) en España        2549  \nRecuperados (24h) en España        2804  \nFallecidos (24h) en España          179  \n\n[3 rows x 40 columns]",
      "text/html": "<div>\n<style scoped>\n    .dataframe tbody tr th:only-of-type {\n        vertical-align: middle;\n    }\n\n    .dataframe tbody tr th {\n        vertical-align: top;\n    }\n\n    .dataframe thead th {\n        text-align: right;\n    }\n</style>\n<table border=\"1\" class=\"dataframe\">\n  <thead>\n    <tr style=\"text-align: right;\">\n      <th></th>\n      <th>2020-03-30</th>\n      <th>2020-03-31</th>\n      <th>2020-04-01</th>\n      <th>2020-04-02</th>\n      <th>2020-04-03</th>\n      <th>2020-04-04</th>\n      <th>2020-04-05</th>\n      <th>2020-04-06</th>\n      <th>2020-04-07</th>\n      <th>2020-04-08</th>\n      <th>...</th>\n      <th>2020-04-29</th>\n      <th>2020-04-30</th>\n      <th>2020-05-01</th>\n      <th>2020-05-02</th>\n      <th>2020-05-03</th>\n      <th>2020-05-04</th>\n      <th>2020-05-05</th>\n      <th>2020-05-06</th>\n      <th>2020-05-07</th>\n      <th>2020-05-08</th>\n    </tr>\n  </thead>\n  <tbody>\n    <tr>\n      <th>Confirmados (24h) en España</th>\n      <td>8146</td>\n      <td>7412</td>\n      <td>7576</td>\n      <td>7259</td>\n      <td>6667</td>\n      <td>5531</td>\n      <td>3667</td>\n      <td>5254</td>\n      <td>5596</td>\n      <td>5794</td>\n      <td>...</td>\n      <td>3159</td>\n      <td>3266</td>\n      <td>2470</td>\n      <td>1586</td>\n      <td>998</td>\n      <td>1969</td>\n      <td>2993</td>\n      <td>2942</td>\n      <td>2979</td>\n      <td>2549</td>\n    </tr>\n    <tr>\n      <th>Recuperados (24h) en España</th>\n      <td>2103</td>\n      <td>3097</td>\n      <td>3486</td>\n      <td>3031</td>\n      <td>3633</td>\n      <td>3528</td>\n      <td>2022</td>\n      <td>2897</td>\n      <td>4471</td>\n      <td>4025</td>\n      <td>...</td>\n      <td>3103</td>\n      <td>2628</td>\n      <td>2570</td>\n      <td>1654</td>\n      <td>2441</td>\n      <td>2143</td>\n      <td>2516</td>\n      <td>2509</td>\n      <td>2637</td>\n      <td>2804</td>\n    </tr>\n    <tr>\n      <th>Fallecidos (24h) en España</th>\n      <td>820</td>\n      <td>929</td>\n      <td>877</td>\n      <td>845</td>\n      <td>780</td>\n      <td>670</td>\n      <td>628</td>\n      <td>757</td>\n      <td>757</td>\n      <td>781</td>\n      <td>...</td>\n      <td>268</td>\n      <td>281</td>\n      <td>276</td>\n      <td>164</td>\n      <td>164</td>\n      <td>185</td>\n      <td>244</td>\n      <td>213</td>\n      <td>229</td>\n      <td>179</td>\n    </tr>\n  </tbody>\n</table>\n<p>3 rows × 40 columns</p>\n</div>"
     },
     "metadata": {},
     "execution_count": 11
    }
   ],
   "source": [
    "# Con datos de datadista, SOLO PARA DATOS DE PAÍS\n",
    "data_path_confirmed = 'casos_total'\n",
    "data_path_recovered = 'altas'\n",
    "data_path_deaths = 'fallecimientos'\n",
    "\n",
    "# Evolución últimos 40 días de nuevos casos\n",
    "\n",
    "def day_consecutive(day):\n",
    "    date_cons = date.today()\n",
    "    date_cons = date_cons - timedelta(days=day)\n",
    "    date_cons = date_cons.strftime('%Y-%m-%d')\n",
    "    return date_cons\n",
    "\n",
    "def data_day(data_path, number_to_rest):\n",
    "    data = data_spain_datadista.set_index('fecha')\n",
    "    data = data[data_path]\n",
    "    data = int(data.iloc[number_to_rest]) - int(data.iloc[number_to_rest-1])\n",
    "    return data\n",
    "\n",
    "data_day(data_path_confirmed, -3)\n",
    "\n",
    "def create_dataframe(data_day_name, data_path, index_title):\n",
    "    dataframe = pd.DataFrame({day_consecutive(40): data_day_name(data_path, -40),\n",
    "                              day_consecutive(39): data_day_name(data_path, -39),\n",
    "                              day_consecutive(38): data_day_name(data_path, -38),\n",
    "                              day_consecutive(37): data_day_name(data_path, -37),\n",
    "                              day_consecutive(36): data_day_name(data_path, -36),\n",
    "                              day_consecutive(35): data_day_name(data_path, -35),\n",
    "                              day_consecutive(34): data_day_name(data_path, -34),\n",
    "                              day_consecutive(33): data_day_name(data_path, -33),\n",
    "                              day_consecutive(32): data_day_name(data_path, -32),\n",
    "                              day_consecutive(31): data_day_name(data_path, -31),\n",
    "                              day_consecutive(30): data_day_name(data_path, -30),\n",
    "                              day_consecutive(29): data_day_name(data_path, -29),\n",
    "                              day_consecutive(28): data_day_name(data_path, -28),\n",
    "                              day_consecutive(27): data_day_name(data_path, -27),\n",
    "                              day_consecutive(26): data_day_name(data_path, -26),\n",
    "                              day_consecutive(25): data_day_name(data_path, -25),\n",
    "                              day_consecutive(24): data_day_name(data_path, -24),\n",
    "                              day_consecutive(23): data_day_name(data_path, -23),\n",
    "                              day_consecutive(22): data_day_name(data_path, -22),\n",
    "                              day_consecutive(21): data_day_name(data_path, -21),\n",
    "                              day_consecutive(20): data_day_name(data_path, -20),\n",
    "                              day_consecutive(19): data_day_name(data_path, -19), \n",
    "                              day_consecutive(18): data_day_name(data_path, -18),\n",
    "                              day_consecutive(17): data_day_name(data_path, -17),\n",
    "                              day_consecutive(16): data_day_name(data_path, -16),\n",
    "                              day_consecutive(15): data_day_name(data_path, -15),\n",
    "                              day_consecutive(14): data_day_name(data_path, -14),\n",
    "                              day_consecutive(13): data_day_name(data_path, -13),\n",
    "                              day_consecutive(12): data_day_name(data_path, -12),\n",
    "                              day_consecutive(11): data_day_name(data_path, -11),\n",
    "                              day_consecutive(10): data_day_name(data_path, -10),\n",
    "                              day_consecutive(9): data_day_name(data_path, -9),\n",
    "                              day_consecutive(8): data_day_name(data_path, -8),\n",
    "                              day_consecutive(7): data_day_name(data_path, -7),\n",
    "                              day_consecutive(6): data_day_name(data_path, -6),\n",
    "                              day_consecutive(5): data_day_name(data_path, -5),\n",
    "                              day_consecutive(4): data_day_name(data_path, -4),\n",
    "                              day_consecutive(3): data_day_name(data_path, -3),\n",
    "                              day_consecutive(2): data_day_name(data_path, -2),\n",
    "                              day_consecutive(1): data_day_name(data_path, -1),\n",
    "                             }, index=index_title)\n",
    "                                    \n",
    "    return dataframe\n",
    "\n",
    "data_spain_confirmed24h_datadista = create_dataframe(data_day, data_path_confirmed, ['Confirmados (24h) en España'])\n",
    "data_spain_recovered24h_datadista = create_dataframe(data_day, data_path_recovered, ['Recuperados (24h) en España'])\n",
    "data_spain_deaths24h_datadista = create_dataframe(data_day, data_path_deaths, ['Fallecidos (24h) en España'])\n",
    "data_spain_newcases24h_datadista = pd.concat([data_spain_confirmed24h_datadista,data_spain_recovered24h_datadista,data_spain_deaths24h_datadista], axis=0)\n",
    "\n",
    "\n",
    "# Exportar\n",
    "data_spain_newcases24h_datadista.to_csv('data_spain_newcases24h.csv', sep = ';')\n",
    "data_spain_deaths24h_datadista.to_csv('data_spain_newcases24h_deaths.csv', sep = ';')\n",
    "data_spain_newcases24h_datadista"
   ]
  },
  {
   "cell_type": "code",
   "execution_count": 12,
   "metadata": {},
   "outputs": [
    {
     "output_type": "execute_result",
     "data": {
      "text/plain": "                              2020-03-30  2020-03-31  2020-04-01  2020-04-02  \\\nFallecidos (24h) en España           820         929         877         845   \nFallecidos (24h) en Italia           812         837         727         760   \nFallecidos (24h) en Francia          419         502         882         984   \nFallecidos (24h) en Alemania         112         130         145         187   \n\n                              2020-04-03  2020-04-04  2020-04-05  2020-04-06  \\\nFallecidos (24h) en España           780         670         628         757   \nFallecidos (24h) en Italia           766         681         525         636   \nFallecidos (24h) en Francia         1122        1054         519         833   \nFallecidos (24h) en Alemania         168         169         140         226   \n\n                              2020-04-07  2020-04-08  ...  2020-04-29  \\\nFallecidos (24h) en España           757         781  ...         268   \nFallecidos (24h) en Italia           604         542  ...         323   \nFallecidos (24h) en Francia         1417         544  ...         427   \nFallecidos (24h) en Alemania         206         333  ...         153   \n\n                              2020-04-30  2020-05-01  2020-05-02  2020-05-03  \\\nFallecidos (24h) en España           281         276         164         164   \nFallecidos (24h) en Italia           285         269         474         174   \nFallecidos (24h) en Francia          289         218         166         137   \nFallecidos (24h) en Alemania         156         113          76          54   \n\n                              2020-05-04  2020-05-05  2020-05-06  2020-05-07  \\\nFallecidos (24h) en España           185         244         213         229   \nFallecidos (24h) en Italia           195         236         369         274   \nFallecidos (24h) en Francia          304         333         275         178   \nFallecidos (24h) en Alemania         127           0         282         117   \n\n                              2020-05-08  \nFallecidos (24h) en España           179  \nFallecidos (24h) en Italia           243  \nFallecidos (24h) en Francia          243  \nFallecidos (24h) en Alemania         118  \n\n[4 rows x 40 columns]",
      "text/html": "<div>\n<style scoped>\n    .dataframe tbody tr th:only-of-type {\n        vertical-align: middle;\n    }\n\n    .dataframe tbody tr th {\n        vertical-align: top;\n    }\n\n    .dataframe thead th {\n        text-align: right;\n    }\n</style>\n<table border=\"1\" class=\"dataframe\">\n  <thead>\n    <tr style=\"text-align: right;\">\n      <th></th>\n      <th>2020-03-30</th>\n      <th>2020-03-31</th>\n      <th>2020-04-01</th>\n      <th>2020-04-02</th>\n      <th>2020-04-03</th>\n      <th>2020-04-04</th>\n      <th>2020-04-05</th>\n      <th>2020-04-06</th>\n      <th>2020-04-07</th>\n      <th>2020-04-08</th>\n      <th>...</th>\n      <th>2020-04-29</th>\n      <th>2020-04-30</th>\n      <th>2020-05-01</th>\n      <th>2020-05-02</th>\n      <th>2020-05-03</th>\n      <th>2020-05-04</th>\n      <th>2020-05-05</th>\n      <th>2020-05-06</th>\n      <th>2020-05-07</th>\n      <th>2020-05-08</th>\n    </tr>\n  </thead>\n  <tbody>\n    <tr>\n      <th>Fallecidos (24h) en España</th>\n      <td>820</td>\n      <td>929</td>\n      <td>877</td>\n      <td>845</td>\n      <td>780</td>\n      <td>670</td>\n      <td>628</td>\n      <td>757</td>\n      <td>757</td>\n      <td>781</td>\n      <td>...</td>\n      <td>268</td>\n      <td>281</td>\n      <td>276</td>\n      <td>164</td>\n      <td>164</td>\n      <td>185</td>\n      <td>244</td>\n      <td>213</td>\n      <td>229</td>\n      <td>179</td>\n    </tr>\n    <tr>\n      <th>Fallecidos (24h) en Italia</th>\n      <td>812</td>\n      <td>837</td>\n      <td>727</td>\n      <td>760</td>\n      <td>766</td>\n      <td>681</td>\n      <td>525</td>\n      <td>636</td>\n      <td>604</td>\n      <td>542</td>\n      <td>...</td>\n      <td>323</td>\n      <td>285</td>\n      <td>269</td>\n      <td>474</td>\n      <td>174</td>\n      <td>195</td>\n      <td>236</td>\n      <td>369</td>\n      <td>274</td>\n      <td>243</td>\n    </tr>\n    <tr>\n      <th>Fallecidos (24h) en Francia</th>\n      <td>419</td>\n      <td>502</td>\n      <td>882</td>\n      <td>984</td>\n      <td>1122</td>\n      <td>1054</td>\n      <td>519</td>\n      <td>833</td>\n      <td>1417</td>\n      <td>544</td>\n      <td>...</td>\n      <td>427</td>\n      <td>289</td>\n      <td>218</td>\n      <td>166</td>\n      <td>137</td>\n      <td>304</td>\n      <td>333</td>\n      <td>275</td>\n      <td>178</td>\n      <td>243</td>\n    </tr>\n    <tr>\n      <th>Fallecidos (24h) en Alemania</th>\n      <td>112</td>\n      <td>130</td>\n      <td>145</td>\n      <td>187</td>\n      <td>168</td>\n      <td>169</td>\n      <td>140</td>\n      <td>226</td>\n      <td>206</td>\n      <td>333</td>\n      <td>...</td>\n      <td>153</td>\n      <td>156</td>\n      <td>113</td>\n      <td>76</td>\n      <td>54</td>\n      <td>127</td>\n      <td>0</td>\n      <td>282</td>\n      <td>117</td>\n      <td>118</td>\n    </tr>\n  </tbody>\n</table>\n<p>4 rows × 40 columns</p>\n</div>"
     },
     "metadata": {},
     "execution_count": 12
    }
   ],
   "source": [
    "#Con datos de John Hopkins, SOLO PARA COMPARAR CON INTERNACIONALES\n",
    "\n",
    "path_c = \"COVID-19/csse_covid_19_data/csse_covid_19_time_series/time_series_covid19_confirmed_global.csv\"\n",
    "path_d = \"COVID-19/csse_covid_19_data/csse_covid_19_time_series/time_series_covid19_deaths_global.csv\"\n",
    "path_r = \"COVID-19/csse_covid_19_data/csse_covid_19_time_series/time_series_covid19_recovered_global.csv\"\n",
    "\n",
    "# Evolución últimos 40 días de nuevos casos\n",
    "def day_consecutive(day):\n",
    "    date_cons = date.today()\n",
    "    date_cons = date_cons - timedelta(days=day)\n",
    "    date_cons = date_cons.strftime('%Y-%m-%d')\n",
    "    return date_cons\n",
    "\n",
    "def data_day(data_path, number_to_rest):\n",
    "    data = pd.read_csv(data_path)\n",
    "    data = data.groupby(\"Country/Region\", as_index=False).sum()\n",
    "    data = data.set_index(\"Country/Region\").transpose()\n",
    "    data = data['Spain']\n",
    "    data = int(data.iloc[number_to_rest]) - int(data.iloc[number_to_rest-1])\n",
    "    return data\n",
    "\n",
    "def data_day_italy(data_path, number_to_rest):\n",
    "    data = pd.read_csv(data_path)\n",
    "    data = data.groupby(\"Country/Region\", as_index=False).sum()\n",
    "    data = data.set_index(\"Country/Region\").transpose()\n",
    "    data = data['Italy']\n",
    "    data = int(data.iloc[number_to_rest]) - int(data.iloc[number_to_rest-1])\n",
    "    return data\n",
    "\n",
    "def data_day_france(data_path, number_to_rest):\n",
    "    data = pd.read_csv(data_path)\n",
    "    data = data.groupby(\"Country/Region\", as_index=False).sum()\n",
    "    data = data.set_index(\"Country/Region\").transpose()\n",
    "    data = data['France']\n",
    "    data = int(data.iloc[number_to_rest]) - int(data.iloc[number_to_rest-1])\n",
    "    return data\n",
    "\n",
    "def data_day_germany(data_path, number_to_rest):\n",
    "    data = pd.read_csv(data_path)\n",
    "    data = data.groupby(\"Country/Region\", as_index=False).sum()\n",
    "    data = data.set_index(\"Country/Region\").transpose()\n",
    "    data = data['Germany']\n",
    "    data = int(data.iloc[number_to_rest]) - int(data.iloc[number_to_rest-1])\n",
    "    return data\n",
    "\n",
    "def create_dataframe(data_day_name, data_path, index_title):\n",
    "    dataframe = pd.DataFrame({day_consecutive(40): data_day_name(data_path, -40),\n",
    "                              day_consecutive(39): data_day_name(data_path, -39),\n",
    "                              day_consecutive(38): data_day_name(data_path, -38),\n",
    "                              day_consecutive(37): data_day_name(data_path, -37),\n",
    "                              day_consecutive(36): data_day_name(data_path, -36),\n",
    "                              day_consecutive(35): data_day_name(data_path, -35),\n",
    "                              day_consecutive(34): data_day_name(data_path, -34),\n",
    "                              day_consecutive(33): data_day_name(data_path, -33),\n",
    "                              day_consecutive(32): data_day_name(data_path, -32),\n",
    "                              day_consecutive(31): data_day_name(data_path, -31),\n",
    "                              day_consecutive(30): data_day_name(data_path, -30),\n",
    "                              day_consecutive(29): data_day_name(data_path, -29),\n",
    "                              day_consecutive(28): data_day_name(data_path, -28),\n",
    "                              day_consecutive(27): data_day_name(data_path, -27),\n",
    "                              day_consecutive(26): data_day_name(data_path, -26),\n",
    "                              day_consecutive(25): data_day_name(data_path, -25),\n",
    "                              day_consecutive(24): data_day_name(data_path, -24),\n",
    "                              day_consecutive(23): data_day_name(data_path, -23),\n",
    "                              day_consecutive(22): data_day_name(data_path, -22),\n",
    "                              day_consecutive(21): data_day_name(data_path, -21),\n",
    "                              day_consecutive(20): data_day_name(data_path, -20),\n",
    "                              day_consecutive(19): data_day_name(data_path, -19), \n",
    "                              day_consecutive(18): data_day_name(data_path, -18),\n",
    "                              day_consecutive(17): data_day_name(data_path, -17),\n",
    "                              day_consecutive(16): data_day_name(data_path, -16),\n",
    "                              day_consecutive(15): data_day_name(data_path, -15),\n",
    "                              day_consecutive(14): data_day_name(data_path, -14),\n",
    "                              day_consecutive(13): data_day_name(data_path, -13),\n",
    "                              day_consecutive(12): data_day_name(data_path, -12),\n",
    "                              day_consecutive(11): data_day_name(data_path, -11),\n",
    "                              day_consecutive(10): data_day_name(data_path, -10),\n",
    "                              day_consecutive(9): data_day_name(data_path, -9),\n",
    "                              day_consecutive(8): data_day_name(data_path, -8),\n",
    "                              day_consecutive(7): data_day_name(data_path, -7),\n",
    "                              day_consecutive(6): data_day_name(data_path, -6),\n",
    "                              day_consecutive(5): data_day_name(data_path, -5),\n",
    "                              day_consecutive(4): data_day_name(data_path, -4),\n",
    "                              day_consecutive(3): data_day_name(data_path, -3),\n",
    "                              day_consecutive(2): data_day_name(data_path, -2),\n",
    "                              day_consecutive(1): data_day_name(data_path, -1),\n",
    "                             }, index=index_title)\n",
    "                                    \n",
    "    return dataframe\n",
    "\n",
    "'''Si se cogen los datos de España de John Hopkins\n",
    "# data_spain_confirmed24h = create_dataframe(data_day, path_c, ['Confirmados (24h) en España'])\n",
    "# data_spain_deaths24h = create_dataframe(data_day, path_d, ['Fallecidos (24h) en España'])\n",
    "# data_spain_recovered24h = create_dataframe(data_day, path_r, ['Recuperados (24h) en España'])\n",
    "#### Juntar dataframes\n",
    "# data_spain_newcases24h = pd.concat([data_spain_confirmed24h,data_spain_recovered24h,data_spain_deaths24h], axis=0)\n",
    "# data_spain_newcases24h.to_csv('data_spain_newcases24h.csv', sep = ';')\n",
    "# data_spain_deaths24h.to_csv('data_spain_newcases24h_deaths.csv', sep = ';')\n",
    "'''\n",
    "\n",
    "######## Lo mismo en italia\n",
    "data_italy_confirmed24h = create_dataframe(data_day_italy, path_c, ['Confirmados (24h) en Italia'])\n",
    "data_italy_deaths24h = create_dataframe(data_day_italy, path_d, ['Fallecidos (24h) en Italia'])\n",
    "data_italy_recovered24h = create_dataframe(data_day_italy, path_r, ['Recuperados (24h) en Italia'])\n",
    "data_italy_newcases24h = pd.concat([data_italy_confirmed24h,data_italy_recovered24h,data_italy_deaths24h], axis=0)\n",
    "\n",
    "######## Lo mismo en Francia\n",
    "data_france_confirmed24h = create_dataframe(data_day_france, path_c, ['Confirmados (24h) en Francia'])\n",
    "data_france_deaths24h = create_dataframe(data_day_france, path_d, ['Fallecidos (24h) en Francia'])\n",
    "data_france_recovered24h = create_dataframe(data_day_france, path_r, ['Recuperados (24h) en Francia'])\n",
    "data_france_newcases24h = pd.concat([data_france_confirmed24h,data_france_recovered24h,data_france_deaths24h], axis=0)\n",
    "\n",
    "######## Lo mismo en Alemania\n",
    "data_germany_confirmed24h = create_dataframe(data_day_germany, path_c, ['Confirmados (24h) en Alemania'])\n",
    "data_germany_deaths24h = create_dataframe(data_day_germany, path_d, ['Fallecidos (24h) en Alemania'])\n",
    "data_germany_recovered24h = create_dataframe(data_day_germany, path_r, ['Recuperados (24h) en Alemania'])\n",
    "data_germany_newcases24h = pd.concat([data_germany_confirmed24h,data_germany_recovered24h,data_germany_deaths24h], axis=0)\n",
    "\n",
    "\n",
    "###### Juntar dataframes Spain + Italy sólo de fallecidos, OJO LOS DATOS DE SPAIN SE COGEN DEL CÁLCULO ANTERIOR DE DATADISTA\n",
    "data_somecountries_newcases24h_deaths = pd.concat([data_spain_deaths24h_datadista, data_italy_deaths24h,\n",
    "                                                   data_france_deaths24h, data_germany_deaths24h], axis=0)\n",
    "data_somecountries_newcases24h_deaths.to_csv('data_somecountries_newcases24h.csv', sep = ';')\n",
    "data_somecountries_newcases24h_deaths\n"
   ]
  },
  {
   "cell_type": "markdown",
   "metadata": {},
   "source": [
    "## ESPAÑA: Evolución temporal casos confirmados"
   ]
  },
  {
   "cell_type": "code",
   "execution_count": 13,
   "metadata": {},
   "outputs": [
    {
     "output_type": "execute_result",
     "data": {
      "text/plain": "                       2020-02-21  2020-02-22  2020-02-23  2020-02-24  \\\nComunidades Autónomas                                                   \nAndalucía                       0           0           0           0   \nAragón                          0           0           0           0   \nAsturias                        0           0           0           0   \nBaleares                        1           1           1           1   \nCanarias                        1           1           1           1   \nCantabria                       0           0           0           0   \nCastilla La Mancha              0           0           0           0   \nCastilla y León                 0           0           0           0   \nCataluña                        0           0           0           0   \nCeuta                           0           0           0           0   \nC. Valenciana                   0           0           0           0   \nExtremadura                     0           0           0           0   \nGalicia                         0           0           0           0   \nMadrid                          0           0           0           0   \nMelilla                         0           0           0           0   \nMurcia                          0           0           0           0   \nNavarra                         0           0           0           0   \nPaís Vasco                      0           0           0           0   \nLa Rioja                        0           0           0           0   \n\n                       2020-02-25  2020-02-26  2020-02-27  2020-02-28  \\\nComunidades Autónomas                                                   \nAndalucía                       0           0           1           6   \nAragón                          0           0           0           0   \nAsturias                        0           0           0           0   \nBaleares                        1           1           1           1   \nCanarias                        2           5           6           6   \nCantabria                       0           0           0           0   \nCastilla La Mancha              0           0           0           0   \nCastilla y León                 0           0           0           2   \nCataluña                        0           1           2           3   \nCeuta                           0           0           0           0   \nC. Valenciana                   0           1           2           8   \nExtremadura                     0           0           0           0   \nGalicia                         0           0           0           0   \nMadrid                          0           1           5           9   \nMelilla                         0           0           0           0   \nMurcia                          0           0           0           0   \nNavarra                         0           0           0           0   \nPaís Vasco                      0           0           0           0   \nLa Rioja                        0           0           0           0   \n\n                       2020-02-29  2020-03-01  ...  2020-04-30  2020-05-01  \\\nComunidades Autónomas                          ...                           \nAndalucía                       8          12  ...       13656       13914   \nAragón                          0           0  ...        5971        6103   \nAsturias                        0           1  ...        2933        2974   \nBaleares                        2           2  ...        1955        1970   \nCanarias                        6           7  ...        2205        2206   \nCantabria                       0           1  ...        2505        2547   \nCastilla La Mancha              0           1  ...       20071       20516   \nCastilla y León                 2           3  ...       20312       20739   \nCataluña                        5           6  ...       49943       50334   \nCeuta                           0           0  ...         146         151   \nC. Valenciana                  10          15  ...       12058       12209   \nExtremadura                     0           4  ...        3538        3630   \nGalicia                         0           0  ...        9545        9696   \nMadrid                         19          26  ...       67309       67690   \nMelilla                         0           0  ...         125         126   \nMurcia                          0           0  ...        1894        1960   \nNavarra                         0           1  ...        6140        6337   \nPaís Vasco                      2           3  ...       15519       15969   \nLa Rioja                        0           0  ...        5206        5226   \n\n                       2020-05-02  2020-05-03  2020-05-04  2020-05-05  \\\nComunidades Autónomas                                                   \nAndalucía                   14163       14287       14349       14394   \nAragón                       6164        6208        6239        6282   \nAsturias                     2997        3018        3030        3058   \nBaleares                     1984        1990        1991        1997   \nCanarias                     2212        2221        2225        2231   \nCantabria                    2577        2589        2596        2607   \nCastilla La Mancha          21023       21290       21511       21656   \nCastilla y León             20999       21229       21379       21719   \nCataluña                    50877       51261       51393       51798   \nCeuta                         152         152         152         155   \nC. Valenciana               12514       12686       12819       12883   \nExtremadura                  3690        3712        3722        3728   \nGalicia                      9750        9815        9859        9953   \nMadrid                      67804       67921       68030       68420   \nMelilla                       126         129         131         131   \nMurcia                       1966        1974        1974        2051   \nNavarra                      6411        6427        6447        6561   \nPaís Vasco                  16119       16197       16246       16426   \nLa Rioja                     5239        5247        5258        5270   \n\n                       2020-05-06  2020-05-07  2020-05-08  2020-05-09  \nComunidades Autónomas                                                  \nAndalucía                   14639       14870       15050       15228  \nAragón                       6382        6516        6575        6656  \nAsturias                     3094        3099        3157        3183  \nBaleares                     2013        2023        2029        2042  \nCanarias                     2231        2235        2240        2250  \nCantabria                    2626        2642        2665        2681  \nCastilla La Mancha          22166       22567       22908       23293  \nCastilla y León             22156       22537       22926       23437  \nCataluña                    52090       52505       53209       53578  \nCeuta                         164         165         168         169  \nC. Valenciana               13064       13311       13507       13676  \nExtremadura                  3746        3808        3853        3886  \nGalicia                     10192       10292       10453       10574  \nMadrid                      68715       69062       69242       69375  \nMelilla                       131         132         132         132  \nMurcia                       2133        2192        2252        2263  \nNavarra                      6770        7010        7227        7442  \nPaís Vasco                  16679       16959       17286       17553  \nLa Rioja                     5322        5330        5355        5365  \n\n[19 rows x 79 columns]",
      "text/html": "<div>\n<style scoped>\n    .dataframe tbody tr th:only-of-type {\n        vertical-align: middle;\n    }\n\n    .dataframe tbody tr th {\n        vertical-align: top;\n    }\n\n    .dataframe thead th {\n        text-align: right;\n    }\n</style>\n<table border=\"1\" class=\"dataframe\">\n  <thead>\n    <tr style=\"text-align: right;\">\n      <th></th>\n      <th>2020-02-21</th>\n      <th>2020-02-22</th>\n      <th>2020-02-23</th>\n      <th>2020-02-24</th>\n      <th>2020-02-25</th>\n      <th>2020-02-26</th>\n      <th>2020-02-27</th>\n      <th>2020-02-28</th>\n      <th>2020-02-29</th>\n      <th>2020-03-01</th>\n      <th>...</th>\n      <th>2020-04-30</th>\n      <th>2020-05-01</th>\n      <th>2020-05-02</th>\n      <th>2020-05-03</th>\n      <th>2020-05-04</th>\n      <th>2020-05-05</th>\n      <th>2020-05-06</th>\n      <th>2020-05-07</th>\n      <th>2020-05-08</th>\n      <th>2020-05-09</th>\n    </tr>\n    <tr>\n      <th>Comunidades Autónomas</th>\n      <th></th>\n      <th></th>\n      <th></th>\n      <th></th>\n      <th></th>\n      <th></th>\n      <th></th>\n      <th></th>\n      <th></th>\n      <th></th>\n      <th></th>\n      <th></th>\n      <th></th>\n      <th></th>\n      <th></th>\n      <th></th>\n      <th></th>\n      <th></th>\n      <th></th>\n      <th></th>\n      <th></th>\n    </tr>\n  </thead>\n  <tbody>\n    <tr>\n      <th>Andalucía</th>\n      <td>0</td>\n      <td>0</td>\n      <td>0</td>\n      <td>0</td>\n      <td>0</td>\n      <td>0</td>\n      <td>1</td>\n      <td>6</td>\n      <td>8</td>\n      <td>12</td>\n      <td>...</td>\n      <td>13656</td>\n      <td>13914</td>\n      <td>14163</td>\n      <td>14287</td>\n      <td>14349</td>\n      <td>14394</td>\n      <td>14639</td>\n      <td>14870</td>\n      <td>15050</td>\n      <td>15228</td>\n    </tr>\n    <tr>\n      <th>Aragón</th>\n      <td>0</td>\n      <td>0</td>\n      <td>0</td>\n      <td>0</td>\n      <td>0</td>\n      <td>0</td>\n      <td>0</td>\n      <td>0</td>\n      <td>0</td>\n      <td>0</td>\n      <td>...</td>\n      <td>5971</td>\n      <td>6103</td>\n      <td>6164</td>\n      <td>6208</td>\n      <td>6239</td>\n      <td>6282</td>\n      <td>6382</td>\n      <td>6516</td>\n      <td>6575</td>\n      <td>6656</td>\n    </tr>\n    <tr>\n      <th>Asturias</th>\n      <td>0</td>\n      <td>0</td>\n      <td>0</td>\n      <td>0</td>\n      <td>0</td>\n      <td>0</td>\n      <td>0</td>\n      <td>0</td>\n      <td>0</td>\n      <td>1</td>\n      <td>...</td>\n      <td>2933</td>\n      <td>2974</td>\n      <td>2997</td>\n      <td>3018</td>\n      <td>3030</td>\n      <td>3058</td>\n      <td>3094</td>\n      <td>3099</td>\n      <td>3157</td>\n      <td>3183</td>\n    </tr>\n    <tr>\n      <th>Baleares</th>\n      <td>1</td>\n      <td>1</td>\n      <td>1</td>\n      <td>1</td>\n      <td>1</td>\n      <td>1</td>\n      <td>1</td>\n      <td>1</td>\n      <td>2</td>\n      <td>2</td>\n      <td>...</td>\n      <td>1955</td>\n      <td>1970</td>\n      <td>1984</td>\n      <td>1990</td>\n      <td>1991</td>\n      <td>1997</td>\n      <td>2013</td>\n      <td>2023</td>\n      <td>2029</td>\n      <td>2042</td>\n    </tr>\n    <tr>\n      <th>Canarias</th>\n      <td>1</td>\n      <td>1</td>\n      <td>1</td>\n      <td>1</td>\n      <td>2</td>\n      <td>5</td>\n      <td>6</td>\n      <td>6</td>\n      <td>6</td>\n      <td>7</td>\n      <td>...</td>\n      <td>2205</td>\n      <td>2206</td>\n      <td>2212</td>\n      <td>2221</td>\n      <td>2225</td>\n      <td>2231</td>\n      <td>2231</td>\n      <td>2235</td>\n      <td>2240</td>\n      <td>2250</td>\n    </tr>\n    <tr>\n      <th>Cantabria</th>\n      <td>0</td>\n      <td>0</td>\n      <td>0</td>\n      <td>0</td>\n      <td>0</td>\n      <td>0</td>\n      <td>0</td>\n      <td>0</td>\n      <td>0</td>\n      <td>1</td>\n      <td>...</td>\n      <td>2505</td>\n      <td>2547</td>\n      <td>2577</td>\n      <td>2589</td>\n      <td>2596</td>\n      <td>2607</td>\n      <td>2626</td>\n      <td>2642</td>\n      <td>2665</td>\n      <td>2681</td>\n    </tr>\n    <tr>\n      <th>Castilla La Mancha</th>\n      <td>0</td>\n      <td>0</td>\n      <td>0</td>\n      <td>0</td>\n      <td>0</td>\n      <td>0</td>\n      <td>0</td>\n      <td>0</td>\n      <td>0</td>\n      <td>1</td>\n      <td>...</td>\n      <td>20071</td>\n      <td>20516</td>\n      <td>21023</td>\n      <td>21290</td>\n      <td>21511</td>\n      <td>21656</td>\n      <td>22166</td>\n      <td>22567</td>\n      <td>22908</td>\n      <td>23293</td>\n    </tr>\n    <tr>\n      <th>Castilla y León</th>\n      <td>0</td>\n      <td>0</td>\n      <td>0</td>\n      <td>0</td>\n      <td>0</td>\n      <td>0</td>\n      <td>0</td>\n      <td>2</td>\n      <td>2</td>\n      <td>3</td>\n      <td>...</td>\n      <td>20312</td>\n      <td>20739</td>\n      <td>20999</td>\n      <td>21229</td>\n      <td>21379</td>\n      <td>21719</td>\n      <td>22156</td>\n      <td>22537</td>\n      <td>22926</td>\n      <td>23437</td>\n    </tr>\n    <tr>\n      <th>Cataluña</th>\n      <td>0</td>\n      <td>0</td>\n      <td>0</td>\n      <td>0</td>\n      <td>0</td>\n      <td>1</td>\n      <td>2</td>\n      <td>3</td>\n      <td>5</td>\n      <td>6</td>\n      <td>...</td>\n      <td>49943</td>\n      <td>50334</td>\n      <td>50877</td>\n      <td>51261</td>\n      <td>51393</td>\n      <td>51798</td>\n      <td>52090</td>\n      <td>52505</td>\n      <td>53209</td>\n      <td>53578</td>\n    </tr>\n    <tr>\n      <th>Ceuta</th>\n      <td>0</td>\n      <td>0</td>\n      <td>0</td>\n      <td>0</td>\n      <td>0</td>\n      <td>0</td>\n      <td>0</td>\n      <td>0</td>\n      <td>0</td>\n      <td>0</td>\n      <td>...</td>\n      <td>146</td>\n      <td>151</td>\n      <td>152</td>\n      <td>152</td>\n      <td>152</td>\n      <td>155</td>\n      <td>164</td>\n      <td>165</td>\n      <td>168</td>\n      <td>169</td>\n    </tr>\n    <tr>\n      <th>C. Valenciana</th>\n      <td>0</td>\n      <td>0</td>\n      <td>0</td>\n      <td>0</td>\n      <td>0</td>\n      <td>1</td>\n      <td>2</td>\n      <td>8</td>\n      <td>10</td>\n      <td>15</td>\n      <td>...</td>\n      <td>12058</td>\n      <td>12209</td>\n      <td>12514</td>\n      <td>12686</td>\n      <td>12819</td>\n      <td>12883</td>\n      <td>13064</td>\n      <td>13311</td>\n      <td>13507</td>\n      <td>13676</td>\n    </tr>\n    <tr>\n      <th>Extremadura</th>\n      <td>0</td>\n      <td>0</td>\n      <td>0</td>\n      <td>0</td>\n      <td>0</td>\n      <td>0</td>\n      <td>0</td>\n      <td>0</td>\n      <td>0</td>\n      <td>4</td>\n      <td>...</td>\n      <td>3538</td>\n      <td>3630</td>\n      <td>3690</td>\n      <td>3712</td>\n      <td>3722</td>\n      <td>3728</td>\n      <td>3746</td>\n      <td>3808</td>\n      <td>3853</td>\n      <td>3886</td>\n    </tr>\n    <tr>\n      <th>Galicia</th>\n      <td>0</td>\n      <td>0</td>\n      <td>0</td>\n      <td>0</td>\n      <td>0</td>\n      <td>0</td>\n      <td>0</td>\n      <td>0</td>\n      <td>0</td>\n      <td>0</td>\n      <td>...</td>\n      <td>9545</td>\n      <td>9696</td>\n      <td>9750</td>\n      <td>9815</td>\n      <td>9859</td>\n      <td>9953</td>\n      <td>10192</td>\n      <td>10292</td>\n      <td>10453</td>\n      <td>10574</td>\n    </tr>\n    <tr>\n      <th>Madrid</th>\n      <td>0</td>\n      <td>0</td>\n      <td>0</td>\n      <td>0</td>\n      <td>0</td>\n      <td>1</td>\n      <td>5</td>\n      <td>9</td>\n      <td>19</td>\n      <td>26</td>\n      <td>...</td>\n      <td>67309</td>\n      <td>67690</td>\n      <td>67804</td>\n      <td>67921</td>\n      <td>68030</td>\n      <td>68420</td>\n      <td>68715</td>\n      <td>69062</td>\n      <td>69242</td>\n      <td>69375</td>\n    </tr>\n    <tr>\n      <th>Melilla</th>\n      <td>0</td>\n      <td>0</td>\n      <td>0</td>\n      <td>0</td>\n      <td>0</td>\n      <td>0</td>\n      <td>0</td>\n      <td>0</td>\n      <td>0</td>\n      <td>0</td>\n      <td>...</td>\n      <td>125</td>\n      <td>126</td>\n      <td>126</td>\n      <td>129</td>\n      <td>131</td>\n      <td>131</td>\n      <td>131</td>\n      <td>132</td>\n      <td>132</td>\n      <td>132</td>\n    </tr>\n    <tr>\n      <th>Murcia</th>\n      <td>0</td>\n      <td>0</td>\n      <td>0</td>\n      <td>0</td>\n      <td>0</td>\n      <td>0</td>\n      <td>0</td>\n      <td>0</td>\n      <td>0</td>\n      <td>0</td>\n      <td>...</td>\n      <td>1894</td>\n      <td>1960</td>\n      <td>1966</td>\n      <td>1974</td>\n      <td>1974</td>\n      <td>2051</td>\n      <td>2133</td>\n      <td>2192</td>\n      <td>2252</td>\n      <td>2263</td>\n    </tr>\n    <tr>\n      <th>Navarra</th>\n      <td>0</td>\n      <td>0</td>\n      <td>0</td>\n      <td>0</td>\n      <td>0</td>\n      <td>0</td>\n      <td>0</td>\n      <td>0</td>\n      <td>0</td>\n      <td>1</td>\n      <td>...</td>\n      <td>6140</td>\n      <td>6337</td>\n      <td>6411</td>\n      <td>6427</td>\n      <td>6447</td>\n      <td>6561</td>\n      <td>6770</td>\n      <td>7010</td>\n      <td>7227</td>\n      <td>7442</td>\n    </tr>\n    <tr>\n      <th>País Vasco</th>\n      <td>0</td>\n      <td>0</td>\n      <td>0</td>\n      <td>0</td>\n      <td>0</td>\n      <td>0</td>\n      <td>0</td>\n      <td>0</td>\n      <td>2</td>\n      <td>3</td>\n      <td>...</td>\n      <td>15519</td>\n      <td>15969</td>\n      <td>16119</td>\n      <td>16197</td>\n      <td>16246</td>\n      <td>16426</td>\n      <td>16679</td>\n      <td>16959</td>\n      <td>17286</td>\n      <td>17553</td>\n    </tr>\n    <tr>\n      <th>La Rioja</th>\n      <td>0</td>\n      <td>0</td>\n      <td>0</td>\n      <td>0</td>\n      <td>0</td>\n      <td>0</td>\n      <td>0</td>\n      <td>0</td>\n      <td>0</td>\n      <td>0</td>\n      <td>...</td>\n      <td>5206</td>\n      <td>5226</td>\n      <td>5239</td>\n      <td>5247</td>\n      <td>5258</td>\n      <td>5270</td>\n      <td>5322</td>\n      <td>5330</td>\n      <td>5355</td>\n      <td>5365</td>\n    </tr>\n  </tbody>\n</table>\n<p>19 rows × 79 columns</p>\n</div>"
     },
     "metadata": {},
     "execution_count": 13
    }
   ],
   "source": [
    "# Preparar Evolucion temporal confirmed\n",
    "data_ccaa_confirmed_timeseries_final = data_ccaa_confirmed_timeseries.drop(columns=['cod_ine'])\n",
    "data_ccaa_confirmed_timeseries_final.rename(columns = {'CCAA': 'Comunidades Autónomas'}, inplace = True)\n",
    "data_ccaa_confirmed_timeseries_final = data_ccaa_confirmed_timeseries_final.set_index('Comunidades Autónomas')\n",
    "data_ccaa_confirmed_timeseries_final = data_ccaa_confirmed_timeseries_final.iloc[0:19]\n",
    "\n",
    "# Exportar Evolucion temporal confirmed\n",
    "data_ccaa_confirmed_timeseries_final.to_csv('data_ccaa_evolution_confirmed.csv', sep = ';', encoding=\"utf-8\", index=True, index_label='Comunidades Autónomas')\n",
    "data_ccaa_confirmed_timeseries_final"
   ]
  },
  {
   "cell_type": "markdown",
   "metadata": {},
   "source": [
    "## ESPAÑA: Resúmenes por comunidades autónomas"
   ]
  },
  {
   "cell_type": "code",
   "execution_count": 14,
   "metadata": {},
   "outputs": [
    {
     "output_type": "execute_result",
     "data": {
      "text/plain": "                       Confirmados (24h)  Curados (24h)  Fallecidos (24h)\nComunidades Autónomas                                                    \nAndalucía                            178            344                16\nAragón                                81             53                 8\nAsturias                              26             29                 1\nBaleares                              13             21                 5\nCanarias                              10             24                 0\nCantabria                             16             76                 0\nCastilla La Mancha                   385             81                25\nCastilla y León                      511             86                 9\nCataluña                             369            399                36\nCeuta                                  1              0                 0\nC. Valenciana                        169            615                 6\nExtremadura                           33             42                 5\nGalicia                              121             87                 3\nMadrid                               133            252                46\nMelilla                                0              0                 0\nMurcia                                11            105                 1\nNavarra                              215             90                 3\nPaís Vasco                           267            445                13\nLa Rioja                              10             55                 2",
      "text/html": "<div>\n<style scoped>\n    .dataframe tbody tr th:only-of-type {\n        vertical-align: middle;\n    }\n\n    .dataframe tbody tr th {\n        vertical-align: top;\n    }\n\n    .dataframe thead th {\n        text-align: right;\n    }\n</style>\n<table border=\"1\" class=\"dataframe\">\n  <thead>\n    <tr style=\"text-align: right;\">\n      <th></th>\n      <th>Confirmados (24h)</th>\n      <th>Curados (24h)</th>\n      <th>Fallecidos (24h)</th>\n    </tr>\n    <tr>\n      <th>Comunidades Autónomas</th>\n      <th></th>\n      <th></th>\n      <th></th>\n    </tr>\n  </thead>\n  <tbody>\n    <tr>\n      <th>Andalucía</th>\n      <td>178</td>\n      <td>344</td>\n      <td>16</td>\n    </tr>\n    <tr>\n      <th>Aragón</th>\n      <td>81</td>\n      <td>53</td>\n      <td>8</td>\n    </tr>\n    <tr>\n      <th>Asturias</th>\n      <td>26</td>\n      <td>29</td>\n      <td>1</td>\n    </tr>\n    <tr>\n      <th>Baleares</th>\n      <td>13</td>\n      <td>21</td>\n      <td>5</td>\n    </tr>\n    <tr>\n      <th>Canarias</th>\n      <td>10</td>\n      <td>24</td>\n      <td>0</td>\n    </tr>\n    <tr>\n      <th>Cantabria</th>\n      <td>16</td>\n      <td>76</td>\n      <td>0</td>\n    </tr>\n    <tr>\n      <th>Castilla La Mancha</th>\n      <td>385</td>\n      <td>81</td>\n      <td>25</td>\n    </tr>\n    <tr>\n      <th>Castilla y León</th>\n      <td>511</td>\n      <td>86</td>\n      <td>9</td>\n    </tr>\n    <tr>\n      <th>Cataluña</th>\n      <td>369</td>\n      <td>399</td>\n      <td>36</td>\n    </tr>\n    <tr>\n      <th>Ceuta</th>\n      <td>1</td>\n      <td>0</td>\n      <td>0</td>\n    </tr>\n    <tr>\n      <th>C. Valenciana</th>\n      <td>169</td>\n      <td>615</td>\n      <td>6</td>\n    </tr>\n    <tr>\n      <th>Extremadura</th>\n      <td>33</td>\n      <td>42</td>\n      <td>5</td>\n    </tr>\n    <tr>\n      <th>Galicia</th>\n      <td>121</td>\n      <td>87</td>\n      <td>3</td>\n    </tr>\n    <tr>\n      <th>Madrid</th>\n      <td>133</td>\n      <td>252</td>\n      <td>46</td>\n    </tr>\n    <tr>\n      <th>Melilla</th>\n      <td>0</td>\n      <td>0</td>\n      <td>0</td>\n    </tr>\n    <tr>\n      <th>Murcia</th>\n      <td>11</td>\n      <td>105</td>\n      <td>1</td>\n    </tr>\n    <tr>\n      <th>Navarra</th>\n      <td>215</td>\n      <td>90</td>\n      <td>3</td>\n    </tr>\n    <tr>\n      <th>País Vasco</th>\n      <td>267</td>\n      <td>445</td>\n      <td>13</td>\n    </tr>\n    <tr>\n      <th>La Rioja</th>\n      <td>10</td>\n      <td>55</td>\n      <td>2</td>\n    </tr>\n  </tbody>\n</table>\n</div>"
     },
     "metadata": {},
     "execution_count": 14
    }
   ],
   "source": [
    "# SOLO HACER CUANDO LOS DATOS EN DATADISTA ESTÉN ACTUALIZADOS, SI NO, NO FUNCIONA\n",
    "\n",
    "# Confirmados por CCAA\n",
    "data_ccaa_confirmed_today = data_ccaa_confirmed_timeseries[['CCAA', date_today_large]]\n",
    "data_ccaa_confirmed_today.rename(columns = {date_today_large : 'Confirmados', 'CCAA' : 'Comunidades Autónomas'}, inplace = True)\n",
    "data_ccaa_confirmed_today = data_ccaa_confirmed_today.set_index('Comunidades Autónomas')\n",
    "data_ccaa_confirmed_today = data_ccaa_confirmed_today.copy().iloc[0:19]\n",
    "\n",
    "# New cases\n",
    "data_ccaa_confirmed_daybefore = data_ccaa_confirmed_timeseries[['CCAA', date_daybefore_large]]\n",
    "data_ccaa_confirmed_daybefore.rename(columns = {date_daybefore_large : 'Confirmados', 'CCAA' : 'Comunidades Autónomas'}, inplace = True)\n",
    "data_ccaa_confirmed_daybefore = data_ccaa_confirmed_daybefore.set_index('Comunidades Autónomas')\n",
    "data_ccaa_confirmed_newcases = data_ccaa_confirmed_today - data_ccaa_confirmed_daybefore\n",
    "data_ccaa_confirmed_newcases = data_ccaa_confirmed_newcases.copy().iloc[0:19]\n",
    "data_ccaa_confirmed_newcases.rename(columns = {'Confirmados': 'Confirmados (24h)'}, inplace = True)\n",
    "\n",
    "\n",
    "# Fallecidos por CCAA\n",
    "data_ccaa_deaths_today = data_ccaa_deaths_timeseries[['CCAA', date_today_large]]\n",
    "data_ccaa_deaths_today.rename(columns = {date_today_large : 'Fallecidos', 'CCAA' : 'Comunidades Autónomas'}, inplace = True)\n",
    "data_ccaa_deaths_today = data_ccaa_deaths_today.set_index('Comunidades Autónomas')\n",
    "data_ccaa_deaths_today = data_ccaa_deaths_today.copy().iloc[0:19]\n",
    "\n",
    "# New cases\n",
    "data_ccaa_deaths_daybefore = data_ccaa_deaths_timeseries[['CCAA', date_daybefore_large]]\n",
    "data_ccaa_deaths_daybefore.rename(columns = {date_daybefore_large : 'Fallecidos', 'CCAA' : 'Comunidades Autónomas'}, inplace = True)\n",
    "data_ccaa_deaths_daybefore = data_ccaa_deaths_daybefore.set_index('Comunidades Autónomas')\n",
    "data_ccaa_deaths_newcases = data_ccaa_deaths_today - data_ccaa_deaths_daybefore\n",
    "data_ccaa_deaths_newcases = data_ccaa_deaths_newcases.copy().iloc[0:19]\n",
    "data_ccaa_deaths_newcases.rename(columns = {'Fallecidos': 'Fallecidos (24h)'}, inplace = True)\n",
    "\n",
    "\n",
    "# Recuperados por CCAA\n",
    "data_ccaa_recovered_today = data_ccaa_recovered_timeseries[['CCAA', date_today_large]]\n",
    "data_ccaa_recovered_today.rename(columns = {date_today_large : 'Curados', 'CCAA' : 'Comunidades Autónomas'}, inplace = True)\n",
    "data_ccaa_recovered_today = data_ccaa_recovered_today.set_index('Comunidades Autónomas')\n",
    "data_ccaa_recovered_today = data_ccaa_recovered_today.copy().iloc[0:19]\n",
    "# New cases\n",
    "data_ccaa_recovered_daybefore = data_ccaa_recovered_timeseries[['CCAA', date_daybefore_large]]\n",
    "data_ccaa_recovered_daybefore.rename(columns = {date_daybefore_large : 'Curados', 'CCAA' : 'Comunidades Autónomas'}, inplace = True)\n",
    "data_ccaa_recovered_daybefore = data_ccaa_recovered_daybefore.set_index('Comunidades Autónomas')\n",
    "data_ccaa_recovered_newcases = data_ccaa_recovered_today - data_ccaa_recovered_daybefore\n",
    "data_ccaa_recovered_newcases = data_ccaa_recovered_newcases.copy().iloc[0:19]\n",
    "data_ccaa_recovered_newcases.rename(columns = {'Curados': 'Curados (24h)'}, inplace = True)\n",
    "\n",
    "\n",
    "#Juntar los tres dataframes confirmados + curados + fallecidos\n",
    "data_ccaa_confirmed_recovered_deaths = pd.concat([data_ccaa_confirmed_today, data_ccaa_recovered_today, data_ccaa_deaths_today,], axis=1)\n",
    "\n",
    "# Juntar los tres dataframes nuevos casos\n",
    "data_ccaa_newcases_confirmed_recovered_deaths = pd.concat([data_ccaa_confirmed_newcases, data_ccaa_recovered_newcases, data_ccaa_deaths_newcases], axis=1)\n",
    "\n",
    "# Exportar por grupos\n",
    "data_ccaa_confirmed_recovered_deaths.to_csv('data_ccaa_confirmed_recovered_deaths.csv', sep = ';', encoding=\"utf-8\", index=True, index_label='Comunidades Autónomas')\n",
    "data_ccaa_newcases_confirmed_recovered_deaths.to_csv('data_ccaa_newcases_confirmed_recovered_deaths.csv', sep = ';', encoding=\"utf-8\", index=True, index_label='Comunidades Autónomas')\n",
    "\n",
    "data_ccaa_newcases_confirmed_recovered_deaths"
   ]
  },
  {
   "cell_type": "markdown",
   "metadata": {},
   "source": [
    "## ESPAÑA: Análisis por rangos de edad"
   ]
  },
  {
   "cell_type": "code",
   "execution_count": 15,
   "metadata": {},
   "outputs": [
    {
     "output_type": "execute_result",
     "data": {
      "text/plain": "fecha                33\nrango_edad           33\nsexo                 33\ncasos_confirmados    33\nhospitalizados       33\ningresos_uci         33\nfallecidos           33\ndtype: int64"
     },
     "metadata": {},
     "execution_count": 15
    }
   ],
   "source": [
    "#Comprobar si están subidos los últimos datos, si sale 0 es que no hay datos\n",
    "data_spain_ccaa_age = pd.read_csv(\"https://raw.githubusercontent.com/datadista/datasets/master/COVID%2019/nacional_covid19_rango_edad.csv\", sep = ',')\n",
    "data_spain_ccaa_age[data_spain_ccaa_age[\"fecha\"] == date_today_large].count()"
   ]
  },
  {
   "cell_type": "code",
   "execution_count": 16,
   "metadata": {},
   "outputs": [
    {
     "output_type": "stream",
     "name": "stdout",
     "text": "Confirmados  Hospitalizados  Fallecidos\nTotal mujeres           124085           38479        7420\nTotal hombres            96287           49488       10069\nTotal ambos sexos       220375           87969       17489\n               Confirmados  Hospitalizados  Fallecidos\nRango de edad                                         \n0-9                    416             141           1\n10-19                  619             124           2\n20-29                 4047             663          13\n30-39                 7684            1864          36\n40-49                13271            4881         115\n50-59                17009            8048         407\n60-69                16875           10168        1094\n70-79                17161           12081        2942\n80-89                14631            9265        4045\n90 y +                4574            2253        1414\n"
    }
   ],
   "source": [
    "data_spain_ccaa_age = pd.read_csv(\"https://raw.githubusercontent.com/datadista/datasets/master/COVID%2019/nacional_covid19_rango_edad.csv\", sep = ',', encoding = 'utf8', thousands = '.')\n",
    "data_spain_ccaa_age = data_spain_ccaa_age[data_spain_ccaa_age[\"fecha\"] == date_today_large]\n",
    "\n",
    "def take_edad(sexo):\n",
    "    data_spain_ccaa_age_all = data_spain_ccaa_age[data_spain_ccaa_age[\"sexo\"] == sexo]\n",
    "    #Para sacar datos total\n",
    "    data_spain_ccaa_age_total = data_spain_ccaa_age_all.tail(1)\n",
    "    data_spain_ccaa_age_total = data_spain_ccaa_age_total.iloc[:, [3,4,6]]\n",
    "    data_spain_ccaa_age_total.columns = ['Confirmados','Hospitalizados', 'Fallecidos']\n",
    "    #Para sacar datos concretos (de ambos, hombres y mujeres)\n",
    "    data_spain_ccaa_age_concrete = data_spain_ccaa_age_all[:-1]\n",
    "    data_spain_ccaa_age_concrete = data_spain_ccaa_age_concrete.iloc[:, [1,3,4,6]]\n",
    "    data_spain_ccaa_age_concrete.columns = ['Rango de edad','Confirmados','Hospitalizados', 'Fallecidos']\n",
    "    data_spain_ccaa_age_concrete.set_index('Rango de edad', inplace=True)\n",
    "    return data_spain_ccaa_age_concrete, data_spain_ccaa_age_total\n",
    "\n",
    "\n",
    "data_spain_ccaa_age_ambos_concrete, data_spain_ccaa_age_ambos_total = take_edad('ambos')\n",
    "data_spain_ccaa_age_hombres_concrete, data_spain_ccaa_age_hombres_total = take_edad('hombres')\n",
    "data_spain_ccaa_age_mujeres_concrete, data_spain_ccaa_age_mujeres_total = take_edad('mujeres')\n",
    "\n",
    "\n",
    "data_spain_ccaa_age_ambos_total.index = ['Total ambos sexos']\n",
    "data_spain_ccaa_age_hombres_total.index = ['Total hombres']\n",
    "data_spain_ccaa_age_mujeres_total.index = ['Total mujeres']\n",
    "data_spain_ccaa_age_ambos_concat = pd.concat([data_spain_ccaa_age_mujeres_total, data_spain_ccaa_age_hombres_total, \n",
    "                                             data_spain_ccaa_age_ambos_total], axis=0)\n",
    "\n",
    "data_spain_ccaa_age_mujeres_concrete.to_csv('data_spain_ages_mujeres.csv', sep = ';', encoding=\"utf-8\")\n",
    "data_spain_ccaa_age_hombres_concrete.to_csv('data_spain_ages_hombres.csv', sep = ';', encoding=\"utf-8\")\n",
    "data_spain_ccaa_age_ambos_concat.to_csv('data_spain_ages_ambos.csv', sep = ';', encoding=\"utf-8\")\n",
    "\n",
    "print(data_spain_ccaa_age_ambos_concat)\n",
    "print(data_spain_ccaa_age_hombres_concrete)"
   ]
  },
  {
   "cell_type": "markdown",
   "metadata": {},
   "source": [
    "# Subir archivos a SERVIDOR desde FTP"
   ]
  },
  {
   "cell_type": "code",
   "execution_count": 17,
   "metadata": {},
   "outputs": [
    {
     "output_type": "stream",
     "name": "stdout",
     "text": "230-OK. Current restricted directory is /\n230 409 Kbytes used (0%) - authorized: 51200 Kb\ndrwxr-xr-x    2 akakicre   akakicre         4096 May  3 11:29 .\ndrwxr-xr-x    2 akakicre   akakicre         4096 May  3 11:29 ..\n-rw-r--r--    1 akakicre   akakicre           10 May  7 19:06 .ftpquota\n-rw-r--r--    1 akakicre   akakicre       154291 Apr  3 13:34 Imagen_github.jpg\n-rw-r--r--    1 akakicre   akakicre          522 May  7 19:06 data_ccaa_confirmed_recovered_deaths.csv\n-rw-r--r--    1 akakicre   akakicre         7157 May  7 19:06 data_ccaa_evolution_confirmed.csv\n-rw-r--r--    1 akakicre   akakicre         3603 May  7 19:06 data_ccaa_evolution_deaths.csv\n-rw-r--r--    1 akakicre   akakicre         3064 May  7 19:06 data_ccaa_evolution_recovered.csv\n-rw-r--r--    1 akakicre   akakicre          437 May  7 19:06 data_ccaa_newcases_confirmed_recovered_deaths.csv\n-rw-r--r--    1 akakicre   akakicre         1191 May  7 19:06 data_somecountries_newcases.csv\n-rw-r--r--    1 akakicre   akakicre          140 May  7 19:06 data_spain_ages_ambos.csv\n-rw-r--r--    1 akakicre   akakicre          251 May  7 19:06 data_spain_ages_hombres.csv\n-rw-r--r--    1 akakicre   akakicre          248 May  7 19:06 data_spain_ages_mujeres.csv\n-rw-r--r--    1 akakicre   akakicre         1087 May  7 19:06 data_spain_newcases24h.csv\n-rw-r--r--    1 akakicre   akakicre          629 May  7 19:06 data_spain_newcases24h_deaths.csv\n-rw-r--r--    1 akakicre   akakicre          848 Apr 29 08:38 data_spotify_duo_positions.csv\n-rw-r--r--    1 akakicre   akakicre          997 Apr 29 08:38 data_spotify_duo_streams.csv\n-rw-r--r--    1 akakicre   akakicre         3519 Apr 29 08:39 data_spotify_top10_position.csv\n-rw-r--r--    1 akakicre   akakicre         2061 Apr 29 08:39 data_spotify_up_position.csv\n-rw-r--r--    1 akakicre   akakicre         3068 Apr 29 08:39 data_spotify_up_streams.csv\n-rw-r--r--    1 akakicre   akakicre         1185 Apr 29 08:39 data_spotify_variasesp_streams.csv\n-rw-r--r--    1 akakicre   akakicre         1570 Apr 29 08:38 data_spotify_varios_positions.csv\n-rw-r--r--    1 akakicre   akakicre         2660 Apr 29 08:39 data_spotify_varios_streams.csv\n-rw-r--r--    1 akakicre   akakicre          271 May  7 19:06 data_world_actual.csv\n-rw-r--r--    1 akakicre   akakicre          212 May  7 19:06 data_world_actual_den.csv\n-rw-r--r--    1 akakicre   akakicre         5658 May  7 19:06 data_world_from100.csv\n-rw-r--r--    1 akakicre   akakicre          217 May  7 19:06 data_world_resume.csv\n-rw-r--r--    1 akakicre   akakicre         2949 May  7 19:06 data_world_timeline.csv\n-rw-r--r--    1 akakicre   akakicre        60006 Apr  6 09:09 diseno4_covid19.jpg\nNone\n"
    }
   ],
   "source": [
    "# Ayuda: https://www.pythoncircle.com/post/668/uploading-a-file-to-ftp-server-using-python/\n",
    "import csv\n",
    "from ftplib import FTP\n",
    "from io import StringIO\n",
    "\n",
    "passw = pd.read_csv(\"pass.txt\", sep = ',', encoding=\"utf-8\")\n",
    "host = \"akakicreations.com\"\n",
    "username = passw.columns[0]\n",
    "password = passw.columns[1]\n",
    "ftp = FTP(host=host)\n",
    "login_status = ftp.login(user=username, passwd=password)\n",
    "print(login_status)\n",
    "\n",
    "print(ftp.dir())\n",
    "\n",
    "fp = open(\"data_world_resume.csv\", 'rb')\n",
    "ftp.storbinary('STOR %s' % os.path.basename(\"data_world_resume.csv\"), fp, 1024)\n",
    "\n",
    "fp = open(\"data_world_actual.csv\", 'rb')\n",
    "ftp.storbinary('STOR %s' % os.path.basename(\"data_world_actual.csv\"), fp, 1024)\n",
    "\n",
    "\n",
    "fp = open(\"data_world_actual_den.csv\", 'rb')\n",
    "ftp.storbinary('STOR %s' % os.path.basename(\"data_world_actual_den.csv\"), fp, 1024)\n",
    "\n",
    "fp = open(\"data_world_from100.csv\", 'rb')\n",
    "ftp.storbinary('STOR %s' % os.path.basename(\"data_world_from100.csv\"), fp, 1024)\n",
    "\n",
    "fp = open(\"data_world_timeline.csv\", 'rb')\n",
    "ftp.storbinary('STOR %s' % os.path.basename(\"data_world_timeline.csv\"), fp, 1024)\n",
    "\n",
    "fp = open(\"data_somecountries_newcases24h.csv\", 'rb')\n",
    "ftp.storbinary('STOR %s' % os.path.basename(\"data_somecountries_newcases.csv\"), fp, 1024)\n",
    "\n",
    "fp = open(\"data_spain_newcases24h.csv\", 'rb')\n",
    "ftp.storbinary('STOR %s' % os.path.basename(\"data_spain_newcases24h.csv\"), fp, 1024)\n",
    "\n",
    "fp = open(\"data_spain_newcases24h_deaths.csv\", 'rb')\n",
    "ftp.storbinary('STOR %s' % os.path.basename(\"data_spain_newcases24h_deaths.csv\"), fp, 1024)\n",
    "\n",
    "\n",
    "# Datos por CCAA\n",
    "fp = open(\"data_ccaa_evolution_confirmed.csv\", 'rb')\n",
    "ftp.storbinary('STOR %s' % os.path.basename(\"data_ccaa_evolution_confirmed.csv\"), fp, 1024)\n",
    "\n",
    "fp = open(\"data_ccaa_evolution_deaths.csv\", 'rb')\n",
    "ftp.storbinary('STOR %s' % os.path.basename(\"data_ccaa_evolution_deaths.csv\"), fp, 1024)\n",
    "\n",
    "fp = open(\"data_ccaa_evolution_recovered.csv\", 'rb')\n",
    "ftp.storbinary('STOR %s' % os.path.basename(\"data_ccaa_evolution_recovered.csv\"), fp, 1024)\n",
    "\n",
    "fp = open(\"data_ccaa_confirmed_recovered_deaths.csv\", 'rb')\n",
    "ftp.storbinary('STOR %s' % os.path.basename(\"data_ccaa_confirmed_recovered_deaths.csv\"), fp, 1024)\n",
    "\n",
    "fp = open(\"data_ccaa_newcases_confirmed_recovered_deaths.csv\", 'rb')\n",
    "ftp.storbinary('STOR %s' % os.path.basename(\"data_ccaa_newcases_confirmed_recovered_deaths.csv\"), fp, 1024)\n",
    "\n",
    "# Datos por grupos de edad\n",
    "fp = open(\"data_spain_ages_mujeres.csv\", 'rb')\n",
    "ftp.storbinary('STOR %s' % os.path.basename(\"data_spain_ages_mujeres.csv\"), fp, 1024)\n",
    "\n",
    "fp = open(\"data_spain_ages_hombres.csv\", 'rb')\n",
    "ftp.storbinary('STOR %s' % os.path.basename(\"data_spain_ages_hombres.csv\"), fp, 1024)\n",
    "\n",
    "fp = open(\"data_spain_ages_ambos.csv\", 'rb')\n",
    "ftp.storbinary('STOR %s' % os.path.basename(\"data_spain_ages_ambos.csv\"), fp, 1024)\n",
    "\n",
    "fp.close()\n",
    "\n"
   ]
  },
  {
   "cell_type": "code",
   "execution_count": null,
   "metadata": {},
   "outputs": [],
   "source": []
  }
 ],
 "metadata": {
  "file_extension": ".py",
  "kernelspec": {
   "display_name": "Python 3",
   "language": "python",
   "name": "python3"
  },
  "language_info": {
   "codemirror_mode": {
    "name": "ipython",
    "version": 3
   },
   "file_extension": ".py",
   "mimetype": "text/x-python",
   "name": "python",
   "nbconvert_exporter": "python",
   "pygments_lexer": "ipython3",
   "version": "3.7.3-final"
  },
  "mimetype": "text/x-python",
  "name": "python",
  "npconvert_exporter": "python",
  "pygments_lexer": "ipython3",
  "version": 3
 },
 "nbformat": 4,
 "nbformat_minor": 4
}