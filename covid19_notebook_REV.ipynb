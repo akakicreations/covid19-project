{
 "cells": [
  {
   "cell_type": "markdown",
   "metadata": {},
   "source": [
    "# Ejercicio Covid-19"
   ]
  },
  {
   "cell_type": "code",
   "execution_count": 1,
   "metadata": {},
   "outputs": [
    {
     "output_type": "execute_result",
     "data": {
      "text/plain": "'2020-04-24'"
     },
     "metadata": {},
     "execution_count": 1
    }
   ],
   "source": [
    "import os\n",
    "import numpy as np\n",
    "import pandas as pd\n",
    "\n",
    "#Fechas de hoy(datos España) y ayer (datos inetrnacionales)\n",
    "from datetime import datetime, timedelta\n",
    "from datetime import date\n",
    "date_today = date.today()\n",
    "date_today_complete = date.today()\n",
    "date_daybefore = date_today - timedelta(days=1)\n",
    "date_today = date_today.strftime('%d/%m')\n",
    "date_daybefore2 = date_daybefore.strftime('%d/%m')\n",
    "\n",
    "date_today_large = date_today_complete.strftime('%Y-%m-%d')\n",
    "date_daybefore_large = date_daybefore.strftime('%Y-%m-%d')\n",
    "date_today_large"
   ]
  },
  {
   "cell_type": "markdown",
   "metadata": {},
   "source": [
    "## Traer los datos de Datadista"
   ]
  },
  {
   "cell_type": "code",
   "execution_count": 2,
   "metadata": {},
   "outputs": [
    {
     "output_type": "execute_result",
     "data": {
      "text/plain": "0      3992\n1      1781\n2       688\n3      1081\n4      1017\n5       913\n6      4782\n7      5943\n8     16138\n9        84\n10     5809\n11     1358\n12     1730\n13    34212\n14       61\n15      791\n16     1552\n17     8459\n18     1964\n19    92355\nName: 2020-04-24, dtype: int64"
     },
     "metadata": {},
     "execution_count": 2
    }
   ],
   "source": [
    "data_ccaa_confirmed_timeseries = pd.read_csv(\"https://raw.githubusercontent.com/datadista/datasets/master/COVID%2019/ccaa_covid19_casos.csv\", \n",
    "                                             sep = ',', encoding=\"utf-8\")\n",
    "\n",
    "data_ccaa_deaths_timeseries = pd.read_csv(\"https://raw.githubusercontent.com/datadista/datasets/master/COVID%2019/ccaa_covid19_fallecidos.csv\", \n",
    "                                          sep = ',', encoding=\"utf-8\")\n",
    "\n",
    "data_ccaa_recovered_timeseries = pd.read_csv(\"https://raw.githubusercontent.com/datadista/datasets/master/COVID%2019/ccaa_covid19_altas.csv\", \n",
    "                                             sep = ',', encoding=\"utf-8\")\n",
    "\n",
    "#Comprobar si están subidos los últimos datos, si no sale error es que hay datos.\n",
    "data_ccaa_recovered_timeseries[date_today_large]"
   ]
  },
  {
   "cell_type": "markdown",
   "metadata": {},
   "source": [
    "## RESUMEN: Resumen datos globales"
   ]
  },
  {
   "cell_type": "code",
   "execution_count": 3,
   "metadata": {},
   "outputs": [
    {
     "output_type": "stream",
     "name": "stdout",
     "text": "Confirmados  Curados  Fallecidos\nCasos totales en el mundo           2708884   738486      190857\nNuevos casos en el mundo (24h)        84795    28792        7793\nCasos totales en España              213024    89250       22157\nNuevos casos en España (24h)           4635     3335         440\n"
    }
   ],
   "source": [
    "# Función para obtener datos del mundo    \n",
    "def get_data_spain(url):    \n",
    "    data_spain = pd.read_csv(url)\n",
    "    data_spain = data_spain.groupby(\"Country/Region\", as_index=False).sum()\n",
    "    data_spain = data_spain.set_index(\"Country/Region\").transpose()\n",
    "    data_spain = data_spain['Spain']\n",
    "    data_spain_actual = int(data_spain.iloc[-1])\n",
    "    data_spain_before = int(data_spain.iloc[-2])\n",
    "    data_spain_24h = data_spain_actual - data_spain_before\n",
    "    return data_spain_24h, data_spain_actual\n",
    "\n",
    "def get_data_world(url):    \n",
    "    data_world = pd.read_csv(url)\n",
    "    data_world = data_world.groupby(\"Country/Region\", as_index=False).sum()\n",
    "    data_world = data_world.set_index(\"Country/Region\").transpose()\n",
    "    data_world_actual = int(data_world.sum(axis=1).iloc[-1])\n",
    "    data_world_before = int(data_world.sum(axis=1).iloc[-2])\n",
    "    data_world_24h = data_world_actual - data_world_before\n",
    "    return data_world_24h, data_world_actual\n",
    "\n",
    "data_confirmed_path = \"COVID-19/csse_covid_19_data/csse_covid_19_time_series/time_series_covid19_confirmed_global.csv\"\n",
    "data_deaths_path = \"COVID-19/csse_covid_19_data/csse_covid_19_time_series/time_series_covid19_deaths_global.csv\"\n",
    "data_recovered_path = \"COVID-19/csse_covid_19_data/csse_covid_19_time_series/time_series_covid19_recovered_global.csv\"\n",
    "\n",
    "\n",
    "# Para el mundo\n",
    "data_confirmed_world_24h, data_confirmed_world_actual = get_data_world(data_confirmed_path)\n",
    "data_deaths_world_24h, data_deaths_world_actual = get_data_world(data_deaths_path)\n",
    "data_recovered_world_24h, data_recovered_world_actual = get_data_world(data_recovered_path)\n",
    "\n",
    "\n",
    "# Para España\n",
    "data_confirmed_spain_24h, data_confirmed_spain_actual = get_data_spain(data_confirmed_path)\n",
    "data_deaths_spain_24h, data_deaths_spain_actual = get_data_spain(data_deaths_path)\n",
    "data_recovered_spain_24h, data_recovered_spain_actual = get_data_spain(data_recovered_path)\n",
    "\n",
    "'''\n",
    "# Para España actual(dataset de datadista)\n",
    "data_confirmed_spain_actual = int(data_ccaa_confirmed_timeseries[date_today_large].tail(1))\n",
    "data_recovered_spain_actual = int(data_ccaa_recovered_timeseries[date_today_large].tail(1))\n",
    "data_deaths_spain_actual = int(data_ccaa_deaths_timeseries[date_today_large].tail(1))\n",
    "'''\n",
    "\n",
    "'''\n",
    "# Para España nuevos casos 24h(dataset de datadista)\n",
    "data_confirmed_spain_newcases = int(data_ccaa_confirmed_timeseries[date_today_large].tail(1)) - int(data_ccaa_confirmed_timeseries[date_daybefore_large].tail(1))\n",
    "data_recovered_spain_newcases = int(data_ccaa_recovered_timeseries[date_today_large].tail(1)) - int(data_ccaa_recovered_timeseries[date_daybefore_large].tail(1))\n",
    "data_deaths_spain_newcases = int(data_ccaa_deaths_timeseries[date_today_large].tail(1)) - int(data_ccaa_deaths_timeseries[date_daybefore_large].tail(1))\n",
    "'''\n",
    "\n",
    "\n",
    "# Creamos dataframes\n",
    "\n",
    "data_spain_resume_actual = pd.DataFrame({'Confirmados': data_confirmed_spain_actual,\n",
    "                                    'Curados': data_recovered_spain_actual, \n",
    "                                    'Fallecidos': data_deaths_spain_actual}, \n",
    "                                   index=['Casos totales en España'])\n",
    "\n",
    "data_spain_newcases = pd.DataFrame({'Confirmados': data_confirmed_spain_24h,\n",
    "                                    'Curados': data_recovered_spain_24h, \n",
    "                                    'Fallecidos': data_deaths_spain_24h}, \n",
    "                                   index=['Nuevos casos en España (24h)'])\n",
    "\n",
    "\n",
    "data_world_newcases = pd.DataFrame({'Confirmados': data_confirmed_world_24h,\n",
    "                                    'Curados': data_recovered_world_24h, \n",
    "                                    'Fallecidos': data_deaths_world_24h}, \n",
    "                                   index=['Nuevos casos en el mundo (24h)'])\n",
    "\n",
    "data_world_resume_actual = pd.DataFrame({'Confirmados': data_confirmed_world_actual,\n",
    "                                    'Curados': data_recovered_world_actual, \n",
    "                                    'Fallecidos': data_deaths_world_actual}, \n",
    "                                   index=['Casos totales en el mundo'])\n",
    "\n",
    "########### Junto los datos anteriores en una tabla\n",
    "data_resume_final = pd.concat([data_world_resume_actual, data_world_newcases, data_spain_resume_actual, data_spain_newcases])\n",
    "\n",
    "data_resume_final.to_csv('data_world_resume.csv', sep = ';')\n",
    "print(data_resume_final)"
   ]
  },
  {
   "cell_type": "markdown",
   "metadata": {},
   "source": [
    "## MUNDO: Preparación general de datos por países"
   ]
  },
  {
   "cell_type": "code",
   "execution_count": 4,
   "metadata": {},
   "outputs": [
    {
     "output_type": "execute_result",
     "data": {
      "text/plain": "Country/Region    China    France   Germany     Iran     Italy  Korea, South  \\\n2020-04-19      83805.0  154097.0  145184.0  82211.0  178972.0       10661.0   \n2020-04-20      83817.0  156480.0  147065.0  83505.0  181228.0       10674.0   \n2020-04-21      83853.0  159297.0  148291.0  84802.0  183957.0       10683.0   \n2020-04-22      83868.0  157125.0  150648.0  85996.0  187327.0       10694.0   \n2020-04-23      83884.0  159460.0  153129.0  87026.0  189973.0       10708.0   \n\nCountry/Region  Norway     Spain        US  United Kingdom  \n2020-04-19      7078.0  198674.0  758809.0        121172.0  \n2020-04-20      7156.0  200210.0  784326.0        125856.0  \n2020-04-21      7191.0  204178.0  811865.0        130172.0  \n2020-04-22      7338.0  208389.0  840351.0        134638.0  \n2020-04-23      7401.0  213024.0  869170.0        139246.0  ",
      "text/html": "<div>\n<style scoped>\n    .dataframe tbody tr th:only-of-type {\n        vertical-align: middle;\n    }\n\n    .dataframe tbody tr th {\n        vertical-align: top;\n    }\n\n    .dataframe thead th {\n        text-align: right;\n    }\n</style>\n<table border=\"1\" class=\"dataframe\">\n  <thead>\n    <tr style=\"text-align: right;\">\n      <th>Country/Region</th>\n      <th>China</th>\n      <th>France</th>\n      <th>Germany</th>\n      <th>Iran</th>\n      <th>Italy</th>\n      <th>Korea, South</th>\n      <th>Norway</th>\n      <th>Spain</th>\n      <th>US</th>\n      <th>United Kingdom</th>\n    </tr>\n  </thead>\n  <tbody>\n    <tr>\n      <th>2020-04-19</th>\n      <td>83805.0</td>\n      <td>154097.0</td>\n      <td>145184.0</td>\n      <td>82211.0</td>\n      <td>178972.0</td>\n      <td>10661.0</td>\n      <td>7078.0</td>\n      <td>198674.0</td>\n      <td>758809.0</td>\n      <td>121172.0</td>\n    </tr>\n    <tr>\n      <th>2020-04-20</th>\n      <td>83817.0</td>\n      <td>156480.0</td>\n      <td>147065.0</td>\n      <td>83505.0</td>\n      <td>181228.0</td>\n      <td>10674.0</td>\n      <td>7156.0</td>\n      <td>200210.0</td>\n      <td>784326.0</td>\n      <td>125856.0</td>\n    </tr>\n    <tr>\n      <th>2020-04-21</th>\n      <td>83853.0</td>\n      <td>159297.0</td>\n      <td>148291.0</td>\n      <td>84802.0</td>\n      <td>183957.0</td>\n      <td>10683.0</td>\n      <td>7191.0</td>\n      <td>204178.0</td>\n      <td>811865.0</td>\n      <td>130172.0</td>\n    </tr>\n    <tr>\n      <th>2020-04-22</th>\n      <td>83868.0</td>\n      <td>157125.0</td>\n      <td>150648.0</td>\n      <td>85996.0</td>\n      <td>187327.0</td>\n      <td>10694.0</td>\n      <td>7338.0</td>\n      <td>208389.0</td>\n      <td>840351.0</td>\n      <td>134638.0</td>\n    </tr>\n    <tr>\n      <th>2020-04-23</th>\n      <td>83884.0</td>\n      <td>159460.0</td>\n      <td>153129.0</td>\n      <td>87026.0</td>\n      <td>189973.0</td>\n      <td>10708.0</td>\n      <td>7401.0</td>\n      <td>213024.0</td>\n      <td>869170.0</td>\n      <td>139246.0</td>\n    </tr>\n  </tbody>\n</table>\n</div>"
     },
     "metadata": {},
     "execution_count": 4
    }
   ],
   "source": [
    "# Datos https://github.com/CSSEGISandData/COVID-19.git\n",
    "data = pd.read_csv(\"COVID-19/csse_covid_19_data/csse_covid_19_time_series/time_series_covid19_confirmed_global.csv\" )\n",
    "\n",
    "#Saco un dataset con solo los países\n",
    "data_countries = data.groupby(\"Country/Region\", as_index=False).sum()\n",
    "\n",
    "# Hago transposición de los datos para mover las columnas en filas \n",
    "data_trans = data_countries.set_index('Country/Region').transpose()\n",
    "# Y me quedo sólo con los datos temporales y número de casos\n",
    "data_time = data_trans[2:]\n",
    "\n",
    "# Cogemos solo determinados países\n",
    "data_time = data_time[['China', 'France', 'Germany', 'Iran','Italy', 'Korea, South', 'Norway','Spain', 'US', 'United Kingdom']]\n",
    "\n",
    "#Hago listado de Countries\n",
    "list_countries = data_time.columns\n",
    "list_countries\n",
    "\n",
    "#Convierto la columna fecha en datetime\n",
    "from datetime import date\n",
    "data_time.index = pd.to_datetime(data_time.index)\n",
    "data_time.tail()\n",
    ""
   ]
  },
  {
   "cell_type": "markdown",
   "metadata": {},
   "source": [
    "## MUNDO: Confirmados, curados y fallecidos"
   ]
  },
  {
   "cell_type": "code",
   "execution_count": 5,
   "metadata": {},
   "outputs": [
    {
     "output_type": "execute_result",
     "data": {
      "text/plain": "                Confirmados   Curados  Fallecidos\nCountry/Region                                   \nChina               83884.0   77983.0      4636.0\nFrance             159460.0   42762.0     21889.0\nGermany            153129.0  103300.0      5575.0\nItaly              189973.0   57576.0     25549.0\nSpain              213024.0   89250.0     22157.0\nUS                 869170.0   80203.0     49954.0\nUnited Kingdom     139246.0     712.0     18791.0",
      "text/html": "<div>\n<style scoped>\n    .dataframe tbody tr th:only-of-type {\n        vertical-align: middle;\n    }\n\n    .dataframe tbody tr th {\n        vertical-align: top;\n    }\n\n    .dataframe thead th {\n        text-align: right;\n    }\n</style>\n<table border=\"1\" class=\"dataframe\">\n  <thead>\n    <tr style=\"text-align: right;\">\n      <th></th>\n      <th>Confirmados</th>\n      <th>Curados</th>\n      <th>Fallecidos</th>\n    </tr>\n    <tr>\n      <th>Country/Region</th>\n      <th></th>\n      <th></th>\n      <th></th>\n    </tr>\n  </thead>\n  <tbody>\n    <tr>\n      <th>China</th>\n      <td>83884.0</td>\n      <td>77983.0</td>\n      <td>4636.0</td>\n    </tr>\n    <tr>\n      <th>France</th>\n      <td>159460.0</td>\n      <td>42762.0</td>\n      <td>21889.0</td>\n    </tr>\n    <tr>\n      <th>Germany</th>\n      <td>153129.0</td>\n      <td>103300.0</td>\n      <td>5575.0</td>\n    </tr>\n    <tr>\n      <th>Italy</th>\n      <td>189973.0</td>\n      <td>57576.0</td>\n      <td>25549.0</td>\n    </tr>\n    <tr>\n      <th>Spain</th>\n      <td>213024.0</td>\n      <td>89250.0</td>\n      <td>22157.0</td>\n    </tr>\n    <tr>\n      <th>US</th>\n      <td>869170.0</td>\n      <td>80203.0</td>\n      <td>49954.0</td>\n    </tr>\n    <tr>\n      <th>United Kingdom</th>\n      <td>139246.0</td>\n      <td>712.0</td>\n      <td>18791.0</td>\n    </tr>\n  </tbody>\n</table>\n</div>"
     },
     "metadata": {},
     "execution_count": 5
    }
   ],
   "source": [
    "######### Confirmados\n",
    "\n",
    "data_confirmed = pd.read_csv(\"COVID-19/csse_covid_19_data/csse_covid_19_time_series/time_series_covid19_confirmed_global.csv\" )\n",
    "#Saco un dataset con solo los países\n",
    "data_confirmed = data_confirmed.groupby(\"Country/Region\", as_index=False).sum()\n",
    "# Hago transposición de los datos para mover las columnas en filas \n",
    "data_confirmed = data_confirmed.set_index('Country/Region').transpose()\n",
    "# Y me quedo sólo con los datos temporales y número de casos\n",
    "data_confirmed = data_confirmed[2:]\n",
    "# Cogemos solo determinados países\n",
    "data_confirmed = data_confirmed[['China', 'France', 'Germany', 'Italy','Spain', 'US', 'United Kingdom']]\n",
    "data_confirmed = data_confirmed[-1:]\n",
    "\n",
    "######### Muertos\n",
    "\n",
    "data_deaths = pd.read_csv(\"COVID-19/csse_covid_19_data/csse_covid_19_time_series/time_series_covid19_deaths_global.csv\")\n",
    "#Saco un dataset con solo los países\n",
    "data_deaths = data_deaths.groupby(\"Country/Region\", as_index=False).sum()\n",
    "#Se ve que están todos y comprobado que suma\n",
    "data_deaths[::]\n",
    "# Hago transposición de los datos para mover las columnas en filas \n",
    "data_deaths = data_deaths.set_index('Country/Region').transpose()\n",
    "\n",
    "# Y me quedo sólo con los datos temporales y número de casos\n",
    "data_deaths = data_deaths[2:]\n",
    "data_deaths.tail()\n",
    "# Cogemos solo determinados países\n",
    "data_deaths = data_deaths[['China', 'France', 'Germany', 'Italy','Spain', 'US', 'United Kingdom']]\n",
    "data_deaths = data_deaths[-1:]\n",
    "\n",
    "######### Recuperados\n",
    "\n",
    "data_recovered = pd.read_csv(\"COVID-19/csse_covid_19_data/csse_covid_19_time_series/time_series_covid19_recovered_global.csv\" )\n",
    "#Saco un dataset con solo los países\n",
    "data_recovered = data_recovered.groupby(\"Country/Region\", as_index=False).sum()\n",
    "# Hago transposición de los datos para mover las columnas en filas \n",
    "data_recovered = data_recovered.set_index('Country/Region').transpose()\n",
    "# Y me quedo sólo con los datos temporales y número de casos\n",
    "data_recovered = data_recovered[2:]\n",
    "# Cogemos solo determinados países\n",
    "data_recovered = data_recovered[['China', 'France', 'Germany', 'Italy','Spain', 'US', 'United Kingdom']]\n",
    "data_recovered = data_recovered[-1:]\n",
    "\n",
    "######### Merge de datos\n",
    "\n",
    "# Saco la fecha:\n",
    "from datetime import datetime, timedelta\n",
    "date_today_intern = date.today()\n",
    "date_today_intern = date_today_intern.today() - timedelta(days=1) #Quito uno porque esta base de datos siempre muestra datos del día anterior\n",
    "date_today_intern = date_today_intern.strftime('%d/%m')\n",
    "\n",
    "#Juntar ahora datos\n",
    "data_columns = ['Confirmados', 'Curados', 'Fallecidos']\n",
    "\n",
    "data_together = pd.merge(data_confirmed, data_recovered, how='outer')\n",
    "data_together = pd.merge(data_together, data_deaths, how='outer')\n",
    "data_together.index = data_columns\n",
    "data_together_final = data_together.transpose()\n",
    "# data_together = data_together.reindex(columns =data_columns) \n",
    "# data_together = data_together.reindex(data_index)\n",
    "\n",
    "# Exporto CSV\n",
    "data_together_final.to_csv('data_world_actual.csv', sep = ';')\n",
    "data_together_final"
   ]
  },
  {
   "cell_type": "markdown",
   "metadata": {},
   "source": [
    "## MUNDO: Confirmados, curados y fallecidos por habitantes de población"
   ]
  },
  {
   "cell_type": "code",
   "execution_count": 6,
   "metadata": {},
   "outputs": [
    {
     "output_type": "execute_result",
     "data": {
      "text/plain": "Country/Region    China    France   Germany     Italy     Spain        US  \\\nConfirmados     83884.0  159460.0  153129.0  189973.0  213024.0  869170.0   \nCurados         77983.0   42762.0  103300.0   57576.0   89250.0   80203.0   \nFallecidos       4636.0   21889.0    5575.0   25549.0   22157.0   49954.0   \n\nCountry/Region  United Kingdom  \nConfirmados           139246.0  \nCurados                  712.0  \nFallecidos             18791.0  ",
      "text/html": "<div>\n<style scoped>\n    .dataframe tbody tr th:only-of-type {\n        vertical-align: middle;\n    }\n\n    .dataframe tbody tr th {\n        vertical-align: top;\n    }\n\n    .dataframe thead th {\n        text-align: right;\n    }\n</style>\n<table border=\"1\" class=\"dataframe\">\n  <thead>\n    <tr style=\"text-align: right;\">\n      <th>Country/Region</th>\n      <th>China</th>\n      <th>France</th>\n      <th>Germany</th>\n      <th>Italy</th>\n      <th>Spain</th>\n      <th>US</th>\n      <th>United Kingdom</th>\n    </tr>\n  </thead>\n  <tbody>\n    <tr>\n      <th>Confirmados</th>\n      <td>83884.0</td>\n      <td>159460.0</td>\n      <td>153129.0</td>\n      <td>189973.0</td>\n      <td>213024.0</td>\n      <td>869170.0</td>\n      <td>139246.0</td>\n    </tr>\n    <tr>\n      <th>Curados</th>\n      <td>77983.0</td>\n      <td>42762.0</td>\n      <td>103300.0</td>\n      <td>57576.0</td>\n      <td>89250.0</td>\n      <td>80203.0</td>\n      <td>712.0</td>\n    </tr>\n    <tr>\n      <th>Fallecidos</th>\n      <td>4636.0</td>\n      <td>21889.0</td>\n      <td>5575.0</td>\n      <td>25549.0</td>\n      <td>22157.0</td>\n      <td>49954.0</td>\n      <td>18791.0</td>\n    </tr>\n  </tbody>\n</table>\n</div>"
     },
     "metadata": {},
     "execution_count": 6
    }
   ],
   "source": [
    "data_together"
   ]
  },
  {
   "cell_type": "code",
   "execution_count": 7,
   "metadata": {},
   "outputs": [
    {
     "output_type": "execute_result",
     "data": {
      "text/plain": "Country/Region  China  France  Germany   Italy   Spain      US  United Kingdom\nConfirmados      60.0  2379.0   1845.0  3138.0  4538.0  2648.0          2089.0\nCurados          56.0   638.0   1244.0   951.0  1901.0   244.0            11.0\nFallecidos        3.0   327.0     67.0   422.0   472.0   152.0           282.0",
      "text/html": "<div>\n<style scoped>\n    .dataframe tbody tr th:only-of-type {\n        vertical-align: middle;\n    }\n\n    .dataframe tbody tr th {\n        vertical-align: top;\n    }\n\n    .dataframe thead th {\n        text-align: right;\n    }\n</style>\n<table border=\"1\" class=\"dataframe\">\n  <thead>\n    <tr style=\"text-align: right;\">\n      <th>Country/Region</th>\n      <th>China</th>\n      <th>France</th>\n      <th>Germany</th>\n      <th>Italy</th>\n      <th>Spain</th>\n      <th>US</th>\n      <th>United Kingdom</th>\n    </tr>\n  </thead>\n  <tbody>\n    <tr>\n      <th>Confirmados</th>\n      <td>60.0</td>\n      <td>2379.0</td>\n      <td>1845.0</td>\n      <td>3138.0</td>\n      <td>4538.0</td>\n      <td>2648.0</td>\n      <td>2089.0</td>\n    </tr>\n    <tr>\n      <th>Curados</th>\n      <td>56.0</td>\n      <td>638.0</td>\n      <td>1244.0</td>\n      <td>951.0</td>\n      <td>1901.0</td>\n      <td>244.0</td>\n      <td>11.0</td>\n    </tr>\n    <tr>\n      <th>Fallecidos</th>\n      <td>3.0</td>\n      <td>327.0</td>\n      <td>67.0</td>\n      <td>422.0</td>\n      <td>472.0</td>\n      <td>152.0</td>\n      <td>282.0</td>\n    </tr>\n  </tbody>\n</table>\n</div>"
     },
     "metadata": {},
     "execution_count": 7
    }
   ],
   "source": [
    "pob_wuhan = 11895000\n",
    "pob_china = 1393000000\n",
    "pob_france = 67028048\n",
    "pob_germany = 83019200\n",
    "pob_italy = 60541000\n",
    "pob_spain = 46940000\n",
    "pob_US = 328200000\n",
    "pob_UK = 66650000\n",
    "\n",
    "# Por cada millón de habitantes hay estos casos...\n",
    "data_together_den = data_together.copy()\n",
    "data_together_den['China'] = (data_together_den['China'] / pob_china)*1000000 # Por cada caso infectado hay 142 que no lo están\n",
    "data_together_den['France'] = (data_together_den['France'] / pob_france)*1000000 # Por cada caso infectado hay 455 que no lo están\n",
    "data_together_den['Germany'] = (data_together_den['Germany'] / pob_germany)*1000000  # Por cada caso infectado hay 455 que no lo están\n",
    "data_together_den['Italy'] = (data_together_den['Italy'] / pob_italy)*1000000\n",
    "data_together_den['Spain'] = (data_together_den['Spain'] / pob_spain)*1000000\n",
    "data_together_den['US'] = (data_together_den['US'] / pob_US)*1000000\n",
    "data_together_den['United Kingdom'] = (data_together_den['United Kingdom'] / pob_UK)*1000000\n",
    "data_together_den = data_together_den.round(0)\n",
    "# Exporto CSV\n",
    "data_together_den.to_csv('data_world_actual_den.csv', sep = ';')\n",
    "data_together_den"
   ]
  },
  {
   "cell_type": "markdown",
   "metadata": {},
   "source": [
    "## MUNDO: CSV : covid19_data_drive_from100.csv"
   ]
  },
  {
   "cell_type": "code",
   "execution_count": 8,
   "metadata": {},
   "outputs": [
    {
     "output_type": "execute_result",
     "data": {
      "text/plain": "    France    China  Germany     Iran     Italy  Korea, South  Norway  Spain  \\\n56     NaN  81102.0      NaN  87026.0  181228.0       10635.0     NaN    NaN   \n57     NaN  81156.0      NaN      NaN  183957.0       10653.0     NaN    NaN   \n58     NaN  81250.0      NaN      NaN  187327.0       10661.0     NaN    NaN   \n59     NaN  81305.0      NaN      NaN  189973.0       10674.0     NaN    NaN   \n60     NaN  81435.0      NaN      NaN       NaN       10683.0     NaN    NaN   \n\n    US  United Kingdom  \n56 NaN             NaN  \n57 NaN             NaN  \n58 NaN             NaN  \n59 NaN             NaN  \n60 NaN             NaN  ",
      "text/html": "<div>\n<style scoped>\n    .dataframe tbody tr th:only-of-type {\n        vertical-align: middle;\n    }\n\n    .dataframe tbody tr th {\n        vertical-align: top;\n    }\n\n    .dataframe thead th {\n        text-align: right;\n    }\n</style>\n<table border=\"1\" class=\"dataframe\">\n  <thead>\n    <tr style=\"text-align: right;\">\n      <th></th>\n      <th>France</th>\n      <th>China</th>\n      <th>Germany</th>\n      <th>Iran</th>\n      <th>Italy</th>\n      <th>Korea, South</th>\n      <th>Norway</th>\n      <th>Spain</th>\n      <th>US</th>\n      <th>United Kingdom</th>\n    </tr>\n  </thead>\n  <tbody>\n    <tr>\n      <th>56</th>\n      <td>NaN</td>\n      <td>81102.0</td>\n      <td>NaN</td>\n      <td>87026.0</td>\n      <td>181228.0</td>\n      <td>10635.0</td>\n      <td>NaN</td>\n      <td>NaN</td>\n      <td>NaN</td>\n      <td>NaN</td>\n    </tr>\n    <tr>\n      <th>57</th>\n      <td>NaN</td>\n      <td>81156.0</td>\n      <td>NaN</td>\n      <td>NaN</td>\n      <td>183957.0</td>\n      <td>10653.0</td>\n      <td>NaN</td>\n      <td>NaN</td>\n      <td>NaN</td>\n      <td>NaN</td>\n    </tr>\n    <tr>\n      <th>58</th>\n      <td>NaN</td>\n      <td>81250.0</td>\n      <td>NaN</td>\n      <td>NaN</td>\n      <td>187327.0</td>\n      <td>10661.0</td>\n      <td>NaN</td>\n      <td>NaN</td>\n      <td>NaN</td>\n      <td>NaN</td>\n    </tr>\n    <tr>\n      <th>59</th>\n      <td>NaN</td>\n      <td>81305.0</td>\n      <td>NaN</td>\n      <td>NaN</td>\n      <td>189973.0</td>\n      <td>10674.0</td>\n      <td>NaN</td>\n      <td>NaN</td>\n      <td>NaN</td>\n      <td>NaN</td>\n    </tr>\n    <tr>\n      <th>60</th>\n      <td>NaN</td>\n      <td>81435.0</td>\n      <td>NaN</td>\n      <td>NaN</td>\n      <td>NaN</td>\n      <td>10683.0</td>\n      <td>NaN</td>\n      <td>NaN</td>\n      <td>NaN</td>\n      <td>NaN</td>\n    </tr>\n  </tbody>\n</table>\n</div>"
     },
     "metadata": {},
     "execution_count": 8
    }
   ],
   "source": [
    "# Coger solo datos del último mes\n",
    "data_time_30days = data_time[-200:]\n",
    "# Si quiero quitar China: data_time_filter = data_time_filter.drop('China', axis=1)\n",
    "\n",
    "#Exporto los datos en diferentes arhcivos con casa país\n",
    "for country in list_countries:\n",
    "    dataX = data_time_30days[country]\n",
    "    dataX = dataX[dataX > 200]\n",
    "    dataX.to_csv('data_' + country + \".csv\", index=False, header= country)\n",
    "\n",
    "# Lista dataframes\n",
    "# dataframes_list = ['dataframe_France', 'dataframe_China', 'dataframe_Germany', 'dataframe_Iran', 'dataframe_Italy', 'dataframe_Korea', 'dataframe_Norway', 'dataframe_Spain', 'dataframe_US', 'dataframe_UnitedKingdom']\n",
    "\n",
    "# Creamos los CSV\n",
    "dataframe_France = pd.read_csv('data_France.csv')\n",
    "dataframe_China = pd.read_csv('data_China.csv')\n",
    "dataframe_Germany = pd.read_csv('data_Germany.csv')\n",
    "dataframe_Iran = pd.read_csv('data_Iran.csv')\n",
    "dataframe_Italy = pd.read_csv('data_Italy.csv')\n",
    "dataframe_Korea = pd.read_csv('data_Korea, South.csv')\n",
    "dataframe_Norway = pd.read_csv('data_Norway.csv')\n",
    "dataframe_Spain = pd.read_csv('data_Spain.csv')\n",
    "dataframe_US = pd.read_csv('data_US.csv')\n",
    "dataframe_UnitedKingdom = pd.read_csv('data_United Kingdom.csv')\n",
    "\n",
    "#Les añadimos NaN al final y reindexamos\n",
    "new_index = np.arange(1,61)\n",
    "dataframe_France = dataframe_France.reindex(new_index)\n",
    "dataframe_China = dataframe_China.reindex(new_index)\n",
    "dataframe_Germany = dataframe_Germany.reindex(new_index)\n",
    "dataframe_Iran = dataframe_Iran.reindex(new_index)\n",
    "dataframe_Italy = dataframe_Italy.reindex(new_index)\n",
    "dataframe_Korea = dataframe_Korea.reindex(new_index)\n",
    "dataframe_Norway = dataframe_Norway.reindex(new_index)\n",
    "dataframe_Spain = dataframe_Spain.reindex(new_index)\n",
    "dataframe_US = dataframe_US.reindex(new_index)\n",
    "dataframe_UnitedKingdom = dataframe_UnitedKingdom.reindex(new_index)\n",
    "\n",
    "#Juntar dataframes y Exportar CSV completo\n",
    "data_drive_from100cases = dataframe_France.join([dataframe_China, dataframe_Germany, \n",
    "                                                 dataframe_Iran, dataframe_Italy, dataframe_Korea, \n",
    "                                                 dataframe_Norway, dataframe_Spain, dataframe_US,\n",
    "                                                 dataframe_UnitedKingdom])\n",
    "\n",
    "data_drive_from100cases.to_csv('data_world_from100.csv', sep = ';')\n",
    "data_drive_from100cases.tail()"
   ]
  },
  {
   "cell_type": "markdown",
   "metadata": {},
   "source": [
    "## MUNDO: CSV covid19_data_drive_days.csv"
   ]
  },
  {
   "cell_type": "code",
   "execution_count": 9,
   "metadata": {},
   "outputs": [
    {
     "output_type": "execute_result",
     "data": {
      "text/plain": "Country/Region    China    France   Germany     Iran     Italy  Korea, South  \\\n2020-04-19      83805.0  154097.0  145184.0  82211.0  178972.0       10661.0   \n2020-04-20      83817.0  156480.0  147065.0  83505.0  181228.0       10674.0   \n2020-04-21      83853.0  159297.0  148291.0  84802.0  183957.0       10683.0   \n2020-04-22      83868.0  157125.0  150648.0  85996.0  187327.0       10694.0   \n2020-04-23      83884.0  159460.0  153129.0  87026.0  189973.0       10708.0   \n\nCountry/Region  Norway     Spain        US  United Kingdom  \n2020-04-19      7078.0  198674.0  758809.0        121172.0  \n2020-04-20      7156.0  200210.0  784326.0        125856.0  \n2020-04-21      7191.0  204178.0  811865.0        130172.0  \n2020-04-22      7338.0  208389.0  840351.0        134638.0  \n2020-04-23      7401.0  213024.0  869170.0        139246.0  ",
      "text/html": "<div>\n<style scoped>\n    .dataframe tbody tr th:only-of-type {\n        vertical-align: middle;\n    }\n\n    .dataframe tbody tr th {\n        vertical-align: top;\n    }\n\n    .dataframe thead th {\n        text-align: right;\n    }\n</style>\n<table border=\"1\" class=\"dataframe\">\n  <thead>\n    <tr style=\"text-align: right;\">\n      <th>Country/Region</th>\n      <th>China</th>\n      <th>France</th>\n      <th>Germany</th>\n      <th>Iran</th>\n      <th>Italy</th>\n      <th>Korea, South</th>\n      <th>Norway</th>\n      <th>Spain</th>\n      <th>US</th>\n      <th>United Kingdom</th>\n    </tr>\n  </thead>\n  <tbody>\n    <tr>\n      <th>2020-04-19</th>\n      <td>83805.0</td>\n      <td>154097.0</td>\n      <td>145184.0</td>\n      <td>82211.0</td>\n      <td>178972.0</td>\n      <td>10661.0</td>\n      <td>7078.0</td>\n      <td>198674.0</td>\n      <td>758809.0</td>\n      <td>121172.0</td>\n    </tr>\n    <tr>\n      <th>2020-04-20</th>\n      <td>83817.0</td>\n      <td>156480.0</td>\n      <td>147065.0</td>\n      <td>83505.0</td>\n      <td>181228.0</td>\n      <td>10674.0</td>\n      <td>7156.0</td>\n      <td>200210.0</td>\n      <td>784326.0</td>\n      <td>125856.0</td>\n    </tr>\n    <tr>\n      <th>2020-04-21</th>\n      <td>83853.0</td>\n      <td>159297.0</td>\n      <td>148291.0</td>\n      <td>84802.0</td>\n      <td>183957.0</td>\n      <td>10683.0</td>\n      <td>7191.0</td>\n      <td>204178.0</td>\n      <td>811865.0</td>\n      <td>130172.0</td>\n    </tr>\n    <tr>\n      <th>2020-04-22</th>\n      <td>83868.0</td>\n      <td>157125.0</td>\n      <td>150648.0</td>\n      <td>85996.0</td>\n      <td>187327.0</td>\n      <td>10694.0</td>\n      <td>7338.0</td>\n      <td>208389.0</td>\n      <td>840351.0</td>\n      <td>134638.0</td>\n    </tr>\n    <tr>\n      <th>2020-04-23</th>\n      <td>83884.0</td>\n      <td>159460.0</td>\n      <td>153129.0</td>\n      <td>87026.0</td>\n      <td>189973.0</td>\n      <td>10708.0</td>\n      <td>7401.0</td>\n      <td>213024.0</td>\n      <td>869170.0</td>\n      <td>139246.0</td>\n    </tr>\n  </tbody>\n</table>\n</div>"
     },
     "metadata": {},
     "execution_count": 9
    }
   ],
   "source": [
    "# Coger solo datos de últimos 60 días\n",
    "data_time_Xdays = data_time[-30:]\n",
    "\n",
    "#Exportar CSV por días progresivos\n",
    "data_drive_lastX = data_time_Xdays.loc[:,list_countries]\n",
    "data_drive_lastX.to_csv('data_world_timeline.csv', sep = ';', encoding=\"utf-8\")\n",
    "data_drive_lastX.tail()\n",
    ""
   ]
  },
  {
   "cell_type": "markdown",
   "metadata": {},
   "source": [
    "## ESPAÑA: Resumen datos España: data_spain_newcases24h.csv"
   ]
  },
  {
   "cell_type": "code",
   "execution_count": 10,
   "metadata": {},
   "outputs": [
    {
     "output_type": "execute_result",
     "data": {
      "text/plain": "                              2020-03-15  2020-03-16  2020-03-17  2020-03-18  \\\nFallecidos (24h) en España            94          53         191          90   \nFallecidos (24h) en Italia           368         349         345         475   \nFallecidos (24h) en Francia            0          58           0           0   \nFallecidos (24h) en Alemania           2           6           7           4   \n\n                              2020-03-19  2020-03-20  2020-03-21  2020-03-22  \\\nFallecidos (24h) en España           207         213         332         397   \nFallecidos (24h) en Italia           427         627         793         651   \nFallecidos (24h) en Francia           95         207         112         113   \nFallecidos (24h) en Alemania          16          23          17          10   \n\n                              2020-03-23  2020-03-24  ...  2020-04-14  \\\nFallecidos (24h) en España           539         497  ...         300   \nFallecidos (24h) en Italia           601         743  ...         602   \nFallecidos (24h) en Francia          186         240  ...         762   \nFallecidos (24h) en Alemania          29          34  ...         100   \n\n                              2020-04-15  2020-04-16  2020-04-17  2020-04-18  \\\nFallecidos (24h) en España           652         607         687          41   \nFallecidos (24h) en Italia           578         525         575         482   \nFallecidos (24h) en Francia         1440         753         762         642   \nFallecidos (24h) en Alemania         510         248         300         107   \n\n                              2020-04-19  2020-04-20  2020-04-21  2020-04-22  \\\nFallecidos (24h) en España           410         399         430         435   \nFallecidos (24h) en Italia           433         454         534         437   \nFallecidos (24h) en Francia          399         548         537         544   \nFallecidos (24h) en Alemania         127         276         171         246   \n\n                              2020-04-23  \nFallecidos (24h) en España           440  \nFallecidos (24h) en Italia           464  \nFallecidos (24h) en Francia          516  \nFallecidos (24h) en Alemania         296  \n\n[4 rows x 40 columns]",
      "text/html": "<div>\n<style scoped>\n    .dataframe tbody tr th:only-of-type {\n        vertical-align: middle;\n    }\n\n    .dataframe tbody tr th {\n        vertical-align: top;\n    }\n\n    .dataframe thead th {\n        text-align: right;\n    }\n</style>\n<table border=\"1\" class=\"dataframe\">\n  <thead>\n    <tr style=\"text-align: right;\">\n      <th></th>\n      <th>2020-03-15</th>\n      <th>2020-03-16</th>\n      <th>2020-03-17</th>\n      <th>2020-03-18</th>\n      <th>2020-03-19</th>\n      <th>2020-03-20</th>\n      <th>2020-03-21</th>\n      <th>2020-03-22</th>\n      <th>2020-03-23</th>\n      <th>2020-03-24</th>\n      <th>...</th>\n      <th>2020-04-14</th>\n      <th>2020-04-15</th>\n      <th>2020-04-16</th>\n      <th>2020-04-17</th>\n      <th>2020-04-18</th>\n      <th>2020-04-19</th>\n      <th>2020-04-20</th>\n      <th>2020-04-21</th>\n      <th>2020-04-22</th>\n      <th>2020-04-23</th>\n    </tr>\n  </thead>\n  <tbody>\n    <tr>\n      <th>Fallecidos (24h) en España</th>\n      <td>94</td>\n      <td>53</td>\n      <td>191</td>\n      <td>90</td>\n      <td>207</td>\n      <td>213</td>\n      <td>332</td>\n      <td>397</td>\n      <td>539</td>\n      <td>497</td>\n      <td>...</td>\n      <td>300</td>\n      <td>652</td>\n      <td>607</td>\n      <td>687</td>\n      <td>41</td>\n      <td>410</td>\n      <td>399</td>\n      <td>430</td>\n      <td>435</td>\n      <td>440</td>\n    </tr>\n    <tr>\n      <th>Fallecidos (24h) en Italia</th>\n      <td>368</td>\n      <td>349</td>\n      <td>345</td>\n      <td>475</td>\n      <td>427</td>\n      <td>627</td>\n      <td>793</td>\n      <td>651</td>\n      <td>601</td>\n      <td>743</td>\n      <td>...</td>\n      <td>602</td>\n      <td>578</td>\n      <td>525</td>\n      <td>575</td>\n      <td>482</td>\n      <td>433</td>\n      <td>454</td>\n      <td>534</td>\n      <td>437</td>\n      <td>464</td>\n    </tr>\n    <tr>\n      <th>Fallecidos (24h) en Francia</th>\n      <td>0</td>\n      <td>58</td>\n      <td>0</td>\n      <td>0</td>\n      <td>95</td>\n      <td>207</td>\n      <td>112</td>\n      <td>113</td>\n      <td>186</td>\n      <td>240</td>\n      <td>...</td>\n      <td>762</td>\n      <td>1440</td>\n      <td>753</td>\n      <td>762</td>\n      <td>642</td>\n      <td>399</td>\n      <td>548</td>\n      <td>537</td>\n      <td>544</td>\n      <td>516</td>\n    </tr>\n    <tr>\n      <th>Fallecidos (24h) en Alemania</th>\n      <td>2</td>\n      <td>6</td>\n      <td>7</td>\n      <td>4</td>\n      <td>16</td>\n      <td>23</td>\n      <td>17</td>\n      <td>10</td>\n      <td>29</td>\n      <td>34</td>\n      <td>...</td>\n      <td>100</td>\n      <td>510</td>\n      <td>248</td>\n      <td>300</td>\n      <td>107</td>\n      <td>127</td>\n      <td>276</td>\n      <td>171</td>\n      <td>246</td>\n      <td>296</td>\n    </tr>\n  </tbody>\n</table>\n<p>4 rows × 40 columns</p>\n</div>"
     },
     "metadata": {},
     "execution_count": 10
    }
   ],
   "source": [
    "path_c = \"COVID-19/csse_covid_19_data/csse_covid_19_time_series/time_series_covid19_confirmed_global.csv\"\n",
    "path_d = \"COVID-19/csse_covid_19_data/csse_covid_19_time_series/time_series_covid19_deaths_global.csv\"\n",
    "path_r = \"COVID-19/csse_covid_19_data/csse_covid_19_time_series/time_series_covid19_recovered_global.csv\"\n",
    "# Evolución últimos 20 días de neuvos casos\n",
    "\n",
    "\n",
    "def day_consecutive(day):\n",
    "    date_cons = date.today()\n",
    "    date_cons = date_cons - timedelta(days=day)\n",
    "    date_cons = date_cons.strftime('%Y-%m-%d')\n",
    "    return date_cons\n",
    "\n",
    "def data_day(data_path, number_to_rest):\n",
    "    data = pd.read_csv(data_path)\n",
    "    data = data.groupby(\"Country/Region\", as_index=False).sum()\n",
    "    data = data.set_index(\"Country/Region\").transpose()\n",
    "    data = data['Spain']\n",
    "    data = int(data.iloc[number_to_rest]) - int(data.iloc[number_to_rest-1])\n",
    "    return data\n",
    "\n",
    "def data_day_italy(data_path, number_to_rest):\n",
    "    data = pd.read_csv(data_path)\n",
    "    data = data.groupby(\"Country/Region\", as_index=False).sum()\n",
    "    data = data.set_index(\"Country/Region\").transpose()\n",
    "    data = data['Italy']\n",
    "    data = int(data.iloc[number_to_rest]) - int(data.iloc[number_to_rest-1])\n",
    "    return data\n",
    "\n",
    "def data_day_france(data_path, number_to_rest):\n",
    "    data = pd.read_csv(data_path)\n",
    "    data = data.groupby(\"Country/Region\", as_index=False).sum()\n",
    "    data = data.set_index(\"Country/Region\").transpose()\n",
    "    data = data['France']\n",
    "    data = int(data.iloc[number_to_rest]) - int(data.iloc[number_to_rest-1])\n",
    "    return data\n",
    "\n",
    "def data_day_germany(data_path, number_to_rest):\n",
    "    data = pd.read_csv(data_path)\n",
    "    data = data.groupby(\"Country/Region\", as_index=False).sum()\n",
    "    data = data.set_index(\"Country/Region\").transpose()\n",
    "    data = data['Germany']\n",
    "    data = int(data.iloc[number_to_rest]) - int(data.iloc[number_to_rest-1])\n",
    "    return data\n",
    "\n",
    "def create_dataframe(data_day_name, data_path, index_title):\n",
    "    dataframe = pd.DataFrame({day_consecutive(40): data_day_name(data_path, -40),\n",
    "                              day_consecutive(39): data_day_name(data_path, -39),\n",
    "                              day_consecutive(38): data_day_name(data_path, -38),\n",
    "                              day_consecutive(37): data_day_name(data_path, -37),\n",
    "                              day_consecutive(36): data_day_name(data_path, -36),\n",
    "                              day_consecutive(35): data_day_name(data_path, -35),\n",
    "                              day_consecutive(34): data_day_name(data_path, -34),\n",
    "                              day_consecutive(33): data_day_name(data_path, -33),\n",
    "                              day_consecutive(32): data_day_name(data_path, -32),\n",
    "                              day_consecutive(31): data_day_name(data_path, -31),\n",
    "                              day_consecutive(30): data_day_name(data_path, -30),\n",
    "                              day_consecutive(29): data_day_name(data_path, -29),\n",
    "                              day_consecutive(28): data_day_name(data_path, -28),\n",
    "                              day_consecutive(27): data_day_name(data_path, -27),\n",
    "                              day_consecutive(26): data_day_name(data_path, -26),\n",
    "                              day_consecutive(25): data_day_name(data_path, -25),\n",
    "                              day_consecutive(24): data_day_name(data_path, -24),\n",
    "                              day_consecutive(23): data_day_name(data_path, -23),\n",
    "                              day_consecutive(22): data_day_name(data_path, -22),\n",
    "                              day_consecutive(21): data_day_name(data_path, -21),\n",
    "                              day_consecutive(20): data_day_name(data_path, -20),\n",
    "                              day_consecutive(19): data_day_name(data_path, -19), \n",
    "                              day_consecutive(18): data_day_name(data_path, -18),\n",
    "                              day_consecutive(17): data_day_name(data_path, -17),\n",
    "                              day_consecutive(16): data_day_name(data_path, -16),\n",
    "                              day_consecutive(15): data_day_name(data_path, -15),\n",
    "                              day_consecutive(14): data_day_name(data_path, -14),\n",
    "                              day_consecutive(13): data_day_name(data_path, -13),\n",
    "                              day_consecutive(12): data_day_name(data_path, -12),\n",
    "                              day_consecutive(11): data_day_name(data_path, -11),\n",
    "                              day_consecutive(10): data_day_name(data_path, -10),\n",
    "                              day_consecutive(9): data_day_name(data_path, -9),\n",
    "                              day_consecutive(8): data_day_name(data_path, -8),\n",
    "                              day_consecutive(7): data_day_name(data_path, -7),\n",
    "                              day_consecutive(6): data_day_name(data_path, -6),\n",
    "                              day_consecutive(5): data_day_name(data_path, -5),\n",
    "                              day_consecutive(4): data_day_name(data_path, -4),\n",
    "                              day_consecutive(3): data_day_name(data_path, -3),\n",
    "                              day_consecutive(2): data_day_name(data_path, -2),\n",
    "                              day_consecutive(1): data_day_name(data_path, -1),\n",
    "                             }, index=index_title)\n",
    "                                    \n",
    "    return dataframe\n",
    "\n",
    "data_spain_confirmed24h = create_dataframe(data_day, path_c, ['Confirmados (24h) en España'])\n",
    "data_spain_deaths24h = create_dataframe(data_day, path_d, ['Fallecidos (24h) en España'])\n",
    "data_spain_recovered24h = create_dataframe(data_day, path_r, ['Recuperados (24h) en España'])\n",
    "\n",
    "#Juntar dataframes\n",
    "data_spain_newcases24h = pd.concat([data_spain_confirmed24h,data_spain_recovered24h,data_spain_deaths24h], axis=0)\n",
    "data_spain_newcases24h.to_csv('data_spain_newcases24h.csv', sep = ';')\n",
    "data_spain_deaths24h.to_csv('data_spain_newcases24h_deaths.csv', sep = ';')\n",
    "\n",
    "######## Lo mismo en italia\n",
    "data_italy_confirmed24h = create_dataframe(data_day_italy, path_c, ['Confirmados (24h) en Italia'])\n",
    "data_italy_deaths24h = create_dataframe(data_day_italy, path_d, ['Fallecidos (24h) en Italia'])\n",
    "data_italy_recovered24h = create_dataframe(data_day_italy, path_r, ['Recuperados (24h) en Italia'])\n",
    "data_italy_newcases24h = pd.concat([data_italy_confirmed24h,data_italy_recovered24h,data_italy_deaths24h], axis=0)\n",
    "\n",
    "######## Lo mismo en Francia\n",
    "data_france_confirmed24h = create_dataframe(data_day_france, path_c, ['Confirmados (24h) en Francia'])\n",
    "data_france_deaths24h = create_dataframe(data_day_france, path_d, ['Fallecidos (24h) en Francia'])\n",
    "data_france_recovered24h = create_dataframe(data_day_france, path_r, ['Recuperados (24h) en Francia'])\n",
    "data_france_newcases24h = pd.concat([data_france_confirmed24h,data_france_recovered24h,data_france_deaths24h], axis=0)\n",
    "\n",
    "######## Lo mismo en Alemania\n",
    "data_germany_confirmed24h = create_dataframe(data_day_germany, path_c, ['Confirmados (24h) en Alemania'])\n",
    "data_germany_deaths24h = create_dataframe(data_day_germany, path_d, ['Fallecidos (24h) en Alemania'])\n",
    "data_germany_recovered24h = create_dataframe(data_day_germany, path_r, ['Recuperados (24h) en Alemania'])\n",
    "data_germany_newcases24h = pd.concat([data_germany_confirmed24h,data_germany_recovered24h,data_germany_deaths24h], axis=0)\n",
    "\n",
    "\n",
    "###### Juntar dataframes Spain + Italy sólo de fallecidos\n",
    "data_somecountries_newcases24h_deaths = pd.concat([data_spain_deaths24h, data_italy_deaths24h,\n",
    "                                                   data_france_deaths24h, data_germany_deaths24h], axis=0)\n",
    "data_somecountries_newcases24h_deaths.to_csv('data_somecountries_newcases24h.csv', sep = ';')\n",
    "data_somecountries_newcases24h_deaths\n",
    ""
   ]
  },
  {
   "cell_type": "markdown",
   "metadata": {},
   "source": [
    "## ESPAÑA: Evolución temporal casos confirmados"
   ]
  },
  {
   "cell_type": "code",
   "execution_count": 11,
   "metadata": {},
   "outputs": [
    {
     "output_type": "execute_result",
     "data": {
      "text/plain": "                       2020-02-27  2020-02-28  2020-02-29  2020-03-01  \\\nComunidades Autónomas                                                   \nAndalucía                       1           6           8          12   \nAragón                          0           1           1           0   \nAsturias                        0           0           0           1   \nBaleares                        1           1           2           2   \nCanarias                        6           6           6           7   \nCantabria                       0           0           0           1   \nCastilla-La Mancha              0           0           0           1   \nCastilla y León                 0           2           2           3   \nCataluña                        2           3           5           6   \nCeuta                           0           0           0           0   \nC. Valenciana                   2           8          10          15   \nExtremadura                     0           0           0           4   \nGalicia                         0           0           0           0   \nMadrid                          4           5           8          10   \nMelilla                         0           0           0           0   \nMurcia                          0           0           0           0   \nNavarra                         0           0           0           1   \nPaís Vasco                      0           0           2           3   \nLa Rioja                        0           0           0           0   \n\n                       2020-03-02  2020-03-03  2020-03-04  2020-03-05  \\\nComunidades Autónomas                                                   \nAndalucía                      12          13          13          12   \nAragón                          0           0           0           1   \nAsturias                        1           1           2           5   \nBaleares                        2           2           5           6   \nCanarias                        7           7           7           8   \nCantabria                      10          10          10          10   \nCastilla-La Mancha              3           7          12          13   \nCastilla y León                 3           8          11          11   \nCataluña                       15          15          15          24   \nCeuta                           0           0           0           0   \nC. Valenciana                  15          15          19          19   \nExtremadura                     6           6           6           6   \nGalicia                         0           0           1           1   \nMadrid                         29          49          70          90   \nMelilla                         0           0           0           0   \nMurcia                          0           0           0           0   \nNavarra                         1           1           3           3   \nPaís Vasco                      9          13          17          17   \nLa Rioja                        1           3           7          11   \n\n                       2020-03-06  2020-03-07  ...  2020-04-15  2020-04-16  \\\nComunidades Autónomas                          ...                           \nAndalucía                      21          27  ...       10595       10807   \nAragón                          6          11  ...        4338        4566   \nAsturias                        5           5  ...        2096        2170   \nBaleares                        6           6  ...        1606        1637   \nCanarias                       11          18  ...        1975        1988   \nCantabria                      10          10  ...        1823        1845   \nCastilla-La Mancha             15          15  ...       14680       15151   \nCastilla y León                14          14  ...       13697       14380   \nCataluña                       24          24  ...       36505       37354   \nCeuta                           0           0  ...          98         100   \nC. Valenciana                  30          30  ...        9424        9615   \nExtremadura                     6           6  ...        2762        2881   \nGalicia                         3           3  ...        7708        7873   \nMadrid                        137         174  ...       49526       50694   \nMelilla                         0           0  ...         102         103   \nMurcia                          0           0  ...        1520        1598   \nNavarra                         3           3  ...        4246        4348   \nPaís Vasco                     45          45  ...       11475       11790   \nLa Rioja                       29          39  ...        3457        3916   \n\n                       2020-04-17  2020-04-18  2020-04-19  2020-04-20  \\\nComunidades Autónomas                                                   \nAndalucía                   11053       11020       11205       11323   \nAragón                       4664        4761        4831        4886   \nAsturias                     2230        2272        2298        2348   \nBaleares                     1668        1748        1773        1788   \nCanarias                     2009        2035        2047        2067   \nCantabria                    1884        1990        2050        2083   \nCastilla-La Mancha          15997       16349       16625       16796   \nCastilla y León             14903       15293       15621       15857   \nCataluña                    38316       39943       40600       41676   \nCeuta                         101         108         109         111   \nC. Valenciana                9869        9795        9937       10018   \nExtremadura                  3019        3081        3136        3186   \nGalicia                      8013        8084        8185        8299   \nMadrid                      51993       52946       54884       56963   \nMelilla                       104         104         104         104   \nMurcia                       1625        1638        1644        1646   \nNavarra                      4433        4556        4621        4697   \nPaís Vasco                  12089       12355       12569       12628   \nLa Rioja                     4098        3648        3705        3734   \n\n                       2020-04-21  2020-04-22  2020-04-23  2020-04-24  \nComunidades Autónomas                                                  \nAndalucía                   11447       11610       11845       12495  \nAragón                       4938        5054        5237        5295  \nAsturias                     2365        2419        2453        2509  \nBaleares                     1808        1836        1861        1878  \nCanarias                     2085        2094        2113        2140  \nCantabria                    2123        2160        2206        2273  \nCastilla-La Mancha          17045       17321       17557       18053  \nCastilla y León             16259       16839       17402       17776  \nCataluña                    43112       43802       44892       46571  \nCeuta                         111         118         118         125  \nC. Valenciana               10084       10538       10692       10906  \nExtremadura                  3196        3230        3260        3403  \nGalicia                      8468        8634        8805        8932  \nMadrid                      57997       59199       60487       61726  \nMelilla                       105         105         106         116  \nMurcia                       1681        1695        1721        1741  \nNavarra                      4781        4899        4994        5180  \nPaís Vasco                  12810       13044       13436       13780  \nLa Rioja                     3763        3792        3839        4865  \n\n[19 rows x 58 columns]",
      "text/html": "<div>\n<style scoped>\n    .dataframe tbody tr th:only-of-type {\n        vertical-align: middle;\n    }\n\n    .dataframe tbody tr th {\n        vertical-align: top;\n    }\n\n    .dataframe thead th {\n        text-align: right;\n    }\n</style>\n<table border=\"1\" class=\"dataframe\">\n  <thead>\n    <tr style=\"text-align: right;\">\n      <th></th>\n      <th>2020-02-27</th>\n      <th>2020-02-28</th>\n      <th>2020-02-29</th>\n      <th>2020-03-01</th>\n      <th>2020-03-02</th>\n      <th>2020-03-03</th>\n      <th>2020-03-04</th>\n      <th>2020-03-05</th>\n      <th>2020-03-06</th>\n      <th>2020-03-07</th>\n      <th>...</th>\n      <th>2020-04-15</th>\n      <th>2020-04-16</th>\n      <th>2020-04-17</th>\n      <th>2020-04-18</th>\n      <th>2020-04-19</th>\n      <th>2020-04-20</th>\n      <th>2020-04-21</th>\n      <th>2020-04-22</th>\n      <th>2020-04-23</th>\n      <th>2020-04-24</th>\n    </tr>\n    <tr>\n      <th>Comunidades Autónomas</th>\n      <th></th>\n      <th></th>\n      <th></th>\n      <th></th>\n      <th></th>\n      <th></th>\n      <th></th>\n      <th></th>\n      <th></th>\n      <th></th>\n      <th></th>\n      <th></th>\n      <th></th>\n      <th></th>\n      <th></th>\n      <th></th>\n      <th></th>\n      <th></th>\n      <th></th>\n      <th></th>\n      <th></th>\n    </tr>\n  </thead>\n  <tbody>\n    <tr>\n      <th>Andalucía</th>\n      <td>1</td>\n      <td>6</td>\n      <td>8</td>\n      <td>12</td>\n      <td>12</td>\n      <td>13</td>\n      <td>13</td>\n      <td>12</td>\n      <td>21</td>\n      <td>27</td>\n      <td>...</td>\n      <td>10595</td>\n      <td>10807</td>\n      <td>11053</td>\n      <td>11020</td>\n      <td>11205</td>\n      <td>11323</td>\n      <td>11447</td>\n      <td>11610</td>\n      <td>11845</td>\n      <td>12495</td>\n    </tr>\n    <tr>\n      <th>Aragón</th>\n      <td>0</td>\n      <td>1</td>\n      <td>1</td>\n      <td>0</td>\n      <td>0</td>\n      <td>0</td>\n      <td>0</td>\n      <td>1</td>\n      <td>6</td>\n      <td>11</td>\n      <td>...</td>\n      <td>4338</td>\n      <td>4566</td>\n      <td>4664</td>\n      <td>4761</td>\n      <td>4831</td>\n      <td>4886</td>\n      <td>4938</td>\n      <td>5054</td>\n      <td>5237</td>\n      <td>5295</td>\n    </tr>\n    <tr>\n      <th>Asturias</th>\n      <td>0</td>\n      <td>0</td>\n      <td>0</td>\n      <td>1</td>\n      <td>1</td>\n      <td>1</td>\n      <td>2</td>\n      <td>5</td>\n      <td>5</td>\n      <td>5</td>\n      <td>...</td>\n      <td>2096</td>\n      <td>2170</td>\n      <td>2230</td>\n      <td>2272</td>\n      <td>2298</td>\n      <td>2348</td>\n      <td>2365</td>\n      <td>2419</td>\n      <td>2453</td>\n      <td>2509</td>\n    </tr>\n    <tr>\n      <th>Baleares</th>\n      <td>1</td>\n      <td>1</td>\n      <td>2</td>\n      <td>2</td>\n      <td>2</td>\n      <td>2</td>\n      <td>5</td>\n      <td>6</td>\n      <td>6</td>\n      <td>6</td>\n      <td>...</td>\n      <td>1606</td>\n      <td>1637</td>\n      <td>1668</td>\n      <td>1748</td>\n      <td>1773</td>\n      <td>1788</td>\n      <td>1808</td>\n      <td>1836</td>\n      <td>1861</td>\n      <td>1878</td>\n    </tr>\n    <tr>\n      <th>Canarias</th>\n      <td>6</td>\n      <td>6</td>\n      <td>6</td>\n      <td>7</td>\n      <td>7</td>\n      <td>7</td>\n      <td>7</td>\n      <td>8</td>\n      <td>11</td>\n      <td>18</td>\n      <td>...</td>\n      <td>1975</td>\n      <td>1988</td>\n      <td>2009</td>\n      <td>2035</td>\n      <td>2047</td>\n      <td>2067</td>\n      <td>2085</td>\n      <td>2094</td>\n      <td>2113</td>\n      <td>2140</td>\n    </tr>\n    <tr>\n      <th>Cantabria</th>\n      <td>0</td>\n      <td>0</td>\n      <td>0</td>\n      <td>1</td>\n      <td>10</td>\n      <td>10</td>\n      <td>10</td>\n      <td>10</td>\n      <td>10</td>\n      <td>10</td>\n      <td>...</td>\n      <td>1823</td>\n      <td>1845</td>\n      <td>1884</td>\n      <td>1990</td>\n      <td>2050</td>\n      <td>2083</td>\n      <td>2123</td>\n      <td>2160</td>\n      <td>2206</td>\n      <td>2273</td>\n    </tr>\n    <tr>\n      <th>Castilla-La Mancha</th>\n      <td>0</td>\n      <td>0</td>\n      <td>0</td>\n      <td>1</td>\n      <td>3</td>\n      <td>7</td>\n      <td>12</td>\n      <td>13</td>\n      <td>15</td>\n      <td>15</td>\n      <td>...</td>\n      <td>14680</td>\n      <td>15151</td>\n      <td>15997</td>\n      <td>16349</td>\n      <td>16625</td>\n      <td>16796</td>\n      <td>17045</td>\n      <td>17321</td>\n      <td>17557</td>\n      <td>18053</td>\n    </tr>\n    <tr>\n      <th>Castilla y León</th>\n      <td>0</td>\n      <td>2</td>\n      <td>2</td>\n      <td>3</td>\n      <td>3</td>\n      <td>8</td>\n      <td>11</td>\n      <td>11</td>\n      <td>14</td>\n      <td>14</td>\n      <td>...</td>\n      <td>13697</td>\n      <td>14380</td>\n      <td>14903</td>\n      <td>15293</td>\n      <td>15621</td>\n      <td>15857</td>\n      <td>16259</td>\n      <td>16839</td>\n      <td>17402</td>\n      <td>17776</td>\n    </tr>\n    <tr>\n      <th>Cataluña</th>\n      <td>2</td>\n      <td>3</td>\n      <td>5</td>\n      <td>6</td>\n      <td>15</td>\n      <td>15</td>\n      <td>15</td>\n      <td>24</td>\n      <td>24</td>\n      <td>24</td>\n      <td>...</td>\n      <td>36505</td>\n      <td>37354</td>\n      <td>38316</td>\n      <td>39943</td>\n      <td>40600</td>\n      <td>41676</td>\n      <td>43112</td>\n      <td>43802</td>\n      <td>44892</td>\n      <td>46571</td>\n    </tr>\n    <tr>\n      <th>Ceuta</th>\n      <td>0</td>\n      <td>0</td>\n      <td>0</td>\n      <td>0</td>\n      <td>0</td>\n      <td>0</td>\n      <td>0</td>\n      <td>0</td>\n      <td>0</td>\n      <td>0</td>\n      <td>...</td>\n      <td>98</td>\n      <td>100</td>\n      <td>101</td>\n      <td>108</td>\n      <td>109</td>\n      <td>111</td>\n      <td>111</td>\n      <td>118</td>\n      <td>118</td>\n      <td>125</td>\n    </tr>\n    <tr>\n      <th>C. Valenciana</th>\n      <td>2</td>\n      <td>8</td>\n      <td>10</td>\n      <td>15</td>\n      <td>15</td>\n      <td>15</td>\n      <td>19</td>\n      <td>19</td>\n      <td>30</td>\n      <td>30</td>\n      <td>...</td>\n      <td>9424</td>\n      <td>9615</td>\n      <td>9869</td>\n      <td>9795</td>\n      <td>9937</td>\n      <td>10018</td>\n      <td>10084</td>\n      <td>10538</td>\n      <td>10692</td>\n      <td>10906</td>\n    </tr>\n    <tr>\n      <th>Extremadura</th>\n      <td>0</td>\n      <td>0</td>\n      <td>0</td>\n      <td>4</td>\n      <td>6</td>\n      <td>6</td>\n      <td>6</td>\n      <td>6</td>\n      <td>6</td>\n      <td>6</td>\n      <td>...</td>\n      <td>2762</td>\n      <td>2881</td>\n      <td>3019</td>\n      <td>3081</td>\n      <td>3136</td>\n      <td>3186</td>\n      <td>3196</td>\n      <td>3230</td>\n      <td>3260</td>\n      <td>3403</td>\n    </tr>\n    <tr>\n      <th>Galicia</th>\n      <td>0</td>\n      <td>0</td>\n      <td>0</td>\n      <td>0</td>\n      <td>0</td>\n      <td>0</td>\n      <td>1</td>\n      <td>1</td>\n      <td>3</td>\n      <td>3</td>\n      <td>...</td>\n      <td>7708</td>\n      <td>7873</td>\n      <td>8013</td>\n      <td>8084</td>\n      <td>8185</td>\n      <td>8299</td>\n      <td>8468</td>\n      <td>8634</td>\n      <td>8805</td>\n      <td>8932</td>\n    </tr>\n    <tr>\n      <th>Madrid</th>\n      <td>4</td>\n      <td>5</td>\n      <td>8</td>\n      <td>10</td>\n      <td>29</td>\n      <td>49</td>\n      <td>70</td>\n      <td>90</td>\n      <td>137</td>\n      <td>174</td>\n      <td>...</td>\n      <td>49526</td>\n      <td>50694</td>\n      <td>51993</td>\n      <td>52946</td>\n      <td>54884</td>\n      <td>56963</td>\n      <td>57997</td>\n      <td>59199</td>\n      <td>60487</td>\n      <td>61726</td>\n    </tr>\n    <tr>\n      <th>Melilla</th>\n      <td>0</td>\n      <td>0</td>\n      <td>0</td>\n      <td>0</td>\n      <td>0</td>\n      <td>0</td>\n      <td>0</td>\n      <td>0</td>\n      <td>0</td>\n      <td>0</td>\n      <td>...</td>\n      <td>102</td>\n      <td>103</td>\n      <td>104</td>\n      <td>104</td>\n      <td>104</td>\n      <td>104</td>\n      <td>105</td>\n      <td>105</td>\n      <td>106</td>\n      <td>116</td>\n    </tr>\n    <tr>\n      <th>Murcia</th>\n      <td>0</td>\n      <td>0</td>\n      <td>0</td>\n      <td>0</td>\n      <td>0</td>\n      <td>0</td>\n      <td>0</td>\n      <td>0</td>\n      <td>0</td>\n      <td>0</td>\n      <td>...</td>\n      <td>1520</td>\n      <td>1598</td>\n      <td>1625</td>\n      <td>1638</td>\n      <td>1644</td>\n      <td>1646</td>\n      <td>1681</td>\n      <td>1695</td>\n      <td>1721</td>\n      <td>1741</td>\n    </tr>\n    <tr>\n      <th>Navarra</th>\n      <td>0</td>\n      <td>0</td>\n      <td>0</td>\n      <td>1</td>\n      <td>1</td>\n      <td>1</td>\n      <td>3</td>\n      <td>3</td>\n      <td>3</td>\n      <td>3</td>\n      <td>...</td>\n      <td>4246</td>\n      <td>4348</td>\n      <td>4433</td>\n      <td>4556</td>\n      <td>4621</td>\n      <td>4697</td>\n      <td>4781</td>\n      <td>4899</td>\n      <td>4994</td>\n      <td>5180</td>\n    </tr>\n    <tr>\n      <th>País Vasco</th>\n      <td>0</td>\n      <td>0</td>\n      <td>2</td>\n      <td>3</td>\n      <td>9</td>\n      <td>13</td>\n      <td>17</td>\n      <td>17</td>\n      <td>45</td>\n      <td>45</td>\n      <td>...</td>\n      <td>11475</td>\n      <td>11790</td>\n      <td>12089</td>\n      <td>12355</td>\n      <td>12569</td>\n      <td>12628</td>\n      <td>12810</td>\n      <td>13044</td>\n      <td>13436</td>\n      <td>13780</td>\n    </tr>\n    <tr>\n      <th>La Rioja</th>\n      <td>0</td>\n      <td>0</td>\n      <td>0</td>\n      <td>0</td>\n      <td>1</td>\n      <td>3</td>\n      <td>7</td>\n      <td>11</td>\n      <td>29</td>\n      <td>39</td>\n      <td>...</td>\n      <td>3457</td>\n      <td>3916</td>\n      <td>4098</td>\n      <td>3648</td>\n      <td>3705</td>\n      <td>3734</td>\n      <td>3763</td>\n      <td>3792</td>\n      <td>3839</td>\n      <td>4865</td>\n    </tr>\n  </tbody>\n</table>\n<p>19 rows × 58 columns</p>\n</div>"
     },
     "metadata": {},
     "execution_count": 11
    }
   ],
   "source": [
    "# Preparar Evolucion temporal confirmed\n",
    "data_ccaa_confirmed_timeseries_final = data_ccaa_confirmed_timeseries.drop(columns=['cod_ine'])\n",
    "data_ccaa_confirmed_timeseries_final.rename(columns = {'CCAA': 'Comunidades Autónomas'}, inplace = True)\n",
    "data_ccaa_confirmed_timeseries_final = data_ccaa_confirmed_timeseries_final.set_index('Comunidades Autónomas')\n",
    "data_ccaa_confirmed_timeseries_final = data_ccaa_confirmed_timeseries_final.iloc[0:19]\n",
    "\n",
    "# Exportar Evolucion temporal confirmed\n",
    "data_ccaa_confirmed_timeseries_final.to_csv('data_ccaa_evolution_confirmed.csv', sep = ';', encoding=\"utf-8\", index=True, index_label='Comunidades Autónomas')\n",
    "data_ccaa_confirmed_timeseries_final"
   ]
  },
  {
   "cell_type": "markdown",
   "metadata": {},
   "source": [
    "## ESPAÑA: Resúmenes por comunidades autónomas"
   ]
  },
  {
   "cell_type": "code",
   "execution_count": 12,
   "metadata": {},
   "outputs": [
    {
     "output_type": "execute_result",
     "data": {
      "text/plain": "                       Confirmados (24h)  Curados (24h)  Fallecidos (24h)\nComunidades Autónomas                                                    \nAndalucía                          650.0          145.0              28.0\nAragón                              58.0          101.0              14.0\nAsturias                            56.0           23.0               8.0\nBaleares                            17.0           34.0               4.0\nC. Valenciana                      214.0          421.0              23.0\nCanarias                            27.0           48.0               7.0\nCantabria                           67.0           63.0               5.0\nCastilla y León                    374.0          166.0              30.0\nCastilla-La Mancha                 496.0          205.0              67.0\nCataluña                          1679.0          661.0              50.0\nCeuta                                7.0            8.0               0.0\nExtremadura                        143.0          121.0               4.0\nGalicia                            127.0           54.0               7.0\nLa Rioja                          1026.0           27.0               4.0\nMadrid                            1239.0          567.0              81.0\nMelilla                             10.0            6.0               0.0\nMurcia                              20.0           25.0               1.0\nNavarra                            186.0          107.0               8.0\nPaís Vasco                         344.0          323.0              26.0",
      "text/html": "<div>\n<style scoped>\n    .dataframe tbody tr th:only-of-type {\n        vertical-align: middle;\n    }\n\n    .dataframe tbody tr th {\n        vertical-align: top;\n    }\n\n    .dataframe thead th {\n        text-align: right;\n    }\n</style>\n<table border=\"1\" class=\"dataframe\">\n  <thead>\n    <tr style=\"text-align: right;\">\n      <th></th>\n      <th>Confirmados (24h)</th>\n      <th>Curados (24h)</th>\n      <th>Fallecidos (24h)</th>\n    </tr>\n    <tr>\n      <th>Comunidades Autónomas</th>\n      <th></th>\n      <th></th>\n      <th></th>\n    </tr>\n  </thead>\n  <tbody>\n    <tr>\n      <th>Andalucía</th>\n      <td>650.0</td>\n      <td>145.0</td>\n      <td>28.0</td>\n    </tr>\n    <tr>\n      <th>Aragón</th>\n      <td>58.0</td>\n      <td>101.0</td>\n      <td>14.0</td>\n    </tr>\n    <tr>\n      <th>Asturias</th>\n      <td>56.0</td>\n      <td>23.0</td>\n      <td>8.0</td>\n    </tr>\n    <tr>\n      <th>Baleares</th>\n      <td>17.0</td>\n      <td>34.0</td>\n      <td>4.0</td>\n    </tr>\n    <tr>\n      <th>C. Valenciana</th>\n      <td>214.0</td>\n      <td>421.0</td>\n      <td>23.0</td>\n    </tr>\n    <tr>\n      <th>Canarias</th>\n      <td>27.0</td>\n      <td>48.0</td>\n      <td>7.0</td>\n    </tr>\n    <tr>\n      <th>Cantabria</th>\n      <td>67.0</td>\n      <td>63.0</td>\n      <td>5.0</td>\n    </tr>\n    <tr>\n      <th>Castilla y León</th>\n      <td>374.0</td>\n      <td>166.0</td>\n      <td>30.0</td>\n    </tr>\n    <tr>\n      <th>Castilla-La Mancha</th>\n      <td>496.0</td>\n      <td>205.0</td>\n      <td>67.0</td>\n    </tr>\n    <tr>\n      <th>Cataluña</th>\n      <td>1679.0</td>\n      <td>661.0</td>\n      <td>50.0</td>\n    </tr>\n    <tr>\n      <th>Ceuta</th>\n      <td>7.0</td>\n      <td>8.0</td>\n      <td>0.0</td>\n    </tr>\n    <tr>\n      <th>Extremadura</th>\n      <td>143.0</td>\n      <td>121.0</td>\n      <td>4.0</td>\n    </tr>\n    <tr>\n      <th>Galicia</th>\n      <td>127.0</td>\n      <td>54.0</td>\n      <td>7.0</td>\n    </tr>\n    <tr>\n      <th>La Rioja</th>\n      <td>1026.0</td>\n      <td>27.0</td>\n      <td>4.0</td>\n    </tr>\n    <tr>\n      <th>Madrid</th>\n      <td>1239.0</td>\n      <td>567.0</td>\n      <td>81.0</td>\n    </tr>\n    <tr>\n      <th>Melilla</th>\n      <td>10.0</td>\n      <td>6.0</td>\n      <td>0.0</td>\n    </tr>\n    <tr>\n      <th>Murcia</th>\n      <td>20.0</td>\n      <td>25.0</td>\n      <td>1.0</td>\n    </tr>\n    <tr>\n      <th>Navarra</th>\n      <td>186.0</td>\n      <td>107.0</td>\n      <td>8.0</td>\n    </tr>\n    <tr>\n      <th>País Vasco</th>\n      <td>344.0</td>\n      <td>323.0</td>\n      <td>26.0</td>\n    </tr>\n  </tbody>\n</table>\n</div>"
     },
     "metadata": {},
     "execution_count": 12
    }
   ],
   "source": [
    "# SOLO HACER CUANDO LOS DATOS EN DATADISTA ESTÉN ACTUALIZADOS, SI NO, NO FUNCIONA\n",
    "\n",
    "# Confirmados por CCAA\n",
    "data_ccaa_confirmed_today = data_ccaa_confirmed_timeseries[['CCAA', date_today_large]]\n",
    "data_ccaa_confirmed_today.rename(columns = {date_today_large : 'Confirmados', 'CCAA' : 'Comunidades Autónomas'}, inplace = True)\n",
    "data_ccaa_confirmed_today = data_ccaa_confirmed_today.set_index('Comunidades Autónomas')\n",
    "data_ccaa_confirmed_today = data_ccaa_confirmed_today.copy().iloc[0:19]\n",
    "\n",
    "# New cases\n",
    "data_ccaa_confirmed_daybefore = data_ccaa_confirmed_timeseries[['CCAA', date_daybefore_large]]\n",
    "data_ccaa_confirmed_daybefore.rename(columns = {date_daybefore_large : 'Confirmados', 'CCAA' : 'Comunidades Autónomas'}, inplace = True)\n",
    "data_ccaa_confirmed_daybefore = data_ccaa_confirmed_daybefore.set_index('Comunidades Autónomas')\n",
    "data_ccaa_confirmed_newcases = data_ccaa_confirmed_today - data_ccaa_confirmed_daybefore\n",
    "data_ccaa_confirmed_newcases = data_ccaa_confirmed_newcases.copy().iloc[0:19]\n",
    "data_ccaa_confirmed_newcases.rename(columns = {'Confirmados': 'Confirmados (24h)'}, inplace = True)\n",
    "\n",
    "\n",
    "# Fallecidos por CCAA\n",
    "data_ccaa_deaths_today = data_ccaa_deaths_timeseries[['CCAA', date_today_large]]\n",
    "data_ccaa_deaths_today.rename(columns = {date_today_large : 'Fallecidos', 'CCAA' : 'Comunidades Autónomas'}, inplace = True)\n",
    "data_ccaa_deaths_today = data_ccaa_deaths_today.set_index('Comunidades Autónomas')\n",
    "data_ccaa_deaths_today = data_ccaa_deaths_today.copy().iloc[0:19]\n",
    "\n",
    "# New cases\n",
    "data_ccaa_deaths_daybefore = data_ccaa_deaths_timeseries[['CCAA', date_daybefore_large]]\n",
    "data_ccaa_deaths_daybefore.rename(columns = {date_daybefore_large : 'Fallecidos', 'CCAA' : 'Comunidades Autónomas'}, inplace = True)\n",
    "data_ccaa_deaths_daybefore = data_ccaa_deaths_daybefore.set_index('Comunidades Autónomas')\n",
    "data_ccaa_deaths_newcases = data_ccaa_deaths_today - data_ccaa_deaths_daybefore\n",
    "data_ccaa_deaths_newcases = data_ccaa_deaths_newcases.copy().iloc[0:19]\n",
    "data_ccaa_deaths_newcases.rename(columns = {'Fallecidos': 'Fallecidos (24h)'}, inplace = True)\n",
    "\n",
    "\n",
    "# Recuperados por CCAA\n",
    "data_ccaa_recovered_today = data_ccaa_recovered_timeseries[['CCAA', date_today_large]]\n",
    "data_ccaa_recovered_today.rename(columns = {date_today_large : 'Curados', 'CCAA' : 'Comunidades Autónomas'}, inplace = True)\n",
    "data_ccaa_recovered_today = data_ccaa_recovered_today.set_index('Comunidades Autónomas')\n",
    "data_ccaa_recovered_today = data_ccaa_recovered_today.copy().iloc[0:19]\n",
    "# New cases\n",
    "data_ccaa_recovered_daybefore = data_ccaa_recovered_timeseries[['CCAA', date_daybefore_large]]\n",
    "data_ccaa_recovered_daybefore.rename(columns = {date_daybefore_large : 'Curados', 'CCAA' : 'Comunidades Autónomas'}, inplace = True)\n",
    "data_ccaa_recovered_daybefore = data_ccaa_recovered_daybefore.set_index('Comunidades Autónomas')\n",
    "data_ccaa_recovered_newcases = data_ccaa_recovered_today - data_ccaa_recovered_daybefore\n",
    "data_ccaa_recovered_newcases = data_ccaa_recovered_newcases.copy().iloc[0:19]\n",
    "data_ccaa_recovered_newcases.rename(columns = {'Curados': 'Curados (24h)'}, inplace = True)\n",
    "\n",
    "\n",
    "#Juntar los tres dataframes confirmados + curados + fallecidos\n",
    "data_ccaa_confirmed_recovered_deaths = pd.concat([data_ccaa_confirmed_today, data_ccaa_recovered_today, data_ccaa_deaths_today,], axis=1)\n",
    "\n",
    "# Juntar los tres dataframes nuevos casos\n",
    "data_ccaa_newcases_confirmed_recovered_deaths = pd.concat([data_ccaa_confirmed_newcases, data_ccaa_recovered_newcases, data_ccaa_deaths_newcases], axis=1)\n",
    "\n",
    "# Exportar por grupos\n",
    "data_ccaa_confirmed_recovered_deaths.to_csv('data_ccaa_confirmed_recovered_deaths.csv', sep = ';', encoding=\"utf-8\", index=True, index_label='Comunidades Autónomas')\n",
    "data_ccaa_newcases_confirmed_recovered_deaths.to_csv('data_ccaa_newcases_confirmed_recovered_deaths.csv', sep = ';', encoding=\"utf-8\", index=True, index_label='Comunidades Autónomas')\n",
    "\n",
    "data_ccaa_newcases_confirmed_recovered_deaths"
   ]
  },
  {
   "cell_type": "markdown",
   "metadata": {},
   "source": [
    "## ESPAÑA: Análisis por rangos de edad"
   ]
  },
  {
   "cell_type": "code",
   "execution_count": 13,
   "metadata": {},
   "outputs": [
    {
     "output_type": "execute_result",
     "data": {
      "text/plain": "fecha                33\nrango_edad           33\nsexo                 33\ncasos_confirmados    33\nhospitalizados       33\ningresos_uci         33\nfallecidos           33\ndtype: int64"
     },
     "metadata": {},
     "execution_count": 13
    }
   ],
   "source": [
    "#Comprobar si están subidos los últimos datos, si sale 0 es que no hay datos\n",
    "data_spain_ccaa_age = pd.read_csv(\"https://raw.githubusercontent.com/datadista/datasets/master/COVID%2019/nacional_covid19_rango_edad.csv\", sep = ',')\n",
    "data_spain_ccaa_age[data_spain_ccaa_age[\"fecha\"] == date_today_large].count()"
   ]
  },
  {
   "cell_type": "code",
   "execution_count": 14,
   "metadata": {},
   "outputs": [
    {
     "output_type": "stream",
     "name": "stdout",
     "text": "Confirmados  Hospitalizados  Fallecidos\nTotal mujeres            83522           29639        5374\nTotal hombres            69354           39284        7731\nTotal ambos sexos       152883           68926       13105\n               Confirmados  Hospitalizados  Fallecidos\nRango de edad                                         \n0-9                    278             114           1\n10-19                  405              94           1\n20-29                 2693             531          15\n30-39                 5462            1486          26\n40-49                 9551            3864          89\n50-59                12306            6427         280\n60-69                12521            8174         812\n70-79                12748            9655        2347\n80-89                10309            7250        3151\n90 y +                3081            1689        1009\n"
    }
   ],
   "source": [
    "data_spain_ccaa_age = pd.read_csv(\"https://raw.githubusercontent.com/datadista/datasets/master/COVID%2019/nacional_covid19_rango_edad.csv\", sep = ',')\n",
    "data_spain_ccaa_age = data_spain_ccaa_age[data_spain_ccaa_age[\"fecha\"] == date_today_large]\n",
    "\n",
    "def take_edad(sexo):\n",
    "    data_spain_ccaa_age_all = data_spain_ccaa_age[data_spain_ccaa_age[\"sexo\"] == sexo]\n",
    "    #Para sacar datos total\n",
    "    data_spain_ccaa_age_total = data_spain_ccaa_age_all.tail(1)\n",
    "    data_spain_ccaa_age_total = data_spain_ccaa_age_total.iloc[:, [3,4,6]]\n",
    "    data_spain_ccaa_age_total.columns = ['Confirmados','Hospitalizados', 'Fallecidos']\n",
    "    #Para sacar datos concretos (de ambos, hombres y mujeres)\n",
    "    data_spain_ccaa_age_concrete = data_spain_ccaa_age_all[:-1]\n",
    "    data_spain_ccaa_age_concrete = data_spain_ccaa_age_concrete.iloc[:, [1,3,4,6]]\n",
    "    data_spain_ccaa_age_concrete.columns = ['Rango de edad','Confirmados','Hospitalizados', 'Fallecidos']\n",
    "    data_spain_ccaa_age_concrete.set_index('Rango de edad', inplace=True)\n",
    "    return data_spain_ccaa_age_concrete, data_spain_ccaa_age_total\n",
    "\n",
    "\n",
    "data_spain_ccaa_age_ambos_concrete, data_spain_ccaa_age_ambos_total = take_edad('ambos')\n",
    "data_spain_ccaa_age_hombres_concrete, data_spain_ccaa_age_hombres_total = take_edad('hombres')\n",
    "data_spain_ccaa_age_mujeres_concrete, data_spain_ccaa_age_mujeres_total = take_edad('mujeres')\n",
    "\n",
    "\n",
    "data_spain_ccaa_age_ambos_total.index = ['Total ambos sexos']\n",
    "data_spain_ccaa_age_hombres_total.index = ['Total hombres']\n",
    "data_spain_ccaa_age_mujeres_total.index = ['Total mujeres']\n",
    "data_spain_ccaa_age_ambos_concat = pd.concat([data_spain_ccaa_age_mujeres_total, data_spain_ccaa_age_hombres_total, \n",
    "                                             data_spain_ccaa_age_ambos_total], axis=0)\n",
    "\n",
    "data_spain_ccaa_age_mujeres_concrete.to_csv('data_spain_ages_mujeres.csv', sep = ';', encoding=\"utf-8\")\n",
    "data_spain_ccaa_age_hombres_concrete.to_csv('data_spain_ages_hombres.csv', sep = ';', encoding=\"utf-8\")\n",
    "data_spain_ccaa_age_ambos_concat.to_csv('data_spain_ages_ambos.csv', sep = ';', encoding=\"utf-8\")\n",
    "\n",
    "print(data_spain_ccaa_age_ambos_concat)\n",
    "print(data_spain_ccaa_age_hombres_concrete)"
   ]
  },
  {
   "cell_type": "markdown",
   "metadata": {},
   "source": [
    "# Subir archivos a SERVIDOR desde FTP"
   ]
  },
  {
   "cell_type": "code",
   "execution_count": 15,
   "metadata": {},
   "outputs": [
    {
     "output_type": "stream",
     "name": "stdout",
     "text": "230-OK. Current restricted directory is /\n230 403 Kbytes used (0%) - authorized: 51200 Kb\ndrwxr-xr-x    2 akakicre   akakicre         4096 Apr 22 13:53 .\ndrwxr-xr-x    2 akakicre   akakicre         4096 Apr 22 13:53 ..\n-rw-------    1 akakicre   akakicre           10 Apr 24 13:22 .ftpquota\n-rw-r--r--    1 akakicre   akakicre       260069 Apr  3 13:34 Imagen_github.jpg\n-rw-r--r--    1 akakicre   akakicre          516 Apr 24 13:22 data_ccaa_confirmed_recovered_deaths.csv\n-rw-r--r--    1 akakicre   akakicre         5411 Apr 24 13:22 data_ccaa_evolution_confirmed.csv\n-rw-r--r--    1 akakicre   akakicre         3603 Apr 24 13:22 data_ccaa_evolution_deaths.csv\n-rw-r--r--    1 akakicre   akakicre         3064 Apr 24 13:22 data_ccaa_evolution_recovered.csv\n-rw-r--r--    1 akakicre   akakicre          560 Apr 24 13:22 data_ccaa_newcases_confirmed_recovered_deaths.csv\n-rw-r--r--    1 akakicre   akakicre         1168 Apr 24 13:22 data_somecountries_newcases.csv\n-rw-r--r--    1 akakicre   akakicre          138 Apr 24 13:22 data_spain_ages_ambos.csv\n-rw-r--r--    1 akakicre   akakicre          245 Apr 24 13:22 data_spain_ages_hombres.csv\n-rw-r--r--    1 akakicre   akakicre          244 Apr 24 13:22 data_spain_ages_mujeres.csv\n-rw-r--r--    1 akakicre   akakicre         1060 Apr 24 13:22 data_spain_newcases24h.csv\n-rw-r--r--    1 akakicre   akakicre          625 Apr 24 13:22 data_spain_newcases24h_deaths.csv\n-rw-r--r--    1 akakicre   akakicre          729 Apr 22 16:10 data_spotify_duo_positions.csv\n-rw-r--r--    1 akakicre   akakicre          857 Apr 22 16:10 data_spotify_duo_streams.csv\n-rw-r--r--    1 akakicre   akakicre         2971 Apr 22 16:10 data_spotify_top10_position.csv\n-rw-r--r--    1 akakicre   akakicre         1802 Apr 22 16:10 data_spotify_up_position.csv\n-rw-r--r--    1 akakicre   akakicre         2615 Apr 22 16:10 data_spotify_up_streams.csv\n-rw-r--r--    1 akakicre   akakicre         1031 Apr 22 16:10 data_spotify_variasesp_streams.csv\n-rw-r--r--    1 akakicre   akakicre         1254 Apr 22 16:10 data_spotify_varios_positions.csv\n-rw-r--r--    1 akakicre   akakicre         2001 Apr 22 16:10 data_spotify_varios_streams.csv\n-rw-r--r--    1 akakicre   akakicre          268 Apr 24 13:22 data_world_actual.csv\n-rw-r--r--    1 akakicre   akakicre          211 Apr 24 13:22 data_world_actual_den.csv\n-rw-r--r--    1 akakicre   akakicre         4420 Apr 24 13:22 data_world_from100.csv\n-rw-r--r--    1 akakicre   akakicre          216 Apr 24 13:22 data_world_resume.csv\n-rw-r--r--    1 akakicre   akakicre         2882 Apr 24 13:22 data_world_timeline.csv\n-rw-r--r--    1 akakicre   akakicre        60965 Apr  6 09:09 diseno4_covid19.jpg\nNone\n"
    }
   ],
   "source": [
    "# Ayuda: https://www.pythoncircle.com/post/668/uploading-a-file-to-ftp-server-using-python/\n",
    "import csv\n",
    "from ftplib import FTP\n",
    "from io import StringIO\n",
    "\n",
    "passw = pd.read_csv(\"pass.txt\", sep = ',', encoding=\"utf-8\")\n",
    "host = \"akakicreations.com\"\n",
    "username = passw.columns[0]\n",
    "password = passw.columns[1]\n",
    "ftp = FTP(host=host)\n",
    "login_status = ftp.login(user=username, passwd=password)\n",
    "print(login_status)\n",
    "\n",
    "print(ftp.dir())\n",
    "\n",
    "fp = open(\"data_world_resume.csv\", 'rb')\n",
    "ftp.storbinary('STOR %s' % os.path.basename(\"data_world_resume.csv\"), fp, 1024)\n",
    "\n",
    "fp = open(\"data_world_actual.csv\", 'rb')\n",
    "ftp.storbinary('STOR %s' % os.path.basename(\"data_world_actual.csv\"), fp, 1024)\n",
    "\n",
    "\n",
    "fp = open(\"data_world_actual_den.csv\", 'rb')\n",
    "ftp.storbinary('STOR %s' % os.path.basename(\"data_world_actual_den.csv\"), fp, 1024)\n",
    "\n",
    "fp = open(\"data_world_from100.csv\", 'rb')\n",
    "ftp.storbinary('STOR %s' % os.path.basename(\"data_world_from100.csv\"), fp, 1024)\n",
    "\n",
    "fp = open(\"data_world_timeline.csv\", 'rb')\n",
    "ftp.storbinary('STOR %s' % os.path.basename(\"data_world_timeline.csv\"), fp, 1024)\n",
    "\n",
    "fp = open(\"data_somecountries_newcases24h.csv\", 'rb')\n",
    "ftp.storbinary('STOR %s' % os.path.basename(\"data_somecountries_newcases.csv\"), fp, 1024)\n",
    "\n",
    "fp = open(\"data_spain_newcases24h.csv\", 'rb')\n",
    "ftp.storbinary('STOR %s' % os.path.basename(\"data_spain_newcases24h.csv\"), fp, 1024)\n",
    "\n",
    "fp = open(\"data_spain_newcases24h_deaths.csv\", 'rb')\n",
    "ftp.storbinary('STOR %s' % os.path.basename(\"data_spain_newcases24h_deaths.csv\"), fp, 1024)\n",
    "\n",
    "\n",
    "# Datos por CCAA\n",
    "fp = open(\"data_ccaa_evolution_confirmed.csv\", 'rb')\n",
    "ftp.storbinary('STOR %s' % os.path.basename(\"data_ccaa_evolution_confirmed.csv\"), fp, 1024)\n",
    "\n",
    "fp = open(\"data_ccaa_evolution_deaths.csv\", 'rb')\n",
    "ftp.storbinary('STOR %s' % os.path.basename(\"data_ccaa_evolution_deaths.csv\"), fp, 1024)\n",
    "\n",
    "fp = open(\"data_ccaa_evolution_recovered.csv\", 'rb')\n",
    "ftp.storbinary('STOR %s' % os.path.basename(\"data_ccaa_evolution_recovered.csv\"), fp, 1024)\n",
    "\n",
    "fp = open(\"data_ccaa_confirmed_recovered_deaths.csv\", 'rb')\n",
    "ftp.storbinary('STOR %s' % os.path.basename(\"data_ccaa_confirmed_recovered_deaths.csv\"), fp, 1024)\n",
    "\n",
    "fp = open(\"data_ccaa_newcases_confirmed_recovered_deaths.csv\", 'rb')\n",
    "ftp.storbinary('STOR %s' % os.path.basename(\"data_ccaa_newcases_confirmed_recovered_deaths.csv\"), fp, 1024)\n",
    "\n",
    "# Datos por grupos de edad\n",
    "fp = open(\"data_spain_ages_mujeres.csv\", 'rb')\n",
    "ftp.storbinary('STOR %s' % os.path.basename(\"data_spain_ages_mujeres.csv\"), fp, 1024)\n",
    "\n",
    "fp = open(\"data_spain_ages_hombres.csv\", 'rb')\n",
    "ftp.storbinary('STOR %s' % os.path.basename(\"data_spain_ages_hombres.csv\"), fp, 1024)\n",
    "\n",
    "fp = open(\"data_spain_ages_ambos.csv\", 'rb')\n",
    "ftp.storbinary('STOR %s' % os.path.basename(\"data_spain_ages_ambos.csv\"), fp, 1024)\n",
    "\n",
    "fp.close()\n",
    "\n",
    ""
   ]
  },
  {
   "cell_type": "code",
   "execution_count": null,
   "metadata": {},
   "outputs": [],
   "source": []
  }
 ],
 "metadata": {
  "file_extension": ".py",
  "kernelspec": {
   "display_name": "Python 3",
   "language": "python",
   "name": "python3"
  },
  "language_info": {
   "codemirror_mode": {
    "name": "ipython",
    "version": 3
   },
   "file_extension": ".py",
   "mimetype": "text/x-python",
   "name": "python",
   "nbconvert_exporter": "python",
   "pygments_lexer": "ipython3",
   "version": "3.7.3-final"
  },
  "mimetype": "text/x-python",
  "name": "python",
  "npconvert_exporter": "python",
  "pygments_lexer": "ipython3",
  "version": 3
 },
 "nbformat": 4,
 "nbformat_minor": 4
}