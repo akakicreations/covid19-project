{
 "cells": [
  {
   "cell_type": "markdown",
   "metadata": {},
   "source": [
    "# Ejercicio Covid-19"
   ]
  },
  {
   "cell_type": "code",
   "execution_count": 1,
   "metadata": {},
   "outputs": [
    {
     "output_type": "execute_result",
     "data": {
      "text/plain": "'2020-05-13'"
     },
     "metadata": {},
     "execution_count": 1
    }
   ],
   "source": [
    "import os\n",
    "import numpy as np\n",
    "import pandas as pd\n",
    "\n",
    "#Fechas de hoy(datos España) y ayer (datos inetrnacionales)\n",
    "from datetime import datetime, timedelta\n",
    "from datetime import date\n",
    "date_today = date.today()\n",
    "date_today_complete = date.today()\n",
    "date_daybefore = date_today - timedelta(days=1)\n",
    "date_today = date_today.strftime('%d/%m')\n",
    "date_daybefore2 = date_daybefore.strftime('%d/%m')\n",
    "\n",
    "date_today_large = date_today_complete.strftime('%Y-%m-%d')\n",
    "date_daybefore_large = date_daybefore.strftime('%Y-%m-%d')\n",
    "date_today_large"
   ]
  },
  {
   "cell_type": "markdown",
   "metadata": {},
   "source": [
    "## Traer los datos de Datadista"
   ]
  },
  {
   "cell_type": "code",
   "execution_count": 2,
   "metadata": {},
   "outputs": [
    {
     "output_type": "execute_result",
     "data": {
      "text/plain": "0      9481\n1      3312\n2      1038\n3      1465\n4      1475\n5      2054\n6      6205\n7      7544\n8     25326\n9       156\n10     9268\n11     2456\n12     7996\n13    39984\n14      115\n15     1861\n16     3297\n17    14986\n18     2804\nName: 2020-05-13, dtype: int64"
     },
     "metadata": {},
     "execution_count": 2
    }
   ],
   "source": [
    "data_ccaa_confirmed_timeseries = pd.read_csv(\"https://raw.githubusercontent.com/datadista/datasets/master/COVID%2019/ccaa_covid19_casos.csv\", sep = ',', encoding=\"utf-8\")\n",
    "\n",
    "data_ccaa_deaths_timeseries = pd.read_csv(\"https://raw.githubusercontent.com/datadista/datasets/master/COVID%2019/ccaa_covid19_fallecidos.csv\", sep = ',', encoding=\"utf-8\")\n",
    "\n",
    "data_ccaa_recovered_timeseries = pd.read_csv(\"https://raw.githubusercontent.com/datadista/datasets/master/COVID%2019/ccaa_covid19_altas.csv\", sep = ',', encoding=\"utf-8\")\n",
    "\n",
    "data_spain_datadista = pd.read_csv(\"https://raw.githubusercontent.com/datadista/datasets/master/COVID%2019/nacional_covid19.csv\")\n",
    "\n",
    "\n",
    "#Comprobar si están subidos los últimos datos, si no sale error es que hay datos.\n",
    "data_ccaa_recovered_timeseries[date_today_large]"
   ]
  },
  {
   "cell_type": "markdown",
   "metadata": {},
   "source": [
    "## RESUMEN: Resumen datos globales"
   ]
  },
  {
   "cell_type": "code",
   "execution_count": 3,
   "metadata": {},
   "outputs": [
    {
     "output_type": "stream",
     "name": "stdout",
     "text": "Confirmados  Curados  Fallecidos\nCasos totales en el mundo           4261747  1493414      291942\nNuevos casos en el mundo (24h)        84245    37205        5612\nCasos totales en España              271095   140823       27104\nNuevos casos en España (24h)            439     1843         184\n"
    }
   ],
   "source": [
    "# Función para obtener datos del mundo    \n",
    "'''\n",
    "def get_data_spain(url):    \n",
    "    data_spain = pd.read_csv(url)\n",
    "    data_spain = data_spain.groupby(\"Country/Region\", as_index=False).sum()\n",
    "    data_spain = data_spain.set_index(\"Country/Region\").transpose()\n",
    "    data_spain = data_spain['Spain']\n",
    "    data_spain_actual = int(data_spain.iloc[-1])\n",
    "    data_spain_before = int(data_spain.iloc[-2])\n",
    "    data_spain_24h = data_spain_actual - data_spain_before\n",
    "    return data_spain_24h, data_spain_actual\n",
    "'''\n",
    "\n",
    "def get_data_world(url):    \n",
    "    data_world = pd.read_csv(url)\n",
    "    data_world = data_world.groupby(\"Country/Region\", as_index=False).sum()\n",
    "    data_world = data_world.set_index(\"Country/Region\").transpose()\n",
    "    data_world_actual = int(data_world.sum(axis=1).iloc[-1])\n",
    "    data_world_before = int(data_world.sum(axis=1).iloc[-2])\n",
    "    data_world_24h = data_world_actual - data_world_before\n",
    "    return data_world_24h, data_world_actual\n",
    "\n",
    "data_confirmed_path = \"COVID-19/csse_covid_19_data/csse_covid_19_time_series/time_series_covid19_confirmed_global.csv\"\n",
    "data_deaths_path = \"COVID-19/csse_covid_19_data/csse_covid_19_time_series/time_series_covid19_deaths_global.csv\"\n",
    "data_recovered_path = \"COVID-19/csse_covid_19_data/csse_covid_19_time_series/time_series_covid19_recovered_global.csv\"\n",
    "\n",
    "\n",
    "# Para el mundo\n",
    "data_confirmed_world_24h, data_confirmed_world_actual = get_data_world(data_confirmed_path)\n",
    "data_deaths_world_24h, data_deaths_world_actual = get_data_world(data_deaths_path)\n",
    "data_recovered_world_24h, data_recovered_world_actual = get_data_world(data_recovered_path)\n",
    "\n",
    "''' Cogiendo datos de John Hopkins\n",
    "# Para España\n",
    "data_confirmed_spain_24h, data_confirmed_spain_actual = get_data_spain(data_confirmed_path)\n",
    "data_deaths_spain_24h, data_deaths_spain_actual = get_data_spain(data_deaths_path)\n",
    "data_recovered_spain_24h, data_recovered_spain_actual = get_data_spain(data_recovered_path)\n",
    "'''\n",
    "\n",
    "# Para España actual(dataset de datadista)\n",
    "data_confirmed_spain_actual = int(data_ccaa_confirmed_timeseries[date_today_large].sum())\n",
    "data_recovered_spain_actual = int(data_ccaa_recovered_timeseries[date_today_large].sum())\n",
    "data_deaths_spain_actual = int(data_ccaa_deaths_timeseries[date_today_large].sum())\n",
    "\n",
    "\n",
    "# Para España nuevos casos 24h(dataset de datadista)\n",
    "data_spain_datadista_trans = data_spain_datadista.set_index('fecha').transpose()\n",
    "data_spain_datadista_confirmed = data_spain_datadista_trans.iloc[1]\n",
    "data_spain_datadista_recovered = data_spain_datadista_trans.iloc[3]\n",
    "data_spain_datadista_deaths = data_spain_datadista_trans.iloc[4]\n",
    "data_confirmed_spain_24h = int(data_spain_datadista_confirmed[date_today_large]) - int(data_spain_datadista_confirmed[date_daybefore_large])\n",
    "data_recovered_spain_24h = int(data_spain_datadista_recovered[date_today_large]) - int(data_spain_datadista_recovered[date_daybefore_large])\n",
    "data_deaths_spain_24h= int(data_spain_datadista_deaths[date_today_large]) - int(data_spain_datadista_deaths[date_daybefore_large])\n",
    "\n",
    "# Creamos dataframes\n",
    "\n",
    "data_spain_resume_actual = pd.DataFrame({'Confirmados': data_confirmed_spain_actual,\n",
    "                                    'Curados': data_recovered_spain_actual, \n",
    "                                    'Fallecidos': data_deaths_spain_actual}, \n",
    "                                   index=['Casos totales en España'])\n",
    "\n",
    "data_spain_newcases = pd.DataFrame({'Confirmados': data_confirmed_spain_24h,\n",
    "                                    'Curados': data_recovered_spain_24h, \n",
    "                                    'Fallecidos': data_deaths_spain_24h}, \n",
    "                                   index=['Nuevos casos en España (24h)'])\n",
    "\n",
    "\n",
    "data_world_newcases = pd.DataFrame({'Confirmados': data_confirmed_world_24h,\n",
    "                                    'Curados': data_recovered_world_24h, \n",
    "                                    'Fallecidos': data_deaths_world_24h}, \n",
    "                                   index=['Nuevos casos en el mundo (24h)'])\n",
    "\n",
    "data_world_resume_actual = pd.DataFrame({'Confirmados': data_confirmed_world_actual,\n",
    "                                    'Curados': data_recovered_world_actual, \n",
    "                                    'Fallecidos': data_deaths_world_actual}, \n",
    "                                   index=['Casos totales en el mundo'])\n",
    "\n",
    "########### Junto los datos anteriores en una tabla\n",
    "data_resume_final = pd.concat([data_world_resume_actual, data_world_newcases, data_spain_resume_actual, data_spain_newcases])\n",
    "\n",
    "data_resume_final.to_csv('data_world_resume.csv', sep = ';')\n",
    "print(data_resume_final)"
   ]
  },
  {
   "cell_type": "markdown",
   "metadata": {},
   "source": [
    "## MUNDO: Preparación general de datos por países"
   ]
  },
  {
   "cell_type": "code",
   "execution_count": 4,
   "metadata": {},
   "outputs": [
    {
     "output_type": "execute_result",
     "data": {
      "text/plain": "Country/Region    China    France   Germany      Iran     Italy  Korea, South  \\\n2020-05-08      83976.0  176202.0  170588.0  104691.0  217185.0       10840.0   \n2020-05-09      83990.0  176782.0  171324.0  106220.0  218268.0       10874.0   \n2020-05-10      84010.0  177094.0  171879.0  107603.0  219070.0       10909.0   \n2020-05-11      84011.0  177547.0  172576.0  109286.0  219814.0       10936.0   \n2020-05-12      84018.0  178349.0  173171.0  110767.0  221216.0       10962.0   \n\nCountry/Region  Norway     Spain         US  United Kingdom  \n2020-05-08      8070.0  222857.0  1283929.0        212629.0  \n2020-05-09      8099.0  223578.0  1309550.0        216525.0  \n2020-05-10      8105.0  224350.0  1329260.0        220449.0  \n2020-05-11      8132.0  227436.0  1347881.0        224332.0  \n2020-05-12      8157.0  228030.0  1369376.0        227741.0  ",
      "text/html": "<div>\n<style scoped>\n    .dataframe tbody tr th:only-of-type {\n        vertical-align: middle;\n    }\n\n    .dataframe tbody tr th {\n        vertical-align: top;\n    }\n\n    .dataframe thead th {\n        text-align: right;\n    }\n</style>\n<table border=\"1\" class=\"dataframe\">\n  <thead>\n    <tr style=\"text-align: right;\">\n      <th>Country/Region</th>\n      <th>China</th>\n      <th>France</th>\n      <th>Germany</th>\n      <th>Iran</th>\n      <th>Italy</th>\n      <th>Korea, South</th>\n      <th>Norway</th>\n      <th>Spain</th>\n      <th>US</th>\n      <th>United Kingdom</th>\n    </tr>\n  </thead>\n  <tbody>\n    <tr>\n      <th>2020-05-08</th>\n      <td>83976.0</td>\n      <td>176202.0</td>\n      <td>170588.0</td>\n      <td>104691.0</td>\n      <td>217185.0</td>\n      <td>10840.0</td>\n      <td>8070.0</td>\n      <td>222857.0</td>\n      <td>1283929.0</td>\n      <td>212629.0</td>\n    </tr>\n    <tr>\n      <th>2020-05-09</th>\n      <td>83990.0</td>\n      <td>176782.0</td>\n      <td>171324.0</td>\n      <td>106220.0</td>\n      <td>218268.0</td>\n      <td>10874.0</td>\n      <td>8099.0</td>\n      <td>223578.0</td>\n      <td>1309550.0</td>\n      <td>216525.0</td>\n    </tr>\n    <tr>\n      <th>2020-05-10</th>\n      <td>84010.0</td>\n      <td>177094.0</td>\n      <td>171879.0</td>\n      <td>107603.0</td>\n      <td>219070.0</td>\n      <td>10909.0</td>\n      <td>8105.0</td>\n      <td>224350.0</td>\n      <td>1329260.0</td>\n      <td>220449.0</td>\n    </tr>\n    <tr>\n      <th>2020-05-11</th>\n      <td>84011.0</td>\n      <td>177547.0</td>\n      <td>172576.0</td>\n      <td>109286.0</td>\n      <td>219814.0</td>\n      <td>10936.0</td>\n      <td>8132.0</td>\n      <td>227436.0</td>\n      <td>1347881.0</td>\n      <td>224332.0</td>\n    </tr>\n    <tr>\n      <th>2020-05-12</th>\n      <td>84018.0</td>\n      <td>178349.0</td>\n      <td>173171.0</td>\n      <td>110767.0</td>\n      <td>221216.0</td>\n      <td>10962.0</td>\n      <td>8157.0</td>\n      <td>228030.0</td>\n      <td>1369376.0</td>\n      <td>227741.0</td>\n    </tr>\n  </tbody>\n</table>\n</div>"
     },
     "metadata": {},
     "execution_count": 4
    }
   ],
   "source": [
    "# Datos https://github.com/CSSEGISandData/COVID-19.git\n",
    "data = pd.read_csv(\"COVID-19/csse_covid_19_data/csse_covid_19_time_series/time_series_covid19_confirmed_global.csv\" )\n",
    "\n",
    "#Saco un dataset con solo los países\n",
    "data_countries = data.groupby(\"Country/Region\", as_index=False).sum()\n",
    "\n",
    "# Hago transposición de los datos para mover las columnas en filas \n",
    "data_trans = data_countries.set_index('Country/Region').transpose()\n",
    "# Y me quedo sólo con los datos temporales y número de casos\n",
    "data_time = data_trans[2:]\n",
    "\n",
    "# Cogemos solo determinados países\n",
    "data_time = data_time[['China', 'France', 'Germany', 'Iran','Italy', 'Korea, South', 'Norway','Spain', 'US', 'United Kingdom']]\n",
    "\n",
    "#Hago listado de Countries\n",
    "list_countries = data_time.columns\n",
    "list_countries\n",
    "\n",
    "#Convierto la columna fecha en datetime\n",
    "from datetime import date\n",
    "data_time.index = pd.to_datetime(data_time.index)\n",
    "data_time.tail()\n"
   ]
  },
  {
   "cell_type": "markdown",
   "metadata": {},
   "source": [
    "## MUNDO: Confirmados, curados y fallecidos"
   ]
  },
  {
   "cell_type": "code",
   "execution_count": 5,
   "metadata": {},
   "outputs": [
    {
     "output_type": "execute_result",
     "data": {
      "text/plain": "                Confirmados   Curados  Fallecidos\nCountry/Region                                   \nChina               84018.0   79222.0      4637.0\nFrance             178349.0   57898.0     26994.0\nGermany            173171.0  147200.0      7738.0\nItaly              221216.0  109039.0     30911.0\nSpain              228030.0  138980.0     26920.0\nUS                1369376.0  230287.0     82356.0\nUnited Kingdom     227741.0    1023.0     32769.0",
      "text/html": "<div>\n<style scoped>\n    .dataframe tbody tr th:only-of-type {\n        vertical-align: middle;\n    }\n\n    .dataframe tbody tr th {\n        vertical-align: top;\n    }\n\n    .dataframe thead th {\n        text-align: right;\n    }\n</style>\n<table border=\"1\" class=\"dataframe\">\n  <thead>\n    <tr style=\"text-align: right;\">\n      <th></th>\n      <th>Confirmados</th>\n      <th>Curados</th>\n      <th>Fallecidos</th>\n    </tr>\n    <tr>\n      <th>Country/Region</th>\n      <th></th>\n      <th></th>\n      <th></th>\n    </tr>\n  </thead>\n  <tbody>\n    <tr>\n      <th>China</th>\n      <td>84018.0</td>\n      <td>79222.0</td>\n      <td>4637.0</td>\n    </tr>\n    <tr>\n      <th>France</th>\n      <td>178349.0</td>\n      <td>57898.0</td>\n      <td>26994.0</td>\n    </tr>\n    <tr>\n      <th>Germany</th>\n      <td>173171.0</td>\n      <td>147200.0</td>\n      <td>7738.0</td>\n    </tr>\n    <tr>\n      <th>Italy</th>\n      <td>221216.0</td>\n      <td>109039.0</td>\n      <td>30911.0</td>\n    </tr>\n    <tr>\n      <th>Spain</th>\n      <td>228030.0</td>\n      <td>138980.0</td>\n      <td>26920.0</td>\n    </tr>\n    <tr>\n      <th>US</th>\n      <td>1369376.0</td>\n      <td>230287.0</td>\n      <td>82356.0</td>\n    </tr>\n    <tr>\n      <th>United Kingdom</th>\n      <td>227741.0</td>\n      <td>1023.0</td>\n      <td>32769.0</td>\n    </tr>\n  </tbody>\n</table>\n</div>"
     },
     "metadata": {},
     "execution_count": 5
    }
   ],
   "source": [
    "######### Confirmados\n",
    "\n",
    "data_confirmed = pd.read_csv(\"COVID-19/csse_covid_19_data/csse_covid_19_time_series/time_series_covid19_confirmed_global.csv\" )\n",
    "#Saco un dataset con solo los países\n",
    "data_confirmed = data_confirmed.groupby(\"Country/Region\", as_index=False).sum()\n",
    "# Hago transposición de los datos para mover las columnas en filas \n",
    "data_confirmed = data_confirmed.set_index('Country/Region').transpose()\n",
    "# Y me quedo sólo con los datos temporales y número de casos\n",
    "data_confirmed = data_confirmed[2:]\n",
    "# Cogemos solo determinados países\n",
    "data_confirmed = data_confirmed[['China', 'France', 'Germany', 'Italy','Spain', 'US', 'United Kingdom']]\n",
    "data_confirmed = data_confirmed[-1:]\n",
    "\n",
    "######### Muertos\n",
    "\n",
    "data_deaths = pd.read_csv(\"COVID-19/csse_covid_19_data/csse_covid_19_time_series/time_series_covid19_deaths_global.csv\")\n",
    "#Saco un dataset con solo los países\n",
    "data_deaths = data_deaths.groupby(\"Country/Region\", as_index=False).sum()\n",
    "#Se ve que están todos y comprobado que suma\n",
    "data_deaths[::]\n",
    "# Hago transposición de los datos para mover las columnas en filas \n",
    "data_deaths = data_deaths.set_index('Country/Region').transpose()\n",
    "\n",
    "# Y me quedo sólo con los datos temporales y número de casos\n",
    "data_deaths = data_deaths[2:]\n",
    "data_deaths.tail()\n",
    "# Cogemos solo determinados países\n",
    "data_deaths = data_deaths[['China', 'France', 'Germany', 'Italy','Spain', 'US', 'United Kingdom']]\n",
    "data_deaths = data_deaths[-1:]\n",
    "\n",
    "######### Recuperados\n",
    "\n",
    "data_recovered = pd.read_csv(\"COVID-19/csse_covid_19_data/csse_covid_19_time_series/time_series_covid19_recovered_global.csv\" )\n",
    "#Saco un dataset con solo los países\n",
    "data_recovered = data_recovered.groupby(\"Country/Region\", as_index=False).sum()\n",
    "# Hago transposición de los datos para mover las columnas en filas \n",
    "data_recovered = data_recovered.set_index('Country/Region').transpose()\n",
    "# Y me quedo sólo con los datos temporales y número de casos\n",
    "data_recovered = data_recovered[2:]\n",
    "# Cogemos solo determinados países\n",
    "data_recovered = data_recovered[['China', 'France', 'Germany', 'Italy','Spain', 'US', 'United Kingdom']]\n",
    "data_recovered = data_recovered[-1:]\n",
    "\n",
    "######### Merge de datos\n",
    "\n",
    "# Saco la fecha:\n",
    "from datetime import datetime, timedelta\n",
    "date_today_intern = date.today()\n",
    "date_today_intern = date_today_intern.today() - timedelta(days=1) #Quito uno porque esta base de datos siempre muestra datos del día anterior\n",
    "date_today_intern = date_today_intern.strftime('%d/%m')\n",
    "\n",
    "#Juntar ahora datos\n",
    "data_columns = ['Confirmados', 'Curados', 'Fallecidos']\n",
    "\n",
    "data_together = pd.merge(data_confirmed, data_recovered, how='outer')\n",
    "data_together = pd.merge(data_together, data_deaths, how='outer')\n",
    "data_together.index = data_columns\n",
    "data_together_final = data_together.transpose()\n",
    "# data_together = data_together.reindex(columns =data_columns) \n",
    "# data_together = data_together.reindex(data_index)\n",
    "\n",
    "# Exporto CSV\n",
    "data_together_final.to_csv('data_world_actual.csv', sep = ';')\n",
    "data_together_final"
   ]
  },
  {
   "cell_type": "markdown",
   "metadata": {},
   "source": [
    "## MUNDO: Confirmados, curados y fallecidos por habitantes de población"
   ]
  },
  {
   "cell_type": "code",
   "execution_count": 6,
   "metadata": {},
   "outputs": [
    {
     "output_type": "execute_result",
     "data": {
      "text/plain": "Country/Region    China    France   Germany     Italy     Spain         US  \\\nConfirmados     84018.0  178349.0  173171.0  221216.0  228030.0  1369376.0   \nCurados         79222.0   57898.0  147200.0  109039.0  138980.0   230287.0   \nFallecidos       4637.0   26994.0    7738.0   30911.0   26920.0    82356.0   \n\nCountry/Region  United Kingdom  \nConfirmados           227741.0  \nCurados                 1023.0  \nFallecidos             32769.0  ",
      "text/html": "<div>\n<style scoped>\n    .dataframe tbody tr th:only-of-type {\n        vertical-align: middle;\n    }\n\n    .dataframe tbody tr th {\n        vertical-align: top;\n    }\n\n    .dataframe thead th {\n        text-align: right;\n    }\n</style>\n<table border=\"1\" class=\"dataframe\">\n  <thead>\n    <tr style=\"text-align: right;\">\n      <th>Country/Region</th>\n      <th>China</th>\n      <th>France</th>\n      <th>Germany</th>\n      <th>Italy</th>\n      <th>Spain</th>\n      <th>US</th>\n      <th>United Kingdom</th>\n    </tr>\n  </thead>\n  <tbody>\n    <tr>\n      <th>Confirmados</th>\n      <td>84018.0</td>\n      <td>178349.0</td>\n      <td>173171.0</td>\n      <td>221216.0</td>\n      <td>228030.0</td>\n      <td>1369376.0</td>\n      <td>227741.0</td>\n    </tr>\n    <tr>\n      <th>Curados</th>\n      <td>79222.0</td>\n      <td>57898.0</td>\n      <td>147200.0</td>\n      <td>109039.0</td>\n      <td>138980.0</td>\n      <td>230287.0</td>\n      <td>1023.0</td>\n    </tr>\n    <tr>\n      <th>Fallecidos</th>\n      <td>4637.0</td>\n      <td>26994.0</td>\n      <td>7738.0</td>\n      <td>30911.0</td>\n      <td>26920.0</td>\n      <td>82356.0</td>\n      <td>32769.0</td>\n    </tr>\n  </tbody>\n</table>\n</div>"
     },
     "metadata": {},
     "execution_count": 6
    }
   ],
   "source": [
    "data_together"
   ]
  },
  {
   "cell_type": "code",
   "execution_count": 7,
   "metadata": {},
   "outputs": [
    {
     "output_type": "execute_result",
     "data": {
      "text/plain": "Country/Region  China  France  Germany   Italy   Spain      US  United Kingdom\nConfirmados      60.0  2661.0   2086.0  3654.0  4858.0  4172.0          3417.0\nCurados          57.0   864.0   1773.0  1801.0  2961.0   702.0            15.0\nFallecidos        3.0   403.0     93.0   511.0   573.0   251.0           492.0",
      "text/html": "<div>\n<style scoped>\n    .dataframe tbody tr th:only-of-type {\n        vertical-align: middle;\n    }\n\n    .dataframe tbody tr th {\n        vertical-align: top;\n    }\n\n    .dataframe thead th {\n        text-align: right;\n    }\n</style>\n<table border=\"1\" class=\"dataframe\">\n  <thead>\n    <tr style=\"text-align: right;\">\n      <th>Country/Region</th>\n      <th>China</th>\n      <th>France</th>\n      <th>Germany</th>\n      <th>Italy</th>\n      <th>Spain</th>\n      <th>US</th>\n      <th>United Kingdom</th>\n    </tr>\n  </thead>\n  <tbody>\n    <tr>\n      <th>Confirmados</th>\n      <td>60.0</td>\n      <td>2661.0</td>\n      <td>2086.0</td>\n      <td>3654.0</td>\n      <td>4858.0</td>\n      <td>4172.0</td>\n      <td>3417.0</td>\n    </tr>\n    <tr>\n      <th>Curados</th>\n      <td>57.0</td>\n      <td>864.0</td>\n      <td>1773.0</td>\n      <td>1801.0</td>\n      <td>2961.0</td>\n      <td>702.0</td>\n      <td>15.0</td>\n    </tr>\n    <tr>\n      <th>Fallecidos</th>\n      <td>3.0</td>\n      <td>403.0</td>\n      <td>93.0</td>\n      <td>511.0</td>\n      <td>573.0</td>\n      <td>251.0</td>\n      <td>492.0</td>\n    </tr>\n  </tbody>\n</table>\n</div>"
     },
     "metadata": {},
     "execution_count": 7
    }
   ],
   "source": [
    "pob_wuhan = 11895000\n",
    "pob_china = 1393000000\n",
    "pob_france = 67028048\n",
    "pob_germany = 83019200\n",
    "pob_italy = 60541000\n",
    "pob_spain = 46940000\n",
    "pob_US = 328200000\n",
    "pob_UK = 66650000\n",
    "\n",
    "# Por cada millón de habitantes hay estos casos...\n",
    "data_together_den = data_together.copy()\n",
    "data_together_den['China'] = (data_together_den['China'] / pob_china)*1000000 # Por cada caso infectado hay 142 que no lo están\n",
    "data_together_den['France'] = (data_together_den['France'] / pob_france)*1000000 # Por cada caso infectado hay 455 que no lo están\n",
    "data_together_den['Germany'] = (data_together_den['Germany'] / pob_germany)*1000000  # Por cada caso infectado hay 455 que no lo están\n",
    "data_together_den['Italy'] = (data_together_den['Italy'] / pob_italy)*1000000\n",
    "data_together_den['Spain'] = (data_together_den['Spain'] / pob_spain)*1000000\n",
    "data_together_den['US'] = (data_together_den['US'] / pob_US)*1000000\n",
    "data_together_den['United Kingdom'] = (data_together_den['United Kingdom'] / pob_UK)*1000000\n",
    "data_together_den = data_together_den.round(0)\n",
    "# Exporto CSV\n",
    "data_together_den.to_csv('data_world_actual_den.csv', sep = ';')\n",
    "data_together_den"
   ]
  },
  {
   "cell_type": "markdown",
   "metadata": {},
   "source": [
    "## MUNDO: CSV : covid19_data_drive_from100.csv"
   ]
  },
  {
   "cell_type": "code",
   "execution_count": 8,
   "metadata": {},
   "outputs": [
    {
     "output_type": "execute_result",
     "data": {
      "text/plain": "    France    China  Germany  Iran     Italy  Korea, South  Norway  Spain  US  \\\n76     NaN  82718.0      NaN   NaN  219070.0       10822.0     NaN    NaN NaN   \n77     NaN  82809.0      NaN   NaN  219814.0       10840.0     NaN    NaN NaN   \n78     NaN  82883.0      NaN   NaN  221216.0       10874.0     NaN    NaN NaN   \n79     NaN  82941.0      NaN   NaN       NaN       10909.0     NaN    NaN NaN   \n80     NaN  83014.0      NaN   NaN       NaN       10936.0     NaN    NaN NaN   \n\n    United Kingdom  \n76             NaN  \n77             NaN  \n78             NaN  \n79             NaN  \n80             NaN  ",
      "text/html": "<div>\n<style scoped>\n    .dataframe tbody tr th:only-of-type {\n        vertical-align: middle;\n    }\n\n    .dataframe tbody tr th {\n        vertical-align: top;\n    }\n\n    .dataframe thead th {\n        text-align: right;\n    }\n</style>\n<table border=\"1\" class=\"dataframe\">\n  <thead>\n    <tr style=\"text-align: right;\">\n      <th></th>\n      <th>France</th>\n      <th>China</th>\n      <th>Germany</th>\n      <th>Iran</th>\n      <th>Italy</th>\n      <th>Korea, South</th>\n      <th>Norway</th>\n      <th>Spain</th>\n      <th>US</th>\n      <th>United Kingdom</th>\n    </tr>\n  </thead>\n  <tbody>\n    <tr>\n      <th>76</th>\n      <td>NaN</td>\n      <td>82718.0</td>\n      <td>NaN</td>\n      <td>NaN</td>\n      <td>219070.0</td>\n      <td>10822.0</td>\n      <td>NaN</td>\n      <td>NaN</td>\n      <td>NaN</td>\n      <td>NaN</td>\n    </tr>\n    <tr>\n      <th>77</th>\n      <td>NaN</td>\n      <td>82809.0</td>\n      <td>NaN</td>\n      <td>NaN</td>\n      <td>219814.0</td>\n      <td>10840.0</td>\n      <td>NaN</td>\n      <td>NaN</td>\n      <td>NaN</td>\n      <td>NaN</td>\n    </tr>\n    <tr>\n      <th>78</th>\n      <td>NaN</td>\n      <td>82883.0</td>\n      <td>NaN</td>\n      <td>NaN</td>\n      <td>221216.0</td>\n      <td>10874.0</td>\n      <td>NaN</td>\n      <td>NaN</td>\n      <td>NaN</td>\n      <td>NaN</td>\n    </tr>\n    <tr>\n      <th>79</th>\n      <td>NaN</td>\n      <td>82941.0</td>\n      <td>NaN</td>\n      <td>NaN</td>\n      <td>NaN</td>\n      <td>10909.0</td>\n      <td>NaN</td>\n      <td>NaN</td>\n      <td>NaN</td>\n      <td>NaN</td>\n    </tr>\n    <tr>\n      <th>80</th>\n      <td>NaN</td>\n      <td>83014.0</td>\n      <td>NaN</td>\n      <td>NaN</td>\n      <td>NaN</td>\n      <td>10936.0</td>\n      <td>NaN</td>\n      <td>NaN</td>\n      <td>NaN</td>\n      <td>NaN</td>\n    </tr>\n  </tbody>\n</table>\n</div>"
     },
     "metadata": {},
     "execution_count": 8
    }
   ],
   "source": [
    "# Coger solo datos del último mes\n",
    "data_time_30days = data_time[-200:]\n",
    "# Si quiero quitar China: data_time_filter = data_time_filter.drop('China', axis=1)\n",
    "\n",
    "#Exporto los datos en diferentes arhcivos con casa país\n",
    "for country in list_countries:\n",
    "    dataX = data_time_30days[country]\n",
    "    dataX = dataX[dataX > 200]\n",
    "    dataX.to_csv('data_' + country + \".csv\", index=False, header= country)\n",
    "\n",
    "# Lista dataframes\n",
    "# dataframes_list = ['dataframe_France', 'dataframe_China', 'dataframe_Germany', 'dataframe_Iran', 'dataframe_Italy', 'dataframe_Korea', 'dataframe_Norway', 'dataframe_Spain', 'dataframe_US', 'dataframe_UnitedKingdom']\n",
    "\n",
    "# Creamos los CSV\n",
    "dataframe_France = pd.read_csv('data_France.csv')\n",
    "dataframe_China = pd.read_csv('data_China.csv')\n",
    "dataframe_Germany = pd.read_csv('data_Germany.csv')\n",
    "dataframe_Iran = pd.read_csv('data_Iran.csv')\n",
    "dataframe_Italy = pd.read_csv('data_Italy.csv')\n",
    "dataframe_Korea = pd.read_csv('data_Korea, South.csv')\n",
    "dataframe_Norway = pd.read_csv('data_Norway.csv')\n",
    "dataframe_Spain = pd.read_csv('data_Spain.csv')\n",
    "dataframe_US = pd.read_csv('data_US.csv')\n",
    "dataframe_UnitedKingdom = pd.read_csv('data_United Kingdom.csv')\n",
    "\n",
    "#Les añadimos NaN al final y reindexamos\n",
    "new_index = np.arange(1,81)\n",
    "dataframe_France = dataframe_France.reindex(new_index)\n",
    "dataframe_China = dataframe_China.reindex(new_index)\n",
    "dataframe_Germany = dataframe_Germany.reindex(new_index)\n",
    "dataframe_Iran = dataframe_Iran.reindex(new_index)\n",
    "dataframe_Italy = dataframe_Italy.reindex(new_index)\n",
    "dataframe_Korea = dataframe_Korea.reindex(new_index)\n",
    "dataframe_Norway = dataframe_Norway.reindex(new_index)\n",
    "dataframe_Spain = dataframe_Spain.reindex(new_index)\n",
    "dataframe_US = dataframe_US.reindex(new_index)\n",
    "dataframe_UnitedKingdom = dataframe_UnitedKingdom.reindex(new_index)\n",
    "\n",
    "#Juntar dataframes y Exportar CSV completo\n",
    "data_drive_from100cases = dataframe_France.join([dataframe_China, dataframe_Germany, \n",
    "                                                 dataframe_Iran, dataframe_Italy, dataframe_Korea, \n",
    "                                                 dataframe_Norway, dataframe_Spain, dataframe_US,\n",
    "                                                 dataframe_UnitedKingdom])\n",
    "\n",
    "data_drive_from100cases.to_csv('data_world_from100.csv', sep = ';')\n",
    "data_drive_from100cases.tail()"
   ]
  },
  {
   "cell_type": "markdown",
   "metadata": {},
   "source": [
    "## MUNDO: CSV covid19_data_drive_days.csv"
   ]
  },
  {
   "cell_type": "code",
   "execution_count": 9,
   "metadata": {},
   "outputs": [
    {
     "output_type": "execute_result",
     "data": {
      "text/plain": "Country/Region    China    France   Germany      Iran     Italy  Korea, South  \\\n2020-05-08      83976.0  176202.0  170588.0  104691.0  217185.0       10840.0   \n2020-05-09      83990.0  176782.0  171324.0  106220.0  218268.0       10874.0   \n2020-05-10      84010.0  177094.0  171879.0  107603.0  219070.0       10909.0   \n2020-05-11      84011.0  177547.0  172576.0  109286.0  219814.0       10936.0   \n2020-05-12      84018.0  178349.0  173171.0  110767.0  221216.0       10962.0   \n\nCountry/Region  Norway     Spain         US  United Kingdom  \n2020-05-08      8070.0  222857.0  1283929.0        212629.0  \n2020-05-09      8099.0  223578.0  1309550.0        216525.0  \n2020-05-10      8105.0  224350.0  1329260.0        220449.0  \n2020-05-11      8132.0  227436.0  1347881.0        224332.0  \n2020-05-12      8157.0  228030.0  1369376.0        227741.0  ",
      "text/html": "<div>\n<style scoped>\n    .dataframe tbody tr th:only-of-type {\n        vertical-align: middle;\n    }\n\n    .dataframe tbody tr th {\n        vertical-align: top;\n    }\n\n    .dataframe thead th {\n        text-align: right;\n    }\n</style>\n<table border=\"1\" class=\"dataframe\">\n  <thead>\n    <tr style=\"text-align: right;\">\n      <th>Country/Region</th>\n      <th>China</th>\n      <th>France</th>\n      <th>Germany</th>\n      <th>Iran</th>\n      <th>Italy</th>\n      <th>Korea, South</th>\n      <th>Norway</th>\n      <th>Spain</th>\n      <th>US</th>\n      <th>United Kingdom</th>\n    </tr>\n  </thead>\n  <tbody>\n    <tr>\n      <th>2020-05-08</th>\n      <td>83976.0</td>\n      <td>176202.0</td>\n      <td>170588.0</td>\n      <td>104691.0</td>\n      <td>217185.0</td>\n      <td>10840.0</td>\n      <td>8070.0</td>\n      <td>222857.0</td>\n      <td>1283929.0</td>\n      <td>212629.0</td>\n    </tr>\n    <tr>\n      <th>2020-05-09</th>\n      <td>83990.0</td>\n      <td>176782.0</td>\n      <td>171324.0</td>\n      <td>106220.0</td>\n      <td>218268.0</td>\n      <td>10874.0</td>\n      <td>8099.0</td>\n      <td>223578.0</td>\n      <td>1309550.0</td>\n      <td>216525.0</td>\n    </tr>\n    <tr>\n      <th>2020-05-10</th>\n      <td>84010.0</td>\n      <td>177094.0</td>\n      <td>171879.0</td>\n      <td>107603.0</td>\n      <td>219070.0</td>\n      <td>10909.0</td>\n      <td>8105.0</td>\n      <td>224350.0</td>\n      <td>1329260.0</td>\n      <td>220449.0</td>\n    </tr>\n    <tr>\n      <th>2020-05-11</th>\n      <td>84011.0</td>\n      <td>177547.0</td>\n      <td>172576.0</td>\n      <td>109286.0</td>\n      <td>219814.0</td>\n      <td>10936.0</td>\n      <td>8132.0</td>\n      <td>227436.0</td>\n      <td>1347881.0</td>\n      <td>224332.0</td>\n    </tr>\n    <tr>\n      <th>2020-05-12</th>\n      <td>84018.0</td>\n      <td>178349.0</td>\n      <td>173171.0</td>\n      <td>110767.0</td>\n      <td>221216.0</td>\n      <td>10962.0</td>\n      <td>8157.0</td>\n      <td>228030.0</td>\n      <td>1369376.0</td>\n      <td>227741.0</td>\n    </tr>\n  </tbody>\n</table>\n</div>"
     },
     "metadata": {},
     "execution_count": 9
    }
   ],
   "source": [
    "# Coger solo datos de últimos 60 días\n",
    "data_time_Xdays = data_time[-30:]\n",
    "\n",
    "#Exportar CSV por días progresivos\n",
    "data_drive_lastX = data_time_Xdays.loc[:,list_countries]\n",
    "data_drive_lastX.to_csv('data_world_timeline.csv', sep = ';', encoding=\"utf-8\")\n",
    "data_drive_lastX.tail()\n"
   ]
  },
  {
   "cell_type": "markdown",
   "metadata": {},
   "source": [
    "## ESPAÑA: Resumen datos España: data_spain_newcases24h.csv"
   ]
  },
  {
   "cell_type": "code",
   "execution_count": 10,
   "metadata": {},
   "outputs": [
    {
     "output_type": "execute_result",
     "data": {
      "text/plain": "         fecha  casos_total  casos_pcr  casos_test_ac     altas  \\\n0   2020-02-21            2          2            NaN       NaN   \n1   2020-02-22            2          2            NaN       NaN   \n2   2020-02-23            2          2            NaN       NaN   \n3   2020-02-24            2          2            NaN       NaN   \n4   2020-02-25            3          3            NaN       NaN   \n..         ...          ...        ...            ...       ...   \n78  2020-05-09       263166     223961        39205.0  133952.0   \n79  2020-05-10       267650     227377        40273.0  136166.0   \n80  2020-05-11       268477     227770        40707.0  137139.0   \n81  2020-05-12       269742     228252        41490.0  138980.0   \n82  2020-05-13       271095     228691        42404.0  140823.0   \n\n    fallecimientos  ingresos_uci  hospitalizados  \n0              NaN           NaN             NaN  \n1              NaN           NaN             NaN  \n2              NaN           NaN             NaN  \n3              NaN           NaN             NaN  \n4              NaN           NaN             NaN  \n..             ...           ...             ...  \n78         26478.0       11292.0        122265.0  \n79         26621.0       11328.0        122730.0  \n80         26744.0       11348.0        122971.0  \n81         26920.0       11371.0        123484.0  \n82         27104.0       11436.0        123896.0  \n\n[83 rows x 8 columns]",
      "text/html": "<div>\n<style scoped>\n    .dataframe tbody tr th:only-of-type {\n        vertical-align: middle;\n    }\n\n    .dataframe tbody tr th {\n        vertical-align: top;\n    }\n\n    .dataframe thead th {\n        text-align: right;\n    }\n</style>\n<table border=\"1\" class=\"dataframe\">\n  <thead>\n    <tr style=\"text-align: right;\">\n      <th></th>\n      <th>fecha</th>\n      <th>casos_total</th>\n      <th>casos_pcr</th>\n      <th>casos_test_ac</th>\n      <th>altas</th>\n      <th>fallecimientos</th>\n      <th>ingresos_uci</th>\n      <th>hospitalizados</th>\n    </tr>\n  </thead>\n  <tbody>\n    <tr>\n      <th>0</th>\n      <td>2020-02-21</td>\n      <td>2</td>\n      <td>2</td>\n      <td>NaN</td>\n      <td>NaN</td>\n      <td>NaN</td>\n      <td>NaN</td>\n      <td>NaN</td>\n    </tr>\n    <tr>\n      <th>1</th>\n      <td>2020-02-22</td>\n      <td>2</td>\n      <td>2</td>\n      <td>NaN</td>\n      <td>NaN</td>\n      <td>NaN</td>\n      <td>NaN</td>\n      <td>NaN</td>\n    </tr>\n    <tr>\n      <th>2</th>\n      <td>2020-02-23</td>\n      <td>2</td>\n      <td>2</td>\n      <td>NaN</td>\n      <td>NaN</td>\n      <td>NaN</td>\n      <td>NaN</td>\n      <td>NaN</td>\n    </tr>\n    <tr>\n      <th>3</th>\n      <td>2020-02-24</td>\n      <td>2</td>\n      <td>2</td>\n      <td>NaN</td>\n      <td>NaN</td>\n      <td>NaN</td>\n      <td>NaN</td>\n      <td>NaN</td>\n    </tr>\n    <tr>\n      <th>4</th>\n      <td>2020-02-25</td>\n      <td>3</td>\n      <td>3</td>\n      <td>NaN</td>\n      <td>NaN</td>\n      <td>NaN</td>\n      <td>NaN</td>\n      <td>NaN</td>\n    </tr>\n    <tr>\n      <th>...</th>\n      <td>...</td>\n      <td>...</td>\n      <td>...</td>\n      <td>...</td>\n      <td>...</td>\n      <td>...</td>\n      <td>...</td>\n      <td>...</td>\n    </tr>\n    <tr>\n      <th>78</th>\n      <td>2020-05-09</td>\n      <td>263166</td>\n      <td>223961</td>\n      <td>39205.0</td>\n      <td>133952.0</td>\n      <td>26478.0</td>\n      <td>11292.0</td>\n      <td>122265.0</td>\n    </tr>\n    <tr>\n      <th>79</th>\n      <td>2020-05-10</td>\n      <td>267650</td>\n      <td>227377</td>\n      <td>40273.0</td>\n      <td>136166.0</td>\n      <td>26621.0</td>\n      <td>11328.0</td>\n      <td>122730.0</td>\n    </tr>\n    <tr>\n      <th>80</th>\n      <td>2020-05-11</td>\n      <td>268477</td>\n      <td>227770</td>\n      <td>40707.0</td>\n      <td>137139.0</td>\n      <td>26744.0</td>\n      <td>11348.0</td>\n      <td>122971.0</td>\n    </tr>\n    <tr>\n      <th>81</th>\n      <td>2020-05-12</td>\n      <td>269742</td>\n      <td>228252</td>\n      <td>41490.0</td>\n      <td>138980.0</td>\n      <td>26920.0</td>\n      <td>11371.0</td>\n      <td>123484.0</td>\n    </tr>\n    <tr>\n      <th>82</th>\n      <td>2020-05-13</td>\n      <td>271095</td>\n      <td>228691</td>\n      <td>42404.0</td>\n      <td>140823.0</td>\n      <td>27104.0</td>\n      <td>11436.0</td>\n      <td>123896.0</td>\n    </tr>\n  </tbody>\n</table>\n<p>83 rows × 8 columns</p>\n</div>"
     },
     "metadata": {},
     "execution_count": 10
    }
   ],
   "source": [
    "data_spain_datadista"
   ]
  },
  {
   "cell_type": "code",
   "execution_count": 11,
   "metadata": {},
   "outputs": [
    {
     "output_type": "execute_result",
     "data": {
      "text/plain": "                             2020-04-03  2020-04-04  2020-04-05  2020-04-06  \\\nConfirmados (24h) en España        6675        5534        3668        5262   \nRecuperados (24h) en España        3633        3528        2022        2897   \nFallecidos (24h) en España          780         670         628         757   \n\n                             2020-04-07  2020-04-08  2020-04-09  2020-04-10  \\\nConfirmados (24h) en España        5606        5796        4603        4958   \nRecuperados (24h) en España        4471        4025        3744        3258   \nFallecidos (24h) en España          757         781         642         500   \n\n                             2020-04-11  2020-04-12  ...  2020-05-03  \\\nConfirmados (24h) en España        4051        3133  ...         999   \nRecuperados (24h) en España        2908        2139  ...        2441   \nFallecidos (24h) en España          606         551  ...         164   \n\n                             2020-05-04  2020-05-05  2020-05-06  2020-05-07  \\\nConfirmados (24h) en España        1975        3000        2967        3025   \nRecuperados (24h) en España        2143        2516        2509        2637   \nFallecidos (24h) en España          185         244         213         229   \n\n                             2020-05-08  2020-05-09  2020-05-10  2020-05-11  \\\nConfirmados (24h) en España        2688        4484         827        1265   \nRecuperados (24h) en España        2804        2214         973        1841   \nFallecidos (24h) en España          179         143         123         176   \n\n                             2020-05-12  \nConfirmados (24h) en España        1353  \nRecuperados (24h) en España        1843  \nFallecidos (24h) en España          184  \n\n[3 rows x 40 columns]",
      "text/html": "<div>\n<style scoped>\n    .dataframe tbody tr th:only-of-type {\n        vertical-align: middle;\n    }\n\n    .dataframe tbody tr th {\n        vertical-align: top;\n    }\n\n    .dataframe thead th {\n        text-align: right;\n    }\n</style>\n<table border=\"1\" class=\"dataframe\">\n  <thead>\n    <tr style=\"text-align: right;\">\n      <th></th>\n      <th>2020-04-03</th>\n      <th>2020-04-04</th>\n      <th>2020-04-05</th>\n      <th>2020-04-06</th>\n      <th>2020-04-07</th>\n      <th>2020-04-08</th>\n      <th>2020-04-09</th>\n      <th>2020-04-10</th>\n      <th>2020-04-11</th>\n      <th>2020-04-12</th>\n      <th>...</th>\n      <th>2020-05-03</th>\n      <th>2020-05-04</th>\n      <th>2020-05-05</th>\n      <th>2020-05-06</th>\n      <th>2020-05-07</th>\n      <th>2020-05-08</th>\n      <th>2020-05-09</th>\n      <th>2020-05-10</th>\n      <th>2020-05-11</th>\n      <th>2020-05-12</th>\n    </tr>\n  </thead>\n  <tbody>\n    <tr>\n      <th>Confirmados (24h) en España</th>\n      <td>6675</td>\n      <td>5534</td>\n      <td>3668</td>\n      <td>5262</td>\n      <td>5606</td>\n      <td>5796</td>\n      <td>4603</td>\n      <td>4958</td>\n      <td>4051</td>\n      <td>3133</td>\n      <td>...</td>\n      <td>999</td>\n      <td>1975</td>\n      <td>3000</td>\n      <td>2967</td>\n      <td>3025</td>\n      <td>2688</td>\n      <td>4484</td>\n      <td>827</td>\n      <td>1265</td>\n      <td>1353</td>\n    </tr>\n    <tr>\n      <th>Recuperados (24h) en España</th>\n      <td>3633</td>\n      <td>3528</td>\n      <td>2022</td>\n      <td>2897</td>\n      <td>4471</td>\n      <td>4025</td>\n      <td>3744</td>\n      <td>3258</td>\n      <td>2908</td>\n      <td>2139</td>\n      <td>...</td>\n      <td>2441</td>\n      <td>2143</td>\n      <td>2516</td>\n      <td>2509</td>\n      <td>2637</td>\n      <td>2804</td>\n      <td>2214</td>\n      <td>973</td>\n      <td>1841</td>\n      <td>1843</td>\n    </tr>\n    <tr>\n      <th>Fallecidos (24h) en España</th>\n      <td>780</td>\n      <td>670</td>\n      <td>628</td>\n      <td>757</td>\n      <td>757</td>\n      <td>781</td>\n      <td>642</td>\n      <td>500</td>\n      <td>606</td>\n      <td>551</td>\n      <td>...</td>\n      <td>164</td>\n      <td>185</td>\n      <td>244</td>\n      <td>213</td>\n      <td>229</td>\n      <td>179</td>\n      <td>143</td>\n      <td>123</td>\n      <td>176</td>\n      <td>184</td>\n    </tr>\n  </tbody>\n</table>\n<p>3 rows × 40 columns</p>\n</div>"
     },
     "metadata": {},
     "execution_count": 11
    }
   ],
   "source": [
    "# Con datos de datadista, SOLO PARA DATOS DE PAÍS\n",
    "data_path_confirmed = 'casos_total'\n",
    "data_path_recovered = 'altas'\n",
    "data_path_deaths = 'fallecimientos'\n",
    "\n",
    "# Evolución últimos 40 días de nuevos casos\n",
    "\n",
    "def day_consecutive(day):\n",
    "    date_cons = date.today()\n",
    "    date_cons = date_cons - timedelta(days=day)\n",
    "    date_cons = date_cons.strftime('%Y-%m-%d')\n",
    "    return date_cons\n",
    "\n",
    "def data_day(data_path, number_to_rest):\n",
    "    data = data_spain_datadista.set_index('fecha')\n",
    "    data = data[data_path]\n",
    "    data = int(data.iloc[number_to_rest]) - int(data.iloc[number_to_rest-1])\n",
    "    return data\n",
    "\n",
    "data_day(data_path_confirmed, -3)\n",
    "\n",
    "def create_dataframe(data_day_name, data_path, index_title):\n",
    "    dataframe = pd.DataFrame({day_consecutive(40): data_day_name(data_path, -40),\n",
    "                              day_consecutive(39): data_day_name(data_path, -39),\n",
    "                              day_consecutive(38): data_day_name(data_path, -38),\n",
    "                              day_consecutive(37): data_day_name(data_path, -37),\n",
    "                              day_consecutive(36): data_day_name(data_path, -36),\n",
    "                              day_consecutive(35): data_day_name(data_path, -35),\n",
    "                              day_consecutive(34): data_day_name(data_path, -34),\n",
    "                              day_consecutive(33): data_day_name(data_path, -33),\n",
    "                              day_consecutive(32): data_day_name(data_path, -32),\n",
    "                              day_consecutive(31): data_day_name(data_path, -31),\n",
    "                              day_consecutive(30): data_day_name(data_path, -30),\n",
    "                              day_consecutive(29): data_day_name(data_path, -29),\n",
    "                              day_consecutive(28): data_day_name(data_path, -28),\n",
    "                              day_consecutive(27): data_day_name(data_path, -27),\n",
    "                              day_consecutive(26): data_day_name(data_path, -26),\n",
    "                              day_consecutive(25): data_day_name(data_path, -25),\n",
    "                              day_consecutive(24): data_day_name(data_path, -24),\n",
    "                              day_consecutive(23): data_day_name(data_path, -23),\n",
    "                              day_consecutive(22): data_day_name(data_path, -22),\n",
    "                              day_consecutive(21): data_day_name(data_path, -21),\n",
    "                              day_consecutive(20): data_day_name(data_path, -20),\n",
    "                              day_consecutive(19): data_day_name(data_path, -19), \n",
    "                              day_consecutive(18): data_day_name(data_path, -18),\n",
    "                              day_consecutive(17): data_day_name(data_path, -17),\n",
    "                              day_consecutive(16): data_day_name(data_path, -16),\n",
    "                              day_consecutive(15): data_day_name(data_path, -15),\n",
    "                              day_consecutive(14): data_day_name(data_path, -14),\n",
    "                              day_consecutive(13): data_day_name(data_path, -13),\n",
    "                              day_consecutive(12): data_day_name(data_path, -12),\n",
    "                              day_consecutive(11): data_day_name(data_path, -11),\n",
    "                              day_consecutive(10): data_day_name(data_path, -10),\n",
    "                              day_consecutive(9): data_day_name(data_path, -9),\n",
    "                              day_consecutive(8): data_day_name(data_path, -8),\n",
    "                              day_consecutive(7): data_day_name(data_path, -7),\n",
    "                              day_consecutive(6): data_day_name(data_path, -6),\n",
    "                              day_consecutive(5): data_day_name(data_path, -5),\n",
    "                              day_consecutive(4): data_day_name(data_path, -4),\n",
    "                              day_consecutive(3): data_day_name(data_path, -3),\n",
    "                              day_consecutive(2): data_day_name(data_path, -2),\n",
    "                              day_consecutive(1): data_day_name(data_path, -1),\n",
    "                             }, index=index_title)\n",
    "                                    \n",
    "    return dataframe\n",
    "\n",
    "data_spain_confirmed24h_datadista = create_dataframe(data_day, data_path_confirmed, ['Confirmados (24h) en España'])\n",
    "data_spain_recovered24h_datadista = create_dataframe(data_day, data_path_recovered, ['Recuperados (24h) en España'])\n",
    "data_spain_deaths24h_datadista = create_dataframe(data_day, data_path_deaths, ['Fallecidos (24h) en España'])\n",
    "data_spain_newcases24h_datadista = pd.concat([data_spain_confirmed24h_datadista,data_spain_recovered24h_datadista,data_spain_deaths24h_datadista], axis=0)\n",
    "\n",
    "\n",
    "# Exportar\n",
    "data_spain_newcases24h_datadista.to_csv('data_spain_newcases24h.csv', sep = ';')\n",
    "data_spain_deaths24h_datadista.to_csv('data_spain_newcases24h_deaths.csv', sep = ';')\n",
    "data_spain_newcases24h_datadista"
   ]
  },
  {
   "cell_type": "code",
   "execution_count": 12,
   "metadata": {},
   "outputs": [
    {
     "output_type": "execute_result",
     "data": {
      "text/plain": "                              2020-04-03  2020-04-04  2020-04-05  2020-04-06  \\\nFallecidos (24h) en España           780         670         628         757   \nFallecidos (24h) en Italia           766         681         525         636   \nFallecidos (24h) en Francia         1122        1054         519         833   \nFallecidos (24h) en Alemania         168         169         140         226   \n\n                              2020-04-07  2020-04-08  2020-04-09  2020-04-10  \\\nFallecidos (24h) en España           757         781         642         500   \nFallecidos (24h) en Italia           604         542         610         570   \nFallecidos (24h) en Francia         1417         544        1341         987   \nFallecidos (24h) en Alemania         206         333         258         160   \n\n                              2020-04-11  2020-04-12  ...  2020-05-03  \\\nFallecidos (24h) en España           606         551  ...         164   \nFallecidos (24h) en Italia           619         431  ...         174   \nFallecidos (24h) en Francia          636         561  ...         137   \nFallecidos (24h) en Alemania         -31         286  ...          54   \n\n                              2020-05-04  2020-05-05  2020-05-06  2020-05-07  \\\nFallecidos (24h) en España           185         244         213         229   \nFallecidos (24h) en Italia           195         236         369         274   \nFallecidos (24h) en Francia          304         333         275         178   \nFallecidos (24h) en Alemania         127           0         282         117   \n\n                              2020-05-08  2020-05-09  2020-05-10  2020-05-11  \\\nFallecidos (24h) en España           179         143         123         176   \nFallecidos (24h) en Italia           243         194         165         179   \nFallecidos (24h) en Francia          243          80          70         263   \nFallecidos (24h) en Alemania         118          39          20          92   \n\n                              2020-05-12  \nFallecidos (24h) en España           184  \nFallecidos (24h) en Italia           172  \nFallecidos (24h) en Francia          348  \nFallecidos (24h) en Alemania          77  \n\n[4 rows x 40 columns]",
      "text/html": "<div>\n<style scoped>\n    .dataframe tbody tr th:only-of-type {\n        vertical-align: middle;\n    }\n\n    .dataframe tbody tr th {\n        vertical-align: top;\n    }\n\n    .dataframe thead th {\n        text-align: right;\n    }\n</style>\n<table border=\"1\" class=\"dataframe\">\n  <thead>\n    <tr style=\"text-align: right;\">\n      <th></th>\n      <th>2020-04-03</th>\n      <th>2020-04-04</th>\n      <th>2020-04-05</th>\n      <th>2020-04-06</th>\n      <th>2020-04-07</th>\n      <th>2020-04-08</th>\n      <th>2020-04-09</th>\n      <th>2020-04-10</th>\n      <th>2020-04-11</th>\n      <th>2020-04-12</th>\n      <th>...</th>\n      <th>2020-05-03</th>\n      <th>2020-05-04</th>\n      <th>2020-05-05</th>\n      <th>2020-05-06</th>\n      <th>2020-05-07</th>\n      <th>2020-05-08</th>\n      <th>2020-05-09</th>\n      <th>2020-05-10</th>\n      <th>2020-05-11</th>\n      <th>2020-05-12</th>\n    </tr>\n  </thead>\n  <tbody>\n    <tr>\n      <th>Fallecidos (24h) en España</th>\n      <td>780</td>\n      <td>670</td>\n      <td>628</td>\n      <td>757</td>\n      <td>757</td>\n      <td>781</td>\n      <td>642</td>\n      <td>500</td>\n      <td>606</td>\n      <td>551</td>\n      <td>...</td>\n      <td>164</td>\n      <td>185</td>\n      <td>244</td>\n      <td>213</td>\n      <td>229</td>\n      <td>179</td>\n      <td>143</td>\n      <td>123</td>\n      <td>176</td>\n      <td>184</td>\n    </tr>\n    <tr>\n      <th>Fallecidos (24h) en Italia</th>\n      <td>766</td>\n      <td>681</td>\n      <td>525</td>\n      <td>636</td>\n      <td>604</td>\n      <td>542</td>\n      <td>610</td>\n      <td>570</td>\n      <td>619</td>\n      <td>431</td>\n      <td>...</td>\n      <td>174</td>\n      <td>195</td>\n      <td>236</td>\n      <td>369</td>\n      <td>274</td>\n      <td>243</td>\n      <td>194</td>\n      <td>165</td>\n      <td>179</td>\n      <td>172</td>\n    </tr>\n    <tr>\n      <th>Fallecidos (24h) en Francia</th>\n      <td>1122</td>\n      <td>1054</td>\n      <td>519</td>\n      <td>833</td>\n      <td>1417</td>\n      <td>544</td>\n      <td>1341</td>\n      <td>987</td>\n      <td>636</td>\n      <td>561</td>\n      <td>...</td>\n      <td>137</td>\n      <td>304</td>\n      <td>333</td>\n      <td>275</td>\n      <td>178</td>\n      <td>243</td>\n      <td>80</td>\n      <td>70</td>\n      <td>263</td>\n      <td>348</td>\n    </tr>\n    <tr>\n      <th>Fallecidos (24h) en Alemania</th>\n      <td>168</td>\n      <td>169</td>\n      <td>140</td>\n      <td>226</td>\n      <td>206</td>\n      <td>333</td>\n      <td>258</td>\n      <td>160</td>\n      <td>-31</td>\n      <td>286</td>\n      <td>...</td>\n      <td>54</td>\n      <td>127</td>\n      <td>0</td>\n      <td>282</td>\n      <td>117</td>\n      <td>118</td>\n      <td>39</td>\n      <td>20</td>\n      <td>92</td>\n      <td>77</td>\n    </tr>\n  </tbody>\n</table>\n<p>4 rows × 40 columns</p>\n</div>"
     },
     "metadata": {},
     "execution_count": 12
    }
   ],
   "source": [
    "#Con datos de John Hopkins, SOLO PARA COMPARAR CON INTERNACIONALES\n",
    "\n",
    "path_c = \"COVID-19/csse_covid_19_data/csse_covid_19_time_series/time_series_covid19_confirmed_global.csv\"\n",
    "path_d = \"COVID-19/csse_covid_19_data/csse_covid_19_time_series/time_series_covid19_deaths_global.csv\"\n",
    "path_r = \"COVID-19/csse_covid_19_data/csse_covid_19_time_series/time_series_covid19_recovered_global.csv\"\n",
    "\n",
    "# Evolución últimos 40 días de nuevos casos\n",
    "def day_consecutive(day):\n",
    "    date_cons = date.today()\n",
    "    date_cons = date_cons - timedelta(days=day)\n",
    "    date_cons = date_cons.strftime('%Y-%m-%d')\n",
    "    return date_cons\n",
    "\n",
    "def data_day(data_path, number_to_rest):\n",
    "    data = pd.read_csv(data_path)\n",
    "    data = data.groupby(\"Country/Region\", as_index=False).sum()\n",
    "    data = data.set_index(\"Country/Region\").transpose()\n",
    "    data = data['Spain']\n",
    "    data = int(data.iloc[number_to_rest]) - int(data.iloc[number_to_rest-1])\n",
    "    return data\n",
    "\n",
    "def data_day_italy(data_path, number_to_rest):\n",
    "    data = pd.read_csv(data_path)\n",
    "    data = data.groupby(\"Country/Region\", as_index=False).sum()\n",
    "    data = data.set_index(\"Country/Region\").transpose()\n",
    "    data = data['Italy']\n",
    "    data = int(data.iloc[number_to_rest]) - int(data.iloc[number_to_rest-1])\n",
    "    return data\n",
    "\n",
    "def data_day_france(data_path, number_to_rest):\n",
    "    data = pd.read_csv(data_path)\n",
    "    data = data.groupby(\"Country/Region\", as_index=False).sum()\n",
    "    data = data.set_index(\"Country/Region\").transpose()\n",
    "    data = data['France']\n",
    "    data = int(data.iloc[number_to_rest]) - int(data.iloc[number_to_rest-1])\n",
    "    return data\n",
    "\n",
    "def data_day_germany(data_path, number_to_rest):\n",
    "    data = pd.read_csv(data_path)\n",
    "    data = data.groupby(\"Country/Region\", as_index=False).sum()\n",
    "    data = data.set_index(\"Country/Region\").transpose()\n",
    "    data = data['Germany']\n",
    "    data = int(data.iloc[number_to_rest]) - int(data.iloc[number_to_rest-1])\n",
    "    return data\n",
    "\n",
    "def create_dataframe(data_day_name, data_path, index_title):\n",
    "    dataframe = pd.DataFrame({day_consecutive(40): data_day_name(data_path, -40),\n",
    "                              day_consecutive(39): data_day_name(data_path, -39),\n",
    "                              day_consecutive(38): data_day_name(data_path, -38),\n",
    "                              day_consecutive(37): data_day_name(data_path, -37),\n",
    "                              day_consecutive(36): data_day_name(data_path, -36),\n",
    "                              day_consecutive(35): data_day_name(data_path, -35),\n",
    "                              day_consecutive(34): data_day_name(data_path, -34),\n",
    "                              day_consecutive(33): data_day_name(data_path, -33),\n",
    "                              day_consecutive(32): data_day_name(data_path, -32),\n",
    "                              day_consecutive(31): data_day_name(data_path, -31),\n",
    "                              day_consecutive(30): data_day_name(data_path, -30),\n",
    "                              day_consecutive(29): data_day_name(data_path, -29),\n",
    "                              day_consecutive(28): data_day_name(data_path, -28),\n",
    "                              day_consecutive(27): data_day_name(data_path, -27),\n",
    "                              day_consecutive(26): data_day_name(data_path, -26),\n",
    "                              day_consecutive(25): data_day_name(data_path, -25),\n",
    "                              day_consecutive(24): data_day_name(data_path, -24),\n",
    "                              day_consecutive(23): data_day_name(data_path, -23),\n",
    "                              day_consecutive(22): data_day_name(data_path, -22),\n",
    "                              day_consecutive(21): data_day_name(data_path, -21),\n",
    "                              day_consecutive(20): data_day_name(data_path, -20),\n",
    "                              day_consecutive(19): data_day_name(data_path, -19), \n",
    "                              day_consecutive(18): data_day_name(data_path, -18),\n",
    "                              day_consecutive(17): data_day_name(data_path, -17),\n",
    "                              day_consecutive(16): data_day_name(data_path, -16),\n",
    "                              day_consecutive(15): data_day_name(data_path, -15),\n",
    "                              day_consecutive(14): data_day_name(data_path, -14),\n",
    "                              day_consecutive(13): data_day_name(data_path, -13),\n",
    "                              day_consecutive(12): data_day_name(data_path, -12),\n",
    "                              day_consecutive(11): data_day_name(data_path, -11),\n",
    "                              day_consecutive(10): data_day_name(data_path, -10),\n",
    "                              day_consecutive(9): data_day_name(data_path, -9),\n",
    "                              day_consecutive(8): data_day_name(data_path, -8),\n",
    "                              day_consecutive(7): data_day_name(data_path, -7),\n",
    "                              day_consecutive(6): data_day_name(data_path, -6),\n",
    "                              day_consecutive(5): data_day_name(data_path, -5),\n",
    "                              day_consecutive(4): data_day_name(data_path, -4),\n",
    "                              day_consecutive(3): data_day_name(data_path, -3),\n",
    "                              day_consecutive(2): data_day_name(data_path, -2),\n",
    "                              day_consecutive(1): data_day_name(data_path, -1),\n",
    "                             }, index=index_title)\n",
    "                                    \n",
    "    return dataframe\n",
    "\n",
    "'''Si se cogen los datos de España de John Hopkins\n",
    "# data_spain_confirmed24h = create_dataframe(data_day, path_c, ['Confirmados (24h) en España'])\n",
    "# data_spain_deaths24h = create_dataframe(data_day, path_d, ['Fallecidos (24h) en España'])\n",
    "# data_spain_recovered24h = create_dataframe(data_day, path_r, ['Recuperados (24h) en España'])\n",
    "#### Juntar dataframes\n",
    "# data_spain_newcases24h = pd.concat([data_spain_confirmed24h,data_spain_recovered24h,data_spain_deaths24h], axis=0)\n",
    "# data_spain_newcases24h.to_csv('data_spain_newcases24h.csv', sep = ';')\n",
    "# data_spain_deaths24h.to_csv('data_spain_newcases24h_deaths.csv', sep = ';')\n",
    "'''\n",
    "\n",
    "######## Lo mismo en italia\n",
    "data_italy_confirmed24h = create_dataframe(data_day_italy, path_c, ['Confirmados (24h) en Italia'])\n",
    "data_italy_deaths24h = create_dataframe(data_day_italy, path_d, ['Fallecidos (24h) en Italia'])\n",
    "data_italy_recovered24h = create_dataframe(data_day_italy, path_r, ['Recuperados (24h) en Italia'])\n",
    "data_italy_newcases24h = pd.concat([data_italy_confirmed24h,data_italy_recovered24h,data_italy_deaths24h], axis=0)\n",
    "\n",
    "######## Lo mismo en Francia\n",
    "data_france_confirmed24h = create_dataframe(data_day_france, path_c, ['Confirmados (24h) en Francia'])\n",
    "data_france_deaths24h = create_dataframe(data_day_france, path_d, ['Fallecidos (24h) en Francia'])\n",
    "data_france_recovered24h = create_dataframe(data_day_france, path_r, ['Recuperados (24h) en Francia'])\n",
    "data_france_newcases24h = pd.concat([data_france_confirmed24h,data_france_recovered24h,data_france_deaths24h], axis=0)\n",
    "\n",
    "######## Lo mismo en Alemania\n",
    "data_germany_confirmed24h = create_dataframe(data_day_germany, path_c, ['Confirmados (24h) en Alemania'])\n",
    "data_germany_deaths24h = create_dataframe(data_day_germany, path_d, ['Fallecidos (24h) en Alemania'])\n",
    "data_germany_recovered24h = create_dataframe(data_day_germany, path_r, ['Recuperados (24h) en Alemania'])\n",
    "data_germany_newcases24h = pd.concat([data_germany_confirmed24h,data_germany_recovered24h,data_germany_deaths24h], axis=0)\n",
    "\n",
    "\n",
    "###### Juntar dataframes Spain + Italy sólo de fallecidos, OJO LOS DATOS DE SPAIN SE COGEN DEL CÁLCULO ANTERIOR DE DATADISTA\n",
    "data_somecountries_newcases24h_deaths = pd.concat([data_spain_deaths24h_datadista, data_italy_deaths24h,\n",
    "                                                   data_france_deaths24h, data_germany_deaths24h], axis=0)\n",
    "data_somecountries_newcases24h_deaths.to_csv('data_somecountries_newcases24h.csv', sep = ';')\n",
    "data_somecountries_newcases24h_deaths\n"
   ]
  },
  {
   "cell_type": "markdown",
   "metadata": {},
   "source": [
    "## ESPAÑA: Evolución temporal casos confirmados"
   ]
  },
  {
   "cell_type": "code",
   "execution_count": 13,
   "metadata": {},
   "outputs": [
    {
     "output_type": "execute_result",
     "data": {
      "text/plain": "                       2020-02-21  2020-02-22  2020-02-23  2020-02-24  \\\nComunidades Autónomas                                                   \nAndalucía                       0           0           0           0   \nAragón                          0           0           0           0   \nAsturias                        0           0           0           0   \nBaleares                        1           1           1           1   \nCanarias                        1           1           1           1   \nCantabria                       0           0           0           0   \nCastilla La Mancha              0           0           0           0   \nCastilla y León                 0           0           0           0   \nCataluña                        0           0           0           0   \nCeuta                           0           0           0           0   \nC. Valenciana                   0           0           0           0   \nExtremadura                     0           0           0           0   \nGalicia                         0           0           0           0   \nMadrid                          0           0           0           0   \nMelilla                         0           0           0           0   \nMurcia                          0           0           0           0   \nNavarra                         0           0           0           0   \nPaís Vasco                      0           0           0           0   \nLa Rioja                        0           0           0           0   \n\n                       2020-02-25  2020-02-26  2020-02-27  2020-02-28  \\\nComunidades Autónomas                                                   \nAndalucía                       0           0           1           6   \nAragón                          0           0           0           0   \nAsturias                        0           0           0           0   \nBaleares                        1           1           1           1   \nCanarias                        2           5           6           6   \nCantabria                       0           0           0           0   \nCastilla La Mancha              0           0           0           0   \nCastilla y León                 0           0           0           2   \nCataluña                        0           1           2           3   \nCeuta                           0           0           0           0   \nC. Valenciana                   0           1           2           8   \nExtremadura                     0           0           0           0   \nGalicia                         0           0           0           0   \nMadrid                          0           1           5           9   \nMelilla                         0           0           0           0   \nMurcia                          0           0           0           0   \nNavarra                         0           0           0           0   \nPaís Vasco                      0           0           0           0   \nLa Rioja                        0           0           0           0   \n\n                       2020-02-29  2020-03-01  ...  2020-05-04  2020-05-05  \\\nComunidades Autónomas                          ...                           \nAndalucía                       8          12  ...       14349       14394   \nAragón                          0           0  ...        6239        6282   \nAsturias                        0           1  ...        3030        3058   \nBaleares                        2           2  ...        1991        1997   \nCanarias                        6           7  ...        2225        2231   \nCantabria                       0           1  ...        2596        2607   \nCastilla La Mancha              0           1  ...       21511       21656   \nCastilla y León                 2           3  ...       21379       21719   \nCataluña                        5           6  ...       51393       51798   \nCeuta                           0           0  ...         152         155   \nC. Valenciana                  10          15  ...       12819       12883   \nExtremadura                     0           4  ...        3722        3728   \nGalicia                         0           0  ...        9859        9953   \nMadrid                         19          26  ...       68190       68586   \nMelilla                         0           0  ...         131         131   \nMurcia                          0           0  ...        1974        2051   \nNavarra                         0           1  ...        6447        6561   \nPaís Vasco                      2           3  ...       16246       16426   \nLa Rioja                        0           0  ...        5258        5270   \n\n                       2020-05-06  2020-05-07  2020-05-08  2020-05-09  \\\nComunidades Autónomas                                                   \nAndalucía                   14639       14870       15050       15228   \nAragón                       6382        6516        6575        6656   \nAsturias                     3094        3099        3157        3183   \nBaleares                     2013        2023        2029        2042   \nCanarias                     2231        2235        2240        2250   \nCantabria                    2626        2642        2665        2681   \nCastilla La Mancha          22166       22567       22908       23293   \nCastilla y León             22156       22537       22926       23437   \nCataluña                    52090       52505       53209       53578   \nCeuta                         164         165         168         169   \nC. Valenciana               13064       13311       13507       13676   \nExtremadura                  3746        3808        3853        3886   \nGalicia                     10192       10292       10453       10574   \nMadrid                      68888       69260       69486       69758   \nMelilla                       131         132         132         132   \nMurcia                       2133        2192        2252        2263   \nNavarra                      6770        7010        7227        7442   \nPaís Vasco                  16679       16959       17286       17553   \nLa Rioja                     5322        5330        5355        5365   \n\n                       2020-05-10  2020-05-11  2020-05-12  2020-05-13  \nComunidades Autónomas                                                  \nAndalucía                   15403       15478       15522       15629  \nAragón                       6702        6731        6797        6856  \nAsturias                     3197        3212        3226        3252  \nBaleares                     2055        2058        2058        2063  \nCanarias                     2258        2260        2268        2271  \nCantabria                    2684        2685        2691        2733  \nCastilla La Mancha          23662       23869       24051       24185  \nCastilla y León             23786       23991       24170       24262  \nCataluña                    56520       56603       56787       56923  \nCeuta                         169         169         173         173  \nC. Valenciana               13840       13881       13937       14045  \nExtremadura                  3903        3919        3920        3920  \nGalicia                     10642       10669       10737       10782  \nMadrid                      69858       69911       70071       70227  \nMelilla                       132         132         132         132  \nMurcia                       2329        2332        2333        2398  \nNavarra                      7455        7486        7637        7752  \nPaís Vasco                  17677       17709       17840       18095  \nLa Rioja                     5378        5382        5392        5397  \n\n[19 rows x 83 columns]",
      "text/html": "<div>\n<style scoped>\n    .dataframe tbody tr th:only-of-type {\n        vertical-align: middle;\n    }\n\n    .dataframe tbody tr th {\n        vertical-align: top;\n    }\n\n    .dataframe thead th {\n        text-align: right;\n    }\n</style>\n<table border=\"1\" class=\"dataframe\">\n  <thead>\n    <tr style=\"text-align: right;\">\n      <th></th>\n      <th>2020-02-21</th>\n      <th>2020-02-22</th>\n      <th>2020-02-23</th>\n      <th>2020-02-24</th>\n      <th>2020-02-25</th>\n      <th>2020-02-26</th>\n      <th>2020-02-27</th>\n      <th>2020-02-28</th>\n      <th>2020-02-29</th>\n      <th>2020-03-01</th>\n      <th>...</th>\n      <th>2020-05-04</th>\n      <th>2020-05-05</th>\n      <th>2020-05-06</th>\n      <th>2020-05-07</th>\n      <th>2020-05-08</th>\n      <th>2020-05-09</th>\n      <th>2020-05-10</th>\n      <th>2020-05-11</th>\n      <th>2020-05-12</th>\n      <th>2020-05-13</th>\n    </tr>\n    <tr>\n      <th>Comunidades Autónomas</th>\n      <th></th>\n      <th></th>\n      <th></th>\n      <th></th>\n      <th></th>\n      <th></th>\n      <th></th>\n      <th></th>\n      <th></th>\n      <th></th>\n      <th></th>\n      <th></th>\n      <th></th>\n      <th></th>\n      <th></th>\n      <th></th>\n      <th></th>\n      <th></th>\n      <th></th>\n      <th></th>\n      <th></th>\n    </tr>\n  </thead>\n  <tbody>\n    <tr>\n      <th>Andalucía</th>\n      <td>0</td>\n      <td>0</td>\n      <td>0</td>\n      <td>0</td>\n      <td>0</td>\n      <td>0</td>\n      <td>1</td>\n      <td>6</td>\n      <td>8</td>\n      <td>12</td>\n      <td>...</td>\n      <td>14349</td>\n      <td>14394</td>\n      <td>14639</td>\n      <td>14870</td>\n      <td>15050</td>\n      <td>15228</td>\n      <td>15403</td>\n      <td>15478</td>\n      <td>15522</td>\n      <td>15629</td>\n    </tr>\n    <tr>\n      <th>Aragón</th>\n      <td>0</td>\n      <td>0</td>\n      <td>0</td>\n      <td>0</td>\n      <td>0</td>\n      <td>0</td>\n      <td>0</td>\n      <td>0</td>\n      <td>0</td>\n      <td>0</td>\n      <td>...</td>\n      <td>6239</td>\n      <td>6282</td>\n      <td>6382</td>\n      <td>6516</td>\n      <td>6575</td>\n      <td>6656</td>\n      <td>6702</td>\n      <td>6731</td>\n      <td>6797</td>\n      <td>6856</td>\n    </tr>\n    <tr>\n      <th>Asturias</th>\n      <td>0</td>\n      <td>0</td>\n      <td>0</td>\n      <td>0</td>\n      <td>0</td>\n      <td>0</td>\n      <td>0</td>\n      <td>0</td>\n      <td>0</td>\n      <td>1</td>\n      <td>...</td>\n      <td>3030</td>\n      <td>3058</td>\n      <td>3094</td>\n      <td>3099</td>\n      <td>3157</td>\n      <td>3183</td>\n      <td>3197</td>\n      <td>3212</td>\n      <td>3226</td>\n      <td>3252</td>\n    </tr>\n    <tr>\n      <th>Baleares</th>\n      <td>1</td>\n      <td>1</td>\n      <td>1</td>\n      <td>1</td>\n      <td>1</td>\n      <td>1</td>\n      <td>1</td>\n      <td>1</td>\n      <td>2</td>\n      <td>2</td>\n      <td>...</td>\n      <td>1991</td>\n      <td>1997</td>\n      <td>2013</td>\n      <td>2023</td>\n      <td>2029</td>\n      <td>2042</td>\n      <td>2055</td>\n      <td>2058</td>\n      <td>2058</td>\n      <td>2063</td>\n    </tr>\n    <tr>\n      <th>Canarias</th>\n      <td>1</td>\n      <td>1</td>\n      <td>1</td>\n      <td>1</td>\n      <td>2</td>\n      <td>5</td>\n      <td>6</td>\n      <td>6</td>\n      <td>6</td>\n      <td>7</td>\n      <td>...</td>\n      <td>2225</td>\n      <td>2231</td>\n      <td>2231</td>\n      <td>2235</td>\n      <td>2240</td>\n      <td>2250</td>\n      <td>2258</td>\n      <td>2260</td>\n      <td>2268</td>\n      <td>2271</td>\n    </tr>\n    <tr>\n      <th>Cantabria</th>\n      <td>0</td>\n      <td>0</td>\n      <td>0</td>\n      <td>0</td>\n      <td>0</td>\n      <td>0</td>\n      <td>0</td>\n      <td>0</td>\n      <td>0</td>\n      <td>1</td>\n      <td>...</td>\n      <td>2596</td>\n      <td>2607</td>\n      <td>2626</td>\n      <td>2642</td>\n      <td>2665</td>\n      <td>2681</td>\n      <td>2684</td>\n      <td>2685</td>\n      <td>2691</td>\n      <td>2733</td>\n    </tr>\n    <tr>\n      <th>Castilla La Mancha</th>\n      <td>0</td>\n      <td>0</td>\n      <td>0</td>\n      <td>0</td>\n      <td>0</td>\n      <td>0</td>\n      <td>0</td>\n      <td>0</td>\n      <td>0</td>\n      <td>1</td>\n      <td>...</td>\n      <td>21511</td>\n      <td>21656</td>\n      <td>22166</td>\n      <td>22567</td>\n      <td>22908</td>\n      <td>23293</td>\n      <td>23662</td>\n      <td>23869</td>\n      <td>24051</td>\n      <td>24185</td>\n    </tr>\n    <tr>\n      <th>Castilla y León</th>\n      <td>0</td>\n      <td>0</td>\n      <td>0</td>\n      <td>0</td>\n      <td>0</td>\n      <td>0</td>\n      <td>0</td>\n      <td>2</td>\n      <td>2</td>\n      <td>3</td>\n      <td>...</td>\n      <td>21379</td>\n      <td>21719</td>\n      <td>22156</td>\n      <td>22537</td>\n      <td>22926</td>\n      <td>23437</td>\n      <td>23786</td>\n      <td>23991</td>\n      <td>24170</td>\n      <td>24262</td>\n    </tr>\n    <tr>\n      <th>Cataluña</th>\n      <td>0</td>\n      <td>0</td>\n      <td>0</td>\n      <td>0</td>\n      <td>0</td>\n      <td>1</td>\n      <td>2</td>\n      <td>3</td>\n      <td>5</td>\n      <td>6</td>\n      <td>...</td>\n      <td>51393</td>\n      <td>51798</td>\n      <td>52090</td>\n      <td>52505</td>\n      <td>53209</td>\n      <td>53578</td>\n      <td>56520</td>\n      <td>56603</td>\n      <td>56787</td>\n      <td>56923</td>\n    </tr>\n    <tr>\n      <th>Ceuta</th>\n      <td>0</td>\n      <td>0</td>\n      <td>0</td>\n      <td>0</td>\n      <td>0</td>\n      <td>0</td>\n      <td>0</td>\n      <td>0</td>\n      <td>0</td>\n      <td>0</td>\n      <td>...</td>\n      <td>152</td>\n      <td>155</td>\n      <td>164</td>\n      <td>165</td>\n      <td>168</td>\n      <td>169</td>\n      <td>169</td>\n      <td>169</td>\n      <td>173</td>\n      <td>173</td>\n    </tr>\n    <tr>\n      <th>C. Valenciana</th>\n      <td>0</td>\n      <td>0</td>\n      <td>0</td>\n      <td>0</td>\n      <td>0</td>\n      <td>1</td>\n      <td>2</td>\n      <td>8</td>\n      <td>10</td>\n      <td>15</td>\n      <td>...</td>\n      <td>12819</td>\n      <td>12883</td>\n      <td>13064</td>\n      <td>13311</td>\n      <td>13507</td>\n      <td>13676</td>\n      <td>13840</td>\n      <td>13881</td>\n      <td>13937</td>\n      <td>14045</td>\n    </tr>\n    <tr>\n      <th>Extremadura</th>\n      <td>0</td>\n      <td>0</td>\n      <td>0</td>\n      <td>0</td>\n      <td>0</td>\n      <td>0</td>\n      <td>0</td>\n      <td>0</td>\n      <td>0</td>\n      <td>4</td>\n      <td>...</td>\n      <td>3722</td>\n      <td>3728</td>\n      <td>3746</td>\n      <td>3808</td>\n      <td>3853</td>\n      <td>3886</td>\n      <td>3903</td>\n      <td>3919</td>\n      <td>3920</td>\n      <td>3920</td>\n    </tr>\n    <tr>\n      <th>Galicia</th>\n      <td>0</td>\n      <td>0</td>\n      <td>0</td>\n      <td>0</td>\n      <td>0</td>\n      <td>0</td>\n      <td>0</td>\n      <td>0</td>\n      <td>0</td>\n      <td>0</td>\n      <td>...</td>\n      <td>9859</td>\n      <td>9953</td>\n      <td>10192</td>\n      <td>10292</td>\n      <td>10453</td>\n      <td>10574</td>\n      <td>10642</td>\n      <td>10669</td>\n      <td>10737</td>\n      <td>10782</td>\n    </tr>\n    <tr>\n      <th>Madrid</th>\n      <td>0</td>\n      <td>0</td>\n      <td>0</td>\n      <td>0</td>\n      <td>0</td>\n      <td>1</td>\n      <td>5</td>\n      <td>9</td>\n      <td>19</td>\n      <td>26</td>\n      <td>...</td>\n      <td>68190</td>\n      <td>68586</td>\n      <td>68888</td>\n      <td>69260</td>\n      <td>69486</td>\n      <td>69758</td>\n      <td>69858</td>\n      <td>69911</td>\n      <td>70071</td>\n      <td>70227</td>\n    </tr>\n    <tr>\n      <th>Melilla</th>\n      <td>0</td>\n      <td>0</td>\n      <td>0</td>\n      <td>0</td>\n      <td>0</td>\n      <td>0</td>\n      <td>0</td>\n      <td>0</td>\n      <td>0</td>\n      <td>0</td>\n      <td>...</td>\n      <td>131</td>\n      <td>131</td>\n      <td>131</td>\n      <td>132</td>\n      <td>132</td>\n      <td>132</td>\n      <td>132</td>\n      <td>132</td>\n      <td>132</td>\n      <td>132</td>\n    </tr>\n    <tr>\n      <th>Murcia</th>\n      <td>0</td>\n      <td>0</td>\n      <td>0</td>\n      <td>0</td>\n      <td>0</td>\n      <td>0</td>\n      <td>0</td>\n      <td>0</td>\n      <td>0</td>\n      <td>0</td>\n      <td>...</td>\n      <td>1974</td>\n      <td>2051</td>\n      <td>2133</td>\n      <td>2192</td>\n      <td>2252</td>\n      <td>2263</td>\n      <td>2329</td>\n      <td>2332</td>\n      <td>2333</td>\n      <td>2398</td>\n    </tr>\n    <tr>\n      <th>Navarra</th>\n      <td>0</td>\n      <td>0</td>\n      <td>0</td>\n      <td>0</td>\n      <td>0</td>\n      <td>0</td>\n      <td>0</td>\n      <td>0</td>\n      <td>0</td>\n      <td>1</td>\n      <td>...</td>\n      <td>6447</td>\n      <td>6561</td>\n      <td>6770</td>\n      <td>7010</td>\n      <td>7227</td>\n      <td>7442</td>\n      <td>7455</td>\n      <td>7486</td>\n      <td>7637</td>\n      <td>7752</td>\n    </tr>\n    <tr>\n      <th>País Vasco</th>\n      <td>0</td>\n      <td>0</td>\n      <td>0</td>\n      <td>0</td>\n      <td>0</td>\n      <td>0</td>\n      <td>0</td>\n      <td>0</td>\n      <td>2</td>\n      <td>3</td>\n      <td>...</td>\n      <td>16246</td>\n      <td>16426</td>\n      <td>16679</td>\n      <td>16959</td>\n      <td>17286</td>\n      <td>17553</td>\n      <td>17677</td>\n      <td>17709</td>\n      <td>17840</td>\n      <td>18095</td>\n    </tr>\n    <tr>\n      <th>La Rioja</th>\n      <td>0</td>\n      <td>0</td>\n      <td>0</td>\n      <td>0</td>\n      <td>0</td>\n      <td>0</td>\n      <td>0</td>\n      <td>0</td>\n      <td>0</td>\n      <td>0</td>\n      <td>...</td>\n      <td>5258</td>\n      <td>5270</td>\n      <td>5322</td>\n      <td>5330</td>\n      <td>5355</td>\n      <td>5365</td>\n      <td>5378</td>\n      <td>5382</td>\n      <td>5392</td>\n      <td>5397</td>\n    </tr>\n  </tbody>\n</table>\n<p>19 rows × 83 columns</p>\n</div>"
     },
     "metadata": {},
     "execution_count": 13
    }
   ],
   "source": [
    "# Preparar Evolucion temporal confirmed\n",
    "data_ccaa_confirmed_timeseries_final = data_ccaa_confirmed_timeseries.drop(columns=['cod_ine'])\n",
    "data_ccaa_confirmed_timeseries_final.rename(columns = {'CCAA': 'Comunidades Autónomas'}, inplace = True)\n",
    "data_ccaa_confirmed_timeseries_final = data_ccaa_confirmed_timeseries_final.set_index('Comunidades Autónomas')\n",
    "data_ccaa_confirmed_timeseries_final = data_ccaa_confirmed_timeseries_final.iloc[0:19]\n",
    "\n",
    "# Exportar Evolucion temporal confirmed\n",
    "data_ccaa_confirmed_timeseries_final.to_csv('data_ccaa_evolution_confirmed.csv', sep = ';', encoding=\"utf-8\", index=True, index_label='Comunidades Autónomas')\n",
    "data_ccaa_confirmed_timeseries_final"
   ]
  },
  {
   "cell_type": "markdown",
   "metadata": {},
   "source": [
    "## ESPAÑA: Resúmenes por comunidades autónomas"
   ]
  },
  {
   "cell_type": "code",
   "execution_count": 14,
   "metadata": {},
   "outputs": [
    {
     "output_type": "execute_result",
     "data": {
      "text/plain": "                       Confirmados (24h)  Curados (24h)  Fallecidos (24h)\nComunidades Autónomas                                                    \nAndalucía                            107            184                 6\nAragón                                59            126                 1\nAsturias                              26              7                 3\nBaleares                               5             42                 5\nCanarias                               3             19                 0\nCantabria                             42             73                 2\nCastilla La Mancha                   134             24                24\nCastilla y León                       92             72                 5\nCataluña                             136            360                71\nCeuta                                  0              2                 0\nC. Valenciana                        108            179                 5\nExtremadura                            0             34                 2\nGalicia                               45            176                 2\nMadrid                               156            233                40\nMelilla                                0              0                 0\nMurcia                                65             42                 3\nNavarra                              115            142                 1\nPaís Vasco                           255             73                13\nLa Rioja                               5             55                 1",
      "text/html": "<div>\n<style scoped>\n    .dataframe tbody tr th:only-of-type {\n        vertical-align: middle;\n    }\n\n    .dataframe tbody tr th {\n        vertical-align: top;\n    }\n\n    .dataframe thead th {\n        text-align: right;\n    }\n</style>\n<table border=\"1\" class=\"dataframe\">\n  <thead>\n    <tr style=\"text-align: right;\">\n      <th></th>\n      <th>Confirmados (24h)</th>\n      <th>Curados (24h)</th>\n      <th>Fallecidos (24h)</th>\n    </tr>\n    <tr>\n      <th>Comunidades Autónomas</th>\n      <th></th>\n      <th></th>\n      <th></th>\n    </tr>\n  </thead>\n  <tbody>\n    <tr>\n      <th>Andalucía</th>\n      <td>107</td>\n      <td>184</td>\n      <td>6</td>\n    </tr>\n    <tr>\n      <th>Aragón</th>\n      <td>59</td>\n      <td>126</td>\n      <td>1</td>\n    </tr>\n    <tr>\n      <th>Asturias</th>\n      <td>26</td>\n      <td>7</td>\n      <td>3</td>\n    </tr>\n    <tr>\n      <th>Baleares</th>\n      <td>5</td>\n      <td>42</td>\n      <td>5</td>\n    </tr>\n    <tr>\n      <th>Canarias</th>\n      <td>3</td>\n      <td>19</td>\n      <td>0</td>\n    </tr>\n    <tr>\n      <th>Cantabria</th>\n      <td>42</td>\n      <td>73</td>\n      <td>2</td>\n    </tr>\n    <tr>\n      <th>Castilla La Mancha</th>\n      <td>134</td>\n      <td>24</td>\n      <td>24</td>\n    </tr>\n    <tr>\n      <th>Castilla y León</th>\n      <td>92</td>\n      <td>72</td>\n      <td>5</td>\n    </tr>\n    <tr>\n      <th>Cataluña</th>\n      <td>136</td>\n      <td>360</td>\n      <td>71</td>\n    </tr>\n    <tr>\n      <th>Ceuta</th>\n      <td>0</td>\n      <td>2</td>\n      <td>0</td>\n    </tr>\n    <tr>\n      <th>C. Valenciana</th>\n      <td>108</td>\n      <td>179</td>\n      <td>5</td>\n    </tr>\n    <tr>\n      <th>Extremadura</th>\n      <td>0</td>\n      <td>34</td>\n      <td>2</td>\n    </tr>\n    <tr>\n      <th>Galicia</th>\n      <td>45</td>\n      <td>176</td>\n      <td>2</td>\n    </tr>\n    <tr>\n      <th>Madrid</th>\n      <td>156</td>\n      <td>233</td>\n      <td>40</td>\n    </tr>\n    <tr>\n      <th>Melilla</th>\n      <td>0</td>\n      <td>0</td>\n      <td>0</td>\n    </tr>\n    <tr>\n      <th>Murcia</th>\n      <td>65</td>\n      <td>42</td>\n      <td>3</td>\n    </tr>\n    <tr>\n      <th>Navarra</th>\n      <td>115</td>\n      <td>142</td>\n      <td>1</td>\n    </tr>\n    <tr>\n      <th>País Vasco</th>\n      <td>255</td>\n      <td>73</td>\n      <td>13</td>\n    </tr>\n    <tr>\n      <th>La Rioja</th>\n      <td>5</td>\n      <td>55</td>\n      <td>1</td>\n    </tr>\n  </tbody>\n</table>\n</div>"
     },
     "metadata": {},
     "execution_count": 14
    }
   ],
   "source": [
    "# SOLO HACER CUANDO LOS DATOS EN DATADISTA ESTÉN ACTUALIZADOS, SI NO, NO FUNCIONA\n",
    "\n",
    "# Confirmados por CCAA\n",
    "data_ccaa_confirmed_today = data_ccaa_confirmed_timeseries[['CCAA', date_today_large]]\n",
    "data_ccaa_confirmed_today.rename(columns = {date_today_large : 'Confirmados', 'CCAA' : 'Comunidades Autónomas'}, inplace = True)\n",
    "data_ccaa_confirmed_today = data_ccaa_confirmed_today.set_index('Comunidades Autónomas')\n",
    "data_ccaa_confirmed_today = data_ccaa_confirmed_today.copy().iloc[0:19]\n",
    "\n",
    "# New cases\n",
    "data_ccaa_confirmed_daybefore = data_ccaa_confirmed_timeseries[['CCAA', date_daybefore_large]]\n",
    "data_ccaa_confirmed_daybefore.rename(columns = {date_daybefore_large : 'Confirmados', 'CCAA' : 'Comunidades Autónomas'}, inplace = True)\n",
    "data_ccaa_confirmed_daybefore = data_ccaa_confirmed_daybefore.set_index('Comunidades Autónomas')\n",
    "data_ccaa_confirmed_newcases = data_ccaa_confirmed_today - data_ccaa_confirmed_daybefore\n",
    "data_ccaa_confirmed_newcases = data_ccaa_confirmed_newcases.copy().iloc[0:19]\n",
    "data_ccaa_confirmed_newcases.rename(columns = {'Confirmados': 'Confirmados (24h)'}, inplace = True)\n",
    "\n",
    "\n",
    "# Fallecidos por CCAA\n",
    "data_ccaa_deaths_today = data_ccaa_deaths_timeseries[['CCAA', date_today_large]]\n",
    "data_ccaa_deaths_today.rename(columns = {date_today_large : 'Fallecidos', 'CCAA' : 'Comunidades Autónomas'}, inplace = True)\n",
    "data_ccaa_deaths_today = data_ccaa_deaths_today.set_index('Comunidades Autónomas')\n",
    "data_ccaa_deaths_today = data_ccaa_deaths_today.copy().iloc[0:19]\n",
    "\n",
    "# New cases\n",
    "data_ccaa_deaths_daybefore = data_ccaa_deaths_timeseries[['CCAA', date_daybefore_large]]\n",
    "data_ccaa_deaths_daybefore.rename(columns = {date_daybefore_large : 'Fallecidos', 'CCAA' : 'Comunidades Autónomas'}, inplace = True)\n",
    "data_ccaa_deaths_daybefore = data_ccaa_deaths_daybefore.set_index('Comunidades Autónomas')\n",
    "data_ccaa_deaths_newcases = data_ccaa_deaths_today - data_ccaa_deaths_daybefore\n",
    "data_ccaa_deaths_newcases = data_ccaa_deaths_newcases.copy().iloc[0:19]\n",
    "data_ccaa_deaths_newcases.rename(columns = {'Fallecidos': 'Fallecidos (24h)'}, inplace = True)\n",
    "\n",
    "\n",
    "# Recuperados por CCAA\n",
    "data_ccaa_recovered_today = data_ccaa_recovered_timeseries[['CCAA', date_today_large]]\n",
    "data_ccaa_recovered_today.rename(columns = {date_today_large : 'Curados', 'CCAA' : 'Comunidades Autónomas'}, inplace = True)\n",
    "data_ccaa_recovered_today = data_ccaa_recovered_today.set_index('Comunidades Autónomas')\n",
    "data_ccaa_recovered_today = data_ccaa_recovered_today.copy().iloc[0:19]\n",
    "# New cases\n",
    "data_ccaa_recovered_daybefore = data_ccaa_recovered_timeseries[['CCAA', date_daybefore_large]]\n",
    "data_ccaa_recovered_daybefore.rename(columns = {date_daybefore_large : 'Curados', 'CCAA' : 'Comunidades Autónomas'}, inplace = True)\n",
    "data_ccaa_recovered_daybefore = data_ccaa_recovered_daybefore.set_index('Comunidades Autónomas')\n",
    "data_ccaa_recovered_newcases = data_ccaa_recovered_today - data_ccaa_recovered_daybefore\n",
    "data_ccaa_recovered_newcases = data_ccaa_recovered_newcases.copy().iloc[0:19]\n",
    "data_ccaa_recovered_newcases.rename(columns = {'Curados': 'Curados (24h)'}, inplace = True)\n",
    "\n",
    "\n",
    "#Juntar los tres dataframes confirmados + curados + fallecidos\n",
    "data_ccaa_confirmed_recovered_deaths = pd.concat([data_ccaa_confirmed_today, data_ccaa_recovered_today, data_ccaa_deaths_today,], axis=1)\n",
    "\n",
    "# Juntar los tres dataframes nuevos casos\n",
    "data_ccaa_newcases_confirmed_recovered_deaths = pd.concat([data_ccaa_confirmed_newcases, data_ccaa_recovered_newcases, data_ccaa_deaths_newcases], axis=1)\n",
    "\n",
    "# Exportar por grupos\n",
    "data_ccaa_confirmed_recovered_deaths.to_csv('data_ccaa_confirmed_recovered_deaths.csv', sep = ';', encoding=\"utf-8\", index=True, index_label='Comunidades Autónomas')\n",
    "data_ccaa_newcases_confirmed_recovered_deaths.to_csv('data_ccaa_newcases_confirmed_recovered_deaths.csv', sep = ';', encoding=\"utf-8\", index=True, index_label='Comunidades Autónomas')\n",
    "\n",
    "data_ccaa_newcases_confirmed_recovered_deaths"
   ]
  },
  {
   "cell_type": "markdown",
   "metadata": {},
   "source": [
    "## ESPAÑA: Análisis por rangos de edad"
   ]
  },
  {
   "cell_type": "code",
   "execution_count": 15,
   "metadata": {},
   "outputs": [
    {
     "output_type": "execute_result",
     "data": {
      "text/plain": "fecha                33\nrango_edad           33\nsexo                 33\ncasos_confirmados    33\nhospitalizados       33\ningresos_uci         33\nfallecidos           33\ndtype: int64"
     },
     "metadata": {},
     "execution_count": 15
    }
   ],
   "source": [
    "#Comprobar si están subidos los últimos datos, si sale 0 es que no hay datos\n",
    "data_spain_ccaa_age = pd.read_csv(\"https://raw.githubusercontent.com/datadista/datasets/master/COVID%2019/nacional_covid19_rango_edad.csv\", sep = ',')\n",
    "data_spain_ccaa_age[data_spain_ccaa_age[\"fecha\"] == date_today_large].count()"
   ]
  },
  {
   "cell_type": "code",
   "execution_count": 16,
   "metadata": {},
   "outputs": [
    {
     "output_type": "stream",
     "name": "stdout",
     "text": "Confirmados  Hospitalizados  Fallecidos\nTotal mujeres           135047           40367        8066\nTotal hombres           102382           51340       10780\nTotal ambos sexos       237435           91710       18846\n               Confirmados  Hospitalizados  Fallecidos\nRango de edad                                         \n0-9                    465             151           1\n10-19                  713             135           2\n20-29                 4355             687          14\n30-39                 8258            1928          39\n40-49                14176            5038         129\n50-59                18150            8307         431\n60-69                17764           10491        1183\n70-79                17854           12456        3108\n80-89                15577            9718        4317\n90 y +                5070            2429        1556\n"
    }
   ],
   "source": [
    "data_spain_ccaa_age = pd.read_csv(\"https://raw.githubusercontent.com/datadista/datasets/master/COVID%2019/nacional_covid19_rango_edad.csv\", sep = ',', encoding = 'utf8', thousands = '.')\n",
    "data_spain_ccaa_age = data_spain_ccaa_age[data_spain_ccaa_age[\"fecha\"] == date_today_large]\n",
    "\n",
    "def take_edad(sexo):\n",
    "    data_spain_ccaa_age_all = data_spain_ccaa_age[data_spain_ccaa_age[\"sexo\"] == sexo]\n",
    "    #Para sacar datos total\n",
    "    data_spain_ccaa_age_total = data_spain_ccaa_age_all.tail(1)\n",
    "    data_spain_ccaa_age_total = data_spain_ccaa_age_total.iloc[:, [3,4,6]]\n",
    "    data_spain_ccaa_age_total.columns = ['Confirmados','Hospitalizados', 'Fallecidos']\n",
    "    #Para sacar datos concretos (de ambos, hombres y mujeres)\n",
    "    data_spain_ccaa_age_concrete = data_spain_ccaa_age_all[:-1]\n",
    "    data_spain_ccaa_age_concrete = data_spain_ccaa_age_concrete.iloc[:, [1,3,4,6]]\n",
    "    data_spain_ccaa_age_concrete.columns = ['Rango de edad','Confirmados','Hospitalizados', 'Fallecidos']\n",
    "    data_spain_ccaa_age_concrete.set_index('Rango de edad', inplace=True)\n",
    "    return data_spain_ccaa_age_concrete, data_spain_ccaa_age_total\n",
    "\n",
    "\n",
    "data_spain_ccaa_age_ambos_concrete, data_spain_ccaa_age_ambos_total = take_edad('ambos')\n",
    "data_spain_ccaa_age_hombres_concrete, data_spain_ccaa_age_hombres_total = take_edad('hombres')\n",
    "data_spain_ccaa_age_mujeres_concrete, data_spain_ccaa_age_mujeres_total = take_edad('mujeres')\n",
    "\n",
    "\n",
    "data_spain_ccaa_age_ambos_total.index = ['Total ambos sexos']\n",
    "data_spain_ccaa_age_hombres_total.index = ['Total hombres']\n",
    "data_spain_ccaa_age_mujeres_total.index = ['Total mujeres']\n",
    "data_spain_ccaa_age_ambos_concat = pd.concat([data_spain_ccaa_age_mujeres_total, data_spain_ccaa_age_hombres_total, \n",
    "                                             data_spain_ccaa_age_ambos_total], axis=0)\n",
    "\n",
    "data_spain_ccaa_age_mujeres_concrete.to_csv('data_spain_ages_mujeres.csv', sep = ';', encoding=\"utf-8\")\n",
    "data_spain_ccaa_age_hombres_concrete.to_csv('data_spain_ages_hombres.csv', sep = ';', encoding=\"utf-8\")\n",
    "data_spain_ccaa_age_ambos_concat.to_csv('data_spain_ages_ambos.csv', sep = ';', encoding=\"utf-8\")\n",
    "\n",
    "print(data_spain_ccaa_age_ambos_concat)\n",
    "print(data_spain_ccaa_age_hombres_concrete)"
   ]
  },
  {
   "cell_type": "markdown",
   "metadata": {},
   "source": [
    "# Subir archivos a SERVIDOR desde FTP"
   ]
  },
  {
   "cell_type": "code",
   "execution_count": 17,
   "metadata": {},
   "outputs": [
    {
     "output_type": "stream",
     "name": "stdout",
     "text": "230-OK. Current restricted directory is /\n230 410 Kbytes used (0%) - authorized: 51200 Kb\ndrwxr-xr-x    2 akakicre   akakicre         4096 May  3 11:29 .\ndrwxr-xr-x    2 akakicre   akakicre         4096 May  3 11:29 ..\n-rw-r--r--    1 akakicre   akakicre           10 May 12 18:45 .ftpquota\n-rw-r--r--    1 akakicre   akakicre       154291 Apr  3 13:34 Imagen_github.jpg\n-rw-r--r--    1 akakicre   akakicre          523 May 12 18:45 data_ccaa_confirmed_recovered_deaths.csv\n-rw-r--r--    1 akakicre   akakicre         7719 May 12 18:45 data_ccaa_evolution_confirmed.csv\n-rw-r--r--    1 akakicre   akakicre         3603 May 12 18:45 data_ccaa_evolution_deaths.csv\n-rw-r--r--    1 akakicre   akakicre         3064 May 12 18:45 data_ccaa_evolution_recovered.csv\n-rw-r--r--    1 akakicre   akakicre          419 May 12 18:45 data_ccaa_newcases_confirmed_recovered_deaths.csv\n-rw-r--r--    1 akakicre   akakicre         1188 May 12 18:45 data_somecountries_newcases.csv\n-rw-r--r--    1 akakicre   akakicre          141 May 12 18:45 data_spain_ages_ambos.csv\n-rw-r--r--    1 akakicre   akakicre          251 May 12 18:45 data_spain_ages_hombres.csv\n-rw-r--r--    1 akakicre   akakicre          248 May 12 18:45 data_spain_ages_mujeres.csv\n-rw-r--r--    1 akakicre   akakicre         1084 May 12 18:45 data_spain_newcases24h.csv\n-rw-r--r--    1 akakicre   akakicre          629 May 12 18:45 data_spain_newcases24h_deaths.csv\n-rw-r--r--    1 akakicre   akakicre          848 Apr 29 08:38 data_spotify_duo_positions.csv\n-rw-r--r--    1 akakicre   akakicre          997 Apr 29 08:38 data_spotify_duo_streams.csv\n-rw-r--r--    1 akakicre   akakicre         3519 Apr 29 08:39 data_spotify_top10_position.csv\n-rw-r--r--    1 akakicre   akakicre         2061 Apr 29 08:39 data_spotify_up_position.csv\n-rw-r--r--    1 akakicre   akakicre         3068 Apr 29 08:39 data_spotify_up_streams.csv\n-rw-r--r--    1 akakicre   akakicre         1185 Apr 29 08:39 data_spotify_variasesp_streams.csv\n-rw-r--r--    1 akakicre   akakicre         1570 Apr 29 08:38 data_spotify_varios_positions.csv\n-rw-r--r--    1 akakicre   akakicre         2660 Apr 29 08:39 data_spotify_varios_streams.csv\n-rw-r--r--    1 akakicre   akakicre          273 May 12 18:45 data_world_actual.csv\n-rw-r--r--    1 akakicre   akakicre          212 May 12 18:45 data_world_actual_den.csv\n-rw-r--r--    1 akakicre   akakicre         6078 May 12 18:45 data_world_from100.csv\n-rw-r--r--    1 akakicre   akakicre          217 May 12 18:45 data_world_resume.csv\n-rw-r--r--    1 akakicre   akakicre         2973 May 12 18:45 data_world_timeline.csv\n-rw-r--r--    1 akakicre   akakicre        60006 Apr  6 09:09 diseno4_covid19.jpg\nNone\n"
    }
   ],
   "source": [
    "# Ayuda: https://www.pythoncircle.com/post/668/uploading-a-file-to-ftp-server-using-python/\n",
    "import csv\n",
    "from ftplib import FTP\n",
    "from io import StringIO\n",
    "\n",
    "passw = pd.read_csv(\"pass.txt\", sep = ',', encoding=\"utf-8\")\n",
    "host = \"akakicreations.com\"\n",
    "username = passw.columns[0]\n",
    "password = passw.columns[1]\n",
    "ftp = FTP(host=host)\n",
    "login_status = ftp.login(user=username, passwd=password)\n",
    "print(login_status)\n",
    "\n",
    "print(ftp.dir())\n",
    "\n",
    "fp = open(\"data_world_resume.csv\", 'rb')\n",
    "ftp.storbinary('STOR %s' % os.path.basename(\"data_world_resume.csv\"), fp, 1024)\n",
    "\n",
    "fp = open(\"data_world_actual.csv\", 'rb')\n",
    "ftp.storbinary('STOR %s' % os.path.basename(\"data_world_actual.csv\"), fp, 1024)\n",
    "\n",
    "\n",
    "fp = open(\"data_world_actual_den.csv\", 'rb')\n",
    "ftp.storbinary('STOR %s' % os.path.basename(\"data_world_actual_den.csv\"), fp, 1024)\n",
    "\n",
    "fp = open(\"data_world_from100.csv\", 'rb')\n",
    "ftp.storbinary('STOR %s' % os.path.basename(\"data_world_from100.csv\"), fp, 1024)\n",
    "\n",
    "fp = open(\"data_world_timeline.csv\", 'rb')\n",
    "ftp.storbinary('STOR %s' % os.path.basename(\"data_world_timeline.csv\"), fp, 1024)\n",
    "\n",
    "fp = open(\"data_somecountries_newcases24h.csv\", 'rb')\n",
    "ftp.storbinary('STOR %s' % os.path.basename(\"data_somecountries_newcases.csv\"), fp, 1024)\n",
    "\n",
    "fp = open(\"data_spain_newcases24h.csv\", 'rb')\n",
    "ftp.storbinary('STOR %s' % os.path.basename(\"data_spain_newcases24h.csv\"), fp, 1024)\n",
    "\n",
    "fp = open(\"data_spain_newcases24h_deaths.csv\", 'rb')\n",
    "ftp.storbinary('STOR %s' % os.path.basename(\"data_spain_newcases24h_deaths.csv\"), fp, 1024)\n",
    "\n",
    "\n",
    "# Datos por CCAA\n",
    "fp = open(\"data_ccaa_evolution_confirmed.csv\", 'rb')\n",
    "ftp.storbinary('STOR %s' % os.path.basename(\"data_ccaa_evolution_confirmed.csv\"), fp, 1024)\n",
    "\n",
    "fp = open(\"data_ccaa_evolution_deaths.csv\", 'rb')\n",
    "ftp.storbinary('STOR %s' % os.path.basename(\"data_ccaa_evolution_deaths.csv\"), fp, 1024)\n",
    "\n",
    "fp = open(\"data_ccaa_evolution_recovered.csv\", 'rb')\n",
    "ftp.storbinary('STOR %s' % os.path.basename(\"data_ccaa_evolution_recovered.csv\"), fp, 1024)\n",
    "\n",
    "fp = open(\"data_ccaa_confirmed_recovered_deaths.csv\", 'rb')\n",
    "ftp.storbinary('STOR %s' % os.path.basename(\"data_ccaa_confirmed_recovered_deaths.csv\"), fp, 1024)\n",
    "\n",
    "fp = open(\"data_ccaa_newcases_confirmed_recovered_deaths.csv\", 'rb')\n",
    "ftp.storbinary('STOR %s' % os.path.basename(\"data_ccaa_newcases_confirmed_recovered_deaths.csv\"), fp, 1024)\n",
    "\n",
    "# Datos por grupos de edad\n",
    "fp = open(\"data_spain_ages_mujeres.csv\", 'rb')\n",
    "ftp.storbinary('STOR %s' % os.path.basename(\"data_spain_ages_mujeres.csv\"), fp, 1024)\n",
    "\n",
    "fp = open(\"data_spain_ages_hombres.csv\", 'rb')\n",
    "ftp.storbinary('STOR %s' % os.path.basename(\"data_spain_ages_hombres.csv\"), fp, 1024)\n",
    "\n",
    "fp = open(\"data_spain_ages_ambos.csv\", 'rb')\n",
    "ftp.storbinary('STOR %s' % os.path.basename(\"data_spain_ages_ambos.csv\"), fp, 1024)\n",
    "\n",
    "fp.close()\n",
    "\n"
   ]
  },
  {
   "cell_type": "code",
   "execution_count": null,
   "metadata": {},
   "outputs": [],
   "source": []
  }
 ],
 "metadata": {
  "file_extension": ".py",
  "kernelspec": {
   "display_name": "Python 3",
   "language": "python",
   "name": "python3"
  },
  "language_info": {
   "codemirror_mode": {
    "name": "ipython",
    "version": 3
   },
   "file_extension": ".py",
   "mimetype": "text/x-python",
   "name": "python",
   "nbconvert_exporter": "python",
   "pygments_lexer": "ipython3",
   "version": "3.7.3-final"
  },
  "mimetype": "text/x-python",
  "name": "python",
  "npconvert_exporter": "python",
  "pygments_lexer": "ipython3",
  "version": 3
 },
 "nbformat": 4,
 "nbformat_minor": 4
}