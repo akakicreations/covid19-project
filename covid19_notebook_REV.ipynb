{
 "cells": [
  {
   "cell_type": "markdown",
   "metadata": {},
   "source": [
    "# Ejercicio Covid-19"
   ]
  },
  {
   "cell_type": "code",
   "execution_count": 2,
   "metadata": {},
   "outputs": [
    {
     "output_type": "execute_result",
     "data": {
      "text/plain": "'2020-05-04'"
     },
     "metadata": {},
     "execution_count": 2
    }
   ],
   "source": [
    "import os\n",
    "import numpy as np\n",
    "import pandas as pd\n",
    "\n",
    "#Fechas de hoy(datos España) y ayer (datos inetrnacionales)\n",
    "from datetime import datetime, timedelta\n",
    "from datetime import date\n",
    "date_today = date.today()\n",
    "date_today_complete = date.today()\n",
    "date_daybefore = date_today - timedelta(days=1)\n",
    "date_today = date_today.strftime('%d/%m')\n",
    "date_daybefore2 = date_daybefore.strftime('%d/%m')\n",
    "\n",
    "date_today_large = date_today_complete.strftime('%Y-%m-%d')\n",
    "date_daybefore_large = date_daybefore.strftime('%Y-%m-%d')\n",
    "date_today_large"
   ]
  },
  {
   "cell_type": "markdown",
   "metadata": {},
   "source": [
    "## Traer los datos de Datadista"
   ]
  },
  {
   "cell_type": "code",
   "execution_count": 3,
   "metadata": {},
   "outputs": [
    {
     "output_type": "execute_result",
     "data": {
      "text/plain": "0      7021\n1      2624\n2       917\n3      1294\n4      1166\n5      1610\n6      5794\n7      6900\n8     21898\n9       142\n10     7506\n11     2090\n12     6234\n13    37808\n14      101\n15     1277\n16     2494\n17    12155\n18     2312\nName: 2020-05-04, dtype: int64"
     },
     "metadata": {},
     "execution_count": 3
    }
   ],
   "source": [
    "data_ccaa_confirmed_timeseries = pd.read_csv(\"https://raw.githubusercontent.com/datadista/datasets/master/COVID%2019/ccaa_covid19_casos.csv\", sep = ',', encoding=\"utf-8\")\n",
    "\n",
    "data_ccaa_deaths_timeseries = pd.read_csv(\"https://raw.githubusercontent.com/datadista/datasets/master/COVID%2019/ccaa_covid19_fallecidos.csv\", sep = ',', encoding=\"utf-8\")\n",
    "\n",
    "data_ccaa_recovered_timeseries = pd.read_csv(\"https://raw.githubusercontent.com/datadista/datasets/master/COVID%2019/ccaa_covid19_altas.csv\", sep = ',', encoding=\"utf-8\")\n",
    "\n",
    "data_spain_datadista = pd.read_csv(\"https://raw.githubusercontent.com/datadista/datasets/master/COVID%2019/nacional_covid19.csv\")\n",
    "\n",
    "\n",
    "#Comprobar si están subidos los últimos datos, si no sale error es que hay datos.\n",
    "data_ccaa_recovered_timeseries[date_today_large]"
   ]
  },
  {
   "cell_type": "markdown",
   "metadata": {},
   "source": [
    "## RESUMEN: Resumen datos globales"
   ]
  },
  {
   "cell_type": "code",
   "execution_count": 21,
   "metadata": {},
   "outputs": [
    {
     "output_type": "stream",
     "name": "stdout",
     "text": "Confirmados  Curados  Fallecidos\nCasos totales en el mundo           3506729  1125236      247470\nNuevos casos en el mundo (24h)        79386    32124        3662\nCasos totales en España              248301   121343       25428\nNuevos casos en España (24h)            356     2441         164\n"
    }
   ],
   "source": [
    "# Función para obtener datos del mundo    \n",
    "'''\n",
    "def get_data_spain(url):    \n",
    "    data_spain = pd.read_csv(url)\n",
    "    data_spain = data_spain.groupby(\"Country/Region\", as_index=False).sum()\n",
    "    data_spain = data_spain.set_index(\"Country/Region\").transpose()\n",
    "    data_spain = data_spain['Spain']\n",
    "    data_spain_actual = int(data_spain.iloc[-1])\n",
    "    data_spain_before = int(data_spain.iloc[-2])\n",
    "    data_spain_24h = data_spain_actual - data_spain_before\n",
    "    return data_spain_24h, data_spain_actual\n",
    "'''\n",
    "\n",
    "def get_data_world(url):    \n",
    "    data_world = pd.read_csv(url)\n",
    "    data_world = data_world.groupby(\"Country/Region\", as_index=False).sum()\n",
    "    data_world = data_world.set_index(\"Country/Region\").transpose()\n",
    "    data_world_actual = int(data_world.sum(axis=1).iloc[-1])\n",
    "    data_world_before = int(data_world.sum(axis=1).iloc[-2])\n",
    "    data_world_24h = data_world_actual - data_world_before\n",
    "    return data_world_24h, data_world_actual\n",
    "\n",
    "data_confirmed_path = \"COVID-19/csse_covid_19_data/csse_covid_19_time_series/time_series_covid19_confirmed_global.csv\"\n",
    "data_deaths_path = \"COVID-19/csse_covid_19_data/csse_covid_19_time_series/time_series_covid19_deaths_global.csv\"\n",
    "data_recovered_path = \"COVID-19/csse_covid_19_data/csse_covid_19_time_series/time_series_covid19_recovered_global.csv\"\n",
    "\n",
    "\n",
    "# Para el mundo\n",
    "data_confirmed_world_24h, data_confirmed_world_actual = get_data_world(data_confirmed_path)\n",
    "data_deaths_world_24h, data_deaths_world_actual = get_data_world(data_deaths_path)\n",
    "data_recovered_world_24h, data_recovered_world_actual = get_data_world(data_recovered_path)\n",
    "\n",
    "''' Cogiendo datos de John Hopkins\n",
    "# Para España\n",
    "data_confirmed_spain_24h, data_confirmed_spain_actual = get_data_spain(data_confirmed_path)\n",
    "data_deaths_spain_24h, data_deaths_spain_actual = get_data_spain(data_deaths_path)\n",
    "data_recovered_spain_24h, data_recovered_spain_actual = get_data_spain(data_recovered_path)\n",
    "'''\n",
    "\n",
    "# Para España actual(dataset de datadista)\n",
    "data_confirmed_spain_actual = int(data_ccaa_confirmed_timeseries[date_today_large].sum())\n",
    "data_recovered_spain_actual = int(data_ccaa_recovered_timeseries[date_today_large].sum())\n",
    "data_deaths_spain_actual = int(data_ccaa_deaths_timeseries[date_today_large].sum())\n",
    "\n",
    "\n",
    "# Para España nuevos casos 24h(dataset de datadista)\n",
    "data_spain_datadista_trans = data_spain_datadista.set_index('fecha').transpose()\n",
    "data_spain_datadista_confirmed = data_spain_datadista_trans.iloc[1]\n",
    "data_spain_datadista_recovered = data_spain_datadista_trans.iloc[3]\n",
    "data_spain_datadista_deaths = data_spain_datadista_trans.iloc[4]\n",
    "data_confirmed_spain_24h = int(data_spain_datadista_confirmed[date_today_large]) - int(data_spain_datadista_confirmed[date_daybefore_large])\n",
    "data_recovered_spain_24h = int(data_spain_datadista_recovered[date_today_large]) - int(data_spain_datadista_recovered[date_daybefore_large])\n",
    "data_deaths_spain_24h= int(data_spain_datadista_deaths[date_today_large]) - int(data_spain_datadista_deaths[date_daybefore_large])\n",
    "\n",
    "# Creamos dataframes\n",
    "\n",
    "data_spain_resume_actual = pd.DataFrame({'Confirmados': data_confirmed_spain_actual,\n",
    "                                    'Curados': data_recovered_spain_actual, \n",
    "                                    'Fallecidos': data_deaths_spain_actual}, \n",
    "                                   index=['Casos totales en España'])\n",
    "\n",
    "data_spain_newcases = pd.DataFrame({'Confirmados': data_confirmed_spain_24h,\n",
    "                                    'Curados': data_recovered_spain_24h, \n",
    "                                    'Fallecidos': data_deaths_spain_24h}, \n",
    "                                   index=['Nuevos casos en España (24h)'])\n",
    "\n",
    "\n",
    "data_world_newcases = pd.DataFrame({'Confirmados': data_confirmed_world_24h,\n",
    "                                    'Curados': data_recovered_world_24h, \n",
    "                                    'Fallecidos': data_deaths_world_24h}, \n",
    "                                   index=['Nuevos casos en el mundo (24h)'])\n",
    "\n",
    "data_world_resume_actual = pd.DataFrame({'Confirmados': data_confirmed_world_actual,\n",
    "                                    'Curados': data_recovered_world_actual, \n",
    "                                    'Fallecidos': data_deaths_world_actual}, \n",
    "                                   index=['Casos totales en el mundo'])\n",
    "\n",
    "########### Junto los datos anteriores en una tabla\n",
    "data_resume_final = pd.concat([data_world_resume_actual, data_world_newcases, data_spain_resume_actual, data_spain_newcases])\n",
    "\n",
    "data_resume_final.to_csv('data_world_resume.csv', sep = ';')\n",
    "print(data_resume_final)"
   ]
  },
  {
   "cell_type": "markdown",
   "metadata": {},
   "source": [
    "## MUNDO: Preparación general de datos por países"
   ]
  },
  {
   "cell_type": "code",
   "execution_count": 5,
   "metadata": {},
   "outputs": [
    {
     "output_type": "execute_result",
     "data": {
      "text/plain": "Country/Region    China    France   Germany     Iran     Italy  Korea, South  \\\n2020-04-29      83944.0  166543.0  161539.0  93657.0  203591.0       10765.0   \n2020-04-30      83956.0  167299.0  163009.0  94640.0  205463.0       10774.0   \n2020-05-01      83959.0  167305.0  164077.0  95646.0  207428.0       10780.0   \n2020-05-02      83959.0  168518.0  164967.0  96448.0  209328.0       10793.0   \n2020-05-03      83964.0  168925.0  165664.0  97424.0  210717.0       10801.0   \n\nCountry/Region  Norway     Spain         US  United Kingdom  \n2020-04-29      7710.0  212917.0  1039909.0        166441.0  \n2020-04-30      7738.0  213435.0  1069424.0        172481.0  \n2020-05-01      7783.0  213435.0  1103461.0        178685.0  \n2020-05-02      7809.0  216582.0  1132539.0        183500.0  \n2020-05-03      7847.0  217466.0  1158040.0        187842.0  ",
      "text/html": "<div>\n<style scoped>\n    .dataframe tbody tr th:only-of-type {\n        vertical-align: middle;\n    }\n\n    .dataframe tbody tr th {\n        vertical-align: top;\n    }\n\n    .dataframe thead th {\n        text-align: right;\n    }\n</style>\n<table border=\"1\" class=\"dataframe\">\n  <thead>\n    <tr style=\"text-align: right;\">\n      <th>Country/Region</th>\n      <th>China</th>\n      <th>France</th>\n      <th>Germany</th>\n      <th>Iran</th>\n      <th>Italy</th>\n      <th>Korea, South</th>\n      <th>Norway</th>\n      <th>Spain</th>\n      <th>US</th>\n      <th>United Kingdom</th>\n    </tr>\n  </thead>\n  <tbody>\n    <tr>\n      <th>2020-04-29</th>\n      <td>83944.0</td>\n      <td>166543.0</td>\n      <td>161539.0</td>\n      <td>93657.0</td>\n      <td>203591.0</td>\n      <td>10765.0</td>\n      <td>7710.0</td>\n      <td>212917.0</td>\n      <td>1039909.0</td>\n      <td>166441.0</td>\n    </tr>\n    <tr>\n      <th>2020-04-30</th>\n      <td>83956.0</td>\n      <td>167299.0</td>\n      <td>163009.0</td>\n      <td>94640.0</td>\n      <td>205463.0</td>\n      <td>10774.0</td>\n      <td>7738.0</td>\n      <td>213435.0</td>\n      <td>1069424.0</td>\n      <td>172481.0</td>\n    </tr>\n    <tr>\n      <th>2020-05-01</th>\n      <td>83959.0</td>\n      <td>167305.0</td>\n      <td>164077.0</td>\n      <td>95646.0</td>\n      <td>207428.0</td>\n      <td>10780.0</td>\n      <td>7783.0</td>\n      <td>213435.0</td>\n      <td>1103461.0</td>\n      <td>178685.0</td>\n    </tr>\n    <tr>\n      <th>2020-05-02</th>\n      <td>83959.0</td>\n      <td>168518.0</td>\n      <td>164967.0</td>\n      <td>96448.0</td>\n      <td>209328.0</td>\n      <td>10793.0</td>\n      <td>7809.0</td>\n      <td>216582.0</td>\n      <td>1132539.0</td>\n      <td>183500.0</td>\n    </tr>\n    <tr>\n      <th>2020-05-03</th>\n      <td>83964.0</td>\n      <td>168925.0</td>\n      <td>165664.0</td>\n      <td>97424.0</td>\n      <td>210717.0</td>\n      <td>10801.0</td>\n      <td>7847.0</td>\n      <td>217466.0</td>\n      <td>1158040.0</td>\n      <td>187842.0</td>\n    </tr>\n  </tbody>\n</table>\n</div>"
     },
     "metadata": {},
     "execution_count": 5
    }
   ],
   "source": [
    "# Datos https://github.com/CSSEGISandData/COVID-19.git\n",
    "data = pd.read_csv(\"COVID-19/csse_covid_19_data/csse_covid_19_time_series/time_series_covid19_confirmed_global.csv\" )\n",
    "\n",
    "#Saco un dataset con solo los países\n",
    "data_countries = data.groupby(\"Country/Region\", as_index=False).sum()\n",
    "\n",
    "# Hago transposición de los datos para mover las columnas en filas \n",
    "data_trans = data_countries.set_index('Country/Region').transpose()\n",
    "# Y me quedo sólo con los datos temporales y número de casos\n",
    "data_time = data_trans[2:]\n",
    "\n",
    "# Cogemos solo determinados países\n",
    "data_time = data_time[['China', 'France', 'Germany', 'Iran','Italy', 'Korea, South', 'Norway','Spain', 'US', 'United Kingdom']]\n",
    "\n",
    "#Hago listado de Countries\n",
    "list_countries = data_time.columns\n",
    "list_countries\n",
    "\n",
    "#Convierto la columna fecha en datetime\n",
    "from datetime import date\n",
    "data_time.index = pd.to_datetime(data_time.index)\n",
    "data_time.tail()\n"
   ]
  },
  {
   "cell_type": "markdown",
   "metadata": {},
   "source": [
    "## MUNDO: Confirmados, curados y fallecidos"
   ]
  },
  {
   "cell_type": "code",
   "execution_count": 6,
   "metadata": {},
   "outputs": [
    {
     "output_type": "execute_result",
     "data": {
      "text/plain": "                Confirmados   Curados  Fallecidos\nCountry/Region                                   \nChina               83964.0   78684.0      4637.0\nFrance             168925.0   50885.0     24900.0\nGermany            165664.0  130600.0      6866.0\nItaly              210717.0   81654.0     28884.0\nSpain              217466.0  118902.0     25264.0\nUS                1158040.0  180152.0     67682.0\nUnited Kingdom     187842.0     901.0     28520.0",
      "text/html": "<div>\n<style scoped>\n    .dataframe tbody tr th:only-of-type {\n        vertical-align: middle;\n    }\n\n    .dataframe tbody tr th {\n        vertical-align: top;\n    }\n\n    .dataframe thead th {\n        text-align: right;\n    }\n</style>\n<table border=\"1\" class=\"dataframe\">\n  <thead>\n    <tr style=\"text-align: right;\">\n      <th></th>\n      <th>Confirmados</th>\n      <th>Curados</th>\n      <th>Fallecidos</th>\n    </tr>\n    <tr>\n      <th>Country/Region</th>\n      <th></th>\n      <th></th>\n      <th></th>\n    </tr>\n  </thead>\n  <tbody>\n    <tr>\n      <th>China</th>\n      <td>83964.0</td>\n      <td>78684.0</td>\n      <td>4637.0</td>\n    </tr>\n    <tr>\n      <th>France</th>\n      <td>168925.0</td>\n      <td>50885.0</td>\n      <td>24900.0</td>\n    </tr>\n    <tr>\n      <th>Germany</th>\n      <td>165664.0</td>\n      <td>130600.0</td>\n      <td>6866.0</td>\n    </tr>\n    <tr>\n      <th>Italy</th>\n      <td>210717.0</td>\n      <td>81654.0</td>\n      <td>28884.0</td>\n    </tr>\n    <tr>\n      <th>Spain</th>\n      <td>217466.0</td>\n      <td>118902.0</td>\n      <td>25264.0</td>\n    </tr>\n    <tr>\n      <th>US</th>\n      <td>1158040.0</td>\n      <td>180152.0</td>\n      <td>67682.0</td>\n    </tr>\n    <tr>\n      <th>United Kingdom</th>\n      <td>187842.0</td>\n      <td>901.0</td>\n      <td>28520.0</td>\n    </tr>\n  </tbody>\n</table>\n</div>"
     },
     "metadata": {},
     "execution_count": 6
    }
   ],
   "source": [
    "######### Confirmados\n",
    "\n",
    "data_confirmed = pd.read_csv(\"COVID-19/csse_covid_19_data/csse_covid_19_time_series/time_series_covid19_confirmed_global.csv\" )\n",
    "#Saco un dataset con solo los países\n",
    "data_confirmed = data_confirmed.groupby(\"Country/Region\", as_index=False).sum()\n",
    "# Hago transposición de los datos para mover las columnas en filas \n",
    "data_confirmed = data_confirmed.set_index('Country/Region').transpose()\n",
    "# Y me quedo sólo con los datos temporales y número de casos\n",
    "data_confirmed = data_confirmed[2:]\n",
    "# Cogemos solo determinados países\n",
    "data_confirmed = data_confirmed[['China', 'France', 'Germany', 'Italy','Spain', 'US', 'United Kingdom']]\n",
    "data_confirmed = data_confirmed[-1:]\n",
    "\n",
    "######### Muertos\n",
    "\n",
    "data_deaths = pd.read_csv(\"COVID-19/csse_covid_19_data/csse_covid_19_time_series/time_series_covid19_deaths_global.csv\")\n",
    "#Saco un dataset con solo los países\n",
    "data_deaths = data_deaths.groupby(\"Country/Region\", as_index=False).sum()\n",
    "#Se ve que están todos y comprobado que suma\n",
    "data_deaths[::]\n",
    "# Hago transposición de los datos para mover las columnas en filas \n",
    "data_deaths = data_deaths.set_index('Country/Region').transpose()\n",
    "\n",
    "# Y me quedo sólo con los datos temporales y número de casos\n",
    "data_deaths = data_deaths[2:]\n",
    "data_deaths.tail()\n",
    "# Cogemos solo determinados países\n",
    "data_deaths = data_deaths[['China', 'France', 'Germany', 'Italy','Spain', 'US', 'United Kingdom']]\n",
    "data_deaths = data_deaths[-1:]\n",
    "\n",
    "######### Recuperados\n",
    "\n",
    "data_recovered = pd.read_csv(\"COVID-19/csse_covid_19_data/csse_covid_19_time_series/time_series_covid19_recovered_global.csv\" )\n",
    "#Saco un dataset con solo los países\n",
    "data_recovered = data_recovered.groupby(\"Country/Region\", as_index=False).sum()\n",
    "# Hago transposición de los datos para mover las columnas en filas \n",
    "data_recovered = data_recovered.set_index('Country/Region').transpose()\n",
    "# Y me quedo sólo con los datos temporales y número de casos\n",
    "data_recovered = data_recovered[2:]\n",
    "# Cogemos solo determinados países\n",
    "data_recovered = data_recovered[['China', 'France', 'Germany', 'Italy','Spain', 'US', 'United Kingdom']]\n",
    "data_recovered = data_recovered[-1:]\n",
    "\n",
    "######### Merge de datos\n",
    "\n",
    "# Saco la fecha:\n",
    "from datetime import datetime, timedelta\n",
    "date_today_intern = date.today()\n",
    "date_today_intern = date_today_intern.today() - timedelta(days=1) #Quito uno porque esta base de datos siempre muestra datos del día anterior\n",
    "date_today_intern = date_today_intern.strftime('%d/%m')\n",
    "\n",
    "#Juntar ahora datos\n",
    "data_columns = ['Confirmados', 'Curados', 'Fallecidos']\n",
    "\n",
    "data_together = pd.merge(data_confirmed, data_recovered, how='outer')\n",
    "data_together = pd.merge(data_together, data_deaths, how='outer')\n",
    "data_together.index = data_columns\n",
    "data_together_final = data_together.transpose()\n",
    "# data_together = data_together.reindex(columns =data_columns) \n",
    "# data_together = data_together.reindex(data_index)\n",
    "\n",
    "# Exporto CSV\n",
    "data_together_final.to_csv('data_world_actual.csv', sep = ';')\n",
    "data_together_final"
   ]
  },
  {
   "cell_type": "markdown",
   "metadata": {},
   "source": [
    "## MUNDO: Confirmados, curados y fallecidos por habitantes de población"
   ]
  },
  {
   "cell_type": "code",
   "execution_count": 7,
   "metadata": {},
   "outputs": [
    {
     "output_type": "execute_result",
     "data": {
      "text/plain": "Country/Region    China    France   Germany     Italy     Spain         US  \\\nConfirmados     83964.0  168925.0  165664.0  210717.0  217466.0  1158040.0   \nCurados         78684.0   50885.0  130600.0   81654.0  118902.0   180152.0   \nFallecidos       4637.0   24900.0    6866.0   28884.0   25264.0    67682.0   \n\nCountry/Region  United Kingdom  \nConfirmados           187842.0  \nCurados                  901.0  \nFallecidos             28520.0  ",
      "text/html": "<div>\n<style scoped>\n    .dataframe tbody tr th:only-of-type {\n        vertical-align: middle;\n    }\n\n    .dataframe tbody tr th {\n        vertical-align: top;\n    }\n\n    .dataframe thead th {\n        text-align: right;\n    }\n</style>\n<table border=\"1\" class=\"dataframe\">\n  <thead>\n    <tr style=\"text-align: right;\">\n      <th>Country/Region</th>\n      <th>China</th>\n      <th>France</th>\n      <th>Germany</th>\n      <th>Italy</th>\n      <th>Spain</th>\n      <th>US</th>\n      <th>United Kingdom</th>\n    </tr>\n  </thead>\n  <tbody>\n    <tr>\n      <th>Confirmados</th>\n      <td>83964.0</td>\n      <td>168925.0</td>\n      <td>165664.0</td>\n      <td>210717.0</td>\n      <td>217466.0</td>\n      <td>1158040.0</td>\n      <td>187842.0</td>\n    </tr>\n    <tr>\n      <th>Curados</th>\n      <td>78684.0</td>\n      <td>50885.0</td>\n      <td>130600.0</td>\n      <td>81654.0</td>\n      <td>118902.0</td>\n      <td>180152.0</td>\n      <td>901.0</td>\n    </tr>\n    <tr>\n      <th>Fallecidos</th>\n      <td>4637.0</td>\n      <td>24900.0</td>\n      <td>6866.0</td>\n      <td>28884.0</td>\n      <td>25264.0</td>\n      <td>67682.0</td>\n      <td>28520.0</td>\n    </tr>\n  </tbody>\n</table>\n</div>"
     },
     "metadata": {},
     "execution_count": 7
    }
   ],
   "source": [
    "data_together"
   ]
  },
  {
   "cell_type": "code",
   "execution_count": 8,
   "metadata": {},
   "outputs": [
    {
     "output_type": "execute_result",
     "data": {
      "text/plain": "Country/Region  China  France  Germany   Italy   Spain      US  United Kingdom\nConfirmados      60.0  2520.0   1995.0  3481.0  4633.0  3528.0          2818.0\nCurados          56.0   759.0   1573.0  1349.0  2533.0   549.0            14.0\nFallecidos        3.0   371.0     83.0   477.0   538.0   206.0           428.0",
      "text/html": "<div>\n<style scoped>\n    .dataframe tbody tr th:only-of-type {\n        vertical-align: middle;\n    }\n\n    .dataframe tbody tr th {\n        vertical-align: top;\n    }\n\n    .dataframe thead th {\n        text-align: right;\n    }\n</style>\n<table border=\"1\" class=\"dataframe\">\n  <thead>\n    <tr style=\"text-align: right;\">\n      <th>Country/Region</th>\n      <th>China</th>\n      <th>France</th>\n      <th>Germany</th>\n      <th>Italy</th>\n      <th>Spain</th>\n      <th>US</th>\n      <th>United Kingdom</th>\n    </tr>\n  </thead>\n  <tbody>\n    <tr>\n      <th>Confirmados</th>\n      <td>60.0</td>\n      <td>2520.0</td>\n      <td>1995.0</td>\n      <td>3481.0</td>\n      <td>4633.0</td>\n      <td>3528.0</td>\n      <td>2818.0</td>\n    </tr>\n    <tr>\n      <th>Curados</th>\n      <td>56.0</td>\n      <td>759.0</td>\n      <td>1573.0</td>\n      <td>1349.0</td>\n      <td>2533.0</td>\n      <td>549.0</td>\n      <td>14.0</td>\n    </tr>\n    <tr>\n      <th>Fallecidos</th>\n      <td>3.0</td>\n      <td>371.0</td>\n      <td>83.0</td>\n      <td>477.0</td>\n      <td>538.0</td>\n      <td>206.0</td>\n      <td>428.0</td>\n    </tr>\n  </tbody>\n</table>\n</div>"
     },
     "metadata": {},
     "execution_count": 8
    }
   ],
   "source": [
    "pob_wuhan = 11895000\n",
    "pob_china = 1393000000\n",
    "pob_france = 67028048\n",
    "pob_germany = 83019200\n",
    "pob_italy = 60541000\n",
    "pob_spain = 46940000\n",
    "pob_US = 328200000\n",
    "pob_UK = 66650000\n",
    "\n",
    "# Por cada millón de habitantes hay estos casos...\n",
    "data_together_den = data_together.copy()\n",
    "data_together_den['China'] = (data_together_den['China'] / pob_china)*1000000 # Por cada caso infectado hay 142 que no lo están\n",
    "data_together_den['France'] = (data_together_den['France'] / pob_france)*1000000 # Por cada caso infectado hay 455 que no lo están\n",
    "data_together_den['Germany'] = (data_together_den['Germany'] / pob_germany)*1000000  # Por cada caso infectado hay 455 que no lo están\n",
    "data_together_den['Italy'] = (data_together_den['Italy'] / pob_italy)*1000000\n",
    "data_together_den['Spain'] = (data_together_den['Spain'] / pob_spain)*1000000\n",
    "data_together_den['US'] = (data_together_den['US'] / pob_US)*1000000\n",
    "data_together_den['United Kingdom'] = (data_together_den['United Kingdom'] / pob_UK)*1000000\n",
    "data_together_den = data_together_den.round(0)\n",
    "# Exporto CSV\n",
    "data_together_den.to_csv('data_world_actual_den.csv', sep = ';')\n",
    "data_together_den"
   ]
  },
  {
   "cell_type": "markdown",
   "metadata": {},
   "source": [
    "## MUNDO: CSV : covid19_data_drive_from100.csv"
   ]
  },
  {
   "cell_type": "code",
   "execution_count": 9,
   "metadata": {},
   "outputs": [
    {
     "output_type": "execute_result",
     "data": {
      "text/plain": "    France    China  Germany     Iran     Italy  Korea, South  Norway  Spain  \\\n66     NaN  81999.0      NaN  97424.0  205463.0       10752.0     NaN    NaN   \n67     NaN  82122.0      NaN      NaN  207428.0       10761.0     NaN    NaN   \n68     NaN  82198.0      NaN      NaN  209328.0       10765.0     NaN    NaN   \n69     NaN  82279.0      NaN      NaN  210717.0       10774.0     NaN    NaN   \n70     NaN  82361.0      NaN      NaN       NaN       10780.0     NaN    NaN   \n\n    US  United Kingdom  \n66 NaN             NaN  \n67 NaN             NaN  \n68 NaN             NaN  \n69 NaN             NaN  \n70 NaN             NaN  ",
      "text/html": "<div>\n<style scoped>\n    .dataframe tbody tr th:only-of-type {\n        vertical-align: middle;\n    }\n\n    .dataframe tbody tr th {\n        vertical-align: top;\n    }\n\n    .dataframe thead th {\n        text-align: right;\n    }\n</style>\n<table border=\"1\" class=\"dataframe\">\n  <thead>\n    <tr style=\"text-align: right;\">\n      <th></th>\n      <th>France</th>\n      <th>China</th>\n      <th>Germany</th>\n      <th>Iran</th>\n      <th>Italy</th>\n      <th>Korea, South</th>\n      <th>Norway</th>\n      <th>Spain</th>\n      <th>US</th>\n      <th>United Kingdom</th>\n    </tr>\n  </thead>\n  <tbody>\n    <tr>\n      <th>66</th>\n      <td>NaN</td>\n      <td>81999.0</td>\n      <td>NaN</td>\n      <td>97424.0</td>\n      <td>205463.0</td>\n      <td>10752.0</td>\n      <td>NaN</td>\n      <td>NaN</td>\n      <td>NaN</td>\n      <td>NaN</td>\n    </tr>\n    <tr>\n      <th>67</th>\n      <td>NaN</td>\n      <td>82122.0</td>\n      <td>NaN</td>\n      <td>NaN</td>\n      <td>207428.0</td>\n      <td>10761.0</td>\n      <td>NaN</td>\n      <td>NaN</td>\n      <td>NaN</td>\n      <td>NaN</td>\n    </tr>\n    <tr>\n      <th>68</th>\n      <td>NaN</td>\n      <td>82198.0</td>\n      <td>NaN</td>\n      <td>NaN</td>\n      <td>209328.0</td>\n      <td>10765.0</td>\n      <td>NaN</td>\n      <td>NaN</td>\n      <td>NaN</td>\n      <td>NaN</td>\n    </tr>\n    <tr>\n      <th>69</th>\n      <td>NaN</td>\n      <td>82279.0</td>\n      <td>NaN</td>\n      <td>NaN</td>\n      <td>210717.0</td>\n      <td>10774.0</td>\n      <td>NaN</td>\n      <td>NaN</td>\n      <td>NaN</td>\n      <td>NaN</td>\n    </tr>\n    <tr>\n      <th>70</th>\n      <td>NaN</td>\n      <td>82361.0</td>\n      <td>NaN</td>\n      <td>NaN</td>\n      <td>NaN</td>\n      <td>10780.0</td>\n      <td>NaN</td>\n      <td>NaN</td>\n      <td>NaN</td>\n      <td>NaN</td>\n    </tr>\n  </tbody>\n</table>\n</div>"
     },
     "metadata": {},
     "execution_count": 9
    }
   ],
   "source": [
    "# Coger solo datos del último mes\n",
    "data_time_30days = data_time[-200:]\n",
    "# Si quiero quitar China: data_time_filter = data_time_filter.drop('China', axis=1)\n",
    "\n",
    "#Exporto los datos en diferentes arhcivos con casa país\n",
    "for country in list_countries:\n",
    "    dataX = data_time_30days[country]\n",
    "    dataX = dataX[dataX > 200]\n",
    "    dataX.to_csv('data_' + country + \".csv\", index=False, header= country)\n",
    "\n",
    "# Lista dataframes\n",
    "# dataframes_list = ['dataframe_France', 'dataframe_China', 'dataframe_Germany', 'dataframe_Iran', 'dataframe_Italy', 'dataframe_Korea', 'dataframe_Norway', 'dataframe_Spain', 'dataframe_US', 'dataframe_UnitedKingdom']\n",
    "\n",
    "# Creamos los CSV\n",
    "dataframe_France = pd.read_csv('data_France.csv')\n",
    "dataframe_China = pd.read_csv('data_China.csv')\n",
    "dataframe_Germany = pd.read_csv('data_Germany.csv')\n",
    "dataframe_Iran = pd.read_csv('data_Iran.csv')\n",
    "dataframe_Italy = pd.read_csv('data_Italy.csv')\n",
    "dataframe_Korea = pd.read_csv('data_Korea, South.csv')\n",
    "dataframe_Norway = pd.read_csv('data_Norway.csv')\n",
    "dataframe_Spain = pd.read_csv('data_Spain.csv')\n",
    "dataframe_US = pd.read_csv('data_US.csv')\n",
    "dataframe_UnitedKingdom = pd.read_csv('data_United Kingdom.csv')\n",
    "\n",
    "#Les añadimos NaN al final y reindexamos\n",
    "new_index = np.arange(1,71)\n",
    "dataframe_France = dataframe_France.reindex(new_index)\n",
    "dataframe_China = dataframe_China.reindex(new_index)\n",
    "dataframe_Germany = dataframe_Germany.reindex(new_index)\n",
    "dataframe_Iran = dataframe_Iran.reindex(new_index)\n",
    "dataframe_Italy = dataframe_Italy.reindex(new_index)\n",
    "dataframe_Korea = dataframe_Korea.reindex(new_index)\n",
    "dataframe_Norway = dataframe_Norway.reindex(new_index)\n",
    "dataframe_Spain = dataframe_Spain.reindex(new_index)\n",
    "dataframe_US = dataframe_US.reindex(new_index)\n",
    "dataframe_UnitedKingdom = dataframe_UnitedKingdom.reindex(new_index)\n",
    "\n",
    "#Juntar dataframes y Exportar CSV completo\n",
    "data_drive_from100cases = dataframe_France.join([dataframe_China, dataframe_Germany, \n",
    "                                                 dataframe_Iran, dataframe_Italy, dataframe_Korea, \n",
    "                                                 dataframe_Norway, dataframe_Spain, dataframe_US,\n",
    "                                                 dataframe_UnitedKingdom])\n",
    "\n",
    "data_drive_from100cases.to_csv('data_world_from100.csv', sep = ';')\n",
    "data_drive_from100cases.tail()"
   ]
  },
  {
   "cell_type": "markdown",
   "metadata": {},
   "source": [
    "## MUNDO: CSV covid19_data_drive_days.csv"
   ]
  },
  {
   "cell_type": "code",
   "execution_count": 10,
   "metadata": {},
   "outputs": [
    {
     "output_type": "execute_result",
     "data": {
      "text/plain": "Country/Region    China    France   Germany     Iran     Italy  Korea, South  \\\n2020-04-29      83944.0  166543.0  161539.0  93657.0  203591.0       10765.0   \n2020-04-30      83956.0  167299.0  163009.0  94640.0  205463.0       10774.0   \n2020-05-01      83959.0  167305.0  164077.0  95646.0  207428.0       10780.0   \n2020-05-02      83959.0  168518.0  164967.0  96448.0  209328.0       10793.0   \n2020-05-03      83964.0  168925.0  165664.0  97424.0  210717.0       10801.0   \n\nCountry/Region  Norway     Spain         US  United Kingdom  \n2020-04-29      7710.0  212917.0  1039909.0        166441.0  \n2020-04-30      7738.0  213435.0  1069424.0        172481.0  \n2020-05-01      7783.0  213435.0  1103461.0        178685.0  \n2020-05-02      7809.0  216582.0  1132539.0        183500.0  \n2020-05-03      7847.0  217466.0  1158040.0        187842.0  ",
      "text/html": "<div>\n<style scoped>\n    .dataframe tbody tr th:only-of-type {\n        vertical-align: middle;\n    }\n\n    .dataframe tbody tr th {\n        vertical-align: top;\n    }\n\n    .dataframe thead th {\n        text-align: right;\n    }\n</style>\n<table border=\"1\" class=\"dataframe\">\n  <thead>\n    <tr style=\"text-align: right;\">\n      <th>Country/Region</th>\n      <th>China</th>\n      <th>France</th>\n      <th>Germany</th>\n      <th>Iran</th>\n      <th>Italy</th>\n      <th>Korea, South</th>\n      <th>Norway</th>\n      <th>Spain</th>\n      <th>US</th>\n      <th>United Kingdom</th>\n    </tr>\n  </thead>\n  <tbody>\n    <tr>\n      <th>2020-04-29</th>\n      <td>83944.0</td>\n      <td>166543.0</td>\n      <td>161539.0</td>\n      <td>93657.0</td>\n      <td>203591.0</td>\n      <td>10765.0</td>\n      <td>7710.0</td>\n      <td>212917.0</td>\n      <td>1039909.0</td>\n      <td>166441.0</td>\n    </tr>\n    <tr>\n      <th>2020-04-30</th>\n      <td>83956.0</td>\n      <td>167299.0</td>\n      <td>163009.0</td>\n      <td>94640.0</td>\n      <td>205463.0</td>\n      <td>10774.0</td>\n      <td>7738.0</td>\n      <td>213435.0</td>\n      <td>1069424.0</td>\n      <td>172481.0</td>\n    </tr>\n    <tr>\n      <th>2020-05-01</th>\n      <td>83959.0</td>\n      <td>167305.0</td>\n      <td>164077.0</td>\n      <td>95646.0</td>\n      <td>207428.0</td>\n      <td>10780.0</td>\n      <td>7783.0</td>\n      <td>213435.0</td>\n      <td>1103461.0</td>\n      <td>178685.0</td>\n    </tr>\n    <tr>\n      <th>2020-05-02</th>\n      <td>83959.0</td>\n      <td>168518.0</td>\n      <td>164967.0</td>\n      <td>96448.0</td>\n      <td>209328.0</td>\n      <td>10793.0</td>\n      <td>7809.0</td>\n      <td>216582.0</td>\n      <td>1132539.0</td>\n      <td>183500.0</td>\n    </tr>\n    <tr>\n      <th>2020-05-03</th>\n      <td>83964.0</td>\n      <td>168925.0</td>\n      <td>165664.0</td>\n      <td>97424.0</td>\n      <td>210717.0</td>\n      <td>10801.0</td>\n      <td>7847.0</td>\n      <td>217466.0</td>\n      <td>1158040.0</td>\n      <td>187842.0</td>\n    </tr>\n  </tbody>\n</table>\n</div>"
     },
     "metadata": {},
     "execution_count": 10
    }
   ],
   "source": [
    "# Coger solo datos de últimos 60 días\n",
    "data_time_Xdays = data_time[-30:]\n",
    "\n",
    "#Exportar CSV por días progresivos\n",
    "data_drive_lastX = data_time_Xdays.loc[:,list_countries]\n",
    "data_drive_lastX.to_csv('data_world_timeline.csv', sep = ';', encoding=\"utf-8\")\n",
    "data_drive_lastX.tail()\n"
   ]
  },
  {
   "cell_type": "markdown",
   "metadata": {},
   "source": [
    "## ESPAÑA: Resumen datos España: data_spain_newcases24h.csv"
   ]
  },
  {
   "cell_type": "code",
   "execution_count": 11,
   "metadata": {},
   "outputs": [
    {
     "output_type": "execute_result",
     "data": {
      "text/plain": "         fecha  casos_total  casos_pcr  casos_test_ac     altas  \\\n0   2020-02-21            2        NaN            NaN       NaN   \n1   2020-02-22            2        NaN            NaN       NaN   \n2   2020-02-23            2        NaN            NaN       NaN   \n3   2020-02-24            2        NaN            NaN       NaN   \n4   2020-02-25            3        NaN            NaN       NaN   \n..         ...          ...        ...            ...       ...   \n69  2020-04-30       240121   214213.0        25908.0  112050.0   \n70  2020-05-01       243356   215581.0        27775.0  114678.0   \n71  2020-05-02       245761   216764.0        28997.0  117248.0   \n72  2020-05-03       247301   217655.0        29646.0  118902.0   \n73  2020-05-04       248301   218011.0        30290.0  121343.0   \n\n    fallecimientos  ingresos_uci  hospitalizados  \n0              NaN           NaN             NaN  \n1              NaN           NaN             NaN  \n2              NaN           NaN             NaN  \n3              NaN           NaN             NaN  \n4              NaN           NaN             NaN  \n..             ...           ...             ...  \n69         24543.0       10775.0        116660.0  \n70         24824.0       10859.0        117392.0  \n71         25100.0       10908.0        117948.0  \n72         25264.0       10973.0        118495.0  \n73         25428.0       10994.0        118889.0  \n\n[74 rows x 8 columns]",
      "text/html": "<div>\n<style scoped>\n    .dataframe tbody tr th:only-of-type {\n        vertical-align: middle;\n    }\n\n    .dataframe tbody tr th {\n        vertical-align: top;\n    }\n\n    .dataframe thead th {\n        text-align: right;\n    }\n</style>\n<table border=\"1\" class=\"dataframe\">\n  <thead>\n    <tr style=\"text-align: right;\">\n      <th></th>\n      <th>fecha</th>\n      <th>casos_total</th>\n      <th>casos_pcr</th>\n      <th>casos_test_ac</th>\n      <th>altas</th>\n      <th>fallecimientos</th>\n      <th>ingresos_uci</th>\n      <th>hospitalizados</th>\n    </tr>\n  </thead>\n  <tbody>\n    <tr>\n      <th>0</th>\n      <td>2020-02-21</td>\n      <td>2</td>\n      <td>NaN</td>\n      <td>NaN</td>\n      <td>NaN</td>\n      <td>NaN</td>\n      <td>NaN</td>\n      <td>NaN</td>\n    </tr>\n    <tr>\n      <th>1</th>\n      <td>2020-02-22</td>\n      <td>2</td>\n      <td>NaN</td>\n      <td>NaN</td>\n      <td>NaN</td>\n      <td>NaN</td>\n      <td>NaN</td>\n      <td>NaN</td>\n    </tr>\n    <tr>\n      <th>2</th>\n      <td>2020-02-23</td>\n      <td>2</td>\n      <td>NaN</td>\n      <td>NaN</td>\n      <td>NaN</td>\n      <td>NaN</td>\n      <td>NaN</td>\n      <td>NaN</td>\n    </tr>\n    <tr>\n      <th>3</th>\n      <td>2020-02-24</td>\n      <td>2</td>\n      <td>NaN</td>\n      <td>NaN</td>\n      <td>NaN</td>\n      <td>NaN</td>\n      <td>NaN</td>\n      <td>NaN</td>\n    </tr>\n    <tr>\n      <th>4</th>\n      <td>2020-02-25</td>\n      <td>3</td>\n      <td>NaN</td>\n      <td>NaN</td>\n      <td>NaN</td>\n      <td>NaN</td>\n      <td>NaN</td>\n      <td>NaN</td>\n    </tr>\n    <tr>\n      <th>...</th>\n      <td>...</td>\n      <td>...</td>\n      <td>...</td>\n      <td>...</td>\n      <td>...</td>\n      <td>...</td>\n      <td>...</td>\n      <td>...</td>\n    </tr>\n    <tr>\n      <th>69</th>\n      <td>2020-04-30</td>\n      <td>240121</td>\n      <td>214213.0</td>\n      <td>25908.0</td>\n      <td>112050.0</td>\n      <td>24543.0</td>\n      <td>10775.0</td>\n      <td>116660.0</td>\n    </tr>\n    <tr>\n      <th>70</th>\n      <td>2020-05-01</td>\n      <td>243356</td>\n      <td>215581.0</td>\n      <td>27775.0</td>\n      <td>114678.0</td>\n      <td>24824.0</td>\n      <td>10859.0</td>\n      <td>117392.0</td>\n    </tr>\n    <tr>\n      <th>71</th>\n      <td>2020-05-02</td>\n      <td>245761</td>\n      <td>216764.0</td>\n      <td>28997.0</td>\n      <td>117248.0</td>\n      <td>25100.0</td>\n      <td>10908.0</td>\n      <td>117948.0</td>\n    </tr>\n    <tr>\n      <th>72</th>\n      <td>2020-05-03</td>\n      <td>247301</td>\n      <td>217655.0</td>\n      <td>29646.0</td>\n      <td>118902.0</td>\n      <td>25264.0</td>\n      <td>10973.0</td>\n      <td>118495.0</td>\n    </tr>\n    <tr>\n      <th>73</th>\n      <td>2020-05-04</td>\n      <td>248301</td>\n      <td>218011.0</td>\n      <td>30290.0</td>\n      <td>121343.0</td>\n      <td>25428.0</td>\n      <td>10994.0</td>\n      <td>118889.0</td>\n    </tr>\n  </tbody>\n</table>\n<p>74 rows × 8 columns</p>\n</div>"
     },
     "metadata": {},
     "execution_count": 11
    }
   ],
   "source": [
    "data_spain_datadista"
   ]
  },
  {
   "cell_type": "code",
   "execution_count": 14,
   "metadata": {},
   "outputs": [
    {
     "output_type": "execute_result",
     "data": {
      "text/plain": "                             2020-03-25  2020-03-26  2020-03-27  2020-03-28  \\\nConfirmados (24h) en España        8932        9151        8268        6406   \nRecuperados (24h) en España        1272        2165        2405        2323   \nFallecidos (24h) en España          615         745         839         715   \n\n                             2020-03-29  2020-03-30  2020-03-31  2020-04-01  \\\nConfirmados (24h) en España        5799        8146        7411        7531   \nRecuperados (24h) en España        1604        2103        3097        3486   \nFallecidos (24h) en España          696         820         929         877   \n\n                             2020-04-02  2020-04-03  ...  2020-04-24  \\\nConfirmados (24h) en España        7237        6657  ...        3865   \nRecuperados (24h) en España        3031        3633  ...        3353   \nFallecidos (24h) en España          845         780  ...         378   \n\n                             2020-04-25  2020-04-26  2020-04-27  2020-04-28  \\\nConfirmados (24h) en España        2788        2606        2845        3355   \nRecuperados (24h) en España        3024        2143        1673        6399   \nFallecidos (24h) en España          288         331         301         453   \n\n                             2020-04-29  2020-04-30  2020-05-01  2020-05-02  \\\nConfirmados (24h) en España        3135        3235        2405        1540   \nRecuperados (24h) en España        3103        2628        2570        1654   \nFallecidos (24h) en España          268         281         276         164   \n\n                             2020-05-03  \nConfirmados (24h) en España        1000  \nRecuperados (24h) en España        2441  \nFallecidos (24h) en España          164  \n\n[3 rows x 40 columns]",
      "text/html": "<div>\n<style scoped>\n    .dataframe tbody tr th:only-of-type {\n        vertical-align: middle;\n    }\n\n    .dataframe tbody tr th {\n        vertical-align: top;\n    }\n\n    .dataframe thead th {\n        text-align: right;\n    }\n</style>\n<table border=\"1\" class=\"dataframe\">\n  <thead>\n    <tr style=\"text-align: right;\">\n      <th></th>\n      <th>2020-03-25</th>\n      <th>2020-03-26</th>\n      <th>2020-03-27</th>\n      <th>2020-03-28</th>\n      <th>2020-03-29</th>\n      <th>2020-03-30</th>\n      <th>2020-03-31</th>\n      <th>2020-04-01</th>\n      <th>2020-04-02</th>\n      <th>2020-04-03</th>\n      <th>...</th>\n      <th>2020-04-24</th>\n      <th>2020-04-25</th>\n      <th>2020-04-26</th>\n      <th>2020-04-27</th>\n      <th>2020-04-28</th>\n      <th>2020-04-29</th>\n      <th>2020-04-30</th>\n      <th>2020-05-01</th>\n      <th>2020-05-02</th>\n      <th>2020-05-03</th>\n    </tr>\n  </thead>\n  <tbody>\n    <tr>\n      <th>Confirmados (24h) en España</th>\n      <td>8932</td>\n      <td>9151</td>\n      <td>8268</td>\n      <td>6406</td>\n      <td>5799</td>\n      <td>8146</td>\n      <td>7411</td>\n      <td>7531</td>\n      <td>7237</td>\n      <td>6657</td>\n      <td>...</td>\n      <td>3865</td>\n      <td>2788</td>\n      <td>2606</td>\n      <td>2845</td>\n      <td>3355</td>\n      <td>3135</td>\n      <td>3235</td>\n      <td>2405</td>\n      <td>1540</td>\n      <td>1000</td>\n    </tr>\n    <tr>\n      <th>Recuperados (24h) en España</th>\n      <td>1272</td>\n      <td>2165</td>\n      <td>2405</td>\n      <td>2323</td>\n      <td>1604</td>\n      <td>2103</td>\n      <td>3097</td>\n      <td>3486</td>\n      <td>3031</td>\n      <td>3633</td>\n      <td>...</td>\n      <td>3353</td>\n      <td>3024</td>\n      <td>2143</td>\n      <td>1673</td>\n      <td>6399</td>\n      <td>3103</td>\n      <td>2628</td>\n      <td>2570</td>\n      <td>1654</td>\n      <td>2441</td>\n    </tr>\n    <tr>\n      <th>Fallecidos (24h) en España</th>\n      <td>615</td>\n      <td>745</td>\n      <td>839</td>\n      <td>715</td>\n      <td>696</td>\n      <td>820</td>\n      <td>929</td>\n      <td>877</td>\n      <td>845</td>\n      <td>780</td>\n      <td>...</td>\n      <td>378</td>\n      <td>288</td>\n      <td>331</td>\n      <td>301</td>\n      <td>453</td>\n      <td>268</td>\n      <td>281</td>\n      <td>276</td>\n      <td>164</td>\n      <td>164</td>\n    </tr>\n  </tbody>\n</table>\n<p>3 rows × 40 columns</p>\n</div>"
     },
     "metadata": {},
     "execution_count": 14
    }
   ],
   "source": [
    "# Con datos de datadista, SOLO PARA DATOS DE PAÍS\n",
    "data_path_confirmed = 'casos_total'\n",
    "data_path_recovered = 'altas'\n",
    "data_path_deaths = 'fallecimientos'\n",
    "\n",
    "# Evolución últimos 40 días de nuevos casos\n",
    "\n",
    "def day_consecutive(day):\n",
    "    date_cons = date.today()\n",
    "    date_cons = date_cons - timedelta(days=day)\n",
    "    date_cons = date_cons.strftime('%Y-%m-%d')\n",
    "    return date_cons\n",
    "\n",
    "def data_day(data_path, number_to_rest):\n",
    "    data = data_spain_datadista.set_index('fecha')\n",
    "    data = data[data_path]\n",
    "    data = int(data.iloc[number_to_rest]) - int(data.iloc[number_to_rest-1])\n",
    "    return data\n",
    "\n",
    "data_day(data_path_confirmed, -3)\n",
    "\n",
    "def create_dataframe(data_day_name, data_path, index_title):\n",
    "    dataframe = pd.DataFrame({day_consecutive(40): data_day_name(data_path, -40),\n",
    "                              day_consecutive(39): data_day_name(data_path, -39),\n",
    "                              day_consecutive(38): data_day_name(data_path, -38),\n",
    "                              day_consecutive(37): data_day_name(data_path, -37),\n",
    "                              day_consecutive(36): data_day_name(data_path, -36),\n",
    "                              day_consecutive(35): data_day_name(data_path, -35),\n",
    "                              day_consecutive(34): data_day_name(data_path, -34),\n",
    "                              day_consecutive(33): data_day_name(data_path, -33),\n",
    "                              day_consecutive(32): data_day_name(data_path, -32),\n",
    "                              day_consecutive(31): data_day_name(data_path, -31),\n",
    "                              day_consecutive(30): data_day_name(data_path, -30),\n",
    "                              day_consecutive(29): data_day_name(data_path, -29),\n",
    "                              day_consecutive(28): data_day_name(data_path, -28),\n",
    "                              day_consecutive(27): data_day_name(data_path, -27),\n",
    "                              day_consecutive(26): data_day_name(data_path, -26),\n",
    "                              day_consecutive(25): data_day_name(data_path, -25),\n",
    "                              day_consecutive(24): data_day_name(data_path, -24),\n",
    "                              day_consecutive(23): data_day_name(data_path, -23),\n",
    "                              day_consecutive(22): data_day_name(data_path, -22),\n",
    "                              day_consecutive(21): data_day_name(data_path, -21),\n",
    "                              day_consecutive(20): data_day_name(data_path, -20),\n",
    "                              day_consecutive(19): data_day_name(data_path, -19), \n",
    "                              day_consecutive(18): data_day_name(data_path, -18),\n",
    "                              day_consecutive(17): data_day_name(data_path, -17),\n",
    "                              day_consecutive(16): data_day_name(data_path, -16),\n",
    "                              day_consecutive(15): data_day_name(data_path, -15),\n",
    "                              day_consecutive(14): data_day_name(data_path, -14),\n",
    "                              day_consecutive(13): data_day_name(data_path, -13),\n",
    "                              day_consecutive(12): data_day_name(data_path, -12),\n",
    "                              day_consecutive(11): data_day_name(data_path, -11),\n",
    "                              day_consecutive(10): data_day_name(data_path, -10),\n",
    "                              day_consecutive(9): data_day_name(data_path, -9),\n",
    "                              day_consecutive(8): data_day_name(data_path, -8),\n",
    "                              day_consecutive(7): data_day_name(data_path, -7),\n",
    "                              day_consecutive(6): data_day_name(data_path, -6),\n",
    "                              day_consecutive(5): data_day_name(data_path, -5),\n",
    "                              day_consecutive(4): data_day_name(data_path, -4),\n",
    "                              day_consecutive(3): data_day_name(data_path, -3),\n",
    "                              day_consecutive(2): data_day_name(data_path, -2),\n",
    "                              day_consecutive(1): data_day_name(data_path, -1),\n",
    "                             }, index=index_title)\n",
    "                                    \n",
    "    return dataframe\n",
    "\n",
    "data_spain_confirmed24h_datadista = create_dataframe(data_day, data_path_confirmed, ['Confirmados (24h) en España'])\n",
    "data_spain_recovered24h_datadista = create_dataframe(data_day, data_path_recovered, ['Recuperados (24h) en España'])\n",
    "data_spain_deaths24h_datadista = create_dataframe(data_day, data_path_deaths, ['Fallecidos (24h) en España'])\n",
    "data_spain_newcases24h_datadista = pd.concat([data_spain_confirmed24h_datadista,data_spain_recovered24h_datadista,data_spain_deaths24h_datadista], axis=0)\n",
    "\n",
    "\n",
    "# Exportar\n",
    "data_spain_newcases24h_datadista.to_csv('data_spain_newcases24h.csv', sep = ';')\n",
    "data_spain_deaths24h_datadista.to_csv('data_spain_newcases24h_deaths.csv', sep = ';')\n",
    "data_spain_newcases24h_datadista"
   ]
  },
  {
   "cell_type": "code",
   "execution_count": 15,
   "metadata": {},
   "outputs": [
    {
     "output_type": "execute_result",
     "data": {
      "text/plain": "                              2020-03-25  2020-03-26  2020-03-27  2020-03-28  \\\nFallecidos (24h) en España           615         745         839         715   \nFallecidos (24h) en Italia           683         712         919         889   \nFallecidos (24h) en Francia          231         365         299         320   \nFallecidos (24h) en Alemania          49          61          75          91   \n\n                              2020-03-29  2020-03-30  2020-03-31  2020-04-01  \\\nFallecidos (24h) en España           696         820         929         877   \nFallecidos (24h) en Italia           756         812         837         727   \nFallecidos (24h) en Francia          294         419         502         882   \nFallecidos (24h) en Alemania         100         112         130         145   \n\n                              2020-04-02  2020-04-03  ...  2020-04-24  \\\nFallecidos (24h) en España           845         780  ...         378   \nFallecidos (24h) en Italia           760         766  ...         420   \nFallecidos (24h) en Francia          984        1122  ...         390   \nFallecidos (24h) en Alemania         187         168  ...         185   \n\n                              2020-04-25  2020-04-26  2020-04-27  2020-04-28  \\\nFallecidos (24h) en España           288         331         301         453   \nFallecidos (24h) en Italia           415         260         333         382   \nFallecidos (24h) en Francia          369         242         437         367   \nFallecidos (24h) en Alemania         117          99         150         188   \n\n                              2020-04-29  2020-04-30  2020-05-01  2020-05-02  \\\nFallecidos (24h) en España           268         281         276         164   \nFallecidos (24h) en Italia           323         285         269         474   \nFallecidos (24h) en Francia          427         289         218         166   \nFallecidos (24h) en Alemania         153         156         113          76   \n\n                              2020-05-03  \nFallecidos (24h) en España           164  \nFallecidos (24h) en Italia           174  \nFallecidos (24h) en Francia          137  \nFallecidos (24h) en Alemania          54  \n\n[4 rows x 40 columns]",
      "text/html": "<div>\n<style scoped>\n    .dataframe tbody tr th:only-of-type {\n        vertical-align: middle;\n    }\n\n    .dataframe tbody tr th {\n        vertical-align: top;\n    }\n\n    .dataframe thead th {\n        text-align: right;\n    }\n</style>\n<table border=\"1\" class=\"dataframe\">\n  <thead>\n    <tr style=\"text-align: right;\">\n      <th></th>\n      <th>2020-03-25</th>\n      <th>2020-03-26</th>\n      <th>2020-03-27</th>\n      <th>2020-03-28</th>\n      <th>2020-03-29</th>\n      <th>2020-03-30</th>\n      <th>2020-03-31</th>\n      <th>2020-04-01</th>\n      <th>2020-04-02</th>\n      <th>2020-04-03</th>\n      <th>...</th>\n      <th>2020-04-24</th>\n      <th>2020-04-25</th>\n      <th>2020-04-26</th>\n      <th>2020-04-27</th>\n      <th>2020-04-28</th>\n      <th>2020-04-29</th>\n      <th>2020-04-30</th>\n      <th>2020-05-01</th>\n      <th>2020-05-02</th>\n      <th>2020-05-03</th>\n    </tr>\n  </thead>\n  <tbody>\n    <tr>\n      <th>Fallecidos (24h) en España</th>\n      <td>615</td>\n      <td>745</td>\n      <td>839</td>\n      <td>715</td>\n      <td>696</td>\n      <td>820</td>\n      <td>929</td>\n      <td>877</td>\n      <td>845</td>\n      <td>780</td>\n      <td>...</td>\n      <td>378</td>\n      <td>288</td>\n      <td>331</td>\n      <td>301</td>\n      <td>453</td>\n      <td>268</td>\n      <td>281</td>\n      <td>276</td>\n      <td>164</td>\n      <td>164</td>\n    </tr>\n    <tr>\n      <th>Fallecidos (24h) en Italia</th>\n      <td>683</td>\n      <td>712</td>\n      <td>919</td>\n      <td>889</td>\n      <td>756</td>\n      <td>812</td>\n      <td>837</td>\n      <td>727</td>\n      <td>760</td>\n      <td>766</td>\n      <td>...</td>\n      <td>420</td>\n      <td>415</td>\n      <td>260</td>\n      <td>333</td>\n      <td>382</td>\n      <td>323</td>\n      <td>285</td>\n      <td>269</td>\n      <td>474</td>\n      <td>174</td>\n    </tr>\n    <tr>\n      <th>Fallecidos (24h) en Francia</th>\n      <td>231</td>\n      <td>365</td>\n      <td>299</td>\n      <td>320</td>\n      <td>294</td>\n      <td>419</td>\n      <td>502</td>\n      <td>882</td>\n      <td>984</td>\n      <td>1122</td>\n      <td>...</td>\n      <td>390</td>\n      <td>369</td>\n      <td>242</td>\n      <td>437</td>\n      <td>367</td>\n      <td>427</td>\n      <td>289</td>\n      <td>218</td>\n      <td>166</td>\n      <td>137</td>\n    </tr>\n    <tr>\n      <th>Fallecidos (24h) en Alemania</th>\n      <td>49</td>\n      <td>61</td>\n      <td>75</td>\n      <td>91</td>\n      <td>100</td>\n      <td>112</td>\n      <td>130</td>\n      <td>145</td>\n      <td>187</td>\n      <td>168</td>\n      <td>...</td>\n      <td>185</td>\n      <td>117</td>\n      <td>99</td>\n      <td>150</td>\n      <td>188</td>\n      <td>153</td>\n      <td>156</td>\n      <td>113</td>\n      <td>76</td>\n      <td>54</td>\n    </tr>\n  </tbody>\n</table>\n<p>4 rows × 40 columns</p>\n</div>"
     },
     "metadata": {},
     "execution_count": 15
    }
   ],
   "source": [
    "#Con datos de John Hopkins, SOLO PARA COMPARAR CON INTERNACIONALES\n",
    "\n",
    "path_c = \"COVID-19/csse_covid_19_data/csse_covid_19_time_series/time_series_covid19_confirmed_global.csv\"\n",
    "path_d = \"COVID-19/csse_covid_19_data/csse_covid_19_time_series/time_series_covid19_deaths_global.csv\"\n",
    "path_r = \"COVID-19/csse_covid_19_data/csse_covid_19_time_series/time_series_covid19_recovered_global.csv\"\n",
    "\n",
    "# Evolución últimos 40 días de nuevos casos\n",
    "def day_consecutive(day):\n",
    "    date_cons = date.today()\n",
    "    date_cons = date_cons - timedelta(days=day)\n",
    "    date_cons = date_cons.strftime('%Y-%m-%d')\n",
    "    return date_cons\n",
    "\n",
    "def data_day(data_path, number_to_rest):\n",
    "    data = pd.read_csv(data_path)\n",
    "    data = data.groupby(\"Country/Region\", as_index=False).sum()\n",
    "    data = data.set_index(\"Country/Region\").transpose()\n",
    "    data = data['Spain']\n",
    "    data = int(data.iloc[number_to_rest]) - int(data.iloc[number_to_rest-1])\n",
    "    return data\n",
    "\n",
    "def data_day_italy(data_path, number_to_rest):\n",
    "    data = pd.read_csv(data_path)\n",
    "    data = data.groupby(\"Country/Region\", as_index=False).sum()\n",
    "    data = data.set_index(\"Country/Region\").transpose()\n",
    "    data = data['Italy']\n",
    "    data = int(data.iloc[number_to_rest]) - int(data.iloc[number_to_rest-1])\n",
    "    return data\n",
    "\n",
    "def data_day_france(data_path, number_to_rest):\n",
    "    data = pd.read_csv(data_path)\n",
    "    data = data.groupby(\"Country/Region\", as_index=False).sum()\n",
    "    data = data.set_index(\"Country/Region\").transpose()\n",
    "    data = data['France']\n",
    "    data = int(data.iloc[number_to_rest]) - int(data.iloc[number_to_rest-1])\n",
    "    return data\n",
    "\n",
    "def data_day_germany(data_path, number_to_rest):\n",
    "    data = pd.read_csv(data_path)\n",
    "    data = data.groupby(\"Country/Region\", as_index=False).sum()\n",
    "    data = data.set_index(\"Country/Region\").transpose()\n",
    "    data = data['Germany']\n",
    "    data = int(data.iloc[number_to_rest]) - int(data.iloc[number_to_rest-1])\n",
    "    return data\n",
    "\n",
    "def create_dataframe(data_day_name, data_path, index_title):\n",
    "    dataframe = pd.DataFrame({day_consecutive(40): data_day_name(data_path, -40),\n",
    "                              day_consecutive(39): data_day_name(data_path, -39),\n",
    "                              day_consecutive(38): data_day_name(data_path, -38),\n",
    "                              day_consecutive(37): data_day_name(data_path, -37),\n",
    "                              day_consecutive(36): data_day_name(data_path, -36),\n",
    "                              day_consecutive(35): data_day_name(data_path, -35),\n",
    "                              day_consecutive(34): data_day_name(data_path, -34),\n",
    "                              day_consecutive(33): data_day_name(data_path, -33),\n",
    "                              day_consecutive(32): data_day_name(data_path, -32),\n",
    "                              day_consecutive(31): data_day_name(data_path, -31),\n",
    "                              day_consecutive(30): data_day_name(data_path, -30),\n",
    "                              day_consecutive(29): data_day_name(data_path, -29),\n",
    "                              day_consecutive(28): data_day_name(data_path, -28),\n",
    "                              day_consecutive(27): data_day_name(data_path, -27),\n",
    "                              day_consecutive(26): data_day_name(data_path, -26),\n",
    "                              day_consecutive(25): data_day_name(data_path, -25),\n",
    "                              day_consecutive(24): data_day_name(data_path, -24),\n",
    "                              day_consecutive(23): data_day_name(data_path, -23),\n",
    "                              day_consecutive(22): data_day_name(data_path, -22),\n",
    "                              day_consecutive(21): data_day_name(data_path, -21),\n",
    "                              day_consecutive(20): data_day_name(data_path, -20),\n",
    "                              day_consecutive(19): data_day_name(data_path, -19), \n",
    "                              day_consecutive(18): data_day_name(data_path, -18),\n",
    "                              day_consecutive(17): data_day_name(data_path, -17),\n",
    "                              day_consecutive(16): data_day_name(data_path, -16),\n",
    "                              day_consecutive(15): data_day_name(data_path, -15),\n",
    "                              day_consecutive(14): data_day_name(data_path, -14),\n",
    "                              day_consecutive(13): data_day_name(data_path, -13),\n",
    "                              day_consecutive(12): data_day_name(data_path, -12),\n",
    "                              day_consecutive(11): data_day_name(data_path, -11),\n",
    "                              day_consecutive(10): data_day_name(data_path, -10),\n",
    "                              day_consecutive(9): data_day_name(data_path, -9),\n",
    "                              day_consecutive(8): data_day_name(data_path, -8),\n",
    "                              day_consecutive(7): data_day_name(data_path, -7),\n",
    "                              day_consecutive(6): data_day_name(data_path, -6),\n",
    "                              day_consecutive(5): data_day_name(data_path, -5),\n",
    "                              day_consecutive(4): data_day_name(data_path, -4),\n",
    "                              day_consecutive(3): data_day_name(data_path, -3),\n",
    "                              day_consecutive(2): data_day_name(data_path, -2),\n",
    "                              day_consecutive(1): data_day_name(data_path, -1),\n",
    "                             }, index=index_title)\n",
    "                                    \n",
    "    return dataframe\n",
    "\n",
    "'''Si se cogen los datos de España de John Hopkins\n",
    "# data_spain_confirmed24h = create_dataframe(data_day, path_c, ['Confirmados (24h) en España'])\n",
    "# data_spain_deaths24h = create_dataframe(data_day, path_d, ['Fallecidos (24h) en España'])\n",
    "# data_spain_recovered24h = create_dataframe(data_day, path_r, ['Recuperados (24h) en España'])\n",
    "#### Juntar dataframes\n",
    "# data_spain_newcases24h = pd.concat([data_spain_confirmed24h,data_spain_recovered24h,data_spain_deaths24h], axis=0)\n",
    "# data_spain_newcases24h.to_csv('data_spain_newcases24h.csv', sep = ';')\n",
    "# data_spain_deaths24h.to_csv('data_spain_newcases24h_deaths.csv', sep = ';')\n",
    "'''\n",
    "\n",
    "######## Lo mismo en italia\n",
    "data_italy_confirmed24h = create_dataframe(data_day_italy, path_c, ['Confirmados (24h) en Italia'])\n",
    "data_italy_deaths24h = create_dataframe(data_day_italy, path_d, ['Fallecidos (24h) en Italia'])\n",
    "data_italy_recovered24h = create_dataframe(data_day_italy, path_r, ['Recuperados (24h) en Italia'])\n",
    "data_italy_newcases24h = pd.concat([data_italy_confirmed24h,data_italy_recovered24h,data_italy_deaths24h], axis=0)\n",
    "\n",
    "######## Lo mismo en Francia\n",
    "data_france_confirmed24h = create_dataframe(data_day_france, path_c, ['Confirmados (24h) en Francia'])\n",
    "data_france_deaths24h = create_dataframe(data_day_france, path_d, ['Fallecidos (24h) en Francia'])\n",
    "data_france_recovered24h = create_dataframe(data_day_france, path_r, ['Recuperados (24h) en Francia'])\n",
    "data_france_newcases24h = pd.concat([data_france_confirmed24h,data_france_recovered24h,data_france_deaths24h], axis=0)\n",
    "\n",
    "######## Lo mismo en Alemania\n",
    "data_germany_confirmed24h = create_dataframe(data_day_germany, path_c, ['Confirmados (24h) en Alemania'])\n",
    "data_germany_deaths24h = create_dataframe(data_day_germany, path_d, ['Fallecidos (24h) en Alemania'])\n",
    "data_germany_recovered24h = create_dataframe(data_day_germany, path_r, ['Recuperados (24h) en Alemania'])\n",
    "data_germany_newcases24h = pd.concat([data_germany_confirmed24h,data_germany_recovered24h,data_germany_deaths24h], axis=0)\n",
    "\n",
    "\n",
    "###### Juntar dataframes Spain + Italy sólo de fallecidos, OJO LOS DATOS DE SPAIN SE COGEN DEL CÁLCULO ANTERIOR DE DATADISTA\n",
    "data_somecountries_newcases24h_deaths = pd.concat([data_spain_deaths24h_datadista, data_italy_deaths24h,\n",
    "                                                   data_france_deaths24h, data_germany_deaths24h], axis=0)\n",
    "data_somecountries_newcases24h_deaths.to_csv('data_somecountries_newcases24h.csv', sep = ';')\n",
    "data_somecountries_newcases24h_deaths\n"
   ]
  },
  {
   "cell_type": "markdown",
   "metadata": {},
   "source": [
    "## ESPAÑA: Evolución temporal casos confirmados"
   ]
  },
  {
   "cell_type": "code",
   "execution_count": 16,
   "metadata": {},
   "outputs": [
    {
     "output_type": "execute_result",
     "data": {
      "text/plain": "                       2020-02-21  2020-02-22  2020-02-23  2020-02-24  \\\nComunidades Autónomas                                                   \nAndalucía                       0           0           0           0   \nAragón                          0           0           0           0   \nAsturias                        0           0           0           0   \nBaleares                        1           1           1           1   \nCanarias                        1           1           1           1   \nCantabria                       0           0           0           0   \nCastilla La Mancha              0           0           0           0   \nCastilla y León                 0           0           0           0   \nCataluña                        0           0           0           0   \nCeuta                           0           0           0           0   \nC. Valenciana                   0           0           0           0   \nExtremadura                     0           0           0           0   \nGalicia                         0           0           0           0   \nMadrid                          0           0           0           0   \nMelilla                         0           0           0           0   \nMurcia                          0           0           0           0   \nNavarra                         0           0           0           0   \nPaís Vasco                      0           0           0           0   \nLa Rioja                        0           0           0           0   \n\n                       2020-02-25  2020-02-26  2020-02-27  2020-02-28  \\\nComunidades Autónomas                                                   \nAndalucía                       0           0           1           6   \nAragón                          0           0           0           0   \nAsturias                        0           0           0           0   \nBaleares                        1           1           1           1   \nCanarias                        2           5           6           6   \nCantabria                       0           0           0           0   \nCastilla La Mancha              0           0           0           0   \nCastilla y León                 0           0           0           0   \nCataluña                        0           1           2           3   \nCeuta                           0           0           0           0   \nC. Valenciana                   0           1           2           8   \nExtremadura                     0           0           0           0   \nGalicia                         0           0           0           0   \nMadrid                          0           1           5           9   \nMelilla                         0           0           0           0   \nMurcia                          0           0           0           0   \nNavarra                         0           0           0           0   \nPaís Vasco                      0           0           0           0   \nLa Rioja                        0           0           0           0   \n\n                       2020-02-29  2020-03-01  ...  2020-04-25  2020-04-26  \\\nComunidades Autónomas                          ...                           \nAndalucía                       8          12  ...       12792       12991   \nAragón                          0           0  ...        5382        5456   \nAsturias                        0           1  ...        2546        2601   \nBaleares                        2           2  ...        1907        1917   \nCanarias                        6           7  ...        2155        2167   \nCantabria                       0           1  ...        2315        2330   \nCastilla La Mancha              0           1  ...       18525       18995   \nCastilla y León                 2           2  ...       18259       18684   \nCataluña                        5           6  ...       47288       47838   \nCeuta                           0           0  ...         125         131   \nC. Valenciana                  10          15  ...       11123       11372   \nExtremadura                     0           4  ...        3458        3465   \nGalicia                         0           0  ...        9116        9176   \nMadrid                         19          26  ...       64175       64400   \nMelilla                         0           0  ...         118         121   \nMurcia                          0           0  ...        1756        1771   \nNavarra                         0           1  ...        5274        5452   \nPaís Vasco                      2           3  ...       14132       14315   \nLa Rioja                        0           0  ...        4946        4998   \n\n                       2020-04-27  2020-04-28  2020-04-29  2020-04-30  \\\nComunidades Autónomas                                                   \nAndalucía                   13128       13218       13469       13656   \nAragón                       5504        5557        5652        5971   \nAsturias                     2677        2688        2797        2828   \nBaleares                     1922        1940        1950        1955   \nCanarias                     2178        2187        2202        2205   \nCantabria                    2350        2386        2439        2505   \nCastilla La Mancha          19286       19518       19795       20071   \nCastilla y León             19028       19372       19851       20312   \nCataluña                    48782       49185       49681       49943   \nCeuta                         131         134         139         146   \nC. Valenciana               11412       11658       11816       12058   \nExtremadura                  3480        3487        3513        3538   \nGalicia                      9238        9328        9466        9545   \nMadrid                      64839       65524       66056       66504   \nMelilla                       121         125         125         125   \nMurcia                       1771        1793        1840        1894   \nNavarra                      5486        5630        5884        6140   \nPaís Vasco                  14412       14804       15138       15519   \nLa Rioja                     5041        5097        5173        5206   \n\n                       2020-05-01  2020-05-02  2020-05-03  2020-05-04  \nComunidades Autónomas                                                  \nAndalucía                   13914       14163       14287       14349  \nAragón                       6103        6164        6208        6239  \nAsturias                     2853        2864        2884        2991  \nBaleares                     1970        1984        1990        1991  \nCanarias                     2206        2212        2221        2225  \nCantabria                    2547        2577        2589        2596  \nCastilla La Mancha          20516       21023       21290       21511  \nCastilla y León             20739       20999       21229       21379  \nCataluña                    50334       50877       51261       51393  \nCeuta                         151         152         152         152  \nC. Valenciana               12209       12514       12686       12834  \nExtremadura                  3630        3690        3712        3722  \nGalicia                      9696        9750        9815        9859  \nMadrid                      66870       66931       67003       67004  \nMelilla                       126         126         129         131  \nMurcia                       1960        1966        1974        1974  \nNavarra                      6337        6411        6427        6447  \nPaís Vasco                  15969       16119       16197       16246  \nLa Rioja                     5226        5239        5247        5258  \n\n[19 rows x 74 columns]",
      "text/html": "<div>\n<style scoped>\n    .dataframe tbody tr th:only-of-type {\n        vertical-align: middle;\n    }\n\n    .dataframe tbody tr th {\n        vertical-align: top;\n    }\n\n    .dataframe thead th {\n        text-align: right;\n    }\n</style>\n<table border=\"1\" class=\"dataframe\">\n  <thead>\n    <tr style=\"text-align: right;\">\n      <th></th>\n      <th>2020-02-21</th>\n      <th>2020-02-22</th>\n      <th>2020-02-23</th>\n      <th>2020-02-24</th>\n      <th>2020-02-25</th>\n      <th>2020-02-26</th>\n      <th>2020-02-27</th>\n      <th>2020-02-28</th>\n      <th>2020-02-29</th>\n      <th>2020-03-01</th>\n      <th>...</th>\n      <th>2020-04-25</th>\n      <th>2020-04-26</th>\n      <th>2020-04-27</th>\n      <th>2020-04-28</th>\n      <th>2020-04-29</th>\n      <th>2020-04-30</th>\n      <th>2020-05-01</th>\n      <th>2020-05-02</th>\n      <th>2020-05-03</th>\n      <th>2020-05-04</th>\n    </tr>\n    <tr>\n      <th>Comunidades Autónomas</th>\n      <th></th>\n      <th></th>\n      <th></th>\n      <th></th>\n      <th></th>\n      <th></th>\n      <th></th>\n      <th></th>\n      <th></th>\n      <th></th>\n      <th></th>\n      <th></th>\n      <th></th>\n      <th></th>\n      <th></th>\n      <th></th>\n      <th></th>\n      <th></th>\n      <th></th>\n      <th></th>\n      <th></th>\n    </tr>\n  </thead>\n  <tbody>\n    <tr>\n      <th>Andalucía</th>\n      <td>0</td>\n      <td>0</td>\n      <td>0</td>\n      <td>0</td>\n      <td>0</td>\n      <td>0</td>\n      <td>1</td>\n      <td>6</td>\n      <td>8</td>\n      <td>12</td>\n      <td>...</td>\n      <td>12792</td>\n      <td>12991</td>\n      <td>13128</td>\n      <td>13218</td>\n      <td>13469</td>\n      <td>13656</td>\n      <td>13914</td>\n      <td>14163</td>\n      <td>14287</td>\n      <td>14349</td>\n    </tr>\n    <tr>\n      <th>Aragón</th>\n      <td>0</td>\n      <td>0</td>\n      <td>0</td>\n      <td>0</td>\n      <td>0</td>\n      <td>0</td>\n      <td>0</td>\n      <td>0</td>\n      <td>0</td>\n      <td>0</td>\n      <td>...</td>\n      <td>5382</td>\n      <td>5456</td>\n      <td>5504</td>\n      <td>5557</td>\n      <td>5652</td>\n      <td>5971</td>\n      <td>6103</td>\n      <td>6164</td>\n      <td>6208</td>\n      <td>6239</td>\n    </tr>\n    <tr>\n      <th>Asturias</th>\n      <td>0</td>\n      <td>0</td>\n      <td>0</td>\n      <td>0</td>\n      <td>0</td>\n      <td>0</td>\n      <td>0</td>\n      <td>0</td>\n      <td>0</td>\n      <td>1</td>\n      <td>...</td>\n      <td>2546</td>\n      <td>2601</td>\n      <td>2677</td>\n      <td>2688</td>\n      <td>2797</td>\n      <td>2828</td>\n      <td>2853</td>\n      <td>2864</td>\n      <td>2884</td>\n      <td>2991</td>\n    </tr>\n    <tr>\n      <th>Baleares</th>\n      <td>1</td>\n      <td>1</td>\n      <td>1</td>\n      <td>1</td>\n      <td>1</td>\n      <td>1</td>\n      <td>1</td>\n      <td>1</td>\n      <td>2</td>\n      <td>2</td>\n      <td>...</td>\n      <td>1907</td>\n      <td>1917</td>\n      <td>1922</td>\n      <td>1940</td>\n      <td>1950</td>\n      <td>1955</td>\n      <td>1970</td>\n      <td>1984</td>\n      <td>1990</td>\n      <td>1991</td>\n    </tr>\n    <tr>\n      <th>Canarias</th>\n      <td>1</td>\n      <td>1</td>\n      <td>1</td>\n      <td>1</td>\n      <td>2</td>\n      <td>5</td>\n      <td>6</td>\n      <td>6</td>\n      <td>6</td>\n      <td>7</td>\n      <td>...</td>\n      <td>2155</td>\n      <td>2167</td>\n      <td>2178</td>\n      <td>2187</td>\n      <td>2202</td>\n      <td>2205</td>\n      <td>2206</td>\n      <td>2212</td>\n      <td>2221</td>\n      <td>2225</td>\n    </tr>\n    <tr>\n      <th>Cantabria</th>\n      <td>0</td>\n      <td>0</td>\n      <td>0</td>\n      <td>0</td>\n      <td>0</td>\n      <td>0</td>\n      <td>0</td>\n      <td>0</td>\n      <td>0</td>\n      <td>1</td>\n      <td>...</td>\n      <td>2315</td>\n      <td>2330</td>\n      <td>2350</td>\n      <td>2386</td>\n      <td>2439</td>\n      <td>2505</td>\n      <td>2547</td>\n      <td>2577</td>\n      <td>2589</td>\n      <td>2596</td>\n    </tr>\n    <tr>\n      <th>Castilla La Mancha</th>\n      <td>0</td>\n      <td>0</td>\n      <td>0</td>\n      <td>0</td>\n      <td>0</td>\n      <td>0</td>\n      <td>0</td>\n      <td>0</td>\n      <td>0</td>\n      <td>1</td>\n      <td>...</td>\n      <td>18525</td>\n      <td>18995</td>\n      <td>19286</td>\n      <td>19518</td>\n      <td>19795</td>\n      <td>20071</td>\n      <td>20516</td>\n      <td>21023</td>\n      <td>21290</td>\n      <td>21511</td>\n    </tr>\n    <tr>\n      <th>Castilla y León</th>\n      <td>0</td>\n      <td>0</td>\n      <td>0</td>\n      <td>0</td>\n      <td>0</td>\n      <td>0</td>\n      <td>0</td>\n      <td>0</td>\n      <td>2</td>\n      <td>2</td>\n      <td>...</td>\n      <td>18259</td>\n      <td>18684</td>\n      <td>19028</td>\n      <td>19372</td>\n      <td>19851</td>\n      <td>20312</td>\n      <td>20739</td>\n      <td>20999</td>\n      <td>21229</td>\n      <td>21379</td>\n    </tr>\n    <tr>\n      <th>Cataluña</th>\n      <td>0</td>\n      <td>0</td>\n      <td>0</td>\n      <td>0</td>\n      <td>0</td>\n      <td>1</td>\n      <td>2</td>\n      <td>3</td>\n      <td>5</td>\n      <td>6</td>\n      <td>...</td>\n      <td>47288</td>\n      <td>47838</td>\n      <td>48782</td>\n      <td>49185</td>\n      <td>49681</td>\n      <td>49943</td>\n      <td>50334</td>\n      <td>50877</td>\n      <td>51261</td>\n      <td>51393</td>\n    </tr>\n    <tr>\n      <th>Ceuta</th>\n      <td>0</td>\n      <td>0</td>\n      <td>0</td>\n      <td>0</td>\n      <td>0</td>\n      <td>0</td>\n      <td>0</td>\n      <td>0</td>\n      <td>0</td>\n      <td>0</td>\n      <td>...</td>\n      <td>125</td>\n      <td>131</td>\n      <td>131</td>\n      <td>134</td>\n      <td>139</td>\n      <td>146</td>\n      <td>151</td>\n      <td>152</td>\n      <td>152</td>\n      <td>152</td>\n    </tr>\n    <tr>\n      <th>C. Valenciana</th>\n      <td>0</td>\n      <td>0</td>\n      <td>0</td>\n      <td>0</td>\n      <td>0</td>\n      <td>1</td>\n      <td>2</td>\n      <td>8</td>\n      <td>10</td>\n      <td>15</td>\n      <td>...</td>\n      <td>11123</td>\n      <td>11372</td>\n      <td>11412</td>\n      <td>11658</td>\n      <td>11816</td>\n      <td>12058</td>\n      <td>12209</td>\n      <td>12514</td>\n      <td>12686</td>\n      <td>12834</td>\n    </tr>\n    <tr>\n      <th>Extremadura</th>\n      <td>0</td>\n      <td>0</td>\n      <td>0</td>\n      <td>0</td>\n      <td>0</td>\n      <td>0</td>\n      <td>0</td>\n      <td>0</td>\n      <td>0</td>\n      <td>4</td>\n      <td>...</td>\n      <td>3458</td>\n      <td>3465</td>\n      <td>3480</td>\n      <td>3487</td>\n      <td>3513</td>\n      <td>3538</td>\n      <td>3630</td>\n      <td>3690</td>\n      <td>3712</td>\n      <td>3722</td>\n    </tr>\n    <tr>\n      <th>Galicia</th>\n      <td>0</td>\n      <td>0</td>\n      <td>0</td>\n      <td>0</td>\n      <td>0</td>\n      <td>0</td>\n      <td>0</td>\n      <td>0</td>\n      <td>0</td>\n      <td>0</td>\n      <td>...</td>\n      <td>9116</td>\n      <td>9176</td>\n      <td>9238</td>\n      <td>9328</td>\n      <td>9466</td>\n      <td>9545</td>\n      <td>9696</td>\n      <td>9750</td>\n      <td>9815</td>\n      <td>9859</td>\n    </tr>\n    <tr>\n      <th>Madrid</th>\n      <td>0</td>\n      <td>0</td>\n      <td>0</td>\n      <td>0</td>\n      <td>0</td>\n      <td>1</td>\n      <td>5</td>\n      <td>9</td>\n      <td>19</td>\n      <td>26</td>\n      <td>...</td>\n      <td>64175</td>\n      <td>64400</td>\n      <td>64839</td>\n      <td>65524</td>\n      <td>66056</td>\n      <td>66504</td>\n      <td>66870</td>\n      <td>66931</td>\n      <td>67003</td>\n      <td>67004</td>\n    </tr>\n    <tr>\n      <th>Melilla</th>\n      <td>0</td>\n      <td>0</td>\n      <td>0</td>\n      <td>0</td>\n      <td>0</td>\n      <td>0</td>\n      <td>0</td>\n      <td>0</td>\n      <td>0</td>\n      <td>0</td>\n      <td>...</td>\n      <td>118</td>\n      <td>121</td>\n      <td>121</td>\n      <td>125</td>\n      <td>125</td>\n      <td>125</td>\n      <td>126</td>\n      <td>126</td>\n      <td>129</td>\n      <td>131</td>\n    </tr>\n    <tr>\n      <th>Murcia</th>\n      <td>0</td>\n      <td>0</td>\n      <td>0</td>\n      <td>0</td>\n      <td>0</td>\n      <td>0</td>\n      <td>0</td>\n      <td>0</td>\n      <td>0</td>\n      <td>0</td>\n      <td>...</td>\n      <td>1756</td>\n      <td>1771</td>\n      <td>1771</td>\n      <td>1793</td>\n      <td>1840</td>\n      <td>1894</td>\n      <td>1960</td>\n      <td>1966</td>\n      <td>1974</td>\n      <td>1974</td>\n    </tr>\n    <tr>\n      <th>Navarra</th>\n      <td>0</td>\n      <td>0</td>\n      <td>0</td>\n      <td>0</td>\n      <td>0</td>\n      <td>0</td>\n      <td>0</td>\n      <td>0</td>\n      <td>0</td>\n      <td>1</td>\n      <td>...</td>\n      <td>5274</td>\n      <td>5452</td>\n      <td>5486</td>\n      <td>5630</td>\n      <td>5884</td>\n      <td>6140</td>\n      <td>6337</td>\n      <td>6411</td>\n      <td>6427</td>\n      <td>6447</td>\n    </tr>\n    <tr>\n      <th>País Vasco</th>\n      <td>0</td>\n      <td>0</td>\n      <td>0</td>\n      <td>0</td>\n      <td>0</td>\n      <td>0</td>\n      <td>0</td>\n      <td>0</td>\n      <td>2</td>\n      <td>3</td>\n      <td>...</td>\n      <td>14132</td>\n      <td>14315</td>\n      <td>14412</td>\n      <td>14804</td>\n      <td>15138</td>\n      <td>15519</td>\n      <td>15969</td>\n      <td>16119</td>\n      <td>16197</td>\n      <td>16246</td>\n    </tr>\n    <tr>\n      <th>La Rioja</th>\n      <td>0</td>\n      <td>0</td>\n      <td>0</td>\n      <td>0</td>\n      <td>0</td>\n      <td>0</td>\n      <td>0</td>\n      <td>0</td>\n      <td>0</td>\n      <td>0</td>\n      <td>...</td>\n      <td>4946</td>\n      <td>4998</td>\n      <td>5041</td>\n      <td>5097</td>\n      <td>5173</td>\n      <td>5206</td>\n      <td>5226</td>\n      <td>5239</td>\n      <td>5247</td>\n      <td>5258</td>\n    </tr>\n  </tbody>\n</table>\n<p>19 rows × 74 columns</p>\n</div>"
     },
     "metadata": {},
     "execution_count": 16
    }
   ],
   "source": [
    "# Preparar Evolucion temporal confirmed\n",
    "data_ccaa_confirmed_timeseries_final = data_ccaa_confirmed_timeseries.drop(columns=['cod_ine'])\n",
    "data_ccaa_confirmed_timeseries_final.rename(columns = {'CCAA': 'Comunidades Autónomas'}, inplace = True)\n",
    "data_ccaa_confirmed_timeseries_final = data_ccaa_confirmed_timeseries_final.set_index('Comunidades Autónomas')\n",
    "data_ccaa_confirmed_timeseries_final = data_ccaa_confirmed_timeseries_final.iloc[0:19]\n",
    "\n",
    "# Exportar Evolucion temporal confirmed\n",
    "data_ccaa_confirmed_timeseries_final.to_csv('data_ccaa_evolution_confirmed.csv', sep = ';', encoding=\"utf-8\", index=True, index_label='Comunidades Autónomas')\n",
    "data_ccaa_confirmed_timeseries_final"
   ]
  },
  {
   "cell_type": "markdown",
   "metadata": {},
   "source": [
    "## ESPAÑA: Resúmenes por comunidades autónomas"
   ]
  },
  {
   "cell_type": "code",
   "execution_count": 17,
   "metadata": {},
   "outputs": [
    {
     "output_type": "execute_result",
     "data": {
      "text/plain": "                       Confirmados (24h)  Curados (24h)  Fallecidos (24h)\nComunidades Autónomas                                                    \nAndalucía                             62            124                 7\nAragón                                31             66                 1\nAsturias                             107              9                 4\nBaleares                               1             10                 0\nCanarias                               4             16                 1\nCantabria                              7             -6                 2\nCastilla La Mancha                   221             22                25\nCastilla y León                      150             44                18\nCataluña                             132           1566                35\nCeuta                                  0              1                 0\nC. Valenciana                        148             59                 5\nExtremadura                           10             18                 0\nGalicia                               44            159                 6\nMadrid                                 1            104                44\nMelilla                                2              3                 0\nMurcia                                 0             17                 0\nNavarra                               20             83                 4\nPaís Vasco                            49            131                12\nLa Rioja                              11             15                 0",
      "text/html": "<div>\n<style scoped>\n    .dataframe tbody tr th:only-of-type {\n        vertical-align: middle;\n    }\n\n    .dataframe tbody tr th {\n        vertical-align: top;\n    }\n\n    .dataframe thead th {\n        text-align: right;\n    }\n</style>\n<table border=\"1\" class=\"dataframe\">\n  <thead>\n    <tr style=\"text-align: right;\">\n      <th></th>\n      <th>Confirmados (24h)</th>\n      <th>Curados (24h)</th>\n      <th>Fallecidos (24h)</th>\n    </tr>\n    <tr>\n      <th>Comunidades Autónomas</th>\n      <th></th>\n      <th></th>\n      <th></th>\n    </tr>\n  </thead>\n  <tbody>\n    <tr>\n      <th>Andalucía</th>\n      <td>62</td>\n      <td>124</td>\n      <td>7</td>\n    </tr>\n    <tr>\n      <th>Aragón</th>\n      <td>31</td>\n      <td>66</td>\n      <td>1</td>\n    </tr>\n    <tr>\n      <th>Asturias</th>\n      <td>107</td>\n      <td>9</td>\n      <td>4</td>\n    </tr>\n    <tr>\n      <th>Baleares</th>\n      <td>1</td>\n      <td>10</td>\n      <td>0</td>\n    </tr>\n    <tr>\n      <th>Canarias</th>\n      <td>4</td>\n      <td>16</td>\n      <td>1</td>\n    </tr>\n    <tr>\n      <th>Cantabria</th>\n      <td>7</td>\n      <td>-6</td>\n      <td>2</td>\n    </tr>\n    <tr>\n      <th>Castilla La Mancha</th>\n      <td>221</td>\n      <td>22</td>\n      <td>25</td>\n    </tr>\n    <tr>\n      <th>Castilla y León</th>\n      <td>150</td>\n      <td>44</td>\n      <td>18</td>\n    </tr>\n    <tr>\n      <th>Cataluña</th>\n      <td>132</td>\n      <td>1566</td>\n      <td>35</td>\n    </tr>\n    <tr>\n      <th>Ceuta</th>\n      <td>0</td>\n      <td>1</td>\n      <td>0</td>\n    </tr>\n    <tr>\n      <th>C. Valenciana</th>\n      <td>148</td>\n      <td>59</td>\n      <td>5</td>\n    </tr>\n    <tr>\n      <th>Extremadura</th>\n      <td>10</td>\n      <td>18</td>\n      <td>0</td>\n    </tr>\n    <tr>\n      <th>Galicia</th>\n      <td>44</td>\n      <td>159</td>\n      <td>6</td>\n    </tr>\n    <tr>\n      <th>Madrid</th>\n      <td>1</td>\n      <td>104</td>\n      <td>44</td>\n    </tr>\n    <tr>\n      <th>Melilla</th>\n      <td>2</td>\n      <td>3</td>\n      <td>0</td>\n    </tr>\n    <tr>\n      <th>Murcia</th>\n      <td>0</td>\n      <td>17</td>\n      <td>0</td>\n    </tr>\n    <tr>\n      <th>Navarra</th>\n      <td>20</td>\n      <td>83</td>\n      <td>4</td>\n    </tr>\n    <tr>\n      <th>País Vasco</th>\n      <td>49</td>\n      <td>131</td>\n      <td>12</td>\n    </tr>\n    <tr>\n      <th>La Rioja</th>\n      <td>11</td>\n      <td>15</td>\n      <td>0</td>\n    </tr>\n  </tbody>\n</table>\n</div>"
     },
     "metadata": {},
     "execution_count": 17
    }
   ],
   "source": [
    "# SOLO HACER CUANDO LOS DATOS EN DATADISTA ESTÉN ACTUALIZADOS, SI NO, NO FUNCIONA\n",
    "\n",
    "# Confirmados por CCAA\n",
    "data_ccaa_confirmed_today = data_ccaa_confirmed_timeseries[['CCAA', date_today_large]]\n",
    "data_ccaa_confirmed_today.rename(columns = {date_today_large : 'Confirmados', 'CCAA' : 'Comunidades Autónomas'}, inplace = True)\n",
    "data_ccaa_confirmed_today = data_ccaa_confirmed_today.set_index('Comunidades Autónomas')\n",
    "data_ccaa_confirmed_today = data_ccaa_confirmed_today.copy().iloc[0:19]\n",
    "\n",
    "# New cases\n",
    "data_ccaa_confirmed_daybefore = data_ccaa_confirmed_timeseries[['CCAA', date_daybefore_large]]\n",
    "data_ccaa_confirmed_daybefore.rename(columns = {date_daybefore_large : 'Confirmados', 'CCAA' : 'Comunidades Autónomas'}, inplace = True)\n",
    "data_ccaa_confirmed_daybefore = data_ccaa_confirmed_daybefore.set_index('Comunidades Autónomas')\n",
    "data_ccaa_confirmed_newcases = data_ccaa_confirmed_today - data_ccaa_confirmed_daybefore\n",
    "data_ccaa_confirmed_newcases = data_ccaa_confirmed_newcases.copy().iloc[0:19]\n",
    "data_ccaa_confirmed_newcases.rename(columns = {'Confirmados': 'Confirmados (24h)'}, inplace = True)\n",
    "\n",
    "\n",
    "# Fallecidos por CCAA\n",
    "data_ccaa_deaths_today = data_ccaa_deaths_timeseries[['CCAA', date_today_large]]\n",
    "data_ccaa_deaths_today.rename(columns = {date_today_large : 'Fallecidos', 'CCAA' : 'Comunidades Autónomas'}, inplace = True)\n",
    "data_ccaa_deaths_today = data_ccaa_deaths_today.set_index('Comunidades Autónomas')\n",
    "data_ccaa_deaths_today = data_ccaa_deaths_today.copy().iloc[0:19]\n",
    "\n",
    "# New cases\n",
    "data_ccaa_deaths_daybefore = data_ccaa_deaths_timeseries[['CCAA', date_daybefore_large]]\n",
    "data_ccaa_deaths_daybefore.rename(columns = {date_daybefore_large : 'Fallecidos', 'CCAA' : 'Comunidades Autónomas'}, inplace = True)\n",
    "data_ccaa_deaths_daybefore = data_ccaa_deaths_daybefore.set_index('Comunidades Autónomas')\n",
    "data_ccaa_deaths_newcases = data_ccaa_deaths_today - data_ccaa_deaths_daybefore\n",
    "data_ccaa_deaths_newcases = data_ccaa_deaths_newcases.copy().iloc[0:19]\n",
    "data_ccaa_deaths_newcases.rename(columns = {'Fallecidos': 'Fallecidos (24h)'}, inplace = True)\n",
    "\n",
    "\n",
    "# Recuperados por CCAA\n",
    "data_ccaa_recovered_today = data_ccaa_recovered_timeseries[['CCAA', date_today_large]]\n",
    "data_ccaa_recovered_today.rename(columns = {date_today_large : 'Curados', 'CCAA' : 'Comunidades Autónomas'}, inplace = True)\n",
    "data_ccaa_recovered_today = data_ccaa_recovered_today.set_index('Comunidades Autónomas')\n",
    "data_ccaa_recovered_today = data_ccaa_recovered_today.copy().iloc[0:19]\n",
    "# New cases\n",
    "data_ccaa_recovered_daybefore = data_ccaa_recovered_timeseries[['CCAA', date_daybefore_large]]\n",
    "data_ccaa_recovered_daybefore.rename(columns = {date_daybefore_large : 'Curados', 'CCAA' : 'Comunidades Autónomas'}, inplace = True)\n",
    "data_ccaa_recovered_daybefore = data_ccaa_recovered_daybefore.set_index('Comunidades Autónomas')\n",
    "data_ccaa_recovered_newcases = data_ccaa_recovered_today - data_ccaa_recovered_daybefore\n",
    "data_ccaa_recovered_newcases = data_ccaa_recovered_newcases.copy().iloc[0:19]\n",
    "data_ccaa_recovered_newcases.rename(columns = {'Curados': 'Curados (24h)'}, inplace = True)\n",
    "\n",
    "\n",
    "#Juntar los tres dataframes confirmados + curados + fallecidos\n",
    "data_ccaa_confirmed_recovered_deaths = pd.concat([data_ccaa_confirmed_today, data_ccaa_recovered_today, data_ccaa_deaths_today,], axis=1)\n",
    "\n",
    "# Juntar los tres dataframes nuevos casos\n",
    "data_ccaa_newcases_confirmed_recovered_deaths = pd.concat([data_ccaa_confirmed_newcases, data_ccaa_recovered_newcases, data_ccaa_deaths_newcases], axis=1)\n",
    "\n",
    "# Exportar por grupos\n",
    "data_ccaa_confirmed_recovered_deaths.to_csv('data_ccaa_confirmed_recovered_deaths.csv', sep = ';', encoding=\"utf-8\", index=True, index_label='Comunidades Autónomas')\n",
    "data_ccaa_newcases_confirmed_recovered_deaths.to_csv('data_ccaa_newcases_confirmed_recovered_deaths.csv', sep = ';', encoding=\"utf-8\", index=True, index_label='Comunidades Autónomas')\n",
    "\n",
    "data_ccaa_newcases_confirmed_recovered_deaths"
   ]
  },
  {
   "cell_type": "markdown",
   "metadata": {},
   "source": [
    "## ESPAÑA: Análisis por rangos de edad"
   ]
  },
  {
   "cell_type": "code",
   "execution_count": 18,
   "metadata": {},
   "outputs": [
    {
     "output_type": "execute_result",
     "data": {
      "text/plain": "fecha                33\nrango_edad           33\nsexo                 33\ncasos_confirmados    33\nhospitalizados       33\ningresos_uci         33\nfallecidos           33\ndtype: int64"
     },
     "metadata": {},
     "execution_count": 18
    }
   ],
   "source": [
    "#Comprobar si están subidos los últimos datos, si sale 0 es que no hay datos\n",
    "data_spain_ccaa_age = pd.read_csv(\"https://raw.githubusercontent.com/datadista/datasets/master/COVID%2019/nacional_covid19_rango_edad.csv\", sep = ',')\n",
    "data_spain_ccaa_age[data_spain_ccaa_age[\"fecha\"] == date_today_large].count()"
   ]
  },
  {
   "cell_type": "code",
   "execution_count": 19,
   "metadata": {},
   "outputs": [
    {
     "output_type": "stream",
     "name": "stdout",
     "text": "Confirmados  Hospitalizados  Fallecidos\nTotal mujeres           121832           38183        7238\nTotal hombres            95013           49276        9940\nTotal ambos sexos       216848           87463       17178\n               Confirmados  Hospitalizados  Fallecidos\nRango de edad                                         \n0-9                    401             140           1\n10-19                  589             123           2\n20-29                 3953             657          14\n30-39                 7521            1852          35\n40-49                13010            4859         113\n50-59                16788            8029         405\n60-69                16698           10137        1079\n70-79                17046           12037        2908\n80-89                14480            9206        3997\n90 y +                4527            2236        1386\n"
    }
   ],
   "source": [
    "data_spain_ccaa_age = pd.read_csv(\"https://raw.githubusercontent.com/datadista/datasets/master/COVID%2019/nacional_covid19_rango_edad.csv\", sep = ',')\n",
    "data_spain_ccaa_age = data_spain_ccaa_age[data_spain_ccaa_age[\"fecha\"] == date_today_large]\n",
    "\n",
    "def take_edad(sexo):\n",
    "    data_spain_ccaa_age_all = data_spain_ccaa_age[data_spain_ccaa_age[\"sexo\"] == sexo]\n",
    "    #Para sacar datos total\n",
    "    data_spain_ccaa_age_total = data_spain_ccaa_age_all.tail(1)\n",
    "    data_spain_ccaa_age_total = data_spain_ccaa_age_total.iloc[:, [3,4,6]]\n",
    "    data_spain_ccaa_age_total.columns = ['Confirmados','Hospitalizados', 'Fallecidos']\n",
    "    #Para sacar datos concretos (de ambos, hombres y mujeres)\n",
    "    data_spain_ccaa_age_concrete = data_spain_ccaa_age_all[:-1]\n",
    "    data_spain_ccaa_age_concrete = data_spain_ccaa_age_concrete.iloc[:, [1,3,4,6]]\n",
    "    data_spain_ccaa_age_concrete.columns = ['Rango de edad','Confirmados','Hospitalizados', 'Fallecidos']\n",
    "    data_spain_ccaa_age_concrete.set_index('Rango de edad', inplace=True)\n",
    "    return data_spain_ccaa_age_concrete, data_spain_ccaa_age_total\n",
    "\n",
    "\n",
    "data_spain_ccaa_age_ambos_concrete, data_spain_ccaa_age_ambos_total = take_edad('ambos')\n",
    "data_spain_ccaa_age_hombres_concrete, data_spain_ccaa_age_hombres_total = take_edad('hombres')\n",
    "data_spain_ccaa_age_mujeres_concrete, data_spain_ccaa_age_mujeres_total = take_edad('mujeres')\n",
    "\n",
    "\n",
    "data_spain_ccaa_age_ambos_total.index = ['Total ambos sexos']\n",
    "data_spain_ccaa_age_hombres_total.index = ['Total hombres']\n",
    "data_spain_ccaa_age_mujeres_total.index = ['Total mujeres']\n",
    "data_spain_ccaa_age_ambos_concat = pd.concat([data_spain_ccaa_age_mujeres_total, data_spain_ccaa_age_hombres_total, \n",
    "                                             data_spain_ccaa_age_ambos_total], axis=0)\n",
    "\n",
    "data_spain_ccaa_age_mujeres_concrete.to_csv('data_spain_ages_mujeres.csv', sep = ';', encoding=\"utf-8\")\n",
    "data_spain_ccaa_age_hombres_concrete.to_csv('data_spain_ages_hombres.csv', sep = ';', encoding=\"utf-8\")\n",
    "data_spain_ccaa_age_ambos_concat.to_csv('data_spain_ages_ambos.csv', sep = ';', encoding=\"utf-8\")\n",
    "\n",
    "print(data_spain_ccaa_age_ambos_concat)\n",
    "print(data_spain_ccaa_age_hombres_concrete)"
   ]
  },
  {
   "cell_type": "markdown",
   "metadata": {},
   "source": [
    "# Subir archivos a SERVIDOR desde FTP"
   ]
  },
  {
   "cell_type": "code",
   "execution_count": 20,
   "metadata": {},
   "outputs": [
    {
     "output_type": "stream",
     "name": "stdout",
     "text": "230-OK. Current restricted directory is /\n230 408 Kbytes used (0%) - authorized: 51200 Kb\ndrwxr-xr-x    2 akakicre   akakicre         4096 May  3 11:29 .\ndrwxr-xr-x    2 akakicre   akakicre         4096 May  3 11:29 ..\n-rw-r--r--    1 akakicre   akakicre           10 May  3 17:01 .ftpquota\n-rw-r--r--    1 akakicre   akakicre       154291 Apr  3 13:34 Imagen_github.jpg\n-rw-r--r--    1 akakicre   akakicre          520 May  3 17:01 data_ccaa_confirmed_recovered_deaths.csv\n-rw-r--r--    1 akakicre   akakicre         6711 May  3 17:01 data_ccaa_evolution_confirmed.csv\n-rw-r--r--    1 akakicre   akakicre         3603 May  3 17:01 data_ccaa_evolution_deaths.csv\n-rw-r--r--    1 akakicre   akakicre         3064 May  3 17:01 data_ccaa_evolution_recovered.csv\n-rw-r--r--    1 akakicre   akakicre          421 May  3 17:01 data_ccaa_newcases_confirmed_recovered_deaths.csv\n-rw-r--r--    1 akakicre   akakicre         1188 May  3 17:01 data_somecountries_newcases.csv\n-rw-r--r--    1 akakicre   akakicre          139 May  3 17:01 data_spain_ages_ambos.csv\n-rw-r--r--    1 akakicre   akakicre          251 May  3 17:01 data_spain_ages_hombres.csv\n-rw-r--r--    1 akakicre   akakicre          248 May  3 17:01 data_spain_ages_mujeres.csv\n-rw-r--r--    1 akakicre   akakicre         1087 May  3 17:01 data_spain_newcases24h.csv\n-rw-r--r--    1 akakicre   akakicre          629 May  3 17:01 data_spain_newcases24h_deaths.csv\n-rw-r--r--    1 akakicre   akakicre          848 Apr 29 08:38 data_spotify_duo_positions.csv\n-rw-r--r--    1 akakicre   akakicre          997 Apr 29 08:38 data_spotify_duo_streams.csv\n-rw-r--r--    1 akakicre   akakicre         3519 Apr 29 08:39 data_spotify_top10_position.csv\n-rw-r--r--    1 akakicre   akakicre         2061 Apr 29 08:39 data_spotify_up_position.csv\n-rw-r--r--    1 akakicre   akakicre         3068 Apr 29 08:39 data_spotify_up_streams.csv\n-rw-r--r--    1 akakicre   akakicre         1185 Apr 29 08:39 data_spotify_variasesp_streams.csv\n-rw-r--r--    1 akakicre   akakicre         1570 Apr 29 08:38 data_spotify_varios_positions.csv\n-rw-r--r--    1 akakicre   akakicre         2660 Apr 29 08:39 data_spotify_varios_streams.csv\n-rw-r--r--    1 akakicre   akakicre          271 May  3 17:01 data_world_actual.csv\n-rw-r--r--    1 akakicre   akakicre          212 May  3 17:01 data_world_actual_den.csv\n-rw-r--r--    1 akakicre   akakicre         5244 May  3 17:01 data_world_from100.csv\n-rw-r--r--    1 akakicre   akakicre          218 May  3 17:01 data_world_resume.csv\n-rw-r--r--    1 akakicre   akakicre         2938 May  3 17:01 data_world_timeline.csv\n-rw-r--r--    1 akakicre   akakicre        60006 Apr  6 09:09 diseno4_covid19.jpg\nNone\n"
    }
   ],
   "source": [
    "# Ayuda: https://www.pythoncircle.com/post/668/uploading-a-file-to-ftp-server-using-python/\n",
    "import csv\n",
    "from ftplib import FTP\n",
    "from io import StringIO\n",
    "\n",
    "passw = pd.read_csv(\"pass.txt\", sep = ',', encoding=\"utf-8\")\n",
    "host = \"akakicreations.com\"\n",
    "username = passw.columns[0]\n",
    "password = passw.columns[1]\n",
    "ftp = FTP(host=host)\n",
    "login_status = ftp.login(user=username, passwd=password)\n",
    "print(login_status)\n",
    "\n",
    "print(ftp.dir())\n",
    "\n",
    "fp = open(\"data_world_resume.csv\", 'rb')\n",
    "ftp.storbinary('STOR %s' % os.path.basename(\"data_world_resume.csv\"), fp, 1024)\n",
    "\n",
    "fp = open(\"data_world_actual.csv\", 'rb')\n",
    "ftp.storbinary('STOR %s' % os.path.basename(\"data_world_actual.csv\"), fp, 1024)\n",
    "\n",
    "\n",
    "fp = open(\"data_world_actual_den.csv\", 'rb')\n",
    "ftp.storbinary('STOR %s' % os.path.basename(\"data_world_actual_den.csv\"), fp, 1024)\n",
    "\n",
    "fp = open(\"data_world_from100.csv\", 'rb')\n",
    "ftp.storbinary('STOR %s' % os.path.basename(\"data_world_from100.csv\"), fp, 1024)\n",
    "\n",
    "fp = open(\"data_world_timeline.csv\", 'rb')\n",
    "ftp.storbinary('STOR %s' % os.path.basename(\"data_world_timeline.csv\"), fp, 1024)\n",
    "\n",
    "fp = open(\"data_somecountries_newcases24h.csv\", 'rb')\n",
    "ftp.storbinary('STOR %s' % os.path.basename(\"data_somecountries_newcases.csv\"), fp, 1024)\n",
    "\n",
    "fp = open(\"data_spain_newcases24h.csv\", 'rb')\n",
    "ftp.storbinary('STOR %s' % os.path.basename(\"data_spain_newcases24h.csv\"), fp, 1024)\n",
    "\n",
    "fp = open(\"data_spain_newcases24h_deaths.csv\", 'rb')\n",
    "ftp.storbinary('STOR %s' % os.path.basename(\"data_spain_newcases24h_deaths.csv\"), fp, 1024)\n",
    "\n",
    "\n",
    "# Datos por CCAA\n",
    "fp = open(\"data_ccaa_evolution_confirmed.csv\", 'rb')\n",
    "ftp.storbinary('STOR %s' % os.path.basename(\"data_ccaa_evolution_confirmed.csv\"), fp, 1024)\n",
    "\n",
    "fp = open(\"data_ccaa_evolution_deaths.csv\", 'rb')\n",
    "ftp.storbinary('STOR %s' % os.path.basename(\"data_ccaa_evolution_deaths.csv\"), fp, 1024)\n",
    "\n",
    "fp = open(\"data_ccaa_evolution_recovered.csv\", 'rb')\n",
    "ftp.storbinary('STOR %s' % os.path.basename(\"data_ccaa_evolution_recovered.csv\"), fp, 1024)\n",
    "\n",
    "fp = open(\"data_ccaa_confirmed_recovered_deaths.csv\", 'rb')\n",
    "ftp.storbinary('STOR %s' % os.path.basename(\"data_ccaa_confirmed_recovered_deaths.csv\"), fp, 1024)\n",
    "\n",
    "fp = open(\"data_ccaa_newcases_confirmed_recovered_deaths.csv\", 'rb')\n",
    "ftp.storbinary('STOR %s' % os.path.basename(\"data_ccaa_newcases_confirmed_recovered_deaths.csv\"), fp, 1024)\n",
    "\n",
    "# Datos por grupos de edad\n",
    "fp = open(\"data_spain_ages_mujeres.csv\", 'rb')\n",
    "ftp.storbinary('STOR %s' % os.path.basename(\"data_spain_ages_mujeres.csv\"), fp, 1024)\n",
    "\n",
    "fp = open(\"data_spain_ages_hombres.csv\", 'rb')\n",
    "ftp.storbinary('STOR %s' % os.path.basename(\"data_spain_ages_hombres.csv\"), fp, 1024)\n",
    "\n",
    "fp = open(\"data_spain_ages_ambos.csv\", 'rb')\n",
    "ftp.storbinary('STOR %s' % os.path.basename(\"data_spain_ages_ambos.csv\"), fp, 1024)\n",
    "\n",
    "fp.close()\n",
    "\n"
   ]
  },
  {
   "cell_type": "code",
   "execution_count": null,
   "metadata": {},
   "outputs": [],
   "source": []
  }
 ],
 "metadata": {
  "file_extension": ".py",
  "kernelspec": {
   "display_name": "Python 3",
   "language": "python",
   "name": "python3"
  },
  "language_info": {
   "codemirror_mode": {
    "name": "ipython",
    "version": 3
   },
   "file_extension": ".py",
   "mimetype": "text/x-python",
   "name": "python",
   "nbconvert_exporter": "python",
   "pygments_lexer": "ipython3",
   "version": "3.7.3-final"
  },
  "mimetype": "text/x-python",
  "name": "python",
  "npconvert_exporter": "python",
  "pygments_lexer": "ipython3",
  "version": 3
 },
 "nbformat": 4,
 "nbformat_minor": 4
}