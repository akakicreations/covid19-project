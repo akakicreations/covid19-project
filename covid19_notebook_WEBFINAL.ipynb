{
 "cells": [
  {
   "cell_type": "markdown",
   "metadata": {},
   "source": [
    "# Ejercicio Covid-19"
   ]
  },
  {
   "cell_type": "code",
   "execution_count": 28,
   "metadata": {},
   "outputs": [],
   "source": [
    "import os\n",
    "import numpy as np\n",
    "import pandas as pd\n",
    "import matplotlib.pyplot as plt"
   ]
  },
  {
   "cell_type": "code",
   "execution_count": 29,
   "metadata": {},
   "outputs": [],
   "source": [
    "#Fechas de hoy(datos España) y ayer (datos inetrnacionales)\n",
    "from datetime import datetime, timedelta\n",
    "from datetime import date\n",
    "date_today = date.today()\n",
    "date_today_complete = date.today()\n",
    "date_daybefore = date_today - timedelta(days=1)\n",
    "date_today = date_today.strftime('%d/%m')\n",
    "date_daybefore = date_daybefore.strftime('%d/%m')"
   ]
  },
  {
   "cell_type": "code",
   "execution_count": 30,
   "metadata": {},
   "outputs": [
    {
     "output_type": "execute_result",
     "data": {
      "text/plain": "'2020-04-14'"
     },
     "metadata": {},
     "execution_count": 30
    }
   ],
   "source": [
    "#Importante revisar si es CCAA recoge bien los datos de CCAA, se han hecho cambios para el 14-04, porque no los cogía bien\n",
    "new_inform = 75\n",
    "new_before = new_inform - 1\n",
    "path_spain = 'pdf_files/Actualizacion_75_COVID-19.pdf'\n",
    "path_spain_before = 'pdf_files/Actualizacion_74_COVID-19.pdf'\n",
    "\n",
    "date_today_large = date_today_complete.strftime('%Y-%m-%d')\n",
    "date_today_large"
   ]
  },
  {
   "cell_type": "markdown",
   "metadata": {},
   "source": [
    "# Preparación inicial"
   ]
  },
  {
   "cell_type": "markdown",
   "metadata": {},
   "source": [
    "## Descargar PDFs del Ministerio de Sanidad"
   ]
  },
  {
   "cell_type": "code",
   "execution_count": 4,
   "metadata": {},
   "outputs": [
    {
     "output_type": "stream",
     "name": "stdout",
     "text": "Actualizacion_75_COVID-19.pdf\n"
    }
   ],
   "source": [
    "#Importar PDFs\n",
    "import os\n",
    "import requests\n",
    "from bs4 import BeautifulSoup\n",
    "import re\n",
    "\n",
    "#Función para descargar PDFs\n",
    "def download_file(url):\n",
    "    local_filename = url.split('/')[-1]\n",
    "    # NOTE the stream=True parameter below\n",
    "    with requests.get(url, stream=True) as r:\n",
    "        r.raise_for_status()\n",
    "        with open(local_filename, 'wb') as f:\n",
    "            for chunk in r.iter_content(chunk_size=8192): \n",
    "                if chunk: # filter out keep-alive new chunks\n",
    "                    f.write(chunk)\n",
    "                    # f.flush()\n",
    "    print(local_filename)\n",
    "    return local_filename\n",
    "\n",
    "#\n",
    "DAILY_FOLDER = \"./pdf_files/\"\n",
    "ES_REPORT_URL = \"https://www.mscbs.gob.es/profesionales/saludPublica/ccayes/alertasActual/nCov-China/situacionActual.htm\"\n",
    "PDF_BASE_URL = \"https://www.mscbs.gob.es/profesionales/saludPublica/ccayes/alertasActual/nCov-China/\"\n",
    "\n",
    "#Función para revisar los nombres de archivos\n",
    "def get_file_names(url):\n",
    "    try:\n",
    "        req_page = requests.get(url, verify=True)\n",
    "    except Exception as e:\n",
    "        raise Exception(f\"Could not get web page content: {e}\")\n",
    "    \n",
    "    re_pdf = re.compile(r\"(documentos/.+?\\.pdf)\")\n",
    "\n",
    "    pdf_paths = list(set(re_pdf.findall(req_page.text)))\n",
    "    return pdf_paths\n",
    "\n",
    "#Reviso los nomnbres de archivos\n",
    "pdf_paths = get_file_names(ES_REPORT_URL)\n",
    "\n",
    "pdf_paths = [PDF_BASE_URL+i for i in pdf_paths if \"Informacion_inicial_alerta\" not in i]\n",
    "\n",
    "\n",
    "for pdf_path in pdf_paths:\n",
    "        pdf_name = pdf_path.split(\"/\")[-1]\n",
    "        pdf_path_get = requests.get(pdf_path)\n",
    "        with open(\n",
    "            os.path.join(DAILY_FOLDER, pdf_name),\n",
    "            'wb'\n",
    "        ) as f:\n",
    "            f.write(pdf_path_get.content)\n",
    "            \n",
    "# Descargo PDFs a raíz\n",
    "for i in range(new_before,new_inform):\n",
    "    path = 'https://www.mscbs.gob.es/profesionales/saludPublica/ccayes/alertasActual/nCov-China/documentos/Actualizacion_{}_COVID-19.pdf'.format(i+1)\n",
    "    download_file(path)\n",
    "\n",
    "# Muevo los archivos a otra carpeta\n",
    "lst_files = [file for file in os.listdir() if 'Act' in file]\n",
    "if os.path.isdir(\"./pdf_files/\"):\n",
    "    for f in lst_files:\n",
    "        os.rename(\"./{}\".format(f), \"./pdf_files/{}\".format(f))\n",
    "else:\n",
    "    os.mkdir(\"./pdf_data/\")\n",
    "    for f in lst_files:\n",
    "        os.rename(\"./{}\".format(f), \"./pdf_files/{}\".format(f))"
   ]
  },
  {
   "cell_type": "markdown",
   "metadata": {},
   "source": [
    "## Parsear PDF descargado"
   ]
  },
  {
   "cell_type": "code",
   "execution_count": 55,
   "metadata": {},
   "outputs": [
    {
     "output_type": "stream",
     "name": "stdout",
     "text": "(COVID-19).  \n\n14.04\n14.04.2020\n"
    },
    {
     "output_type": "execute_result",
     "data": {
      "text/plain": "                      Confirmados Curados Fallecidos Nuevos casos (24h)\nComunidades Autónomas                                                  \nAndalucía                   10192    2032        836                  5\nAragón                       4245     963        492                 58\nAsturias                     2051     458        156                 93\nBaleares                     1571     871        118                 21\nCanarias                     1958     589        102                 14\nCantabria                    1796     323        120                 19\nCastilla La Mancha          14329    2943       1714                275\nCastilla y León             13180    4266       1299                552\nCataluña                    35197   15967       3666                471\nCeuta                          96      22          4                  1\nC. Valenciana                9213    3069        907                153\nExtremadura                  2684     578        334                 26\nGalicia                      7597    1240        290                103\nMadrid                      48048   26247       6568                902\nMelilla                       101      18          2                  0\nMurcia                       1487     476        106                 24\nNavarra                      4150     730        249                 58\nPaís Vasco                  11226    5193        859                208\nLa Rioja                     3420    1519        234                 62",
      "text/html": "<div>\n<style scoped>\n    .dataframe tbody tr th:only-of-type {\n        vertical-align: middle;\n    }\n\n    .dataframe tbody tr th {\n        vertical-align: top;\n    }\n\n    .dataframe thead th {\n        text-align: right;\n    }\n</style>\n<table border=\"1\" class=\"dataframe\">\n  <thead>\n    <tr style=\"text-align: right;\">\n      <th></th>\n      <th>Confirmados</th>\n      <th>Curados</th>\n      <th>Fallecidos</th>\n      <th>Nuevos casos (24h)</th>\n    </tr>\n    <tr>\n      <th>Comunidades Autónomas</th>\n      <th></th>\n      <th></th>\n      <th></th>\n      <th></th>\n    </tr>\n  </thead>\n  <tbody>\n    <tr>\n      <th>Andalucía</th>\n      <td>10192</td>\n      <td>2032</td>\n      <td>836</td>\n      <td>5</td>\n    </tr>\n    <tr>\n      <th>Aragón</th>\n      <td>4245</td>\n      <td>963</td>\n      <td>492</td>\n      <td>58</td>\n    </tr>\n    <tr>\n      <th>Asturias</th>\n      <td>2051</td>\n      <td>458</td>\n      <td>156</td>\n      <td>93</td>\n    </tr>\n    <tr>\n      <th>Baleares</th>\n      <td>1571</td>\n      <td>871</td>\n      <td>118</td>\n      <td>21</td>\n    </tr>\n    <tr>\n      <th>Canarias</th>\n      <td>1958</td>\n      <td>589</td>\n      <td>102</td>\n      <td>14</td>\n    </tr>\n    <tr>\n      <th>Cantabria</th>\n      <td>1796</td>\n      <td>323</td>\n      <td>120</td>\n      <td>19</td>\n    </tr>\n    <tr>\n      <th>Castilla La Mancha</th>\n      <td>14329</td>\n      <td>2943</td>\n      <td>1714</td>\n      <td>275</td>\n    </tr>\n    <tr>\n      <th>Castilla y León</th>\n      <td>13180</td>\n      <td>4266</td>\n      <td>1299</td>\n      <td>552</td>\n    </tr>\n    <tr>\n      <th>Cataluña</th>\n      <td>35197</td>\n      <td>15967</td>\n      <td>3666</td>\n      <td>471</td>\n    </tr>\n    <tr>\n      <th>Ceuta</th>\n      <td>96</td>\n      <td>22</td>\n      <td>4</td>\n      <td>1</td>\n    </tr>\n    <tr>\n      <th>C. Valenciana</th>\n      <td>9213</td>\n      <td>3069</td>\n      <td>907</td>\n      <td>153</td>\n    </tr>\n    <tr>\n      <th>Extremadura</th>\n      <td>2684</td>\n      <td>578</td>\n      <td>334</td>\n      <td>26</td>\n    </tr>\n    <tr>\n      <th>Galicia</th>\n      <td>7597</td>\n      <td>1240</td>\n      <td>290</td>\n      <td>103</td>\n    </tr>\n    <tr>\n      <th>Madrid</th>\n      <td>48048</td>\n      <td>26247</td>\n      <td>6568</td>\n      <td>902</td>\n    </tr>\n    <tr>\n      <th>Melilla</th>\n      <td>101</td>\n      <td>18</td>\n      <td>2</td>\n      <td>0</td>\n    </tr>\n    <tr>\n      <th>Murcia</th>\n      <td>1487</td>\n      <td>476</td>\n      <td>106</td>\n      <td>24</td>\n    </tr>\n    <tr>\n      <th>Navarra</th>\n      <td>4150</td>\n      <td>730</td>\n      <td>249</td>\n      <td>58</td>\n    </tr>\n    <tr>\n      <th>País Vasco</th>\n      <td>11226</td>\n      <td>5193</td>\n      <td>859</td>\n      <td>208</td>\n    </tr>\n    <tr>\n      <th>La Rioja</th>\n      <td>3420</td>\n      <td>1519</td>\n      <td>234</td>\n      <td>62</td>\n    </tr>\n  </tbody>\n</table>\n</div>"
     },
     "metadata": {},
     "execution_count": 55
    }
   ],
   "source": [
    "# Parsear PDF\n",
    "\n",
    "from tika import parser\n",
    "import pandas as pd\n",
    "from io import StringIO\n",
    "import re\n",
    "import tabula\n",
    "\n",
    "raw = parser.from_file(path_spain)\n",
    "\n",
    "#Cojo partes del PDF\n",
    "ind_ini = raw['content'].find('en España:')\n",
    "ind_fin = raw['content'].find('mundo:')\n",
    "\n",
    "\n",
    "#Coger fecha del PDF\n",
    "def get_fecha(string):\n",
    "    ind_ini = string.find('(COVID-19)')\n",
    "    ind_fin = string.find('.20')\n",
    "    print(string[ind_ini:ind_fin])\n",
    "    return string[ind_ini:ind_fin].split('\\n')[-1]+'.2020'\n",
    "\n",
    "fecha_data_spain = get_fecha(raw['content'])\n",
    "print(fecha_data_spain)\n",
    "\n",
    "# Coger tablar primera página\n",
    "import tabula\n",
    "from tabula import read_pdf\n",
    "data_spain_ccaa_all = tabula.read_pdf(path_spain, stream=True, pages=1)[0]\n",
    "data_spain_ccaa_all.columns = ['Comunidades Autónomas','Confirmados', 'IA', 'Hospitalizados', 'UCI', 'Fallecidos', 'Curados', 'Nuevos casos (24h)']\n",
    "\n",
    "\n",
    "# VERSIÓN DEL 14-04-20 para que cuadre bien\n",
    "data_spain_ccaa = data_spain_ccaa_all.iloc[4:27]\n",
    "data_spain_ccaa = data_spain_ccaa.drop([data_spain_ccaa.index[6], data_spain_ccaa.index[8], data_spain_ccaa.index[14], data_spain_ccaa.index[16]])\n",
    "data_spain_ccaa.loc[data_spain_ccaa['Comunidades Autónomas'] == 'Mancha', ['Comunidades Autónomas']] = 'Castilla La Mancha'\n",
    "\n",
    "'''La versión normal: data_spain_ccaa = data_spain_ccaa_all.iloc[3:22]\n",
    "# OJO!!!!! Depende del día cambia la posición!!!\n",
    "'''\n",
    "\n",
    "\n",
    "# Cambio las columnas\n",
    "data_spain_ccaa = data_spain_ccaa[['Comunidades Autónomas', 'Confirmados', 'Curados', 'Fallecidos', 'Nuevos casos (24h)']]\n",
    "\n",
    "#Quitar símbolos raros qye nos sobran\n",
    "data_spain_ccaa['Confirmados'] = data_spain_ccaa['Confirmados'].str.replace('.','')\n",
    "data_spain_ccaa['Fallecidos'] = data_spain_ccaa['Fallecidos'].str.replace('.','')\n",
    "data_spain_ccaa['Curados'] = data_spain_ccaa['Curados'].str.replace('.','')\n",
    "data_spain_ccaa['Nuevos casos (24h)'] = data_spain_ccaa['Nuevos casos (24h)'].str.replace('.','')\n",
    "\n",
    "# Seleccionar índice Comunidades Autónomas\n",
    "data_spain_ccaa = data_spain_ccaa.set_index('Comunidades Autónomas')\n",
    "data_spain_ccaa"
   ]
  },
  {
   "cell_type": "markdown",
   "metadata": {},
   "source": [
    "# Resumen de datos INICIAL"
   ]
  },
  {
   "cell_type": "markdown",
   "metadata": {},
   "source": [
    "## Resumen datos globales CSV: covid19_data_drive_resume.csv"
   ]
  },
  {
   "cell_type": "code",
   "execution_count": 56,
   "metadata": {},
   "outputs": [
    {
     "output_type": "stream",
     "name": "stdout",
     "text": "Confirmados  Curados  Fallecidos\nCasos totales en el mundo           1917319   448655      119482\nNuevos casos en el mundo (24h)        70640    26933        5391\nCasos totales en España              170099    17756       64727\nNuevos casos en España (24h)           3268     2336         547\n"
    }
   ],
   "source": [
    "# Creación de funciones para sacar datos\n",
    "def get_data_spain(url):    \n",
    "    data_spain = pd.read_csv(url)\n",
    "    data_spain = data_spain.groupby(\"Country/Region\", as_index=False).sum()\n",
    "    data_spain = data_spain.set_index(\"Country/Region\").transpose()\n",
    "    data_spain = data_spain['Spain']\n",
    "    data_spain_actual = int(data_spain.iloc[-1])\n",
    "    data_spain_before = int(data_spain.iloc[-2])\n",
    "    data_spain_24h = data_spain_actual - data_spain_before\n",
    "    return data_spain_24h, data_spain_actual\n",
    "    \n",
    "# Función para obtener datos del mundo    \n",
    "def get_data_world(url):    \n",
    "    data_world = pd.read_csv(url)\n",
    "    data_world = data_world.groupby(\"Country/Region\", as_index=False).sum()\n",
    "    data_world = data_world.set_index(\"Country/Region\").transpose()\n",
    "    data_world_actual = int(data_world.sum(axis=1).iloc[-1])\n",
    "    data_world_before = int(data_world.sum(axis=1).iloc[-2])\n",
    "    data_world_24h = data_world_actual - data_world_before\n",
    "    return data_world_24h, data_world_actual\n",
    "\n",
    "# Usar los datos\n",
    "data_confirmed_path = \"COVID-19/csse_covid_19_data/csse_covid_19_time_series/time_series_covid19_confirmed_global.csv\"\n",
    "data_deaths_path = \"COVID-19/csse_covid_19_data/csse_covid_19_time_series/time_series_covid19_deaths_global.csv\"\n",
    "data_recovered_path = \"COVID-19/csse_covid_19_data/csse_covid_19_time_series/time_series_covid19_recovered_global.csv\"\n",
    "\n",
    "# Para España\n",
    "data_confirmed_spain_24h, data_confirmed_spain_actual = get_data_spain(data_confirmed_path)\n",
    "data_deaths_spain_24h, data_deaths_spain_actual = get_data_spain(data_deaths_path)\n",
    "data_recovered_spain_24h, data_recovered_spain_actual = get_data_spain(data_recovered_path)\n",
    "\n",
    "# Para el mundo\n",
    "data_confirmed_world_24h, data_confirmed_world_actual = get_data_world(data_confirmed_path)\n",
    "data_deaths_world_24h, data_deaths_world_actual = get_data_world(data_deaths_path)\n",
    "data_recovered_world_24h, data_recovered_world_actual = get_data_world(data_recovered_path)\n",
    "\n",
    "######### Para datos de John Hopkins internacionales\n",
    "\n",
    "data_spain_resume_actual = pd.DataFrame({'Confirmados': data_confirmed_spain_actual,\n",
    "                                    'Curados': data_deaths_spain_actual, \n",
    "                                    'Fallecidos': data_recovered_spain_actual}, \n",
    "                                   index=['Casos totales en España'])\n",
    "\n",
    "data_spain_newcases = pd.DataFrame({'Confirmados': data_confirmed_spain_24h,\n",
    "                                    'Curados': data_recovered_spain_24h, \n",
    "                                    'Fallecidos': data_deaths_spain_24h}, \n",
    "                                   index=['Nuevos casos en España (24h)'])\n",
    "\n",
    "\n",
    "data_world_newcases = pd.DataFrame({'Confirmados': data_confirmed_world_24h,\n",
    "                                    'Curados': data_recovered_world_24h, \n",
    "                                    'Fallecidos': data_deaths_world_24h}, \n",
    "                                   index=['Nuevos casos en el mundo (24h)'])\n",
    "\n",
    "data_world_resume_actual = pd.DataFrame({'Confirmados': data_confirmed_world_actual,\n",
    "                                    'Curados': data_recovered_world_actual, \n",
    "                                    'Fallecidos': data_deaths_world_actual}, \n",
    "                                   index=['Casos totales en el mundo'])\n",
    "\n",
    "########## Para datos de España del Ministerio de Sanidad\n",
    "# Coger los datos del día anterior\n",
    "'''import tabula\n",
    "from tabula import read_pdf\n",
    "data_spain_ccaa_daybefore = tabula.read_pdf(path_spain_before, stream=True, pages=1)[0]\n",
    "data_spain_ccaa_daybefore.columns = ['Comunidades Autónomas','Confirmados', 'IA', 'Hospitalizados', 'UCI', 'Fallecidos', 'Curados', 'Nuevos casos (24h)']\n",
    "\n",
    "data_spain_ccaa_daybefore =  data_spain_ccaa_daybefore.iloc[22:23].copy()\n",
    "data_spain_ccaa_daybefore.rename(index={22: \"Casos totales en España\"}, inplace=True)\n",
    "data_spain_ccaa_daybefore = data_spain_ccaa_daybefore[['Confirmados', 'Curados', 'Fallecidos']]\n",
    "data_spain_ccaa_daybefore['Confirmados'] = data_spain_ccaa_daybefore['Confirmados'].str.replace('.','').astype('int')\n",
    "data_spain_ccaa_daybefore['Fallecidos'] = data_spain_ccaa_daybefore['Fallecidos'].str.replace('.','').astype('int')\n",
    "data_spain_ccaa_daybefore['Curados'] = data_spain_ccaa_daybefore['Curados'].str.replace('.','').astype('int')\n",
    "\n",
    "# Coger los datos del día de hoy\n",
    "data_spain_ccaa_daytoday = data_spain_ccaa_all.iloc[22:23].copy()\n",
    "data_spain_ccaa_daytoday.rename(index={22: \"Casos totales en España\"}, inplace=True)\n",
    "data_spain_ccaa_daytoday = data_spain_ccaa_daytoday[['Confirmados', 'Curados', 'Fallecidos']]\n",
    "data_spain_ccaa_daytoday['Confirmados'] = data_spain_ccaa_daytoday['Confirmados'].str.replace('.','').astype('int')\n",
    "data_spain_ccaa_daytoday['Fallecidos'] = data_spain_ccaa_daytoday['Fallecidos'].str.replace('.','').astype('int')\n",
    "data_spain_ccaa_daytoday['Curados'] = data_spain_ccaa_daytoday['Curados'].str.replace('.','').astype('int')\n",
    "\n",
    "\n",
    "# Restar datos de dataframes\n",
    "data_spain_ccaa_daytoday # Muestra los datos del día actual\n",
    "data_spain_ccaa_daybefore # Muestra los datos del día anterior\n",
    "data_spain_ccaa_restdays = data_spain_ccaa_daytoday - data_spain_ccaa_daybefore # Muestra los datos en 24h.\n",
    "data_spain_ccaa_restdays.rename(index={\"Casos totales en España\": \"Nuevos casos en España (24h)\"}, inplace=True)\n",
    "# Aquí fue superimportante ponerlo así, y no así: data_spain_ccaa_restdays.rename(index={0: \"Casos totales en España\"}, inplace=True), así no funcionaba\n",
    "'''\n",
    "########### Junto los datos anteriores en una tabla\n",
    "data_resume_final = pd.concat([data_world_resume_actual, data_world_newcases, data_spain_resume_actual, data_spain_newcases])\n",
    "\n",
    "data_resume_final.to_csv('covid19_data_drive_resume.csv', sep = ';')\n",
    "print(data_resume_final)"
   ]
  },
  {
   "cell_type": "markdown",
   "metadata": {},
   "source": [
    "# Datos a nivel mundial"
   ]
  },
  {
   "cell_type": "markdown",
   "metadata": {},
   "source": [
    "## Preparación general de datos por países"
   ]
  },
  {
   "cell_type": "code",
   "execution_count": 57,
   "metadata": {},
   "outputs": [
    {
     "output_type": "execute_result",
     "data": {
      "text/plain": "Country/Region    China    France   Germany     Iran     Italy  Korea, South  \\\n2020-04-09      82883.0  118781.0  118181.0  66220.0  143626.0       10423.0   \n2020-04-10      82941.0  125931.0  122171.0  68192.0  147577.0       10450.0   \n2020-04-11      83014.0  130727.0  124908.0  70029.0  152271.0       10480.0   \n2020-04-12      83134.0  133670.0  127854.0  71686.0  156363.0       10512.0   \n2020-04-13      83213.0  137875.0  130072.0  73303.0  159516.0       10537.0   \n\nCountry/Region  Norway     Spain        US  United Kingdom  \n2020-04-09      6211.0  153222.0  461437.0         65872.0  \n2020-04-10      6314.0  158273.0  496535.0         74605.0  \n2020-04-11      6409.0  163027.0  526396.0         79874.0  \n2020-04-12      6525.0  166831.0  555313.0         85206.0  \n2020-04-13      6603.0  170099.0  580619.0         89570.0  ",
      "text/html": "<div>\n<style scoped>\n    .dataframe tbody tr th:only-of-type {\n        vertical-align: middle;\n    }\n\n    .dataframe tbody tr th {\n        vertical-align: top;\n    }\n\n    .dataframe thead th {\n        text-align: right;\n    }\n</style>\n<table border=\"1\" class=\"dataframe\">\n  <thead>\n    <tr style=\"text-align: right;\">\n      <th>Country/Region</th>\n      <th>China</th>\n      <th>France</th>\n      <th>Germany</th>\n      <th>Iran</th>\n      <th>Italy</th>\n      <th>Korea, South</th>\n      <th>Norway</th>\n      <th>Spain</th>\n      <th>US</th>\n      <th>United Kingdom</th>\n    </tr>\n  </thead>\n  <tbody>\n    <tr>\n      <th>2020-04-09</th>\n      <td>82883.0</td>\n      <td>118781.0</td>\n      <td>118181.0</td>\n      <td>66220.0</td>\n      <td>143626.0</td>\n      <td>10423.0</td>\n      <td>6211.0</td>\n      <td>153222.0</td>\n      <td>461437.0</td>\n      <td>65872.0</td>\n    </tr>\n    <tr>\n      <th>2020-04-10</th>\n      <td>82941.0</td>\n      <td>125931.0</td>\n      <td>122171.0</td>\n      <td>68192.0</td>\n      <td>147577.0</td>\n      <td>10450.0</td>\n      <td>6314.0</td>\n      <td>158273.0</td>\n      <td>496535.0</td>\n      <td>74605.0</td>\n    </tr>\n    <tr>\n      <th>2020-04-11</th>\n      <td>83014.0</td>\n      <td>130727.0</td>\n      <td>124908.0</td>\n      <td>70029.0</td>\n      <td>152271.0</td>\n      <td>10480.0</td>\n      <td>6409.0</td>\n      <td>163027.0</td>\n      <td>526396.0</td>\n      <td>79874.0</td>\n    </tr>\n    <tr>\n      <th>2020-04-12</th>\n      <td>83134.0</td>\n      <td>133670.0</td>\n      <td>127854.0</td>\n      <td>71686.0</td>\n      <td>156363.0</td>\n      <td>10512.0</td>\n      <td>6525.0</td>\n      <td>166831.0</td>\n      <td>555313.0</td>\n      <td>85206.0</td>\n    </tr>\n    <tr>\n      <th>2020-04-13</th>\n      <td>83213.0</td>\n      <td>137875.0</td>\n      <td>130072.0</td>\n      <td>73303.0</td>\n      <td>159516.0</td>\n      <td>10537.0</td>\n      <td>6603.0</td>\n      <td>170099.0</td>\n      <td>580619.0</td>\n      <td>89570.0</td>\n    </tr>\n  </tbody>\n</table>\n</div>"
     },
     "metadata": {},
     "execution_count": 57
    }
   ],
   "source": [
    "# Datos https://github.com/CSSEGISandData/COVID-19.git\n",
    "data = pd.read_csv(\"COVID-19/csse_covid_19_data/csse_covid_19_time_series/time_series_covid19_confirmed_global.csv\" )\n",
    "\n",
    "#Saco un dataset con solo los países\n",
    "data_countries = data.groupby(\"Country/Region\", as_index=False).sum()\n",
    "\n",
    "# Hago transposición de los datos para mover las columnas en filas \n",
    "data_trans = data_countries.set_index('Country/Region').transpose()\n",
    "# Y me quedo sólo con los datos temporales y número de casos\n",
    "data_time = data_trans[2:]\n",
    "\n",
    "# Cogemos solo determinados países\n",
    "data_time = data_time[['China', 'France', 'Germany', 'Iran','Italy', 'Korea, South', 'Norway','Spain', 'US', 'United Kingdom']]\n",
    "\n",
    "#Hago listado de Countries\n",
    "list_countries = data_time.columns\n",
    "list_countries\n",
    "\n",
    "#Convierto la columna fecha en datetime\n",
    "from datetime import date\n",
    "data_time.index = pd.to_datetime(data_time.index)\n",
    "data_time.tail()\n",
    ""
   ]
  },
  {
   "cell_type": "markdown",
   "metadata": {},
   "source": [
    "## MUNDO: CSV : covid19_data_drive_actual.csv"
   ]
  },
  {
   "cell_type": "code",
   "execution_count": 58,
   "metadata": {},
   "outputs": [
    {
     "output_type": "execute_result",
     "data": {
      "text/plain": "                Confirmados  Curados  Fallecidos\nCountry/Region                                  \nChina               83213.0  78039.0      3345.0\nFrance             137875.0  28001.0     14986.0\nGermany            130072.0  64300.0      3194.0\nItaly              159516.0  35435.0     20465.0\nSpain              170099.0  64727.0     17756.0\nUS                 580619.0  43482.0     23529.0\nUnited Kingdom      89570.0    304.0     11347.0",
      "text/html": "<div>\n<style scoped>\n    .dataframe tbody tr th:only-of-type {\n        vertical-align: middle;\n    }\n\n    .dataframe tbody tr th {\n        vertical-align: top;\n    }\n\n    .dataframe thead th {\n        text-align: right;\n    }\n</style>\n<table border=\"1\" class=\"dataframe\">\n  <thead>\n    <tr style=\"text-align: right;\">\n      <th></th>\n      <th>Confirmados</th>\n      <th>Curados</th>\n      <th>Fallecidos</th>\n    </tr>\n    <tr>\n      <th>Country/Region</th>\n      <th></th>\n      <th></th>\n      <th></th>\n    </tr>\n  </thead>\n  <tbody>\n    <tr>\n      <th>China</th>\n      <td>83213.0</td>\n      <td>78039.0</td>\n      <td>3345.0</td>\n    </tr>\n    <tr>\n      <th>France</th>\n      <td>137875.0</td>\n      <td>28001.0</td>\n      <td>14986.0</td>\n    </tr>\n    <tr>\n      <th>Germany</th>\n      <td>130072.0</td>\n      <td>64300.0</td>\n      <td>3194.0</td>\n    </tr>\n    <tr>\n      <th>Italy</th>\n      <td>159516.0</td>\n      <td>35435.0</td>\n      <td>20465.0</td>\n    </tr>\n    <tr>\n      <th>Spain</th>\n      <td>170099.0</td>\n      <td>64727.0</td>\n      <td>17756.0</td>\n    </tr>\n    <tr>\n      <th>US</th>\n      <td>580619.0</td>\n      <td>43482.0</td>\n      <td>23529.0</td>\n    </tr>\n    <tr>\n      <th>United Kingdom</th>\n      <td>89570.0</td>\n      <td>304.0</td>\n      <td>11347.0</td>\n    </tr>\n  </tbody>\n</table>\n</div>"
     },
     "metadata": {},
     "execution_count": 58
    }
   ],
   "source": [
    "######### Confirmados\n",
    "\n",
    "data_confirmed = pd.read_csv(\"COVID-19/csse_covid_19_data/csse_covid_19_time_series/time_series_covid19_confirmed_global.csv\" )\n",
    "#Saco un dataset con solo los países\n",
    "data_confirmed = data_confirmed.groupby(\"Country/Region\", as_index=False).sum()\n",
    "# Hago transposición de los datos para mover las columnas en filas \n",
    "data_confirmed = data_confirmed.set_index('Country/Region').transpose()\n",
    "# Y me quedo sólo con los datos temporales y número de casos\n",
    "data_confirmed = data_confirmed[2:]\n",
    "# Cogemos solo determinados países\n",
    "data_confirmed = data_confirmed[['China', 'France', 'Germany', 'Italy','Spain', 'US', 'United Kingdom']]\n",
    "data_confirmed = data_confirmed[-1:]\n",
    "\n",
    "######### Muertos\n",
    "\n",
    "data_deaths = pd.read_csv(\"COVID-19/csse_covid_19_data/csse_covid_19_time_series/time_series_covid19_deaths_global.csv\")\n",
    "#Saco un dataset con solo los países\n",
    "data_deaths = data_deaths.groupby(\"Country/Region\", as_index=False).sum()\n",
    "#Se ve que están todos y comprobado que suma\n",
    "data_deaths[::]\n",
    "# Hago transposición de los datos para mover las columnas en filas \n",
    "data_deaths = data_deaths.set_index('Country/Region').transpose()\n",
    "\n",
    "# Y me quedo sólo con los datos temporales y número de casos\n",
    "data_deaths = data_deaths[2:]\n",
    "data_deaths.tail()\n",
    "# Cogemos solo determinados países\n",
    "data_deaths = data_deaths[['China', 'France', 'Germany', 'Italy','Spain', 'US', 'United Kingdom']]\n",
    "data_deaths = data_deaths[-1:]\n",
    "\n",
    "######### Recuperados\n",
    "\n",
    "data_recovered = pd.read_csv(\"COVID-19/csse_covid_19_data/csse_covid_19_time_series/time_series_covid19_recovered_global.csv\" )\n",
    "#Saco un dataset con solo los países\n",
    "data_recovered = data_recovered.groupby(\"Country/Region\", as_index=False).sum()\n",
    "# Hago transposición de los datos para mover las columnas en filas \n",
    "data_recovered = data_recovered.set_index('Country/Region').transpose()\n",
    "# Y me quedo sólo con los datos temporales y número de casos\n",
    "data_recovered = data_recovered[2:]\n",
    "# Cogemos solo determinados países\n",
    "data_recovered = data_recovered[['China', 'France', 'Germany', 'Italy','Spain', 'US', 'United Kingdom']]\n",
    "data_recovered = data_recovered[-1:]\n",
    "\n",
    "######### Merge de datos\n",
    "\n",
    "# Saco la fecha:\n",
    "from datetime import datetime, timedelta\n",
    "date_today_intern = date.today()\n",
    "date_today_intern = date_today_intern.today() - timedelta(days=1) #Quito uno porque esta base de datos siempre muestra datos del día anterior\n",
    "date_today_intern = date_today_intern.strftime('%d/%m')\n",
    "\n",
    "#Juntar ahora datos\n",
    "data_columns = ['Confirmados', 'Curados', 'Fallecidos']\n",
    "\n",
    "data_together = pd.merge(data_confirmed, data_recovered, how='outer')\n",
    "data_together = pd.merge(data_together, data_deaths, how='outer')\n",
    "data_together.index = data_columns\n",
    "data_together = data_together.transpose()\n",
    "# data_together = data_together.reindex(columns =data_columns) \n",
    "# data_together = data_together.reindex(data_index)\n",
    "\n",
    "# Exporto CSV\n",
    "data_together.to_csv('covid19_data_drive_actual.csv', sep = ';')\n",
    "data_together"
   ]
  },
  {
   "cell_type": "markdown",
   "metadata": {},
   "source": [
    "## MUNDO: CSV : covid19_data_drive_from100.csv"
   ]
  },
  {
   "cell_type": "code",
   "execution_count": 59,
   "metadata": {},
   "outputs": [
    {
     "output_type": "execute_result",
     "data": {
      "text/plain": "    France    China  Germany     Iran     Italy  Korea, South  Norway  Spain  \\\n46     NaN  80823.0      NaN  73303.0  147577.0       10331.0     NaN    NaN   \n47     NaN  80860.0      NaN      NaN  152271.0       10384.0     NaN    NaN   \n48     NaN  80887.0      NaN      NaN  156363.0       10423.0     NaN    NaN   \n49     NaN  80921.0      NaN      NaN  159516.0       10450.0     NaN    NaN   \n50     NaN  80932.0      NaN      NaN       NaN       10480.0     NaN    NaN   \n\n    US  United Kingdom  \n46 NaN             NaN  \n47 NaN             NaN  \n48 NaN             NaN  \n49 NaN             NaN  \n50 NaN             NaN  ",
      "text/html": "<div>\n<style scoped>\n    .dataframe tbody tr th:only-of-type {\n        vertical-align: middle;\n    }\n\n    .dataframe tbody tr th {\n        vertical-align: top;\n    }\n\n    .dataframe thead th {\n        text-align: right;\n    }\n</style>\n<table border=\"1\" class=\"dataframe\">\n  <thead>\n    <tr style=\"text-align: right;\">\n      <th></th>\n      <th>France</th>\n      <th>China</th>\n      <th>Germany</th>\n      <th>Iran</th>\n      <th>Italy</th>\n      <th>Korea, South</th>\n      <th>Norway</th>\n      <th>Spain</th>\n      <th>US</th>\n      <th>United Kingdom</th>\n    </tr>\n  </thead>\n  <tbody>\n    <tr>\n      <th>46</th>\n      <td>NaN</td>\n      <td>80823.0</td>\n      <td>NaN</td>\n      <td>73303.0</td>\n      <td>147577.0</td>\n      <td>10331.0</td>\n      <td>NaN</td>\n      <td>NaN</td>\n      <td>NaN</td>\n      <td>NaN</td>\n    </tr>\n    <tr>\n      <th>47</th>\n      <td>NaN</td>\n      <td>80860.0</td>\n      <td>NaN</td>\n      <td>NaN</td>\n      <td>152271.0</td>\n      <td>10384.0</td>\n      <td>NaN</td>\n      <td>NaN</td>\n      <td>NaN</td>\n      <td>NaN</td>\n    </tr>\n    <tr>\n      <th>48</th>\n      <td>NaN</td>\n      <td>80887.0</td>\n      <td>NaN</td>\n      <td>NaN</td>\n      <td>156363.0</td>\n      <td>10423.0</td>\n      <td>NaN</td>\n      <td>NaN</td>\n      <td>NaN</td>\n      <td>NaN</td>\n    </tr>\n    <tr>\n      <th>49</th>\n      <td>NaN</td>\n      <td>80921.0</td>\n      <td>NaN</td>\n      <td>NaN</td>\n      <td>159516.0</td>\n      <td>10450.0</td>\n      <td>NaN</td>\n      <td>NaN</td>\n      <td>NaN</td>\n      <td>NaN</td>\n    </tr>\n    <tr>\n      <th>50</th>\n      <td>NaN</td>\n      <td>80932.0</td>\n      <td>NaN</td>\n      <td>NaN</td>\n      <td>NaN</td>\n      <td>10480.0</td>\n      <td>NaN</td>\n      <td>NaN</td>\n      <td>NaN</td>\n      <td>NaN</td>\n    </tr>\n  </tbody>\n</table>\n</div>"
     },
     "metadata": {},
     "execution_count": 59
    }
   ],
   "source": [
    "'''Vamos a hacer un gráfico para ver los casos confirmados (desde caso 100)'''\n",
    "\n",
    "# Coger solo datos del último mes\n",
    "data_time_30days = data_time[-200:]\n",
    "# Si quiero quitar China: data_time_filter = data_time_filter.drop('China', axis=1)\n",
    "\n",
    "#Exporto los datos en diferentes arhcivos con casa país\n",
    "for country in list_countries:\n",
    "    dataX = data_time_30days[country]\n",
    "    dataX = dataX[dataX > 200]\n",
    "    dataX.to_csv('data_' + country + \".csv\", index=False, header= country)\n",
    "\n",
    "# Lista dataframes\n",
    "# dataframes_list = ['dataframe_France', 'dataframe_China', 'dataframe_Germany', 'dataframe_Iran', 'dataframe_Italy', 'dataframe_Korea', 'dataframe_Norway', 'dataframe_Spain', 'dataframe_US', 'dataframe_UnitedKingdom']\n",
    "\n",
    "# Creamos los CSV\n",
    "dataframe_France = pd.read_csv('data_France.csv')\n",
    "dataframe_China = pd.read_csv('data_China.csv')\n",
    "dataframe_Germany = pd.read_csv('data_Germany.csv')\n",
    "dataframe_Iran = pd.read_csv('data_Iran.csv')\n",
    "dataframe_Italy = pd.read_csv('data_Italy.csv')\n",
    "dataframe_Korea = pd.read_csv('data_Korea, South.csv')\n",
    "dataframe_Norway = pd.read_csv('data_Norway.csv')\n",
    "dataframe_Spain = pd.read_csv('data_Spain.csv')\n",
    "dataframe_US = pd.read_csv('data_US.csv')\n",
    "dataframe_UnitedKingdom = pd.read_csv('data_United Kingdom.csv')\n",
    "\n",
    "#Les añadimos NaN al final y reindexamos\n",
    "new_index = np.arange(1,51)\n",
    "dataframe_France = dataframe_France.reindex(new_index)\n",
    "dataframe_China = dataframe_China.reindex(new_index)\n",
    "dataframe_Germany = dataframe_Germany.reindex(new_index)\n",
    "dataframe_Iran = dataframe_Iran.reindex(new_index)\n",
    "dataframe_Italy = dataframe_Italy.reindex(new_index)\n",
    "dataframe_Korea = dataframe_Korea.reindex(new_index)\n",
    "dataframe_Norway = dataframe_Norway.reindex(new_index)\n",
    "dataframe_Spain = dataframe_Spain.reindex(new_index)\n",
    "dataframe_US = dataframe_US.reindex(new_index)\n",
    "dataframe_UnitedKingdom = dataframe_UnitedKingdom.reindex(new_index)\n",
    "\n",
    "#Juntar dataframes y Exportar CSV completo\n",
    "data_drive_from100cases = dataframe_France.join([dataframe_China, dataframe_Germany, \n",
    "                                                 dataframe_Iran, dataframe_Italy, dataframe_Korea, \n",
    "                                                 dataframe_Norway, dataframe_Spain, dataframe_US,\n",
    "                                                 dataframe_UnitedKingdom])\n",
    "\n",
    "data_drive_from100cases.to_csv('covid19_data_drive_from100.csv', sep = ';')\n",
    "data_drive_from100cases.tail()"
   ]
  },
  {
   "cell_type": "markdown",
   "metadata": {},
   "source": [
    "## MUNDO: CSV covid19_data_drive_days.csv"
   ]
  },
  {
   "cell_type": "code",
   "execution_count": 60,
   "metadata": {},
   "outputs": [
    {
     "output_type": "execute_result",
     "data": {
      "text/plain": "Country/Region    China    France   Germany     Iran     Italy  Korea, South  \\\n2020-04-09      82883.0  118781.0  118181.0  66220.0  143626.0       10423.0   \n2020-04-10      82941.0  125931.0  122171.0  68192.0  147577.0       10450.0   \n2020-04-11      83014.0  130727.0  124908.0  70029.0  152271.0       10480.0   \n2020-04-12      83134.0  133670.0  127854.0  71686.0  156363.0       10512.0   \n2020-04-13      83213.0  137875.0  130072.0  73303.0  159516.0       10537.0   \n\nCountry/Region  Norway     Spain        US  United Kingdom  \n2020-04-09      6211.0  153222.0  461437.0         65872.0  \n2020-04-10      6314.0  158273.0  496535.0         74605.0  \n2020-04-11      6409.0  163027.0  526396.0         79874.0  \n2020-04-12      6525.0  166831.0  555313.0         85206.0  \n2020-04-13      6603.0  170099.0  580619.0         89570.0  ",
      "text/html": "<div>\n<style scoped>\n    .dataframe tbody tr th:only-of-type {\n        vertical-align: middle;\n    }\n\n    .dataframe tbody tr th {\n        vertical-align: top;\n    }\n\n    .dataframe thead th {\n        text-align: right;\n    }\n</style>\n<table border=\"1\" class=\"dataframe\">\n  <thead>\n    <tr style=\"text-align: right;\">\n      <th>Country/Region</th>\n      <th>China</th>\n      <th>France</th>\n      <th>Germany</th>\n      <th>Iran</th>\n      <th>Italy</th>\n      <th>Korea, South</th>\n      <th>Norway</th>\n      <th>Spain</th>\n      <th>US</th>\n      <th>United Kingdom</th>\n    </tr>\n  </thead>\n  <tbody>\n    <tr>\n      <th>2020-04-09</th>\n      <td>82883.0</td>\n      <td>118781.0</td>\n      <td>118181.0</td>\n      <td>66220.0</td>\n      <td>143626.0</td>\n      <td>10423.0</td>\n      <td>6211.0</td>\n      <td>153222.0</td>\n      <td>461437.0</td>\n      <td>65872.0</td>\n    </tr>\n    <tr>\n      <th>2020-04-10</th>\n      <td>82941.0</td>\n      <td>125931.0</td>\n      <td>122171.0</td>\n      <td>68192.0</td>\n      <td>147577.0</td>\n      <td>10450.0</td>\n      <td>6314.0</td>\n      <td>158273.0</td>\n      <td>496535.0</td>\n      <td>74605.0</td>\n    </tr>\n    <tr>\n      <th>2020-04-11</th>\n      <td>83014.0</td>\n      <td>130727.0</td>\n      <td>124908.0</td>\n      <td>70029.0</td>\n      <td>152271.0</td>\n      <td>10480.0</td>\n      <td>6409.0</td>\n      <td>163027.0</td>\n      <td>526396.0</td>\n      <td>79874.0</td>\n    </tr>\n    <tr>\n      <th>2020-04-12</th>\n      <td>83134.0</td>\n      <td>133670.0</td>\n      <td>127854.0</td>\n      <td>71686.0</td>\n      <td>156363.0</td>\n      <td>10512.0</td>\n      <td>6525.0</td>\n      <td>166831.0</td>\n      <td>555313.0</td>\n      <td>85206.0</td>\n    </tr>\n    <tr>\n      <th>2020-04-13</th>\n      <td>83213.0</td>\n      <td>137875.0</td>\n      <td>130072.0</td>\n      <td>73303.0</td>\n      <td>159516.0</td>\n      <td>10537.0</td>\n      <td>6603.0</td>\n      <td>170099.0</td>\n      <td>580619.0</td>\n      <td>89570.0</td>\n    </tr>\n  </tbody>\n</table>\n</div>"
     },
     "metadata": {},
     "execution_count": 60
    }
   ],
   "source": [
    "# Coger solo datos de últimos 60 días\n",
    "data_time_Xdays = data_time[-30:]\n",
    "\n",
    "#Exportar CSV por días progresivos\n",
    "data_drive_lastX = data_time_Xdays.loc[:,list_countries]\n",
    "data_drive_lastX.to_csv('covid19_data_drive_days.csv', sep = ';', encoding=\"utf-8\")\n",
    "data_drive_lastX.tail()\n",
    ""
   ]
  },
  {
   "cell_type": "markdown",
   "metadata": {},
   "source": [
    "# Datos a nivel España"
   ]
  },
  {
   "cell_type": "markdown",
   "metadata": {},
   "source": [
    "## ESPAÑA: Resumen datos España: data_spain_newcases24h.csv"
   ]
  },
  {
   "cell_type": "code",
   "execution_count": 63,
   "metadata": {},
   "outputs": [
    {
     "output_type": "execute_result",
     "data": {
      "text/plain": "                              2020-03-05  2020-03-06  2020-03-07  2020-03-08  \\\nFallecidos (24h) en España             1           2           5           7   \nFallecidos (24h) en Italia            41          49          36         133   \nFallecidos (24h) en Francia            2           3           2           8   \nFallecidos (24h) en Alemania           0           0           0           0   \n\n                              2020-03-09  2020-03-10  2020-03-11  2020-03-12  \\\nFallecidos (24h) en España            11           7          19           1   \nFallecidos (24h) en Italia            97         168         196           0   \nFallecidos (24h) en Francia            0          14          15           0   \nFallecidos (24h) en Alemania           2           0           1           0   \n\n                              2020-03-13  2020-03-14  ...  2020-04-04  \\\nFallecidos (24h) en España            78          62  ...         749   \nFallecidos (24h) en Italia           439         175  ...         681   \nFallecidos (24h) en Francia           31          12  ...        1054   \nFallecidos (24h) en Alemania           4           2  ...         169   \n\n                              2020-04-05  2020-04-06  2020-04-07  2020-04-08  \\\nFallecidos (24h) en España           694         700         704         747   \nFallecidos (24h) en Italia           525         636         604         542   \nFallecidos (24h) en Francia          519         833        1417         544   \nFallecidos (24h) en Alemania         140         226         206         333   \n\n                              2020-04-09  2020-04-10  2020-04-11  2020-04-12  \\\nFallecidos (24h) en España           655         634         525         603   \nFallecidos (24h) en Italia           610         570         619         431   \nFallecidos (24h) en Francia         1341         987         636         561   \nFallecidos (24h) en Alemania         258         160         -31         286   \n\n                              2020-04-13  \nFallecidos (24h) en España           547  \nFallecidos (24h) en Italia           566  \nFallecidos (24h) en Francia          574  \nFallecidos (24h) en Alemania         172  \n\n[4 rows x 40 columns]",
      "text/html": "<div>\n<style scoped>\n    .dataframe tbody tr th:only-of-type {\n        vertical-align: middle;\n    }\n\n    .dataframe tbody tr th {\n        vertical-align: top;\n    }\n\n    .dataframe thead th {\n        text-align: right;\n    }\n</style>\n<table border=\"1\" class=\"dataframe\">\n  <thead>\n    <tr style=\"text-align: right;\">\n      <th></th>\n      <th>2020-03-05</th>\n      <th>2020-03-06</th>\n      <th>2020-03-07</th>\n      <th>2020-03-08</th>\n      <th>2020-03-09</th>\n      <th>2020-03-10</th>\n      <th>2020-03-11</th>\n      <th>2020-03-12</th>\n      <th>2020-03-13</th>\n      <th>2020-03-14</th>\n      <th>...</th>\n      <th>2020-04-04</th>\n      <th>2020-04-05</th>\n      <th>2020-04-06</th>\n      <th>2020-04-07</th>\n      <th>2020-04-08</th>\n      <th>2020-04-09</th>\n      <th>2020-04-10</th>\n      <th>2020-04-11</th>\n      <th>2020-04-12</th>\n      <th>2020-04-13</th>\n    </tr>\n  </thead>\n  <tbody>\n    <tr>\n      <th>Fallecidos (24h) en España</th>\n      <td>1</td>\n      <td>2</td>\n      <td>5</td>\n      <td>7</td>\n      <td>11</td>\n      <td>7</td>\n      <td>19</td>\n      <td>1</td>\n      <td>78</td>\n      <td>62</td>\n      <td>...</td>\n      <td>749</td>\n      <td>694</td>\n      <td>700</td>\n      <td>704</td>\n      <td>747</td>\n      <td>655</td>\n      <td>634</td>\n      <td>525</td>\n      <td>603</td>\n      <td>547</td>\n    </tr>\n    <tr>\n      <th>Fallecidos (24h) en Italia</th>\n      <td>41</td>\n      <td>49</td>\n      <td>36</td>\n      <td>133</td>\n      <td>97</td>\n      <td>168</td>\n      <td>196</td>\n      <td>0</td>\n      <td>439</td>\n      <td>175</td>\n      <td>...</td>\n      <td>681</td>\n      <td>525</td>\n      <td>636</td>\n      <td>604</td>\n      <td>542</td>\n      <td>610</td>\n      <td>570</td>\n      <td>619</td>\n      <td>431</td>\n      <td>566</td>\n    </tr>\n    <tr>\n      <th>Fallecidos (24h) en Francia</th>\n      <td>2</td>\n      <td>3</td>\n      <td>2</td>\n      <td>8</td>\n      <td>0</td>\n      <td>14</td>\n      <td>15</td>\n      <td>0</td>\n      <td>31</td>\n      <td>12</td>\n      <td>...</td>\n      <td>1054</td>\n      <td>519</td>\n      <td>833</td>\n      <td>1417</td>\n      <td>544</td>\n      <td>1341</td>\n      <td>987</td>\n      <td>636</td>\n      <td>561</td>\n      <td>574</td>\n    </tr>\n    <tr>\n      <th>Fallecidos (24h) en Alemania</th>\n      <td>0</td>\n      <td>0</td>\n      <td>0</td>\n      <td>0</td>\n      <td>2</td>\n      <td>0</td>\n      <td>1</td>\n      <td>0</td>\n      <td>4</td>\n      <td>2</td>\n      <td>...</td>\n      <td>169</td>\n      <td>140</td>\n      <td>226</td>\n      <td>206</td>\n      <td>333</td>\n      <td>258</td>\n      <td>160</td>\n      <td>-31</td>\n      <td>286</td>\n      <td>172</td>\n    </tr>\n  </tbody>\n</table>\n<p>4 rows × 40 columns</p>\n</div>"
     },
     "metadata": {},
     "execution_count": 63
    }
   ],
   "source": [
    "path_c = \"COVID-19/csse_covid_19_data/csse_covid_19_time_series/time_series_covid19_confirmed_global.csv\"\n",
    "path_d = \"COVID-19/csse_covid_19_data/csse_covid_19_time_series/time_series_covid19_deaths_global.csv\"\n",
    "path_r = \"COVID-19/csse_covid_19_data/csse_covid_19_time_series/time_series_covid19_recovered_global.csv\"\n",
    "# Evolución últimos 20 días de neuvos casos\n",
    "\n",
    "\n",
    "def day_consecutive(day):\n",
    "    date_cons = date.today()\n",
    "    date_cons = date_cons - timedelta(days=day)\n",
    "    date_cons = date_cons.strftime('%Y-%m-%d')\n",
    "    return date_cons\n",
    "\n",
    "def data_day(data_path, number_to_rest):\n",
    "    data = pd.read_csv(data_path)\n",
    "    data = data.groupby(\"Country/Region\", as_index=False).sum()\n",
    "    data = data.set_index(\"Country/Region\").transpose()\n",
    "    data = data['Spain']\n",
    "    data = int(data.iloc[number_to_rest]) - int(data.iloc[number_to_rest-1])\n",
    "    return data\n",
    "\n",
    "def data_day_italy(data_path, number_to_rest):\n",
    "    data = pd.read_csv(data_path)\n",
    "    data = data.groupby(\"Country/Region\", as_index=False).sum()\n",
    "    data = data.set_index(\"Country/Region\").transpose()\n",
    "    data = data['Italy']\n",
    "    data = int(data.iloc[number_to_rest]) - int(data.iloc[number_to_rest-1])\n",
    "    return data\n",
    "\n",
    "def data_day_france(data_path, number_to_rest):\n",
    "    data = pd.read_csv(data_path)\n",
    "    data = data.groupby(\"Country/Region\", as_index=False).sum()\n",
    "    data = data.set_index(\"Country/Region\").transpose()\n",
    "    data = data['France']\n",
    "    data = int(data.iloc[number_to_rest]) - int(data.iloc[number_to_rest-1])\n",
    "    return data\n",
    "\n",
    "def data_day_germany(data_path, number_to_rest):\n",
    "    data = pd.read_csv(data_path)\n",
    "    data = data.groupby(\"Country/Region\", as_index=False).sum()\n",
    "    data = data.set_index(\"Country/Region\").transpose()\n",
    "    data = data['Germany']\n",
    "    data = int(data.iloc[number_to_rest]) - int(data.iloc[number_to_rest-1])\n",
    "    return data\n",
    "\n",
    "def create_dataframe(data_day_name, data_path, index_title):\n",
    "    dataframe = pd.DataFrame({day_consecutive(40): data_day_name(data_path, -40),\n",
    "                              day_consecutive(39): data_day_name(data_path, -39),\n",
    "                              day_consecutive(38): data_day_name(data_path, -38),\n",
    "                              day_consecutive(37): data_day_name(data_path, -37),\n",
    "                              day_consecutive(36): data_day_name(data_path, -36),\n",
    "                              day_consecutive(35): data_day_name(data_path, -35),\n",
    "                              day_consecutive(34): data_day_name(data_path, -34),\n",
    "                              day_consecutive(33): data_day_name(data_path, -33),\n",
    "                              day_consecutive(32): data_day_name(data_path, -32),\n",
    "                              day_consecutive(31): data_day_name(data_path, -31),\n",
    "                              day_consecutive(30): data_day_name(data_path, -30),\n",
    "                              day_consecutive(29): data_day_name(data_path, -29),\n",
    "                              day_consecutive(28): data_day_name(data_path, -28),\n",
    "                              day_consecutive(27): data_day_name(data_path, -27),\n",
    "                              day_consecutive(26): data_day_name(data_path, -26),\n",
    "                              day_consecutive(25): data_day_name(data_path, -25),\n",
    "                              day_consecutive(24): data_day_name(data_path, -24),\n",
    "                              day_consecutive(23): data_day_name(data_path, -23),\n",
    "                              day_consecutive(22): data_day_name(data_path, -22),\n",
    "                              day_consecutive(21): data_day_name(data_path, -21),\n",
    "                              day_consecutive(20): data_day_name(data_path, -20),\n",
    "                              day_consecutive(19): data_day_name(data_path, -19), \n",
    "                              day_consecutive(18): data_day_name(data_path, -18),\n",
    "                              day_consecutive(17): data_day_name(data_path, -17),\n",
    "                              day_consecutive(16): data_day_name(data_path, -16),\n",
    "                              day_consecutive(15): data_day_name(data_path, -15),\n",
    "                              day_consecutive(14): data_day_name(data_path, -14),\n",
    "                              day_consecutive(13): data_day_name(data_path, -13),\n",
    "                              day_consecutive(12): data_day_name(data_path, -12),\n",
    "                              day_consecutive(11): data_day_name(data_path, -11),\n",
    "                              day_consecutive(10): data_day_name(data_path, -10),\n",
    "                              day_consecutive(9): data_day_name(data_path, -9),\n",
    "                              day_consecutive(8): data_day_name(data_path, -8),\n",
    "                              day_consecutive(7): data_day_name(data_path, -7),\n",
    "                              day_consecutive(6): data_day_name(data_path, -6),\n",
    "                              day_consecutive(5): data_day_name(data_path, -5),\n",
    "                              day_consecutive(4): data_day_name(data_path, -4),\n",
    "                              day_consecutive(3): data_day_name(data_path, -3),\n",
    "                              day_consecutive(2): data_day_name(data_path, -2),\n",
    "                              day_consecutive(1): data_day_name(data_path, -1),\n",
    "                             }, index=index_title)\n",
    "                                    \n",
    "    return dataframe\n",
    "\n",
    "data_spain_confirmed24h = create_dataframe(data_day, path_c, ['Confirmados (24h) en España'])\n",
    "data_spain_deaths24h = create_dataframe(data_day, path_d, ['Fallecidos (24h) en España'])\n",
    "data_spain_recovered24h = create_dataframe(data_day, path_r, ['Recuperados (24h) en España'])\n",
    "\n",
    "#Juntar dataframes\n",
    "data_spain_newcases24h = pd.concat([data_spain_confirmed24h,data_spain_recovered24h,data_spain_deaths24h], axis=0)\n",
    "data_spain_newcases24h.to_csv('data_spain_newcases24h.csv', sep = ';')\n",
    "data_spain_deaths24h.to_csv('data_spain_newcases24h_deaths.csv', sep = ';')\n",
    "\n",
    "######## Lo mismo en italia\n",
    "data_italy_confirmed24h = create_dataframe(data_day_italy, path_c, ['Confirmados (24h) en Italia'])\n",
    "data_italy_deaths24h = create_dataframe(data_day_italy, path_d, ['Fallecidos (24h) en Italia'])\n",
    "data_italy_recovered24h = create_dataframe(data_day_italy, path_r, ['Recuperados (24h) en Italia'])\n",
    "data_italy_newcases24h = pd.concat([data_italy_confirmed24h,data_italy_recovered24h,data_italy_deaths24h], axis=0)\n",
    "\n",
    "######## Lo mismo en Francia\n",
    "data_france_confirmed24h = create_dataframe(data_day_france, path_c, ['Confirmados (24h) en Francia'])\n",
    "data_france_deaths24h = create_dataframe(data_day_france, path_d, ['Fallecidos (24h) en Francia'])\n",
    "data_france_recovered24h = create_dataframe(data_day_france, path_r, ['Recuperados (24h) en Francia'])\n",
    "data_france_newcases24h = pd.concat([data_france_confirmed24h,data_france_recovered24h,data_france_deaths24h], axis=0)\n",
    "\n",
    "######## Lo mismo en Alemania\n",
    "data_germany_confirmed24h = create_dataframe(data_day_germany, path_c, ['Confirmados (24h) en Alemania'])\n",
    "data_germany_deaths24h = create_dataframe(data_day_germany, path_d, ['Fallecidos (24h) en Alemania'])\n",
    "data_germany_recovered24h = create_dataframe(data_day_germany, path_r, ['Recuperados (24h) en Alemania'])\n",
    "data_germany_newcases24h = pd.concat([data_germany_confirmed24h,data_germany_recovered24h,data_germany_deaths24h], axis=0)\n",
    "\n",
    "\n",
    "###### Juntar dataframes Spain + Italy sólo de fallecidos\n",
    "data_somecountries_newcases24h_deaths = pd.concat([data_spain_deaths24h, data_italy_deaths24h,\n",
    "                                                   data_france_deaths24h, data_germany_deaths24h], axis=0)\n",
    "data_somecountries_newcases24h_deaths.to_csv('data_somecountries_newcases24h.csv', sep = ';')\n",
    "data_somecountries_newcases24h_deaths\n",
    ""
   ]
  },
  {
   "cell_type": "markdown",
   "metadata": {},
   "source": [
    "## ESPAÑA: CSV: covid19_spain_ccaa.csv datos principales"
   ]
  },
  {
   "cell_type": "code",
   "execution_count": 64,
   "metadata": {},
   "outputs": [
    {
     "output_type": "execute_result",
     "data": {
      "text/plain": "                      Confirmados Curados Fallecidos Nuevos casos (24h)\nComunidades Autónomas                                                  \nAndalucía                   10192    2032        836                  5\nAragón                       4245     963        492                 58\nAsturias                     2051     458        156                 93\nBaleares                     1571     871        118                 21\nCanarias                     1958     589        102                 14\nCantabria                    1796     323        120                 19\nCastilla La Mancha          14329    2943       1714                275\nCastilla y León             13180    4266       1299                552\nCataluña                    35197   15967       3666                471\nCeuta                          96      22          4                  1\nC. Valenciana                9213    3069        907                153\nExtremadura                  2684     578        334                 26\nGalicia                      7597    1240        290                103\nMadrid                      48048   26247       6568                902\nMelilla                       101      18          2                  0\nMurcia                       1487     476        106                 24\nNavarra                      4150     730        249                 58\nPaís Vasco                  11226    5193        859                208\nLa Rioja                     3420    1519        234                 62",
      "text/html": "<div>\n<style scoped>\n    .dataframe tbody tr th:only-of-type {\n        vertical-align: middle;\n    }\n\n    .dataframe tbody tr th {\n        vertical-align: top;\n    }\n\n    .dataframe thead th {\n        text-align: right;\n    }\n</style>\n<table border=\"1\" class=\"dataframe\">\n  <thead>\n    <tr style=\"text-align: right;\">\n      <th></th>\n      <th>Confirmados</th>\n      <th>Curados</th>\n      <th>Fallecidos</th>\n      <th>Nuevos casos (24h)</th>\n    </tr>\n    <tr>\n      <th>Comunidades Autónomas</th>\n      <th></th>\n      <th></th>\n      <th></th>\n      <th></th>\n    </tr>\n  </thead>\n  <tbody>\n    <tr>\n      <th>Andalucía</th>\n      <td>10192</td>\n      <td>2032</td>\n      <td>836</td>\n      <td>5</td>\n    </tr>\n    <tr>\n      <th>Aragón</th>\n      <td>4245</td>\n      <td>963</td>\n      <td>492</td>\n      <td>58</td>\n    </tr>\n    <tr>\n      <th>Asturias</th>\n      <td>2051</td>\n      <td>458</td>\n      <td>156</td>\n      <td>93</td>\n    </tr>\n    <tr>\n      <th>Baleares</th>\n      <td>1571</td>\n      <td>871</td>\n      <td>118</td>\n      <td>21</td>\n    </tr>\n    <tr>\n      <th>Canarias</th>\n      <td>1958</td>\n      <td>589</td>\n      <td>102</td>\n      <td>14</td>\n    </tr>\n    <tr>\n      <th>Cantabria</th>\n      <td>1796</td>\n      <td>323</td>\n      <td>120</td>\n      <td>19</td>\n    </tr>\n    <tr>\n      <th>Castilla La Mancha</th>\n      <td>14329</td>\n      <td>2943</td>\n      <td>1714</td>\n      <td>275</td>\n    </tr>\n    <tr>\n      <th>Castilla y León</th>\n      <td>13180</td>\n      <td>4266</td>\n      <td>1299</td>\n      <td>552</td>\n    </tr>\n    <tr>\n      <th>Cataluña</th>\n      <td>35197</td>\n      <td>15967</td>\n      <td>3666</td>\n      <td>471</td>\n    </tr>\n    <tr>\n      <th>Ceuta</th>\n      <td>96</td>\n      <td>22</td>\n      <td>4</td>\n      <td>1</td>\n    </tr>\n    <tr>\n      <th>C. Valenciana</th>\n      <td>9213</td>\n      <td>3069</td>\n      <td>907</td>\n      <td>153</td>\n    </tr>\n    <tr>\n      <th>Extremadura</th>\n      <td>2684</td>\n      <td>578</td>\n      <td>334</td>\n      <td>26</td>\n    </tr>\n    <tr>\n      <th>Galicia</th>\n      <td>7597</td>\n      <td>1240</td>\n      <td>290</td>\n      <td>103</td>\n    </tr>\n    <tr>\n      <th>Madrid</th>\n      <td>48048</td>\n      <td>26247</td>\n      <td>6568</td>\n      <td>902</td>\n    </tr>\n    <tr>\n      <th>Melilla</th>\n      <td>101</td>\n      <td>18</td>\n      <td>2</td>\n      <td>0</td>\n    </tr>\n    <tr>\n      <th>Murcia</th>\n      <td>1487</td>\n      <td>476</td>\n      <td>106</td>\n      <td>24</td>\n    </tr>\n    <tr>\n      <th>Navarra</th>\n      <td>4150</td>\n      <td>730</td>\n      <td>249</td>\n      <td>58</td>\n    </tr>\n    <tr>\n      <th>País Vasco</th>\n      <td>11226</td>\n      <td>5193</td>\n      <td>859</td>\n      <td>208</td>\n    </tr>\n    <tr>\n      <th>La Rioja</th>\n      <td>3420</td>\n      <td>1519</td>\n      <td>234</td>\n      <td>62</td>\n    </tr>\n  </tbody>\n</table>\n</div>"
     },
     "metadata": {},
     "execution_count": 64
    }
   ],
   "source": [
    "#Exportar CSV\n",
    "data_spain_ccaa.to_csv('covid19_spain_ccaa.csv', sep = ';', encoding=\"utf-8\")\n",
    "data_spain_ccaa.head(19)"
   ]
  },
  {
   "cell_type": "markdown",
   "metadata": {},
   "source": [
    "## ESPAÑA: CSV: covid19_spain_ccaa_lineal.csv"
   ]
  },
  {
   "cell_type": "code",
   "execution_count": 65,
   "metadata": {},
   "outputs": [
    {
     "output_type": "stream",
     "name": "stdout",
     "text": "La última columna es diferente y no está: SE HACE MERGE\n"
    },
    {
     "output_type": "execute_result",
     "data": {
      "text/plain": "                       2020-03-01  2020-03-02  2020-03-03  2020-03-04  \\\nComunidades Autónomas                                                   \nAndalucía                       6          12          13          13   \nAragón                          2           2           2           2   \nAsturias                        0           1           1           2   \nBaleares                        2           2           2           5   \nCanarias                        6           7           7           7   \nCantabria                       0          10          10          10   \nCastilla La Mancha              0           3           7          12   \nCastilla y León                 2           3           5          11   \nCataluña                        3          15          15          15   \nCeuta                           0           0           0           0   \nC. Valenciana                   8          15          15          19   \nExtremadura                     0           6           6           6   \nGalicia                         0           0           0           1   \nMadrid                          6          29          49          70   \nMelilla                         0           0           0           0   \nMurcia                          0           0           0           0   \nNavarra                         0           1           1           3   \nPaís Vasco                      0           9          13          17   \nLa Rioja                        0           1           3           7   \n\n                       2020-03-05  2020-03-06  2020-03-07  2020-03-08  \\\nComunidades Autónomas                                                   \nAndalucía                      13          21          21          21   \nAragón                          2           6           6           6   \nAsturias                        5           5           5           5   \nBaleares                        6           6           6           6   \nCanarias                        8          11          11          11   \nCantabria                      10          10          10          10   \nCastilla La Mancha             13          15          15          15   \nCastilla y León                11          14          14          14   \nCataluña                       24          24          24          24   \nCeuta                           0           0           0           0   \nC. Valenciana                  19          30          30          30   \nExtremadura                     6           6           6           6   \nGalicia                         1           3           3           3   \nMadrid                         90         137         137         137   \nMelilla                         0           0           0           0   \nMurcia                          0           0           0           0   \nNavarra                         3           3           3           3   \nPaís Vasco                     17          45          45          45   \nLa Rioja                       11          29          29          29   \n\n                       2020-03-09  2020-03-10  ...  2020-04-05  2020-04-06  \\\nComunidades Autónomas                          ...                           \nAndalucía                      54          71  ...        8301        8581   \nAragón                         13          38  ...        3232        3347   \nAsturias                        7          22  ...        1605        1646   \nBaleares                       11          13  ...        1293        1320   \nCanarias                       22          25  ...        1622        1649   \nCantabria                      12          12  ...        1441        1483   \nCastilla La Mancha             26          39  ...       10031       10602   \nCastilla y León                23          56  ...        8749        9116   \nCataluña                       75         124  ...       26032       26824   \nCeuta                           0           0  ...          83          83   \nC. Valenciana                  37          50  ...        7184        7334   \nExtremadura                     7           8  ...        2047        2068   \nGalicia                         6          22  ...        5944        6151   \nMadrid                        469         782  ...       37584       38723   \nMelilla                         0           0  ...          83          86   \nMurcia                          4           9  ...        1235        1259   \nNavarra                         3          12  ...        3073        3231   \nPaís Vasco                    149         195  ...        8628        8810   \nLa Rioja                       81         144  ...        2592        2719   \n\n                       2020-04-07  2020-04-08  2020-04-09  2020-04-10  \\\nComunidades Autónomas                                                   \nAndalucía                    8767        8997        9261        9510   \nAragón                       3449        3549        3685        3831   \nAsturias                     1679        1705        1737        1799   \nBaleares                     1369        1412        1448        1488   \nCanarias                     1725        1762        1834        1858   \nCantabria                    1501        1572        1619        1659   \nCastilla La Mancha          11077       11788       12489       13063   \nCastilla y León              9581       10058       10518       11102   \nCataluña                    28323       29647       31043       31824   \nCeuta                          83          84          84          91   \nC. Valenciana                7443        7655        7964        8331   \nExtremadura                  2116        2184        2273        2332   \nGalicia                      6331        6538        6758        6946   \nMadrid                      40469       42450       43877       44783   \nMelilla                        92          93          93          95   \nMurcia                       1283        1326        1356        1383   \nNavarra                      3355        3467        3575        3748   \nPaís Vasco                   9021        9452        9806       10103   \nLa Rioja                     2846        2951        3026        3076   \n\n                       2020-04-11  2020-04-12  2020-04-13  2020-04-14  \nComunidades Autónomas                                                  \nAndalucía                    9712       10006       10187       10192  \nAragón                       3969        4070        4187        4245  \nAsturias                     1827        1892        1958        2051  \nBaleares                     1507        1534        1550        1571  \nCanarias                     1887        1918        1944        1958  \nCantabria                    1719        1752        1777        1796  \nCastilla La Mancha          13456       13698       14054       14329  \nCastilla y León             11543       12118       12628       13180  \nCataluña                    32984       34027       34726       35197  \nCeuta                          93          93          95          96  \nC. Valenciana                8578        8841        9060        9213  \nExtremadura                  2486        2580        2658        2684  \nGalicia                      7176        7336        7494        7597  \nMadrid                      45849       46587       47146       48048  \nMelilla                        98          98         101         101  \nMurcia                       1413        1449        1463        1487  \nNavarra                      3817        3969        4092        4150  \nPaís Vasco                  10515       10772       11018       11226  \nLa Rioja                     3223        3279        3358        3420  \n\n[19 rows x 45 columns]",
      "text/html": "<div>\n<style scoped>\n    .dataframe tbody tr th:only-of-type {\n        vertical-align: middle;\n    }\n\n    .dataframe tbody tr th {\n        vertical-align: top;\n    }\n\n    .dataframe thead th {\n        text-align: right;\n    }\n</style>\n<table border=\"1\" class=\"dataframe\">\n  <thead>\n    <tr style=\"text-align: right;\">\n      <th></th>\n      <th>2020-03-01</th>\n      <th>2020-03-02</th>\n      <th>2020-03-03</th>\n      <th>2020-03-04</th>\n      <th>2020-03-05</th>\n      <th>2020-03-06</th>\n      <th>2020-03-07</th>\n      <th>2020-03-08</th>\n      <th>2020-03-09</th>\n      <th>2020-03-10</th>\n      <th>...</th>\n      <th>2020-04-05</th>\n      <th>2020-04-06</th>\n      <th>2020-04-07</th>\n      <th>2020-04-08</th>\n      <th>2020-04-09</th>\n      <th>2020-04-10</th>\n      <th>2020-04-11</th>\n      <th>2020-04-12</th>\n      <th>2020-04-13</th>\n      <th>2020-04-14</th>\n    </tr>\n    <tr>\n      <th>Comunidades Autónomas</th>\n      <th></th>\n      <th></th>\n      <th></th>\n      <th></th>\n      <th></th>\n      <th></th>\n      <th></th>\n      <th></th>\n      <th></th>\n      <th></th>\n      <th></th>\n      <th></th>\n      <th></th>\n      <th></th>\n      <th></th>\n      <th></th>\n      <th></th>\n      <th></th>\n      <th></th>\n      <th></th>\n      <th></th>\n    </tr>\n  </thead>\n  <tbody>\n    <tr>\n      <th>Andalucía</th>\n      <td>6</td>\n      <td>12</td>\n      <td>13</td>\n      <td>13</td>\n      <td>13</td>\n      <td>21</td>\n      <td>21</td>\n      <td>21</td>\n      <td>54</td>\n      <td>71</td>\n      <td>...</td>\n      <td>8301</td>\n      <td>8581</td>\n      <td>8767</td>\n      <td>8997</td>\n      <td>9261</td>\n      <td>9510</td>\n      <td>9712</td>\n      <td>10006</td>\n      <td>10187</td>\n      <td>10192</td>\n    </tr>\n    <tr>\n      <th>Aragón</th>\n      <td>2</td>\n      <td>2</td>\n      <td>2</td>\n      <td>2</td>\n      <td>2</td>\n      <td>6</td>\n      <td>6</td>\n      <td>6</td>\n      <td>13</td>\n      <td>38</td>\n      <td>...</td>\n      <td>3232</td>\n      <td>3347</td>\n      <td>3449</td>\n      <td>3549</td>\n      <td>3685</td>\n      <td>3831</td>\n      <td>3969</td>\n      <td>4070</td>\n      <td>4187</td>\n      <td>4245</td>\n    </tr>\n    <tr>\n      <th>Asturias</th>\n      <td>0</td>\n      <td>1</td>\n      <td>1</td>\n      <td>2</td>\n      <td>5</td>\n      <td>5</td>\n      <td>5</td>\n      <td>5</td>\n      <td>7</td>\n      <td>22</td>\n      <td>...</td>\n      <td>1605</td>\n      <td>1646</td>\n      <td>1679</td>\n      <td>1705</td>\n      <td>1737</td>\n      <td>1799</td>\n      <td>1827</td>\n      <td>1892</td>\n      <td>1958</td>\n      <td>2051</td>\n    </tr>\n    <tr>\n      <th>Baleares</th>\n      <td>2</td>\n      <td>2</td>\n      <td>2</td>\n      <td>5</td>\n      <td>6</td>\n      <td>6</td>\n      <td>6</td>\n      <td>6</td>\n      <td>11</td>\n      <td>13</td>\n      <td>...</td>\n      <td>1293</td>\n      <td>1320</td>\n      <td>1369</td>\n      <td>1412</td>\n      <td>1448</td>\n      <td>1488</td>\n      <td>1507</td>\n      <td>1534</td>\n      <td>1550</td>\n      <td>1571</td>\n    </tr>\n    <tr>\n      <th>Canarias</th>\n      <td>6</td>\n      <td>7</td>\n      <td>7</td>\n      <td>7</td>\n      <td>8</td>\n      <td>11</td>\n      <td>11</td>\n      <td>11</td>\n      <td>22</td>\n      <td>25</td>\n      <td>...</td>\n      <td>1622</td>\n      <td>1649</td>\n      <td>1725</td>\n      <td>1762</td>\n      <td>1834</td>\n      <td>1858</td>\n      <td>1887</td>\n      <td>1918</td>\n      <td>1944</td>\n      <td>1958</td>\n    </tr>\n    <tr>\n      <th>Cantabria</th>\n      <td>0</td>\n      <td>10</td>\n      <td>10</td>\n      <td>10</td>\n      <td>10</td>\n      <td>10</td>\n      <td>10</td>\n      <td>10</td>\n      <td>12</td>\n      <td>12</td>\n      <td>...</td>\n      <td>1441</td>\n      <td>1483</td>\n      <td>1501</td>\n      <td>1572</td>\n      <td>1619</td>\n      <td>1659</td>\n      <td>1719</td>\n      <td>1752</td>\n      <td>1777</td>\n      <td>1796</td>\n    </tr>\n    <tr>\n      <th>Castilla La Mancha</th>\n      <td>0</td>\n      <td>3</td>\n      <td>7</td>\n      <td>12</td>\n      <td>13</td>\n      <td>15</td>\n      <td>15</td>\n      <td>15</td>\n      <td>26</td>\n      <td>39</td>\n      <td>...</td>\n      <td>10031</td>\n      <td>10602</td>\n      <td>11077</td>\n      <td>11788</td>\n      <td>12489</td>\n      <td>13063</td>\n      <td>13456</td>\n      <td>13698</td>\n      <td>14054</td>\n      <td>14329</td>\n    </tr>\n    <tr>\n      <th>Castilla y León</th>\n      <td>2</td>\n      <td>3</td>\n      <td>5</td>\n      <td>11</td>\n      <td>11</td>\n      <td>14</td>\n      <td>14</td>\n      <td>14</td>\n      <td>23</td>\n      <td>56</td>\n      <td>...</td>\n      <td>8749</td>\n      <td>9116</td>\n      <td>9581</td>\n      <td>10058</td>\n      <td>10518</td>\n      <td>11102</td>\n      <td>11543</td>\n      <td>12118</td>\n      <td>12628</td>\n      <td>13180</td>\n    </tr>\n    <tr>\n      <th>Cataluña</th>\n      <td>3</td>\n      <td>15</td>\n      <td>15</td>\n      <td>15</td>\n      <td>24</td>\n      <td>24</td>\n      <td>24</td>\n      <td>24</td>\n      <td>75</td>\n      <td>124</td>\n      <td>...</td>\n      <td>26032</td>\n      <td>26824</td>\n      <td>28323</td>\n      <td>29647</td>\n      <td>31043</td>\n      <td>31824</td>\n      <td>32984</td>\n      <td>34027</td>\n      <td>34726</td>\n      <td>35197</td>\n    </tr>\n    <tr>\n      <th>Ceuta</th>\n      <td>0</td>\n      <td>0</td>\n      <td>0</td>\n      <td>0</td>\n      <td>0</td>\n      <td>0</td>\n      <td>0</td>\n      <td>0</td>\n      <td>0</td>\n      <td>0</td>\n      <td>...</td>\n      <td>83</td>\n      <td>83</td>\n      <td>83</td>\n      <td>84</td>\n      <td>84</td>\n      <td>91</td>\n      <td>93</td>\n      <td>93</td>\n      <td>95</td>\n      <td>96</td>\n    </tr>\n    <tr>\n      <th>C. Valenciana</th>\n      <td>8</td>\n      <td>15</td>\n      <td>15</td>\n      <td>19</td>\n      <td>19</td>\n      <td>30</td>\n      <td>30</td>\n      <td>30</td>\n      <td>37</td>\n      <td>50</td>\n      <td>...</td>\n      <td>7184</td>\n      <td>7334</td>\n      <td>7443</td>\n      <td>7655</td>\n      <td>7964</td>\n      <td>8331</td>\n      <td>8578</td>\n      <td>8841</td>\n      <td>9060</td>\n      <td>9213</td>\n    </tr>\n    <tr>\n      <th>Extremadura</th>\n      <td>0</td>\n      <td>6</td>\n      <td>6</td>\n      <td>6</td>\n      <td>6</td>\n      <td>6</td>\n      <td>6</td>\n      <td>6</td>\n      <td>7</td>\n      <td>8</td>\n      <td>...</td>\n      <td>2047</td>\n      <td>2068</td>\n      <td>2116</td>\n      <td>2184</td>\n      <td>2273</td>\n      <td>2332</td>\n      <td>2486</td>\n      <td>2580</td>\n      <td>2658</td>\n      <td>2684</td>\n    </tr>\n    <tr>\n      <th>Galicia</th>\n      <td>0</td>\n      <td>0</td>\n      <td>0</td>\n      <td>1</td>\n      <td>1</td>\n      <td>3</td>\n      <td>3</td>\n      <td>3</td>\n      <td>6</td>\n      <td>22</td>\n      <td>...</td>\n      <td>5944</td>\n      <td>6151</td>\n      <td>6331</td>\n      <td>6538</td>\n      <td>6758</td>\n      <td>6946</td>\n      <td>7176</td>\n      <td>7336</td>\n      <td>7494</td>\n      <td>7597</td>\n    </tr>\n    <tr>\n      <th>Madrid</th>\n      <td>6</td>\n      <td>29</td>\n      <td>49</td>\n      <td>70</td>\n      <td>90</td>\n      <td>137</td>\n      <td>137</td>\n      <td>137</td>\n      <td>469</td>\n      <td>782</td>\n      <td>...</td>\n      <td>37584</td>\n      <td>38723</td>\n      <td>40469</td>\n      <td>42450</td>\n      <td>43877</td>\n      <td>44783</td>\n      <td>45849</td>\n      <td>46587</td>\n      <td>47146</td>\n      <td>48048</td>\n    </tr>\n    <tr>\n      <th>Melilla</th>\n      <td>0</td>\n      <td>0</td>\n      <td>0</td>\n      <td>0</td>\n      <td>0</td>\n      <td>0</td>\n      <td>0</td>\n      <td>0</td>\n      <td>0</td>\n      <td>0</td>\n      <td>...</td>\n      <td>83</td>\n      <td>86</td>\n      <td>92</td>\n      <td>93</td>\n      <td>93</td>\n      <td>95</td>\n      <td>98</td>\n      <td>98</td>\n      <td>101</td>\n      <td>101</td>\n    </tr>\n    <tr>\n      <th>Murcia</th>\n      <td>0</td>\n      <td>0</td>\n      <td>0</td>\n      <td>0</td>\n      <td>0</td>\n      <td>0</td>\n      <td>0</td>\n      <td>0</td>\n      <td>4</td>\n      <td>9</td>\n      <td>...</td>\n      <td>1235</td>\n      <td>1259</td>\n      <td>1283</td>\n      <td>1326</td>\n      <td>1356</td>\n      <td>1383</td>\n      <td>1413</td>\n      <td>1449</td>\n      <td>1463</td>\n      <td>1487</td>\n    </tr>\n    <tr>\n      <th>Navarra</th>\n      <td>0</td>\n      <td>1</td>\n      <td>1</td>\n      <td>3</td>\n      <td>3</td>\n      <td>3</td>\n      <td>3</td>\n      <td>3</td>\n      <td>3</td>\n      <td>12</td>\n      <td>...</td>\n      <td>3073</td>\n      <td>3231</td>\n      <td>3355</td>\n      <td>3467</td>\n      <td>3575</td>\n      <td>3748</td>\n      <td>3817</td>\n      <td>3969</td>\n      <td>4092</td>\n      <td>4150</td>\n    </tr>\n    <tr>\n      <th>País Vasco</th>\n      <td>0</td>\n      <td>9</td>\n      <td>13</td>\n      <td>17</td>\n      <td>17</td>\n      <td>45</td>\n      <td>45</td>\n      <td>45</td>\n      <td>149</td>\n      <td>195</td>\n      <td>...</td>\n      <td>8628</td>\n      <td>8810</td>\n      <td>9021</td>\n      <td>9452</td>\n      <td>9806</td>\n      <td>10103</td>\n      <td>10515</td>\n      <td>10772</td>\n      <td>11018</td>\n      <td>11226</td>\n    </tr>\n    <tr>\n      <th>La Rioja</th>\n      <td>0</td>\n      <td>1</td>\n      <td>3</td>\n      <td>7</td>\n      <td>11</td>\n      <td>29</td>\n      <td>29</td>\n      <td>29</td>\n      <td>81</td>\n      <td>144</td>\n      <td>...</td>\n      <td>2592</td>\n      <td>2719</td>\n      <td>2846</td>\n      <td>2951</td>\n      <td>3026</td>\n      <td>3076</td>\n      <td>3223</td>\n      <td>3279</td>\n      <td>3358</td>\n      <td>3420</td>\n    </tr>\n  </tbody>\n</table>\n<p>19 rows × 45 columns</p>\n</div>"
     },
     "metadata": {},
     "execution_count": 65
    }
   ],
   "source": [
    "# Casos confirmados por ccaa temporal\n",
    "\n",
    "# Cojo la fila de confirmados que me interesa\n",
    "data_spain_ccaa_last = data_spain_ccaa.copy()\n",
    "data_spain_ccaa_last.rename(columns = {'Confirmados': date_today_large}, index={'ccaa': 'Comunidades Autónomas'}, inplace = True)\n",
    "data_spain_ccaa_last = data_spain_ccaa_last[date_today_large]\n",
    "data_spain_ccaa_last = pd.to_numeric(data_spain_ccaa_last).astype(np.int64)\n",
    "data_spain_ccaa_last.head()\n",
    "\n",
    "#HACER MERGE SI NO ESTÁN ESOS DATOS\n",
    "\n",
    "# Importo los últimos datos recogidos acumulados anteriormente\n",
    "data_process = pd.read_csv(\"covid19_spain_ccaa_evolution2.csv\", sep = ';', encoding=\"utf-8\")\n",
    "data_process = data_process.set_index('Comunidades Autónomas')\n",
    "\n",
    "# Hacer merge de ambos dataframes, con un condicional comprobando si es necesario\n",
    "if data_process.columns[-1] == data_spain_ccaa_last.name:\n",
    "    print('La columna ya está: NO hacer merge y no se exporta tabla')\n",
    "else:\n",
    "    print('La última columna es diferente y no está: SE HACE MERGE')\n",
    "    data_process = pd.merge(data_process,data_spain_ccaa_last, left_index=True, right_index=True)\n",
    "    #Exportar a CSV\n",
    "    data_process.to_csv('covid19_spain_ccaa_evolution2.csv', sep = ';', encoding=\"utf-8\", index=True, index_label='Comunidades Autónomas')\n",
    "\n",
    "data_process"
   ]
  },
  {
   "cell_type": "markdown",
   "metadata": {},
   "source": [
    "## ESPAÑA: Análisis rangos de esas: CSV"
   ]
  },
  {
   "cell_type": "code",
   "execution_count": 66,
   "metadata": {},
   "outputs": [
    {
     "output_type": "execute_result",
     "data": {
      "text/plain": "               Confirmados  Hospitalizados  Fallecidos\nRango de edad                                         \n0-9                    184              63           1\n10-19                  344              71           1\n20-29                 4004             463           5\n30-39                 6981            1139          15\n40-49                10011            2199          39\n50-59                12123            3557          89\n60-69                 9154            4517         262\n70-79                 7912            5427         775\n80-89                 8596            4978        1643\n90 y +                4020            1708         897",
      "text/html": "<div>\n<style scoped>\n    .dataframe tbody tr th:only-of-type {\n        vertical-align: middle;\n    }\n\n    .dataframe tbody tr th {\n        vertical-align: top;\n    }\n\n    .dataframe thead th {\n        text-align: right;\n    }\n</style>\n<table border=\"1\" class=\"dataframe\">\n  <thead>\n    <tr style=\"text-align: right;\">\n      <th></th>\n      <th>Confirmados</th>\n      <th>Hospitalizados</th>\n      <th>Fallecidos</th>\n    </tr>\n    <tr>\n      <th>Rango de edad</th>\n      <th></th>\n      <th></th>\n      <th></th>\n    </tr>\n  </thead>\n  <tbody>\n    <tr>\n      <th>0-9</th>\n      <td>184</td>\n      <td>63</td>\n      <td>1</td>\n    </tr>\n    <tr>\n      <th>10-19</th>\n      <td>344</td>\n      <td>71</td>\n      <td>1</td>\n    </tr>\n    <tr>\n      <th>20-29</th>\n      <td>4004</td>\n      <td>463</td>\n      <td>5</td>\n    </tr>\n    <tr>\n      <th>30-39</th>\n      <td>6981</td>\n      <td>1139</td>\n      <td>15</td>\n    </tr>\n    <tr>\n      <th>40-49</th>\n      <td>10011</td>\n      <td>2199</td>\n      <td>39</td>\n    </tr>\n    <tr>\n      <th>50-59</th>\n      <td>12123</td>\n      <td>3557</td>\n      <td>89</td>\n    </tr>\n    <tr>\n      <th>60-69</th>\n      <td>9154</td>\n      <td>4517</td>\n      <td>262</td>\n    </tr>\n    <tr>\n      <th>70-79</th>\n      <td>7912</td>\n      <td>5427</td>\n      <td>775</td>\n    </tr>\n    <tr>\n      <th>80-89</th>\n      <td>8596</td>\n      <td>4978</td>\n      <td>1643</td>\n    </tr>\n    <tr>\n      <th>90 y +</th>\n      <td>4020</td>\n      <td>1708</td>\n      <td>897</td>\n    </tr>\n  </tbody>\n</table>\n</div>"
     },
     "metadata": {},
     "execution_count": 66
    }
   ],
   "source": [
    "data_spain_ccaa_age = pd.read_csv(\"https://raw.githubusercontent.com/datadista/datasets/master/COVID%2019/nacional_covid19_rango_edad.csv\", \n",
    "                                  sep = ',', encoding=\"utf-8\")\n",
    "data_spain_ccaa_age = data_spain_ccaa_age[data_spain_ccaa_age[\"fecha\"] == date_today_large]\n",
    "\n",
    "def take_edad(sexo):\n",
    "    data_spain_ccaa_age_all = data_spain_ccaa_age[data_spain_ccaa_age[\"sexo\"] == sexo]\n",
    "    #Para sacar datos total\n",
    "    data_spain_ccaa_age_total = data_spain_ccaa_age_all.tail(1)\n",
    "    data_spain_ccaa_age_total = data_spain_ccaa_age_total.iloc[:, [3,4,6]]\n",
    "    data_spain_ccaa_age_total.columns = ['Confirmados','Hospitalizados', 'Fallecidos']\n",
    "    #Para sacar datos concretos (de ambos, hombres y mujeres)\n",
    "    data_spain_ccaa_age_concrete = data_spain_ccaa_age_all[:-1]\n",
    "    data_spain_ccaa_age_concrete = data_spain_ccaa_age_concrete.iloc[:, [1,3,4,6]]\n",
    "    data_spain_ccaa_age_concrete.columns = ['Rango de edad','Confirmados','Hospitalizados', 'Fallecidos']\n",
    "    data_spain_ccaa_age_concrete.set_index('Rango de edad', inplace=True)\n",
    "    return data_spain_ccaa_age_concrete, data_spain_ccaa_age_total\n",
    "\n",
    "\n",
    "data_spain_ccaa_age_ambos_concrete, data_spain_ccaa_age_ambos_total = take_edad('ambos')\n",
    "data_spain_ccaa_age_hombres_concrete, data_spain_ccaa_age_hombres_total = take_edad('hombres')\n",
    "data_spain_ccaa_age_mujeres_concrete, data_spain_ccaa_age_mujeres_total = take_edad('mujeres')\n",
    "\n",
    "\n",
    "data_spain_ccaa_age_ambos_total.index = ['Total ambos sexos']\n",
    "data_spain_ccaa_age_hombres_total.index = ['Total hombres']\n",
    "data_spain_ccaa_age_mujeres_total.index = ['Total mujeres']\n",
    "data_spain_ccaa_age_ambos_concat = pd.concat([data_spain_ccaa_age_mujeres_total, data_spain_ccaa_age_hombres_total, \n",
    "                                             data_spain_ccaa_age_ambos_total], axis=0)\n",
    "\n",
    "data_spain_ccaa_age_mujeres_concrete.to_csv('covid19_spain_ccaa_ages_mujeres.csv', sep = ';', encoding=\"utf-8\")\n",
    "data_spain_ccaa_age_hombres_concrete.to_csv('covid19_spain_ccaa_ages_hombres.csv', sep = ';', encoding=\"utf-8\")\n",
    "data_spain_ccaa_age_ambos_concat.to_csv('covid19_spain_ccaa_ages_ambos.csv', sep = ';', encoding=\"utf-8\")\n",
    "\n",
    "data_spain_ccaa_age_mujeres_concrete"
   ]
  },
  {
   "cell_type": "markdown",
   "metadata": {},
   "source": [
    "# Subir archivos a SERVIDOR desde FTP"
   ]
  },
  {
   "cell_type": "code",
   "execution_count": 67,
   "metadata": {},
   "outputs": [],
   "source": [
    "import csv\n",
    "from ftplib import FTP\n",
    "from io import StringIO"
   ]
  },
  {
   "cell_type": "code",
   "execution_count": 68,
   "metadata": {},
   "outputs": [
    {
     "output_type": "stream",
     "name": "stdout",
     "text": "230-OK. Current restricted directory is /\n230 318 Kbytes used (0%) - authorized: 51200 Kb\ndrwxr-xr-x    2 akakicre   akakicre         4096 Apr 11 10:51 .\ndrwxr-xr-x    2 akakicre   akakicre         4096 Apr 11 10:51 ..\n-rw-------    1 akakicre   akakicre           10 Apr 13 12:22 .ftpquota\n-rw-r--r--    1 akakicre   akakicre       260069 Apr  3 12:34 Imagen_github.jpg\n-rw-r--r--    1 akakicre   akakicre          266 Apr 13 12:22 covid19_data_drive_actual.csv\n-rw-r--r--    1 akakicre   akakicre         2785 Apr 13 12:22 covid19_data_drive_days.csv\n-rw-r--r--    1 akakicre   akakicre         3487 Apr 13 12:22 covid19_data_drive_from100.csv\n-rw-r--r--    1 akakicre   akakicre          216 Apr 13 12:22 covid19_data_drive_resume.csv\n-rw-r--r--    1 akakicre   akakicre          589 Apr 13 12:22 covid19_spain_ccaa.csv\n-rw-r--r--    1 akakicre   akakicre          235 Apr 13 12:22 covid19_spain_ccaa_ages.csv\n-rw-r--r--    1 akakicre   akakicre          137 Apr 13 12:22 covid19_spain_ccaa_ages_ambos.csv\n-rw-r--r--    1 akakicre   akakicre          242 Apr 13 12:22 covid19_spain_ccaa_ages_hombres.csv\n-rw-r--r--    1 akakicre   akakicre          237 Apr 13 12:22 covid19_spain_ccaa_ages_mujeres.csv\n-rw-r--r--    1 akakicre   akakicre         4044 Apr 13 12:22 covid19_spain_ccaa_evolution2.csv\n-rw-r--r--    1 akakicre   akakicre          226 Apr  6 08:42 covid19_spain_ccaa_hombres.csv\n-rw-r--r--    1 akakicre   akakicre         1104 Apr 13 12:22 data_somecountries_newcases24h.csv\n-rw-r--r--    1 akakicre   akakicre         1010 Apr 13 12:22 data_spain_newcases24h.csv\n-rw-r--r--    1 akakicre   akakicre          608 Apr 13 12:22 data_spain_newcases24h_deaths.csv\n-rw-r--r--    1 akakicre   akakicre          323 Apr 10 18:43 data_spain_newcases24h_detahs.csv\n-rw-r--r--    1 akakicre   akakicre          782 Apr 11 10:50 data_spainanditaly_newcases24h.csv\n-rw-r--r--    1 akakicre   akakicre        60965 Apr  6 08:09 diseno4_covid19.jpg\nNone\n"
    }
   ],
   "source": [
    "# Ayuda: https://www.pythoncircle.com/post/668/uploading-a-file-to-ftp-server-using-python/\n",
    "\n",
    "passw = pd.read_csv(\"pass.txt\", sep = ',', encoding=\"utf-8\")\n",
    "host = \"akakicreations.com\"\n",
    "username = passw.columns[0]\n",
    "password = passw.columns[1]\n",
    "\n",
    "ftp = FTP(host=host)\n",
    "\n",
    "login_status = ftp.login(user=username, passwd=password)\n",
    "print(login_status)\n",
    "\n",
    "print(ftp.dir())\n",
    "fp = open(\"covid19_data_drive_days.csv\", 'rb')\n",
    "ftp.storbinary('STOR %s' % os.path.basename(\"covid19_data_drive_days.csv\"), fp, 1024)\n",
    "fp = open(\"covid19_data_drive_from100.csv\", 'rb')\n",
    "ftp.storbinary('STOR %s' % os.path.basename(\"covid19_data_drive_from100.csv\"), fp, 1024)\n",
    "fp = open(\"covid19_spain_ccaa.csv\", 'rb')\n",
    "ftp.storbinary('STOR %s' % os.path.basename(\"covid19_spain_ccaa.csv\"), fp, 1024)\n",
    "fp = open(\"covid19_spain_ccaa_evolution2.csv\", 'rb')\n",
    "ftp.storbinary('STOR %s' % os.path.basename(\"covid19_spain_ccaa_evolution2.csv\"), fp, 1024)\n",
    "fp = open(\"covid19_data_drive_actual.csv\", 'rb')\n",
    "ftp.storbinary('STOR %s' % os.path.basename(\"covid19_data_drive_actual.csv\"), fp, 1024)\n",
    "fp = open(\"covid19_data_drive_resume.csv\", 'rb')\n",
    "ftp.storbinary('STOR %s' % os.path.basename(\"covid19_data_drive_resume.csv\"), fp, 1024)\n",
    "fp = open(\"covid19_spain_ccaa_ages.csv\", 'rb')\n",
    "ftp.storbinary('STOR %s' % os.path.basename(\"covid19_spain_ccaa_ages.csv\"), fp, 1024)\n",
    "fp = open(\"covid19_spain_ccaa_ages_mujeres.csv\", 'rb')\n",
    "ftp.storbinary('STOR %s' % os.path.basename(\"covid19_spain_ccaa_ages_mujeres.csv\"), fp, 1024)\n",
    "fp = open(\"covid19_spain_ccaa_ages_hombres.csv\", 'rb')\n",
    "ftp.storbinary('STOR %s' % os.path.basename(\"covid19_spain_ccaa_ages_hombres.csv\"), fp, 1024)\n",
    "fp = open(\"covid19_spain_ccaa_ages_ambos.csv\", 'rb')\n",
    "ftp.storbinary('STOR %s' % os.path.basename(\"covid19_spain_ccaa_ages_ambos.csv\"), fp, 1024)\n",
    "fp = open(\"data_spain_newcases24h.csv\", 'rb')\n",
    "ftp.storbinary('STOR %s' % os.path.basename(\"data_spain_newcases24h.csv\"), fp, 1024)\n",
    "fp = open(\"data_spain_newcases24h_deaths.csv\", 'rb')\n",
    "ftp.storbinary('STOR %s' % os.path.basename(\"data_spain_newcases24h_deaths.csv\"), fp, 1024)\n",
    "fp = open(\"data_somecountries_newcases24h.csv\", 'rb')\n",
    "ftp.storbinary('STOR %s' % os.path.basename(\"data_somecountries_newcases24h.csv\"), fp, 1024)\n",
    "fp.close()\n",
    ""
   ]
  },
  {
   "cell_type": "code",
   "execution_count": null,
   "metadata": {},
   "outputs": [],
   "source": []
  }
 ],
 "metadata": {
  "file_extension": ".py",
  "kernelspec": {
   "display_name": "Python 3",
   "language": "python",
   "name": "python3"
  },
  "language_info": {
   "codemirror_mode": {
    "name": "ipython",
    "version": 3
   },
   "file_extension": ".py",
   "mimetype": "text/x-python",
   "name": "python",
   "nbconvert_exporter": "python",
   "pygments_lexer": "ipython3",
   "version": "3.7.3-final"
  },
  "mimetype": "text/x-python",
  "name": "python",
  "npconvert_exporter": "python",
  "pygments_lexer": "ipython3",
  "version": 3
 },
 "nbformat": 4,
 "nbformat_minor": 4
}